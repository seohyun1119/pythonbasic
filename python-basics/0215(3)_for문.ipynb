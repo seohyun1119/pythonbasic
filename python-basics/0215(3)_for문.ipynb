{
 "cells": [
  {
   "cell_type": "code",
   "execution_count": 1,
   "id": "8ab41af9-532f-48fd-96a1-fabe91a6ae60",
   "metadata": {},
   "outputs": [],
   "source": [
    "# 슬라이싱\n",
    "a = [0, 1, 2, 3, 4, 5, 6, 7]"
   ]
  },
  {
   "cell_type": "code",
   "execution_count": 2,
   "id": "41f58471-de53-4f9a-89f5-d70411f08e52",
   "metadata": {},
   "outputs": [
    {
     "data": {
      "text/plain": [
       "[0, 2, 4]"
      ]
     },
     "execution_count": 2,
     "metadata": {},
     "output_type": "execute_result"
    }
   ],
   "source": [
    "a[0:5:2]"
   ]
  },
  {
   "cell_type": "code",
   "execution_count": 9,
   "id": "a0fb8181-90bf-49a8-bf60-4e8180046356",
   "metadata": {},
   "outputs": [
    {
     "name": "stdout",
     "output_type": "stream",
     "text": [
      "[0, 1, 2, 3, 4, 5, 6, 7]\n",
      "[0, 1, 2, 3, 4, 5, 6, 7]\n"
     ]
    }
   ],
   "source": [
    "# range(시작하는 숫자(포함)=0, 끝숫자(미포함), 증감=1)\n",
    "# 함수를 호출할 때 소괄호를 사용함\n",
    "# 인수(arguments)가 여럿일 때, 콤마(,)로 구분한다.\n",
    "# range는 연속된 숫자를 만드는데 특화되어 있음\n",
    "# for문은 반복 실행하는데 특화되어 있음\n",
    "\n",
    "print(list(range(0, 8, 1)))  # iterable\n",
    "print(list(range(8)))"
   ]
  },
  {
   "cell_type": "code",
   "execution_count": 10,
   "id": "56569560-c20a-448b-bba3-edae04c51f49",
   "metadata": {},
   "outputs": [
    {
     "data": {
      "text/plain": [
       "range"
      ]
     },
     "execution_count": 10,
     "metadata": {},
     "output_type": "execute_result"
    }
   ],
   "source": [
    "type(range(1))"
   ]
  },
  {
   "cell_type": "code",
   "execution_count": 11,
   "id": "42ad76dc-0614-4b49-86b6-28336d811c38",
   "metadata": {},
   "outputs": [],
   "source": [
    "# list vs. range가 동작하는 큰 차이점\n",
    "# list는 메모리상에 미리 다 만들어 놓음\n",
    "# range는 필요할 떄 메모리에 만듦"
   ]
  },
  {
   "cell_type": "code",
   "execution_count": 14,
   "id": "61e19c92-b46d-425c-802e-f5c069f86d6b",
   "metadata": {},
   "outputs": [
    {
     "name": "stdout",
     "output_type": "stream",
     "text": [
      "hello\n",
      "hi\n",
      "hello\n",
      "hi\n",
      "hello\n",
      "hi\n",
      "hello\n",
      "hi\n",
      "hello\n",
      "hi\n"
     ]
    }
   ],
   "source": [
    "# 여기서의 range는 0부터 999까지의 숫자를 생성한다.\n",
    "for n in range(5):  # iterable\n",
    "    print(\"hello\")\n",
    "    print(\"hi\")"
   ]
  }
 ],
 "metadata": {
  "kernelspec": {
   "display_name": "Python 3 (ipykernel)",
   "language": "python",
   "name": "python3"
  },
  "language_info": {
   "codemirror_mode": {
    "name": "ipython",
    "version": 3
   },
   "file_extension": ".py",
   "mimetype": "text/x-python",
   "name": "python",
   "nbconvert_exporter": "python",
   "pygments_lexer": "ipython3",
   "version": "3.9.13"
  }
 },
 "nbformat": 4,
 "nbformat_minor": 5
}
