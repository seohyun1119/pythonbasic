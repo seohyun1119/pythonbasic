{
 "cells": [
  {
   "cell_type": "code",
   "execution_count": 2,
   "id": "6d46103f-2363-4ba2-86c6-e32178aa3a97",
   "metadata": {},
   "outputs": [
    {
     "name": "stdout",
     "output_type": "stream",
     "text": [
      "hello\n"
     ]
    }
   ],
   "source": [
    "# if: 조건이 맞을 때만 실행하라.\n",
    "\n",
    "if True:\n",
    "    print(\"hello\")"
   ]
  },
  {
   "cell_type": "code",
   "execution_count": 4,
   "id": "fe875bba-2022-418c-91e6-12f7e482e4ee",
   "metadata": {},
   "outputs": [
    {
     "name": "stdout",
     "output_type": "stream",
     "text": [
      "a는 정수입니다.\n"
     ]
    }
   ],
   "source": [
    "a = 100\n",
    "\n",
    "# a라는 변수의 타입이 int라면 True, int가 아니라면 False\n",
    "\n",
    "if type(a) is int:\n",
    "    print(\"a는 정수입니다.\")"
   ]
  },
  {
   "cell_type": "code",
   "execution_count": 5,
   "id": "a0141766-3c8e-4adc-8d4d-2a671780033e",
   "metadata": {},
   "outputs": [],
   "source": [
    "a = \"100\"\n",
    "\n",
    "# a라는 변수의 타입이 int라면 True, int가 아니라면 False\n",
    "\n",
    "if type(a) is int:\n",
    "    print(\"a는 정수입니다.\")"
   ]
  },
  {
   "cell_type": "code",
   "execution_count": 10,
   "id": "73b72f4e-18b5-40e9-b1c1-668a2b4edd24",
   "metadata": {},
   "outputs": [
    {
     "name": "stdout",
     "output_type": "stream",
     "text": [
      "<class 'str'>\n",
      "\n",
      "b는 문자열입니다.\n"
     ]
    }
   ],
   "source": [
    "b = \"10\"\n",
    "print(type(b))\n",
    "\n",
    "if type(b) is int:\n",
    "    print(\"\\nb는 정수입니다.\")\n",
    "    \n",
    "# 앞의 조건이 전부 False일 때만 실행되는 부분입니다.\n",
    "elif type(b) is str:\n",
    "    print(\"\\nb는 문자열입니다.\")"
   ]
  },
  {
   "cell_type": "code",
   "execution_count": 12,
   "id": "8c5e5eca-0bcc-4f43-a7cb-1dd22685f367",
   "metadata": {},
   "outputs": [
    {
     "name": "stdout",
     "output_type": "stream",
     "text": [
      "<class 'int'>\n",
      "\n",
      "b는 정수입니다.\n"
     ]
    }
   ],
   "source": [
    "b = 10\n",
    "print(type(b))\n",
    "\n",
    "if type(b) is int:\n",
    "    print(\"\\nb는 정수입니다.\")\n",
    "    \n",
    "# 앞의 조건이 전부 False일 때만 실행되는 부분입니다.\n",
    "elif type(b) is str:\n",
    "    print(\"\\nb는 문자열입니다.\")"
   ]
  },
  {
   "cell_type": "code",
   "execution_count": 15,
   "id": "6b118523-4da7-4792-bb8b-48f79927b5b0",
   "metadata": {},
   "outputs": [
    {
     "name": "stdout",
     "output_type": "stream",
     "text": [
      "<class 'int'>\n",
      "\n",
      "b는 정수입니다.\n"
     ]
    }
   ],
   "source": [
    "b = 10\n",
    "print(type(b))\n",
    "\n",
    "if type(b) is int:\n",
    "    print(\"\\nb는 정수입니다.\")\n",
    "    \n",
    "# 앞의 조건이 전부 False일 때만 실행되는 부분입니다.\n",
    "# 앞의 조건이 True일 때는 실행되지 않습니다.\n",
    "elif True: #type(b) is not int\n",
    "    print(\"\\nb는 문자열입니다.\")"
   ]
  },
  {
   "cell_type": "code",
   "execution_count": 26,
   "id": "4ddab0d2-d496-4315-8f48-2f5d6a0c9bc0",
   "metadata": {},
   "outputs": [
    {
     "name": "stdout",
     "output_type": "stream",
     "text": [
      "시작\n",
      "10보다 작고, 5보다도 작습니다.\n",
      "끝\n"
     ]
    }
   ],
   "source": [
    "c = 4\n",
    "print(\"시작\")\n",
    "\n",
    "if c>10:\n",
    "    print(\"10보다 큽니다.\")\n",
    "    \n",
    "elif c<5:\n",
    "    print(\"10보다 작고, 5보다도 작습니다.\")\n",
    "    \n",
    "elif True:\n",
    "    print(\"10보다 작고, 5보단 큽니다.\")\n",
    "    \n",
    "print(\"끝\")"
   ]
  },
  {
   "cell_type": "code",
   "execution_count": 31,
   "id": "ae2dcf17-0842-4461-be8a-d4b46a56c257",
   "metadata": {},
   "outputs": [
    {
     "name": "stdout",
     "output_type": "stream",
     "text": [
      "시작\n",
      "우\n",
      "끝\n"
     ]
    }
   ],
   "source": [
    "c = 89  # 0~100 점수\n",
    "print(\"시작\")\n",
    "\n",
    "if c>90:  # false일 경우, c<90이라는 것을 내포하고 있음\n",
    "    print(\"수\")\n",
    "    \n",
    "elif 90>c and c>=80:  # false일 경우, c<80이라는 것을 내포하고 있음\n",
    "    print(\"우\")\n",
    "    \n",
    "elif 80>c and c>=70:\n",
    "    print(\"미\")\n",
    "    \n",
    "print(\"끝\")"
   ]
  },
  {
   "cell_type": "code",
   "execution_count": 33,
   "id": "8b683ffc-6337-408e-8165-378e6e65dcd7",
   "metadata": {},
   "outputs": [
    {
     "name": "stdout",
     "output_type": "stream",
     "text": [
      "30대입니다.\n",
      "감사합니다.\n"
     ]
    }
   ],
   "source": [
    "age = 39\n",
    "\n",
    "if 20<=age<30:\n",
    "    print(\"20대입니다.\")\n",
    "elif 30<=age<40:\n",
    "    print(\"30대입니다.\")\n",
    "    \n",
    "print(\"감사합니다.\")"
   ]
  },
  {
   "cell_type": "code",
   "execution_count": 37,
   "id": "8b30a7a2-5482-4336-9017-09251e2a55a7",
   "metadata": {},
   "outputs": [
    {
     "name": "stdout",
     "output_type": "stream",
     "text": [
      "오우... 불혹을 넘기셨군요.\n",
      "\n",
      "감사합니다.\n"
     ]
    }
   ],
   "source": [
    "# if문과 elif문 그리고 else문\n",
    "\n",
    "age = 40\n",
    "\n",
    "if 20<=age<30:\n",
    "    print(\"20대입니다.\")\n",
    "elif 30<=age<40:\n",
    "    print(\"30대입니다.\")\n",
    "else:\n",
    "    print(\"오우... 불혹을 넘기셨군요.\")\n",
    "    \n",
    "print(\"\\n감사합니다.\")"
   ]
  },
  {
   "cell_type": "code",
   "execution_count": 64,
   "id": "f1733a4f-5924-4b80-ac1c-1e713c6d3016",
   "metadata": {},
   "outputs": [
    {
     "name": "stdin",
     "output_type": "stream",
     "text": [
      "아이디를 입력하세요. biana\n",
      "회원 등급을 입력해주세요: 3\n"
     ]
    },
    {
     "name": "stdout",
     "output_type": "stream",
     "text": [
      "\n",
      "제한적인 권한을 갖습니다.\n"
     ]
    }
   ],
   "source": [
    "name = input(\"아이디를 입력하세요.\")\n",
    "\n",
    "if name == \"admin\":\n",
    "    print(\"\\n최고 관리자, 모든 권한을 갖습니다.\")\n",
    "    \n",
    "else:\n",
    "    level = int(input(\"회원 등급을 입력해주세요:\"))\n",
    "    \n",
    "    if 1<=level<=3: \n",
    "        print(\"\\n제한적인 권한을 갖습니다.\")\n",
    "        \n",
    "    else:\n",
    "        print(\"\\n권한이 없습니다.\")"
   ]
  },
  {
   "cell_type": "code",
   "execution_count": 69,
   "id": "3a9fe175-b93d-4aec-b098-f918e4811878",
   "metadata": {},
   "outputs": [],
   "source": [
    "# if문의 바디를 나중에 작성할 예정이라면 pass 키워드 작성하기\n",
    "\n",
    "if True:\n",
    "    pass  # TOBE"
   ]
  },
  {
   "cell_type": "code",
   "execution_count": 8,
   "id": "2a12e5a2-aef8-444a-a235-a74b3b8a475c",
   "metadata": {},
   "outputs": [
    {
     "name": "stdin",
     "output_type": "stream",
     "text": [
      "자연수 하나 입력해주세요. 30\n"
     ]
    },
    {
     "name": "stdout",
     "output_type": "stream",
     "text": [
      "0\n"
     ]
    }
   ],
   "source": [
    "number = int(input(\"자연수 하나 입력해주세요.\"))\n",
    "result = number - 50\n",
    "\n",
    "if result>=0:\n",
    "    print(result)\n",
    "    \n",
    "else: \n",
    "    print(0)"
   ]
  },
  {
   "cell_type": "code",
   "execution_count": 1,
   "id": "c72f3644-c12e-417a-a6cb-3bdd7703676d",
   "metadata": {},
   "outputs": [
    {
     "name": "stdin",
     "output_type": "stream",
     "text": [
      "자연수 하나 입력해주세요. 70\n"
     ]
    },
    {
     "name": "stdout",
     "output_type": "stream",
     "text": [
      "20\n"
     ]
    }
   ],
   "source": [
    "number = int(input(\"자연수 하나 입력해주세요.\"))\n",
    "result = number - 50\n",
    "\n",
    "if result<0:\n",
    "    result = 0\n",
    "    \n",
    "print(result)"
   ]
  },
  {
   "cell_type": "code",
   "execution_count": 10,
   "id": "0f1b8779-903a-4579-a67b-43f2cbb3f8e5",
   "metadata": {},
   "outputs": [
    {
     "name": "stdin",
     "output_type": "stream",
     "text": [
      "자연수 하나 입력해주세요: 4\n"
     ]
    },
    {
     "name": "stdout",
     "output_type": "stream",
     "text": [
      "짝수입니다.\n"
     ]
    }
   ],
   "source": [
    "number = int(input(\"자연수 하나 입력해주세요:\"))\n",
    "\n",
    "if number%2==0:\n",
    "    print(\"짝수입니다.\")\n",
    "else:\n",
    "    print(\"홀수입니다.\")"
   ]
  },
  {
   "cell_type": "code",
   "execution_count": 29,
   "id": "025112f0-044c-4f60-b853-d81108c9c73e",
   "metadata": {},
   "outputs": [
    {
     "name": "stdin",
     "output_type": "stream",
     "text": [
      "소프트웨어 설계 점수를 입력하세요. 80\n",
      "소프트웨어 개발 점수를 입력하세요. 80\n",
      "데이터베이스 구축 점수를 입력하세요. 80\n",
      "프로그래밍 언어 활용 점수를 입력하세요. 80\n",
      "정보시스템 구축관리 점수를 입력하세요. 80\n"
     ]
    },
    {
     "name": "stdout",
     "output_type": "stream",
     "text": [
      "합격입니다.\n"
     ]
    }
   ],
   "source": [
    "a = int(input(\"소프트웨어 설계 점수를 입력하세요.\"))\n",
    "b = int(input(\"소프트웨어 개발 점수를 입력하세요.\"))\n",
    "c = int(input(\"데이터베이스 구축 점수를 입력하세요.\"))\n",
    "d = int(input(\"프로그래밍 언어 활용 점수를 입력하세요.\"))\n",
    "e = int(input(\"정보시스템 구축관리 점수를 입력하세요.\"))\n",
    "\n",
    "avg = (a+b+c+d+e)/5\n",
    "\n",
    "if 0<=a<= 100 and 0<=b<= 100 and 0<=c<= 100 and 0<=d<= 100 and 0<=e<= 100:\n",
    "    if avg>=60:\n",
    "        print(\"합격입니다.\")\n",
    "    else:\n",
    "        print(\"불합격입니다.\")\n",
    "        \n",
    "else:\n",
    "     print(\"잘못된 점수입니다.\")"
   ]
  },
  {
   "cell_type": "code",
   "execution_count": 48,
   "id": "fa6dfa92-9374-479a-964f-90b2aa2d8ad0",
   "metadata": {},
   "outputs": [
    {
     "name": "stdin",
     "output_type": "stream",
     "text": [
      "현재 물의 온도를 입력해주세요. -0.12\n"
     ]
    },
    {
     "name": "stdout",
     "output_type": "stream",
     "text": [
      "고체로 예상됩니다.\n"
     ]
    }
   ],
   "source": [
    "# int(1.1)은 불가능함\n",
    "# int(float(1.1))로 해야함\n",
    "\n",
    "celsius = float(input(\"현재 물의 온도를 입력해주세요.\"))\n",
    "\n",
    "if celsius>=100:\n",
    "    print(\"기체로 예상됩니다.\")\n",
    "elif 0<=degree<100:\n",
    "    print(\"액체로 예상됩니다.\")\n",
    "else:\n",
    "    print(\"고체로 예상됩니다.\")"
   ]
  },
  {
   "cell_type": "code",
   "execution_count": 57,
   "id": "62b5a4e6-fef7-4050-ab92-bd75d3c6a01d",
   "metadata": {},
   "outputs": [
    {
     "name": "stdin",
     "output_type": "stream",
     "text": [
      "자신의 나이를 입력하세요. 22\n"
     ]
    },
    {
     "name": "stdout",
     "output_type": "stream",
     "text": [
      "1500원\n"
     ]
    }
   ],
   "source": [
    "age = int(input(\"자신의 나이를 입력하세요.\"))\n",
    "\n",
    "if age>=19:\n",
    "    print(\"1500원\")\n",
    "elif 12<=age<=18:\n",
    "    print(\"1100원\")\n",
    "elif 6<=age<=11:\n",
    "    print(\"800원\")\n",
    "else:\n",
    "    print(\"무료입니다.\")"
   ]
  },
  {
   "cell_type": "code",
   "execution_count": 74,
   "id": "1a03a720-104b-4b85-a332-5cdc994dea86",
   "metadata": {},
   "outputs": [
    {
     "name": "stdin",
     "output_type": "stream",
     "text": [
      "발주 수량을 입력하세요. 2001\n"
     ]
    },
    {
     "name": "stdout",
     "output_type": "stream",
     "text": [
      "2001개를 주문하셨습니다.\n",
      "적용 할인율은 20%입니다.\n",
      "총 발주 금액은 $16008입니다. \n"
     ]
    }
   ],
   "source": [
    "count = int(input(\"발주 수량을 입력하세요.\"))\n",
    "print(count, \"개를 주문하셨습니다.\", sep = \"\")\n",
    "\n",
    "if count<1000:\n",
    "    print(\"수량할인이 적용되지 않습니다.\", \"\\n총 발주 금액은 $\", int(count*10), \"입니다. \", sep = \"\")\n",
    "elif 1000<=count<=1500:\n",
    "    print(\"적용 할인율은 5%입니다.\", \"\\n총 발주 금액은 $\", int(count*10*0.95), \"입니다. \", sep = \"\")\n",
    "elif 1500<count<=2000:\n",
    "    print(\"적용 할인율은 10%입니다.\", \"\\n총 발주 금액은 $\", int(count*10*0.9), \"입니다. \", sep = \"\")\n",
    "else:\n",
    "    print(\"적용 할인율은 20%입니다.\", \"\\n총 발주 금액은 $\", int(count*10*0.8), \"입니다. \", sep = \"\")"
   ]
  },
  {
   "cell_type": "code",
   "execution_count": 76,
   "id": "bced26e8-00d7-48b8-b196-971afda76e4f",
   "metadata": {},
   "outputs": [
    {
     "name": "stdin",
     "output_type": "stream",
     "text": [
      "발주 수량을 입력하세요. 100\n"
     ]
    },
    {
     "name": "stdout",
     "output_type": "stream",
     "text": [
      "100개를 주문하셨습니다.\n",
      "적용 할인율은 0%입니다.\n",
      "총 발주 금액은 $1000입니다.\n"
     ]
    }
   ],
   "source": [
    "quantity = int(input(\"발주 수량을 입력하세요.\"))\n",
    "print(quantity, \"개를 주문하셨습니다.\", sep = \"\")\n",
    "\n",
    "PRICE = 10\n",
    "rate = 0\n",
    "order_amount = 0\n",
    "\n",
    "if quantity > 2000:\n",
    "    rate = 20\n",
    "elif 1500 < quantity <= 2000:\n",
    "    rate = 10\n",
    "elif 1000 <= quantity <= 1500:\n",
    "    rate = 5\n",
    "    \n",
    "order_amount = int(PRICE*quantity*((100-rate)/100))\n",
    "print(\"적용 할인율은 \", rate, \"%입니다.\", sep=\"\")\n",
    "print(\"총 발주 금액은 $\", order_amount, \"입니다.\", sep=\"\")"
   ]
  },
  {
   "cell_type": "code",
   "execution_count": 95,
   "id": "a7171cdf-2e06-41d1-ba22-dc972862e5c2",
   "metadata": {},
   "outputs": [
    {
     "name": "stdin",
     "output_type": "stream",
     "text": [
      "주민번호 뒷자리를 입력하세요. 323423\n"
     ]
    },
    {
     "name": "stdout",
     "output_type": "stream",
     "text": [
      "자리수를 잘못 입력했습니다.\n"
     ]
    }
   ],
   "source": [
    "number = input(\"주민번호 뒷자리를 입력하세요.\")\n",
    "if len(number) != 7:\n",
    "    print(\"자리수를 잘못 입력했습니다.\")\n",
    "else:\n",
    "    fst_num = int(number[0])\n",
    "    if fst_num in (1,3):\n",
    "        print(\"남자\")\n",
    "    elif fst_num in (2, 4):\n",
    "        print(\"여자\")\n",
    "    else:\n",
    "        print(\"잘못된 입력입니다.\")"
   ]
  },
  {
   "cell_type": "code",
   "execution_count": 121,
   "id": "bda3cab7-3564-49cd-a41a-efae0bba6838",
   "metadata": {},
   "outputs": [
    {
     "name": "stdin",
     "output_type": "stream",
     "text": [
      "확인할 연도를 입력하세요. 1900\n"
     ]
    },
    {
     "name": "stdout",
     "output_type": "stream",
     "text": [
      "평년입니다.\n"
     ]
    }
   ],
   "source": [
    "year = int(input(\"확인할 연도를 입력하세요.\"))\n",
    "\n",
    "if year%4 == 0 and (year%100 != 0 or year%400 == 0):\n",
    "    print(\"윤년입니다.\")\n",
    "\n",
    "else:\n",
    "    print(\"평년입니다.\")"
   ]
  },
  {
   "cell_type": "code",
   "execution_count": 125,
   "id": "b8afd53f-72bc-4037-ae5e-1b9a78c647da",
   "metadata": {},
   "outputs": [
    {
     "name": "stdin",
     "output_type": "stream",
     "text": [
      "확인할 연도를 입력하세요. 1900\n"
     ]
    },
    {
     "name": "stdout",
     "output_type": "stream",
     "text": [
      "평년입니다.\n"
     ]
    }
   ],
   "source": [
    "year = int(input(\"확인할 연도를 입력하세요.\"))\n",
    "\n",
    "if year%4 != 0 or (year%100 == 0 and year%400 != 0):\n",
    "    print(\"평년입니다.\")\n",
    "    \n",
    "else:\n",
    "    print(\"윤년입니다.\")"
   ]
  },
  {
   "cell_type": "code",
   "execution_count": 126,
   "id": "437a26f2-322d-4806-a8cf-7ce4620ca9e1",
   "metadata": {},
   "outputs": [
    {
     "name": "stdin",
     "output_type": "stream",
     "text": [
      "확인할 연도를 입력하세요. 1900\n"
     ]
    },
    {
     "name": "stdout",
     "output_type": "stream",
     "text": [
      "평년입니다.\n"
     ]
    }
   ],
   "source": [
    "year = int(input(\"확인할 연도를 입력하세요.\"))\n",
    "\n",
    "if year % 4 != 0:\n",
    "    print(\"평년입니다.\")\n",
    "else: \n",
    "    if year % 400 == 0:\n",
    "        print(\"윤년입니다.\")\n",
    "    elif year % 100 == 0:\n",
    "        print(\"평년입니다.\")\n",
    "    else:\n",
    "        print(\"윤년입니다.\")"
   ]
  }
 ],
 "metadata": {
  "kernelspec": {
   "display_name": "Python 3 (ipykernel)",
   "language": "python",
   "name": "python3"
  },
  "language_info": {
   "codemirror_mode": {
    "name": "ipython",
    "version": 3
   },
   "file_extension": ".py",
   "mimetype": "text/x-python",
   "name": "python",
   "nbconvert_exporter": "python",
   "pygments_lexer": "ipython3",
   "version": "3.9.13"
  }
 },
 "nbformat": 4,
 "nbformat_minor": 5
}
