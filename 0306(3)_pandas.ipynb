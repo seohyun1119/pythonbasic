{
 "cells": [
  {
   "cell_type": "code",
   "execution_count": 3,
   "id": "543aab01-c52b-45d0-9976-54cc30815500",
   "metadata": {},
   "outputs": [],
   "source": [
    "import pandas as pd"
   ]
  },
  {
   "cell_type": "code",
   "execution_count": 11,
   "id": "d4b0edfb-99c2-4fd9-9d57-4cb4b4987b68",
   "metadata": {},
   "outputs": [
    {
     "data": {
      "text/html": [
       "<div>\n",
       "<style scoped>\n",
       "    .dataframe tbody tr th:only-of-type {\n",
       "        vertical-align: middle;\n",
       "    }\n",
       "\n",
       "    .dataframe tbody tr th {\n",
       "        vertical-align: top;\n",
       "    }\n",
       "\n",
       "    .dataframe thead th {\n",
       "        text-align: right;\n",
       "    }\n",
       "</style>\n",
       "<table border=\"1\" class=\"dataframe\">\n",
       "  <thead>\n",
       "    <tr style=\"text-align: right;\">\n",
       "      <th></th>\n",
       "      <th>영화명</th>\n",
       "      <th>개봉일</th>\n",
       "      <th>관객수</th>\n",
       "      <th>순위</th>\n",
       "    </tr>\n",
       "    <tr>\n",
       "      <th>순위</th>\n",
       "      <th></th>\n",
       "      <th></th>\n",
       "      <th></th>\n",
       "      <th></th>\n",
       "    </tr>\n",
       "  </thead>\n",
       "  <tbody>\n",
       "    <tr>\n",
       "      <th>1</th>\n",
       "      <td>명량</td>\n",
       "      <td>2014-07-30</td>\n",
       "      <td>17613682</td>\n",
       "      <td>1</td>\n",
       "    </tr>\n",
       "    <tr>\n",
       "      <th>2</th>\n",
       "      <td>극한직업</td>\n",
       "      <td>2019-01-23</td>\n",
       "      <td>16264806</td>\n",
       "      <td>2</td>\n",
       "    </tr>\n",
       "    <tr>\n",
       "      <th>3</th>\n",
       "      <td>신과함께-죄와 벌</td>\n",
       "      <td>2017-12-20</td>\n",
       "      <td>14410754</td>\n",
       "      <td>3</td>\n",
       "    </tr>\n",
       "    <tr>\n",
       "      <th>4</th>\n",
       "      <td>국제시장</td>\n",
       "      <td>2014-12-17</td>\n",
       "      <td>14257115</td>\n",
       "      <td>4</td>\n",
       "    </tr>\n",
       "    <tr>\n",
       "      <th>5</th>\n",
       "      <td>어벤져스:엔드게임</td>\n",
       "      <td>2019-04-24</td>\n",
       "      <td>13933635</td>\n",
       "      <td>5</td>\n",
       "    </tr>\n",
       "  </tbody>\n",
       "</table>\n",
       "</div>"
      ],
      "text/plain": [
       "          영화명         개봉일       관객수  순위\n",
       "순위                                     \n",
       "1          명량  2014-07-30  17613682   1\n",
       "2        극한직업  2019-01-23  16264806   2\n",
       "3   신과함께-죄와 벌  2017-12-20  14410754   3\n",
       "4        국제시장  2014-12-17  14257115   4\n",
       "5   어벤져스:엔드게임  2019-04-24  13933635   5"
      ]
     },
     "execution_count": 11,
     "metadata": {},
     "output_type": "execute_result"
    }
   ],
   "source": [
    "# 천만 영화 역대 관객수 순위\n",
    "\n",
    "data = {\n",
    "    \"영화명\": [\"명량\", \"극한직업\", \"신과함께-죄와 벌\", \"국제시장\", \"어벤져스:엔드게임\"],\n",
    "    \"개봉일\": [\"2014-07-30\", \"2019-01-23\", \"2017-12-20\", \"2014-12-17\", \"2019-04-24\"],\n",
    "    \"관객수\": [17_613_682, 16_264_806, 14_410_754, 14_257_115, 13_933_635],\n",
    "    \"순위\": [1, 2, 3, 4, 5]\n",
    "}\n",
    "\n",
    "index = [1, 2, 3, 4, 5]\n",
    "df = pd.DataFrame(data, index)\n",
    "df.index.name = \"순위\"\n",
    "df\n",
    "    "
   ]
  },
  {
   "cell_type": "code",
   "execution_count": null,
   "id": "76c5f4e1-2194-4a9e-b9c9-67d1b364cf0e",
   "metadata": {},
   "outputs": [],
   "source": [
    "df.T"
   ]
  }
 ],
 "metadata": {
  "kernelspec": {
   "display_name": "Python 3 (ipykernel)",
   "language": "python",
   "name": "python3"
  },
  "language_info": {
   "codemirror_mode": {
    "name": "ipython",
    "version": 3
   },
   "file_extension": ".py",
   "mimetype": "text/x-python",
   "name": "python",
   "nbconvert_exporter": "python",
   "pygments_lexer": "ipython3",
   "version": "3.9.13"
  }
 },
 "nbformat": 4,
 "nbformat_minor": 5
}
