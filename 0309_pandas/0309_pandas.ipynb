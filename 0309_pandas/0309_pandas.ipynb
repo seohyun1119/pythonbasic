{
 "cells": [
  {
   "cell_type": "code",
   "execution_count": 1,
   "id": "0f9460f7-a4a8-483d-9095-a68f811256f4",
   "metadata": {},
   "outputs": [],
   "source": [
    "import numpy as np\n",
    "import pandas as pd"
   ]
  },
  {
   "cell_type": "code",
   "execution_count": 2,
   "id": "18b40819-077f-476a-a79c-2a057cb3cad9",
   "metadata": {},
   "outputs": [
    {
     "data": {
      "text/html": [
       "<div>\n",
       "<style scoped>\n",
       "    .dataframe tbody tr th:only-of-type {\n",
       "        vertical-align: middle;\n",
       "    }\n",
       "\n",
       "    .dataframe tbody tr th {\n",
       "        vertical-align: top;\n",
       "    }\n",
       "\n",
       "    .dataframe thead th {\n",
       "        text-align: right;\n",
       "    }\n",
       "</style>\n",
       "<table border=\"1\" class=\"dataframe\">\n",
       "  <thead>\n",
       "    <tr style=\"text-align: right;\">\n",
       "      <th></th>\n",
       "      <th>Team</th>\n",
       "      <th>Position</th>\n",
       "      <th>Birthday</th>\n",
       "      <th>Salary</th>\n",
       "    </tr>\n",
       "    <tr>\n",
       "      <th>Name</th>\n",
       "      <th></th>\n",
       "      <th></th>\n",
       "      <th></th>\n",
       "      <th></th>\n",
       "    </tr>\n",
       "  </thead>\n",
       "  <tbody>\n",
       "    <tr>\n",
       "      <th>Stephen Curry</th>\n",
       "      <td>Golden State Warriors</td>\n",
       "      <td>PG</td>\n",
       "      <td>3/14/88</td>\n",
       "      <td>40231758</td>\n",
       "    </tr>\n",
       "  </tbody>\n",
       "</table>\n",
       "</div>"
      ],
      "text/plain": [
       "                                Team Position Birthday    Salary\n",
       "Name                                                            \n",
       "Stephen Curry  Golden State Warriors       PG  3/14/88  40231758"
      ]
     },
     "execution_count": 2,
     "metadata": {},
     "output_type": "execute_result"
    }
   ],
   "source": [
    "nba = pd.read_csv(\"C:/python/datas/nba.csv\", index_col=\"Name\")\n",
    "nba.nlargest(1, columns=[\"Salary\"])"
   ]
  },
  {
   "cell_type": "code",
   "execution_count": 3,
   "id": "b9e52c70-1080-49cc-805a-75b54c868689",
   "metadata": {},
   "outputs": [],
   "source": [
    "# DataFrame 단일 값 추출\n",
    "# at: 행, 열의 label으로 인덱싱\n",
    "# iat: 행, 열의 인덱스(정수)로 인덱싱"
   ]
  },
  {
   "cell_type": "code",
   "execution_count": 4,
   "id": "3f6c8c5c-76cc-479b-ac0e-4958a35c304c",
   "metadata": {},
   "outputs": [
    {
     "name": "stdout",
     "output_type": "stream",
     "text": [
      "3.55 µs ± 306 ns per loop (mean ± std. dev. of 7 runs, 100000 loops each)\n"
     ]
    }
   ],
   "source": [
    "%%timeit\n",
    "# %%timeit는 jupyter 매직 메서드\n",
    "# 코드를 실행하고 걸리는 평균 시간 측정\n",
    "\n",
    "nba.at[\"Stephen Curry\", \"Birthday\"]     # .at(label로 인덱싱)"
   ]
  },
  {
   "cell_type": "code",
   "execution_count": 5,
   "id": "e5b9b21a-33c7-4c88-afdf-fc81df5695fe",
   "metadata": {},
   "outputs": [
    {
     "name": "stdout",
     "output_type": "stream",
     "text": [
      "13.3 µs ± 2.24 µs per loop (mean ± std. dev. of 7 runs, 100000 loops each)\n"
     ]
    }
   ],
   "source": [
    "%%timeit\n",
    "nba.loc[\"Stephen Curry\", \"Birthday\"]"
   ]
  },
  {
   "cell_type": "code",
   "execution_count": 6,
   "id": "7e7225c7-6e82-4662-ada3-72829338aa24",
   "metadata": {},
   "outputs": [],
   "source": [
    "# %%timeit를 통해 100,000회 반복한 평균 실행시간 도출\n",
    "# at이 loc에 비해 빠름"
   ]
  },
  {
   "cell_type": "code",
   "execution_count": 7,
   "id": "cf5d7c63-ab53-4b45-b1b0-c9509ecdde3c",
   "metadata": {},
   "outputs": [
    {
     "name": "stdout",
     "output_type": "stream",
     "text": [
      "14.4 µs ± 3.1 µs per loop (mean ± std. dev. of 7 runs, 100000 loops each)\n"
     ]
    }
   ],
   "source": [
    "%%timeit\n",
    "nba.iat[263, 1]    # .iat(정수 값으로 인덱싱)"
   ]
  },
  {
   "cell_type": "code",
   "execution_count": 8,
   "id": "d1974c36-4b17-4ae0-a321-39bbeb5bfc23",
   "metadata": {},
   "outputs": [
    {
     "name": "stdout",
     "output_type": "stream",
     "text": [
      "17.5 µs ± 741 ns per loop (mean ± std. dev. of 7 runs, 100000 loops each)\n"
     ]
    }
   ],
   "source": [
    "%%timeit\n",
    "nba.iloc[263, 1]"
   ]
  },
  {
   "cell_type": "code",
   "execution_count": 9,
   "id": "26811849-4d65-4e9e-ab98-2ec60f233c6e",
   "metadata": {},
   "outputs": [],
   "source": [
    "# %%timeit를 통해 100,000회 반복한 평균 실행시간 도출\n",
    "# iat이 iloc에 비해 빠름"
   ]
  },
  {
   "cell_type": "code",
   "execution_count": 10,
   "id": "a6be7eb9-499f-4dcf-979f-4a7535513b59",
   "metadata": {},
   "outputs": [],
   "source": [
    "# Series loc, iloc, at, iat\n",
    "# loc, at: label index 값을 활용해서 인덱싱\n",
    "# iloc, iat: Series의 index(정수) 값으로 인덱싱"
   ]
  },
  {
   "cell_type": "code",
   "execution_count": 11,
   "id": "be923c61-2261-48b5-8a4e-4f5c9c442cfb",
   "metadata": {},
   "outputs": [
    {
     "data": {
      "text/plain": [
       "29802321"
      ]
     },
     "execution_count": 11,
     "metadata": {},
     "output_type": "execute_result"
    }
   ],
   "source": [
    "nba.Salary.loc[\"Damian Lillard\"]"
   ]
  },
  {
   "cell_type": "code",
   "execution_count": 12,
   "id": "5325a112-5ebe-4d4f-be38-adfaac4c0615",
   "metadata": {},
   "outputs": [
    {
     "data": {
      "text/plain": [
       "29802321"
      ]
     },
     "execution_count": 12,
     "metadata": {},
     "output_type": "execute_result"
    }
   ],
   "source": [
    "nba.Salary.at[\"Damian Lillard\"]"
   ]
  },
  {
   "cell_type": "code",
   "execution_count": 13,
   "id": "7ac8df8e-1d45-42cc-b9c1-eddaea35e467",
   "metadata": {},
   "outputs": [
    {
     "data": {
      "text/plain": [
       "2033160"
      ]
     },
     "execution_count": 13,
     "metadata": {},
     "output_type": "execute_result"
    }
   ],
   "source": [
    "nba.Salary.iloc[234]"
   ]
  },
  {
   "cell_type": "code",
   "execution_count": 14,
   "id": "1b77f62a-109e-471f-9da2-63a671095168",
   "metadata": {},
   "outputs": [
    {
     "data": {
      "text/plain": [
       "2033160"
      ]
     },
     "execution_count": 14,
     "metadata": {},
     "output_type": "execute_result"
    }
   ],
   "source": [
    "nba.Salary.iat[234]"
   ]
  },
  {
   "cell_type": "code",
   "execution_count": 15,
   "id": "2c85cfd9-ec61-4c91-88be-30a1d8f73676",
   "metadata": {},
   "outputs": [
    {
     "data": {
      "text/plain": [
       "Index(['Team', 'Position', 'Birthday', 'Salary'], dtype='object')"
      ]
     },
     "execution_count": 15,
     "metadata": {},
     "output_type": "execute_result"
    }
   ],
   "source": [
    "# DataFrame columns 값 변경하기\n",
    "\n",
    "# columns 속성에 리스트 값으로 재할당하면 columns 변경 가능\n",
    "nba.columns"
   ]
  },
  {
   "cell_type": "code",
   "execution_count": 16,
   "id": "5073ca18-3f9d-4d19-a2ee-f3a8067876d8",
   "metadata": {},
   "outputs": [],
   "source": [
    "nba.columns = ['Team', 'Position', 'Date of Birth', 'Pay']"
   ]
  },
  {
   "cell_type": "code",
   "execution_count": 17,
   "id": "49d34145-12e7-420d-b9bd-6e5cd491b9fc",
   "metadata": {},
   "outputs": [
    {
     "data": {
      "text/html": [
       "<div>\n",
       "<style scoped>\n",
       "    .dataframe tbody tr th:only-of-type {\n",
       "        vertical-align: middle;\n",
       "    }\n",
       "\n",
       "    .dataframe tbody tr th {\n",
       "        vertical-align: top;\n",
       "    }\n",
       "\n",
       "    .dataframe thead th {\n",
       "        text-align: right;\n",
       "    }\n",
       "</style>\n",
       "<table border=\"1\" class=\"dataframe\">\n",
       "  <thead>\n",
       "    <tr style=\"text-align: right;\">\n",
       "      <th></th>\n",
       "      <th>Team</th>\n",
       "      <th>Position</th>\n",
       "      <th>Date of Birth</th>\n",
       "      <th>Pay</th>\n",
       "    </tr>\n",
       "    <tr>\n",
       "      <th>Name</th>\n",
       "      <th></th>\n",
       "      <th></th>\n",
       "      <th></th>\n",
       "      <th></th>\n",
       "    </tr>\n",
       "  </thead>\n",
       "  <tbody>\n",
       "    <tr>\n",
       "      <th>Shake Milton</th>\n",
       "      <td>Philadelphia 76ers</td>\n",
       "      <td>SG</td>\n",
       "      <td>9/26/96</td>\n",
       "      <td>1445697</td>\n",
       "    </tr>\n",
       "  </tbody>\n",
       "</table>\n",
       "</div>"
      ],
      "text/plain": [
       "                            Team Position Date of Birth      Pay\n",
       "Name                                                            \n",
       "Shake Milton  Philadelphia 76ers       SG       9/26/96  1445697"
      ]
     },
     "execution_count": 17,
     "metadata": {},
     "output_type": "execute_result"
    }
   ],
   "source": [
    "nba.head(1)"
   ]
  },
  {
   "cell_type": "code",
   "execution_count": 18,
   "id": "b8ca4566-d547-45a8-a1d3-2af2b2a6b79d",
   "metadata": {},
   "outputs": [
    {
     "data": {
      "text/html": [
       "<div>\n",
       "<style scoped>\n",
       "    .dataframe tbody tr th:only-of-type {\n",
       "        vertical-align: middle;\n",
       "    }\n",
       "\n",
       "    .dataframe tbody tr th {\n",
       "        vertical-align: top;\n",
       "    }\n",
       "\n",
       "    .dataframe thead th {\n",
       "        text-align: right;\n",
       "    }\n",
       "</style>\n",
       "<table border=\"1\" class=\"dataframe\">\n",
       "  <thead>\n",
       "    <tr style=\"text-align: right;\">\n",
       "      <th></th>\n",
       "      <th>Team</th>\n",
       "      <th>Position</th>\n",
       "      <th>Date of Birth</th>\n",
       "      <th>Pay</th>\n",
       "    </tr>\n",
       "    <tr>\n",
       "      <th>Name</th>\n",
       "      <th></th>\n",
       "      <th></th>\n",
       "      <th></th>\n",
       "      <th></th>\n",
       "    </tr>\n",
       "  </thead>\n",
       "  <tbody>\n",
       "    <tr>\n",
       "      <th>Shake Milton</th>\n",
       "      <td>Philadelphia 76ers</td>\n",
       "      <td>SG</td>\n",
       "      <td>9/26/96</td>\n",
       "      <td>1445697</td>\n",
       "    </tr>\n",
       "    <tr>\n",
       "      <th>Christian Wood</th>\n",
       "      <td>Detroit Pistons</td>\n",
       "      <td>PF</td>\n",
       "      <td>9/27/95</td>\n",
       "      <td>1645357</td>\n",
       "    </tr>\n",
       "  </tbody>\n",
       "</table>\n",
       "</div>"
      ],
      "text/plain": [
       "                              Team Position Date of Birth      Pay\n",
       "Name                                                              \n",
       "Shake Milton    Philadelphia 76ers       SG       9/26/96  1445697\n",
       "Christian Wood     Detroit Pistons       PF       9/27/95  1645357"
      ]
     },
     "execution_count": 18,
     "metadata": {},
     "output_type": "execute_result"
    }
   ],
   "source": [
    "# rename()메서드: DataFrame columns 값 변경하기\n",
    "\n",
    "# columns 키워드 인수에 딕셔너리 값 전달\n",
    "# key값은 기존 컬럼명, value값은 변경 후 컬럼명 입력\n",
    "\n",
    "# rename은 기본적으로 inplace 키워드 인수 값이 False이므로,\n",
    "# 재할당하거나 inplace = True로 메서드를 호출해야 변경 가능\n",
    "\n",
    "nba.rename(columns = {\"Date of Birth\" : \"Birthday\", \"Pay\" : \"Salary\"})\n",
    "nba.head(2)     # inplace = True를 안 한 상태"
   ]
  },
  {
   "cell_type": "code",
   "execution_count": 19,
   "id": "e34dba9c-32eb-42d7-bf9e-014d6207a58c",
   "metadata": {},
   "outputs": [
    {
     "data": {
      "text/html": [
       "<div>\n",
       "<style scoped>\n",
       "    .dataframe tbody tr th:only-of-type {\n",
       "        vertical-align: middle;\n",
       "    }\n",
       "\n",
       "    .dataframe tbody tr th {\n",
       "        vertical-align: top;\n",
       "    }\n",
       "\n",
       "    .dataframe thead th {\n",
       "        text-align: right;\n",
       "    }\n",
       "</style>\n",
       "<table border=\"1\" class=\"dataframe\">\n",
       "  <thead>\n",
       "    <tr style=\"text-align: right;\">\n",
       "      <th></th>\n",
       "      <th>Team</th>\n",
       "      <th>Position</th>\n",
       "      <th>Birthday</th>\n",
       "      <th>Salary</th>\n",
       "    </tr>\n",
       "    <tr>\n",
       "      <th>Name</th>\n",
       "      <th></th>\n",
       "      <th></th>\n",
       "      <th></th>\n",
       "      <th></th>\n",
       "    </tr>\n",
       "  </thead>\n",
       "  <tbody>\n",
       "    <tr>\n",
       "      <th>Shake Milton</th>\n",
       "      <td>Philadelphia 76ers</td>\n",
       "      <td>SG</td>\n",
       "      <td>9/26/96</td>\n",
       "      <td>1445697</td>\n",
       "    </tr>\n",
       "    <tr>\n",
       "      <th>Christian Wood</th>\n",
       "      <td>Detroit Pistons</td>\n",
       "      <td>PF</td>\n",
       "      <td>9/27/95</td>\n",
       "      <td>1645357</td>\n",
       "    </tr>\n",
       "  </tbody>\n",
       "</table>\n",
       "</div>"
      ],
      "text/plain": [
       "                              Team Position Birthday   Salary\n",
       "Name                                                         \n",
       "Shake Milton    Philadelphia 76ers       SG  9/26/96  1445697\n",
       "Christian Wood     Detroit Pistons       PF  9/27/95  1645357"
      ]
     },
     "execution_count": 19,
     "metadata": {},
     "output_type": "execute_result"
    }
   ],
   "source": [
    "nba.rename(columns = {\"Date of Birth\" : \"Birthday\", \"Pay\" : \"Salary\"}, \n",
    "           inplace = True)\n",
    "nba.head(2)"
   ]
  },
  {
   "cell_type": "code",
   "execution_count": 20,
   "id": "e4013ba2-63cd-43c1-8af9-f4eaab7c7d6a",
   "metadata": {},
   "outputs": [
    {
     "data": {
      "text/html": [
       "<div>\n",
       "<style scoped>\n",
       "    .dataframe tbody tr th:only-of-type {\n",
       "        vertical-align: middle;\n",
       "    }\n",
       "\n",
       "    .dataframe tbody tr th {\n",
       "        vertical-align: top;\n",
       "    }\n",
       "\n",
       "    .dataframe thead th {\n",
       "        text-align: right;\n",
       "    }\n",
       "</style>\n",
       "<table border=\"1\" class=\"dataframe\">\n",
       "  <thead>\n",
       "    <tr style=\"text-align: right;\">\n",
       "      <th></th>\n",
       "      <th>Team</th>\n",
       "      <th>Position</th>\n",
       "      <th>Salary</th>\n",
       "      <th>Birthday</th>\n",
       "    </tr>\n",
       "    <tr>\n",
       "      <th>Name</th>\n",
       "      <th></th>\n",
       "      <th></th>\n",
       "      <th></th>\n",
       "      <th></th>\n",
       "    </tr>\n",
       "  </thead>\n",
       "  <tbody>\n",
       "    <tr>\n",
       "      <th>Shake Milton</th>\n",
       "      <td>Philadelphia 76ers</td>\n",
       "      <td>SG</td>\n",
       "      <td>1445697</td>\n",
       "      <td>9/26/96</td>\n",
       "    </tr>\n",
       "    <tr>\n",
       "      <th>Christian Wood</th>\n",
       "      <td>Detroit Pistons</td>\n",
       "      <td>PF</td>\n",
       "      <td>1645357</td>\n",
       "      <td>9/27/95</td>\n",
       "    </tr>\n",
       "  </tbody>\n",
       "</table>\n",
       "</div>"
      ],
      "text/plain": [
       "                              Team Position   Salary Birthday\n",
       "Name                                                         \n",
       "Shake Milton    Philadelphia 76ers       SG  1445697  9/26/96\n",
       "Christian Wood     Detroit Pistons       PF  1645357  9/27/95"
      ]
     },
     "execution_count": 20,
     "metadata": {},
     "output_type": "execute_result"
    }
   ],
   "source": [
    "# Column 순서 바꾸기\n",
    "\n",
    "# 배열 꼴로 컬럼명 순서를 새로 입력하면 컬럼 단위로 순서가 바뀐다.\n",
    "nba2 = nba[[\"Team\", \"Position\", \"Salary\", \"Birthday\"]]\n",
    "nba2.head(2)"
   ]
  },
  {
   "cell_type": "code",
   "execution_count": 21,
   "id": "fc66981c-ff9b-47e8-92eb-b0a31de87ed0",
   "metadata": {},
   "outputs": [
    {
     "data": {
      "text/html": [
       "<div>\n",
       "<style scoped>\n",
       "    .dataframe tbody tr th:only-of-type {\n",
       "        vertical-align: middle;\n",
       "    }\n",
       "\n",
       "    .dataframe tbody tr th {\n",
       "        vertical-align: top;\n",
       "    }\n",
       "\n",
       "    .dataframe thead th {\n",
       "        text-align: right;\n",
       "    }\n",
       "</style>\n",
       "<table border=\"1\" class=\"dataframe\">\n",
       "  <thead>\n",
       "    <tr style=\"text-align: right;\">\n",
       "      <th></th>\n",
       "      <th>Team</th>\n",
       "      <th>Position</th>\n",
       "      <th>Date of Birth</th>\n",
       "      <th>Pay</th>\n",
       "    </tr>\n",
       "    <tr>\n",
       "      <th>Name</th>\n",
       "      <th></th>\n",
       "      <th></th>\n",
       "      <th></th>\n",
       "      <th></th>\n",
       "    </tr>\n",
       "  </thead>\n",
       "  <tbody>\n",
       "    <tr>\n",
       "      <th>Shake Milton</th>\n",
       "      <td>Philadelphia 76ers</td>\n",
       "      <td>SG</td>\n",
       "      <td>9/26/96</td>\n",
       "      <td>1445697</td>\n",
       "    </tr>\n",
       "    <tr>\n",
       "      <th>Christian Wood</th>\n",
       "      <td>Detroit Pistons</td>\n",
       "      <td>PF</td>\n",
       "      <td>9/27/95</td>\n",
       "      <td>1645357</td>\n",
       "    </tr>\n",
       "  </tbody>\n",
       "</table>\n",
       "</div>"
      ],
      "text/plain": [
       "                              Team Position Date of Birth      Pay\n",
       "Name                                                              \n",
       "Shake Milton    Philadelphia 76ers       SG       9/26/96  1445697\n",
       "Christian Wood     Detroit Pistons       PF       9/27/95  1645357"
      ]
     },
     "execution_count": 21,
     "metadata": {},
     "output_type": "execute_result"
    }
   ],
   "source": [
    "# rename() 메서드: DataFrame index 값 변경하기\n",
    "\n",
    "# Birthday → Date of Birth, Salary → Pay로 다시 컬럼명 변경\n",
    "nba.rename(columns = {\"Birthday\" : \"Date of Birth\", \"Salary\" : \"Pay\"}, \n",
    "           inplace = True)\n",
    "nba.head(2)"
   ]
  },
  {
   "cell_type": "code",
   "execution_count": 22,
   "id": "a83fcd56-fcb2-494b-b146-7095f9bb2b05",
   "metadata": {},
   "outputs": [
    {
     "data": {
      "text/plain": [
       "Team             Milwaukee Bucks\n",
       "Position                      PF\n",
       "Date of Birth            12/6/94\n",
       "Pay                     25842697\n",
       "Name: Giannis Antetokounmpo, dtype: object"
      ]
     },
     "execution_count": 22,
     "metadata": {},
     "output_type": "execute_result"
    }
   ],
   "source": [
    "# rename() 메서드를 활용해서 index값 변경 가능\n",
    "# index 키워드 인수에 딕셔너리 형태로 전달\n",
    "# key값은 기존 row index, value값은 변경 후 row index\n",
    "\n",
    "nba.loc[\"Giannis Antetokounmpo\"]"
   ]
  },
  {
   "cell_type": "code",
   "execution_count": 23,
   "id": "a0a2b0bb-9384-4a59-9093-092bd57c163b",
   "metadata": {},
   "outputs": [],
   "source": [
    "nba = nba.rename(index = {\"Giannis Antetokounmpo\" : \"Greek Freak\"})"
   ]
  },
  {
   "cell_type": "code",
   "execution_count": 24,
   "id": "38d70ca1-06eb-472c-b1c8-0f491f5a886d",
   "metadata": {},
   "outputs": [
    {
     "data": {
      "text/plain": [
       "Team             Milwaukee Bucks\n",
       "Position                      PF\n",
       "Date of Birth            12/6/94\n",
       "Pay                     25842697\n",
       "Name: Greek Freak, dtype: object"
      ]
     },
     "execution_count": 24,
     "metadata": {},
     "output_type": "execute_result"
    }
   ],
   "source": [
    "nba.loc[\"Greek Freak\"]"
   ]
  },
  {
   "cell_type": "code",
   "execution_count": 25,
   "id": "b4749d8e-0448-458a-a887-9b446fdd11ad",
   "metadata": {},
   "outputs": [
    {
     "data": {
      "text/html": [
       "<div>\n",
       "<style scoped>\n",
       "    .dataframe tbody tr th:only-of-type {\n",
       "        vertical-align: middle;\n",
       "    }\n",
       "\n",
       "    .dataframe tbody tr th {\n",
       "        vertical-align: top;\n",
       "    }\n",
       "\n",
       "    .dataframe thead th {\n",
       "        text-align: right;\n",
       "    }\n",
       "</style>\n",
       "<table border=\"1\" class=\"dataframe\">\n",
       "  <thead>\n",
       "    <tr style=\"text-align: right;\">\n",
       "      <th></th>\n",
       "      <th>Team</th>\n",
       "      <th>Position</th>\n",
       "      <th>Birthday</th>\n",
       "      <th>Salary</th>\n",
       "    </tr>\n",
       "    <tr>\n",
       "      <th>Name</th>\n",
       "      <th></th>\n",
       "      <th></th>\n",
       "      <th></th>\n",
       "      <th></th>\n",
       "    </tr>\n",
       "  </thead>\n",
       "  <tbody>\n",
       "    <tr>\n",
       "      <th>Tremon Smith</th>\n",
       "      <td>Philadelphia Eagles</td>\n",
       "      <td>RB</td>\n",
       "      <td>1996-07-20</td>\n",
       "      <td>570000</td>\n",
       "    </tr>\n",
       "    <tr>\n",
       "      <th>Shawn Williams</th>\n",
       "      <td>Cincinnati Bengals</td>\n",
       "      <td>SS</td>\n",
       "      <td>1991-05-13</td>\n",
       "      <td>3500000</td>\n",
       "    </tr>\n",
       "    <tr>\n",
       "      <th>Adam Butler</th>\n",
       "      <td>New England Patriots</td>\n",
       "      <td>DT</td>\n",
       "      <td>1994-04-12</td>\n",
       "      <td>645000</td>\n",
       "    </tr>\n",
       "    <tr>\n",
       "      <th>Derek Wolfe</th>\n",
       "      <td>Denver Broncos</td>\n",
       "      <td>DE</td>\n",
       "      <td>1990-02-24</td>\n",
       "      <td>8000000</td>\n",
       "    </tr>\n",
       "    <tr>\n",
       "      <th>Jake Ryan</th>\n",
       "      <td>Jacksonville Jaguars</td>\n",
       "      <td>OLB</td>\n",
       "      <td>1992-02-27</td>\n",
       "      <td>1000000</td>\n",
       "    </tr>\n",
       "    <tr>\n",
       "      <th>...</th>\n",
       "      <td>...</td>\n",
       "      <td>...</td>\n",
       "      <td>...</td>\n",
       "      <td>...</td>\n",
       "    </tr>\n",
       "    <tr>\n",
       "      <th>Bashaud Breeland</th>\n",
       "      <td>Kansas City Chiefs</td>\n",
       "      <td>CB</td>\n",
       "      <td>1992-01-30</td>\n",
       "      <td>805000</td>\n",
       "    </tr>\n",
       "    <tr>\n",
       "      <th>Craig James</th>\n",
       "      <td>Philadelphia Eagles</td>\n",
       "      <td>CB</td>\n",
       "      <td>1996-04-29</td>\n",
       "      <td>570000</td>\n",
       "    </tr>\n",
       "    <tr>\n",
       "      <th>Jonotthan Harrison</th>\n",
       "      <td>New York Jets</td>\n",
       "      <td>C</td>\n",
       "      <td>1991-08-25</td>\n",
       "      <td>1500000</td>\n",
       "    </tr>\n",
       "    <tr>\n",
       "      <th>Chuma Edoga</th>\n",
       "      <td>New York Jets</td>\n",
       "      <td>OT</td>\n",
       "      <td>1997-05-25</td>\n",
       "      <td>495000</td>\n",
       "    </tr>\n",
       "    <tr>\n",
       "      <th>Tajae Sharpe</th>\n",
       "      <td>Tennessee Titans</td>\n",
       "      <td>WR</td>\n",
       "      <td>1994-12-23</td>\n",
       "      <td>2025000</td>\n",
       "    </tr>\n",
       "  </tbody>\n",
       "</table>\n",
       "<p>1655 rows × 4 columns</p>\n",
       "</div>"
      ],
      "text/plain": [
       "                                    Team Position   Birthday   Salary\n",
       "Name                                                                 \n",
       "Tremon Smith         Philadelphia Eagles       RB 1996-07-20   570000\n",
       "Shawn Williams        Cincinnati Bengals       SS 1991-05-13  3500000\n",
       "Adam Butler         New England Patriots       DT 1994-04-12   645000\n",
       "Derek Wolfe               Denver Broncos       DE 1990-02-24  8000000\n",
       "Jake Ryan           Jacksonville Jaguars      OLB 1992-02-27  1000000\n",
       "...                                  ...      ...        ...      ...\n",
       "Bashaud Breeland      Kansas City Chiefs       CB 1992-01-30   805000\n",
       "Craig James          Philadelphia Eagles       CB 1996-04-29   570000\n",
       "Jonotthan Harrison         New York Jets        C 1991-08-25  1500000\n",
       "Chuma Edoga                New York Jets       OT 1997-05-25   495000\n",
       "Tajae Sharpe            Tennessee Titans       WR 1994-12-23  2025000\n",
       "\n",
       "[1655 rows x 4 columns]"
      ]
     },
     "execution_count": 25,
     "metadata": {},
     "output_type": "execute_result"
    }
   ],
   "source": [
    "# 연습문제\n",
    "\n",
    "nfl = pd.read_csv('C:/python/datas/nfl.csv', \n",
    "                  index_col='Name',\n",
    "                  parse_dates=[\"Birthday\"])\n",
    "\n",
    "nfl"
   ]
  },
  {
   "cell_type": "code",
   "execution_count": 35,
   "id": "e7ae5a51-ee49-4e41-a886-e4fa664bd7ab",
   "metadata": {},
   "outputs": [
    {
     "data": {
      "text/plain": [
       "New York Jets           58\n",
       "Kansas City Chiefs      56\n",
       "Washington Redskins     56\n",
       "New Orleans Saints      55\n",
       "San Francisco 49Ers     55\n",
       "Denver Broncos          54\n",
       "Minnesota Vikings       54\n",
       "Los Angeles Chargers    54\n",
       "Seattle Seahawks        53\n",
       "Dallas Cowboys          53\n",
       "Buffalo Bills           53\n",
       "Atlanta Falcons         53\n",
       "Detroit Lions           53\n",
       "Chicago Bears           53\n",
       "Los Angeles Rams        52\n",
       "New York Giants         52\n",
       "Philadelphia Eagles     52\n",
       "Houston Texans          52\n",
       "Arizona Cardinals       51\n",
       "Cincinnati Bengals      51\n",
       "Green Bay Packers       51\n",
       "Oakland Raiders         51\n",
       "Jacksonville Jaguars    50\n",
       "Cleveland Browns        49\n",
       "Miami Dolphins          49\n",
       "Indianapolis Colts      49\n",
       "Carolina Panthers       49\n",
       "New England Patriots    49\n",
       "Baltimore Ravens        48\n",
       "Pittsburgh Steelers     47\n",
       "Tampa Bay Buccaneers    47\n",
       "Tennessee Titans        46\n",
       "Name: Team, dtype: int64"
      ]
     },
     "execution_count": 35,
     "metadata": {},
     "output_type": "execute_result"
    }
   ],
   "source": [
    "# nfl 데이터셋에서 팀당 몇 명의 선수가 소속되어 있는지 확인\n",
    "\n",
    "nfl.Team.value_counts()"
   ]
  },
  {
   "cell_type": "code",
   "execution_count": 39,
   "id": "c98ecfe8-9298-4716-adf6-f6c2f2315813",
   "metadata": {},
   "outputs": [
    {
     "data": {
      "text/html": [
       "<div>\n",
       "<style scoped>\n",
       "    .dataframe tbody tr th:only-of-type {\n",
       "        vertical-align: middle;\n",
       "    }\n",
       "\n",
       "    .dataframe tbody tr th {\n",
       "        vertical-align: top;\n",
       "    }\n",
       "\n",
       "    .dataframe thead th {\n",
       "        text-align: right;\n",
       "    }\n",
       "</style>\n",
       "<table border=\"1\" class=\"dataframe\">\n",
       "  <thead>\n",
       "    <tr style=\"text-align: right;\">\n",
       "      <th></th>\n",
       "      <th>Team</th>\n",
       "      <th>Position</th>\n",
       "      <th>Birthday</th>\n",
       "      <th>Salary</th>\n",
       "    </tr>\n",
       "    <tr>\n",
       "      <th>Name</th>\n",
       "      <th></th>\n",
       "      <th></th>\n",
       "      <th></th>\n",
       "      <th></th>\n",
       "    </tr>\n",
       "  </thead>\n",
       "  <tbody>\n",
       "    <tr>\n",
       "      <th>Kirk Cousins</th>\n",
       "      <td>Minnesota Vikings</td>\n",
       "      <td>QB</td>\n",
       "      <td>1988-08-19</td>\n",
       "      <td>27500000</td>\n",
       "    </tr>\n",
       "    <tr>\n",
       "      <th>Marcus Mariota</th>\n",
       "      <td>Tennessee Titans</td>\n",
       "      <td>QB</td>\n",
       "      <td>1993-10-30</td>\n",
       "      <td>20922000</td>\n",
       "    </tr>\n",
       "    <tr>\n",
       "      <th>Jameis Winston</th>\n",
       "      <td>Tampa Bay Buccaneers</td>\n",
       "      <td>QB</td>\n",
       "      <td>1994-01-06</td>\n",
       "      <td>20922000</td>\n",
       "    </tr>\n",
       "    <tr>\n",
       "      <th>Derek Carr</th>\n",
       "      <td>Oakland Raiders</td>\n",
       "      <td>QB</td>\n",
       "      <td>1991-03-28</td>\n",
       "      <td>19900000</td>\n",
       "    </tr>\n",
       "    <tr>\n",
       "      <th>Jimmy Garoppolo</th>\n",
       "      <td>San Francisco 49Ers</td>\n",
       "      <td>QB</td>\n",
       "      <td>1991-11-02</td>\n",
       "      <td>17200000</td>\n",
       "    </tr>\n",
       "  </tbody>\n",
       "</table>\n",
       "</div>"
      ],
      "text/plain": [
       "                                 Team Position   Birthday    Salary\n",
       "Name                                                               \n",
       "Kirk Cousins        Minnesota Vikings       QB 1988-08-19  27500000\n",
       "Marcus Mariota       Tennessee Titans       QB 1993-10-30  20922000\n",
       "Jameis Winston   Tampa Bay Buccaneers       QB 1994-01-06  20922000\n",
       "Derek Carr            Oakland Raiders       QB 1991-03-28  19900000\n",
       "Jimmy Garoppolo   San Francisco 49Ers       QB 1991-11-02  17200000"
      ]
     },
     "execution_count": 39,
     "metadata": {},
     "output_type": "execute_result"
    }
   ],
   "source": [
    "# 가장 높은 연봉을 받는 5명을 조회\n",
    "\n",
    "nfl.nlargest(5, columns=\"Salary\")"
   ]
  },
  {
   "cell_type": "code",
   "execution_count": 49,
   "id": "2fbedf5c-eff7-4baf-a8d3-7695b5751dad",
   "metadata": {},
   "outputs": [
    {
     "data": {
      "text/html": [
       "<div>\n",
       "<style scoped>\n",
       "    .dataframe tbody tr th:only-of-type {\n",
       "        vertical-align: middle;\n",
       "    }\n",
       "\n",
       "    .dataframe tbody tr th {\n",
       "        vertical-align: top;\n",
       "    }\n",
       "\n",
       "    .dataframe thead th {\n",
       "        text-align: right;\n",
       "    }\n",
       "</style>\n",
       "<table border=\"1\" class=\"dataframe\">\n",
       "  <thead>\n",
       "    <tr style=\"text-align: right;\">\n",
       "      <th></th>\n",
       "      <th>Team</th>\n",
       "      <th>Position</th>\n",
       "      <th>Birthday</th>\n",
       "      <th>Salary</th>\n",
       "    </tr>\n",
       "    <tr>\n",
       "      <th>Name</th>\n",
       "      <th></th>\n",
       "      <th></th>\n",
       "      <th></th>\n",
       "      <th></th>\n",
       "    </tr>\n",
       "  </thead>\n",
       "  <tbody>\n",
       "    <tr>\n",
       "      <th>Chandler Jones</th>\n",
       "      <td>Arizona Cardinals</td>\n",
       "      <td>OLB</td>\n",
       "      <td>1990-02-27</td>\n",
       "      <td>16500000</td>\n",
       "    </tr>\n",
       "    <tr>\n",
       "      <th>Patrick Peterson</th>\n",
       "      <td>Arizona Cardinals</td>\n",
       "      <td>CB</td>\n",
       "      <td>1990-07-11</td>\n",
       "      <td>11000000</td>\n",
       "    </tr>\n",
       "    <tr>\n",
       "      <th>Larry Fitzgerald</th>\n",
       "      <td>Arizona Cardinals</td>\n",
       "      <td>WR</td>\n",
       "      <td>1983-08-31</td>\n",
       "      <td>11000000</td>\n",
       "    </tr>\n",
       "    <tr>\n",
       "      <th>David Johnson</th>\n",
       "      <td>Arizona Cardinals</td>\n",
       "      <td>RB</td>\n",
       "      <td>1991-12-16</td>\n",
       "      <td>5700000</td>\n",
       "    </tr>\n",
       "    <tr>\n",
       "      <th>Justin Pugh</th>\n",
       "      <td>Arizona Cardinals</td>\n",
       "      <td>G</td>\n",
       "      <td>1990-08-15</td>\n",
       "      <td>5000000</td>\n",
       "    </tr>\n",
       "    <tr>\n",
       "      <th>...</th>\n",
       "      <td>...</td>\n",
       "      <td>...</td>\n",
       "      <td>...</td>\n",
       "      <td>...</td>\n",
       "    </tr>\n",
       "    <tr>\n",
       "      <th>Ross Pierschbacher</th>\n",
       "      <td>Washington Redskins</td>\n",
       "      <td>C</td>\n",
       "      <td>1995-05-05</td>\n",
       "      <td>495000</td>\n",
       "    </tr>\n",
       "    <tr>\n",
       "      <th>Kelvin Harmon</th>\n",
       "      <td>Washington Redskins</td>\n",
       "      <td>WR</td>\n",
       "      <td>1996-12-15</td>\n",
       "      <td>495000</td>\n",
       "    </tr>\n",
       "    <tr>\n",
       "      <th>Wes Martin</th>\n",
       "      <td>Washington Redskins</td>\n",
       "      <td>G</td>\n",
       "      <td>1996-05-09</td>\n",
       "      <td>495000</td>\n",
       "    </tr>\n",
       "    <tr>\n",
       "      <th>Jimmy Moreland</th>\n",
       "      <td>Washington Redskins</td>\n",
       "      <td>CB</td>\n",
       "      <td>1995-08-26</td>\n",
       "      <td>495000</td>\n",
       "    </tr>\n",
       "    <tr>\n",
       "      <th>Jeremy Reaves</th>\n",
       "      <td>Washington Redskins</td>\n",
       "      <td>SS</td>\n",
       "      <td>1996-08-29</td>\n",
       "      <td>495000</td>\n",
       "    </tr>\n",
       "  </tbody>\n",
       "</table>\n",
       "<p>1655 rows × 4 columns</p>\n",
       "</div>"
      ],
      "text/plain": [
       "                                   Team Position   Birthday    Salary\n",
       "Name                                                                 \n",
       "Chandler Jones        Arizona Cardinals      OLB 1990-02-27  16500000\n",
       "Patrick Peterson      Arizona Cardinals       CB 1990-07-11  11000000\n",
       "Larry Fitzgerald      Arizona Cardinals       WR 1983-08-31  11000000\n",
       "David Johnson         Arizona Cardinals       RB 1991-12-16   5700000\n",
       "Justin Pugh           Arizona Cardinals        G 1990-08-15   5000000\n",
       "...                                 ...      ...        ...       ...\n",
       "Ross Pierschbacher  Washington Redskins        C 1995-05-05    495000\n",
       "Kelvin Harmon       Washington Redskins       WR 1996-12-15    495000\n",
       "Wes Martin          Washington Redskins        G 1996-05-09    495000\n",
       "Jimmy Moreland      Washington Redskins       CB 1995-08-26    495000\n",
       "Jeremy Reaves       Washington Redskins       SS 1996-08-29    495000\n",
       "\n",
       "[1655 rows x 4 columns]"
      ]
     },
     "execution_count": 49,
     "metadata": {},
     "output_type": "execute_result"
    }
   ],
   "source": [
    "# 팀마다 연봉을 많이 받는 사람들을 내림차순으로 조회\n",
    "# 팀은 오름차순으로 정렬\n",
    "\n",
    "nfl.sort_values(by=['Team','Salary'],\n",
    "                ascending=[True, False])"
   ]
  },
  {
   "cell_type": "code",
   "execution_count": 78,
   "id": "9ab98d6b-c2fe-486a-ba49-01c64a3e59bf",
   "metadata": {},
   "outputs": [
    {
     "data": {
      "text/html": [
       "<div>\n",
       "<style scoped>\n",
       "    .dataframe tbody tr th:only-of-type {\n",
       "        vertical-align: middle;\n",
       "    }\n",
       "\n",
       "    .dataframe tbody tr th {\n",
       "        vertical-align: top;\n",
       "    }\n",
       "\n",
       "    .dataframe thead th {\n",
       "        text-align: right;\n",
       "    }\n",
       "</style>\n",
       "<table border=\"1\" class=\"dataframe\">\n",
       "  <thead>\n",
       "    <tr style=\"text-align: right;\">\n",
       "      <th></th>\n",
       "      <th>Team</th>\n",
       "      <th>Position</th>\n",
       "      <th>Birthday</th>\n",
       "      <th>Salary</th>\n",
       "    </tr>\n",
       "    <tr>\n",
       "      <th>Name</th>\n",
       "      <th></th>\n",
       "      <th></th>\n",
       "      <th></th>\n",
       "      <th></th>\n",
       "    </tr>\n",
       "  </thead>\n",
       "  <tbody>\n",
       "    <tr>\n",
       "      <th>Tom Brady</th>\n",
       "      <td>New England Patriots</td>\n",
       "      <td>QB</td>\n",
       "      <td>1977-08-03</td>\n",
       "      <td>14000000</td>\n",
       "    </tr>\n",
       "  </tbody>\n",
       "</table>\n",
       "</div>"
      ],
      "text/plain": [
       "                           Team Position   Birthday    Salary\n",
       "Name                                                         \n",
       "Tom Brady  New England Patriots       QB 1977-08-03  14000000"
      ]
     },
     "execution_count": 78,
     "metadata": {},
     "output_type": "execute_result"
    }
   ],
   "source": [
    "# New York Jets 팀에서 나이가 가장 많은 선수와, 그의 생일을 조회\n",
    "# index를 Team으로 변경하세요. 단 기존 index는 column으로 다시 복원\n",
    "\n",
    "nfl.loc[nfl['Birthday'] == nfl.Birthday.min()]"
   ]
  }
 ],
 "metadata": {
  "kernelspec": {
   "display_name": "Python 3 (ipykernel)",
   "language": "python",
   "name": "python3"
  },
  "language_info": {
   "codemirror_mode": {
    "name": "ipython",
    "version": 3
   },
   "file_extension": ".py",
   "mimetype": "text/x-python",
   "name": "python",
   "nbconvert_exporter": "python",
   "pygments_lexer": "ipython3",
   "version": "3.9.13"
  }
 },
 "nbformat": 4,
 "nbformat_minor": 5
}
