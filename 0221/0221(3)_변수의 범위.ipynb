{
 "cells": [
  {
   "cell_type": "code",
   "execution_count": 6,
   "id": "3fd03c59-7b35-44ee-ba29-f5e57ca97ad8",
   "metadata": {},
   "outputs": [],
   "source": [
    "# 변수의 범위(variable scope)"
   ]
  },
  {
   "cell_type": "code",
   "execution_count": 7,
   "id": "4c350f24-51be-434f-acd4-8f57225ac543",
   "metadata": {},
   "outputs": [],
   "source": [
    "# 전역 변수(global variable)\n",
    "\n",
    "# 제일 바깥 영역(들여쓰기 없이 쓴 영역)인 전역 범위(global scope)에서 변수를 선언하고 활용\n",
    "# 전역 범위에서 선언했기 때문에 그 변수를 스크립트 전체에서 접근 가능\n",
    "# 그 변수를 전역 변수(global variable)라고 함"
   ]
  },
  {
   "cell_type": "code",
   "execution_count": 8,
   "id": "e92992d6-352c-4af6-ab24-72f52f8fee3b",
   "metadata": {},
   "outputs": [],
   "source": [
    "# 지역 변수(local variable)\n",
    "\n",
    "# 함수 바디(local scope)에서 선언된 변수는 변수를 만든 함수 안에서만 접근 가능"
   ]
  },
  {
   "cell_type": "code",
   "execution_count": 16,
   "id": "e854630c-d3bd-4d5e-ab1e-d1c94470ad70",
   "metadata": {},
   "outputs": [],
   "source": [
    "# 지역 범위에서 전역 변수 할당하기\n",
    "# global 키워드"
   ]
  },
  {
   "cell_type": "code",
   "execution_count": 17,
   "id": "b1cd0c38-6716-436d-9669-72d456eee912",
   "metadata": {},
   "outputs": [],
   "source": [
    "# 함수 바디 안에 함수를 중첩해서 만들기\n",
    "# 함수 바디 안에 def를 쓰기"
   ]
  },
  {
   "cell_type": "code",
   "execution_count": 27,
   "id": "f46653aa-dbc4-47fa-ac31-f54d001269f9",
   "metadata": {},
   "outputs": [
    {
     "name": "stdout",
     "output_type": "stream",
     "text": [
      "Level2 is better than level1.\n"
     ]
    }
   ],
   "source": [
    "def level1():\n",
    "    message = \"This is level1.\"\n",
    "    def level2():\n",
    "        nonlocal message # nonlocal 키워드를 통해 바깥 영역의 변수를 사용하겠다고 설정\n",
    "        message = \"Level2 is better than level1.\"\n",
    "    level2()\n",
    "    print(message)\n",
    "    \n",
    "level1()"
   ]
  },
  {
   "cell_type": "code",
   "execution_count": 29,
   "id": "de1bdf43-db9b-4276-8d02-2579441c9946",
   "metadata": {},
   "outputs": [],
   "source": [
    "# global, nonlocal 특징과 권고사항\n",
    "\n",
    "# global 키워드는 함수의 중첩된 정도와 상관없이 전역 범위의 변수를 매칭\n",
    "# 중첩된 함수마다 같은 이름의 변수가 있다면 nonlocal 키워드는 제일 가까운 바깥 변수를 매칭\n",
    "# 가급적이면 함수마다 이름이 다른 변수명을 사용하는게 좋음"
   ]
  },
  {
   "cell_type": "code",
   "execution_count": 31,
   "id": "3b913256-b751-4e43-82f7-701301927596",
   "metadata": {},
   "outputs": [],
   "source": [
    "# 변수 범위 정리\n",
    "\n",
    "# 함수 안에서 선언한 변수는 함수를 호출해 실행되는 동안만 사용 가능\n",
    "# 범위마다 같은 이름의 변수를 사용해도 각각 독립적으로 동작함\n",
    "# 파이썬 자체에서 정의한 이름 공간을 내장 영역(built-in scope)이라고 함\n",
    "# 함수에서 변수를 호출하면 지역 영역 -> 전역 영역 -> 내장 영역 순으로 해당하는 변수를 확인함"
   ]
  },
  {
   "cell_type": "code",
   "execution_count": 35,
   "id": "aee6f3d4-ced4-47f6-957f-032cf491b4e0",
   "metadata": {},
   "outputs": [
    {
     "data": {
      "text/plain": [
       "20"
      ]
     },
     "execution_count": 35,
     "metadata": {},
     "output_type": "execute_result"
    }
   ],
   "source": [
    "# 람다(Lambda)\n",
    "# 호출될 때 값이 구해지는 하나의 표현식\n",
    "# 이름이 없는 인라인 함수\n",
    "# (lambda[parameters]:expression)(arguments)\n",
    "\n",
    "(lambda x: x+10)(10)"
   ]
  },
  {
   "cell_type": "code",
   "execution_count": 37,
   "id": "204abb6b-1e5c-4dcd-b4bf-bd20e4757636",
   "metadata": {},
   "outputs": [
    {
     "name": "stdout",
     "output_type": "stream",
     "text": [
      "20\n"
     ]
    }
   ],
   "source": [
    "# 람다로 만든 익명함수를 호출하려면 변수에 할당해서 사용 가능\n",
    "# 람다의 expression 부분은 변수 없이 식 한 줄로 표현 가능(인라인)해야 함\n",
    "# 변수가 필요한 경우에는 def를 써서 함수를 정의해서 사용\n",
    "\n",
    "twice = lambda x: x*2\n",
    "print(twice(10))"
   ]
  },
  {
   "cell_type": "code",
   "execution_count": 38,
   "id": "9a8e976e-477b-4ba2-801c-b28172c716d4",
   "metadata": {},
   "outputs": [
    {
     "data": {
      "text/plain": [
       "'B'"
      ]
     },
     "execution_count": 38,
     "metadata": {},
     "output_type": "execute_result"
    }
   ],
   "source": [
    "# 조건 표현식(Conditional Expression)\n",
    "# if else를 한 줄로 작성할 수 있는 방법\n",
    "# if만 사용할 수 없으며, 반드시 else와 같이 써야 함!\n",
    "# 중첩해서 사용 가능\n",
    "# True일 때 값 if 조건식 else False일 때 값\n",
    "\n",
    "score = 90\n",
    "'A' if 90<score<=100 else 'B' if 80<score else 'C'"
   ]
  },
  {
   "cell_type": "code",
   "execution_count": 40,
   "id": "9a81a1de-ce8f-4884-aed5-c00cf97c91a8",
   "metadata": {},
   "outputs": [
    {
     "name": "stdout",
     "output_type": "stream",
     "text": [
      "[2, 8, 18, 32, 50]\n"
     ]
    }
   ],
   "source": [
    "# 람다와 map() 함수 같이 사용\n",
    "# map(lambda parameter1, parameter2, ...:expression, iterable1, iterable2, ...)\n",
    "\n",
    "a = [_ for _ in range(1, 6)]\n",
    "b = [_ for _ in range(2, 11, 2)]\n",
    "print(list(map(lambda x, y: x*y, a, b)))"
   ]
  },
  {
   "cell_type": "code",
   "execution_count": 42,
   "id": "3420164f-71fd-42ee-b1af-0da7ee247fb2",
   "metadata": {},
   "outputs": [
    {
     "data": {
      "text/plain": [
       "[3, 9, 9]"
      ]
     },
     "execution_count": 42,
     "metadata": {},
     "output_type": "execute_result"
    }
   ],
   "source": [
    "# filter()\n",
    "# filter의 첫 인수로 들어가는 함수의 반환 값이 True일 때만 해당 요소를 가져옴\n",
    "\n",
    "a = [3, 2, 8, 22, 10, 7, 0, 11, 9, 9]\n",
    "list(filter(lambda x: x%3 == 0 and 0<x<10, a))"
   ]
  },
  {
   "cell_type": "code",
   "execution_count": 45,
   "id": "ac3f2df1-e42f-4e60-be1b-bab7cf95dd8c",
   "metadata": {},
   "outputs": [],
   "source": [
    "# 객체 지향(Object Oriented) 프로그래밍\n",
    "# 복잡한 문제를 잘게 나누어 객체로 만들고, 객체를 조합해서 문제를 해결\n",
    "# 기능을 개선하고 발전시킬 때 해당 클래스만 수정하면 되므로 큰 프로젝트의 유지보수에 매우 효율적\n",
    "# 객체가 가진 데이터를 클래스의 속성(Attribute)이라 부름\n",
    "# 객체가 갖는 기능을 메서드(Method)라고 부름"
   ]
  },
  {
   "cell_type": "code",
   "execution_count": 3,
   "id": "82b46c29-6b50-4c6b-ac26-a05f6681f79b",
   "metadata": {},
   "outputs": [],
   "source": [
    "# 클래스(class)\n",
    "# 사용자 정의 객체를 만들기 위한 주형\n",
    "# 클래스 정의는 보통 클래스의 인스턴스를 대상으로 연산하는 메서드 정의를 포함함\n",
    "# 클래스명으로 주로 PascalCase(UpperCamelCase)를 씀\n",
    "\n",
    "# class ClassName:\n",
    "#    def method_name(self):\n",
    "#       method_body\n",
    "        \n",
    "#    class_body\n",
    "#    ..."
   ]
  },
  {
   "cell_type": "code",
   "execution_count": 6,
   "id": "cf721d14-d840-4cd1-a89b-e4802eed6891",
   "metadata": {},
   "outputs": [],
   "source": [
    "# 객체(object)와 인스턴스(instance)는 결국 같은 말\n",
    "# 인스턴스(instance)는 특정 클래스로부터 만들어진 실체로 언급을 많이 함\n",
    "# 인스턴스의 생성은 클래스명 오른편에 소괄호를 붙여서 만듦\n",
    "# instance_variable = ClassName()"
   ]
  },
  {
   "cell_type": "code",
   "execution_count": 8,
   "id": "2f4aafd1-852d-4d75-9ee2-e8ca14e4744e",
   "metadata": {},
   "outputs": [
    {
     "name": "stdout",
     "output_type": "stream",
     "text": [
      "안녕하세요.\n"
     ]
    }
   ],
   "source": [
    "# 메서드(Method)는 클래스 바디 안에서 정의되는 함수\n",
    "# 클래스의 인스턴스의 어트리뷰트(attribute)로서 호출되면, 그 메서드는 첫 번째 인자로 인스턴스 객체(self)를 받음\n",
    "# 클래스 속성(attribute)을 만들 때는 __init__ 메서드 안에서 self.속성에 값을 할당\n",
    "\n",
    "class Person:\n",
    "    def __init__(self):\n",
    "        self.hello = \"안녕하세요.\"\n",
    "    \n",
    "    def greeting(self):\n",
    "        print(self.hello)\n",
    "        \n",
    "james = Person()\n",
    "james.greeting()"
   ]
  }
 ],
 "metadata": {
  "kernelspec": {
   "display_name": "Python 3 (ipykernel)",
   "language": "python",
   "name": "python3"
  },
  "language_info": {
   "codemirror_mode": {
    "name": "ipython",
    "version": 3
   },
   "file_extension": ".py",
   "mimetype": "text/x-python",
   "name": "python",
   "nbconvert_exporter": "python",
   "pygments_lexer": "ipython3",
   "version": "3.9.13"
  }
 },
 "nbformat": 4,
 "nbformat_minor": 5
}
