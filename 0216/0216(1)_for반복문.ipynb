{
 "cells": [
  {
   "cell_type": "code",
   "execution_count": 1,
   "id": "1a82588e-0128-4417-a8e6-b61af8d40631",
   "metadata": {},
   "outputs": [
    {
     "name": "stdout",
     "output_type": "stream",
     "text": [
      "[2, 4, 6, 8, 10, 12, 14, 16, 18, 20, 22, 24, 26, 28, 30, 32, 34, 36, 38, 40, 42, 44, 46, 48, 50, 52, 54, 56, 58, 60, 62, 64, 66, 68, 70, 72, 74, 76, 78, 80, 82, 84, 86, 88, 90, 92, 94, 96, 98]\n"
     ]
    }
   ],
   "source": [
    "# range() 함수로 list 생성하기\n",
    "\n",
    "even_numbers = list(range(2, 100, 2))\n",
    "print(even_numbers)"
   ]
  },
  {
   "cell_type": "code",
   "execution_count": 4,
   "id": "b4a311ad-c711-41bf-b78c-e7370d7f3b38",
   "metadata": {},
   "outputs": [],
   "source": [
    "# range()가 돌려준 객체는 마치 리스트인 것처럼 동작하지만, 사실 리스트와는 다름\n",
    "# range 객체는 iterate할 때 원하는 시퀀스 항목(요소)들을 순서대로 요소를 돌려주는 객체\n",
    "# 객체: 실제 존재하는 것(메모리 상에)\n",
    "# 메모리에 공간을 할당하여 미리 모든 요소들을 만들어 두는 것이 아니라 필요할 때 그때그때 다음 요소를 만들어 반환함\n",
    "# 공간 효율적임"
   ]
  },
  {
   "cell_type": "code",
   "execution_count": 8,
   "id": "26c415c8-4480-4102-bdd1-9fb0bb4ec9fa",
   "metadata": {},
   "outputs": [],
   "source": [
    "# for문은 시퀀스 자료형의 항목들을 순서대로 요소를 하나씩 꺼냄\n",
    "# 반복되는 부분을 만들 때 활용하면 좋음\n",
    "# 혹은 iterable(객체)를 루핑할 때 좋음 (순서대로 다 꺼낸다는 의미)\n",
    "# 반복 횟수가 정해져 있을 때 주로 사용함 (무한 X, 유한 O)"
   ]
  },
  {
   "cell_type": "code",
   "execution_count": 9,
   "id": "6a966428-5724-4598-9c16-3ea5405b9bc1",
   "metadata": {},
   "outputs": [],
   "source": [
    "# iterable -> 여러 개의 요소들로 구성돼있으면서 요소를 한 번에 하나씩 돌려줄 수 있는 객체\n",
    "# 객체: 메모리에 할당되어 존재하고 있는 데이터"
   ]
  },
  {
   "cell_type": "code",
   "execution_count": 12,
   "id": "abed2636-eb08-4d4f-a992-398f7b6ea5f9",
   "metadata": {},
   "outputs": [],
   "source": [
    "# python에서의 for문은 다른 프로그래밍 언어와 다름\n",
    "# Java의 일반적인 for문은 for(변수 선언; 조건식; 증감식){실행부}으로 생김\n",
    "# 변수의 숫자를 증감시키고, 산술적 변화에 따라 조건식에 부합할 때까지 반복하는 방식\n",
    "# python: 동적 타이핑, Java:정적 타이핑\n",
    "# python: for i in range(len(문자열)):\n",
    "# Java: for(int i = 0, i < 문자열.length(); i++){명령어; }"
   ]
  },
  {
   "cell_type": "code",
   "execution_count": 19,
   "id": "6e808f28-9697-48e3-9b41-88113c664f84",
   "metadata": {},
   "outputs": [
    {
     "name": "stdout",
     "output_type": "stream",
     "text": [
      "hello world0\n",
      "hello world1\n",
      "hello world2\n",
      "hello world3\n",
      "hello world4\n",
      "hello world5\n",
      "hello world6\n",
      "hello world7\n",
      "hello world8\n",
      "hello world9\n",
      "끝\n"
     ]
    }
   ],
   "source": [
    "# for 요소를 담을 변수 in 반복 가능한 객체: (뛰어쓰기 4칸) 반복할 코드\n",
    "# for 변수 in range(횟수): (뛰어쓰기 4칸) 반복할 코드\n",
    "\n",
    "for i in range(10):\n",
    "    print(f\"hello world{i}\")\n",
    "print(\"끝\")"
   ]
  },
  {
   "cell_type": "code",
   "execution_count": 24,
   "id": "63d2a541-6708-4cb8-b51f-2073d62eae36",
   "metadata": {
    "scrolled": true,
    "tags": []
   },
   "outputs": [
    {
     "name": "stdout",
     "output_type": "stream",
     "text": [
      "Hello world1\n",
      "Hello world2\n",
      "Hello world3\n",
      "Hello world4\n",
      "Hello world5\n",
      "Hello world6\n",
      "Hello world7\n",
      "Hello world8\n",
      "Hello world9\n",
      "Hello world10\n",
      "Hello world11\n",
      "Hello world12\n",
      "Hello world13\n",
      "Hello world14\n",
      "Hello world15\n",
      "Hello world16\n",
      "Hello world17\n",
      "Hello world18\n",
      "Hello world19\n",
      "Hello world20\n",
      "Hello world21\n",
      "Hello world22\n",
      "Hello world23\n",
      "Hello world24\n",
      "Hello world25\n",
      "Hello world26\n",
      "Hello world27\n",
      "Hello world28\n",
      "Hello world29\n",
      "Hello world30\n",
      "Hello world31\n",
      "Hello world32\n",
      "Hello world33\n",
      "Hello world34\n",
      "Hello world35\n",
      "Hello world36\n",
      "Hello world37\n",
      "Hello world38\n",
      "Hello world39\n",
      "Hello world40\n",
      "Hello world41\n",
      "Hello world42\n",
      "Hello world43\n",
      "Hello world44\n",
      "Hello world45\n",
      "Hello world46\n",
      "Hello world47\n",
      "Hello world48\n",
      "Hello world49\n",
      "Hello world50\n",
      "Hello world51\n",
      "Hello world52\n",
      "Hello world53\n",
      "Hello world54\n",
      "Hello world55\n",
      "Hello world56\n",
      "Hello world57\n",
      "Hello world58\n",
      "Hello world59\n",
      "Hello world60\n",
      "Hello world61\n",
      "Hello world62\n",
      "Hello world63\n",
      "Hello world64\n",
      "Hello world65\n",
      "Hello world66\n",
      "Hello world67\n",
      "Hello world68\n",
      "Hello world69\n",
      "Hello world70\n",
      "Hello world71\n",
      "Hello world72\n",
      "Hello world73\n",
      "Hello world74\n",
      "Hello world75\n",
      "Hello world76\n",
      "Hello world77\n",
      "Hello world78\n",
      "Hello world79\n",
      "Hello world80\n",
      "Hello world81\n",
      "Hello world82\n",
      "Hello world83\n",
      "Hello world84\n",
      "Hello world85\n",
      "Hello world86\n",
      "Hello world87\n",
      "Hello world88\n",
      "Hello world89\n",
      "Hello world90\n",
      "Hello world91\n",
      "Hello world92\n",
      "Hello world93\n",
      "Hello world94\n",
      "Hello world95\n",
      "Hello world96\n",
      "Hello world97\n",
      "Hello world98\n",
      "Hello world99\n",
      "Hello world100\n"
     ]
    }
   ],
   "source": [
    "for i in range(1, 101):\n",
    "    print(f\"Hello world{i}\")"
   ]
  },
  {
   "cell_type": "code",
   "execution_count": 27,
   "id": "51205636-2399-421a-bdb8-882a77860c64",
   "metadata": {},
   "outputs": [
    {
     "name": "stdin",
     "output_type": "stream",
     "text": [
      "인사 몇 번 해드릴까요? 3\n"
     ]
    },
    {
     "name": "stdout",
     "output_type": "stream",
     "text": [
      "Hello world\n",
      "Hello world\n",
      "Hello world\n"
     ]
    }
   ],
   "source": [
    "input_value = int(input(\"인사 몇 번 해드릴까요?\"))\n",
    "for i in range(input_value):\n",
    "    print(\"Hello world\")"
   ]
  },
  {
   "cell_type": "code",
   "execution_count": 28,
   "id": "9a042b15-aa97-418b-8757-413dc7373654",
   "metadata": {},
   "outputs": [
    {
     "name": "stdin",
     "output_type": "stream",
     "text": [
      "인사 몇 번 해드릴까요? 3\n"
     ]
    },
    {
     "name": "stdout",
     "output_type": "stream",
     "text": [
      "Hello world  1\n",
      "Hello world  2\n",
      "Hello world  3\n"
     ]
    }
   ],
   "source": [
    "count = int(input(\"인사 몇 번 해드릴까요?\"))\n",
    "for i in range(1, count+1):\n",
    "    print(\"Hello world \", i)"
   ]
  },
  {
   "cell_type": "code",
   "execution_count": 35,
   "id": "f7089d3c-c165-4b9f-b23f-9dd02b8d8776",
   "metadata": {},
   "outputs": [
    {
     "data": {
      "text/plain": [
       "[5, 6, 7, 8, 9]"
      ]
     },
     "execution_count": 35,
     "metadata": {},
     "output_type": "execute_result"
    }
   ],
   "source": [
    "list(range(5, 9+1))"
   ]
  },
  {
   "cell_type": "code",
   "execution_count": 36,
   "id": "8168bad6-f5da-46b0-a502-fd256ca2a5ed",
   "metadata": {},
   "outputs": [
    {
     "data": {
      "text/plain": [
       "[0, 3, 6, 9]"
      ]
     },
     "execution_count": 36,
     "metadata": {},
     "output_type": "execute_result"
    }
   ],
   "source": [
    "list(range(0, 9+1, 3))"
   ]
  },
  {
   "cell_type": "code",
   "execution_count": 37,
   "id": "1da74e2e-858a-4b17-bbe2-670e7c7d0404",
   "metadata": {},
   "outputs": [
    {
     "data": {
      "text/plain": [
       "[-10, -40, -70]"
      ]
     },
     "execution_count": 37,
     "metadata": {},
     "output_type": "execute_result"
    }
   ],
   "source": [
    "list(range(-10, -70-1, -30))"
   ]
  },
  {
   "cell_type": "code",
   "execution_count": 111,
   "id": "e04fcf1f-5a1c-436a-847f-fd9eac7e47d5",
   "metadata": {},
   "outputs": [
    {
     "name": "stdin",
     "output_type": "stream",
     "text": [
      "자연수 하나 입력해주세요: 6\n"
     ]
    },
    {
     "name": "stdout",
     "output_type": "stream",
     "text": [
      "6\t6\t6\t6\t6\t6\t\n",
      "5\t5\t5\t5\t5\t\n",
      "4\t4\t4\t4\t\n",
      "3\t3\t3\t\n",
      "2\t2\t\n",
      "1\t\n"
     ]
    }
   ],
   "source": [
    "number = int(input(\"자연수 하나 입력해주세요:\"))\n",
    "\n",
    "for i in range(number):\n",
    "    print((number-i)*f\"{(number-i)}\\t\")"
   ]
  },
  {
   "cell_type": "code",
   "execution_count": 113,
   "id": "0cef3b89-5858-4e96-a817-20ae231dacac",
   "metadata": {},
   "outputs": [
    {
     "name": "stdin",
     "output_type": "stream",
     "text": [
      "자연수 하나 입력해주세요: 6\n"
     ]
    },
    {
     "name": "stdout",
     "output_type": "stream",
     "text": [
      "6\t6\t6\t6\t6\t6\t\n",
      "5\t5\t5\t5\t5\t\n",
      "4\t4\t4\t4\t\n",
      "3\t3\t3\t\n",
      "2\t2\t\n",
      "1\t\n"
     ]
    }
   ],
   "source": [
    "number = int(input(\"자연수 하나 입력해주세요:\"))\n",
    "\n",
    "for i in range(number, 0, -1):\n",
    "    print(f\"{i}\\t\"*i)"
   ]
  },
  {
   "cell_type": "code",
   "execution_count": 115,
   "id": "995cce3e-375c-4a1e-af71-7d10a976edbc",
   "metadata": {},
   "outputs": [
    {
     "name": "stdin",
     "output_type": "stream",
     "text": [
      "자연수 하나 입력해주세요: 6\n"
     ]
    },
    {
     "name": "stdout",
     "output_type": "stream",
     "text": [
      "6\t6\t6\t6\t6\t6\t\n",
      "5\t5\t5\t5\t5\t\n",
      "4\t4\t4\t4\t\n",
      "3\t3\t3\t\n",
      "2\t2\t\n",
      "1\t\n"
     ]
    }
   ],
   "source": [
    "number = int(input(\"자연수 하나 입력해주세요:\"))\n",
    "\n",
    "for i in range(number, 0, -1):\n",
    "    for f in range(i):\n",
    "        print(i, end = \"\\t\")\n",
    "    print()"
   ]
  },
  {
   "cell_type": "code",
   "execution_count": 139,
   "id": "02841ae6-8433-406a-89fb-f8aefbb6c4f5",
   "metadata": {},
   "outputs": [
    {
     "name": "stdout",
     "output_type": "stream",
     "text": [
      "* * * * * * * * * * \n",
      "*\t\t  *\n",
      "*\t\t  *\n",
      "*\t\t  *\n",
      "*\t\t  *\n",
      "*\t\t  *\n",
      "*\t\t  *\n",
      "*\t\t  *\n",
      "*\t\t  *\n",
      "* * * * * * * * * * \n"
     ]
    }
   ],
   "source": [
    "print(\"* \"*10)\n",
    "for i in range(8):\n",
    "    print(\"*\\t\\t  \", end = \"*\\n\")\n",
    "print(\"* \"*10)"
   ]
  },
  {
   "cell_type": "code",
   "execution_count": 140,
   "id": "7b6b259b-f2a0-450e-b7b7-e8f6a1cbc9f9",
   "metadata": {},
   "outputs": [
    {
     "name": "stdout",
     "output_type": "stream",
     "text": [
      "* * * * * * * * * * \n",
      "*\t\t  *\n",
      "*\t\t  *\n",
      "*\t\t  *\n",
      "*\t\t  *\n",
      "*\t\t  *\n",
      "*\t\t  *\n",
      "*\t\t  *\n",
      "*\t\t  *\n",
      "* * * * * * * * * * \n"
     ]
    }
   ],
   "source": [
    "a = 10\n",
    "for i in range(10):\n",
    "    if i == 0:\n",
    "        print(\"* \"*a)\n",
    "    elif 0 < i <9:\n",
    "        print(\"*\\t\\t  *\")\n",
    "    else:\n",
    "        print(\"* \"*a)"
   ]
  },
  {
   "cell_type": "code",
   "execution_count": 145,
   "id": "0559cfd0-2030-4df8-866e-8d4b4440ea1a",
   "metadata": {},
   "outputs": [
    {
     "name": "stdout",
     "output_type": "stream",
     "text": [
      "* * * * * * * * * * \n",
      "*                 *\n",
      "*                 *\n",
      "*                 *\n",
      "*                 *\n",
      "*                 *\n",
      "*                 *\n",
      "*                 *\n",
      "*                 *\n",
      "* * * * * * * * * * \n"
     ]
    }
   ],
   "source": [
    "for i in range(10):\n",
    "    if i == 0 or i == 9:\n",
    "        print(\"* \"*10)\n",
    "    else:\n",
    "        print(\"*                 *\")"
   ]
  },
  {
   "cell_type": "code",
   "execution_count": 27,
   "id": "2593f33c-6415-45ee-becc-8842859bc52a",
   "metadata": {},
   "outputs": [
    {
     "name": "stdin",
     "output_type": "stream",
     "text": [
      "1부터 입력한 자연수까지의 모든 홀수의 합을 구합니다. 100\n"
     ]
    },
    {
     "name": "stdout",
     "output_type": "stream",
     "text": [
      "1 + 3 + 5 + 7 + 9 + 11 + 13 + 15 + 17 + 19 + 21 + 23 + 25 + 27 + 29 + 31 + 33 + 35 + 37 + 39 + 41 + 43 + 45 + 47 + 49 + 51 + 53 + 55 + 57 + 59 + 61 + 63 + 65 + 67 + 69 + 71 + 73 + 75 + 77 + 79 + 81 + 83 + 85 + 87 + 89 + 91 + 93 + 95 + 97 + 99 = 2500\n"
     ]
    }
   ],
   "source": [
    "num = int(input(\"1부터 입력한 자연수까지의 모든 홀수의 합을 구합니다.\"))\n",
    "\n",
    "result = 0\n",
    "\n",
    "for i in range(1, num+1):\n",
    "    if i%2 == 1:\n",
    "        if (num-1) == i or num == i:\n",
    "            print(i, end = \" = \")\n",
    "        else:\n",
    "            print(i, end = \" + \")\n",
    "        result += i  # result = result + i\n",
    "        \n",
    "print(result)"
   ]
  },
  {
   "cell_type": "code",
   "execution_count": 12,
   "id": "dc9a368c-4600-43fe-8e06-9764d7614db1",
   "metadata": {},
   "outputs": [
    {
     "name": "stdin",
     "output_type": "stream",
     "text": [
      "1부터 입력한 자연수까지의 모든 홀수의 합을 구합니다. 100\n"
     ]
    },
    {
     "name": "stdout",
     "output_type": "stream",
     "text": [
      "1 + 3 + 5 + 7 + 9 + 11 + 13 + 15 + 17 + 19 + 21 + 23 + 25 + 27 + 29 + 31 + 33 + 35 + 37 + 39 + 41 + 43 + 45 + 47 + 49 + 51 + 53 + 55 + 57 + 59 + 61 + 63 + 65 + 67 + 69 + 71 + 73 + 75 + 77 + 79 + 81 + 83 + 85 + 87 + 89 + 91 + 93 + 95 + 97 + 99 = 2500\n"
     ]
    }
   ],
   "source": [
    "# 자연수 전체를 체크하는 경우\n",
    "\n",
    "num = int(input(\"1부터 입력한 자연수까지의 모든 홀수의 합을 구합니다.\"))\n",
    "print(\"1\", end = \"\")\n",
    "\n",
    "result = 1  # 1에 대한 덧셈을 했다는 가정이 있음\n",
    "\n",
    "for i in range(3, num+1):\n",
    "    if i%2 == 1:\n",
    "        print(f\" + {i}\", end = \"\")\n",
    "        result += i\n",
    "\n",
    "print(f\" = {result}\")"
   ]
  },
  {
   "cell_type": "code",
   "execution_count": 13,
   "id": "370f04b6-ce0a-4c23-9ee0-1849f85107fd",
   "metadata": {},
   "outputs": [
    {
     "name": "stdin",
     "output_type": "stream",
     "text": [
      "1부터 입력한 자연수까지의 모든 홀수의 합을 구합니다. 100\n"
     ]
    },
    {
     "name": "stdout",
     "output_type": "stream",
     "text": [
      "1 + 3 + 5 + 7 + 9 + 11 + 13 + 15 + 17 + 19 + 21 + 23 + 25 + 27 + 29 + 31 + 33 + 35 + 37 + 39 + 41 + 43 + 45 + 47 + 49 + 51 + 53 + 55 + 57 + 59 + 61 + 63 + 65 + 67 + 69 + 71 + 73 + 75 + 77 + 79 + 81 + 83 + 85 + 87 + 89 + 91 + 93 + 95 + 97 + 99 = 2500\n"
     ]
    }
   ],
   "source": [
    "# 홀수만 만들어서 해결한 경우\n",
    "\n",
    "num = int(input(\"1부터 입력한 자연수까지의 모든 홀수의 합을 구합니다.\"))\n",
    "print(\"1\", end = \"\")\n",
    "\n",
    "result = 0 + 1\n",
    "\n",
    "for i in range(3, num+1, 2):\n",
    "    print(f\" + {i}\", end = \"\")\n",
    "    result += i\n",
    "\n",
    "print(f\" = {result}\")"
   ]
  },
  {
   "cell_type": "code",
   "execution_count": 21,
   "id": "270be398-be49-4888-b569-7f1af395ab62",
   "metadata": {},
   "outputs": [
    {
     "name": "stdin",
     "output_type": "stream",
     "text": [
      "계승을 구할 숫자를 입력하세요. 7\n"
     ]
    },
    {
     "name": "stdout",
     "output_type": "stream",
     "text": [
      "5040\n"
     ]
    }
   ],
   "source": [
    "num = int(input(\"계승을 구할 숫자를 입력하세요.\"))\n",
    "result = 1  # 누적 덧셈의 경우에는 0, 누적 곱셈의 경우에는 1\n",
    "\n",
    "for i in range(1, num+1):\n",
    "    result *= i\n",
    "\n",
    "print(result)"
   ]
  },
  {
   "cell_type": "code",
   "execution_count": 35,
   "id": "769143f0-6574-49ef-8e8f-f8b73148a638",
   "metadata": {},
   "outputs": [
    {
     "name": "stdout",
     "output_type": "stream",
     "text": [
      "시\n",
      "미\n",
      "라\n",
      "레\n",
      "솔\n",
      "도\n",
      "파\n"
     ]
    }
   ],
   "source": [
    "# 리스트\n",
    "\n",
    "for i in [\"시\", \"미\", \"라\", \"레\", \"솔\", \"도\", \"파\"]:\n",
    "    print(i)"
   ]
  },
  {
   "cell_type": "code",
   "execution_count": 36,
   "id": "66e1ea85-1ad8-4a69-909b-ec1f86250846",
   "metadata": {},
   "outputs": [
    {
     "name": "stdout",
     "output_type": "stream",
     "text": [
      "시 미 라 레 솔 도 파 "
     ]
    }
   ],
   "source": [
    "# 튜플\n",
    "\n",
    "for i in (\"시\", \"미\", \"라\", \"레\", \"솔\", \"도\", \"파\"):\n",
    "    print(i, end = \" \")"
   ]
  },
  {
   "cell_type": "code",
   "execution_count": 37,
   "id": "dc1766b8-8c78-4924-bf05-939d7e90ad3c",
   "metadata": {},
   "outputs": [
    {
     "name": "stdout",
     "output_type": "stream",
     "text": [
      "일 이 삼 사 오 육 칠 팔 구 십 "
     ]
    }
   ],
   "source": [
    "# 문자열은 글자 하나하나 꺼내어 반복함\n",
    "\n",
    "for i in \"일이삼사오육칠팔구십\":\n",
    "    print(i, end = \" \")"
   ]
  },
  {
   "cell_type": "code",
   "execution_count": 41,
   "id": "ce777c0e-6eb6-4818-ae23-3fe55b1b5e7d",
   "metadata": {},
   "outputs": [
    {
     "name": "stdout",
     "output_type": "stream",
     "text": [
      "십 구 팔 칠 육 오 사 삼 이 일 "
     ]
    }
   ],
   "source": [
    "# reversed() 함수를 통해서 역순으로 변경 가능함\n",
    "# reversed(시퀀스) 함수는 반환값을 주지만 해당 시퀀스를 변경하지 않음\n",
    "# 리스트.reverse() 함수는 리스트 요소 순서를 뒤집어주며 반환값이 없음(None)\n",
    "# 슬라이싱(변수[::1])을 통해서 요소들의 순서를 반대로 반전할 수도 있음\n",
    "\n",
    "for i in reversed(\"일이삼사오육칠팔구십\"):\n",
    "    print(i, end = \" \")"
   ]
  },
  {
   "cell_type": "code",
   "execution_count": 43,
   "id": "4b4af4f1-fd1d-48b5-ab7d-5f9a73e74634",
   "metadata": {},
   "outputs": [
    {
     "name": "stdout",
     "output_type": "stream",
     "text": [
      "None\n"
     ]
    }
   ],
   "source": [
    "list = [1, 2, 3]\n",
    "print(list.reverse())"
   ]
  },
  {
   "cell_type": "code",
   "execution_count": 47,
   "id": "6ea32097-69ac-48d9-812d-ff11d29ef306",
   "metadata": {},
   "outputs": [
    {
     "name": "stdout",
     "output_type": "stream",
     "text": [
      "100 -420 250 1030 210 770 240 "
     ]
    }
   ],
   "source": [
    "x = [10, -42, 25, 103, 21, 77, 24]\n",
    "\n",
    "for i in x:\n",
    "    print(i*10, end = \" \")"
   ]
  },
  {
   "cell_type": "code",
   "execution_count": 57,
   "id": "f911e7ae-6578-477b-8263-259dbc48d18f",
   "metadata": {},
   "outputs": [
    {
     "name": "stdin",
     "output_type": "stream",
     "text": [
      "구구단을 알려드립니다. 숫자를 입력하세요. 9\n"
     ]
    },
    {
     "name": "stdout",
     "output_type": "stream",
     "text": [
      "9 * 1 = 9\n",
      "9 * 2 = 18\n",
      "9 * 3 = 27\n",
      "9 * 4 = 36\n",
      "9 * 5 = 45\n",
      "9 * 6 = 54\n",
      "9 * 7 = 63\n",
      "9 * 8 = 72\n",
      "9 * 9 = 81\n"
     ]
    }
   ],
   "source": [
    "num = int(input(\"구구단을 알려드립니다. 숫자를 입력하세요.\"))\n",
    "\n",
    "for i in range(1, 9+1):\n",
    "    print(f\"{num} * {i} = {num*i}\")"
   ]
  },
  {
   "cell_type": "code",
   "execution_count": 4,
   "id": "66025e88-6f5f-4b0d-9e14-bf9244783eca",
   "metadata": {},
   "outputs": [
    {
     "name": "stdin",
     "output_type": "stream",
     "text": [
      "자연수를 입력해주세요: 100\n"
     ]
    },
    {
     "name": "stdout",
     "output_type": "stream",
     "text": [
      "5050\n"
     ]
    }
   ],
   "source": [
    "num = int(input(\"자연수를 입력해주세요:\"))\n",
    "result = 0\n",
    "\n",
    "for i in range(1, num+1):\n",
    "    result += i\n",
    "    \n",
    "print(result)"
   ]
  },
  {
   "cell_type": "code",
   "execution_count": 20,
   "id": "4451d5c9-8a83-4fd4-921a-65358e8d49e2",
   "metadata": {},
   "outputs": [
    {
     "name": "stdout",
     "output_type": "stream",
     "text": [
      "*****\n",
      "*****\n",
      "*****\n",
      "*****\n",
      "*****\n"
     ]
    }
   ],
   "source": [
    "for i in range(5):\n",
    "    for j in range(5):\n",
    "        print(\"*\", end = \"\")\n",
    "    print()"
   ]
  }
 ],
 "metadata": {
  "kernelspec": {
   "display_name": "Python 3 (ipykernel)",
   "language": "python",
   "name": "python3"
  },
  "language_info": {
   "codemirror_mode": {
    "name": "ipython",
    "version": 3
   },
   "file_extension": ".py",
   "mimetype": "text/x-python",
   "name": "python",
   "nbconvert_exporter": "python",
   "pygments_lexer": "ipython3",
   "version": "3.9.13"
  }
 },
 "nbformat": 4,
 "nbformat_minor": 5
}
