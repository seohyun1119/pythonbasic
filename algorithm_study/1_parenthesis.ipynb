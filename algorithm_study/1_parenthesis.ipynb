{
 "cells": [
  {
   "cell_type": "code",
   "execution_count": 1,
   "metadata": {},
   "outputs": [],
   "source": [
    "par = []"
   ]
  },
  {
   "cell_type": "code",
   "execution_count": 2,
   "metadata": {},
   "outputs": [],
   "source": [
    "a = '(())())'"
   ]
  },
  {
   "cell_type": "code",
   "execution_count": 3,
   "metadata": {},
   "outputs": [
    {
     "name": "stdout",
     "output_type": "stream",
     "text": [
      "Yes\n",
      "Yes\n",
      "Yes\n",
      "Yes\n"
     ]
    }
   ],
   "source": [
    "if a[0] ==')':\n",
    "    print('No')\n",
    "else:\n",
    "    for i in a:\n",
    "        if i == '(':\n",
    "            par.append(i)\n",
    "        else:\n",
    "            if i == ')':\n",
    "                par.pop\n",
    "                print('Yes')\n",
    "            else:\n",
    "                print('No')\n",
    "\n"
   ]
  },
  {
   "cell_type": "code",
   "execution_count": 4,
   "metadata": {},
   "outputs": [
    {
     "name": "stdout",
     "output_type": "stream",
     "text": [
      "Yes\n"
     ]
    }
   ],
   "source": [
    "if a[0] ==')':\n",
    "    print('No')\n",
    "else:\n",
    "    for i in a:\n",
    "        if i == '(':\n",
    "            par.append(i)\n",
    "        else:\n",
    "            par.pop()\n",
    "            if par =='(':\n",
    "                print('No')\n",
    "                break\n",
    "            elif par ==')':\n",
    "                print('No')\n",
    "                break\n",
    "            else:\n",
    "                print('Yes')\n",
    "                break"
   ]
  },
  {
   "cell_type": "code",
   "execution_count": 5,
   "metadata": {},
   "outputs": [
    {
     "name": "stdout",
     "output_type": "stream",
     "text": [
      "Yes\n"
     ]
    }
   ],
   "source": [
    "if a[0] ==')':\n",
    "    print('No')\n",
    "else:\n",
    "    while True:\n",
    "        i = 0\n",
    "        i += 1\n",
    "        for i in a:\n",
    "            if i == '(':\n",
    "                par.append(i)\n",
    "        else:\n",
    "            par.pop()\n",
    "        break\n",
    "    if par =='(':\n",
    "        print('No')\n",
    "    elif par ==')':\n",
    "        print('No')\n",
    "    else:\n",
    "        print('Yes')\n"
   ]
  },
  {
   "cell_type": "code",
   "execution_count": 8,
   "metadata": {},
   "outputs": [
    {
     "name": "stdout",
     "output_type": "stream",
     "text": [
      "YES\n",
      "NO\n",
      "YES\n",
      "NO\n",
      "YES\n"
     ]
    }
   ],
   "source": [
    "#from sys import stdin\n",
    "#l = stdin.readline()\n",
    "\n",
    "T = int(float(input())) #최초 숫자를 저장한다.\n",
    "l = [] # 스택을 초기화한다.\n",
    "\n",
    "\n",
    "\n",
    "for i in range(T): #입력의 개수만큼 for loop\n",
    "    a = input() #입력 저장\n",
    "    for j in a: #a의 '(' ')'에 대해서 루프.\n",
    "        if j == \"(\":\n",
    "            l.append(j) #스택에 ( 추가\n",
    "        else:\n",
    "            if len(l) == 0: #스택의 길이가 0이면, ) 추가\n",
    "                l.append(j)\n",
    "            elif l[-1] == \")\": \n",
    "                l.append(j) #스택 마지막이 ) 이면 ) 추가\n",
    "            else: #스택 마지막이 (일 경우 없애준다.\n",
    "                l.pop(-1)\n",
    "                \n",
    "    if len(l) == 0: #스택이 비어있으면 YES\n",
    "        print(\"YES\")\n",
    "    else: #스택에 남은 게 있으면 NO\n",
    "        print(\"NO\")\n",
    "    l.clear()"
   ]
  },
  {
   "cell_type": "code",
   "execution_count": null,
   "metadata": {},
   "outputs": [],
   "source": []
  }
 ],
 "metadata": {
  "kernelspec": {
   "display_name": "base",
   "language": "python",
   "name": "python3"
  },
  "language_info": {
   "codemirror_mode": {
    "name": "ipython",
    "version": 3
   },
   "file_extension": ".py",
   "mimetype": "text/x-python",
   "name": "python",
   "nbconvert_exporter": "python",
   "pygments_lexer": "ipython3",
   "version": "3.9.13"
  },
  "orig_nbformat": 4
 },
 "nbformat": 4,
 "nbformat_minor": 2
}
