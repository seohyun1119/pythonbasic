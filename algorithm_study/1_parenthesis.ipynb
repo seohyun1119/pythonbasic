{
 "cells": [
  {
   "cell_type": "code",
   "execution_count": 2,
   "metadata": {},
   "outputs": [],
   "source": [
    "par = []"
   ]
  },
  {
   "cell_type": "code",
   "execution_count": 3,
   "metadata": {},
   "outputs": [],
   "source": [
    "a = '(())())'"
   ]
  },
  {
   "cell_type": "code",
   "execution_count": 4,
   "metadata": {},
   "outputs": [
    {
     "name": "stdout",
     "output_type": "stream",
     "text": [
      "Yes\n",
      "Yes\n",
      "Yes\n",
      "Yes\n"
     ]
    }
   ],
   "source": [
    "if a[0] ==')':\n",
    "    print('No')\n",
    "else:\n",
    "    for i in a:\n",
    "        if i == '(':\n",
    "            par.append(i)\n",
    "        else:\n",
    "            if i == ')':\n",
    "                par.pop\n",
    "                print('Yes')\n",
    "            else:\n",
    "                print('No')\n",
    "\n"
   ]
  },
  {
   "cell_type": "code",
   "execution_count": 5,
   "metadata": {},
   "outputs": [
    {
     "name": "stdout",
     "output_type": "stream",
     "text": [
      "Yes\n"
     ]
    }
   ],
   "source": [
    "if a[0] ==')':\n",
    "    print('No')\n",
    "else:\n",
    "    for i in a:\n",
    "        if i == '(':\n",
    "            par.append(i)\n",
    "        else:\n",
    "            par.pop()\n",
    "            if par =='(':\n",
    "                print('No')\n",
    "                break\n",
    "            elif par ==')':\n",
    "                print('No')\n",
    "                break\n",
    "            else:\n",
    "                print('Yes')\n",
    "                break"
   ]
  },
  {
   "cell_type": "code",
   "execution_count": 6,
   "metadata": {},
   "outputs": [
    {
     "name": "stdout",
     "output_type": "stream",
     "text": [
      "Yes\n"
     ]
    }
   ],
   "source": [
    "if a[0] ==')':\n",
    "    print('No')\n",
    "else:\n",
    "    while True:\n",
    "        i = 0\n",
    "        i += 1\n",
    "        for i in a:\n",
    "            if i == '(':\n",
    "                par.append(i)\n",
    "        else:\n",
    "            par.pop()\n",
    "        break\n",
    "    if par =='(':\n",
    "        print('No')\n",
    "    elif par ==')':\n",
    "        print('No')\n",
    "    else:\n",
    "        print('Yes')\n"
   ]
  },
  {
   "cell_type": "code",
   "execution_count": 11,
   "metadata": {},
   "outputs": [
    {
     "ename": "ValueError",
     "evalue": "could not convert string to float: ''",
     "output_type": "error",
     "traceback": [
      "\u001b[1;31m---------------------------------------------------------------------------\u001b[0m",
      "\u001b[1;31mValueError\u001b[0m                                Traceback (most recent call last)",
      "\u001b[1;32m~\\AppData\\Local\\Temp\\ipykernel_51588\\1038846781.py\u001b[0m in \u001b[0;36m<module>\u001b[1;34m\u001b[0m\n\u001b[0;32m      2\u001b[0m \u001b[1;31m#l = stdin.readline()\u001b[0m\u001b[1;33m\u001b[0m\u001b[1;33m\u001b[0m\u001b[0m\n\u001b[0;32m      3\u001b[0m \u001b[1;33m\u001b[0m\u001b[0m\n\u001b[1;32m----> 4\u001b[1;33m \u001b[0mT\u001b[0m \u001b[1;33m=\u001b[0m \u001b[0mint\u001b[0m\u001b[1;33m(\u001b[0m\u001b[0mfloat\u001b[0m\u001b[1;33m(\u001b[0m\u001b[0minput\u001b[0m\u001b[1;33m(\u001b[0m\u001b[1;33m)\u001b[0m\u001b[1;33m)\u001b[0m\u001b[1;33m)\u001b[0m \u001b[1;31m#최초 숫자를 저장한다.\u001b[0m\u001b[1;33m\u001b[0m\u001b[1;33m\u001b[0m\u001b[0m\n\u001b[0m\u001b[0;32m      5\u001b[0m \u001b[0ml\u001b[0m \u001b[1;33m=\u001b[0m \u001b[1;33m[\u001b[0m\u001b[1;33m]\u001b[0m \u001b[1;31m# 스택을 초기화한다.\u001b[0m\u001b[1;33m\u001b[0m\u001b[1;33m\u001b[0m\u001b[0m\n\u001b[0;32m      6\u001b[0m \u001b[1;33m\u001b[0m\u001b[0m\n",
      "\u001b[1;31mValueError\u001b[0m: could not convert string to float: ''"
     ]
    }
   ],
   "source": [
    "#from sys import stdin\n",
    "#l = stdin.readline()\n",
    "\n",
    "T = int(float(input())) #최초 숫자를 저장한다.\n",
    "l = [] # 스택을 초기화한다.\n",
    "\n",
    "\n",
    "for i in range(T): #입력의 개수만큼 for loop\n",
    "    a = input() #입력 저장\n",
    "    for j in a: #a의 '(' ')'에 대해서 루프.\n",
    "        if j == \"(\":\n",
    "            l.append(j) #스택에 ( 추가\n",
    "        else:\n",
    "            if len(l) == 0: #스택의 길이가 0이면, ) 추가\n",
    "                l.append(j)\n",
    "            elif l[-1] == \")\": \n",
    "                l.append(j) #스택 마지막이 ) 이면 ) 추가\n",
    "            else: #스택 마지막이 (일 경우 없애준다.\n",
    "                l.pop(-1)\n",
    "                \n",
    "    if len(l) == 0: #스택이 비어있으면 YES\n",
    "        print(\"YES\")\n",
    "    else: #스택에 남은 게 있으면 NO\n",
    "        print(\"NO\")\n",
    "    l.clear()"
   ]
  },
  {
   "cell_type": "code",
   "execution_count": null,
   "metadata": {},
   "outputs": [],
   "source": []
  }
 ],
 "metadata": {
  "kernelspec": {
   "display_name": "base",
   "language": "python",
   "name": "python3"
  },
  "language_info": {
   "codemirror_mode": {
    "name": "ipython",
    "version": 3
   },
   "file_extension": ".py",
   "mimetype": "text/x-python",
   "name": "python",
   "nbconvert_exporter": "python",
   "pygments_lexer": "ipython3",
   "version": "3.9.13"
  },
  "orig_nbformat": 4
 },
 "nbformat": 4,
 "nbformat_minor": 2
}
