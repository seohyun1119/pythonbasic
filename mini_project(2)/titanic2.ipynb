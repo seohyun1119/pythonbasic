{
 "cells": [
  {
   "attachments": {},
   "cell_type": "markdown",
   "metadata": {},
   "source": [
    "# Library Import"
   ]
  },
  {
   "cell_type": "code",
   "execution_count": 1,
   "metadata": {},
   "outputs": [
    {
     "name": "stdout",
     "output_type": "stream",
     "text": [
      "['NanumBarunGothic']\n"
     ]
    }
   ],
   "source": [
    "# 데이터 분석에 사용할 라이브러리\n",
    "import pandas as pd\n",
    "import numpy as np \n",
    "import matplotlib as mpl\n",
    "import matplotlib.pyplot as plt\n",
    "import matplotlib.font_manager as fm\n",
    "import seaborn as sns\n",
    "\n",
    "# error 창 안 보이게 해줌\n",
    "import logging\n",
    "logging.getLogger('matplotlib.font_manager').setLevel(logging.ERROR)\n",
    "\n",
    "# 가용폰트 확인\n",
    "for font in mpl.font_manager.findSystemFonts():\n",
    "    # print(mpl.font_manager.FontProperties(fname=font).get_name())\n",
    "    mpl.font_manager.fontManager.addfont(font)\n",
    "\n",
    "# Set font family globally\n",
    "mpl.rcParams['font.family'] = 'NanumBarunGothic'# 폰트명\n",
    "print(mpl.rcParams['font.family'])"
   ]
  },
  {
   "attachments": {},
   "cell_type": "markdown",
   "metadata": {},
   "source": [
    "# Global Variables"
   ]
  },
  {
   "cell_type": "code",
   "execution_count": 2,
   "metadata": {},
   "outputs": [],
   "source": [
    "import easydict\n",
    "args = easydict.EasyDict()"
   ]
  },
  {
   "cell_type": "code",
   "execution_count": 3,
   "metadata": {},
   "outputs": [],
   "source": [
    "default_path = 'C:/titanic_datas/'\n",
    "train_csv = default_path + 'train.csv'\n",
    "test_csv = default_path + 'test.csv'\n",
    "default_submission_csv = default_path + 'submission.csv'\n",
    "\n",
    "submission_csv = default_path + 'result/solution.csv'\n",
    "save_results = default_path + 'result/model_results.json'\n",
    "\n",
    "random_state = 21\n",
    "results = []"
   ]
  },
  {
   "cell_type": "code",
   "execution_count": 4,
   "metadata": {},
   "outputs": [
    {
     "data": {
      "text/html": [
       "<div>\n",
       "<style scoped>\n",
       "    .dataframe tbody tr th:only-of-type {\n",
       "        vertical-align: middle;\n",
       "    }\n",
       "\n",
       "    .dataframe tbody tr th {\n",
       "        vertical-align: top;\n",
       "    }\n",
       "\n",
       "    .dataframe thead th {\n",
       "        text-align: right;\n",
       "    }\n",
       "</style>\n",
       "<table border=\"1\" class=\"dataframe\">\n",
       "  <thead>\n",
       "    <tr style=\"text-align: right;\">\n",
       "      <th></th>\n",
       "      <th>passengerid</th>\n",
       "      <th>survived</th>\n",
       "      <th>pclass</th>\n",
       "      <th>name</th>\n",
       "      <th>gender</th>\n",
       "      <th>age</th>\n",
       "      <th>sibsp</th>\n",
       "      <th>parch</th>\n",
       "      <th>ticket</th>\n",
       "      <th>fare</th>\n",
       "      <th>cabin</th>\n",
       "      <th>embarked</th>\n",
       "    </tr>\n",
       "  </thead>\n",
       "  <tbody>\n",
       "    <tr>\n",
       "      <th>0</th>\n",
       "      <td>0</td>\n",
       "      <td>0</td>\n",
       "      <td>2</td>\n",
       "      <td>Wheeler, Mr. Edwin Frederick\"\"</td>\n",
       "      <td>male</td>\n",
       "      <td>NaN</td>\n",
       "      <td>0</td>\n",
       "      <td>0</td>\n",
       "      <td>SC/PARIS 2159</td>\n",
       "      <td>12.8750</td>\n",
       "      <td>NaN</td>\n",
       "      <td>S</td>\n",
       "    </tr>\n",
       "    <tr>\n",
       "      <th>1</th>\n",
       "      <td>1</td>\n",
       "      <td>0</td>\n",
       "      <td>3</td>\n",
       "      <td>Henry, Miss. Delia</td>\n",
       "      <td>female</td>\n",
       "      <td>NaN</td>\n",
       "      <td>0</td>\n",
       "      <td>0</td>\n",
       "      <td>382649</td>\n",
       "      <td>7.7500</td>\n",
       "      <td>NaN</td>\n",
       "      <td>Q</td>\n",
       "    </tr>\n",
       "    <tr>\n",
       "      <th>2</th>\n",
       "      <td>2</td>\n",
       "      <td>1</td>\n",
       "      <td>1</td>\n",
       "      <td>Hays, Mrs. Charles Melville (Clara Jennings Gr...</td>\n",
       "      <td>female</td>\n",
       "      <td>52.0</td>\n",
       "      <td>1</td>\n",
       "      <td>1</td>\n",
       "      <td>12749</td>\n",
       "      <td>93.5000</td>\n",
       "      <td>B69</td>\n",
       "      <td>S</td>\n",
       "    </tr>\n",
       "    <tr>\n",
       "      <th>3</th>\n",
       "      <td>3</td>\n",
       "      <td>1</td>\n",
       "      <td>3</td>\n",
       "      <td>Andersson, Mr. August Edvard (\"Wennerstrom\")</td>\n",
       "      <td>male</td>\n",
       "      <td>27.0</td>\n",
       "      <td>0</td>\n",
       "      <td>0</td>\n",
       "      <td>350043</td>\n",
       "      <td>7.7958</td>\n",
       "      <td>NaN</td>\n",
       "      <td>S</td>\n",
       "    </tr>\n",
       "    <tr>\n",
       "      <th>4</th>\n",
       "      <td>4</td>\n",
       "      <td>0</td>\n",
       "      <td>2</td>\n",
       "      <td>Hold, Mr. Stephen</td>\n",
       "      <td>male</td>\n",
       "      <td>44.0</td>\n",
       "      <td>1</td>\n",
       "      <td>0</td>\n",
       "      <td>26707</td>\n",
       "      <td>26.0000</td>\n",
       "      <td>NaN</td>\n",
       "      <td>S</td>\n",
       "    </tr>\n",
       "  </tbody>\n",
       "</table>\n",
       "</div>"
      ],
      "text/plain": [
       "   passengerid  survived  pclass  \\\n",
       "0            0         0       2   \n",
       "1            1         0       3   \n",
       "2            2         1       1   \n",
       "3            3         1       3   \n",
       "4            4         0       2   \n",
       "\n",
       "                                                name  gender   age  sibsp  \\\n",
       "0                     Wheeler, Mr. Edwin Frederick\"\"    male   NaN      0   \n",
       "1                                 Henry, Miss. Delia  female   NaN      0   \n",
       "2  Hays, Mrs. Charles Melville (Clara Jennings Gr...  female  52.0      1   \n",
       "3       Andersson, Mr. August Edvard (\"Wennerstrom\")    male  27.0      0   \n",
       "4                                  Hold, Mr. Stephen    male  44.0      1   \n",
       "\n",
       "   parch         ticket     fare cabin embarked  \n",
       "0      0  SC/PARIS 2159  12.8750   NaN        S  \n",
       "1      0         382649   7.7500   NaN        Q  \n",
       "2      1          12749  93.5000   B69        S  \n",
       "3      0         350043   7.7958   NaN        S  \n",
       "4      0          26707  26.0000   NaN        S  "
      ]
     },
     "execution_count": 4,
     "metadata": {},
     "output_type": "execute_result"
    }
   ],
   "source": [
    "DATA_PATH = 'C:/titanic_datas/'\n",
    "\n",
    "df = pd.read_csv(DATA_PATH+'train.csv')\n",
    "df.head()"
   ]
  },
  {
   "cell_type": "code",
   "execution_count": 5,
   "metadata": {},
   "outputs": [
    {
     "data": {
      "text/plain": [
       "((916, 12), (393, 11))"
      ]
     },
     "execution_count": 5,
     "metadata": {},
     "output_type": "execute_result"
    }
   ],
   "source": [
    "ori_tr = pd.read_csv(train_csv)\n",
    "ori_te = pd.read_csv(test_csv)\n",
    "\n",
    "ori_tr.shape, ori_te.shape"
   ]
  },
  {
   "cell_type": "code",
   "execution_count": 6,
   "metadata": {},
   "outputs": [
    {
     "data": {
      "text/plain": [
       "(393, 2)"
      ]
     },
     "execution_count": 6,
     "metadata": {},
     "output_type": "execute_result"
    }
   ],
   "source": [
    "pd.read_csv(default_submission_csv).shape"
   ]
  },
  {
   "cell_type": "code",
   "execution_count": 7,
   "metadata": {},
   "outputs": [
    {
     "data": {
      "text/plain": [
       "Index(['passengerid', 'survived', 'pclass', 'name', 'gender', 'age', 'sibsp',\n",
       "       'parch', 'ticket', 'fare', 'cabin', 'embarked'],\n",
       "      dtype='object')"
      ]
     },
     "execution_count": 7,
     "metadata": {},
     "output_type": "execute_result"
    }
   ],
   "source": [
    "ori_tr.columns"
   ]
  },
  {
   "attachments": {},
   "cell_type": "markdown",
   "metadata": {},
   "source": [
    "# train test split"
   ]
  },
  {
   "cell_type": "code",
   "execution_count": 8,
   "metadata": {},
   "outputs": [
    {
     "data": {
      "text/html": [
       "<div>\n",
       "<style scoped>\n",
       "    .dataframe tbody tr th:only-of-type {\n",
       "        vertical-align: middle;\n",
       "    }\n",
       "\n",
       "    .dataframe tbody tr th {\n",
       "        vertical-align: top;\n",
       "    }\n",
       "\n",
       "    .dataframe thead th {\n",
       "        text-align: right;\n",
       "    }\n",
       "</style>\n",
       "<table border=\"1\" class=\"dataframe\">\n",
       "  <thead>\n",
       "    <tr style=\"text-align: right;\">\n",
       "      <th></th>\n",
       "      <th>counts</th>\n",
       "      <th>freqs</th>\n",
       "    </tr>\n",
       "    <tr>\n",
       "      <th>categories</th>\n",
       "      <th></th>\n",
       "      <th></th>\n",
       "    </tr>\n",
       "  </thead>\n",
       "  <tbody>\n",
       "    <tr>\n",
       "      <th>Died</th>\n",
       "      <td>570</td>\n",
       "      <td>0.622271</td>\n",
       "    </tr>\n",
       "    <tr>\n",
       "      <th>Survived</th>\n",
       "      <td>346</td>\n",
       "      <td>0.377729</td>\n",
       "    </tr>\n",
       "  </tbody>\n",
       "</table>\n",
       "</div>"
      ],
      "text/plain": [
       "            counts     freqs\n",
       "categories                  \n",
       "Died           570  0.622271\n",
       "Survived       346  0.377729"
      ]
     },
     "execution_count": 8,
     "metadata": {},
     "output_type": "execute_result"
    }
   ],
   "source": [
    "new_survived = pd.Categorical(ori_tr[\"survived\"])\n",
    "new_survived = new_survived.rename_categories([\"Died\",\"Survived\"])              \n",
    "\n",
    "new_survived.describe()"
   ]
  },
  {
   "cell_type": "code",
   "execution_count": 9,
   "metadata": {},
   "outputs": [],
   "source": [
    "from sklearn.model_selection import train_test_split"
   ]
  },
  {
   "cell_type": "code",
   "execution_count": 10,
   "metadata": {},
   "outputs": [],
   "source": [
    "y = ori_tr['survived']\n",
    "X = ori_tr"
   ]
  },
  {
   "cell_type": "code",
   "execution_count": 11,
   "metadata": {},
   "outputs": [],
   "source": [
    "X_tr, X_te, y_tr, y_te = train_test_split(\n",
    "    X, y, test_size=0.3, stratify=ori_tr['survived'], random_state=random_state\n",
    ")"
   ]
  },
  {
   "cell_type": "code",
   "execution_count": 12,
   "metadata": {},
   "outputs": [
    {
     "data": {
      "text/plain": [
       "((641, 12), (275, 12), (641,), (275,))"
      ]
     },
     "execution_count": 12,
     "metadata": {},
     "output_type": "execute_result"
    }
   ],
   "source": [
    "X_tr.shape, X_te.shape, y_tr.shape, y_te.shape"
   ]
  },
  {
   "cell_type": "code",
   "execution_count": 13,
   "metadata": {},
   "outputs": [],
   "source": [
    "train = X_tr.copy()\n",
    "test = X_te.copy()\n",
    "ori_te = ori_te.copy()"
   ]
  },
  {
   "cell_type": "markdown",
   "metadata": {},
   "source": [
    "# Data Cleaning"
   ]
  },
  {
   "cell_type": "code",
   "execution_count": 14,
   "metadata": {},
   "outputs": [
    {
     "data": {
      "text/plain": [
       "passengerid      0\n",
       "pclass           0\n",
       "name             0\n",
       "gender           0\n",
       "age             83\n",
       "sibsp            0\n",
       "parch            0\n",
       "ticket           0\n",
       "fare             1\n",
       "cabin          296\n",
       "embarked         1\n",
       "dtype: int64"
      ]
     },
     "execution_count": 14,
     "metadata": {},
     "output_type": "execute_result"
    }
   ],
   "source": [
    "ori_te.isnull().sum()"
   ]
  },
  {
   "cell_type": "code",
   "execution_count": 15,
   "metadata": {},
   "outputs": [
    {
     "name": "stdout",
     "output_type": "stream",
     "text": [
      "train: 635\n",
      "test: 264\n",
      "ori_te: 381\n"
     ]
    }
   ],
   "source": [
    "print('train:', X_tr.isnull().sum().sum())\n",
    "print('test:', X_te.isnull().sum().sum())\n",
    "print('ori_te:', ori_te.isnull().sum().sum())"
   ]
  },
  {
   "cell_type": "code",
   "execution_count": 16,
   "metadata": {},
   "outputs": [],
   "source": [
    "from pandas.api.types import is_string_dtype\n",
    "from pandas.api.types import is_numeric_dtype\n",
    "\n",
    "def get_cols_cleaning(p_pd_list:list) -> list:\n",
    "  cols_cleaning = []\n",
    "  for df in p_pd_list:\n",
    "    # 결측치 컬럼 조회\n",
    "    tmp = df.isnull().sum()\n",
    "    cols_cleaning += list(tmp[df.isnull().sum() > 0].index)\n",
    "\n",
    "  cols_cleaning = list(set(cols_cleaning))\n",
    "  print(f'cols_cleaning: {cols_cleaning}')\n",
    "  return cols_cleaning\n",
    "\n",
    "def add_cols_cleaning(p_train:pd.DataFrame, p_test:pd.DataFrame, p_ori_te:pd.DataFrame) -> None:\n",
    "  pd_list = [p_train, p_test, p_ori_te]\n",
    "  for col in get_cols_cleaning(pd_list):  \n",
    "    for i, df in enumerate(pd_list, start=1):\n",
    "      \n",
    "      if is_numeric_dtype(df[col]): # 숫자형 결측치 처리\n",
    "        new_col = col+'_cleaning'\n",
    "        df[new_col] = df[col]   \n",
    "        # random sampling\n",
    "        random_sampling = (p_train[col].dropna().sample(df[col].isnull().sum()))\n",
    "        # index 부여\n",
    "        random_sampling.index = df[lambda x: x[col].isnull()].index \n",
    "        # NA imputation\n",
    "        df.loc[df[col].isnull(), new_col] = random_sampling\n",
    "        \n",
    "        # 기존 결측치 컬럼 제거\n",
    "        if i == len(pd_list):\n",
    "          for _df in pd_list:\n",
    "            _df.drop([col], axis=1, inplace=True)\n",
    "      \n",
    "      else: # 범주형 결측치 처리\n",
    "        df[col].fillna(p_train[col].mode().values[0], inplace=True)\n",
    "\n",
    "  print(f'p_train: {p_train.isnull().sum().sum()} / p_test: {p_test.isnull().sum().sum()} / p_ori_te: {p_ori_te.isnull().sum().sum()}')"
   ]
  },
  {
   "cell_type": "code",
   "execution_count": 17,
   "metadata": {},
   "outputs": [
    {
     "data": {
      "text/plain": [
       "Index(['passengerid', 'pclass', 'name', 'gender', 'age', 'sibsp', 'parch',\n",
       "       'ticket', 'fare', 'cabin', 'embarked'],\n",
       "      dtype='object')"
      ]
     },
     "execution_count": 17,
     "metadata": {},
     "output_type": "execute_result"
    }
   ],
   "source": [
    "ori_te.columns"
   ]
  },
  {
   "cell_type": "code",
   "execution_count": 18,
   "metadata": {},
   "outputs": [
    {
     "name": "stdout",
     "output_type": "stream",
     "text": [
      "cols_cleaning: ['embarked', 'age', 'cabin', 'fare']\n",
      "p_train: 0 / p_test: 0 / p_ori_te: 0\n"
     ]
    }
   ],
   "source": [
    "add_cols_cleaning(X_tr, X_te, ori_te)"
   ]
  },
  {
   "cell_type": "code",
   "execution_count": 19,
   "metadata": {},
   "outputs": [
    {
     "name": "stdout",
     "output_type": "stream",
     "text": [
      "train: 0\n",
      "test: 0\n",
      "ori_te: 0\n"
     ]
    }
   ],
   "source": [
    "print('train:', X_tr.isnull().sum().sum())\n",
    "print('test:', X_te.isnull().sum().sum())\n",
    "print('ori_te:', ori_te.isnull().sum().sum())"
   ]
  },
  {
   "attachments": {},
   "cell_type": "markdown",
   "metadata": {},
   "source": [
    "# Feature Extraction with EDA"
   ]
  },
  {
   "attachments": {},
   "cell_type": "markdown",
   "metadata": {},
   "source": [
    "- features\n",
    "- 귀족들이 많다. -> name에서 추출\n",
    "- cabin -> 세월호 때 호실 찾는 거, 기록이 안 된 사람들은 사망했을 가능성이 높다.\n",
    "- age -> 결측치 넣기 전 분포로 확인함, 결측치를 무엇으로 채울 지 결정"
   ]
  },
  {
   "attachments": {},
   "cell_type": "markdown",
   "metadata": {},
   "source": [
    "name"
   ]
  },
  {
   "cell_type": "code",
   "execution_count": 20,
   "metadata": {},
   "outputs": [
    {
     "data": {
      "text/plain": [
       "Mr.          370\n",
       "Miss.        126\n",
       "Mrs.         106\n",
       "Master.       22\n",
       "Rev.           4\n",
       "Dr.            3\n",
       "Col.           3\n",
       "Major.         2\n",
       "Capt.          1\n",
       "Mlle.          1\n",
       "Ms.            1\n",
       "Sir.           1\n",
       "Jonkheer.      1\n",
       "Name: designation, dtype: int64"
      ]
     },
     "execution_count": 20,
     "metadata": {},
     "output_type": "execute_result"
    }
   ],
   "source": [
    "dict_designation = {\n",
    "    'Mr.': '남성',\n",
    "    'Master.': '남성',\n",
    "    'Sir.': '남성',\n",
    "    'Miss.': '미혼 여성',\n",
    "    'Mrs.': '기혼 여성',\n",
    "    'Ms.': '미혼/기혼 여성',\n",
    "    'Lady.': '숙녀',\n",
    "    'Mlle.': '아가씨',\n",
    "    # 직업\n",
    "    'Dr.': '의사',\n",
    "    'Rev.': '목사',\n",
    "    'Major.': '계급',\n",
    "    'Don.': '교수',\n",
    "    'Col.': '군인',\n",
    "    'Capt.': '군인',\n",
    "    # 귀족\n",
    "    'Mme.': '영부인',\n",
    "    'Countess.': '백작부인',\n",
    "    'Jonkheer.': '귀족'\n",
    "}\n",
    "\n",
    "def add_designation(name): # 호칭 함수\n",
    "  designation = \"unknown\"\n",
    "  for key in dict_designation.keys():\n",
    "    if key in name:\n",
    "      designation = key\n",
    "      break\n",
    "  return designation\n",
    "\n",
    "train['designation'] = train['name'].map(lambda x: add_designation(x))\n",
    "test['designation'] = test['name'].map(lambda x: add_designation(x))\n",
    "\n",
    "train.designation.value_counts()"
   ]
  },
  {
   "cell_type": "code",
   "execution_count": 21,
   "metadata": {},
   "outputs": [
    {
     "data": {
      "text/html": [
       "<style type=\"text/css\">\n",
       "#T_6e0bb_row0_col0, #T_6e0bb_row0_col1, #T_6e0bb_row0_col2, #T_6e0bb_row0_col3, #T_6e0bb_row0_col4, #T_6e0bb_row0_col5, #T_6e0bb_row0_col8, #T_6e0bb_row0_col11, #T_6e0bb_row0_col12, #T_6e0bb_row1_col6, #T_6e0bb_row1_col7, #T_6e0bb_row1_col9, #T_6e0bb_row1_col10 {\n",
       "  background-color: #ffff66;\n",
       "  color: #000000;\n",
       "}\n",
       "#T_6e0bb_row0_col6, #T_6e0bb_row0_col7, #T_6e0bb_row0_col9, #T_6e0bb_row0_col10, #T_6e0bb_row1_col0, #T_6e0bb_row1_col1, #T_6e0bb_row1_col2, #T_6e0bb_row1_col3, #T_6e0bb_row1_col4, #T_6e0bb_row1_col5, #T_6e0bb_row1_col8, #T_6e0bb_row1_col11, #T_6e0bb_row1_col12 {\n",
       "  background-color: #008066;\n",
       "  color: #f1f1f1;\n",
       "}\n",
       "</style>\n",
       "<table id=\"T_6e0bb\">\n",
       "  <thead>\n",
       "    <tr>\n",
       "      <th class=\"index_name level0\" >designation</th>\n",
       "      <th id=\"T_6e0bb_level0_col0\" class=\"col_heading level0 col0\" >Capt.</th>\n",
       "      <th id=\"T_6e0bb_level0_col1\" class=\"col_heading level0 col1\" >Col.</th>\n",
       "      <th id=\"T_6e0bb_level0_col2\" class=\"col_heading level0 col2\" >Dr.</th>\n",
       "      <th id=\"T_6e0bb_level0_col3\" class=\"col_heading level0 col3\" >Jonkheer.</th>\n",
       "      <th id=\"T_6e0bb_level0_col4\" class=\"col_heading level0 col4\" >Major.</th>\n",
       "      <th id=\"T_6e0bb_level0_col5\" class=\"col_heading level0 col5\" >Master.</th>\n",
       "      <th id=\"T_6e0bb_level0_col6\" class=\"col_heading level0 col6\" >Miss.</th>\n",
       "      <th id=\"T_6e0bb_level0_col7\" class=\"col_heading level0 col7\" >Mlle.</th>\n",
       "      <th id=\"T_6e0bb_level0_col8\" class=\"col_heading level0 col8\" >Mr.</th>\n",
       "      <th id=\"T_6e0bb_level0_col9\" class=\"col_heading level0 col9\" >Mrs.</th>\n",
       "      <th id=\"T_6e0bb_level0_col10\" class=\"col_heading level0 col10\" >Ms.</th>\n",
       "      <th id=\"T_6e0bb_level0_col11\" class=\"col_heading level0 col11\" >Rev.</th>\n",
       "      <th id=\"T_6e0bb_level0_col12\" class=\"col_heading level0 col12\" >Sir.</th>\n",
       "    </tr>\n",
       "    <tr>\n",
       "      <th class=\"index_name level0\" >gender</th>\n",
       "      <th class=\"blank col0\" >&nbsp;</th>\n",
       "      <th class=\"blank col1\" >&nbsp;</th>\n",
       "      <th class=\"blank col2\" >&nbsp;</th>\n",
       "      <th class=\"blank col3\" >&nbsp;</th>\n",
       "      <th class=\"blank col4\" >&nbsp;</th>\n",
       "      <th class=\"blank col5\" >&nbsp;</th>\n",
       "      <th class=\"blank col6\" >&nbsp;</th>\n",
       "      <th class=\"blank col7\" >&nbsp;</th>\n",
       "      <th class=\"blank col8\" >&nbsp;</th>\n",
       "      <th class=\"blank col9\" >&nbsp;</th>\n",
       "      <th class=\"blank col10\" >&nbsp;</th>\n",
       "      <th class=\"blank col11\" >&nbsp;</th>\n",
       "      <th class=\"blank col12\" >&nbsp;</th>\n",
       "    </tr>\n",
       "  </thead>\n",
       "  <tbody>\n",
       "    <tr>\n",
       "      <th id=\"T_6e0bb_level0_row0\" class=\"row_heading level0 row0\" >female</th>\n",
       "      <td id=\"T_6e0bb_row0_col0\" class=\"data row0 col0\" >0</td>\n",
       "      <td id=\"T_6e0bb_row0_col1\" class=\"data row0 col1\" >0</td>\n",
       "      <td id=\"T_6e0bb_row0_col2\" class=\"data row0 col2\" >0</td>\n",
       "      <td id=\"T_6e0bb_row0_col3\" class=\"data row0 col3\" >0</td>\n",
       "      <td id=\"T_6e0bb_row0_col4\" class=\"data row0 col4\" >0</td>\n",
       "      <td id=\"T_6e0bb_row0_col5\" class=\"data row0 col5\" >0</td>\n",
       "      <td id=\"T_6e0bb_row0_col6\" class=\"data row0 col6\" >126</td>\n",
       "      <td id=\"T_6e0bb_row0_col7\" class=\"data row0 col7\" >1</td>\n",
       "      <td id=\"T_6e0bb_row0_col8\" class=\"data row0 col8\" >0</td>\n",
       "      <td id=\"T_6e0bb_row0_col9\" class=\"data row0 col9\" >106</td>\n",
       "      <td id=\"T_6e0bb_row0_col10\" class=\"data row0 col10\" >1</td>\n",
       "      <td id=\"T_6e0bb_row0_col11\" class=\"data row0 col11\" >0</td>\n",
       "      <td id=\"T_6e0bb_row0_col12\" class=\"data row0 col12\" >0</td>\n",
       "    </tr>\n",
       "    <tr>\n",
       "      <th id=\"T_6e0bb_level0_row1\" class=\"row_heading level0 row1\" >male</th>\n",
       "      <td id=\"T_6e0bb_row1_col0\" class=\"data row1 col0\" >1</td>\n",
       "      <td id=\"T_6e0bb_row1_col1\" class=\"data row1 col1\" >3</td>\n",
       "      <td id=\"T_6e0bb_row1_col2\" class=\"data row1 col2\" >3</td>\n",
       "      <td id=\"T_6e0bb_row1_col3\" class=\"data row1 col3\" >1</td>\n",
       "      <td id=\"T_6e0bb_row1_col4\" class=\"data row1 col4\" >2</td>\n",
       "      <td id=\"T_6e0bb_row1_col5\" class=\"data row1 col5\" >22</td>\n",
       "      <td id=\"T_6e0bb_row1_col6\" class=\"data row1 col6\" >0</td>\n",
       "      <td id=\"T_6e0bb_row1_col7\" class=\"data row1 col7\" >0</td>\n",
       "      <td id=\"T_6e0bb_row1_col8\" class=\"data row1 col8\" >370</td>\n",
       "      <td id=\"T_6e0bb_row1_col9\" class=\"data row1 col9\" >0</td>\n",
       "      <td id=\"T_6e0bb_row1_col10\" class=\"data row1 col10\" >0</td>\n",
       "      <td id=\"T_6e0bb_row1_col11\" class=\"data row1 col11\" >4</td>\n",
       "      <td id=\"T_6e0bb_row1_col12\" class=\"data row1 col12\" >1</td>\n",
       "    </tr>\n",
       "  </tbody>\n",
       "</table>\n"
      ],
      "text/plain": [
       "<pandas.io.formats.style.Styler at 0x24a26cef9d0>"
      ]
     },
     "execution_count": 21,
     "metadata": {},
     "output_type": "execute_result"
    }
   ],
   "source": [
    "pd.crosstab(train.designation,train.gender).T.style.background_gradient(cmap='summer_r') \n",
    "#Checking the Initials with the Gender"
   ]
  },
  {
   "cell_type": "code",
   "execution_count": 22,
   "metadata": {},
   "outputs": [
    {
     "data": {
      "text/plain": [
       "506"
      ]
     },
     "execution_count": 22,
     "metadata": {},
     "output_type": "execute_result"
    }
   ],
   "source": [
    "train.cabin.isnull().sum()"
   ]
  },
  {
   "cell_type": "markdown",
   "metadata": {},
   "source": [
    "age"
   ]
  },
  {
   "cell_type": "code",
   "execution_count": 23,
   "metadata": {},
   "outputs": [
    {
     "data": {
      "image/png": "[encoded data removed]",
      "text/plain": [
       "<Figure size 570.486x500 with 1 Axes>"
      ]
     },
     "metadata": {},
     "output_type": "display_data"
    }
   ],
   "source": [
    "sns.displot(ori_tr, x='age', hue=\"survived\", multiple=\"dodge\", bins=20)\n",
    "plt.show()"
   ]
  },
  {
   "cell_type": "code",
   "execution_count": 24,
   "metadata": {},
   "outputs": [
    {
     "data": {
      "text/plain": [
       "0.5833333333333334"
      ]
     },
     "execution_count": 24,
     "metadata": {},
     "output_type": "execute_result"
    }
   ],
   "source": [
    "c1 = ori_tr['age'] <= 5\n",
    "ori_tr.loc[c1]['survived'].mean()"
   ]
  },
  {
   "cell_type": "code",
   "execution_count": 25,
   "metadata": {},
   "outputs": [
    {
     "data": {
      "text/plain": [
       "0.2916666666666667"
      ]
     },
     "execution_count": 25,
     "metadata": {},
     "output_type": "execute_result"
    }
   ],
   "source": [
    "c1 = ori_tr['age'] <= 10\n",
    "c2 = ori_tr['age'] > 5\n",
    "c = c1 & c2\n",
    "ori_tr.loc[c]['survived'].mean()"
   ]
  },
  {
   "cell_type": "code",
   "execution_count": 26,
   "metadata": {},
   "outputs": [
    {
     "data": {
      "text/plain": [
       "0.38"
      ]
     },
     "execution_count": 26,
     "metadata": {},
     "output_type": "execute_result"
    }
   ],
   "source": [
    "c1 = ori_tr['age'] > 5\n",
    "ori_tr.loc[c1]['survived'].mean()"
   ]
  },
  {
   "cell_type": "code",
   "execution_count": 27,
   "metadata": {},
   "outputs": [],
   "source": [
    "age_median = train['age'].median()\n",
    "fare_median = train['fare'].median()\n",
    "embarked_mode = train['embarked'].mode().values[0]"
   ]
  },
  {
   "cell_type": "code",
   "execution_count": 28,
   "metadata": {},
   "outputs": [
    {
     "data": {
      "text/plain": [
       "Index(['passengerid', 'pclass', 'name', 'gender', 'sibsp', 'parch', 'ticket',\n",
       "       'cabin', 'embarked', 'age_cleaning', 'fare_cleaning'],\n",
       "      dtype='object')"
      ]
     },
     "execution_count": 28,
     "metadata": {},
     "output_type": "execute_result"
    }
   ],
   "source": [
    "ori_te.columns"
   ]
  },
  {
   "cell_type": "code",
   "execution_count": 29,
   "metadata": {},
   "outputs": [
    {
     "data": {
      "text/plain": [
       "(506, 212, 0)"
      ]
     },
     "execution_count": 29,
     "metadata": {},
     "output_type": "execute_result"
    }
   ],
   "source": [
    "train['age'].fillna(age_median, inplace=True)\n",
    "test['age'].fillna(age_median, inplace=True)\n",
    "ori_te['age_cleaning'].fillna(age_median, inplace=True)\n",
    "\n",
    "train['fare'].fillna(fare_median, inplace=True)\n",
    "test['fare'].fillna(fare_median, inplace=True)\n",
    "ori_te['fare_cleaning'].fillna(fare_median, inplace=True)\n",
    "\n",
    "train['embarked'].fillna(embarked_mode, inplace=True)\n",
    "test['embarked'].fillna(embarked_mode, inplace=True)\n",
    "ori_te['embarked'].fillna(embarked_mode, inplace=True)\n",
    "\n",
    "train.isnull().sum().sum(), test.isnull().sum().sum(), ori_te.isnull().sum().sum()"
   ]
  },
  {
   "cell_type": "markdown",
   "metadata": {},
   "source": [
    "add infant"
   ]
  },
  {
   "cell_type": "code",
   "execution_count": 30,
   "metadata": {},
   "outputs": [
    {
     "name": "stdout",
     "output_type": "stream",
     "text": [
      "2 / \n",
      " [0 1] \n",
      "\n"
     ]
    },
    {
     "data": {
      "text/plain": [
       "((641, 14), (275, 14), (393, 12))"
      ]
     },
     "execution_count": 30,
     "metadata": {},
     "output_type": "execute_result"
    }
   ],
   "source": [
    "def add_infant(age):\n",
    "  result = 0\n",
    "  try:\n",
    "    if age <= 5:\n",
    "      result = 1\n",
    "  except:\n",
    "    pass\n",
    "  return result\n",
    "\n",
    "train['infant'] = train['age'].map(lambda x: add_infant(x))\n",
    "test['infant'] = test['age'].map(lambda x: add_infant(x))\n",
    "ori_te['infant'] = ori_te['age_cleaning'].map(lambda x: add_infant(x))\n",
    "\n",
    "print(f\"{train['infant'].nunique()} / \\n {train['infant'].unique()} \\n\")\n",
    "train.shape, test.shape, ori_te.shape"
   ]
  },
  {
   "cell_type": "code",
   "execution_count": 31,
   "metadata": {},
   "outputs": [
    {
     "data": {
      "image/png": "[encoded data removed]",
      "text/plain": [
       "<Figure size 1070.49x500 with 2 Axes>"
      ]
     },
     "metadata": {},
     "output_type": "display_data"
    }
   ],
   "source": [
    "sns.displot(train, x=\"age\", hue=\"survived\", multiple=\"dodge\", bins=20, col=\"gender\")\n",
    "plt.show()"
   ]
  },
  {
   "cell_type": "code",
   "execution_count": 32,
   "metadata": {},
   "outputs": [
    {
     "data": {
      "image/png": "[encoded data removed]",
      "text/plain": [
       "<Figure size 1070.49x500 with 2 Axes>"
      ]
     },
     "metadata": {},
     "output_type": "display_data"
    }
   ],
   "source": [
    "sns.displot(train, x=\"infant\", hue=\"survived\", multiple=\"dodge\", bins=20, col=\"gender\")\n",
    "plt.show()"
   ]
  },
  {
   "cell_type": "markdown",
   "metadata": {},
   "source": [
    "add gender_infant"
   ]
  },
  {
   "cell_type": "code",
   "execution_count": 33,
   "metadata": {},
   "outputs": [
    {
     "name": "stdout",
     "output_type": "stream",
     "text": [
      "4 / \n",
      " ['female_0' 'male_0' 'female_1' 'male_1'] \n",
      "\n"
     ]
    },
    {
     "data": {
      "text/plain": [
       "((641, 15), (275, 15), (393, 13))"
      ]
     },
     "execution_count": 33,
     "metadata": {},
     "output_type": "execute_result"
    }
   ],
   "source": [
    "train['gender_infant'] = train.apply(lambda row: row['gender']+'_'+str(row['infant']), axis=1)\n",
    "test['gender_infant'] = test.apply(lambda row: row['gender']+'_'+str(row['infant']), axis=1)\n",
    "ori_te['gender_infant'] = ori_te.apply(lambda row: row['gender']+'_'+str(row['infant']), axis=1)\n",
    "\n",
    "print(f\"{train['gender_infant'].nunique()} / \\n {train['gender_infant'].unique()} \\n\")\n",
    "train.shape, test.shape, ori_te.shape"
   ]
  },
  {
   "cell_type": "code",
   "execution_count": 34,
   "metadata": {},
   "outputs": [
    {
     "data": {
      "image/png": "[encoded data removed]",
      "text/plain": [
       "<Figure size 1570.49x500 with 3 Axes>"
      ]
     },
     "metadata": {},
     "output_type": "display_data"
    }
   ],
   "source": [
    "sns.displot(train, x=\"age\", hue=\"survived\", multiple=\"dodge\", bins=20, col=\"pclass\")\n",
    "plt.show()"
   ]
  },
  {
   "cell_type": "code",
   "execution_count": 35,
   "metadata": {},
   "outputs": [],
   "source": [
    "from sklearn.tree import DecisionTreeClassifier"
   ]
  },
  {
   "cell_type": "markdown",
   "metadata": {},
   "source": [
    "# Encoding"
   ]
  },
  {
   "cell_type": "code",
   "execution_count": 36,
   "metadata": {},
   "outputs": [],
   "source": [
    "from sklearn.preprocessing import OneHotEncoder"
   ]
  },
  {
   "cell_type": "code",
   "execution_count": 37,
   "metadata": {},
   "outputs": [],
   "source": [
    "train = train.drop(['name', 'ticket', 'cabin', 'survived'], axis=1)\n",
    "test = test.drop(['name', 'ticket', 'cabin', 'survived'], axis=1)"
   ]
  },
  {
   "cell_type": "code",
   "execution_count": 38,
   "metadata": {},
   "outputs": [
    {
     "data": {
      "text/plain": [
       "Index(['passengerid', 'pclass', 'gender', 'age', 'sibsp', 'parch', 'fare',\n",
       "       'embarked', 'designation', 'infant', 'gender_infant'],\n",
       "      dtype='object')"
      ]
     },
     "execution_count": 38,
     "metadata": {},
     "output_type": "execute_result"
    }
   ],
   "source": [
    "train.columns"
   ]
  },
  {
   "cell_type": "code",
   "execution_count": 39,
   "metadata": {},
   "outputs": [
    {
     "data": {
      "text/plain": [
       "Index(['passengerid', 'pclass', 'gender', 'age', 'sibsp', 'parch', 'fare',\n",
       "       'embarked', 'designation', 'infant', 'gender_infant'],\n",
       "      dtype='object')"
      ]
     },
     "execution_count": 39,
     "metadata": {},
     "output_type": "execute_result"
    }
   ],
   "source": [
    "test.columns"
   ]
  },
  {
   "cell_type": "code",
   "execution_count": 40,
   "metadata": {},
   "outputs": [
    {
     "data": {
      "text/plain": [
       "Index(['passengerid', 'pclass', 'name', 'gender', 'sibsp', 'parch', 'ticket',\n",
       "       'cabin', 'embarked', 'age_cleaning', 'fare_cleaning', 'infant',\n",
       "       'gender_infant'],\n",
       "      dtype='object')"
      ]
     },
     "execution_count": 40,
     "metadata": {},
     "output_type": "execute_result"
    }
   ],
   "source": [
    "ori_te.columns"
   ]
  },
  {
   "cell_type": "code",
   "execution_count": 41,
   "metadata": {},
   "outputs": [],
   "source": [
    "train = train.drop(['designation'], axis=1)\n",
    "test = test.drop(['designation'], axis=1)"
   ]
  },
  {
   "cell_type": "code",
   "execution_count": 42,
   "metadata": {},
   "outputs": [
    {
     "name": "stdout",
     "output_type": "stream",
     "text": [
      "<class 'pandas.core.frame.DataFrame'>\n",
      "Int64Index: 641 entries, 812 to 277\n",
      "Data columns (total 10 columns):\n",
      " #   Column         Non-Null Count  Dtype  \n",
      "---  ------         --------------  -----  \n",
      " 0   passengerid    641 non-null    int64  \n",
      " 1   pclass         641 non-null    int64  \n",
      " 2   gender         641 non-null    object \n",
      " 3   age            641 non-null    float64\n",
      " 4   sibsp          641 non-null    int64  \n",
      " 5   parch          641 non-null    int64  \n",
      " 6   fare           641 non-null    float64\n",
      " 7   embarked       641 non-null    object \n",
      " 8   infant         641 non-null    int64  \n",
      " 9   gender_infant  641 non-null    object \n",
      "dtypes: float64(2), int64(5), object(3)\n",
      "memory usage: 71.2+ KB\n"
     ]
    }
   ],
   "source": [
    "train.info()"
   ]
  },
  {
   "cell_type": "code",
   "execution_count": 43,
   "metadata": {},
   "outputs": [
    {
     "name": "stdout",
     "output_type": "stream",
     "text": [
      "len_enc_cols: 3\n",
      "0 / 0 / 0\n"
     ]
    },
    {
     "data": {
      "text/plain": [
       "((641, 16), (275, 16), (393, 19))"
      ]
     },
     "execution_count": 43,
     "metadata": {},
     "output_type": "execute_result"
    }
   ],
   "source": [
    "enc_cols = list(train.select_dtypes(exclude=np.number).columns)\n",
    "print(f'len_enc_cols: {len(enc_cols)}')\n",
    "encoder = OneHotEncoder() \n",
    "enc_dfs = []\n",
    "\n",
    "for i, df in enumerate([train, test, ori_te]):\n",
    "  if not i:\n",
    "    _encoded = encoder.fit_transform(df[enc_cols])\n",
    "  else:\n",
    "    _encoded = encoder.transform(df[enc_cols])\n",
    "\n",
    "  _encoded_df = pd.DataFrame(\n",
    "    _encoded.toarray(), \n",
    "    columns = encoder.get_feature_names_out()\n",
    "  )\n",
    "\n",
    "  not_enc_cols = list(set(df.columns) - set(enc_cols))\n",
    "  enc_dfs.append(\n",
    "    pd.concat(\n",
    "      [df[not_enc_cols].reset_index(drop=True), _encoded_df.reset_index(drop=True)]\n",
    "      , axis=1\n",
    "    ).reset_index(drop=True)\n",
    "  )\n",
    "\n",
    "train = enc_dfs[0]\n",
    "test = enc_dfs[1]\n",
    "ori_te = enc_dfs[2]\n",
    "\n",
    "print(f'{train.isnull().sum().sum()} / {test.isnull().sum().sum()} / {ori_te.isnull().sum().sum()}')\n",
    "train.shape, test.shape, ori_te.shape"
   ]
  },
  {
   "cell_type": "code",
   "execution_count": 44,
   "metadata": {},
   "outputs": [
    {
     "data": {
      "text/plain": [
       "((641, 16), (641,), (393, 19))"
      ]
     },
     "execution_count": 44,
     "metadata": {},
     "output_type": "execute_result"
    }
   ],
   "source": [
    "train.shape, y_tr.shape, ori_te.shape"
   ]
  },
  {
   "cell_type": "code",
   "execution_count": 45,
   "metadata": {},
   "outputs": [
    {
     "data": {
      "text/plain": [
       "Index(['pclass', 'fare', 'age', 'passengerid', 'parch', 'sibsp', 'infant',\n",
       "       'gender_female', 'gender_male', 'embarked_C', 'embarked_Q',\n",
       "       'embarked_S', 'gender_infant_female_0', 'gender_infant_female_1',\n",
       "       'gender_infant_male_0', 'gender_infant_male_1'],\n",
       "      dtype='object')"
      ]
     },
     "execution_count": 45,
     "metadata": {},
     "output_type": "execute_result"
    }
   ],
   "source": [
    "train.columns"
   ]
  },
  {
   "cell_type": "code",
   "execution_count": 46,
   "metadata": {},
   "outputs": [
    {
     "data": {
      "text/plain": [
       "Index(['pclass', 'fare', 'age', 'passengerid', 'parch', 'sibsp', 'infant',\n",
       "       'gender_female', 'gender_male', 'embarked_C', 'embarked_Q',\n",
       "       'embarked_S', 'gender_infant_female_0', 'gender_infant_female_1',\n",
       "       'gender_infant_male_0', 'gender_infant_male_1'],\n",
       "      dtype='object')"
      ]
     },
     "execution_count": 46,
     "metadata": {},
     "output_type": "execute_result"
    }
   ],
   "source": [
    "test.columns"
   ]
  },
  {
   "cell_type": "code",
   "execution_count": 47,
   "metadata": {},
   "outputs": [
    {
     "data": {
      "text/plain": [
       "Index(['pclass', 'age_cleaning', 'name', 'fare_cleaning', 'passengerid',\n",
       "       'sibsp', 'parch', 'infant', 'cabin', 'ticket', 'gender_female',\n",
       "       'gender_male', 'embarked_C', 'embarked_Q', 'embarked_S',\n",
       "       'gender_infant_female_0', 'gender_infant_female_1',\n",
       "       'gender_infant_male_0', 'gender_infant_male_1'],\n",
       "      dtype='object')"
      ]
     },
     "execution_count": 47,
     "metadata": {},
     "output_type": "execute_result"
    }
   ],
   "source": [
    "ori_te.columns"
   ]
  },
  {
   "cell_type": "code",
   "execution_count": 48,
   "metadata": {},
   "outputs": [],
   "source": [
    "train = train.drop(['passengerid'], axis=1)\n",
    "test = test.drop(['passengerid'], axis=1)\n",
    "ori_te = ori_te.drop(['name', 'ticket', 'cabin'], axis=1)"
   ]
  },
  {
   "cell_type": "code",
   "execution_count": 49,
   "metadata": {},
   "outputs": [
    {
     "data": {
      "text/plain": [
       "DecisionTreeClassifier(random_state=21)"
      ]
     },
     "execution_count": 49,
     "metadata": {},
     "output_type": "execute_result"
    }
   ],
   "source": [
    "modelV4 = DecisionTreeClassifier(random_state=random_state)\n",
    "\n",
    "modelV4.fit(train, y_tr)"
   ]
  },
  {
   "cell_type": "code",
   "execution_count": 50,
   "metadata": {},
   "outputs": [
    {
     "data": {
      "text/plain": [
       "(0.982839313572543, 0.7709090909090909)"
      ]
     },
     "execution_count": 50,
     "metadata": {},
     "output_type": "execute_result"
    }
   ],
   "source": [
    "score_tr = modelV4.score(train, y_tr)\n",
    "score_te = modelV4.score(test, y_te) \n",
    "\n",
    "score_tr, score_te "
   ]
  },
  {
   "cell_type": "code",
   "execution_count": 51,
   "metadata": {},
   "outputs": [
    {
     "name": "stdout",
     "output_type": "stream",
     "text": [
      "model: 0.7514619883040936\n"
     ]
    }
   ],
   "source": [
    "from sklearn.metrics import roc_curve, auc \n",
    "\n",
    "y_pred = modelV4.predict_proba(test)[:,1]  # proba: 확률 예측\n",
    "fpr, tpr, thresholds = roc_curve(y_te,y_pred)\n",
    "\n",
    "auc_te = auc(fpr, tpr)\n",
    "print(f'model: {auc_te}')"
   ]
  },
  {
   "cell_type": "code",
   "execution_count": 52,
   "metadata": {},
   "outputs": [
    {
     "data": {
      "text/plain": [
       "array([0.05932543, 0.19651105, 0.16740692, 0.00971285, 0.04414459,\n",
       "       0.        , 0.        , 0.49297873, 0.00766071, 0.00136779,\n",
       "       0.02089193, 0.        , 0.        , 0.        , 0.        ])"
      ]
     },
     "execution_count": 52,
     "metadata": {},
     "output_type": "execute_result"
    }
   ],
   "source": [
    "modelV4.feature_importances_"
   ]
  },
  {
   "cell_type": "code",
   "execution_count": 53,
   "metadata": {},
   "outputs": [
    {
     "name": "stdout",
     "output_type": "stream",
     "text": [
      "(15, 2)\n"
     ]
    },
    {
     "data": {
      "text/html": [
       "<div>\n",
       "<style scoped>\n",
       "    .dataframe tbody tr th:only-of-type {\n",
       "        vertical-align: middle;\n",
       "    }\n",
       "\n",
       "    .dataframe tbody tr th {\n",
       "        vertical-align: top;\n",
       "    }\n",
       "\n",
       "    .dataframe thead th {\n",
       "        text-align: right;\n",
       "    }\n",
       "</style>\n",
       "<table border=\"1\" class=\"dataframe\">\n",
       "  <thead>\n",
       "    <tr style=\"text-align: right;\">\n",
       "      <th></th>\n",
       "      <th>index</th>\n",
       "      <th>0</th>\n",
       "    </tr>\n",
       "  </thead>\n",
       "  <tbody>\n",
       "    <tr>\n",
       "      <th>0</th>\n",
       "      <td>gender_male</td>\n",
       "      <td>0.492979</td>\n",
       "    </tr>\n",
       "    <tr>\n",
       "      <th>1</th>\n",
       "      <td>fare</td>\n",
       "      <td>0.196511</td>\n",
       "    </tr>\n",
       "    <tr>\n",
       "      <th>2</th>\n",
       "      <td>age</td>\n",
       "      <td>0.167407</td>\n",
       "    </tr>\n",
       "    <tr>\n",
       "      <th>3</th>\n",
       "      <td>pclass</td>\n",
       "      <td>0.059325</td>\n",
       "    </tr>\n",
       "    <tr>\n",
       "      <th>4</th>\n",
       "      <td>sibsp</td>\n",
       "      <td>0.044145</td>\n",
       "    </tr>\n",
       "    <tr>\n",
       "      <th>5</th>\n",
       "      <td>embarked_S</td>\n",
       "      <td>0.020892</td>\n",
       "    </tr>\n",
       "    <tr>\n",
       "      <th>6</th>\n",
       "      <td>parch</td>\n",
       "      <td>0.009713</td>\n",
       "    </tr>\n",
       "    <tr>\n",
       "      <th>7</th>\n",
       "      <td>embarked_C</td>\n",
       "      <td>0.007661</td>\n",
       "    </tr>\n",
       "    <tr>\n",
       "      <th>8</th>\n",
       "      <td>embarked_Q</td>\n",
       "      <td>0.001368</td>\n",
       "    </tr>\n",
       "    <tr>\n",
       "      <th>9</th>\n",
       "      <td>infant</td>\n",
       "      <td>0.000000</td>\n",
       "    </tr>\n",
       "    <tr>\n",
       "      <th>10</th>\n",
       "      <td>gender_female</td>\n",
       "      <td>0.000000</td>\n",
       "    </tr>\n",
       "    <tr>\n",
       "      <th>11</th>\n",
       "      <td>gender_infant_female_0</td>\n",
       "      <td>0.000000</td>\n",
       "    </tr>\n",
       "    <tr>\n",
       "      <th>12</th>\n",
       "      <td>gender_infant_female_1</td>\n",
       "      <td>0.000000</td>\n",
       "    </tr>\n",
       "    <tr>\n",
       "      <th>13</th>\n",
       "      <td>gender_infant_male_0</td>\n",
       "      <td>0.000000</td>\n",
       "    </tr>\n",
       "    <tr>\n",
       "      <th>14</th>\n",
       "      <td>gender_infant_male_1</td>\n",
       "      <td>0.000000</td>\n",
       "    </tr>\n",
       "  </tbody>\n",
       "</table>\n",
       "</div>"
      ],
      "text/plain": [
       "                     index         0\n",
       "0              gender_male  0.492979\n",
       "1                     fare  0.196511\n",
       "2                      age  0.167407\n",
       "3                   pclass  0.059325\n",
       "4                    sibsp  0.044145\n",
       "5               embarked_S  0.020892\n",
       "6                    parch  0.009713\n",
       "7               embarked_C  0.007661\n",
       "8               embarked_Q  0.001368\n",
       "9                   infant  0.000000\n",
       "10           gender_female  0.000000\n",
       "11  gender_infant_female_0  0.000000\n",
       "12  gender_infant_female_1  0.000000\n",
       "13    gender_infant_male_0  0.000000\n",
       "14    gender_infant_male_1  0.000000"
      ]
     },
     "execution_count": 53,
     "metadata": {},
     "output_type": "execute_result"
    }
   ],
   "source": [
    "df_feature_importances = pd.DataFrame(modelV4.feature_importances_, train.columns).sort_values(by=[0], ascending=False).reset_index()\n",
    "\n",
    "print(f'{df_feature_importances.shape}')\n",
    "df_feature_importances"
   ]
  },
  {
   "cell_type": "code",
   "execution_count": 54,
   "metadata": {},
   "outputs": [
    {
     "data": {
      "text/plain": [
       "((641, 15), (275, 15), (393, 16))"
      ]
     },
     "execution_count": 54,
     "metadata": {},
     "output_type": "execute_result"
    }
   ],
   "source": [
    "train.shape, test.shape, ori_te.shape"
   ]
  },
  {
   "cell_type": "code",
   "execution_count": 55,
   "metadata": {},
   "outputs": [
    {
     "data": {
      "text/plain": [
       "Index(['pclass', 'fare', 'age', 'parch', 'sibsp', 'infant', 'gender_female',\n",
       "       'gender_male', 'embarked_C', 'embarked_Q', 'embarked_S',\n",
       "       'gender_infant_female_0', 'gender_infant_female_1',\n",
       "       'gender_infant_male_0', 'gender_infant_male_1'],\n",
       "      dtype='object')"
      ]
     },
     "execution_count": 55,
     "metadata": {},
     "output_type": "execute_result"
    }
   ],
   "source": [
    "train.columns"
   ]
  },
  {
   "cell_type": "code",
   "execution_count": 56,
   "metadata": {},
   "outputs": [
    {
     "data": {
      "text/plain": [
       "Index(['pclass', 'age_cleaning', 'fare_cleaning', 'passengerid', 'sibsp',\n",
       "       'parch', 'infant', 'gender_female', 'gender_male', 'embarked_C',\n",
       "       'embarked_Q', 'embarked_S', 'gender_infant_female_0',\n",
       "       'gender_infant_female_1', 'gender_infant_male_0',\n",
       "       'gender_infant_male_1'],\n",
       "      dtype='object')"
      ]
     },
     "execution_count": 56,
     "metadata": {},
     "output_type": "execute_result"
    }
   ],
   "source": [
    "ori_te.columns"
   ]
  },
  {
   "cell_type": "code",
   "execution_count": 57,
   "metadata": {},
   "outputs": [
    {
     "name": "stderr",
     "output_type": "stream",
     "text": [
      "c:\\Users\\Playdata\\anaconda3\\lib\\site-packages\\sklearn\\base.py:493: FutureWarning: The feature names should match those that were passed during fit. Starting version 1.2, an error will be raised.\n",
      "Feature names unseen at fit time:\n",
      "- age_cleaning\n",
      "- fare_cleaning\n",
      "Feature names seen at fit time, yet now missing:\n",
      "- age\n",
      "- fare\n",
      "\n",
      "  warnings.warn(message, FutureWarning)\n"
     ]
    }
   ],
   "source": [
    "# Model1 (initial별 최빈값을 age에 대입) randomforest\n",
    "\n",
    "#set ids as PassengerId and predict survival \n",
    "ids = ori_te['passengerid']\n",
    "predictions = modelV4.predict(ori_te.drop('passengerid' , axis=1))\n",
    "\n",
    "#set the output as a dataframe and convert to csv file named submission.csv\n",
    "output = pd.DataFrame({ 'passengerid' : ids, 'survived': predictions })\n",
    "output.to_csv('C:/titanic_datas/result/Test.csv', index=False)"
   ]
  }
 ],
 "metadata": {
  "kernelspec": {
   "display_name": "base",
   "language": "python",
   "name": "python3"
  },
  "language_info": {
   "codemirror_mode": {
    "name": "ipython",
    "version": 3
   },
   "file_extension": ".py",
   "mimetype": "text/x-python",
   "name": "python",
   "nbconvert_exporter": "python",
   "pygments_lexer": "ipython3",
   "version": "3.9.13"
  },
  "orig_nbformat": 4
 },
 "nbformat": 4,
 "nbformat_minor": 2
}
