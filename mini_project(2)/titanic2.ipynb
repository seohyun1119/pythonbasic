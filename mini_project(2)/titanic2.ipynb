{
 "cells": [
  {
   "cell_type": "code",
   "execution_count": 2,
   "metadata": {},
   "outputs": [
    {
     "name": "stdout",
     "output_type": "stream",
     "text": [
      "['NanumBarunGothic']\n"
     ]
    }
   ],
   "source": [
    "# 데이터 분석에 사용할 라이브러리\n",
    "import pandas as pd\n",
    "import numpy as np \n",
    "import matplotlib as mpl\n",
    "import matplotlib.pyplot as plt\n",
    "import matplotlib.font_manager as fm\n",
    "import seaborn as sns\n",
    "\n",
    "# error 창 안 보이게 해줌\n",
    "import logging\n",
    "logging.getLogger('matplotlib.font_manager').setLevel(logging.ERROR)\n",
    "\n",
    "# 가용폰트 확인\n",
    "for font in mpl.font_manager.findSystemFonts():\n",
    "    # print(mpl.font_manager.FontProperties(fname=font).get_name())\n",
    "    mpl.font_manager.fontManager.addfont(font)\n",
    "\n",
    "# Set font family globally\n",
    "mpl.rcParams['font.family'] = 'NanumBarunGothic'# 폰트명\n",
    "print(mpl.rcParams['font.family'])"
   ]
  },
  {
   "cell_type": "code",
   "execution_count": 3,
   "metadata": {},
   "outputs": [],
   "source": [
    "import easydict\n",
    "args = easydict.EasyDict()"
   ]
  },
  {
   "cell_type": "code",
   "execution_count": 4,
   "metadata": {},
   "outputs": [],
   "source": [
    "default_path = 'C:/titanic_datas/'\n",
    "train = default_path + 'train.csv'\n",
    "test = default_path + 'test.csv'\n",
    "default_submission = default_path + 'submission.csv'\n",
    "\n",
    "submission_csv = default_path + 'result/solution.csv'\n",
    "save_results = default_path + 'result/model_results.json'\n",
    "\n",
    "random_state = 21\n",
    "results = []"
   ]
  },
  {
   "cell_type": "code",
   "execution_count": 5,
   "metadata": {},
   "outputs": [
    {
     "data": {
      "text/html": [
       "<div>\n",
       "<style scoped>\n",
       "    .dataframe tbody tr th:only-of-type {\n",
       "        vertical-align: middle;\n",
       "    }\n",
       "\n",
       "    .dataframe tbody tr th {\n",
       "        vertical-align: top;\n",
       "    }\n",
       "\n",
       "    .dataframe thead th {\n",
       "        text-align: right;\n",
       "    }\n",
       "</style>\n",
       "<table border=\"1\" class=\"dataframe\">\n",
       "  <thead>\n",
       "    <tr style=\"text-align: right;\">\n",
       "      <th></th>\n",
       "      <th>passengerid</th>\n",
       "      <th>survived</th>\n",
       "      <th>pclass</th>\n",
       "      <th>name</th>\n",
       "      <th>gender</th>\n",
       "      <th>age</th>\n",
       "      <th>sibsp</th>\n",
       "      <th>parch</th>\n",
       "      <th>ticket</th>\n",
       "      <th>fare</th>\n",
       "      <th>cabin</th>\n",
       "      <th>embarked</th>\n",
       "    </tr>\n",
       "  </thead>\n",
       "  <tbody>\n",
       "    <tr>\n",
       "      <th>0</th>\n",
       "      <td>0</td>\n",
       "      <td>0</td>\n",
       "      <td>2</td>\n",
       "      <td>Wheeler, Mr. Edwin Frederick\"\"</td>\n",
       "      <td>male</td>\n",
       "      <td>NaN</td>\n",
       "      <td>0</td>\n",
       "      <td>0</td>\n",
       "      <td>SC/PARIS 2159</td>\n",
       "      <td>12.8750</td>\n",
       "      <td>NaN</td>\n",
       "      <td>S</td>\n",
       "    </tr>\n",
       "    <tr>\n",
       "      <th>1</th>\n",
       "      <td>1</td>\n",
       "      <td>0</td>\n",
       "      <td>3</td>\n",
       "      <td>Henry, Miss. Delia</td>\n",
       "      <td>female</td>\n",
       "      <td>NaN</td>\n",
       "      <td>0</td>\n",
       "      <td>0</td>\n",
       "      <td>382649</td>\n",
       "      <td>7.7500</td>\n",
       "      <td>NaN</td>\n",
       "      <td>Q</td>\n",
       "    </tr>\n",
       "    <tr>\n",
       "      <th>2</th>\n",
       "      <td>2</td>\n",
       "      <td>1</td>\n",
       "      <td>1</td>\n",
       "      <td>Hays, Mrs. Charles Melville (Clara Jennings Gr...</td>\n",
       "      <td>female</td>\n",
       "      <td>52.0</td>\n",
       "      <td>1</td>\n",
       "      <td>1</td>\n",
       "      <td>12749</td>\n",
       "      <td>93.5000</td>\n",
       "      <td>B69</td>\n",
       "      <td>S</td>\n",
       "    </tr>\n",
       "    <tr>\n",
       "      <th>3</th>\n",
       "      <td>3</td>\n",
       "      <td>1</td>\n",
       "      <td>3</td>\n",
       "      <td>Andersson, Mr. August Edvard (\"Wennerstrom\")</td>\n",
       "      <td>male</td>\n",
       "      <td>27.0</td>\n",
       "      <td>0</td>\n",
       "      <td>0</td>\n",
       "      <td>350043</td>\n",
       "      <td>7.7958</td>\n",
       "      <td>NaN</td>\n",
       "      <td>S</td>\n",
       "    </tr>\n",
       "    <tr>\n",
       "      <th>4</th>\n",
       "      <td>4</td>\n",
       "      <td>0</td>\n",
       "      <td>2</td>\n",
       "      <td>Hold, Mr. Stephen</td>\n",
       "      <td>male</td>\n",
       "      <td>44.0</td>\n",
       "      <td>1</td>\n",
       "      <td>0</td>\n",
       "      <td>26707</td>\n",
       "      <td>26.0000</td>\n",
       "      <td>NaN</td>\n",
       "      <td>S</td>\n",
       "    </tr>\n",
       "  </tbody>\n",
       "</table>\n",
       "</div>"
      ],
      "text/plain": [
       "   passengerid  survived  pclass  \\\n",
       "0            0         0       2   \n",
       "1            1         0       3   \n",
       "2            2         1       1   \n",
       "3            3         1       3   \n",
       "4            4         0       2   \n",
       "\n",
       "                                                name  gender   age  sibsp  \\\n",
       "0                     Wheeler, Mr. Edwin Frederick\"\"    male   NaN      0   \n",
       "1                                 Henry, Miss. Delia  female   NaN      0   \n",
       "2  Hays, Mrs. Charles Melville (Clara Jennings Gr...  female  52.0      1   \n",
       "3       Andersson, Mr. August Edvard (\"Wennerstrom\")    male  27.0      0   \n",
       "4                                  Hold, Mr. Stephen    male  44.0      1   \n",
       "\n",
       "   parch         ticket     fare cabin embarked  \n",
       "0      0  SC/PARIS 2159  12.8750   NaN        S  \n",
       "1      0         382649   7.7500   NaN        Q  \n",
       "2      1          12749  93.5000   B69        S  \n",
       "3      0         350043   7.7958   NaN        S  \n",
       "4      0          26707  26.0000   NaN        S  "
      ]
     },
     "execution_count": 5,
     "metadata": {},
     "output_type": "execute_result"
    }
   ],
   "source": [
    "DATA_PATH = 'C:/titanic_datas/'\n",
    "\n",
    "df = pd.read_csv(DATA_PATH+'train.csv')\n",
    "df.head()"
   ]
  },
  {
   "cell_type": "code",
   "execution_count": 6,
   "metadata": {},
   "outputs": [
    {
     "data": {
      "text/plain": [
       "((916, 12), (393, 11))"
      ]
     },
     "execution_count": 6,
     "metadata": {},
     "output_type": "execute_result"
    }
   ],
   "source": [
    "origin_train = pd.read_csv(train)\n",
    "origin_test = pd.read_csv(test)\n",
    "\n",
    "origin_train.shape, origin_test.shape"
   ]
  },
  {
   "cell_type": "code",
   "execution_count": 7,
   "metadata": {},
   "outputs": [
    {
     "data": {
      "text/plain": [
       "(393, 2)"
      ]
     },
     "execution_count": 7,
     "metadata": {},
     "output_type": "execute_result"
    }
   ],
   "source": [
    "pd.read_csv(default_submission).shape"
   ]
  },
  {
   "cell_type": "code",
   "execution_count": 8,
   "metadata": {},
   "outputs": [
    {
     "data": {
      "text/plain": [
       "Index(['passengerid', 'survived', 'pclass', 'name', 'gender', 'age', 'sibsp',\n",
       "       'parch', 'ticket', 'fare', 'cabin', 'embarked'],\n",
       "      dtype='object')"
      ]
     },
     "execution_count": 8,
     "metadata": {},
     "output_type": "execute_result"
    }
   ],
   "source": [
    "origin_train.columns"
   ]
  },
  {
   "attachments": {},
   "cell_type": "markdown",
   "metadata": {},
   "source": [
    "- features\n",
    "- 귀족들이 많다. -> name에서 추출\n",
    "- cabin -> 세월호 때 호실 찾는 거, 기록이 안 된 사람들은 사망했을 가능성이 높다.\n",
    "- age -> 결측치 넣기 전 분포로 확인함, 결측치를 무엇으로 채울 지 결정"
   ]
  },
  {
   "cell_type": "code",
   "execution_count": 15,
   "metadata": {},
   "outputs": [
    {
     "data": {
      "text/plain": [
       "Mr.          528\n",
       "Miss.        185\n",
       "Mrs.         138\n",
       "Master.       42\n",
       "Rev.           6\n",
       "Dr.            5\n",
       "Col.           3\n",
       "Major.         2\n",
       "Don.           1\n",
       "Ms.            1\n",
       "Jonkheer.      1\n",
       "Mlle.          1\n",
       "Countess.      1\n",
       "Capt.          1\n",
       "Sir.           1\n",
       "Name: designation, dtype: int64"
      ]
     },
     "execution_count": 15,
     "metadata": {},
     "output_type": "execute_result"
    }
   ],
   "source": [
    "dict_designation = {\n",
    "    'Mr.': '남성',\n",
    "    'Master.': '남성',\n",
    "    'Sir.': '남성',\n",
    "    'Miss.': '미혼 여성',\n",
    "    'Mrs.': '기혼 여성',\n",
    "    'Ms.': '미혼/기혼 여성',\n",
    "    'Lady.': '숙녀',\n",
    "    'Mlle.': '아가씨',\n",
    "    # 직업\n",
    "    'Dr.': '의사',\n",
    "    'Rev.': '목사',\n",
    "    'Major.': '계급',\n",
    "    'Don.': '교수',\n",
    "    'Col.': '군인',\n",
    "    'Capt.': '군인',\n",
    "    # 귀족\n",
    "    'Mme.': '영부인',\n",
    "    'Countess.': '백작부인',\n",
    "    'Jonkheer.': '귀족'\n",
    "}\n",
    "\n",
    "def add_designation(name): # 호칭 함수\n",
    "  designation = \"unknown\"\n",
    "  for key in dict_designation.keys():\n",
    "    if key in name:\n",
    "      designation = key\n",
    "      break\n",
    "  return designation\n",
    "\n",
    "origin_train['designation'] = origin_train['name'].map(lambda x: add_designation(x))\n",
    "origin_test['designation'] = origin_test['name'].map(lambda x: add_designation(x))\n",
    "\n",
    "origin_train.designation.value_counts()"
   ]
  },
  {
   "cell_type": "code",
   "execution_count": 16,
   "metadata": {},
   "outputs": [
    {
     "data": {
      "text/html": [
       "<style type=\"text/css\">\n",
       "#T_cb5de_row0_col0, #T_cb5de_row0_col1, #T_cb5de_row0_col3, #T_cb5de_row0_col4, #T_cb5de_row0_col5, #T_cb5de_row0_col6, #T_cb5de_row0_col7, #T_cb5de_row0_col10, #T_cb5de_row0_col13, #T_cb5de_row0_col14, #T_cb5de_row1_col2, #T_cb5de_row1_col8, #T_cb5de_row1_col9, #T_cb5de_row1_col11, #T_cb5de_row1_col12 {\n",
       "  background-color: #ffff66;\n",
       "  color: #000000;\n",
       "}\n",
       "#T_cb5de_row0_col2, #T_cb5de_row0_col8, #T_cb5de_row0_col9, #T_cb5de_row0_col11, #T_cb5de_row0_col12, #T_cb5de_row1_col0, #T_cb5de_row1_col1, #T_cb5de_row1_col3, #T_cb5de_row1_col4, #T_cb5de_row1_col5, #T_cb5de_row1_col6, #T_cb5de_row1_col7, #T_cb5de_row1_col10, #T_cb5de_row1_col13, #T_cb5de_row1_col14 {\n",
       "  background-color: #008066;\n",
       "  color: #f1f1f1;\n",
       "}\n",
       "</style>\n",
       "<table id=\"T_cb5de\">\n",
       "  <thead>\n",
       "    <tr>\n",
       "      <th class=\"index_name level0\" >designation</th>\n",
       "      <th id=\"T_cb5de_level0_col0\" class=\"col_heading level0 col0\" >Capt.</th>\n",
       "      <th id=\"T_cb5de_level0_col1\" class=\"col_heading level0 col1\" >Col.</th>\n",
       "      <th id=\"T_cb5de_level0_col2\" class=\"col_heading level0 col2\" >Countess.</th>\n",
       "      <th id=\"T_cb5de_level0_col3\" class=\"col_heading level0 col3\" >Don.</th>\n",
       "      <th id=\"T_cb5de_level0_col4\" class=\"col_heading level0 col4\" >Dr.</th>\n",
       "      <th id=\"T_cb5de_level0_col5\" class=\"col_heading level0 col5\" >Jonkheer.</th>\n",
       "      <th id=\"T_cb5de_level0_col6\" class=\"col_heading level0 col6\" >Major.</th>\n",
       "      <th id=\"T_cb5de_level0_col7\" class=\"col_heading level0 col7\" >Master.</th>\n",
       "      <th id=\"T_cb5de_level0_col8\" class=\"col_heading level0 col8\" >Miss.</th>\n",
       "      <th id=\"T_cb5de_level0_col9\" class=\"col_heading level0 col9\" >Mlle.</th>\n",
       "      <th id=\"T_cb5de_level0_col10\" class=\"col_heading level0 col10\" >Mr.</th>\n",
       "      <th id=\"T_cb5de_level0_col11\" class=\"col_heading level0 col11\" >Mrs.</th>\n",
       "      <th id=\"T_cb5de_level0_col12\" class=\"col_heading level0 col12\" >Ms.</th>\n",
       "      <th id=\"T_cb5de_level0_col13\" class=\"col_heading level0 col13\" >Rev.</th>\n",
       "      <th id=\"T_cb5de_level0_col14\" class=\"col_heading level0 col14\" >Sir.</th>\n",
       "    </tr>\n",
       "    <tr>\n",
       "      <th class=\"index_name level0\" >gender</th>\n",
       "      <th class=\"blank col0\" >&nbsp;</th>\n",
       "      <th class=\"blank col1\" >&nbsp;</th>\n",
       "      <th class=\"blank col2\" >&nbsp;</th>\n",
       "      <th class=\"blank col3\" >&nbsp;</th>\n",
       "      <th class=\"blank col4\" >&nbsp;</th>\n",
       "      <th class=\"blank col5\" >&nbsp;</th>\n",
       "      <th class=\"blank col6\" >&nbsp;</th>\n",
       "      <th class=\"blank col7\" >&nbsp;</th>\n",
       "      <th class=\"blank col8\" >&nbsp;</th>\n",
       "      <th class=\"blank col9\" >&nbsp;</th>\n",
       "      <th class=\"blank col10\" >&nbsp;</th>\n",
       "      <th class=\"blank col11\" >&nbsp;</th>\n",
       "      <th class=\"blank col12\" >&nbsp;</th>\n",
       "      <th class=\"blank col13\" >&nbsp;</th>\n",
       "      <th class=\"blank col14\" >&nbsp;</th>\n",
       "    </tr>\n",
       "  </thead>\n",
       "  <tbody>\n",
       "    <tr>\n",
       "      <th id=\"T_cb5de_level0_row0\" class=\"row_heading level0 row0\" >female</th>\n",
       "      <td id=\"T_cb5de_row0_col0\" class=\"data row0 col0\" >0</td>\n",
       "      <td id=\"T_cb5de_row0_col1\" class=\"data row0 col1\" >0</td>\n",
       "      <td id=\"T_cb5de_row0_col2\" class=\"data row0 col2\" >1</td>\n",
       "      <td id=\"T_cb5de_row0_col3\" class=\"data row0 col3\" >0</td>\n",
       "      <td id=\"T_cb5de_row0_col4\" class=\"data row0 col4\" >1</td>\n",
       "      <td id=\"T_cb5de_row0_col5\" class=\"data row0 col5\" >0</td>\n",
       "      <td id=\"T_cb5de_row0_col6\" class=\"data row0 col6\" >0</td>\n",
       "      <td id=\"T_cb5de_row0_col7\" class=\"data row0 col7\" >0</td>\n",
       "      <td id=\"T_cb5de_row0_col8\" class=\"data row0 col8\" >185</td>\n",
       "      <td id=\"T_cb5de_row0_col9\" class=\"data row0 col9\" >1</td>\n",
       "      <td id=\"T_cb5de_row0_col10\" class=\"data row0 col10\" >0</td>\n",
       "      <td id=\"T_cb5de_row0_col11\" class=\"data row0 col11\" >138</td>\n",
       "      <td id=\"T_cb5de_row0_col12\" class=\"data row0 col12\" >1</td>\n",
       "      <td id=\"T_cb5de_row0_col13\" class=\"data row0 col13\" >0</td>\n",
       "      <td id=\"T_cb5de_row0_col14\" class=\"data row0 col14\" >0</td>\n",
       "    </tr>\n",
       "    <tr>\n",
       "      <th id=\"T_cb5de_level0_row1\" class=\"row_heading level0 row1\" >male</th>\n",
       "      <td id=\"T_cb5de_row1_col0\" class=\"data row1 col0\" >1</td>\n",
       "      <td id=\"T_cb5de_row1_col1\" class=\"data row1 col1\" >3</td>\n",
       "      <td id=\"T_cb5de_row1_col2\" class=\"data row1 col2\" >0</td>\n",
       "      <td id=\"T_cb5de_row1_col3\" class=\"data row1 col3\" >1</td>\n",
       "      <td id=\"T_cb5de_row1_col4\" class=\"data row1 col4\" >4</td>\n",
       "      <td id=\"T_cb5de_row1_col5\" class=\"data row1 col5\" >1</td>\n",
       "      <td id=\"T_cb5de_row1_col6\" class=\"data row1 col6\" >2</td>\n",
       "      <td id=\"T_cb5de_row1_col7\" class=\"data row1 col7\" >42</td>\n",
       "      <td id=\"T_cb5de_row1_col8\" class=\"data row1 col8\" >0</td>\n",
       "      <td id=\"T_cb5de_row1_col9\" class=\"data row1 col9\" >0</td>\n",
       "      <td id=\"T_cb5de_row1_col10\" class=\"data row1 col10\" >528</td>\n",
       "      <td id=\"T_cb5de_row1_col11\" class=\"data row1 col11\" >0</td>\n",
       "      <td id=\"T_cb5de_row1_col12\" class=\"data row1 col12\" >0</td>\n",
       "      <td id=\"T_cb5de_row1_col13\" class=\"data row1 col13\" >6</td>\n",
       "      <td id=\"T_cb5de_row1_col14\" class=\"data row1 col14\" >1</td>\n",
       "    </tr>\n",
       "  </tbody>\n",
       "</table>\n"
      ],
      "text/plain": [
       "<pandas.io.formats.style.Styler at 0x1d1f6b00910>"
      ]
     },
     "execution_count": 16,
     "metadata": {},
     "output_type": "execute_result"
    }
   ],
   "source": [
    "pd.crosstab(origin_train.designation,origin_train.gender).T.style.background_gradient(cmap='summer_r') \n",
    "#Checking the Initials with the Gender"
   ]
  },
  {
   "cell_type": "code",
   "execution_count": 19,
   "metadata": {},
   "outputs": [
    {
     "data": {
      "text/plain": [
       "718"
      ]
     },
     "execution_count": 19,
     "metadata": {},
     "output_type": "execute_result"
    }
   ],
   "source": [
    "origin_train.cabin.isnull().sum()"
   ]
  },
  {
   "cell_type": "code",
   "execution_count": null,
   "metadata": {},
   "outputs": [],
   "source": []
  }
 ],
 "metadata": {
  "kernelspec": {
   "display_name": "base",
   "language": "python",
   "name": "python3"
  },
  "language_info": {
   "codemirror_mode": {
    "name": "ipython",
    "version": 3
   },
   "file_extension": ".py",
   "mimetype": "text/x-python",
   "name": "python",
   "nbconvert_exporter": "python",
   "pygments_lexer": "ipython3",
   "version": "3.9.13"
  },
  "orig_nbformat": 4
 },
 "nbformat": 4,
 "nbformat_minor": 2
}
