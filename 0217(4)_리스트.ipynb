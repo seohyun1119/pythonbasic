{
 "cells": [
  {
   "cell_type": "code",
   "execution_count": 4,
   "id": "6ed5c755-262f-4bcd-97ce-b20f90f7f4fe",
   "metadata": {},
   "outputs": [
    {
     "name": "stdout",
     "output_type": "stream",
     "text": [
      "<class 'list'>\n",
      "[48, 48, 33, 95]\n"
     ]
    }
   ],
   "source": [
    "# 리스트 생성 방법(sequece 있음 --> index 접근가능) - 대괄호 사용 ([]), 콤마로 구분\n",
    "# 리스트의 자료형은 class 'list'임. list 클래스로 만들어진 객체라는 의미\n",
    "\n",
    "list_a = [48, 48, 33, 95]\n",
    "print(type(list_a))\n",
    "print(list_a)\n",
    "\n",
    "# object.method()\n",
    "# 객체.메서드()\n",
    "# str(문자열).split()"
   ]
  },
  {
   "cell_type": "code",
   "execution_count": 5,
   "id": "5caa8403-6abb-485c-bd47-cbed519e764e",
   "metadata": {},
   "outputs": [
    {
     "name": "stdin",
     "output_type": "stream",
     "text": [
      "숫자를 띄어쓰기로 구분하여 여럿 입력해보세요. 8 8 8\n"
     ]
    },
    {
     "name": "stdout",
     "output_type": "stream",
     "text": [
      "<class 'list'>\n",
      "[8, 8, 8]\n"
     ]
    }
   ],
   "source": [
    "# 리스트 생성 방법 - 빈 리스트(empty list)\n",
    "# 리스트 생성 방법 - 문자열.split()\n",
    "\n",
    "list_b = list(map(int, input(\"숫자를 띄어쓰기로 구분하여 여럿 입력해보세요.\").split()))\n",
    "print(type(list_b))\n",
    "print(list_b)\n",
    "\n",
    "# a = []\n",
    "# for i in list 객체:\n",
    "# a.append(int(i))"
   ]
  },
  {
   "cell_type": "code",
   "execution_count": 10,
   "id": "319a3f20-a75a-4539-a853-104a16ddf372",
   "metadata": {},
   "outputs": [
    {
     "name": "stdout",
     "output_type": "stream",
     "text": [
      "[2, 4, 6, 8, 10, 12, 14, 16, 18]\n"
     ]
    }
   ],
   "source": [
    "# 리스트 컴프리헨션(comprehension)\n",
    "# 1. 반복가능한 객체(iterable)로부터 값을 하나 꺼내와서 변수에 담음\n",
    "# 2. 요소를 담은 변수를 활용해서 표현식(expression)을 실행함 (변수는 활용할 수도 활용하지 않을 수도 있음)\n",
    "# 3. 표현식 결과 값을 리스트 요소에 넣음\n",
    "# 4. 반복가능한 객체(iterable)로부터 값이 없을 때까지 1~3 과정을 반복함\n",
    "# list_variable = [expression for 변수 in iterable]\n",
    "\n",
    "list_c = [i*2 for i in list(range(1, 10))]\n",
    "print(list_c)"
   ]
  },
  {
   "cell_type": "code",
   "execution_count": 11,
   "id": "d2a01148-6c1a-4d8b-a919-b0d2ce822061",
   "metadata": {},
   "outputs": [
    {
     "name": "stdout",
     "output_type": "stream",
     "text": [
      "<class 'list'>\n",
      "[1, 4, 9, 16, 25, 36, 49, 64, 81]\n"
     ]
    }
   ],
   "source": [
    "# 1부터 9까지 숫자의 제곱을 담는 리스트\n",
    "\n",
    "prac_result = [i**2 for i in list(range(1, 9+1))]\n",
    "print(type(prac_result))\n",
    "print(prac_result)"
   ]
  },
  {
   "cell_type": "code",
   "execution_count": 22,
   "id": "63487682-07d2-421a-9320-db2cef426546",
   "metadata": {},
   "outputs": [
    {
     "name": "stdout",
     "output_type": "stream",
     "text": [
      "[1, 3, 5, 7, 9]\n"
     ]
    }
   ],
   "source": [
    "# 1부터 9까지의 숫자 중 홀수만 갖는 리스트\n",
    "\n",
    "prac_result2 = [i for i in list(range(1, 10, 2))]\n",
    "print(prac_result2)"
   ]
  },
  {
   "cell_type": "code",
   "execution_count": 28,
   "id": "81ef1b30-ecef-4783-8f13-a8053285e623",
   "metadata": {},
   "outputs": [
    {
     "name": "stdout",
     "output_type": "stream",
     "text": [
      "['a', 'b', 'c', 'd', 'e', 'f', 'g', 'h', 'i', 'j', 'k', 'l', 'm', 'n', 'o', 'p', 'q', 'r', 's', 't', 'u', 'v', 'w', 'x', 'y', 'z']\n"
     ]
    }
   ],
   "source": [
    "# a부터 z까지 순서대로 알파벳 문자열을 갖는 리스트\n",
    "\n",
    "prac_result3 = [i for i in list(\"abcdefghijklmnopqrstuvwxyz\")]\n",
    "print(prac_result3)"
   ]
  },
  {
   "cell_type": "code",
   "execution_count": 45,
   "id": "7fe836cb-228a-40f2-b56b-9f9889bb5967",
   "metadata": {},
   "outputs": [
    {
     "name": "stdout",
     "output_type": "stream",
     "text": [
      "['2', '3', '4', '5', '6', '7', '8', '9', '10', 'J', 'Q', 'K', 'A']\n"
     ]
    }
   ],
   "source": [
    "# 2부터 10까지의 숫자 리스트와 J, Q, K, A를 갖는 리스트를 만들어 합치기\n",
    "\n",
    "prac_result4 = [str(i) for i in range(2, 10+1)]+[i for i in \"JQKA\"]\n",
    "print(prac_result4)"
   ]
  },
  {
   "cell_type": "code",
   "execution_count": 48,
   "id": "300616bc-f348-4621-aef3-a4a9316a54a2",
   "metadata": {},
   "outputs": [
    {
     "name": "stdout",
     "output_type": "stream",
     "text": [
      "['2', '3', '4', '5', '6', '7', '8', '9', '10', 'J', 'Q', 'K', 'A']\n"
     ]
    }
   ],
   "source": [
    "prac_result4 = [str(i) for i in range(2, 10+1)]\n",
    "prac_result4.extend([i for i in \"JQKA\"])\n",
    "print(prac_result4)"
   ]
  },
  {
   "cell_type": "code",
   "execution_count": 66,
   "id": "cc19014a-c785-4e10-ae71-de13db0396dc",
   "metadata": {},
   "outputs": [
    {
     "name": "stdout",
     "output_type": "stream",
     "text": [
      "[['2', '3', '4', '5', '6', '7', '8', '9', '10', 'J', 'Q', 'K', 'A'], ['2', '3', '4', '5', '6', '7', '8', '9', '10', 'J', 'Q', 'K', 'A'], ['2', '3', '4', '5', '6', '7', '8', '9', '10', 'J', 'Q', 'K', 'A'], ['2', '3', '4', '5', '6', '7', '8', '9', '10', 'J', 'Q', 'K', 'A']]\n"
     ]
    }
   ],
   "source": [
    "prac_result5 = [prac_result4 for _ in range(4)]    # 변수 '_'는 활용하지 않고 단순히 횟수만 반복\n",
    "print(prac_result5)"
   ]
  },
  {
   "cell_type": "code",
   "execution_count": 67,
   "id": "37b19432-4405-47f0-aa63-4a273b3ef489",
   "metadata": {},
   "outputs": [
    {
     "name": "stdout",
     "output_type": "stream",
     "text": [
      "['two', '3', '4', '5', '6', '7', '8', '9', '10', 'J', 'Q', 'K', 'A']\n"
     ]
    }
   ],
   "source": [
    "# prac_result5는 어떤 특징을 가지고 있을까?\n",
    "\n",
    "prac_result4[0] = \"two\"\n",
    "print(prac_result4)"
   ]
  },
  {
   "cell_type": "code",
   "execution_count": 68,
   "id": "2e8e747a-f08c-4b31-af19-a795e9f336cc",
   "metadata": {},
   "outputs": [
    {
     "name": "stdout",
     "output_type": "stream",
     "text": [
      "[['two', '3', '4', '5', '6', '7', '8', '9', '10', 'J', 'Q', 'K', 'A'], ['two', '3', '4', '5', '6', '7', '8', '9', '10', 'J', 'Q', 'K', 'A'], ['two', '3', '4', '5', '6', '7', '8', '9', '10', 'J', 'Q', 'K', 'A'], ['two', '3', '4', '5', '6', '7', '8', '9', '10', 'J', 'Q', 'K', 'A']]\n"
     ]
    }
   ],
   "source": [
    "print(prac_result5)"
   ]
  },
  {
   "cell_type": "code",
   "execution_count": 70,
   "id": "b2b5093b-1763-4ce1-9fe8-402289ebd0b8",
   "metadata": {},
   "outputs": [
    {
     "name": "stdout",
     "output_type": "stream",
     "text": [
      "prac_result4의 id: 1539167404928\n",
      "prac_result5[0] : 1539167404928\n",
      "prac_result5[1] : 1539167404928\n",
      "prac_result5[2] : 1539167404928\n",
      "prac_result5[3] : 1539167404928\n"
     ]
    }
   ],
   "source": [
    "# id() 내장 함수\n",
    "# 객체마다 구분할 수 있는 고유한 정수 값(메모리 주소)을 가짐.\n",
    "# 그걸 조회하는 것이 id() 내장 함수\n",
    "# id()로 가져온 정수 값이 같다면 같은 객체라는 의미\n",
    "\n",
    "print(\"prac_result4의 id:\", id(prac_result4))\n",
    "\n",
    "for i, v in enumerate(prac_result5):    # enumerate(): index 값을 동시에 얻을 때\n",
    "    print(\"prac_result5[\", i, \"] : \", id(v), sep = \"\")"
   ]
  },
  {
   "cell_type": "code",
   "execution_count": 72,
   "id": "c520eecc-5ba9-4f13-8066-6f67b1f5b2bc",
   "metadata": {},
   "outputs": [
    {
     "name": "stdout",
     "output_type": "stream",
     "text": [
      "prac_result4의 id: 1539167404928\n",
      "prac_result6[0] : 1539167416000\n",
      "prac_result6[1] : 1539168334976\n",
      "prac_result6[2] : 1539167480256\n",
      "prac_result6[3] : 1539167480000\n"
     ]
    }
   ],
   "source": [
    "# 기존 리스트의 전체 범위의 슬라이싱 결과는 새로운 객체\n",
    "\n",
    "prac_result6 = [prac_result4[:] for _ in range(4)]\n",
    "\n",
    "print(\"prac_result4의 id:\", id(prac_result4))\n",
    "for i, v in enumerate(prac_result6):\n",
    "    print(\"prac_result6[\", i, \"] : \", id(v), sep = \"\")"
   ]
  },
  {
   "cell_type": "code",
   "execution_count": 78,
   "id": "19fa5a43-0e05-48e6-9053-dfba555af0ce",
   "metadata": {},
   "outputs": [
    {
     "name": "stdout",
     "output_type": "stream",
     "text": [
      "1539168375936\n",
      "1539168375168\n",
      "False\n",
      "True\n"
     ]
    }
   ],
   "source": [
    "# [1, 2, 3, 4, 5, 6, 7, 8, 9]\n",
    "# type(variable) is int\n",
    "\n",
    "old_list = list(range(10))\n",
    "new_list = old_list[:]\n",
    "\n",
    "print(id(old_list))\n",
    "print(id(new_list))\n",
    "print(old_list is new_list)   # id() 함수의 결과를 비교한다.\n",
    "print(old_list == new_list)   # 객체 자체는 다른 위치에 있지만 서로 같은 고유 값을 가진다."
   ]
  },
  {
   "cell_type": "code",
   "execution_count": 79,
   "id": "58f6d1dc-25a3-4ce3-8adc-06cf7adf9d96",
   "metadata": {},
   "outputs": [
    {
     "name": "stdout",
     "output_type": "stream",
     "text": [
      "1539168388928\n",
      "1539168388928\n",
      "True\n",
      "True\n"
     ]
    }
   ],
   "source": [
    "# tuple, str은 is 연산자의 결과가 다를 수 이ㅣㅆ음\n",
    "# 문자열, 튜플의 경우에는 불변(immutable)의 특징을 가짐\n",
    "# 요소가 동일하다면 재사용해도 문제될 것이 없음\n",
    "# 따라서 효율을 위해 동일하게 복사하기도 함\n",
    "\n",
    "# # [1, 2, 3, 4, 5, 6, 7, 8, 9]\n",
    "\n",
    "old_tuple = tuple(range(10))\n",
    "new_tuple = old_tuple[:]\n",
    "\n",
    "print(id(old_tuple))\n",
    "print(id(new_tuple))\n",
    "print(old_tuple is new_tuple)  \n",
    "print(old_tuple == new_tuple) "
   ]
  },
  {
   "cell_type": "code",
   "execution_count": 80,
   "id": "496a93ab-f3d3-443b-8fc2-479ce7ee9ee5",
   "metadata": {},
   "outputs": [
    {
     "name": "stdout",
     "output_type": "stream",
     "text": [
      "True\n"
     ]
    }
   ],
   "source": [
    "old_str = \"abcd\"\n",
    "new_str = old_str[:]\n",
    "\n",
    "print(old_str is new_str)"
   ]
  },
  {
   "cell_type": "code",
   "execution_count": 84,
   "id": "2f5089b0-d6b5-42bc-a749-cd42c7617a77",
   "metadata": {},
   "outputs": [
    {
     "name": "stdout",
     "output_type": "stream",
     "text": [
      "[0, 1, 8, 27, 64, 125, 216, 343, 512, 729]\n"
     ]
    }
   ],
   "source": [
    "# list_variable = list(expression for 변수 in iterable)\n",
    "# 대괄호([]) 대신 list() 함수를 사용\n",
    "# 대괄호 방식이 성능이 더 좋음\n",
    "\n",
    "list_d = list(i**3 for i in range(10))\n",
    "print(list_d)"
   ]
  },
  {
   "cell_type": "code",
   "execution_count": 86,
   "id": "ef22d575-1490-4cb8-9ab1-225157a8811e",
   "metadata": {},
   "outputs": [],
   "source": [
    "# list.copy() 메서드는 리스트 객체를 새롭게 복사함\n",
    "# copy()는 리스트를 슬라이싱한 것과 같이 객체 자체를 새로운 메모리 공간에 복사함"
   ]
  },
  {
   "cell_type": "code",
   "execution_count": 94,
   "id": "4e1150f4-6f5f-4c32-bbe6-bda3431c3b6c",
   "metadata": {},
   "outputs": [
    {
     "name": "stdout",
     "output_type": "stream",
     "text": [
      "[[0], [0], [0]]\n",
      "[[999], [999], [999]]\n"
     ]
    }
   ],
   "source": [
    "# 얕은 복사(shallow copy): 리스트 내에 있는 값을 그대로 복사함\n",
    "# list_i[0]과 list_i[1]과 list_i[2]는 모두 같은 객체를 바라보는 요소를 가짐\n",
    "# 단 하나의 요소만 바꿨을 뿐인데 모든 요소의 값이 변경됨\n",
    "# 요소가 객체로 되어있으면 메모리 주소만 복사하는 것을 얕은 복사라고 함\n",
    "\n",
    "list_i = [[0]]*3\n",
    "print(list_i)\n",
    "\n",
    "list_i[0][0] = 999\n",
    "print(list_i)"
   ]
  },
  {
   "cell_type": "code",
   "execution_count": 95,
   "id": "07f1edb2-dc69-4a7b-88e8-92cb02621d7e",
   "metadata": {},
   "outputs": [
    {
     "data": {
      "text/plain": [
       "True"
      ]
     },
     "execution_count": 95,
     "metadata": {},
     "output_type": "execute_result"
    }
   ],
   "source": [
    "list_i[0][0] is list_i[1][0]"
   ]
  },
  {
   "cell_type": "code",
   "execution_count": 96,
   "id": "8d8448f2-b549-4cd9-bc9e-dbb794a5faa0",
   "metadata": {},
   "outputs": [
    {
     "data": {
      "text/plain": [
       "True"
      ]
     },
     "execution_count": 96,
     "metadata": {},
     "output_type": "execute_result"
    }
   ],
   "source": [
    "list_i[0][0] is list_i[2][0]"
   ]
  },
  {
   "cell_type": "code",
   "execution_count": 97,
   "id": "d73dbd21-92c8-47e5-8864-446ea2f4b9e7",
   "metadata": {},
   "outputs": [
    {
     "data": {
      "text/plain": [
       "True"
      ]
     },
     "execution_count": 97,
     "metadata": {},
     "output_type": "execute_result"
    }
   ],
   "source": [
    "list_i[0][0] is list_i[2][0]"
   ]
  },
  {
   "cell_type": "code",
   "execution_count": 98,
   "id": "bf772fb0-f261-444b-9a9f-bbf336ff75f5",
   "metadata": {},
   "outputs": [],
   "source": [
    "# *뿐만 아니라 슬라이싱, copy() 메서드를 통한 복사도 얕은 복사"
   ]
  },
  {
   "cell_type": "code",
   "execution_count": 104,
   "id": "d09090c0-13a0-437f-b591-786634aa83e7",
   "metadata": {},
   "outputs": [
    {
     "name": "stdout",
     "output_type": "stream",
     "text": [
      "False\n"
     ]
    }
   ],
   "source": [
    "# 깊은 복사 (Deep copy)\n",
    "# 리스트 내 요소가 메모리 주소를 담고있는 객체이더라도 객체를 완전하게 깊이에 상관없이 다 새롭게 복사해서 만듦.\n",
    "# 전혀 다른 메모리 공간을 차지하는 완전한 리스트로 복사\n",
    "# 두 리스트 간에 값은 같으나(==) 객체는 완전히 다름\n",
    "\n",
    "import copy\n",
    "list_n = [[9, 10], [11, 12]]\n",
    "list_o = copy.deepcopy(list_n)\n",
    "print(list_n[0] is list_o)\n",
    "\n",
    "# deepcopy()를 위해서 copy 라이브러리를 필요로 함\n",
    "# 앞에 얕은 복사와 달리 객체도 새롭게 복사한 것을 알 수 있음"
   ]
  },
  {
   "cell_type": "code",
   "execution_count": 105,
   "id": "7a4a7ab6-b141-48cb-91ff-a2a11f64f1b8",
   "metadata": {},
   "outputs": [
    {
     "name": "stdout",
     "output_type": "stream",
     "text": [
      "[[9, 999], [11, 12]]\n",
      "[[9, 10], [11, 12]]\n"
     ]
    }
   ],
   "source": [
    "# deepcopy로 복사된 리스트는 서로 완전히 다른 객체\n",
    "\n",
    "list_n[0][1] = 999\n",
    "print(list_n)\n",
    "print(list_o)"
   ]
  }
 ],
 "metadata": {
  "kernelspec": {
   "display_name": "Python 3 (ipykernel)",
   "language": "python",
   "name": "python3"
  },
  "language_info": {
   "codemirror_mode": {
    "name": "ipython",
    "version": 3
   },
   "file_extension": ".py",
   "mimetype": "text/x-python",
   "name": "python",
   "nbconvert_exporter": "python",
   "pygments_lexer": "ipython3",
   "version": "3.9.13"
  }
 },
 "nbformat": 4,
 "nbformat_minor": 5
}
