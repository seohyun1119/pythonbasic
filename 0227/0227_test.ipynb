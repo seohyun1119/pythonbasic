{
 "cells": [
  {
   "cell_type": "code",
   "execution_count": 1,
   "id": "4524a5cb-f4a7-4d84-96cd-d80e3d1f8eb5",
   "metadata": {},
   "outputs": [
    {
     "data": {
      "text/plain": [
       "3"
      ]
     },
     "execution_count": 1,
     "metadata": {},
     "output_type": "execute_result"
    }
   ],
   "source": [
    "10 // 3"
   ]
  },
  {
   "cell_type": "code",
   "execution_count": 2,
   "id": "93420f61-5127-4bea-ba9e-ce633a4e3892",
   "metadata": {},
   "outputs": [
    {
     "data": {
      "text/plain": [
       "8.0"
      ]
     },
     "execution_count": 2,
     "metadata": {},
     "output_type": "execute_result"
    }
   ],
   "source": [
    "float(10-2)"
   ]
  },
  {
   "cell_type": "code",
   "execution_count": 3,
   "id": "9e8bed44-0a09-45b8-8dce-956ebad47f36",
   "metadata": {},
   "outputs": [
    {
     "data": {
      "text/plain": [
       "2"
      ]
     },
     "execution_count": 3,
     "metadata": {},
     "output_type": "execute_result"
    }
   ],
   "source": [
    "int(7/3)"
   ]
  },
  {
   "cell_type": "code",
   "execution_count": 4,
   "id": "d15ff953-710b-466b-a8c9-a921f26a116f",
   "metadata": {},
   "outputs": [
    {
     "ename": "SyntaxError",
     "evalue": "invalid syntax (462262678.py, line 1)",
     "output_type": "error",
     "traceback": [
      "\u001b[1;36m  File \u001b[1;32m\"C:\\Users\\Playdata\\AppData\\Local\\Temp\\ipykernel_316\\462262678.py\"\u001b[1;36m, line \u001b[1;32m1\u001b[0m\n\u001b[1;33m    float 10/3\u001b[0m\n\u001b[1;37m          ^\u001b[0m\n\u001b[1;31mSyntaxError\u001b[0m\u001b[1;31m:\u001b[0m invalid syntax\n"
     ]
    }
   ],
   "source": [
    "float 10/3"
   ]
  },
  {
   "cell_type": "code",
   "execution_count": 6,
   "id": "8055f6e9-29bb-47c6-b591-da5988d80b16",
   "metadata": {},
   "outputs": [
    {
     "data": {
      "text/plain": [
       "1"
      ]
     },
     "execution_count": 6,
     "metadata": {},
     "output_type": "execute_result"
    }
   ],
   "source": [
    "10%3"
   ]
  },
  {
   "cell_type": "code",
   "execution_count": 7,
   "id": "a674976b-8e9d-4a57-acdb-51b233cc35a9",
   "metadata": {},
   "outputs": [
    {
     "data": {
      "text/plain": [
       "135"
      ]
     },
     "execution_count": 7,
     "metadata": {},
     "output_type": "execute_result"
    }
   ],
   "source": [
    "7+3*2**7-256"
   ]
  },
  {
   "cell_type": "code",
   "execution_count": 11,
   "id": "f0092cfe-3046-40d1-8c3e-35707fefb7c7",
   "metadata": {},
   "outputs": [
    {
     "name": "stdout",
     "output_type": "stream",
     "text": [
      "t t l\n"
     ]
    }
   ],
   "source": [
    "x = \"Don't want no riddle\"\n",
    "print(x[4], x[9], x[18])"
   ]
  },
  {
   "cell_type": "code",
   "execution_count": 14,
   "id": "2b4ca758-9135-4861-82c9-d18cbde85fd8",
   "metadata": {},
   "outputs": [
    {
     "ename": "SyntaxError",
     "evalue": "cannot assign to operator (1683248225.py, line 1)",
     "output_type": "error",
     "traceback": [
      "\u001b[1;36m  File \u001b[1;32m\"C:\\Users\\Playdata\\AppData\\Local\\Temp\\ipykernel_316\\1683248225.py\"\u001b[1;36m, line \u001b[1;32m1\u001b[0m\n\u001b[1;33m    kebab-case = 5\u001b[0m\n\u001b[1;37m    ^\u001b[0m\n\u001b[1;31mSyntaxError\u001b[0m\u001b[1;31m:\u001b[0m cannot assign to operator\n"
     ]
    }
   ],
   "source": [
    "kebab-case = 5"
   ]
  },
  {
   "cell_type": "code",
   "execution_count": 13,
   "id": "924f4ea1-a053-4f84-aac1-2002ad5f44cc",
   "metadata": {},
   "outputs": [
    {
     "ename": "SyntaxError",
     "evalue": "leading zeros in decimal integer literals are not permitted; use an 0o prefix for octal integers (1298261842.py, line 1)",
     "output_type": "error",
     "traceback": [
      "\u001b[1;36m  File \u001b[1;32m\"C:\\Users\\Playdata\\AppData\\Local\\Temp\\ipykernel_316\\1298261842.py\"\u001b[1;36m, line \u001b[1;32m1\u001b[0m\n\u001b[1;33m    01python = 5\u001b[0m\n\u001b[1;37m     ^\u001b[0m\n\u001b[1;31mSyntaxError\u001b[0m\u001b[1;31m:\u001b[0m leading zeros in decimal integer literals are not permitted; use an 0o prefix for octal integers\n"
     ]
    }
   ],
   "source": [
    "01python = 5"
   ]
  },
  {
   "cell_type": "code",
   "execution_count": 16,
   "id": "b473e31b-0e02-4c36-a019-ccc466c272bf",
   "metadata": {},
   "outputs": [],
   "source": [
    "_01python = 5"
   ]
  },
  {
   "cell_type": "code",
   "execution_count": 24,
   "id": "2c3a8aa7-70d2-4246-8b53-fe5058463e5e",
   "metadata": {},
   "outputs": [
    {
     "name": "stdout",
     "output_type": "stream",
     "text": [
      "zxvtrpnlj\n"
     ]
    }
   ],
   "source": [
    "letters = 'abcdefghijklmnopqrstuvwxyz'\n",
    "print(letters[-1:8:-2])"
   ]
  },
  {
   "cell_type": "code",
   "execution_count": 27,
   "id": "53cef8f3-5d15-4b0d-9db0-dc9425de9f9f",
   "metadata": {},
   "outputs": [],
   "source": [
    "a = \"2023년\"\n",
    "b = 100\n",
    "c = None\n",
    "d = False"
   ]
  },
  {
   "cell_type": "code",
   "execution_count": 28,
   "id": "7006163d-1a5c-41ba-baeb-fd334bd7f772",
   "metadata": {},
   "outputs": [
    {
     "name": "stdout",
     "output_type": "stream",
     "text": [
      "2023년\n",
      "100\n",
      "None\n",
      "False\n"
     ]
    }
   ],
   "source": [
    "print(a)\n",
    "print(b)\n",
    "print(c)\n",
    "print(d)"
   ]
  },
  {
   "cell_type": "code",
   "execution_count": 29,
   "id": "09c466b6-c064-46fd-8739-b71799c3fd94",
   "metadata": {},
   "outputs": [],
   "source": [
    "true = 5"
   ]
  },
  {
   "cell_type": "code",
   "execution_count": 30,
   "id": "b091faa3-e8a5-409f-be56-13ce1e0c7606",
   "metadata": {},
   "outputs": [
    {
     "name": "stdout",
     "output_type": "stream",
     "text": [
      "5\n"
     ]
    }
   ],
   "source": [
    "print(true)"
   ]
  }
 ],
 "metadata": {
  "kernelspec": {
   "display_name": "Python 3 (ipykernel)",
   "language": "python",
   "name": "python3"
  },
  "language_info": {
   "codemirror_mode": {
    "name": "ipython",
    "version": 3
   },
   "file_extension": ".py",
   "mimetype": "text/x-python",
   "name": "python",
   "nbconvert_exporter": "python",
   "pygments_lexer": "ipython3",
   "version": "3.9.13"
  }
 },
 "nbformat": 4,
 "nbformat_minor": 5
}
