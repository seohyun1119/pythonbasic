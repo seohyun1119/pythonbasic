{
 "cells": [
  {
   "cell_type": "code",
   "execution_count": 1,
   "id": "4f5d06c0-eef4-496e-8741-922ece96293c",
   "metadata": {},
   "outputs": [],
   "source": [
    "import numpy as np"
   ]
  },
  {
   "cell_type": "code",
   "execution_count": 2,
   "id": "5b80c2c7-3b39-4eab-af3d-f7e2945e5c17",
   "metadata": {},
   "outputs": [
    {
     "name": "stdout",
     "output_type": "stream",
     "text": [
      "[5 6 1 4 4 4 2 4 6 3 5 1 1 5 3 2 1 2 6 2 6 1 2 5 4 1 4 6 1 3 4 1 2 4 6 4 4\n",
      " 1 2 2 2 1 3 5 4 4 3 5 3 1 1 5 6 6 1 5 2 5 2 3 3 1 2 2 2 2 4 4 3 4 1 4 6 5\n",
      " 2 3 5 4 5 5 5 4 5 5 5 1 5 4 3 6 6 6 1 2 6 2 4 1 6 1]\n"
     ]
    },
    {
     "data": {
      "text/plain": [
       "3.42"
      ]
     },
     "execution_count": 2,
     "metadata": {},
     "output_type": "execute_result"
    }
   ],
   "source": [
    "# 주사위를 100번 던져서 나오는 숫자의 평균\n",
    "\n",
    "np.random.seed(0)\n",
    "result = np.random.randint(1, 7, 100)\n",
    "print(result)\n",
    "np.mean(result)"
   ]
  },
  {
   "cell_type": "code",
   "execution_count": 3,
   "id": "5d1de2a6-df86-4cbf-b211-7e73d5ed2735",
   "metadata": {},
   "outputs": [
    {
     "data": {
      "text/plain": [
       "array([[ 8, 10, 12],\n",
       "       [14, 16, 18]])"
      ]
     },
     "execution_count": 3,
     "metadata": {},
     "output_type": "execute_result"
    }
   ],
   "source": [
    "# 두 넘파이 배열을 활용하여 아래의 계산 결과 구하기\n",
    "\n",
    "a = np.array([[1, 2, 3], [4, 5, 6]])\n",
    "b = np.array([[7, 8, 9], [10, 11, 12]])\n",
    "a + b"
   ]
  },
  {
   "cell_type": "code",
   "execution_count": 4,
   "id": "736cd61c-2787-4855-ace4-7e661d640841",
   "metadata": {},
   "outputs": [
    {
     "data": {
      "text/plain": [
       "array([ 3,  6,  9, 12, 15, 18, 21, 24, 27])"
      ]
     },
     "execution_count": 4,
     "metadata": {},
     "output_type": "execute_result"
    }
   ],
   "source": [
    "# 1부터 9까지 정수 값을 갖는 1차원 ndarray를 활용하여 3부터 27까지의 3의 배수를 갖는 ndarray\n",
    "\n",
    "a = np.arange(1, 10)\n",
    "a*3"
   ]
  },
  {
   "cell_type": "code",
   "execution_count": 5,
   "id": "29d38ddd-37fe-4b78-92a7-b8d6d0e27ead",
   "metadata": {},
   "outputs": [
    {
     "data": {
      "text/plain": [
       "array([0., 0., 0., 0., 1., 0., 0., 0., 0., 0.])"
      ]
     },
     "execution_count": 5,
     "metadata": {},
     "output_type": "execute_result"
    }
   ],
   "source": [
    "# zeros()와 인덱싱을 활용\n",
    "\n",
    "a = np.zeros(10)\n",
    "a[4]=1\n",
    "a"
   ]
  },
  {
   "cell_type": "code",
   "execution_count": 6,
   "id": "8d225e73-13de-4e84-98ad-870f105dcdd6",
   "metadata": {},
   "outputs": [
    {
     "data": {
      "text/plain": [
       "array([49, 48, 47, 46, 45, 44, 43, 42, 41, 40, 39, 38, 37, 36, 35, 34, 33,\n",
       "       32, 31, 30, 29, 28, 27, 26, 25, 24, 23, 22, 21, 20, 19, 18, 17, 16,\n",
       "       15, 14, 13, 12, 11, 10,  9,  8,  7,  6,  5,  4,  3,  2,  1,  0])"
      ]
     },
     "execution_count": 6,
     "metadata": {},
     "output_type": "execute_result"
    }
   ],
   "source": [
    "# np.arange(50)으로 만든 1차원 ndarray를 다음과 같이 출력\n",
    "\n",
    "a = (np.arange(50))\n",
    "a[::-1]"
   ]
  },
  {
   "cell_type": "code",
   "execution_count": 7,
   "id": "53af40f3-2b62-4303-a473-1c1836de82ee",
   "metadata": {},
   "outputs": [
    {
     "data": {
      "text/plain": [
       "array([[['', '', ''],\n",
       "        ['', '', ''],\n",
       "        ['', '', '']],\n",
       "\n",
       "       [['', '', ''],\n",
       "        ['', '', ''],\n",
       "        ['', '', '']],\n",
       "\n",
       "       [['', '', ''],\n",
       "        ['', '', ''],\n",
       "        ['', '', '']]], dtype='<U10')"
      ]
     },
     "execution_count": 7,
     "metadata": {},
     "output_type": "execute_result"
    }
   ],
   "source": [
    "# 빈 문자열을 갖는 shape이 (3, 3, 3) ndarray\n",
    "\n",
    "np.zeros((3, 3, 3), dtype = 'U10')"
   ]
  },
  {
   "cell_type": "code",
   "execution_count": 8,
   "id": "94913342-1c0b-4ffc-a09e-3f19bca853a4",
   "metadata": {},
   "outputs": [],
   "source": [
    "# np.full()\n",
    "# 하나의 특정 값으로 배열의 값을 채우고 싶을 때\n",
    "# 첫번째 인자는 shape을 두번째 인자에는 요소로 채울 값을 전달\n",
    "# numpy.full(shape, fill_value, dtype=None, order='C', *, like=None)"
   ]
  },
  {
   "cell_type": "code",
   "execution_count": 9,
   "id": "f1624541-d661-4642-b651-301ac2df056d",
   "metadata": {},
   "outputs": [
    {
     "data": {
      "text/plain": [
       "array([[['', '', ''],\n",
       "        ['', '', ''],\n",
       "        ['', '', '']],\n",
       "\n",
       "       [['', '', ''],\n",
       "        ['', '', ''],\n",
       "        ['', '', '']],\n",
       "\n",
       "       [['', '', ''],\n",
       "        ['', '', ''],\n",
       "        ['', '', '']]], dtype='<U10')"
      ]
     },
     "execution_count": 9,
     "metadata": {},
     "output_type": "execute_result"
    }
   ],
   "source": [
    "np.full((3, 3, 3), '', dtype='U10')"
   ]
  },
  {
   "cell_type": "code",
   "execution_count": 10,
   "id": "a2ebb5e4-ff67-46fb-b24c-1065bea73287",
   "metadata": {},
   "outputs": [
    {
     "data": {
      "text/plain": [
       "array([[['playdata', 'playdata', 'playdata'],\n",
       "        ['playdata', 'playdata', 'playdata'],\n",
       "        ['playdata', 'playdata', 'playdata']],\n",
       "\n",
       "       [['playdata', 'playdata', 'playdata'],\n",
       "        ['playdata', 'playdata', 'playdata'],\n",
       "        ['playdata', 'playdata', 'playdata']],\n",
       "\n",
       "       [['playdata', 'playdata', 'playdata'],\n",
       "        ['playdata', 'playdata', 'playdata'],\n",
       "        ['playdata', 'playdata', 'playdata']]], dtype='<U8')"
      ]
     },
     "execution_count": 10,
     "metadata": {},
     "output_type": "execute_result"
    }
   ],
   "source": [
    "# (3, 3, 3) shape의 ndarray를 생성\n",
    "\n",
    "np.full((3, 3, 3), 'playdata')"
   ]
  },
  {
   "cell_type": "code",
   "execution_count": 11,
   "id": "df5d5783-a9f6-4cec-aaaa-24676cf0c0d2",
   "metadata": {},
   "outputs": [
    {
     "data": {
      "text/plain": [
       "array([[[ 2,  4,  6,  8, 10],\n",
       "        [12, 14, 16, 18, 20]],\n",
       "\n",
       "       [[22, 24, 26, 28, 30],\n",
       "        [32, 34, 36, 38, 40]]])"
      ]
     },
     "execution_count": 11,
     "metadata": {},
     "output_type": "execute_result"
    }
   ],
   "source": [
    "# 1부터 40까지의 짝수를 갖는 (2, 2, 5) shape의 ndarray를 생성\n",
    "\n",
    "(np.arange(2, 41, 2)).reshape(2, 2, 5)"
   ]
  },
  {
   "cell_type": "code",
   "execution_count": 12,
   "id": "010accef-3eb2-45a8-82cd-cf72172a41be",
   "metadata": {},
   "outputs": [
    {
     "data": {
      "text/plain": [
       "array([[1, 0, 0, 0],\n",
       "       [0, 1, 0, 0],\n",
       "       [0, 0, 1, 0],\n",
       "       [0, 0, 0, 1]], dtype=int32)"
      ]
     },
     "execution_count": 12,
     "metadata": {},
     "output_type": "execute_result"
    }
   ],
   "source": [
    "# 단위 행렬\n",
    "#  np.eye(n) 메서드\n",
    "\n",
    "# 4 x 4 크기의 정수 타입의 단위 행렬\n",
    "np.eye(4, dtype=\"i\")"
   ]
  },
  {
   "cell_type": "code",
   "execution_count": 13,
   "id": "3c0cbbd1-0a91-451a-977e-0843ceee59fe",
   "metadata": {},
   "outputs": [
    {
     "data": {
      "text/plain": [
       "array([[False,  True,  True],\n",
       "       [False,  True,  True],\n",
       "       [ True,  True,  True]])"
      ]
     },
     "execution_count": 13,
     "metadata": {},
     "output_type": "execute_result"
    }
   ],
   "source": [
    "# 데이터 타입 변경하기\n",
    "# astype() 메서드\n",
    "# 첫번째 위치 키워드 인수인 dtype은 값을 필수로 입력\n",
    "# ndarray.astype(dtype, order='K', casting='unsafe', subok=True, copy=True)\n",
    "\n",
    "np.random.seed(0)\n",
    "a = np.random.randint(0, 2, size=9)\n",
    "(a.astype('bool')).reshape(3, 3)"
   ]
  },
  {
   "cell_type": "code",
   "execution_count": 14,
   "id": "44fba604-7b6f-4f3e-8784-252d58745232",
   "metadata": {},
   "outputs": [
    {
     "data": {
      "text/plain": [
       "array([5, 7, 6, 5, 4, 6, 4, 8, 9, 3], dtype=int32)"
      ]
     },
     "execution_count": 14,
     "metadata": {},
     "output_type": "execute_result"
    }
   ],
   "source": [
    "# rand() 메서드를 활용하여 0과 1 사이의 실수 10개를 갖는 1차원 ndarray를 생성\n",
    "# 이 배열 요소에 각 10을 곱하고 데이터 타입을 int로 변경\n",
    "\n",
    "np.random.seed(0)\n",
    "a = np.random.rand(10)\n",
    "b = a*10\n",
    "b.astype('i')"
   ]
  },
  {
   "cell_type": "code",
   "execution_count": 15,
   "id": "eaee93be-4a5f-4eff-834a-f4a24ecae160",
   "metadata": {},
   "outputs": [
    {
     "name": "stdout",
     "output_type": "stream",
     "text": [
      "[[1. 1. 1. 1. 1. 1. 1. 1. 1. 1.]\n",
      " [1. 0. 0. 0. 0. 0. 0. 0. 0. 1.]\n",
      " [1. 0. 0. 0. 0. 0. 0. 0. 0. 1.]\n",
      " [1. 0. 0. 0. 0. 0. 0. 0. 0. 1.]\n",
      " [1. 0. 0. 0. 0. 0. 0. 0. 0. 1.]\n",
      " [1. 0. 0. 0. 0. 0. 0. 0. 0. 1.]\n",
      " [1. 0. 0. 0. 0. 0. 0. 0. 0. 1.]\n",
      " [1. 0. 0. 0. 0. 0. 0. 0. 0. 1.]\n",
      " [1. 0. 0. 0. 0. 0. 0. 0. 0. 1.]\n",
      " [1. 1. 1. 1. 1. 1. 1. 1. 1. 1.]]\n"
     ]
    }
   ],
   "source": [
    "# np.ones((10, 10))를 만들고 아래와 같이 배열의 안쪽 값을 0으로 변경\n",
    "\n",
    "a = np.ones((10, 10))\n",
    "a[1:-1, 1:-1]=0\n",
    "print(a)"
   ]
  },
  {
   "cell_type": "code",
   "execution_count": 16,
   "id": "69c5fdff-d6e3-46cc-af15-e0156bb875a1",
   "metadata": {},
   "outputs": [
    {
     "name": "stdout",
     "output_type": "stream",
     "text": [
      "[[0. 0. 0. 0. 0. 0. 0. 0. 0. 0.]\n",
      " [0. 1. 1. 1. 1. 1. 1. 1. 1. 0.]\n",
      " [0. 1. 1. 1. 1. 1. 1. 1. 1. 0.]\n",
      " [0. 1. 1. 1. 1. 1. 1. 1. 1. 0.]\n",
      " [0. 1. 1. 1. 1. 1. 1. 1. 1. 0.]\n",
      " [0. 1. 1. 1. 1. 1. 1. 1. 1. 0.]\n",
      " [0. 1. 1. 1. 1. 1. 1. 1. 1. 0.]\n",
      " [0. 1. 1. 1. 1. 1. 1. 1. 1. 0.]\n",
      " [0. 1. 1. 1. 1. 1. 1. 1. 1. 0.]\n",
      " [0. 0. 0. 0. 0. 0. 0. 0. 0. 0.]]\n"
     ]
    }
   ],
   "source": [
    "# np.ones((10, 10))를 만들고 아래와 같이 배열의 바깥쪽 값을 0으로 변경\n",
    "\n",
    "a = np.ones((10, 10))\n",
    "a[:, [0, -1]] = 0\n",
    "a[[0, -1], :] = 0\n",
    "print(a)"
   ]
  },
  {
   "cell_type": "code",
   "execution_count": 17,
   "id": "36713e4d-35b7-46dd-9add-d93e3f2a5c5f",
   "metadata": {},
   "outputs": [
    {
     "name": "stdout",
     "output_type": "stream",
     "text": [
      "[[0. 0. 0. 0. 0. 0. 0. 0. 0. 0.]\n",
      " [0. 1. 1. 1. 1. 1. 1. 1. 1. 0.]\n",
      " [0. 1. 1. 1. 1. 1. 1. 1. 1. 0.]\n",
      " [0. 1. 1. 1. 1. 1. 1. 1. 1. 0.]\n",
      " [0. 1. 1. 1. 1. 1. 1. 1. 1. 0.]\n",
      " [0. 1. 1. 1. 1. 1. 1. 1. 1. 0.]\n",
      " [0. 1. 1. 1. 1. 1. 1. 1. 1. 0.]\n",
      " [0. 1. 1. 1. 1. 1. 1. 1. 1. 0.]\n",
      " [0. 1. 1. 1. 1. 1. 1. 1. 1. 0.]\n",
      " [0. 0. 0. 0. 0. 0. 0. 0. 0. 0.]]\n"
     ]
    }
   ],
   "source": [
    "# 조건문 활용 풀이\n",
    "\n",
    "a = np.ones((10, 10))\n",
    "for i in range(10):\n",
    "    if i == 0:\n",
    "        a[i] = 0\n",
    "        a[:,i] = 0\n",
    "    elif i == 9:\n",
    "        a[i] = 0\n",
    "        a[:,i] = 0\n",
    "print(a)"
   ]
  },
  {
   "cell_type": "code",
   "execution_count": 18,
   "id": "4fccc229-7f07-4395-9d2e-f39a698131dc",
   "metadata": {},
   "outputs": [
    {
     "name": "stdout",
     "output_type": "stream",
     "text": [
      "[[1 0 1 0 1 0 1 0]\n",
      " [0 1 0 1 0 1 0 1]\n",
      " [1 0 1 0 1 0 1 0]\n",
      " [0 1 0 1 0 1 0 1]\n",
      " [1 0 1 0 1 0 1 0]\n",
      " [0 1 0 1 0 1 0 1]\n",
      " [1 0 1 0 1 0 1 0]\n",
      " [0 1 0 1 0 1 0 1]]\n"
     ]
    }
   ],
   "source": [
    "# np.ones((8, 8))를 만들고 아래와 같이 체크문양의 값으로 변경\n",
    "\n",
    "a = np.ones((8, 8), dtype='i')\n",
    "a[1::2, 0::2] = 0\n",
    "a[0::2, 1::2] = 0\n",
    "print(a)"
   ]
  },
  {
   "cell_type": "code",
   "execution_count": 19,
   "id": "e1dc56c3-f96f-4b69-998d-b0aa6af9efec",
   "metadata": {},
   "outputs": [
    {
     "data": {
      "text/plain": [
       "array([[1, 0, 1, 0, 1, 0, 1, 0],\n",
       "       [0, 1, 0, 1, 0, 1, 0, 1],\n",
       "       [1, 0, 1, 0, 1, 0, 1, 0],\n",
       "       [0, 1, 0, 1, 0, 1, 0, 1],\n",
       "       [1, 0, 1, 0, 1, 0, 1, 0],\n",
       "       [0, 1, 0, 1, 0, 1, 0, 1],\n",
       "       [1, 0, 1, 0, 1, 0, 1, 0],\n",
       "       [0, 1, 0, 1, 0, 1, 0, 1]])"
      ]
     },
     "execution_count": 19,
     "metadata": {},
     "output_type": "execute_result"
    }
   ],
   "source": [
    "# array([1, 0], [0, 1])를 만들고 아래와 같이 체크문양의 값으로 변경\n",
    "\n",
    "a = np.array(([1, 0], [0, 1]))\n",
    "np.tile(a, (4, 4))"
   ]
  },
  {
   "cell_type": "code",
   "execution_count": 20,
   "id": "ceb23e16-c7d9-4b8a-8071-0aade1a209ca",
   "metadata": {},
   "outputs": [
    {
     "data": {
      "text/plain": [
       "array([[1., 0., 1., 0., 1., 0., 1., 0.],\n",
       "       [0., 1., 0., 1., 0., 1., 0., 1.],\n",
       "       [1., 0., 1., 0., 1., 0., 1., 0.],\n",
       "       [0., 1., 0., 1., 0., 1., 0., 1.],\n",
       "       [1., 0., 1., 0., 1., 0., 1., 0.],\n",
       "       [0., 1., 0., 1., 0., 1., 0., 1.],\n",
       "       [1., 0., 1., 0., 1., 0., 1., 0.],\n",
       "       [0., 1., 0., 1., 0., 1., 0., 1.]])"
      ]
     },
     "execution_count": 20,
     "metadata": {},
     "output_type": "execute_result"
    }
   ],
   "source": [
    "# 또다른 풀이\n",
    "\n",
    "np.tile(np.eye(2), (4, 4))"
   ]
  },
  {
   "cell_type": "code",
   "execution_count": 21,
   "id": "6e7b7dce-867b-4b12-afb1-a0cc48660907",
   "metadata": {},
   "outputs": [
    {
     "name": "stdout",
     "output_type": "stream",
     "text": [
      "[1 2 3 4]\n"
     ]
    }
   ],
   "source": [
    "# boolean indexing\n",
    "# 같은 shape과 len의 boolean type의 값을 갖는 ndarray로 인덱싱\n",
    "# 해당 위치에 대해 True면 값을 취하고 False면 가져오지 않음\n",
    "\n",
    "a = np.arange(1, 5)\n",
    "print(a)"
   ]
  },
  {
   "cell_type": "code",
   "execution_count": 22,
   "id": "654d47b5-4488-439b-8858-bc91e75e6231",
   "metadata": {},
   "outputs": [
    {
     "name": "stdout",
     "output_type": "stream",
     "text": [
      "[False  True False  True]\n"
     ]
    }
   ],
   "source": [
    "even = np.array([True if i%2==0 \n",
    "                 else False \n",
    "                 for i in range(1, 5)])\n",
    "print(even)"
   ]
  },
  {
   "cell_type": "code",
   "execution_count": 23,
   "id": "0e38e6f4-4cc1-4592-9183-20ca7f5a7a84",
   "metadata": {},
   "outputs": [
    {
     "data": {
      "text/plain": [
       "array([2, 4])"
      ]
     },
     "execution_count": 23,
     "metadata": {},
     "output_type": "execute_result"
    }
   ],
   "source": [
    "# dtype('bool')의 ndarray를 인덱스로 활용\n",
    "# 인덱스로 쓰인 ndarray의 값이 True인 곳의 값만 반환\n",
    "\n",
    "a[even]"
   ]
  },
  {
   "cell_type": "code",
   "execution_count": 24,
   "id": "5c41774f-d0a8-43aa-aecb-df9c680a1d49",
   "metadata": {},
   "outputs": [
    {
     "name": "stdout",
     "output_type": "stream",
     "text": [
      "[ 0  1  2  3 -4 -5 -6  7  8  9 10]\n"
     ]
    }
   ],
   "source": [
    "# 0부터 10까지의 정수를 갖는 1차원 ndarray를 만들기\n",
    "# 그 중 3초과 7미만의 숫자는 음수로 변경\n",
    "\n",
    "a = np.arange(11)\n",
    "\n",
    "num = np.array([True if 3<i<7 else False for i in a])\n",
    "a[num] = -a[num]\n",
    "print(a)"
   ]
  },
  {
   "cell_type": "code",
   "execution_count": 25,
   "id": "8b35140c-50af-4412-93f1-da6b68143c45",
   "metadata": {},
   "outputs": [
    {
     "name": "stdout",
     "output_type": "stream",
     "text": [
      "[ 0  1  2  3 -4 -5 -6  7  8  9 10]\n"
     ]
    }
   ],
   "source": [
    "# 또다른 풀이\n",
    "\n",
    "a = np.arange(11)\n",
    "a[(3<a) & (7>a)] *= -1\n",
    "print(a)"
   ]
  },
  {
   "cell_type": "code",
   "execution_count": 26,
   "id": "a3468499-1864-43da-9a5f-6dfadf26c2a3",
   "metadata": {},
   "outputs": [
    {
     "data": {
      "text/plain": [
       "1683"
      ]
     },
     "execution_count": 26,
     "metadata": {},
     "output_type": "execute_result"
    }
   ],
   "source": [
    "# 1부터 100까지의 3의 배수를 갖는 1차원 ndarray를 생성하고 그 전체의 합\n",
    "\n",
    "a = np.arange(1, 101)\n",
    "num = np.array([True if i%3==0 else False for i in range(1, 101)])\n",
    "sum(a[num])"
   ]
  },
  {
   "cell_type": "code",
   "execution_count": 27,
   "id": "656bd548-7d8e-4de9-8652-a00e92bc3c8b",
   "metadata": {},
   "outputs": [
    {
     "data": {
      "text/plain": [
       "array([0.1, 0.2, 0.3, 0.4, 0.5, 0.6, 0.7, 0.8, 0.9])"
      ]
     },
     "execution_count": 27,
     "metadata": {},
     "output_type": "execute_result"
    }
   ],
   "source": [
    "# linspace()를 활용하여 다음과 같은 1차원 ndarray 만들기\n",
    "\n",
    "a = np.linspace(0.1, 0.9, 9)\n",
    "a"
   ]
  },
  {
   "cell_type": "code",
   "execution_count": 28,
   "id": "78ca624d-9976-4dd4-921a-9e984d1ee866",
   "metadata": {
    "tags": []
   },
   "outputs": [
    {
     "name": "stdin",
     "output_type": "stream",
     "text": [
      " 3\n"
     ]
    },
    {
     "name": "stdout",
     "output_type": "stream",
     "text": [
      "[ 7 33 35 37 44 45]\n",
      "[ 3 14 17 23 25 34]\n",
      "[ 6  8 13 17 23 38]\n"
     ]
    }
   ],
   "source": [
    "# 로또 번호 1부터 45까지의 숫자 6개를 추출하는 프로그램\n",
    "# 비복원추출: random.choice(a, size=None, replace=True, p=None)\n",
    "\n",
    "while True:\n",
    "    try: \n",
    "        number = int(input())\n",
    "        if number>0:\n",
    "            for _ in range(number):\n",
    "                result = np.random.choice(range(1, 46), size=6, replace=False)\n",
    "                result.sort()\n",
    "                print(result)\n",
    "            break\n",
    "        else:\n",
    "            print(\"자연수만 입력해주세요.\")\n",
    "    except ValueError:\n",
    "        print(\"자연수만 입력해주세요.\")\n",
    "        continue"
   ]
  },
  {
   "cell_type": "code",
   "execution_count": 29,
   "id": "8e9e7eae-4eba-4262-963b-5e8d2257d677",
   "metadata": {},
   "outputs": [
    {
     "name": "stdin",
     "output_type": "stream",
     "text": [
      "로또 몇개 드릴까요? 3\n"
     ]
    },
    {
     "data": {
      "text/plain": [
       "[array([ 2,  8, 11, 18, 24, 39]),\n",
       " array([10, 15, 18, 33, 34, 42]),\n",
       " array([ 7, 17, 20, 29, 31, 34])]"
      ]
     },
     "metadata": {},
     "output_type": "display_data"
    }
   ],
   "source": [
    "# 또다른 풀이\n",
    "\n",
    "while True:\n",
    "    try: \n",
    "        count = int(input(\"로또 몇개 드릴까요?\"))\n",
    "        if count<0:\n",
    "            raise Error\n",
    "        numbers = np.arange(1, 46)\n",
    "        lottos = [np.sort(np.random.choice(numbers, size=6, replace=False)) for _ in range(count)]\n",
    "        display(lottos)\n",
    "        break\n",
    "    except:\n",
    "        print(\"자연수만 입력해주세요.\")"
   ]
  },
  {
   "cell_type": "code",
   "execution_count": 30,
   "id": "9b749130-00c7-401f-aa7c-11ab1f2798c8",
   "metadata": {},
   "outputs": [
    {
     "data": {
      "text/plain": [
       "8"
      ]
     },
     "execution_count": 30,
     "metadata": {},
     "output_type": "execute_result"
    }
   ],
   "source": [
    "# 200ms를 넘기는 값의 개수가 총 몇개인지 구해보기\n",
    "\n",
    "resp_time = np. array([158, 85, 205, 24, 42, 175, 188, 149, 153, 171, 137, 55, 108,\n",
    " 199, 177, 209, 218, 76, 103, 189, 110, 192, 136, 119, 4, 102,\n",
    " 177, 212, 110, 37, 163, 32, 77, 22, 125, 184, 46, 139, 72,\n",
    " 168, 133, 209, 148, 47, 102, 65, 160, 56, 11, 96, 169, 118,\n",
    " 55, 135, 217, 49, 100, 85, 179, 15, 139, 199, 124, 142, 15,\n",
    " 49, 168, 171, 168, 177, 147, 23, 199, 26, 51, 42, 90, 128,\n",
    " 186, 169, 129, 70, 198, 111, 81, 150, 17, 177, 201, 10, 75,\n",
    " 199, 55, 151, 183, 152, 119, 193, 110, 204])\n",
    "\n",
    "result = np.array([True if i>200 \n",
    "                  else False\n",
    "                  for i in resp_time])\n",
    "len(resp_time[result])"
   ]
  },
  {
   "cell_type": "code",
   "execution_count": 31,
   "id": "13e7d073-4272-4fef-a71b-9a3caac8e12f",
   "metadata": {},
   "outputs": [
    {
     "data": {
      "text/plain": [
       "8"
      ]
     },
     "execution_count": 31,
     "metadata": {},
     "output_type": "execute_result"
    }
   ],
   "source": [
    "# 또다른 풀이\n",
    "\n",
    "(resp_time > 200).sum()"
   ]
  },
  {
   "cell_type": "code",
   "execution_count": 32,
   "id": "bda6ac32-23d1-4546-85cb-7b502c6d6dac",
   "metadata": {},
   "outputs": [
    {
     "name": "stdout",
     "output_type": "stream",
     "text": [
      "1사분위 수: 71.5\n",
      "2사분위 수: 131.0\n",
      "3사분위 수: 175.5\n",
      "최댓값: 218.0\n"
     ]
    }
   ],
   "source": [
    "# 사분위수 구하기\n",
    "\n",
    "resp_time = np. array([158, 85, 205, 24, 42, 175, 188, 149, 153, 171, 137, 55, 108,\n",
    " 199, 177, 209, 218, 76, 103, 189, 110, 192, 136, 119, 4, 102,\n",
    " 177, 212, 110, 37, 163, 32, 77, 22, 125, 184, 46, 139, 72,\n",
    " 168, 133, 209, 148, 47, 102, 65, 160, 56, 11, 96, 169, 118,\n",
    " 55, 135, 217, 49, 100, 85, 179, 15, 139, 199, 124, 142, 15,\n",
    " 49, 168, 171, 168, 177, 147, 23, 199, 26, 51, 42, 90, 128,\n",
    " 186, 169, 129, 70, 198, 111, 81, 150, 17, 177, 201, 10, 75,\n",
    " 199, 55, 151, 183, 152, 119, 193, 110, 204])\n",
    "\n",
    "res_1 = np.percentile(resp_time, 25)\n",
    "res_2 = np.percentile(resp_time, 50)\n",
    "res_3 = np.percentile(resp_time, 75)\n",
    "res_4 = np.percentile(resp_time, 100)\n",
    "\n",
    "print(f\"1사분위 수: {res_1}\",\n",
    "      f\"2사분위 수: {res_2}\",\n",
    "      f\"3사분위 수: {res_3}\",\n",
    "      f\"최댓값: {res_4}\", sep='\\n')"
   ]
  },
  {
   "cell_type": "code",
   "execution_count": 33,
   "id": "6e76de12-605c-4bcd-8af4-5bd4b34e5567",
   "metadata": {},
   "outputs": [
    {
     "name": "stdout",
     "output_type": "stream",
     "text": [
      "1분위(25%) 값: 71.5ms\n",
      "2분위(50%) 값: 131.0ms\n",
      "3분위(75%) 값: 175.5ms\n"
     ]
    }
   ],
   "source": [
    "# 또다른 풀이 \n",
    "\n",
    "for i, v in enumerate(range(25, 76, 25)):\n",
    "    print(f\"{i+1}분위({v}%) 값: {np.percentile(resp_time, v)}ms\")"
   ]
  },
  {
   "cell_type": "code",
   "execution_count": 60,
   "id": "65836c58-1280-4c7a-9dd3-6f36d0783089",
   "metadata": {},
   "outputs": [
    {
     "name": "stdout",
     "output_type": "stream",
     "text": [
      "뽀로로가 81표로 반장으로 선출되었습니다.\n"
     ]
    }
   ],
   "source": [
    "# 뽀로로가 0번, 루피가 1번, 크롱이 2번일 때\n",
    "# 누가 몇표로 학생 회장에 당선되었는지 확인\n",
    "\n",
    "p = [\"뽀로로\", \"루피\", \"크롱\"]\n",
    "result = np.array([2, 1, 2, 2, 2, 2, 0, 2, 1, 1, 0, 0, 2, 0, 0, 1, 1, 2, 2, 2, 1, 1,\n",
    " 1, 2, 0, 2, 2, 0, 1, 1, 0, 2, 1, 0, 1, 2, 0, 0, 1, 0, 1, 1, 1, 2,\n",
    " 1, 1, 1, 0, 0, 0, 0, 1, 0, 0, 2, 0, 2, 2, 0, 0, 1, 1, 1, 0, 0, 2,\n",
    " 2, 1, 0, 1, 2, 0, 2, 0, 0, 0, 2, 0, 0, 0, 0, 0, 1, 2, 1, 1, 2, 0,\n",
    " 2, 0, 0, 0, 0, 2, 1, 2, 0, 2, 0, 0, 1, 0, 1, 2, 1, 2, 0, 2, 2, 1,\n",
    " 2, 0, 0, 1, 1, 0, 1, 2, 1, 2, 0, 2, 2, 2, 2, 0, 2, 2, 0, 2, 0, 2,\n",
    " 1, 1, 2, 1, 1, 0, 0, 1, 0, 0, 0, 2, 2, 0, 2, 0, 0, 0, 2, 0, 0, 0,\n",
    " 2, 0, 1, 2, 1, 0, 2, 0, 0, 1, 2, 1, 1, 2, 2, 0, 0, 0, 0, 2, 2, 1,\n",
    " 0, 1, 1, 2, 2, 1, 0, 0, 2, 0, 0, 0, 2, 0, 2, 2, 0, 2, 1, 0, 0, 2,\n",
    " 0, 1])\n",
    "\n",
    "index, count = np.unique(result, return_counts=True)\n",
    "winner = count.argmax()\n",
    "\n",
    "print(f\"{p[winner]}가 {np.max(count)}표로 반장으로 선출되었습니다.\")"
   ]
  },
  {
   "cell_type": "code",
   "execution_count": 64,
   "id": "44296916-8525-40d6-9d9c-f3792a6c9fd0",
   "metadata": {},
   "outputs": [
    {
     "name": "stdout",
     "output_type": "stream",
     "text": [
      "뽀로로가 81표로 반장으로 선출되었습니다.\n"
     ]
    }
   ],
   "source": [
    "# 또다른 풀이\n",
    "\n",
    "count = np.bincount(result, minlength=3)\n",
    "winner_index = count.argmax()\n",
    "print(f\"{p[winner_index]}가 {count[winner_index]}표로 반장으로 선출되었습니다.\")"
   ]
  }
 ],
 "metadata": {
  "kernelspec": {
   "display_name": "Python 3 (ipykernel)",
   "language": "python",
   "name": "python3"
  },
  "language_info": {
   "codemirror_mode": {
    "name": "ipython",
    "version": 3
   },
   "file_extension": ".py",
   "mimetype": "text/x-python",
   "name": "python",
   "nbconvert_exporter": "python",
   "pygments_lexer": "ipython3",
   "version": "3.9.13"
  }
 },
 "nbformat": 4,
 "nbformat_minor": 5
}
