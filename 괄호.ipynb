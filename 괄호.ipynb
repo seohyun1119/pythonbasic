{
 "cells": [
  {
   "cell_type": "code",
   "execution_count": 10,
   "metadata": {},
   "outputs": [],
   "source": [
    "par = []"
   ]
  },
  {
   "cell_type": "code",
   "execution_count": 11,
   "metadata": {},
   "outputs": [],
   "source": [
    "a = '(())())'"
   ]
  },
  {
   "cell_type": "code",
   "execution_count": 12,
   "metadata": {},
   "outputs": [
    {
     "name": "stdout",
     "output_type": "stream",
     "text": [
      "Yes\n",
      "Yes\n",
      "Yes\n",
      "Yes\n"
     ]
    }
   ],
   "source": [
    "if a[0] ==')':\n",
    "    print('No')\n",
    "else:\n",
    "    for i in a:\n",
    "        if i == '(':\n",
    "            par.append(i)\n",
    "        else:\n",
    "            if i == ')':\n",
    "                par.pop\n",
    "                print('Yes')\n",
    "            else:\n",
    "                print('No')\n",
    "\n"
   ]
  },
  {
   "cell_type": "code",
   "execution_count": 16,
   "metadata": {},
   "outputs": [
    {
     "name": "stdout",
     "output_type": "stream",
     "text": [
      "Yes\n"
     ]
    }
   ],
   "source": [
    "if a[0] ==')':\n",
    "    print('No')\n",
    "else:\n",
    "    for i in a:\n",
    "        if i == '(':\n",
    "            par.append(i)\n",
    "        else:\n",
    "            par.pop()\n",
    "            if par =='(':\n",
    "                print('No')\n",
    "                break\n",
    "            elif par ==')':\n",
    "                print('No')\n",
    "                break\n",
    "            else:\n",
    "                print('Yes')\n",
    "                break"
   ]
  },
  {
   "cell_type": "code",
   "execution_count": 23,
   "metadata": {},
   "outputs": [
    {
     "name": "stdout",
     "output_type": "stream",
     "text": [
      "Yes\n"
     ]
    }
   ],
   "source": [
    "if a[0] ==')':\n",
    "    print('No')\n",
    "else:\n",
    "    while True:\n",
    "        i = 0\n",
    "        i += 1\n",
    "        for i in a:\n",
    "            if i == '(':\n",
    "                par.append(i)\n",
    "        else:\n",
    "            par.pop()\n",
    "        break\n",
    "    if par =='(':\n",
    "        print('No')\n",
    "    elif par ==')':\n",
    "        print('No')\n",
    "    else:\n",
    "        print('Yes')\n"
   ]
  },
  {
   "cell_type": "code",
   "execution_count": null,
   "metadata": {},
   "outputs": [],
   "source": []
  }
 ],
 "metadata": {
  "kernelspec": {
   "display_name": "base",
   "language": "python",
   "name": "python3"
  },
  "language_info": {
   "codemirror_mode": {
    "name": "ipython",
    "version": 3
   },
   "file_extension": ".py",
   "mimetype": "text/x-python",
   "name": "python",
   "nbconvert_exporter": "python",
   "pygments_lexer": "ipython3",
   "version": "3.9.13"
  },
  "orig_nbformat": 4
 },
 "nbformat": 4,
 "nbformat_minor": 2
}
