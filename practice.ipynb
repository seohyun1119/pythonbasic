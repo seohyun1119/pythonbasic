{
 "cells": [
  {
   "cell_type": "code",
   "execution_count": 9,
   "id": "52c2301a-eb0b-4055-95ef-16a24b89c92e",
   "metadata": {},
   "outputs": [
    {
     "name": "stdin",
     "output_type": "stream",
     "text": [
      "소프트웨어 설계 점수를 입력하세요. 99\n",
      "소프트웨어 개발 점수를 입력하세요. 99\n",
      "데이터베이스 구축 점수를 입력하세요. 99\n",
      "프로그래밍 언어 활용 점수를 입력하세요. 99\n",
      "정보시스템 구축관리 점수를 입력하세요. -9\n"
     ]
    },
    {
     "name": "stdout",
     "output_type": "stream",
     "text": [
      "합격입니다.\n"
     ]
    }
   ],
   "source": [
    "a = int(input(\"소프트웨어 설계 점수를 입력하세요.\"))\n",
    "b = int(input(\"소프트웨어 개발 점수를 입력하세요.\"))\n",
    "c = int(input(\"데이터베이스 구축 점수를 입력하세요.\"))\n",
    "d = int(input(\"프로그래밍 언어 활용 점수를 입력하세요.\"))\n",
    "e = int(input(\"정보시스템 구축관리 점수를 입력하세요.\"))\n",
    "\n",
    "avg = (a+b+c+d+e)/5\n",
    "\n",
    "for i in (a, b, c, d, e):\n",
    "    if i>=0 and i<=100:\n",
    "        if avg>=60:\n",
    "            print(\"합격입니다.\")\n",
    "            break\n",
    "        else:\n",
    "            print(\"불합격입니다.\")\n",
    "            break\n",
    "    else:\n",
    "        print(\"잘못된 점수입니다.\")"
   ]
  },
  {
   "cell_type": "code",
   "execution_count": null,
   "id": "f8afdb78-6249-4582-81c4-d7f615c4f22d",
   "metadata": {},
   "outputs": [],
   "source": []
  }
 ],
 "metadata": {
  "kernelspec": {
   "display_name": "Python 3 (ipykernel)",
   "language": "python",
   "name": "python3"
  },
  "language_info": {
   "codemirror_mode": {
    "name": "ipython",
    "version": 3
   },
   "file_extension": ".py",
   "mimetype": "text/x-python",
   "name": "python",
   "nbconvert_exporter": "python",
   "pygments_lexer": "ipython3",
   "version": "3.9.13"
  }
 },
 "nbformat": 4,
 "nbformat_minor": 5
}
