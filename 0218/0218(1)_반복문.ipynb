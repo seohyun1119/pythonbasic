{
 "cells": [
  {
   "cell_type": "code",
   "execution_count": 1,
   "id": "3f31c621-1005-483c-8fd6-32e3cc18b8e7",
   "metadata": {},
   "outputs": [
    {
     "data": {
      "text/plain": [
       "False"
      ]
     },
     "execution_count": 1,
     "metadata": {},
     "output_type": "execute_result"
    }
   ],
   "source": [
    "l1 = [1, 2, [3, 4]]\n",
    "l2 = l1.copy()\n",
    "\n",
    "l1 is l2"
   ]
  },
  {
   "cell_type": "code",
   "execution_count": 3,
   "id": "1f662bf4-c9b5-4f2d-8790-4b7c8b58e98e",
   "metadata": {},
   "outputs": [
    {
     "data": {
      "text/plain": [
       "True"
      ]
     },
     "execution_count": 3,
     "metadata": {},
     "output_type": "execute_result"
    }
   ],
   "source": [
    "l1[-1] is l2[-1]"
   ]
  },
  {
   "cell_type": "code",
   "execution_count": 2,
   "id": "7a84b852-8885-4d53-be3a-67aaf8ca9eff",
   "metadata": {},
   "outputs": [
    {
     "data": {
      "text/plain": [
       "False"
      ]
     },
     "execution_count": 2,
     "metadata": {},
     "output_type": "execute_result"
    }
   ],
   "source": [
    "l3 = [5, 6]\n",
    "l4 = l3[:]\n",
    "\n",
    "l3 is l4"
   ]
  },
  {
   "cell_type": "code",
   "execution_count": 6,
   "id": "3b4dbb27-5753-4848-a5f9-e1aca674e749",
   "metadata": {},
   "outputs": [
    {
     "data": {
      "text/plain": [
       "False"
      ]
     },
     "execution_count": 6,
     "metadata": {},
     "output_type": "execute_result"
    }
   ],
   "source": [
    "l5 = [7, 8, (9, 10)]    # 튜플\n",
    "l6 = l5.copy()\n",
    "\n",
    "l5 is l6"
   ]
  },
  {
   "cell_type": "code",
   "execution_count": 8,
   "id": "e1d6c6d0-99ee-4dde-9231-7e563abf4802",
   "metadata": {},
   "outputs": [
    {
     "data": {
      "text/plain": [
       "True"
      ]
     },
     "execution_count": 8,
     "metadata": {},
     "output_type": "execute_result"
    }
   ],
   "source": [
    "l5[-1] is l6[-1]    # 객체의 주소"
   ]
  },
  {
   "cell_type": "code",
   "execution_count": 10,
   "id": "0f8320ad-8f32-4389-bad9-85d1b5cb0e24",
   "metadata": {},
   "outputs": [
    {
     "name": "stdout",
     "output_type": "stream",
     "text": [
      "[0, 3, 6, 9]\n"
     ]
    }
   ],
   "source": [
    "# for문과 if문이 동시에 있는 리스트 컴프리헨션\n",
    "# list_variable = [expression for 변수 in iterable if 조건식]\n",
    "\n",
    "# 1. 반복가능한 객체(iterable)로부터 값을 하나 꺼내와서 조건식에 넣음\n",
    "# 2. 조건식이 True이면 변수를 활용해서 표현식(expression)을 실행함 (변수는 활용할 수도 활용하지 않을 수도 있음)\n",
    "# 3. 조건식이 False이면 1번부터 다시 시작함\n",
    "# 4. 표현식 결과 값을 리스트 요소에 넣음\n",
    "# 5. 반복가능한 객체(iterable)로부터 값이 없을 때까지 1~3 과정을 반복함\n",
    "\n",
    "list_p = [i for i in range(10) if i%3 == 0]\n",
    "print(list_p)"
   ]
  },
  {
   "cell_type": "code",
   "execution_count": 12,
   "id": "117873d8-2155-4d1a-a46d-b0736a2266e9",
   "metadata": {},
   "outputs": [],
   "source": [
    "# for문을 여러 개 작성\n",
    "# 동작 순서는 우측에서 좌측 방향으로 진행됨\n",
    "# 대괄호 범위 안에서는 들여쓰기 가능하므로 가독성을 위해 줄바꿈하면 좋음\n",
    "\n",
    "# [expression for 변수 in iterable for 변수 in iterable]"
   ]
  },
  {
   "cell_type": "code",
   "execution_count": 14,
   "id": "f0766b3e-9f1c-479e-940f-61c27cfd4f15",
   "metadata": {},
   "outputs": [
    {
     "name": "stdout",
     "output_type": "stream",
     "text": [
      "1\n",
      "2\n",
      "3\n",
      "4\n",
      "5\n",
      "3\n",
      "4\n"
     ]
    }
   ],
   "source": [
    "# 중첩 리스트\n",
    "# 리스트는 수학의 배열과 다르므로 리스트 자체로 이해하기\n",
    "# 중첩된 리스트를 차원이라고 여기지 말기\n",
    "\n",
    "easy_list = [[1, 2, 3, 4, 5], [3, 4]]\n",
    "for item in easy_list:\n",
    "    for i in item:\n",
    "        print(i)"
   ]
  },
  {
   "cell_type": "code",
   "execution_count": 16,
   "id": "d8ac3e9f-1852-4687-b583-6fb8f60f642e",
   "metadata": {},
   "outputs": [
    {
     "data": {
      "text/plain": [
       "1"
      ]
     },
     "execution_count": 16,
     "metadata": {},
     "output_type": "execute_result"
    }
   ],
   "source": [
    "# 인덱싱으로 얻은 결과가 리스트여서 거기에 인덱싱을 또 한 것!\n",
    "\n",
    "easy_list = [[1, 2, 3, 4, 5], [3, 4]]\n",
    "\n",
    "# easy_list[0] == [1, 2, 3, 4, 5]\n",
    "easy_list[0][0]"
   ]
  },
  {
   "cell_type": "code",
   "execution_count": 18,
   "id": "f2533a62-7aad-4076-a99a-d867389986aa",
   "metadata": {},
   "outputs": [
    {
     "name": "stdout",
     "output_type": "stream",
     "text": [
      "1\n",
      "2\n",
      "3\n",
      "4\n",
      "5\n",
      "3\n",
      "4\n"
     ]
    }
   ],
   "source": [
    "# while문으로 looping해도 동일함\n",
    "\n",
    "easy_list = [[1, 2, 3, 4, 5], [3, 4]]\n",
    "i = 0    # easy_list 인덱스용\n",
    "\n",
    "while i<len(easy_list):\n",
    "    j = 0    # easy_list[0], easy_list[1] 인덱스용\n",
    "    while j<len(easy_list[i]):\n",
    "        print(easy_list[i][j])\n",
    "        j += 1\n",
    "    i += 1"
   ]
  },
  {
   "cell_type": "code",
   "execution_count": 19,
   "id": "05add58f-93cf-4ac8-8518-94e4aa0a46ec",
   "metadata": {},
   "outputs": [
    {
     "data": {
      "text/plain": [
       "generator"
      ]
     },
     "execution_count": 19,
     "metadata": {},
     "output_type": "execute_result"
    }
   ],
   "source": [
    "# 빈 튜플()\n",
    "# 제너레이터 컴프리헨션\n",
    "\n",
    "gen = (i for i in range(10))\n",
    "type(gen)"
   ]
  },
  {
   "cell_type": "code",
   "execution_count": 21,
   "id": "453905a0-aa39-4f60-97fa-7e97970d4c63",
   "metadata": {},
   "outputs": [
    {
     "data": {
      "text/plain": [
       "tuple"
      ]
     },
     "execution_count": 21,
     "metadata": {},
     "output_type": "execute_result"
    }
   ],
   "source": [
    "tup = tuple(i for i in range(10))\n",
    "type(tup)"
   ]
  },
  {
   "cell_type": "code",
   "execution_count": 25,
   "id": "1fc97df8-9e3a-4f58-bf29-d1126c26e71c",
   "metadata": {},
   "outputs": [
    {
     "data": {
      "text/plain": [
       "list"
      ]
     },
     "execution_count": 25,
     "metadata": {},
     "output_type": "execute_result"
    }
   ],
   "source": [
    "lis = list(i for i in range(10))\n",
    "type(lis)"
   ]
  },
  {
   "cell_type": "code",
   "execution_count": 36,
   "id": "005adae6-5a31-41cc-b13d-4240ee74cafb",
   "metadata": {},
   "outputs": [
    {
     "name": "stdout",
     "output_type": "stream",
     "text": [
      "['alpha', 'bravo', 'delta', 'hotel', 'india']\n"
     ]
    }
   ],
   "source": [
    "# 리스트 a에 들어있는 문자열 중에서 길이가 5인 것들만 리스트 형태로 출력하기\n",
    "\n",
    "a = ['alpha', 'bravo', 'charlie', 'delta', 'echo', 'foxtrot', 'golf', 'hotel', 'india']\n",
    "b = [i for i in a if len(i) == 5]\n",
    "print(b)"
   ]
  },
  {
   "cell_type": "code",
   "execution_count": 6,
   "id": "479e7e58-b1f0-43b8-ac3e-e350fab2835a",
   "metadata": {},
   "outputs": [
    {
     "name": "stdin",
     "output_type": "stream",
     "text": [
      "정수 두 개 입력하세요. 1 10\n"
     ]
    },
    {
     "name": "stdout",
     "output_type": "stream",
     "text": [
      "[2, 8, 16, 32, 64, 128, 256, 1024]\n"
     ]
    }
   ],
   "source": [
    "# 첫 번째 정수부터 두 번째 정수까지를 지수로 하는 2의 거듭제곱 리스트를 출력\n",
    "# 첫 번째 입력값의 범위는 1~20, 두 번째 입력값의 범위는 10~30\n",
    "# 리스트의 두 번째 요소와 뒤에서 두 번째 요소는 삭제\n",
    "\n",
    "while True:\n",
    "    n,m = map(int, input(\"정수 두 개 입력하세요.\").split(\" \"))    # unpacking\n",
    "    \n",
    "    if n<1 or n>20:\n",
    "        print(\"첫번째 값의 범위는 1 ~ 20입니다.\")\n",
    "    \n",
    "    elif m<10 or m>30:\n",
    "        print(\"두번째 값의 범위는 10~30입니다.\")\n",
    "        \n",
    "    elif n>=m:\n",
    "        print(\"첫 번째 입력 값은 두 번째 입력 값보다 작게 입력하세요.\")\n",
    "        \n",
    "    else:\n",
    "        result = [2**i for i in range(n, m+1)]\n",
    "        del result[1]\n",
    "        del result[-2]\n",
    "        print(result)\n",
    "        break\n",
    "        \n",
    "    continue    # 없어도 됨"
   ]
  },
  {
   "cell_type": "code",
   "execution_count": 4,
   "id": "378fbeb9-9ec4-4b9f-ac79-b3b6efb5a593",
   "metadata": {},
   "outputs": [
    {
     "name": "stdout",
     "output_type": "stream",
     "text": [
      "2부터 입력하신 수까지의 모든 소수를 찾는 프로그램입니다.\n"
     ]
    },
    {
     "name": "stdin",
     "output_type": "stream",
     "text": [
      "찾는 범위를 입력하세요: 200\n"
     ]
    },
    {
     "name": "stdout",
     "output_type": "stream",
     "text": [
      "2 3 5 7 11 13 17 \n",
      "19 23 29 31 37 41 43 \n",
      "47 53 59 61 67 71 73 \n",
      "79 83 89 97 101 103 107 \n",
      "109 113 127 131 137 139 149 \n",
      "151 157 163 167 173 179 181 \n",
      "191 193 197 199 "
     ]
    }
   ],
   "source": [
    "# 2부터 입력 받은 수까지의 소수를 한줄에 7개씩 보여주는 프로그램\n",
    "\n",
    "print(\"2부터 입력하신 수까지의 모든 소수를 찾는 프로그램입니다.\")\n",
    "n = int(input(\"찾는 범위를 입력하세요:\"))\n",
    "result = []\n",
    "count = 0\n",
    "\n",
    "for i in range(2, n+1):\n",
    "    for j in range(2, i+1):\n",
    "        if i==j:\n",
    "            result.append(i)\n",
    "            print(i, end = \" \")\n",
    "            count+=1\n",
    "            if count%7 == 0:\n",
    "                print()    \n",
    "        if i%j == 0:\n",
    "            break"
   ]
  },
  {
   "cell_type": "code",
   "execution_count": 5,
   "id": "1850450f-ee36-47d8-b99a-1a2b01e70295",
   "metadata": {},
   "outputs": [
    {
     "name": "stdout",
     "output_type": "stream",
     "text": [
      "2부터 입력하신 수까지의 모든 소수를 찾는 프로그램입니다.\n"
     ]
    },
    {
     "name": "stdin",
     "output_type": "stream",
     "text": [
      "찾는 범위를 입력하세요: 200\n"
     ]
    },
    {
     "name": "stdout",
     "output_type": "stream",
     "text": [
      "2 3 5 7 11 13 17 \n",
      "19 23 29 31 37 41 43 \n",
      "47 53 59 61 67 71 73 \n",
      "79 83 89 97 101 103 107 \n",
      "109 113 127 131 137 139 149 \n",
      "151 157 163 167 173 179 181 \n",
      "191 193 197 199 "
     ]
    }
   ],
   "source": [
    "# 강사님 풀이\n",
    "\n",
    "print(\"2부터 입력하신 수까지의 모든 소수를 찾는 프로그램입니다.\")\n",
    "inData = int(input(\"찾는 범위를 입력하세요:\"))\n",
    "i = 2\n",
    "line = 0\n",
    "\n",
    "while i<=inData:\n",
    "    j = 2\n",
    "    while j <= i:\n",
    "        if i%j == 0:\n",
    "            break\n",
    "        j+=1\n",
    "    if i == j:\n",
    "        print(i, end = \" \")\n",
    "        line = line+1\n",
    "        if line == 7:\n",
    "            line = 0\n",
    "            print()\n",
    "    i+=1"
   ]
  },
  {
   "cell_type": "code",
   "execution_count": 6,
   "id": "c31ea840-2c12-431d-8d9a-62e55584c59b",
   "metadata": {},
   "outputs": [
    {
     "name": "stdout",
     "output_type": "stream",
     "text": [
      "[2, 2, 2, 1, 1, 2, 2, 1, 1, 2]\n"
     ]
    }
   ],
   "source": [
    "# random 라이브러리\n",
    "# 임의의 수를 생성할 때 사용하는 표준 라이브러리\n",
    "# 표준 라이브러리는 파이썬에 기본으로 설치된 모듈과 패키지, 내장 함수를 묶어서 파이썬 표준 라이브러리(Python Standard Library, PSL)라고 함\n",
    "# random.randint(시작 정수, 끝 정수)함수를 활용하면 시작 정수(포함)부터 끝정수(포함)까지 범위의 난수 생성 가능\n",
    "\n",
    "import random\n",
    "random_list = [random.randint(1,2) for _ in range(10)]\n",
    "print(random_list)"
   ]
  },
  {
   "cell_type": "code",
   "execution_count": 8,
   "id": "286ab961-ed48-4f4f-a10b-01d26c8e43b1",
   "metadata": {},
   "outputs": [
    {
     "name": "stdin",
     "output_type": "stream",
     "text": [
      "1~100 중 숫자를 맞춰보세요. 50\n"
     ]
    },
    {
     "name": "stdout",
     "output_type": "stream",
     "text": [
      "그보다 작습니다.\n"
     ]
    },
    {
     "name": "stdin",
     "output_type": "stream",
     "text": [
      "1~100 중 숫자를 맞춰보세요. 30\n"
     ]
    },
    {
     "name": "stdout",
     "output_type": "stream",
     "text": [
      "그보다 작습니다.\n"
     ]
    },
    {
     "name": "stdin",
     "output_type": "stream",
     "text": [
      "1~100 중 숫자를 맞춰보세요. 20\n"
     ]
    },
    {
     "name": "stdout",
     "output_type": "stream",
     "text": [
      "그보다 작습니다.\n"
     ]
    },
    {
     "name": "stdin",
     "output_type": "stream",
     "text": [
      "1~100 중 숫자를 맞춰보세요. 10\n"
     ]
    },
    {
     "name": "stdout",
     "output_type": "stream",
     "text": [
      "그보다 작습니다.\n"
     ]
    },
    {
     "name": "stdin",
     "output_type": "stream",
     "text": [
      "1~100 중 숫자를 맞춰보세요. 5\n"
     ]
    },
    {
     "name": "stdout",
     "output_type": "stream",
     "text": [
      "그보다 작습니다.\n"
     ]
    },
    {
     "name": "stdin",
     "output_type": "stream",
     "text": [
      "1~100 중 숫자를 맞춰보세요. 3\n"
     ]
    },
    {
     "name": "stdout",
     "output_type": "stream",
     "text": [
      "그보다 작습니다.\n"
     ]
    },
    {
     "name": "stdin",
     "output_type": "stream",
     "text": [
      "1~100 중 숫자를 맞춰보세요. 2\n"
     ]
    },
    {
     "name": "stdout",
     "output_type": "stream",
     "text": [
      "그보다 작습니다.\n"
     ]
    },
    {
     "name": "stdin",
     "output_type": "stream",
     "text": [
      "1~100 중 숫자를 맞춰보세요. 1\n"
     ]
    },
    {
     "name": "stdout",
     "output_type": "stream",
     "text": [
      "맞췄습니다!\n",
      "8번만에 맞췄습니다!\n",
      "입력한 숫자는 다음과 같습니다. 50, 30, 20, 10, 5, 3, 2, 1\n"
     ]
    }
   ],
   "source": [
    "# 1부터 100까지의 범위의 업다운 게임\n",
    "\n",
    "import random\n",
    "\n",
    "num = random.randint(1, 100)    # 1~100 중 숫자 하나를 생성\n",
    "count = []    # 입력할 값을 저장할 리스트\n",
    "\n",
    "while True:\n",
    "    count.append(input(\"1~100 중 숫자를 맞춰보세요.\"))\n",
    "    i = int(count[-1])\n",
    "    if i<0 or i>100:\n",
    "        print(\"1~100 사이의 숫자를 입력하세요.\")\n",
    "    elif i>num:\n",
    "        print(\"그보다 작습니다.\")\n",
    "    elif i<num:\n",
    "        print(\"그보다 큽니다.\")\n",
    "    else:\n",
    "        print(\"맞췄습니다!\")\n",
    "        break\n",
    "        \n",
    "print(f\"{len(count)}번만에 맞췄습니다!\", sep = \"\")\n",
    "print(\"입력한 숫자는 다음과 같습니다.\", \", \".join(count))"
   ]
  }
 ],
 "metadata": {
  "kernelspec": {
   "display_name": "Python 3 (ipykernel)",
   "language": "python",
   "name": "python3"
  },
  "language_info": {
   "codemirror_mode": {
    "name": "ipython",
    "version": 3
   },
   "file_extension": ".py",
   "mimetype": "text/x-python",
   "name": "python",
   "nbconvert_exporter": "python",
   "pygments_lexer": "ipython3",
   "version": "3.9.13"
  }
 },
 "nbformat": 4,
 "nbformat_minor": 5
}
