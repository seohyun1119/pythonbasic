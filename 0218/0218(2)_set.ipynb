{
 "cells": [
  {
   "cell_type": "code",
   "execution_count": 6,
   "id": "70e70d3c-554a-44ed-98e0-6df83700d083",
   "metadata": {},
   "outputs": [],
   "source": [
    "# set 자료형\n",
    "# 딕셔너리(Dictionary)처럼 중괄호({})를 사용해서 생성함\n",
    "# 세트 자료형은 인덱스를 갖지 않음\n",
    "# 요소는 키와 값 역할 모두 함\n",
    "# 요소 내에 중복되는 값을 갖지 않음\n",
    "# 세트 자료형의 요소는 순서가 없음\n",
    "# set_variable = {키1, 키2, 키3}"
   ]
  },
  {
   "cell_type": "code",
   "execution_count": 7,
   "id": "3cac3dc2-475d-4f4d-8484-a58e00a020a9",
   "metadata": {},
   "outputs": [
    {
     "name": "stdout",
     "output_type": "stream",
     "text": [
      "<class 'dict'>\n"
     ]
    }
   ],
   "source": [
    "# {}는 빈 딕셔너리(Dictionary) 객체를 만듦\n",
    "print(type({}))"
   ]
  },
  {
   "cell_type": "code",
   "execution_count": 8,
   "id": "4d48457c-9efc-44c0-b833-efb495bfd3c4",
   "metadata": {},
   "outputs": [
    {
     "name": "stdout",
     "output_type": "stream",
     "text": [
      "set()\n"
     ]
    }
   ],
   "source": [
    "print(set())"
   ]
  },
  {
   "cell_type": "code",
   "execution_count": 10,
   "id": "bc5635c8-f63a-4066-9566-fc4653608567",
   "metadata": {},
   "outputs": [],
   "source": [
    "# 세트 자료형도 컴프리헨션을 지원함\n",
    "# set_variable = {expression for 변수 in iterable if 조건식}"
   ]
  },
  {
   "cell_type": "code",
   "execution_count": 11,
   "id": "b2c5bc11-95d1-45c8-9203-a245017a02ce",
   "metadata": {},
   "outputs": [
    {
     "name": "stdout",
     "output_type": "stream",
     "text": [
      "set() <class 'set'>\n"
     ]
    }
   ],
   "source": [
    "# 세트에 값 넣는 방법\n",
    "# add() 메서드를 통해 한 번에 하나의 값을 넣을 수 있음\n",
    "# 세트 자료형.add(요소)\n",
    "\n",
    "set_variable = set()\n",
    "print(set_variable, type(set_variable))"
   ]
  },
  {
   "cell_type": "code",
   "execution_count": 12,
   "id": "cf83b578-62c0-4e4c-8a04-4b5b45469d75",
   "metadata": {},
   "outputs": [
    {
     "name": "stdout",
     "output_type": "stream",
     "text": [
      "{1}\n"
     ]
    }
   ],
   "source": [
    "# 정수 1 값을 set variable에 5차례 넣습니다.\n",
    "[set_variable.add(1) for _ in range(5)]\n",
    "\n",
    "# 출력하면 중복된 값 없이 요소를 갖는 걸 볼 수 있습니다.\n",
    "print(set_variable)"
   ]
  },
  {
   "cell_type": "code",
   "execution_count": 4,
   "id": "64fd23d7-ba7e-4708-8c60-7841d6f9caf4",
   "metadata": {},
   "outputs": [
    {
     "name": "stdout",
     "output_type": "stream",
     "text": [
      "{1, 2, 3, 4, 5, 6, 7, 8, 9}\n",
      "{1, 2, 3, 4, 5, 6, 7, 8}\n"
     ]
    }
   ],
   "source": [
    "# 요소 삭제하기\n",
    "# remove() 메서드\n",
    "# 세트 자료형.remove(요소)\n",
    "\n",
    "set_variable = {1, 2, 3, 4, 5, 6, 7, 8, 9}\n",
    "print(set_variable)\n",
    "set_variable.remove(9)\n",
    "print(set_variable)"
   ]
  },
  {
   "cell_type": "code",
   "execution_count": 5,
   "id": "cb0add83-18f4-45e3-9218-5729d7030872",
   "metadata": {},
   "outputs": [
    {
     "name": "stdout",
     "output_type": "stream",
     "text": [
      "{1, 2, 3, 4, 5, 6, 7, 8}\n",
      "{1, 2, 3, 4, 5, 6, 7}\n"
     ]
    }
   ],
   "source": [
    "# discard() 메서드\n",
    "\n",
    "print(set_variable)\n",
    "set_variable.discard(8)\n",
    "print(set_variable)\n",
    "set_variable.discard(\"없는 값\")    # 세트 자료형 내에 없는 요소를 삭제해도 에러가 발생되지 않음"
   ]
  },
  {
   "cell_type": "code",
   "execution_count": 6,
   "id": "9c696472-902e-468c-b784-f73c80ce1014",
   "metadata": {},
   "outputs": [
    {
     "name": "stdout",
     "output_type": "stream",
     "text": [
      "{0, 3, 6, 9, 12, 15, 18}\n"
     ]
    },
    {
     "data": {
      "text/plain": [
       "[0, 3, 6, 9, 12, 15, 18]"
      ]
     },
     "execution_count": 6,
     "metadata": {},
     "output_type": "execute_result"
    }
   ],
   "source": [
    "# pop()\n",
    "# pop() 메서드는 삭제하려는 요소를 임의로 선택하고 반환한 뒤 삭제함\n",
    "# 세트 자료형 내에서 더 이상 삭제할 요소가 없다면 KeyError를 발생시킴\n",
    "\n",
    "set_variable = {_ for _ in range(20) if _ % 3 == 0}\n",
    "print(set_variable)\n",
    "[set_variable.pop() for _ in range(len(set_variable))]"
   ]
  },
  {
   "cell_type": "code",
   "execution_count": 7,
   "id": "eaaabab1-7d9c-41a5-a34f-f4886c489e1e",
   "metadata": {},
   "outputs": [
    {
     "name": "stdout",
     "output_type": "stream",
     "text": [
      "{0, 3, 6, 9, 12, 15, 18}\n",
      "set()\n"
     ]
    }
   ],
   "source": [
    "# clear()\n",
    "# 세트 자료형에서 요소 전체를 삭제하는 메서드\n",
    "# 세트 자료형.clear()\n",
    "\n",
    "set_variable = {_ for _ in range(20) if _ % 3 == 0}\n",
    "print(set_variable)\n",
    "set_variable.clear()\n",
    "print(set_variable)"
   ]
  },
  {
   "cell_type": "code",
   "execution_count": 8,
   "id": "9972cf9d-1fae-4bcc-85da-e5a23545d27e",
   "metadata": {},
   "outputs": [
    {
     "name": "stdout",
     "output_type": "stream",
     "text": [
      "{0, 3, 6, 9, 12, 15, 18} 개수는 7 입니다.\n"
     ]
    }
   ],
   "source": [
    "# len()\n",
    "# 요소 개수(크기) 구하기\n",
    "\n",
    "set_variable = {_ for _ in range(20) if _ % 3 == 0}\n",
    "print(set_variable, \"개수는\", len(set_variable), \"입니다.\")"
   ]
  },
  {
   "cell_type": "code",
   "execution_count": 12,
   "id": "0beaf0f1-d2e6-4ce2-aa5c-e9b357d029fc",
   "metadata": {},
   "outputs": [
    {
     "name": "stdout",
     "output_type": "stream",
     "text": [
      "A: {1, 2, 3, 4} \n",
      "B: {2, 4, 5}\n",
      "set.union(A, B): {1, 2, 3, 4, 5}\n",
      "A | B: {1, 2, 3, 4, 5}\n"
     ]
    }
   ],
   "source": [
    "# 합집합: union() 혹은 Vertical bar(|)\n",
    "# set.union(세트 자료형1, 세트 자료형2)\n",
    "\n",
    "A = {_ for _ in range(1, 5)}\n",
    "B = {_ for _ in range(2, 6) if _ != 3}\n",
    "print(\"A:\", A, \"\\nB:\", B)\n",
    "print(\"set.union(A, B):\", set.union(A, B))\n",
    "print(\"A | B:\", A | B)"
   ]
  },
  {
   "cell_type": "code",
   "execution_count": 13,
   "id": "0b1c0b16-42af-4dcb-85ab-11db60d59d59",
   "metadata": {},
   "outputs": [
    {
     "name": "stdout",
     "output_type": "stream",
     "text": [
      "A: {1, 2, 3, 4} \n",
      "B: {2, 4, 5}\n",
      "set.intersection(A, B): {2, 4}\n",
      "A & B: {2, 4}\n"
     ]
    }
   ],
   "source": [
    "# 교집합: intersection 혹은 Ampersand(&)\n",
    "\n",
    "A = {_ for _ in range(1, 5)}\n",
    "B = {_ for _ in range(2, 6) if _ != 3}\n",
    "print(\"A:\", A, \"\\nB:\", B)\n",
    "print(\"set.intersection(A, B):\", set.intersection(A, B))\n",
    "print(\"A & B:\", A & B)"
   ]
  },
  {
   "cell_type": "code",
   "execution_count": 14,
   "id": "c84d27fe-dd21-4ff3-9b59-5a81fe6e63f4",
   "metadata": {},
   "outputs": [
    {
     "name": "stdout",
     "output_type": "stream",
     "text": [
      "A: {1, 2, 3, 4} \n",
      "B: {2, 4, 5}\n",
      "set.difference(A, B): {1, 3}\n",
      "A - B: {1, 3}\n"
     ]
    }
   ],
   "source": [
    "# 차집합: difference() 혹은 Hyphen(-, Dash)\n",
    "\n",
    "A = {_ for _ in range(1, 5)}\n",
    "B = {_ for _ in range(2, 6) if _ != 3}\n",
    "print(\"A:\", A, \"\\nB:\", B)\n",
    "print(\"set.difference(A, B):\", set.difference(A, B))\n",
    "print(\"A - B:\", A - B)"
   ]
  },
  {
   "cell_type": "code",
   "execution_count": 16,
   "id": "0b0763f1-b107-418d-8a91-4ead5b8a2890",
   "metadata": {},
   "outputs": [
    {
     "name": "stdout",
     "output_type": "stream",
     "text": [
      "A: {1, 2, 3, 4} \n",
      "B: {2, 4, 5}\n",
      "set.symmetric_difference(A, B): {1, 3, 5}\n",
      "A ^ B: {1, 3, 5}\n"
     ]
    }
   ],
   "source": [
    "# 대칭차집합: symmertric_difference() 혹은 Circumflex(^)\n",
    "\n",
    "A = {_ for _ in range(1, 5)}\n",
    "B = {_ for _ in range(2, 6) if _ != 3}\n",
    "print(\"A:\", A, \"\\nB:\", B)\n",
    "print(\"set.symmetric_difference(A, B):\", set.symmetric_difference(A, B))\n",
    "print(\"A ^ B:\", A ^ B)"
   ]
  },
  {
   "cell_type": "code",
   "execution_count": 17,
   "id": "dbf93ea6-807d-4173-876c-31e6a6ff26e9",
   "metadata": {},
   "outputs": [
    {
     "name": "stdout",
     "output_type": "stream",
     "text": [
      "A: {1, 2, 3, 4} \n",
      "B: {2, 4, 5}\n",
      "A.update(B): {1, 2, 3, 4, 5}\n"
     ]
    }
   ],
   "source": [
    "# Update() 혹은 |=\n",
    "\n",
    "A = {_ for _ in range(1, 5)}\n",
    "B = {_ for _ in range(2, 6) if _ != 3}\n",
    "print(\"A:\", A, \"\\nB:\", B)\n",
    "A.update(B)    # A|=B와 같습니다.\n",
    "print(\"A.update(B):\", A)"
   ]
  },
  {
   "cell_type": "code",
   "execution_count": 18,
   "id": "12c86041-1367-4ece-874d-bc637ac429c5",
   "metadata": {},
   "outputs": [
    {
     "name": "stdout",
     "output_type": "stream",
     "text": [
      "A: {1, 2, 3, 4} \n",
      "B: {2, 4, 5}\n",
      "A.update(B): {2, 4}\n"
     ]
    }
   ],
   "source": [
    "# intersection_update() 혹은 &=\n",
    "\n",
    "A = {_ for _ in range(1, 5)}\n",
    "B = {_ for _ in range(2, 6) if _ != 3}\n",
    "print(\"A:\", A, \"\\nB:\", B)\n",
    "A.intersection_update(B)    # A&=B와 같습니다.\n",
    "print(\"A.update(B):\", A)"
   ]
  },
  {
   "cell_type": "code",
   "execution_count": 19,
   "id": "e45191ab-9f9b-410e-b538-9e3bf5f5a3f8",
   "metadata": {},
   "outputs": [
    {
     "name": "stdout",
     "output_type": "stream",
     "text": [
      "A: {1, 2, 3, 4} \n",
      "B: {2, 4, 5}\n",
      "A.update(B): {1, 3}\n"
     ]
    }
   ],
   "source": [
    "# difference_update() 혹은 -=\n",
    "\n",
    "A = {_ for _ in range(1, 5)}\n",
    "B = {_ for _ in range(2, 6) if _ != 3}\n",
    "print(\"A:\", A, \"\\nB:\", B)\n",
    "A.difference_update(B)    # A-=B와 같습니다.\n",
    "print(\"A.update(B):\", A)"
   ]
  },
  {
   "cell_type": "code",
   "execution_count": 20,
   "id": "3bedb8b1-acac-4b8b-a51c-c331f7d47c2b",
   "metadata": {},
   "outputs": [
    {
     "name": "stdout",
     "output_type": "stream",
     "text": [
      "A: {1, 2, 3, 4} \n",
      "B: {2, 4, 5}\n",
      "A.update(B): {1, 3, 5}\n"
     ]
    }
   ],
   "source": [
    "# symmetric_difference_update() 혹은 ^=\n",
    "\n",
    "A = {_ for _ in range(1, 5)}\n",
    "B = {_ for _ in range(2, 6) if _ != 3}\n",
    "print(\"A:\", A, \"\\nB:\", B)\n",
    "A.symmetric_difference_update(B)   # A^=B와 같습니다.\n",
    "print(\"A.update(B):\", A)"
   ]
  },
  {
   "cell_type": "code",
   "execution_count": 22,
   "id": "8d0b5c9a-cf1c-4029-92d0-a26564407e96",
   "metadata": {},
   "outputs": [
    {
     "name": "stdout",
     "output_type": "stream",
     "text": [
      "A: {0, 1, 2} \n",
      "B: {0, 1, 2}\n",
      "A.issubset(B): True\n"
     ]
    }
   ],
   "source": [
    "# 부분집합 issubset()\n",
    "# A와 B가 같을 때\n",
    "\n",
    "A = {_ for _ in range(0, 3)}\n",
    "B = {_ for _ in range(0, 3)}\n",
    "print(\"A:\", A, \"\\nB:\", B)\n",
    "print(\"A.issubset(B):\", A.issubset(B))"
   ]
  },
  {
   "cell_type": "code",
   "execution_count": 23,
   "id": "5f594b6c-5384-4d97-9d93-c0821468d3ae",
   "metadata": {},
   "outputs": [
    {
     "name": "stdout",
     "output_type": "stream",
     "text": [
      "A: {0, 1, 2} \n",
      "B: {0, 1}\n",
      "A.issuperset(B): True\n"
     ]
    }
   ],
   "source": [
    "# B가 A의 진부분집합일 때\n",
    "\n",
    "A = {_ for _ in range(0, 3)}\n",
    "B = {_ for _ in range(0, 2)}\n",
    "print(\"A:\", A, \"\\nB:\", B)\n",
    "print(\"A.issuperset(B):\", A.issuperset(B))    # superset의 범위는 같다는 것도 포함됨"
   ]
  },
  {
   "cell_type": "code",
   "execution_count": 25,
   "id": "bceb34e6-1d5e-4885-bb9a-00522d544ff4",
   "metadata": {},
   "outputs": [
    {
     "name": "stdout",
     "output_type": "stream",
     "text": [
      "A: {0, 1, 2} \n",
      "B: {0, 1, 2}\n",
      "A>B: False\n",
      "A<B: False\n"
     ]
    }
   ],
   "source": [
    "# 진부분집합과 진상위집합 >, <\n",
    "\n",
    "A = {_ for _ in range(0, 3)}\n",
    "B = {_ for _ in range(0, 3)}\n",
    "print(\"A:\", A, \"\\nB:\", B)\n",
    "print(\"A>B:\", A>B)\n",
    "print(\"A<B:\", A<B)"
   ]
  },
  {
   "cell_type": "code",
   "execution_count": 26,
   "id": "e5b5d890-62f3-48d9-b3db-89b52669de22",
   "metadata": {},
   "outputs": [
    {
     "name": "stdout",
     "output_type": "stream",
     "text": [
      "A: {0, 1, 2} \n",
      "B: {0, 1, 2}\n",
      "A == B: True\n"
     ]
    }
   ],
   "source": [
    "# 같을 때 (==)\n",
    "\n",
    "A = {_ for _ in range(0, 3)}\n",
    "B = {_ for _ in range(0, 3)}\n",
    "print(\"A:\", A, \"\\nB:\", B)\n",
    "print(\"A == B:\", A ==B)"
   ]
  },
  {
   "cell_type": "code",
   "execution_count": 27,
   "id": "9ccd2feb-3bcc-44e4-80a2-235fe3fa92d9",
   "metadata": {},
   "outputs": [
    {
     "name": "stdout",
     "output_type": "stream",
     "text": [
      "A: {0, 1, 2} \n",
      "B: {3, 4, 5}\n",
      "A.isdisjoint(B): True\n"
     ]
    }
   ],
   "source": [
    "# 세트가 겹치지 않는지 확인\n",
    "# isdisjoint()\n",
    "\n",
    "A = {_ for _ in range(0, 3)}\n",
    "B = {_ for _ in range(3, 6)}\n",
    "print(\"A:\", A, \"\\nB:\", B)\n",
    "print(\"A.isdisjoint(B):\", A.isdisjoint(B))"
   ]
  },
  {
   "cell_type": "code",
   "execution_count": 28,
   "id": "c0d80a5f-2acc-4355-b5df-6838277dbde7",
   "metadata": {},
   "outputs": [
    {
     "name": "stdout",
     "output_type": "stream",
     "text": [
      "{1, 2, 3, 4}\n"
     ]
    }
   ],
   "source": [
    "# set 자료형을 통해 중복을 제거하고 출력하기\n",
    "\n",
    "list_sample = [1, 2, 2, 3, 3, 3, 4, 4, 4, 4]\n",
    "print(set(list_sample))"
   ]
  }
 ],
 "metadata": {
  "kernelspec": {
   "display_name": "Python 3 (ipykernel)",
   "language": "python",
   "name": "python3"
  },
  "language_info": {
   "codemirror_mode": {
    "name": "ipython",
    "version": 3
   },
   "file_extension": ".py",
   "mimetype": "text/x-python",
   "name": "python",
   "nbconvert_exporter": "python",
   "pygments_lexer": "ipython3",
   "version": "3.9.13"
  }
 },
 "nbformat": 4,
 "nbformat_minor": 5
}
