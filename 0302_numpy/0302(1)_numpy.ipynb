{
 "cells": [
  {
   "cell_type": "code",
   "execution_count": 2,
   "id": "0e3e71a7-6387-47cc-9065-a424bb190f8b",
   "metadata": {},
   "outputs": [],
   "source": [
    "# Numpy\n",
    "\n",
    "# 모든 요소(items)가 같은 자료형(type)이어야 함\n",
    "# 요소의 개수를 바꿀 수 없음음"
   ]
  },
  {
   "cell_type": "code",
   "execution_count": 3,
   "id": "4ace9f52-8050-43da-8d3e-2e96891a6053",
   "metadata": {},
   "outputs": [],
   "source": [
    "import numpy as np\n",
    "# anaconda에 기본적으로 포함되어 설치된 라이브러리"
   ]
  },
  {
   "cell_type": "code",
   "execution_count": 4,
   "id": "a3e669a4-af21-48b1-8ec8-d47022f5d3ac",
   "metadata": {},
   "outputs": [
    {
     "data": {
      "text/plain": [
       "array([0, 1, 2, 3, 4, 5, 6, 7, 8, 9])"
      ]
     },
     "execution_count": 4,
     "metadata": {},
     "output_type": "execute_result"
    }
   ],
   "source": [
    "# np.array() -> return ndarray\n",
    "# ndarray class로부터 객체를 생성한다.\n",
    "\n",
    "ar = np.array([_ for _ in range(10)])\n",
    "ar"
   ]
  },
  {
   "cell_type": "code",
   "execution_count": 5,
   "id": "7667f5f2-09da-4499-bd82-0eaf09aa5c87",
   "metadata": {},
   "outputs": [
    {
     "data": {
      "text/plain": [
       "(10,)"
      ]
     },
     "execution_count": 5,
     "metadata": {},
     "output_type": "execute_result"
    }
   ],
   "source": [
    "# (10,) -> 1차원의 10칸 갖는 ndarray\n",
    "\n",
    "ar.shape"
   ]
  },
  {
   "cell_type": "code",
   "execution_count": 6,
   "id": "5724572f-9f07-438b-a566-ed9ba1253c07",
   "metadata": {},
   "outputs": [
    {
     "data": {
      "text/plain": [
       "numpy.ndarray"
      ]
     },
     "execution_count": 6,
     "metadata": {},
     "output_type": "execute_result"
    }
   ],
   "source": [
    "# np.array로 생성한 객체는 numpy.ndarray 타입을 갖는다.\n",
    "\n",
    "type(ar)"
   ]
  },
  {
   "cell_type": "code",
   "execution_count": 7,
   "id": "3603b49b-34db-410c-af9a-1e85ff0a72fe",
   "metadata": {},
   "outputs": [
    {
     "data": {
      "text/plain": [
       "array([ 0.1,  5. ,  4. , 12. ,  0.5])"
      ]
     },
     "execution_count": 7,
     "metadata": {},
     "output_type": "execute_result"
    }
   ],
   "source": [
    "# 표현범위가 더 큰 자료형으로 변환\n",
    "\n",
    "ar2 = np.array([0.1, 5, 4, 12, 0.5])\n",
    "ar2"
   ]
  },
  {
   "cell_type": "code",
   "execution_count": 8,
   "id": "fe4dae33-ed8f-4d07-bc57-8d1424d25389",
   "metadata": {},
   "outputs": [
    {
     "data": {
      "text/plain": [
       "dtype('int32')"
      ]
     },
     "execution_count": 8,
     "metadata": {},
     "output_type": "execute_result"
    }
   ],
   "source": [
    "# 넘파이 배열의 자료형을 확인하려면 키워드 인자로 dtype 사용\n",
    "\n",
    "x = np.array([1, 2, 3])\n",
    "x.dtype"
   ]
  },
  {
   "cell_type": "code",
   "execution_count": 9,
   "id": "2ca82669-cce0-4e47-831d-1af8ef5267b0",
   "metadata": {},
   "outputs": [
    {
     "data": {
      "text/plain": [
       "dtype('float32')"
      ]
     },
     "execution_count": 9,
     "metadata": {},
     "output_type": "execute_result"
    }
   ],
   "source": [
    "# float로 dtype을 지정\n",
    "\n",
    "x = np.array([1, 2, 3], dtype = 'f')\n",
    "x.dtype    \n",
    "# 32비트의 float형으로 생성됨"
   ]
  },
  {
   "cell_type": "code",
   "execution_count": 10,
   "id": "6354acfd-437a-4d8a-8b97-4dda4ae0353c",
   "metadata": {},
   "outputs": [
    {
     "data": {
      "text/plain": [
       "3.0"
      ]
     },
     "execution_count": 10,
     "metadata": {},
     "output_type": "execute_result"
    }
   ],
   "source": [
    "# ndarray도 인덱싱을 할 수 있음\n",
    "# 덧셈 연산(+)의 결과는 숫자로 계산됨\n",
    "\n",
    "x[0]+x[1]"
   ]
  },
  {
   "cell_type": "code",
   "execution_count": 11,
   "id": "27e064c0-a86b-4a99-a5cf-3126018ea39c",
   "metadata": {},
   "outputs": [
    {
     "data": {
      "text/plain": [
       "dtype('<U1')"
      ]
     },
     "execution_count": 11,
     "metadata": {},
     "output_type": "execute_result"
    }
   ],
   "source": [
    "# 유니코드 문자열을 타입으로 지정\n",
    "\n",
    "x = np.array([1, 2, 3], dtype = 'U')  \n",
    "x.dtype\n",
    "# 1글자 이하의 글자들로 구성된 유니코드"
   ]
  },
  {
   "cell_type": "code",
   "execution_count": 12,
   "id": "d1ee4fe7-d413-454d-b339-cd19cd5ceda5",
   "metadata": {},
   "outputs": [
    {
     "data": {
      "text/plain": [
       "'12'"
      ]
     },
     "execution_count": 12,
     "metadata": {},
     "output_type": "execute_result"
    }
   ],
   "source": [
    "# 유니코드 간 덧셈 연산(+)은 concatenate의 결과\n",
    "\n",
    "x[0]+x[1]"
   ]
  },
  {
   "cell_type": "code",
   "execution_count": 13,
   "id": "edf64dbb-26de-4f6a-9803-1bd80d6133ba",
   "metadata": {},
   "outputs": [
    {
     "name": "stderr",
     "output_type": "stream",
     "text": [
      "C:\\Users\\Playdata\\AppData\\Local\\Temp\\ipykernel_12368\\1668977298.py:4: RuntimeWarning: divide by zero encountered in true_divide\n",
      "  np.array([0, 1, -1, 0]) / np.array([1, 0, 0, 0])\n",
      "C:\\Users\\Playdata\\AppData\\Local\\Temp\\ipykernel_12368\\1668977298.py:4: RuntimeWarning: invalid value encountered in true_divide\n",
      "  np.array([0, 1, -1, 0]) / np.array([1, 0, 0, 0])\n"
     ]
    },
    {
     "data": {
      "text/plain": [
       "array([  0.,  inf, -inf,  nan])"
      ]
     },
     "execution_count": 13,
     "metadata": {},
     "output_type": "execute_result"
    }
   ],
   "source": [
    "# 무한대를 표현하기 위한 np.inf(infinity)\n",
    "# 정의할 수 없는 숫자를 나타내는 np.nan(not a number)\n",
    "\n",
    "np.array([0, 1, -1, 0]) / np.array([1, 0, 0, 0])"
   ]
  },
  {
   "cell_type": "code",
   "execution_count": 14,
   "id": "ab3d7383-2da1-4b82-a348-b36d41016d42",
   "metadata": {},
   "outputs": [
    {
     "data": {
      "text/plain": [
       "array([0, 1, 2, 3, 4, 5, 6, 7, 8, 9])"
      ]
     },
     "execution_count": 14,
     "metadata": {},
     "output_type": "execute_result"
    }
   ],
   "source": [
    "# 벡터화 연산\n",
    "\n",
    "data = [0, 1, 2, 3, 4, 5, 6, 7, 8, 9]\n",
    "x = np.array(data)\n",
    "x"
   ]
  },
  {
   "cell_type": "code",
   "execution_count": 15,
   "id": "626c7755-80f7-47e7-bb75-6570f2d8dc99",
   "metadata": {},
   "outputs": [
    {
     "data": {
      "text/plain": [
       "array([ 0,  2,  4,  6,  8, 10, 12, 14, 16, 18])"
      ]
     },
     "execution_count": 15,
     "metadata": {},
     "output_type": "execute_result"
    }
   ],
   "source": [
    "# for 반복문 없이 간단하게 표현 가능\n",
    "\n",
    "x*2"
   ]
  },
  {
   "cell_type": "code",
   "execution_count": 16,
   "id": "d10d9282-ba16-4e3f-bcbb-0d127677b4be",
   "metadata": {},
   "outputs": [],
   "source": [
    "a = np.array([1, 2, 3])\n",
    "b = np.array([10, 20, 30])"
   ]
  },
  {
   "cell_type": "code",
   "execution_count": 17,
   "id": "c64680b2-eb43-4469-a248-3e380cd150eb",
   "metadata": {},
   "outputs": [
    {
     "data": {
      "text/plain": [
       "array([12, 24, 36])"
      ]
     },
     "execution_count": 17,
     "metadata": {},
     "output_type": "execute_result"
    }
   ],
   "source": [
    "2*a + b"
   ]
  },
  {
   "cell_type": "code",
   "execution_count": 18,
   "id": "a43e4821-bc7b-456d-b187-0125a473727e",
   "metadata": {},
   "outputs": [
    {
     "data": {
      "text/plain": [
       "array([False,  True, False])"
      ]
     },
     "execution_count": 18,
     "metadata": {},
     "output_type": "execute_result"
    }
   ],
   "source": [
    "a == 2"
   ]
  },
  {
   "cell_type": "code",
   "execution_count": 19,
   "id": "d520760c-991a-4d99-a4cf-a39776397ff6",
   "metadata": {},
   "outputs": [
    {
     "data": {
      "text/plain": [
       "array([False,  True,  True])"
      ]
     },
     "execution_count": 19,
     "metadata": {},
     "output_type": "execute_result"
    }
   ],
   "source": [
    "b > 10"
   ]
  },
  {
   "cell_type": "code",
   "execution_count": 20,
   "id": "2ef49391-f832-4782-a5cc-c18f7b60dcf8",
   "metadata": {},
   "outputs": [
    {
     "data": {
      "text/plain": [
       "array([False,  True, False])"
      ]
     },
     "execution_count": 20,
     "metadata": {},
     "output_type": "execute_result"
    }
   ],
   "source": [
    "(a == 2) & (b>10)    # 벡터화 연산이므로 and 기호 사용 불가능"
   ]
  },
  {
   "cell_type": "code",
   "execution_count": 22,
   "id": "fd3e4bde-accf-4460-8239-67bbc4f4c895",
   "metadata": {},
   "outputs": [
    {
     "data": {
      "text/plain": [
       "array([[0, 1, 2],\n",
       "       [3, 4, 5]])"
      ]
     },
     "execution_count": 22,
     "metadata": {},
     "output_type": "execute_result"
    }
   ],
   "source": [
    "# 2차원 배열\n",
    "# 리스트를 중첩하여 생성 가능\n",
    "# 안쪽 리스트의 길이는 행렬의 열의 수, 즉 가로 크기가 됨\n",
    "# 바깥쪽 리스트의 길이는 행렬의 행의 수, 즉 세로 크기가 됨\n",
    "\n",
    "c = np.array([[0, 1, 2], [3, 4, 5]])    # 2 X 3 array\n",
    "c"
   ]
  },
  {
   "cell_type": "code",
   "execution_count": 23,
   "id": "b313bdb0-ffe2-463f-b5df-bff4eb5b5750",
   "metadata": {},
   "outputs": [
    {
     "data": {
      "text/plain": [
       "2"
      ]
     },
     "execution_count": 23,
     "metadata": {},
     "output_type": "execute_result"
    }
   ],
   "source": [
    "# 행의 갯수\n",
    "len(c)"
   ]
  },
  {
   "cell_type": "code",
   "execution_count": 24,
   "id": "09a133cc-e160-43a3-8d46-9a1e9e5f534c",
   "metadata": {},
   "outputs": [
    {
     "data": {
      "text/plain": [
       "3"
      ]
     },
     "execution_count": 24,
     "metadata": {},
     "output_type": "execute_result"
    }
   ],
   "source": [
    "# 열의 개수\n",
    "len(c[0])"
   ]
  },
  {
   "cell_type": "code",
   "execution_count": 26,
   "id": "f4c768e9-2451-4b92-8751-5b8c89724beb",
   "metadata": {},
   "outputs": [
    {
     "data": {
      "text/plain": [
       "array([[10, 20, 30, 40],\n",
       "       [50, 60, 70, 80]])"
      ]
     },
     "execution_count": 26,
     "metadata": {},
     "output_type": "execute_result"
    }
   ],
   "source": [
    "n = np.array([[10, 20, 30, 40], [50, 60, 70, 80]])\n",
    "n"
   ]
  },
  {
   "cell_type": "code",
   "execution_count": 31,
   "id": "893d2b48-021d-4ef7-9bdb-8ccb09710494",
   "metadata": {},
   "outputs": [
    {
     "data": {
      "text/plain": [
       "array([[[ 1,  2,  3,  4],\n",
       "        [ 5,  6,  7,  8],\n",
       "        [ 9, 10, 11, 12]],\n",
       "\n",
       "       [[11, 12, 13, 14],\n",
       "        [15, 16, 17, 18],\n",
       "        [19, 20, 21, 22]]])"
      ]
     },
     "execution_count": 31,
     "metadata": {},
     "output_type": "execute_result"
    }
   ],
   "source": [
    "# 3차원 배열\n",
    "# 2 X 3 X 4\n",
    "\n",
    "d = np.array([[[1, 2, 3, 4], \n",
    "              [5, 6, 7, 8],\n",
    "             [9, 10, 11, 12]],\n",
    "            [[11, 12, 13, 14],\n",
    "             [15, 16, 17, 18],\n",
    "             [19, 20, 21, 22]]])    \n",
    "d"
   ]
  },
  {
   "cell_type": "code",
   "execution_count": 32,
   "id": "2230a90c-ca5d-4e7b-ba82-ef506d50e99c",
   "metadata": {},
   "outputs": [
    {
     "data": {
      "text/plain": [
       "(2, 3, 4)"
      ]
     },
     "execution_count": 32,
     "metadata": {},
     "output_type": "execute_result"
    }
   ],
   "source": [
    "len(d), len(d[0]), len(d[0][0])"
   ]
  },
  {
   "cell_type": "code",
   "execution_count": 33,
   "id": "ef7d1890-7b76-4f41-a141-b28a86b55e40",
   "metadata": {},
   "outputs": [
    {
     "data": {
      "text/plain": [
       "(2, 3, 4)"
      ]
     },
     "execution_count": 33,
     "metadata": {},
     "output_type": "execute_result"
    }
   ],
   "source": [
    "d.shape"
   ]
  },
  {
   "cell_type": "code",
   "execution_count": 37,
   "id": "44690c4d-7293-4875-bb9d-b44c965770d1",
   "metadata": {},
   "outputs": [
    {
     "name": "stdout",
     "output_type": "stream",
     "text": [
      "1\n",
      "(3,)\n"
     ]
    }
   ],
   "source": [
    "# ndim 속성은 배열의 차원, shape 속성은 배열의 크기를 반환\n",
    "\n",
    "# a = np.array([1, 2, 3])\n",
    "print(a.ndim)\n",
    "print(a.shape)"
   ]
  },
  {
   "cell_type": "code",
   "execution_count": 38,
   "id": "4d31158c-69c2-4d32-946f-462795e26cc7",
   "metadata": {},
   "outputs": [
    {
     "name": "stdout",
     "output_type": "stream",
     "text": [
      "2\n",
      "(2, 3)\n"
     ]
    }
   ],
   "source": [
    "# c = np.array([[0, 1, 2], [3, 4, 5]])\n",
    "print(c.ndim)\n",
    "print(c.shape)"
   ]
  },
  {
   "cell_type": "code",
   "execution_count": 39,
   "id": "9c795f49-12c7-4ea9-9c7e-507edbff7d1a",
   "metadata": {},
   "outputs": [
    {
     "name": "stdout",
     "output_type": "stream",
     "text": [
      "3\n",
      "(2, 3, 4)\n"
     ]
    }
   ],
   "source": [
    "print(d.ndim)\n",
    "print(d.shape)"
   ]
  },
  {
   "cell_type": "code",
   "execution_count": 41,
   "id": "60f634bb-a13f-44bc-bf2a-1f3832beec6a",
   "metadata": {},
   "outputs": [],
   "source": [
    "# 배열의 인덱싱\n",
    "\n",
    "# 일차원 배열의 인덱싱은 리스트의 인덱싱과 같음\n",
    "# 다차원 배열일 때는 콤마(comma ,)를 사용하여 접근\n",
    "# 콤마로 구분된 차원 -> 축(axis)"
   ]
  },
  {
   "cell_type": "code",
   "execution_count": 42,
   "id": "b7a8fd94-4d09-4020-b93b-69b7cc9761d1",
   "metadata": {},
   "outputs": [
    {
     "data": {
      "text/plain": [
       "6"
      ]
     },
     "execution_count": 42,
     "metadata": {},
     "output_type": "execute_result"
    }
   ],
   "source": [
    "test = [[1, 2, 3, 4], [5, 6, 7, 8]]    # list\n",
    "test[1][1]"
   ]
  },
  {
   "cell_type": "code",
   "execution_count": 43,
   "id": "1f2ab075-a0fd-4562-bf0a-f98c7cd5f501",
   "metadata": {},
   "outputs": [
    {
     "data": {
      "text/plain": [
       "array([[0, 1, 2],\n",
       "       [3, 4, 5]])"
      ]
     },
     "execution_count": 43,
     "metadata": {},
     "output_type": "execute_result"
    }
   ],
   "source": [
    "a = np.array([[0, 1, 2], [3, 4, 5]])\n",
    "a"
   ]
  },
  {
   "cell_type": "code",
   "execution_count": 45,
   "id": "0a23964a-b3f1-4758-af6b-de927694f74b",
   "metadata": {},
   "outputs": [
    {
     "data": {
      "text/plain": [
       "0"
      ]
     },
     "execution_count": 45,
     "metadata": {},
     "output_type": "execute_result"
    }
   ],
   "source": [
    "a[0, 0]    # 첫번째 행의 첫번째 열"
   ]
  },
  {
   "cell_type": "code",
   "execution_count": 46,
   "id": "00c85140-2011-4057-9b98-bd7361f0b749",
   "metadata": {},
   "outputs": [
    {
     "data": {
      "text/plain": [
       "1"
      ]
     },
     "execution_count": 46,
     "metadata": {},
     "output_type": "execute_result"
    }
   ],
   "source": [
    "a[0, 1]    # 첫번째 행의 두번째 열"
   ]
  },
  {
   "cell_type": "code",
   "execution_count": 47,
   "id": "23ed8c2f-1081-4370-8e39-df7d846b9491",
   "metadata": {},
   "outputs": [
    {
     "data": {
      "text/plain": [
       "5"
      ]
     },
     "execution_count": 47,
     "metadata": {},
     "output_type": "execute_result"
    }
   ],
   "source": [
    "a[-1, -1]    # 마지막 행의 마지막 열"
   ]
  },
  {
   "cell_type": "code",
   "execution_count": 53,
   "id": "757e3d6f-7572-4474-b026-fbea3d6a1e13",
   "metadata": {},
   "outputs": [
    {
     "data": {
      "text/plain": [
       "array([[0, 1, 2, 3],\n",
       "       [4, 5, 6, 7]])"
      ]
     },
     "execution_count": 53,
     "metadata": {},
     "output_type": "execute_result"
    }
   ],
   "source": [
    "# 배열의 슬라이싱 \n",
    "\n",
    "a = np.array([[0, 1, 2, 3], [4, 5, 6, 7]])\n",
    "a"
   ]
  },
  {
   "cell_type": "code",
   "execution_count": 59,
   "id": "17070a40-ad69-4e0c-bd84-3c42b98be482",
   "metadata": {},
   "outputs": [
    {
     "data": {
      "text/plain": [
       "[1, 2, 3]"
      ]
     },
     "execution_count": 59,
     "metadata": {},
     "output_type": "execute_result"
    }
   ],
   "source": [
    "test = [[1, 2, 3, 4], [5, 6, 7, 8]]    # list\n",
    "test[0][:3]"
   ]
  },
  {
   "cell_type": "code",
   "execution_count": 54,
   "id": "d5b6a5d3-2457-4d63-b76f-18d293b1ce66",
   "metadata": {},
   "outputs": [
    {
     "data": {
      "text/plain": [
       "array([0, 1, 2, 3])"
      ]
     },
     "execution_count": 54,
     "metadata": {},
     "output_type": "execute_result"
    }
   ],
   "source": [
    "a[0, :]    # 첫번째 행 전체"
   ]
  },
  {
   "cell_type": "code",
   "execution_count": 56,
   "id": "dad01ee4-60b3-47aa-a18a-42621e8ccc0c",
   "metadata": {},
   "outputs": [
    {
     "data": {
      "text/plain": [
       "array([1, 5])"
      ]
     },
     "execution_count": 56,
     "metadata": {},
     "output_type": "execute_result"
    }
   ],
   "source": [
    "a[:, 1]    # 두번째 열 전체"
   ]
  },
  {
   "cell_type": "code",
   "execution_count": 57,
   "id": "7df787bc-40b1-4412-9cd2-d5e030e42452",
   "metadata": {},
   "outputs": [
    {
     "data": {
      "text/plain": [
       "array([5, 6, 7])"
      ]
     },
     "execution_count": 57,
     "metadata": {},
     "output_type": "execute_result"
    }
   ],
   "source": [
    "a[1, 1:]    # 두번째 행의 두번째 열부터 끝열까지"
   ]
  },
  {
   "cell_type": "code",
   "execution_count": 61,
   "id": "a18bcc70-4b40-49cf-a7ef-8ce056db87bc",
   "metadata": {},
   "outputs": [
    {
     "data": {
      "text/plain": [
       "array([[0, 1],\n",
       "       [4, 5]])"
      ]
     },
     "execution_count": 61,
     "metadata": {},
     "output_type": "execute_result"
    }
   ],
   "source": [
    "a[:2, :2]"
   ]
  },
  {
   "cell_type": "code",
   "execution_count": 79,
   "id": "5ade1a02-d93e-4a77-a83f-757bafdaad13",
   "metadata": {},
   "outputs": [],
   "source": [
    "# 연습문제\n",
    "\n",
    "m = np.array([[0, 1, 2, 3, 4],\n",
    "             [5, 6, 7, 8, 9],\n",
    "             [10, 11, 12, 13, 14]])"
   ]
  },
  {
   "cell_type": "code",
   "execution_count": 80,
   "id": "08554875-1096-4c46-802e-677bf489f9c7",
   "metadata": {},
   "outputs": [
    {
     "data": {
      "text/plain": [
       "7"
      ]
     },
     "execution_count": 80,
     "metadata": {},
     "output_type": "execute_result"
    }
   ],
   "source": [
    "m[1, 2]"
   ]
  },
  {
   "cell_type": "code",
   "execution_count": 81,
   "id": "41b80306-a59c-47cf-8254-009e8485c3b1",
   "metadata": {},
   "outputs": [
    {
     "data": {
      "text/plain": [
       "14"
      ]
     },
     "execution_count": 81,
     "metadata": {},
     "output_type": "execute_result"
    }
   ],
   "source": [
    "m[2, 4]"
   ]
  },
  {
   "cell_type": "code",
   "execution_count": 82,
   "id": "814e2586-c29a-47b9-ac11-c4cd6325331f",
   "metadata": {},
   "outputs": [
    {
     "data": {
      "text/plain": [
       "array([6, 7])"
      ]
     },
     "execution_count": 82,
     "metadata": {},
     "output_type": "execute_result"
    }
   ],
   "source": [
    "m[1, 1:3]"
   ]
  },
  {
   "cell_type": "code",
   "execution_count": 83,
   "id": "e7a6b76e-6151-460a-9732-5b769219dab5",
   "metadata": {},
   "outputs": [
    {
     "data": {
      "text/plain": [
       "array([ 7, 12])"
      ]
     },
     "execution_count": 83,
     "metadata": {},
     "output_type": "execute_result"
    }
   ],
   "source": [
    "m[1:, 2]"
   ]
  },
  {
   "cell_type": "code",
   "execution_count": 84,
   "id": "d8ab9977-cf4b-4394-8b48-592dae907ed8",
   "metadata": {},
   "outputs": [
    {
     "data": {
      "text/plain": [
       "array([[3, 4],\n",
       "       [8, 9]])"
      ]
     },
     "execution_count": 84,
     "metadata": {},
     "output_type": "execute_result"
    }
   ],
   "source": [
    "m[:2, 3:]"
   ]
  },
  {
   "cell_type": "code",
   "execution_count": 98,
   "id": "7a6418fe-879e-4c16-b88d-331cdd550059",
   "metadata": {},
   "outputs": [],
   "source": [
    "# 배열 생성"
   ]
  },
  {
   "cell_type": "code",
   "execution_count": 99,
   "id": "a24892f0-b5b0-487f-9328-948dd9cafb5b",
   "metadata": {},
   "outputs": [
    {
     "data": {
      "text/plain": [
       "array([[0, 0],\n",
       "       [0, 0],\n",
       "       [0, 0],\n",
       "       [0, 0],\n",
       "       [0, 0]], dtype=int32)"
      ]
     },
     "execution_count": 99,
     "metadata": {},
     "output_type": "execute_result"
    }
   ],
   "source": [
    "# 모든 값이 0인 배열 생성\n",
    "a = np.zeros((5, 2), dtype = \"i\")\n",
    "a"
   ]
  },
  {
   "cell_type": "code",
   "execution_count": 100,
   "id": "f7eb4c61-196d-4b08-b547-38ef98a66658",
   "metadata": {},
   "outputs": [
    {
     "data": {
      "text/plain": [
       "array(['', '', '', '', ''], dtype='<U4')"
      ]
     },
     "execution_count": 100,
     "metadata": {},
     "output_type": "execute_result"
    }
   ],
   "source": [
    "d = np.zeros(5, dtype = \"U4\")\n",
    "d"
   ]
  },
  {
   "cell_type": "code",
   "execution_count": 101,
   "id": "c2d76f15-4c1f-4571-88e4-dec6bf46199a",
   "metadata": {},
   "outputs": [
    {
     "data": {
      "text/plain": [
       "array(['abc', 'abcd', 'ABCD', '', ''], dtype='<U4')"
      ]
     },
     "execution_count": 101,
     "metadata": {},
     "output_type": "execute_result"
    }
   ],
   "source": [
    "# 더 큰 크기의 문자열을 할당하면 잘릴 수 있음 \n",
    "d[0] = \"abc\"\n",
    "d[1] = \"abcd\"\n",
    "d[2] = \"ABCDE\"\n",
    "d"
   ]
  },
  {
   "cell_type": "code",
   "execution_count": 102,
   "id": "dc527855-ae90-4d27-a361-089a329807e3",
   "metadata": {},
   "outputs": [
    {
     "data": {
      "text/plain": [
       "array([[[1, 1, 1, 1],\n",
       "        [1, 1, 1, 1],\n",
       "        [1, 1, 1, 1]],\n",
       "\n",
       "       [[1, 1, 1, 1],\n",
       "        [1, 1, 1, 1],\n",
       "        [1, 1, 1, 1]]], dtype=int64)"
      ]
     },
     "execution_count": 102,
     "metadata": {},
     "output_type": "execute_result"
    }
   ],
   "source": [
    "# 0이 아닌 1로 초기화된 배열을 생성하려면 ones 명령 사용\n",
    "e = np.ones((2, 3, 4), dtype = \"i8\")\n",
    "e"
   ]
  },
  {
   "cell_type": "code",
   "execution_count": 103,
   "id": "a943b67f-0d91-472c-9fef-ee339f66bbd1",
   "metadata": {},
   "outputs": [
    {
     "data": {
      "text/plain": [
       "array([1., 1., 1.], dtype=float32)"
      ]
     },
     "execution_count": 103,
     "metadata": {},
     "output_type": "execute_result"
    }
   ],
   "source": [
    "# shape를 튜플 값으로 명시하지 않고 다른 배열과 같은 shape의 배열을 생성\n",
    "f = np.ones_like(b, dtype = \"f\")\n",
    "f"
   ]
  },
  {
   "cell_type": "code",
   "execution_count": 105,
   "id": "d586d084-9ae3-46d2-8978-0395f0655c06",
   "metadata": {},
   "outputs": [
    {
     "data": {
      "text/plain": [
       "array([[6.87857032e-312, 3.16202013e-322, 0.00000000e+000],\n",
       "       [0.00000000e+000, 1.06099790e-312, 9.23290166e-071],\n",
       "       [3.93989732e-062, 2.32053360e-056, 6.82133438e-038],\n",
       "       [2.64899348e-032, 2.19061103e-056, 1.35104622e+161]])"
      ]
     },
     "execution_count": 105,
     "metadata": {},
     "output_type": "execute_result"
    }
   ],
   "source": [
    "# 배열을 생성만 하고 특정한 값으로 초기화를 하지 않는 empty 명령\n",
    "g = np.empty((4, 3))\n",
    "g"
   ]
  },
  {
   "cell_type": "code",
   "execution_count": 108,
   "id": "a2bbda69-7f14-4970-bdc8-bbd8be2b7c57",
   "metadata": {},
   "outputs": [
    {
     "data": {
      "text/plain": [
       "array([0, 1, 2, 3, 4, 5, 6, 7, 8, 9])"
      ]
     },
     "execution_count": 108,
     "metadata": {},
     "output_type": "execute_result"
    }
   ],
   "source": [
    "# arange 명령\n",
    "# range 명령과 비슷함\n",
    "# 특정한 규칙에 따라 증가하는 수열을 만듦\n",
    "\n",
    "np.arange(10)    # 0 ... n-1"
   ]
  },
  {
   "cell_type": "code",
   "execution_count": 109,
   "id": "bf364ace-a36f-493d-8ff2-98256f1df95d",
   "metadata": {},
   "outputs": [
    {
     "data": {
      "text/plain": [
       "array([ 3,  5,  7,  9, 11, 13, 15, 17, 19])"
      ]
     },
     "execution_count": 109,
     "metadata": {},
     "output_type": "execute_result"
    }
   ],
   "source": [
    "np.arange(3, 21, 2)    # 시작, 끝(포함하지 않음), 단계"
   ]
  },
  {
   "cell_type": "code",
   "execution_count": 110,
   "id": "da47bde4-e0bd-4308-9cb0-41d00705eb13",
   "metadata": {},
   "outputs": [
    {
     "data": {
      "text/plain": [
       "array([  0.,  25.,  50.,  75., 100.])"
      ]
     },
     "execution_count": 110,
     "metadata": {},
     "output_type": "execute_result"
    }
   ],
   "source": [
    "# 선형 구간 혹은 로그 구간을 지정한 구간의 수만큼 분할\n",
    "\n",
    "ex = np.linspace(0, 100, 5)\n",
    "ex"
   ]
  },
  {
   "cell_type": "code",
   "execution_count": 111,
   "id": "05897aff-b67d-438c-8ebf-d0c4d9ed91c2",
   "metadata": {},
   "outputs": [
    {
     "data": {
      "text/plain": [
       "array([1.e+000, 1.e+025, 1.e+050, 1.e+075, 1.e+100])"
      ]
     },
     "execution_count": 111,
     "metadata": {},
     "output_type": "execute_result"
    }
   ],
   "source": [
    "ex2 = np.logspace(0, 100, 5)\n",
    "ex2"
   ]
  },
  {
   "cell_type": "code",
   "execution_count": 112,
   "id": "f9183b72-c908-4f6c-a10b-2044ded718c8",
   "metadata": {},
   "outputs": [
    {
     "data": {
      "text/plain": [
       "array([[1, 2, 3],\n",
       "       [4, 5, 6]])"
      ]
     },
     "execution_count": 112,
     "metadata": {},
     "output_type": "execute_result"
    }
   ],
   "source": [
    "# 전치 연산\n",
    "# 메서드가 아닌 속성!\n",
    "\n",
    "A = np.array([[1, 2, 3], [4, 5, 6]])\n",
    "A"
   ]
  },
  {
   "cell_type": "code",
   "execution_count": 113,
   "id": "8b3cbb43-76e0-4264-8d3c-c6d93d41b549",
   "metadata": {},
   "outputs": [
    {
     "data": {
      "text/plain": [
       "array([[1, 4],\n",
       "       [2, 5],\n",
       "       [3, 6]])"
      ]
     },
     "execution_count": 113,
     "metadata": {},
     "output_type": "execute_result"
    }
   ],
   "source": [
    "A.T"
   ]
  },
  {
   "cell_type": "code",
   "execution_count": 114,
   "id": "15c1b1b0-d48d-4a47-9432-623605f36ac7",
   "metadata": {},
   "outputs": [
    {
     "data": {
      "text/plain": [
       "array([ 0,  1,  2,  3,  4,  5,  6,  7,  8,  9, 10, 11])"
      ]
     },
     "execution_count": 114,
     "metadata": {},
     "output_type": "execute_result"
    }
   ],
   "source": [
    "# 배열의 크기 변형\n",
    "\n",
    "a = np.arange(12)\n",
    "a"
   ]
  },
  {
   "cell_type": "code",
   "execution_count": 115,
   "id": "4c69fb78-f447-4cc5-8c56-ecfac6b01ce8",
   "metadata": {},
   "outputs": [
    {
     "data": {
      "text/plain": [
       "array([[ 0,  1,  2,  3],\n",
       "       [ 4,  5,  6,  7],\n",
       "       [ 8,  9, 10, 11]])"
      ]
     },
     "execution_count": 115,
     "metadata": {},
     "output_type": "execute_result"
    }
   ],
   "source": [
    "b = a.reshape(3, 4)\n",
    "b"
   ]
  },
  {
   "cell_type": "code",
   "execution_count": 120,
   "id": "898defa3-6fd0-438f-b1a1-d7fd2c272d74",
   "metadata": {},
   "outputs": [
    {
     "data": {
      "text/plain": [
       "(2, 3, 2)"
      ]
     },
     "execution_count": 120,
     "metadata": {},
     "output_type": "execute_result"
    }
   ],
   "source": [
    "a.reshape(2, -1, 2).shape"
   ]
  },
  {
   "cell_type": "code",
   "execution_count": 123,
   "id": "74d480dc-7198-4b8f-8758-e856f926ec86",
   "metadata": {},
   "outputs": [
    {
     "data": {
      "text/plain": [
       "array([ 0,  1,  2,  3,  4,  5,  6,  7,  8,  9, 10, 11])"
      ]
     },
     "execution_count": 123,
     "metadata": {},
     "output_type": "execute_result"
    }
   ],
   "source": [
    "# 1차원으로 만들기 위해서는 flatten 혹은 ravel 메서드를 사용\n",
    "\n",
    "a.flatten()"
   ]
  },
  {
   "cell_type": "code",
   "execution_count": 125,
   "id": "4925bd64-d687-4254-83da-997e9d443ff3",
   "metadata": {},
   "outputs": [
    {
     "data": {
      "text/plain": [
       "array([[0],\n",
       "       [1],\n",
       "       [2],\n",
       "       [3],\n",
       "       [4]])"
      ]
     },
     "execution_count": 125,
     "metadata": {},
     "output_type": "execute_result"
    }
   ],
   "source": [
    "# 배열의 크기 변형\n",
    "\n",
    "x = np.arange(5)\n",
    "x[:, np.newaxis]"
   ]
  },
  {
   "cell_type": "code",
   "execution_count": 136,
   "id": "25e34187-060c-4339-8317-ff94581c0f73",
   "metadata": {},
   "outputs": [],
   "source": [
    "# 배열 연결"
   ]
  },
  {
   "cell_type": "code",
   "execution_count": 137,
   "id": "407b32dd-527d-4e9a-a9e7-6b7d7546d04f",
   "metadata": {},
   "outputs": [
    {
     "data": {
      "text/plain": [
       "array([[1., 1., 1.],\n",
       "       [1., 1., 1.]])"
      ]
     },
     "execution_count": 137,
     "metadata": {},
     "output_type": "execute_result"
    }
   ],
   "source": [
    "a1 = np.ones((2, 3))\n",
    "a1"
   ]
  },
  {
   "cell_type": "code",
   "execution_count": 138,
   "id": "b5e61628-6a38-4efb-b866-f1f52fd03b7a",
   "metadata": {},
   "outputs": [
    {
     "data": {
      "text/plain": [
       "array([[0., 0.],\n",
       "       [0., 0.]])"
      ]
     },
     "execution_count": 138,
     "metadata": {},
     "output_type": "execute_result"
    }
   ],
   "source": [
    "a2 = np.zeros((2, 2))\n",
    "a2"
   ]
  },
  {
   "cell_type": "code",
   "execution_count": 139,
   "id": "d2641624-aa18-4064-b6ce-6a6bcff5be97",
   "metadata": {},
   "outputs": [
    {
     "data": {
      "text/plain": [
       "array([[1., 1., 1., 0., 0.],\n",
       "       [1., 1., 1., 0., 0.]])"
      ]
     },
     "execution_count": 139,
     "metadata": {},
     "output_type": "execute_result"
    }
   ],
   "source": [
    "# 행의 수가 같은 두 개 이상의 배열을 옆으로 연결\n",
    "\n",
    "np.hstack([a1, a2])"
   ]
  },
  {
   "cell_type": "code",
   "execution_count": 140,
   "id": "063fd27f-83d2-4b38-b51a-474e29104e4f",
   "metadata": {},
   "outputs": [
    {
     "data": {
      "text/plain": [
       "array([[1., 1., 1.],\n",
       "       [1., 1., 1.]])"
      ]
     },
     "execution_count": 140,
     "metadata": {},
     "output_type": "execute_result"
    }
   ],
   "source": [
    "b1 = np.ones((2, 3))\n",
    "b1"
   ]
  },
  {
   "cell_type": "code",
   "execution_count": 143,
   "id": "86f80992-ca07-4730-ae41-423a8d3236b0",
   "metadata": {},
   "outputs": [
    {
     "data": {
      "text/plain": [
       "array([[0., 0., 0.],\n",
       "       [0., 0., 0.],\n",
       "       [0., 0., 0.]])"
      ]
     },
     "execution_count": 143,
     "metadata": {},
     "output_type": "execute_result"
    }
   ],
   "source": [
    "b2 = np.zeros((3, 3))\n",
    "b2"
   ]
  },
  {
   "cell_type": "code",
   "execution_count": 144,
   "id": "4fa55560-2f6f-421b-9f45-cbd477caf854",
   "metadata": {},
   "outputs": [
    {
     "data": {
      "text/plain": [
       "array([[1., 1., 1.],\n",
       "       [1., 1., 1.],\n",
       "       [0., 0., 0.],\n",
       "       [0., 0., 0.],\n",
       "       [0., 0., 0.]])"
      ]
     },
     "execution_count": 144,
     "metadata": {},
     "output_type": "execute_result"
    }
   ],
   "source": [
    "# 열의 수가 같은 두 개 이상의 배열을 위아래로 연결\n",
    "\n",
    "np.vstack([b1, b2])"
   ]
  },
  {
   "cell_type": "code",
   "execution_count": 146,
   "id": "aa5cec71-d6fb-4e30-984e-4773dd15de51",
   "metadata": {},
   "outputs": [
    {
     "data": {
      "text/plain": [
       "array([[1., 1., 1., 1.],\n",
       "       [1., 1., 1., 1.],\n",
       "       [1., 1., 1., 1.]])"
      ]
     },
     "execution_count": 146,
     "metadata": {},
     "output_type": "execute_result"
    }
   ],
   "source": [
    "c1 = np.ones((3, 4))\n",
    "c1"
   ]
  },
  {
   "cell_type": "code",
   "execution_count": 147,
   "id": "0ba11b14-98b8-49d9-b6cf-50d3e7115716",
   "metadata": {},
   "outputs": [
    {
     "data": {
      "text/plain": [
       "array([[0., 0., 0., 0.],\n",
       "       [0., 0., 0., 0.],\n",
       "       [0., 0., 0., 0.]])"
      ]
     },
     "execution_count": 147,
     "metadata": {},
     "output_type": "execute_result"
    }
   ],
   "source": [
    "c2 = np.zeros((3, 4))\n",
    "c2"
   ]
  },
  {
   "cell_type": "code",
   "execution_count": 150,
   "id": "15075417-ea3d-4641-8481-7b4b514fda06",
   "metadata": {},
   "outputs": [
    {
     "data": {
      "text/plain": [
       "array([[[1., 0.],\n",
       "        [1., 0.],\n",
       "        [1., 0.],\n",
       "        [1., 0.]],\n",
       "\n",
       "       [[1., 0.],\n",
       "        [1., 0.],\n",
       "        [1., 0.],\n",
       "        [1., 0.]],\n",
       "\n",
       "       [[1., 0.],\n",
       "        [1., 0.],\n",
       "        [1., 0.],\n",
       "        [1., 0.]]])"
      ]
     },
     "execution_count": 150,
     "metadata": {},
     "output_type": "execute_result"
    }
   ],
   "source": [
    "# 제3의 축 즉, 행이나 열이 아닌 깊이(depth) 방향으로 배열을 합침\n",
    "# 가장 안쪽의 원소의 차원이 증가\n",
    "# 즉 가장 내부의 숫자 원소가 배열이 됨\n",
    "# 3 X 4 -> 3 X 4 X 2\n",
    "\n",
    "np.dstack([c1, c2])"
   ]
  },
  {
   "cell_type": "code",
   "execution_count": 154,
   "id": "25a0ac1f-c4b3-4cdc-a9eb-ce907596677d",
   "metadata": {},
   "outputs": [
    {
     "data": {
      "text/plain": [
       "(3, 4, 2)"
      ]
     },
     "execution_count": 154,
     "metadata": {},
     "output_type": "execute_result"
    }
   ],
   "source": [
    "(np.dstack([c1, c2])).shape"
   ]
  },
  {
   "cell_type": "code",
   "execution_count": 158,
   "id": "db563d12-6761-40f3-add7-f8447b35fbec",
   "metadata": {},
   "outputs": [
    {
     "data": {
      "text/plain": [
       "array([[[1., 1., 1., 1.],\n",
       "        [1., 1., 1., 1.],\n",
       "        [1., 1., 1., 1.]],\n",
       "\n",
       "       [[0., 0., 0., 0.],\n",
       "        [0., 0., 0., 0.],\n",
       "        [0., 0., 0., 0.]]])"
      ]
     },
     "execution_count": 158,
     "metadata": {},
     "output_type": "execute_result"
    }
   ],
   "source": [
    "# stack 명령은 사용자가 지정한 차원(축으로) 배열을 연결\n",
    "\n",
    "c = np.stack([c1, c2])\n",
    "c"
   ]
  },
  {
   "cell_type": "code",
   "execution_count": 161,
   "id": "60684bde-2fa4-4253-8e74-8a3534782468",
   "metadata": {},
   "outputs": [
    {
     "data": {
      "text/plain": [
       "array([[[1., 0.],\n",
       "        [1., 0.],\n",
       "        [1., 0.],\n",
       "        [1., 0.]],\n",
       "\n",
       "       [[1., 0.],\n",
       "        [1., 0.],\n",
       "        [1., 0.],\n",
       "        [1., 0.]],\n",
       "\n",
       "       [[1., 0.],\n",
       "        [1., 0.],\n",
       "        [1., 0.],\n",
       "        [1., 0.]]])"
      ]
     },
     "execution_count": 161,
     "metadata": {},
     "output_type": "execute_result"
    }
   ],
   "source": [
    "c = np.stack([c1, c2], axis = 2)\n",
    "c"
   ]
  },
  {
   "cell_type": "code",
   "execution_count": 160,
   "id": "a2a98aa9-74a4-465f-91b6-b17593d3b215",
   "metadata": {},
   "outputs": [
    {
     "data": {
      "text/plain": [
       "(3, 2, 4)"
      ]
     },
     "execution_count": 160,
     "metadata": {},
     "output_type": "execute_result"
    }
   ],
   "source": [
    "c.shape"
   ]
  },
  {
   "cell_type": "code",
   "execution_count": 167,
   "id": "f54a5362-c2d7-46fe-b98a-0c50fb17beeb",
   "metadata": {},
   "outputs": [
    {
     "data": {
      "text/plain": [
       "array([1, 2, 3, 4, 5, 6])"
      ]
     },
     "execution_count": 167,
     "metadata": {},
     "output_type": "execute_result"
    }
   ],
   "source": [
    "# hstack 명령과 비슷하게 배열을 좌우로 연결\n",
    "# 메서드임에도 불구하고 대괄호(bracket, [])를 사용\n",
    "# 이런 특수 메서드를 인덱서(indexer)라고 함\n",
    "np.r_[np.array([1, 2, 3]), np.array([4, 5, 6])]"
   ]
  },
  {
   "cell_type": "code",
   "execution_count": 168,
   "id": "9c35ac37-1841-4e69-95c0-59c3f810f781",
   "metadata": {},
   "outputs": [
    {
     "data": {
      "text/plain": [
       "array([[1, 4],\n",
       "       [2, 5],\n",
       "       [3, 6]])"
      ]
     },
     "execution_count": 168,
     "metadata": {},
     "output_type": "execute_result"
    }
   ],
   "source": [
    "# 배열의 차원을 증가시킨 후 좌우로 연결\n",
    "np.c_[np.array([1, 2, 3]), np.array([4, 5, 6])]"
   ]
  },
  {
   "cell_type": "code",
   "execution_count": 169,
   "id": "f7ec9593-7c44-427a-8e56-009a939ca4dd",
   "metadata": {},
   "outputs": [
    {
     "data": {
      "text/plain": [
       "array([[0, 1, 2, 0, 1, 2],\n",
       "       [3, 4, 5, 3, 4, 5]])"
      ]
     },
     "execution_count": 169,
     "metadata": {},
     "output_type": "execute_result"
    }
   ],
   "source": [
    "# 동일한 배열을 반복하여 연결\n",
    "a = np.array([[0, 1, 2], [3, 4, 5]])\n",
    "np.tile(a, 2)"
   ]
  },
  {
   "cell_type": "code",
   "execution_count": 170,
   "id": "2ff47c6a-cfb7-4ced-95c8-7e34f37ccfbd",
   "metadata": {},
   "outputs": [
    {
     "data": {
      "text/plain": [
       "array([[0, 1, 2, 0, 1, 2],\n",
       "       [3, 4, 5, 3, 4, 5],\n",
       "       [0, 1, 2, 0, 1, 2],\n",
       "       [3, 4, 5, 3, 4, 5],\n",
       "       [0, 1, 2, 0, 1, 2],\n",
       "       [3, 4, 5, 3, 4, 5]])"
      ]
     },
     "execution_count": 170,
     "metadata": {},
     "output_type": "execute_result"
    }
   ],
   "source": [
    "np.tile(a, (3, 2))"
   ]
  },
  {
   "cell_type": "code",
   "execution_count": 214,
   "id": "296bbaa7-f3d0-4319-89f9-928a77aa79f9",
   "metadata": {},
   "outputs": [
    {
     "data": {
      "text/plain": [
       "array([[  0.,   0.,   0.,   1.,   1.],\n",
       "       [  0.,   0.,   0.,   1.,   1.],\n",
       "       [  0.,   0.,   0.,   1.,   1.],\n",
       "       [ 10.,  20.,  30.,  40.,  50.],\n",
       "       [ 60.,  70.,  80.,  90., 100.],\n",
       "       [110., 120., 130., 140., 150.],\n",
       "       [  0.,   0.,   0.,   1.,   1.],\n",
       "       [  0.,   0.,   0.,   1.,   1.],\n",
       "       [  0.,   0.,   0.,   1.,   1.],\n",
       "       [ 10.,  20.,  30.,  40.,  50.],\n",
       "       [ 60.,  70.,  80.,  90., 100.],\n",
       "       [110., 120., 130., 140., 150.]])"
      ]
     },
     "execution_count": 214,
     "metadata": {},
     "output_type": "execute_result"
    }
   ],
   "source": [
    "a = np.zeros((3, 3))\n",
    "b = np.ones((3, 2))\n",
    "c = np.hstack([a, b])\n",
    "d = (np.arange(10, 151, 10)).reshape(3, 5)\n",
    "e = np.vstack([c, d])\n",
    "np.tile(e, (2,1))"
   ]
  },
  {
   "cell_type": "code",
   "execution_count": 215,
   "id": "64d84b36-4c86-4462-8f98-99fdeca2e556",
   "metadata": {},
   "outputs": [],
   "source": [
    "# 벡터화 연산\n",
    "\n",
    "x = np.arange(1, 10001)\n",
    "y = np.arange(10001, 20001)"
   ]
  },
  {
   "cell_type": "code",
   "execution_count": 216,
   "id": "3e35c53d-cd32-428a-94e5-fd8ad15d4918",
   "metadata": {},
   "outputs": [
    {
     "name": "stdout",
     "output_type": "stream",
     "text": [
      "Wall time: 0 ns\n"
     ]
    }
   ],
   "source": [
    "%%time\n",
    "z = x+y"
   ]
  },
  {
   "cell_type": "code",
   "execution_count": 218,
   "id": "2a8aef5b-5c7c-4026-a61e-7cf7efeff8b6",
   "metadata": {},
   "outputs": [
    {
     "data": {
      "text/plain": [
       "array([10002, 10004, 10006, 10008, 10010, 10012, 10014, 10016, 10018,\n",
       "       10020])"
      ]
     },
     "execution_count": 218,
     "metadata": {},
     "output_type": "execute_result"
    }
   ],
   "source": [
    "z[:10]"
   ]
  },
  {
   "cell_type": "code",
   "execution_count": 225,
   "id": "651a6241-b0ca-4a5d-b6fd-dd943a4a8191",
   "metadata": {},
   "outputs": [],
   "source": [
    "# 논리 연산도 가능\n",
    "\n",
    "a = np.array([1, 2, 3, 4])\n",
    "b = np.array([4, 2, 2, 4])"
   ]
  },
  {
   "cell_type": "code",
   "execution_count": 226,
   "id": "c1e8700c-508e-4bd0-ade6-b0396bea427c",
   "metadata": {},
   "outputs": [
    {
     "data": {
      "text/plain": [
       "array([False,  True, False,  True])"
      ]
     },
     "execution_count": 226,
     "metadata": {},
     "output_type": "execute_result"
    }
   ],
   "source": [
    "a == b"
   ]
  },
  {
   "cell_type": "code",
   "execution_count": 227,
   "id": "e84c3159-da54-436c-8b80-45f5911e8beb",
   "metadata": {},
   "outputs": [
    {
     "data": {
      "text/plain": [
       "array([False,  True,  True,  True])"
      ]
     },
     "execution_count": 227,
     "metadata": {},
     "output_type": "execute_result"
    }
   ],
   "source": [
    "a >= b"
   ]
  },
  {
   "cell_type": "code",
   "execution_count": 232,
   "id": "de2b7382-a5eb-4c86-8715-e19670a28e6c",
   "metadata": {},
   "outputs": [],
   "source": [
    "# 배열의 모든 원소가 다 같은지 알고 싶다면 all 명령\n",
    "\n",
    "a = np.array([1, 2, 3, 4])\n",
    "b = np.array([4, 2, 2, 4])\n",
    "c = np.array([1, 2, 3, 4])"
   ]
  },
  {
   "cell_type": "code",
   "execution_count": 233,
   "id": "49788822-e058-42e9-80e4-b8ff4ab93bc4",
   "metadata": {},
   "outputs": [
    {
     "data": {
      "text/plain": [
       "False"
      ]
     },
     "execution_count": 233,
     "metadata": {},
     "output_type": "execute_result"
    }
   ],
   "source": [
    "np.all(a == b)"
   ]
  },
  {
   "cell_type": "code",
   "execution_count": 234,
   "id": "d673aa0f-9c52-46ef-9ae8-c85fa5f2f458",
   "metadata": {},
   "outputs": [
    {
     "data": {
      "text/plain": [
       "True"
      ]
     },
     "execution_count": 234,
     "metadata": {},
     "output_type": "execute_result"
    }
   ],
   "source": [
    "np.all(a == c)"
   ]
  },
  {
   "cell_type": "code",
   "execution_count": 235,
   "id": "ff1586e8-1d1a-4313-99fb-1581364e6f50",
   "metadata": {},
   "outputs": [
    {
     "data": {
      "text/plain": [
       "array([0, 1, 2, 3, 4, 5, 6, 7, 8, 9])"
      ]
     },
     "execution_count": 235,
     "metadata": {},
     "output_type": "execute_result"
    }
   ],
   "source": [
    "# 스칼라와 벡터/행렬의 곱셈\n",
    "\n",
    "x = np.arange(10)\n",
    "x"
   ]
  },
  {
   "cell_type": "code",
   "execution_count": 236,
   "id": "535a0fed-0239-46b5-974a-7cce935fbe55",
   "metadata": {},
   "outputs": [
    {
     "data": {
      "text/plain": [
       "array([  0, 100, 200, 300, 400, 500, 600, 700, 800, 900])"
      ]
     },
     "execution_count": 236,
     "metadata": {},
     "output_type": "execute_result"
    }
   ],
   "source": [
    "100*x"
   ]
  },
  {
   "cell_type": "code",
   "execution_count": 238,
   "id": "c17a9cfa-b280-46a0-9d74-e9703be0a0d1",
   "metadata": {},
   "outputs": [
    {
     "data": {
      "text/plain": [
       "array([[ 0,  1,  2,  3],\n",
       "       [ 4,  5,  6,  7],\n",
       "       [ 8,  9, 10, 11]])"
      ]
     },
     "execution_count": 238,
     "metadata": {},
     "output_type": "execute_result"
    }
   ],
   "source": [
    "x = np.arange(12).reshape(3, 4)\n",
    "x"
   ]
  },
  {
   "cell_type": "code",
   "execution_count": 240,
   "id": "6f67cd3d-75df-4915-aed4-0da4a9cd8aa4",
   "metadata": {},
   "outputs": [
    {
     "data": {
      "text/plain": [
       "array([[   0,  100,  200,  300],\n",
       "       [ 400,  500,  600,  700],\n",
       "       [ 800,  900, 1000, 1100]])"
      ]
     },
     "execution_count": 240,
     "metadata": {},
     "output_type": "execute_result"
    }
   ],
   "source": [
    "100*x"
   ]
  },
  {
   "cell_type": "code",
   "execution_count": 242,
   "id": "217e4609-e3ee-4f9c-820f-a8c9d00f3f8f",
   "metadata": {},
   "outputs": [
    {
     "data": {
      "text/plain": [
       "array([2., 4., 6.])"
      ]
     },
     "execution_count": 242,
     "metadata": {},
     "output_type": "execute_result"
    }
   ],
   "source": [
    "# 브로드캐스팅\n",
    "# 모양이 다른 배열 간의 연산이 가능하도록 배열의 크기를 변환\n",
    "#  더 작은 배열이 더 큰 배열에 호환되는 모양으로 확장\n",
    "\n",
    "a = np.array([1.0, 2.0, 3.0])\n",
    "b = 2.0\n",
    "a * b"
   ]
  },
  {
   "cell_type": "code",
   "execution_count": 246,
   "id": "111f3fce-32f3-4548-b28d-32aaafe31d92",
   "metadata": {},
   "outputs": [],
   "source": [
    "# 확장 가능한 경우\n",
    "# a. 해당 차원 간의 숫자가 동일한 경우\n",
    "# b. 해당 차원 중 하나가 1인 경우\n",
    "# 브로드캐스팅 가능하지 않을 때 ValueError 발생시킴\n",
    "# 차원의 수가 같지 않아도, 비교하는 차원의 수 중 1이 존재하면 1이 아닌 수에 맞춰서 늘어나거나 복사"
   ]
  },
  {
   "cell_type": "code",
   "execution_count": 265,
   "id": "70f39d88-0577-4df3-b498-240059c343f1",
   "metadata": {},
   "outputs": [],
   "source": [
    "# 차원 축소 연산"
   ]
  },
  {
   "cell_type": "code",
   "execution_count": 266,
   "id": "4d8268b2-93bf-4b25-8f5f-32ce78bf663c",
   "metadata": {},
   "outputs": [],
   "source": [
    "# sum()\n",
    "# 해당 배열의 합산 결과를 반환"
   ]
  },
  {
   "cell_type": "code",
   "execution_count": 267,
   "id": "eb7c0fba-931a-47c0-9db7-c67630875046",
   "metadata": {},
   "outputs": [
    {
     "data": {
      "text/plain": [
       "10"
      ]
     },
     "execution_count": 267,
     "metadata": {},
     "output_type": "execute_result"
    }
   ],
   "source": [
    "x = np.array([1, 2, 3, 4])\n",
    "x\n",
    "\n",
    "np.sum(x)    # x.sum()"
   ]
  },
  {
   "cell_type": "code",
   "execution_count": 268,
   "id": "a162be65-67af-4b93-b288-99faef74dd17",
   "metadata": {},
   "outputs": [
    {
     "data": {
      "text/plain": [
       "array([[ 0,  1,  2,  3],\n",
       "       [ 4,  5,  6,  7],\n",
       "       [ 8,  9, 10, 11]])"
      ]
     },
     "execution_count": 268,
     "metadata": {},
     "output_type": "execute_result"
    }
   ],
   "source": [
    "x = np.arange(12).reshape(3, -1)\n",
    "x"
   ]
  },
  {
   "cell_type": "code",
   "execution_count": 270,
   "id": "1fd49dcf-b6fe-43ad-8c13-68a9d35e7ab1",
   "metadata": {},
   "outputs": [
    {
     "data": {
      "text/plain": [
       "array([12, 15, 18, 21])"
      ]
     },
     "execution_count": 270,
     "metadata": {},
     "output_type": "execute_result"
    }
   ],
   "source": [
    "x.sum(axis=0)    # axis=0은 행 간의 연산 결과를 구한다."
   ]
  },
  {
   "cell_type": "code",
   "execution_count": 271,
   "id": "0b6356a2-4194-49ab-bd63-b2dee4a381c1",
   "metadata": {},
   "outputs": [
    {
     "data": {
      "text/plain": [
       "array([ 6, 22, 38])"
      ]
     },
     "execution_count": 271,
     "metadata": {},
     "output_type": "execute_result"
    }
   ],
   "source": [
    "x.sum(axis=1)    # axis=1은 열 간의 연산 결과를 구한다."
   ]
  },
  {
   "cell_type": "code",
   "execution_count": 281,
   "id": "e59c515b-695b-47d2-bea8-c9a54b3fa70c",
   "metadata": {},
   "outputs": [],
   "source": [
    "# min()\n",
    "# 해당 배열의 제일 작은 값의 결과를 반환"
   ]
  },
  {
   "cell_type": "code",
   "execution_count": 274,
   "id": "80bbea06-bc3a-497f-9034-09e4c608a38c",
   "metadata": {},
   "outputs": [
    {
     "data": {
      "text/plain": [
       "array([[[ 0,  1],\n",
       "        [ 2,  3],\n",
       "        [ 4,  5],\n",
       "        [ 6,  7],\n",
       "        [ 8,  9]],\n",
       "\n",
       "       [[10, 11],\n",
       "        [12, 13],\n",
       "        [14, 15],\n",
       "        [16, 17],\n",
       "        [18, 19]]])"
      ]
     },
     "execution_count": 274,
     "metadata": {},
     "output_type": "execute_result"
    }
   ],
   "source": [
    "x = np.arange(20).reshape(2, 5, -1)\n",
    "x"
   ]
  },
  {
   "cell_type": "code",
   "execution_count": 275,
   "id": "c058c2ff-f82f-4ca1-9d71-80015b7d6266",
   "metadata": {},
   "outputs": [
    {
     "data": {
      "text/plain": [
       "0"
      ]
     },
     "execution_count": 275,
     "metadata": {},
     "output_type": "execute_result"
    }
   ],
   "source": [
    "x.min()"
   ]
  },
  {
   "cell_type": "code",
   "execution_count": 276,
   "id": "3eeb5815-f150-460f-90ff-e7722c3a8ae8",
   "metadata": {},
   "outputs": [
    {
     "data": {
      "text/plain": [
       "0"
      ]
     },
     "execution_count": 276,
     "metadata": {},
     "output_type": "execute_result"
    }
   ],
   "source": [
    "np.min(x)"
   ]
  },
  {
   "cell_type": "code",
   "execution_count": 277,
   "id": "b00ec009-590f-4b46-8dce-788ebf846825",
   "metadata": {},
   "outputs": [
    {
     "data": {
      "text/plain": [
       "array([[0, 1],\n",
       "       [2, 3],\n",
       "       [4, 5],\n",
       "       [6, 7],\n",
       "       [8, 9]])"
      ]
     },
     "execution_count": 277,
     "metadata": {},
     "output_type": "execute_result"
    }
   ],
   "source": [
    "x.min(axis=0)"
   ]
  },
  {
   "cell_type": "code",
   "execution_count": 278,
   "id": "b21e6632-656d-4f32-92ec-332594289cdd",
   "metadata": {},
   "outputs": [
    {
     "data": {
      "text/plain": [
       "array([[ 0,  1],\n",
       "       [10, 11]])"
      ]
     },
     "execution_count": 278,
     "metadata": {},
     "output_type": "execute_result"
    }
   ],
   "source": [
    "np.min(x, axis=1)"
   ]
  },
  {
   "cell_type": "code",
   "execution_count": 279,
   "id": "6f2ac749-b754-439b-abcd-ec3480175cd5",
   "metadata": {},
   "outputs": [
    {
     "data": {
      "text/plain": [
       "array([[ 0,  2,  4,  6,  8],\n",
       "       [10, 12, 14, 16, 18]])"
      ]
     },
     "execution_count": 279,
     "metadata": {},
     "output_type": "execute_result"
    }
   ],
   "source": [
    "x.min(axis=2)"
   ]
  },
  {
   "cell_type": "code",
   "execution_count": 280,
   "id": "49de4098-b64b-4e40-97fc-14fa09a14cec",
   "metadata": {},
   "outputs": [],
   "source": [
    "# argmin()\n",
    "# 해당 배열의 제일 작은 값의 인덱스를 반환"
   ]
  },
  {
   "cell_type": "code",
   "execution_count": 282,
   "id": "48791fcc-d49a-4972-a211-e5c8904b11b3",
   "metadata": {},
   "outputs": [
    {
     "data": {
      "text/plain": [
       "array([[[ 0,  1],\n",
       "        [ 2,  3],\n",
       "        [ 4,  5],\n",
       "        [ 6,  7],\n",
       "        [ 8,  9]],\n",
       "\n",
       "       [[10, 11],\n",
       "        [12, 13],\n",
       "        [14, 15],\n",
       "        [16, 17],\n",
       "        [18, 19]]])"
      ]
     },
     "execution_count": 282,
     "metadata": {},
     "output_type": "execute_result"
    }
   ],
   "source": [
    "x = np.arange(20).reshape(2, 5, -1)\n",
    "x"
   ]
  },
  {
   "cell_type": "code",
   "execution_count": 283,
   "id": "ea04906f-16cb-4eb0-8435-f2d1f0e6bea5",
   "metadata": {},
   "outputs": [
    {
     "data": {
      "text/plain": [
       "0"
      ]
     },
     "execution_count": 283,
     "metadata": {},
     "output_type": "execute_result"
    }
   ],
   "source": [
    "x.argmin()"
   ]
  },
  {
   "cell_type": "code",
   "execution_count": 284,
   "id": "5cf5a46a-8959-4b43-be3c-2aae6cdccd58",
   "metadata": {},
   "outputs": [
    {
     "data": {
      "text/plain": [
       "array([[0, 0],\n",
       "       [0, 0],\n",
       "       [0, 0],\n",
       "       [0, 0],\n",
       "       [0, 0]], dtype=int64)"
      ]
     },
     "execution_count": 284,
     "metadata": {},
     "output_type": "execute_result"
    }
   ],
   "source": [
    "x.argmin(axis=0)"
   ]
  },
  {
   "cell_type": "code",
   "execution_count": 285,
   "id": "da05e6dd-2084-4f8e-a09a-27fc297d44ec",
   "metadata": {},
   "outputs": [],
   "source": [
    "# max()\n",
    "# 해당 배열의 제일 큰 값의 결과를 반환"
   ]
  },
  {
   "cell_type": "code",
   "execution_count": 286,
   "id": "bdacd09a-2214-403a-b6c4-a136f2aa810e",
   "metadata": {},
   "outputs": [],
   "source": [
    "# argmax()\n",
    "# 해당 배열의 제일 큰 값의 인덱스를 반환"
   ]
  },
  {
   "cell_type": "code",
   "execution_count": 287,
   "id": "177b03e4-3a7b-4461-b8b5-a4337a1f3a4c",
   "metadata": {},
   "outputs": [],
   "source": [
    "x = np.array([1, 2, 3, 1])"
   ]
  },
  {
   "cell_type": "code",
   "execution_count": 290,
   "id": "338b62f0-0064-46de-9e12-e0f325ff2c74",
   "metadata": {},
   "outputs": [
    {
     "data": {
      "text/plain": [
       "1.75"
      ]
     },
     "execution_count": 290,
     "metadata": {},
     "output_type": "execute_result"
    }
   ],
   "source": [
    "x.mean()    # 평균"
   ]
  },
  {
   "cell_type": "code",
   "execution_count": 291,
   "id": "c5c5d1a1-350b-4991-98d2-0ccbae3df2ab",
   "metadata": {},
   "outputs": [
    {
     "data": {
      "text/plain": [
       "1.5"
      ]
     },
     "execution_count": 291,
     "metadata": {},
     "output_type": "execute_result"
    }
   ],
   "source": [
    "np.median(x)    # 중앙값"
   ]
  },
  {
   "cell_type": "code",
   "execution_count": 292,
   "id": "8551ce6d-ff1d-4b2c-9429-c8f20f2303f9",
   "metadata": {},
   "outputs": [
    {
     "data": {
      "text/plain": [
       "False"
      ]
     },
     "execution_count": 292,
     "metadata": {},
     "output_type": "execute_result"
    }
   ],
   "source": [
    "np.all([True, True, False])  # 배열 요소가 모두 True일 때 True"
   ]
  },
  {
   "cell_type": "code",
   "execution_count": 293,
   "id": "daec7535-ca77-4954-856a-deface9d20aa",
   "metadata": {},
   "outputs": [
    {
     "data": {
      "text/plain": [
       "True"
      ]
     },
     "execution_count": 293,
     "metadata": {},
     "output_type": "execute_result"
    }
   ],
   "source": [
    "np.any([True, True, False])  # 배열 요소가 하나라도 True면 True"
   ]
  },
  {
   "cell_type": "code",
   "execution_count": 294,
   "id": "052fb5ad-8285-4e21-bafa-63412a3a1d09",
   "metadata": {},
   "outputs": [],
   "source": [
    "# 연습 문제\n",
    "\n",
    "practice = np.array([[1.1, 7.1, 8.0, 2.1, 6.5, 7.2],\n",
    "                    [2.7, 5.2, 3.3, 9.0, 7.7, 2.8],\n",
    "                    [0.7, 8.8, 4.2, 8.9, 4.3, 7.4],\n",
    "                    [8.2, 1.1, 5.4, 2.9, 6.9, 0.2],\n",
    "                    [7.4, 4.8, 2.7, 3.1, 2.8, 8.9]])"
   ]
  },
  {
   "cell_type": "code",
   "execution_count": 301,
   "id": "944314af-2ae0-413e-9bb6-009c3eeadb98",
   "metadata": {},
   "outputs": [
    {
     "data": {
      "text/plain": [
       "9.0"
      ]
     },
     "execution_count": 301,
     "metadata": {},
     "output_type": "execute_result"
    }
   ],
   "source": [
    "# 전체의 최대값\n",
    "practice.max()"
   ]
  },
  {
   "cell_type": "code",
   "execution_count": 302,
   "id": "6268493e-2fd5-4061-8de1-787032d0746a",
   "metadata": {},
   "outputs": [
    {
     "data": {
      "text/plain": [
       "array([20.1, 27. , 23.6, 26. , 28.2, 26.5])"
      ]
     },
     "execution_count": 302,
     "metadata": {},
     "output_type": "execute_result"
    }
   ],
   "source": [
    "# 행 간의 합\n",
    "practice.sum(axis=0)"
   ]
  },
  {
   "cell_type": "code",
   "execution_count": 303,
   "id": "d9a2cfd9-a0f9-4cf1-a656-d981f4627dad",
   "metadata": {},
   "outputs": [
    {
     "data": {
      "text/plain": [
       "array([8.2, 8.8, 8. , 9. , 7.7, 8.9])"
      ]
     },
     "execution_count": 303,
     "metadata": {},
     "output_type": "execute_result"
    }
   ],
   "source": [
    "# 행 간의 최대값\n",
    "practice.max(axis=0)"
   ]
  },
  {
   "cell_type": "code",
   "execution_count": 304,
   "id": "d5d8095f-a1cf-4976-8a20-bd6f7c710d82",
   "metadata": {},
   "outputs": [
    {
     "data": {
      "text/plain": [
       "array([5.33333333, 5.11666667, 5.71666667, 4.11666667, 4.95      ])"
      ]
     },
     "execution_count": 304,
     "metadata": {},
     "output_type": "execute_result"
    }
   ],
   "source": [
    "# 열 간의 평균\n",
    "practice.mean(axis=1)"
   ]
  },
  {
   "cell_type": "code",
   "execution_count": 305,
   "id": "e3c7b0d3-5b48-454b-afdf-a117f792cafc",
   "metadata": {},
   "outputs": [
    {
     "data": {
      "text/plain": [
       "array([1.1, 2.7, 0.7, 0.2, 2.7])"
      ]
     },
     "execution_count": 305,
     "metadata": {},
     "output_type": "execute_result"
    }
   ],
   "source": [
    "# 열 간의 최소값\n",
    "practice.min(axis=1)"
   ]
  },
  {
   "cell_type": "code",
   "execution_count": 308,
   "id": "b76781eb-027e-4bea-be82-b74d3abc9d6f",
   "metadata": {},
   "outputs": [
    {
     "data": {
      "text/plain": [
       "array([[ 4,  3,  5,  7],\n",
       "       [ 1, 12, 11,  9],\n",
       "       [ 2, 15,  1, 14]])"
      ]
     },
     "execution_count": 308,
     "metadata": {},
     "output_type": "execute_result"
    }
   ],
   "source": [
    "# 정렬\n",
    "\n",
    "a = np.array([[4, 3, 5, 7],\n",
    "             [1, 12, 11, 9],\n",
    "             [2, 15, 1, 14]])\n",
    "a"
   ]
  },
  {
   "cell_type": "code",
   "execution_count": 309,
   "id": "0c976814-ba20-463a-86e7-5a1ede92b089",
   "metadata": {},
   "outputs": [
    {
     "data": {
      "text/plain": [
       "array([[ 3,  4,  5,  7],\n",
       "       [ 1,  9, 11, 12],\n",
       "       [ 1,  2, 14, 15]])"
      ]
     },
     "execution_count": 309,
     "metadata": {},
     "output_type": "execute_result"
    }
   ],
   "source": [
    "np.sort(a)    # axis = -1 또는 axis = 1과 동일"
   ]
  },
  {
   "cell_type": "code",
   "execution_count": 311,
   "id": "c986b960-bee9-46d3-a2bf-a5c32b043210",
   "metadata": {},
   "outputs": [
    {
     "data": {
      "text/plain": [
       "array([[ 1,  3,  1,  7],\n",
       "       [ 2, 12,  5,  9],\n",
       "       [ 4, 15, 11, 14]])"
      ]
     },
     "execution_count": 311,
     "metadata": {},
     "output_type": "execute_result"
    }
   ],
   "source": [
    "np.sort(a, axis = 0)"
   ]
  },
  {
   "cell_type": "code",
   "execution_count": 313,
   "id": "11e07742-e20b-4c35-b810-6b322983ddd6",
   "metadata": {},
   "outputs": [
    {
     "data": {
      "text/plain": [
       "array([[ 3,  4,  5,  7],\n",
       "       [ 1,  9, 11, 12],\n",
       "       [ 1,  2, 14, 15]])"
      ]
     },
     "execution_count": 313,
     "metadata": {},
     "output_type": "execute_result"
    }
   ],
   "source": [
    "# ndarray.sort() 메서드는 해당 객체의 자료 자체가 변화하는 자체변화(in-place) 메서드\n",
    "\n",
    "a.sort(axis=1)\n",
    "a"
   ]
  },
  {
   "cell_type": "code",
   "execution_count": 315,
   "id": "9ab1a598-1a5d-495b-9594-e142e37e4b6b",
   "metadata": {},
   "outputs": [
    {
     "data": {
      "text/plain": [
       "array([2, 3, 1, 0], dtype=int64)"
      ]
     },
     "execution_count": 315,
     "metadata": {},
     "output_type": "execute_result"
    }
   ],
   "source": [
    "# 자료를 정렬하는 것이 아니라 순서만 알고 싶다면 argsort 명령\n",
    "\n",
    "a = np.array([42, 38, 12, 25])\n",
    "j = np.argsort(a)\n",
    "j"
   ]
  },
  {
   "cell_type": "code",
   "execution_count": 318,
   "id": "4b86adfe-19f6-4a90-9667-ec9d4ac84060",
   "metadata": {},
   "outputs": [
    {
     "data": {
      "text/plain": [
       "array([12, 25, 38, 42])"
      ]
     },
     "execution_count": 318,
     "metadata": {},
     "output_type": "execute_result"
    }
   ],
   "source": [
    "a[j]   # 인덱스 배열을 사용한 인덱싱"
   ]
  },
  {
   "cell_type": "code",
   "execution_count": 319,
   "id": "b51c653e-0d15-457b-9ed2-6e1afcf33847",
   "metadata": {},
   "outputs": [
    {
     "data": {
      "text/plain": [
       "array([[1, 2],\n",
       "       [3, 4],\n",
       "       [5, 6]])"
      ]
     },
     "execution_count": 319,
     "metadata": {},
     "output_type": "execute_result"
    }
   ],
   "source": [
    "# 고급 인덱싱\n",
    "\n",
    "a = np.array([[1, 2], [3, 4], [5, 6]])\n",
    "a"
   ]
  },
  {
   "cell_type": "code",
   "execution_count": 322,
   "id": "1fc9948b-7d09-4863-b66e-dec079ae8c82",
   "metadata": {},
   "outputs": [
    {
     "name": "stdout",
     "output_type": "stream",
     "text": [
      "[1 4 5]\n"
     ]
    }
   ],
   "source": [
    "print(a[[0, 1, 2], [0, 1, 0]])\n",
    "\n",
    "# a[0,0] a[1,1] a[2,0]을 인덱스로 하는 1차원 배열(shape=(3,))을 출력"
   ]
  },
  {
   "cell_type": "code",
   "execution_count": 323,
   "id": "84d36825-027f-4ba6-955a-e1d89a4b3365",
   "metadata": {},
   "outputs": [
    {
     "data": {
      "text/plain": [
       "array([[1, 2],\n",
       "       [3, 4],\n",
       "       [5, 6]])"
      ]
     },
     "execution_count": 323,
     "metadata": {},
     "output_type": "execute_result"
    }
   ],
   "source": [
    "# 슬라이싱\n",
    "\n",
    "a = np.array([[1, 2], [3, 4], [5, 6]])\n",
    "a"
   ]
  },
  {
   "cell_type": "code",
   "execution_count": 325,
   "id": "d94afe85-a1fb-4871-a62a-902199b047a5",
   "metadata": {},
   "outputs": [
    {
     "name": "stdout",
     "output_type": "stream",
     "text": [
      "[[1 2 1]\n",
      " [3 4 3]\n",
      " [5 6 5]]\n"
     ]
    }
   ],
   "source": [
    "print(a[:, [0, 1, 0]])"
   ]
  },
  {
   "cell_type": "code",
   "execution_count": 350,
   "id": "108fec42-f082-444d-84d9-a892fc3ccc4b",
   "metadata": {},
   "outputs": [],
   "source": [
    "# 연습문제\n",
    "# 첫번째 행(row)에 학번, 두번째 행에 영어 성적, 세번째 행에 수학 성적\n",
    "# 영어 성적을 기준으로 각 열(column)을 재정렬\n",
    "\n",
    "scores = np.array([[1, 2, 3, 4],\n",
    "                   [46, 99, 100, 71],\n",
    "                   [81, 59, 90, 100]])"
   ]
  },
  {
   "cell_type": "code",
   "execution_count": 353,
   "id": "cadca1d8-627e-4290-a814-041f54c7def7",
   "metadata": {},
   "outputs": [
    {
     "name": "stdout",
     "output_type": "stream",
     "text": [
      "[[  1   4   2   3]\n",
      " [ 46  71  99 100]\n",
      " [ 81 100  59  90]]\n"
     ]
    }
   ],
   "source": [
    "eng = np.array([46, 99, 100, 71])\n",
    "j = np.argsort(eng)\n",
    "j\n",
    "\n",
    "print(scores[:, j])"
   ]
  }
 ],
 "metadata": {
  "kernelspec": {
   "display_name": "Python 3 (ipykernel)",
   "language": "python",
   "name": "python3"
  },
  "language_info": {
   "codemirror_mode": {
    "name": "ipython",
    "version": 3
   },
   "file_extension": ".py",
   "mimetype": "text/x-python",
   "name": "python",
   "nbconvert_exporter": "python",
   "pygments_lexer": "ipython3",
   "version": "3.9.13"
  }
 },
 "nbformat": 4,
 "nbformat_minor": 5
}
