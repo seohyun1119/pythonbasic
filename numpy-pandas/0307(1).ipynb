{
 "cells": [
  {
   "cell_type": "code",
   "execution_count": 1,
   "id": "df90b9dc-5b02-4c1a-ac40-02b77e9e9a29",
   "metadata": {},
   "outputs": [],
   "source": [
    "import pandas as pd\n",
    "import numpy as np"
   ]
  },
  {
   "cell_type": "code",
   "execution_count": 2,
   "id": "c47167c6-da44-4c02-9fd3-8319cdad97c5",
   "metadata": {},
   "outputs": [
    {
     "data": {
      "text/plain": [
       "0        0\n",
       "1        1\n",
       "2        2\n",
       "3        3\n",
       "4        4\n",
       "      ... \n",
       "495    495\n",
       "496    496\n",
       "497    497\n",
       "498    498\n",
       "499    499\n",
       "Length: 500, dtype: int64"
      ]
     },
     "execution_count": 2,
     "metadata": {},
     "output_type": "execute_result"
    }
   ],
   "source": [
    "# Series의 값이 많은 경우\n",
    "\n",
    "# 500개의 값을 갖는 시리즈 생성\n",
    "# ㆍㆍㆍ이란 표시는 생략되었다는 의미\n",
    "\n",
    "nums = pd.Series(range(500))\n",
    "nums "
   ]
  },
  {
   "cell_type": "code",
   "execution_count": 3,
   "id": "308a7cfb-a490-47d0-89d7-b97326a0e14c",
   "metadata": {},
   "outputs": [
    {
     "data": {
      "text/plain": [
       "0    0\n",
       "1    1\n",
       "2    2\n",
       "3    3\n",
       "4    4\n",
       "dtype: int64"
      ]
     },
     "execution_count": 3,
     "metadata": {},
     "output_type": "execute_result"
    }
   ],
   "source": [
    "# Series head() 메서드 \n",
    "# head() 메서드는 앞부터 출력할 데이터의 개수 지정\n",
    "# 디폴트는 5개\n",
    "\n",
    "nums.head() "
   ]
  },
  {
   "cell_type": "code",
   "execution_count": 4,
   "id": "e02a6f02-b223-462c-8cbe-34f0e1836321",
   "metadata": {},
   "outputs": [
    {
     "data": {
      "text/plain": [
       "0    0\n",
       "1    1\n",
       "2    2\n",
       "3    3\n",
       "4    4\n",
       "5    5\n",
       "6    6\n",
       "7    7\n",
       "8    8\n",
       "9    9\n",
       "dtype: int64"
      ]
     },
     "execution_count": 4,
     "metadata": {},
     "output_type": "execute_result"
    }
   ],
   "source": [
    "# 괄호 안에 숫자를 넣어서 출력할 데이터 개수 지정 가능\n",
    "\n",
    "nums.head(10) "
   ]
  },
  {
   "cell_type": "code",
   "execution_count": 5,
   "id": "64b16709-b0a8-4acd-a3c8-2c303270aad3",
   "metadata": {},
   "outputs": [
    {
     "data": {
      "text/plain": [
       "490    490\n",
       "491    491\n",
       "492    492\n",
       "493    493\n",
       "494    494\n",
       "495    495\n",
       "496    496\n",
       "497    497\n",
       "498    498\n",
       "499    499\n",
       "dtype: int64"
      ]
     },
     "execution_count": 5,
     "metadata": {},
     "output_type": "execute_result"
    }
   ],
   "source": [
    "# Series tail() 메서드\n",
    "# 맨 뒤에서부터 출력할 데이터의 개수를 지정\n",
    "# 디폴트는 5개\n",
    "\n",
    "nums.tail(10)"
   ]
  },
  {
   "cell_type": "code",
   "execution_count": 6,
   "id": "6fff8c70-4ce6-446a-80c0-cba866282982",
   "metadata": {},
   "outputs": [
    {
     "data": {
      "text/plain": [
       "0    1.0\n",
       "1    2.0\n",
       "2    NaN\n",
       "3    4.0\n",
       "4    5.0\n",
       "dtype: float64"
      ]
     },
     "execution_count": 6,
     "metadata": {},
     "output_type": "execute_result"
    }
   ],
   "source": [
    "# np.nan의 데이터는 float 자료형이기 때문에 dtype이 float\n",
    "\n",
    "nums = pd.Series([1, 2, np.nan, 4, 5])\n",
    "nums"
   ]
  },
  {
   "cell_type": "code",
   "execution_count": 7,
   "id": "d5594529-74ec-4bda-a325-e59a26a1ea88",
   "metadata": {},
   "outputs": [
    {
     "name": "stdout",
     "output_type": "stream",
     "text": [
      "0    h\n",
      "1    e\n",
      "2    l\n",
      "3    l\n",
      "4    o\n",
      "dtype: object\n"
     ]
    },
    {
     "data": {
      "text/plain": [
       "4"
      ]
     },
     "execution_count": 7,
     "metadata": {},
     "output_type": "execute_result"
    }
   ],
   "source": [
    "# nunique() 메서드\n",
    "# 고유한 값의 개수를 계산\n",
    "\n",
    "hello = pd.Series(list(\"hello\"))\n",
    "print(hello)\n",
    "\n",
    "hello.nunique()"
   ]
  },
  {
   "cell_type": "code",
   "execution_count": 8,
   "id": "53961fde-1282-4a16-9006-bc7aba81fcc3",
   "metadata": {},
   "outputs": [
    {
     "data": {
      "text/plain": [
       "4"
      ]
     },
     "execution_count": 8,
     "metadata": {},
     "output_type": "execute_result"
    }
   ],
   "source": [
    "# count() 메서드\n",
    "# 데이터의 개수를 계산\n",
    "# nan인 값에 대해서는 개수에 포함시키지 않음\n",
    "\n",
    "nums.count()"
   ]
  },
  {
   "cell_type": "code",
   "execution_count": 9,
   "id": "69b7e214-42a8-4393-b738-2d9e3ff5a970",
   "metadata": {},
   "outputs": [
    {
     "data": {
      "text/plain": [
       "5"
      ]
     },
     "execution_count": 9,
     "metadata": {},
     "output_type": "execute_result"
    }
   ],
   "source": [
    "# len()은 전체 길이를 알려줌\n",
    "\n",
    "len(nums)"
   ]
  },
  {
   "cell_type": "code",
   "execution_count": 10,
   "id": "529fe2fe-eeb5-41e9-aae1-48837c3526f0",
   "metadata": {},
   "outputs": [
    {
     "data": {
      "text/plain": [
       "12.0"
      ]
     },
     "execution_count": 10,
     "metadata": {},
     "output_type": "execute_result"
    }
   ],
   "source": [
    "# sum() 메서드\n",
    "# Series에 있는 데이터를 모두 더함\n",
    "# skipna 파라미터의 기본 값이 True -> 결측치를 포함하지 않고 계산\n",
    "# 인수로 skipna의 값을 False로 전달하면 결측값을 포함한 계산 결과 나옴\n",
    "\n",
    "nums.sum()"
   ]
  },
  {
   "cell_type": "code",
   "execution_count": 11,
   "id": "af61188d-fcf7-4a80-addf-5460b6f683cf",
   "metadata": {},
   "outputs": [
    {
     "data": {
      "text/plain": [
       "nan"
      ]
     },
     "execution_count": 11,
     "metadata": {},
     "output_type": "execute_result"
    }
   ],
   "source": [
    "nums.sum(skipna = False)"
   ]
  },
  {
   "cell_type": "code",
   "execution_count": 12,
   "id": "a5b649a2-4715-4428-9938-02ff3eb91fbc",
   "metadata": {},
   "outputs": [
    {
     "data": {
      "text/plain": [
       "3.0"
      ]
     },
     "execution_count": 12,
     "metadata": {},
     "output_type": "execute_result"
    }
   ],
   "source": [
    "# mean(): 평균\n",
    "# median(): 중앙값\n",
    "# std(): 표준편차\n",
    "\n",
    "nums.mean()"
   ]
  },
  {
   "cell_type": "code",
   "execution_count": 13,
   "id": "e4d821dc-6f89-4fe0-9937-390e3348886c",
   "metadata": {},
   "outputs": [
    {
     "data": {
      "text/plain": [
       "3.0"
      ]
     },
     "execution_count": 13,
     "metadata": {},
     "output_type": "execute_result"
    }
   ],
   "source": [
    "nums.median()"
   ]
  },
  {
   "cell_type": "code",
   "execution_count": 14,
   "id": "348fb313-f092-43e2-95ed-189bec27f64f",
   "metadata": {},
   "outputs": [
    {
     "data": {
      "text/plain": [
       "1.8257418583505538"
      ]
     },
     "execution_count": 14,
     "metadata": {},
     "output_type": "execute_result"
    }
   ],
   "source": [
    "nums.std()"
   ]
  },
  {
   "cell_type": "code",
   "execution_count": 15,
   "id": "679f120e-19ea-4243-a9b5-6038b8eb94ec",
   "metadata": {},
   "outputs": [
    {
     "data": {
      "text/plain": [
       "5.0"
      ]
     },
     "execution_count": 15,
     "metadata": {},
     "output_type": "execute_result"
    }
   ],
   "source": [
    "# max() 메서드: Series에서 가장 큰 값을 구함 \n",
    "# min() 메서드: Series에서 가장 작은 값을 구함\n",
    "\n",
    "nums.max()"
   ]
  },
  {
   "cell_type": "code",
   "execution_count": 16,
   "id": "f3f08701-efa6-49c7-8a24-e5790d68164f",
   "metadata": {},
   "outputs": [
    {
     "data": {
      "text/plain": [
       "1.0"
      ]
     },
     "execution_count": 16,
     "metadata": {},
     "output_type": "execute_result"
    }
   ],
   "source": [
    "nums.min()"
   ]
  },
  {
   "cell_type": "code",
   "execution_count": 17,
   "id": "833c8db6-6b17-445b-ae7b-5920cf22c82d",
   "metadata": {},
   "outputs": [
    {
     "data": {
      "text/plain": [
       "'c'"
      ]
     },
     "execution_count": 17,
     "metadata": {},
     "output_type": "execute_result"
    }
   ],
   "source": [
    "# Series의 값이 문자인 경우\n",
    "# ord() 함수는 하나의 문자를 Unicode 숫자로 변경\n",
    "\n",
    "somechar = pd.Series(list(\"AaBbCc\"))\n",
    "somechar.max()"
   ]
  },
  {
   "cell_type": "code",
   "execution_count": 18,
   "id": "f529c94f-8b3c-4c13-86e7-d028d3617add",
   "metadata": {},
   "outputs": [
    {
     "data": {
      "text/plain": [
       "'A'"
      ]
     },
     "execution_count": 18,
     "metadata": {},
     "output_type": "execute_result"
    }
   ],
   "source": [
    "somechar.min()"
   ]
  },
  {
   "cell_type": "code",
   "execution_count": 21,
   "id": "f6747469-bcf5-427e-b5a6-2ad7b217bac1",
   "metadata": {},
   "outputs": [
    {
     "data": {
      "text/plain": [
       "97"
      ]
     },
     "execution_count": 21,
     "metadata": {},
     "output_type": "execute_result"
    }
   ],
   "source": [
    "ord('a')    # 아스키 코드와 동일"
   ]
  },
  {
   "cell_type": "code",
   "execution_count": 20,
   "id": "afd335e0-a686-4d9c-8291-60047e1df6be",
   "metadata": {},
   "outputs": [
    {
     "data": {
      "text/plain": [
       "65"
      ]
     },
     "execution_count": 20,
     "metadata": {},
     "output_type": "execute_result"
    }
   ],
   "source": [
    "ord('A')"
   ]
  },
  {
   "cell_type": "code",
   "execution_count": 25,
   "id": "20712f7d-8053-475e-a7ac-36e20ba42d59",
   "metadata": {},
   "outputs": [
    {
     "data": {
      "text/plain": [
       "count    4.000000\n",
       "mean     3.000000\n",
       "std      1.825742\n",
       "min      1.000000\n",
       "25%      1.750000\n",
       "50%      3.000000\n",
       "75%      4.250000\n",
       "max      5.000000\n",
       "dtype: float64"
      ]
     },
     "execution_count": 25,
     "metadata": {},
     "output_type": "execute_result"
    }
   ],
   "source": [
    "# describe() 메서드\n",
    "# count, mean, std, min, 25%, median(50%), 75%, max\n",
    "\n",
    "nums.describe()"
   ]
  },
  {
   "cell_type": "code",
   "execution_count": 27,
   "id": "f72562f0-29e9-4f3b-9f65-0592f33ab484",
   "metadata": {},
   "outputs": [
    {
     "data": {
      "text/plain": [
       "count     5\n",
       "unique    4\n",
       "top       l\n",
       "freq      2\n",
       "dtype: object"
      ]
     },
     "execution_count": 27,
     "metadata": {},
     "output_type": "execute_result"
    }
   ],
   "source": [
    "# 데이터 수 count\n",
    "# 고유한 값의 수 unique\n",
    "# 최빈 값 top -> l\n",
    "# 최빈 값의 빈도 freq\n",
    "\n",
    "hello.describe()"
   ]
  },
  {
   "cell_type": "code",
   "execution_count": 28,
   "id": "641aaaa0-c9a2-4bfa-87b3-ba580d6836d5",
   "metadata": {},
   "outputs": [
    {
     "data": {
      "text/plain": [
       "[1.0, 2.0, nan, 4.0, 5.0]"
      ]
     },
     "execution_count": 28,
     "metadata": {},
     "output_type": "execute_result"
    }
   ],
   "source": [
    "# list 객체로 변경\n",
    "\n",
    "list(nums)"
   ]
  },
  {
   "cell_type": "code",
   "execution_count": 29,
   "id": "fee99179-c78e-4970-a844-0262bf8876b7",
   "metadata": {},
   "outputs": [
    {
     "data": {
      "text/plain": [
       "{0: 1.0, 1: 2.0, 2: nan, 3: 4.0, 4: 5.0}"
      ]
     },
     "execution_count": 29,
     "metadata": {},
     "output_type": "execute_result"
    }
   ],
   "source": [
    "# 딕셔너리 자료형으로 변경\n",
    "\n",
    "dict(nums)"
   ]
  },
  {
   "cell_type": "code",
   "execution_count": 31,
   "id": "61c4c7f3-af9c-4f17-a459-c204427255f7",
   "metadata": {},
   "outputs": [
    {
     "data": {
      "text/plain": [
       "Batman             100\n",
       "Superman           120\n",
       "Spider-Man          90\n",
       "Iron Man            95\n",
       "Captain America    110\n",
       "Wonder Woman       120\n",
       "dtype: int64"
      ]
     },
     "execution_count": 31,
     "metadata": {},
     "output_type": "execute_result"
    }
   ],
   "source": [
    "# 두 시퀀스 자료형이 주어졌을 때\n",
    "# superheros를 index로하고 strength_levels을 data로 하는 Series를 생성\n",
    "\n",
    "superheros = [\n",
    " \"Batman\",\n",
    " \"Superman\",\n",
    " \"Spider-Man\",\n",
    " \"Iron Man\",\n",
    " \"Captain America\",\n",
    " \"Wonder Woman\"\n",
    "]\n",
    "strength_levels = (100, 120, 90, 95, 110, 120)\n",
    "\n",
    "heros = pd.Series(strength_levels, index = superheros)\n",
    "heros"
   ]
  },
  {
   "cell_type": "code",
   "execution_count": 32,
   "id": "528f7503-63a2-46a8-ad02-596e25f5d8eb",
   "metadata": {},
   "outputs": [
    {
     "data": {
      "text/plain": [
       "Spider-Man          90\n",
       "Iron Man            95\n",
       "Captain America    110\n",
       "Wonder Woman       120\n",
       "dtype: int64"
      ]
     },
     "execution_count": 32,
     "metadata": {},
     "output_type": "execute_result"
    }
   ],
   "source": [
    "heros.tail(4)"
   ]
  },
  {
   "cell_type": "code",
   "execution_count": 33,
   "id": "1f51f965-6080-4096-bf48-38ec2b8ab0b8",
   "metadata": {},
   "outputs": [
    {
     "data": {
      "text/plain": [
       "5"
      ]
     },
     "execution_count": 33,
     "metadata": {},
     "output_type": "execute_result"
    }
   ],
   "source": [
    "heros.nunique()"
   ]
  },
  {
   "cell_type": "code",
   "execution_count": 40,
   "id": "d2b5322f-35d3-4dc9-92c9-e6d33c2bd238",
   "metadata": {},
   "outputs": [
    {
     "data": {
      "text/plain": [
       "(105.83333333333333, 105.0, 120, 90)"
      ]
     },
     "execution_count": 40,
     "metadata": {},
     "output_type": "execute_result"
    }
   ],
   "source": [
    "heros.mean(), heros.median(), heros.max(), heros.min()"
   ]
  },
  {
   "cell_type": "code",
   "execution_count": 42,
   "id": "1217f645-51ce-4f2b-825f-fbd0fadb04a5",
   "metadata": {},
   "outputs": [
    {
     "data": {
      "text/plain": [
       "{'Batman': 100,\n",
       " 'Superman': 120,\n",
       " 'Spider-Man': 90,\n",
       " 'Iron Man': 95,\n",
       " 'Captain America': 110,\n",
       " 'Wonder Woman': 120}"
      ]
     },
     "execution_count": 42,
     "metadata": {},
     "output_type": "execute_result"
    }
   ],
   "source": [
    "dict(heros)"
   ]
  }
 ],
 "metadata": {
  "kernelspec": {
   "display_name": "Python 3 (ipykernel)",
   "language": "python",
   "name": "python3"
  },
  "language_info": {
   "codemirror_mode": {
    "name": "ipython",
    "version": 3
   },
   "file_extension": ".py",
   "mimetype": "text/x-python",
   "name": "python",
   "nbconvert_exporter": "python",
   "pygments_lexer": "ipython3",
   "version": "3.9.13"
  }
 },
 "nbformat": 4,
 "nbformat_minor": 5
}
