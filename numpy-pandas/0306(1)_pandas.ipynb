{
 "cells": [
  {
   "cell_type": "code",
   "execution_count": 1,
   "id": "96aeab03-2117-4a37-9edb-43b2ed7d6b18",
   "metadata": {},
   "outputs": [],
   "source": [
    "# Pandas\n",
    "# 대부분의 데이터는 시계열(series)이나 표(table)의 형태\n",
    "# Series 클래스와 DataFrame 클래스를 제공"
   ]
  },
  {
   "cell_type": "code",
   "execution_count": 2,
   "id": "a795cb1f-33a9-403a-b284-b57ad9301878",
   "metadata": {},
   "outputs": [],
   "source": [
    "import pandas as pd"
   ]
  },
  {
   "cell_type": "code",
   "execution_count": 3,
   "id": "c32952c2-7b9f-46d3-ae14-d821e28f30c3",
   "metadata": {},
   "outputs": [
    {
     "data": {
      "text/plain": [
       "1     하나\n",
       "2      둘\n",
       "3      셋\n",
       "4      넷\n",
       "5     다섯\n",
       "6     여섯\n",
       "7     일곱\n",
       "8     여덟\n",
       "9     아홉\n",
       "10     열\n",
       "dtype: object"
      ]
     },
     "execution_count": 3,
     "metadata": {},
     "output_type": "execute_result"
    }
   ],
   "source": [
    "# Series class\n",
    "# Series 객체를 생성할 때 pd.Series()\n",
    "# 배열과 다르게 각 데이터의 의미를 표시하는 index를 붙일 수 있음\n",
    "# 데이터 자체는 값(value)라고 함\n",
    "\n",
    "series = pd.Series([\"하나\", \"둘\", \"셋\", \"넷\", \"다섯\",\n",
    "                   \"여섯\", \"일곱\", \"여덟\", \"아홉\", \"열\"],\n",
    "                  index = [_ for _ in range(1, 11)])\n",
    "                  # index를 1부터 시작하게 초기값 설정\n",
    "series\n"
   ]
  },
  {
   "cell_type": "code",
   "execution_count": 4,
   "id": "02752ba0-e9f9-45bd-8fd8-ff4df5a1738e",
   "metadata": {},
   "outputs": [],
   "source": [
    "# data: iterable, 배열, scalar value, dict(key와 index를 동일하게 사용하거나 생략) 사용 가능\n",
    "# index(label): 유일(unique)할 필요는 없음, hashable type만 사용 가능\n",
    "# index를 생략할 경우 RangeIndex(0, 1, … , n)를 제공"
   ]
  },
  {
   "cell_type": "code",
   "execution_count": 5,
   "id": "68bed86c-2295-4779-b26a-fa0eda5cd87f",
   "metadata": {},
   "outputs": [
    {
     "data": {
      "text/plain": [
       "0    10\n",
       "1    11\n",
       "2    12\n",
       "3    13\n",
       "dtype: int64"
      ]
     },
     "execution_count": 5,
     "metadata": {},
     "output_type": "execute_result"
    }
   ],
   "source": [
    "# index를 지정하지 않고 Series를 만들면 Series의 index는 0부터 시작하는 정수 값\n",
    "pd.Series(range(10, 14))"
   ]
  },
  {
   "cell_type": "code",
   "execution_count": 6,
   "id": "7bfc442d-86be-4e6b-a3c3-b89c6c96dfca",
   "metadata": {},
   "outputs": [
    {
     "data": {
      "text/plain": [
       "0    10\n",
       "1    20\n",
       "2    30\n",
       "3    40\n",
       "4    50\n",
       "5    60\n",
       "6    70\n",
       "7    80\n",
       "8    90\n",
       "dtype: int64"
      ]
     },
     "execution_count": 6,
     "metadata": {},
     "output_type": "execute_result"
    }
   ],
   "source": [
    "# 10, 20, 30, 40, 50, 60, 70, 80, 90의 값을 갖는 Series를 생성\n",
    "\n",
    "test = pd.Series(list(range(10, 100, 10)))\n",
    "test"
   ]
  },
  {
   "cell_type": "code",
   "execution_count": 7,
   "id": "28d662ed-0626-4fbf-b09b-32b374d002fb",
   "metadata": {},
   "outputs": [
    {
     "data": {
      "text/plain": [
       "서울    9904312\n",
       "부산    3448737\n",
       "인천    2890451\n",
       "대구    2466052\n",
       "dtype: int64"
      ]
     },
     "execution_count": 7,
     "metadata": {},
     "output_type": "execute_result"
    }
   ],
   "source": [
    "# 각 도시의 2015년 인구 데이터를 Series로 만들기\n",
    "\n",
    "s = pd.Series([9_904_312, 3_448_737, 2_890_451, 2_466_052],\n",
    "              index = [\"서울\", \"부산\", \"인천\", \"대구\"])\n",
    "s"
   ]
  },
  {
   "cell_type": "code",
   "execution_count": 8,
   "id": "6d1ed7b7-0ba6-4476-a43e-284ef5d31800",
   "metadata": {},
   "outputs": [
    {
     "data": {
      "text/plain": [
       "Index(['서울', '부산', '인천', '대구'], dtype='object')"
      ]
     },
     "execution_count": 8,
     "metadata": {},
     "output_type": "execute_result"
    }
   ],
   "source": [
    "# Series의 index는 index 속성으로 접근\n",
    "# Series의 value는 1차원 배열(ndarray)이며 values 속성으로 접근\n",
    "s.index"
   ]
  },
  {
   "cell_type": "code",
   "execution_count": 9,
   "id": "552e3cfb-5be0-4565-b1d1-2f33ddbd723f",
   "metadata": {},
   "outputs": [
    {
     "data": {
      "text/plain": [
       "array([9904312, 3448737, 2890451, 2466052], dtype=int64)"
      ]
     },
     "execution_count": 9,
     "metadata": {},
     "output_type": "execute_result"
    }
   ],
   "source": [
    "s.values"
   ]
  },
  {
   "cell_type": "code",
   "execution_count": 10,
   "id": "73190c67-97f9-43f9-bd34-37935b33ad30",
   "metadata": {},
   "outputs": [
    {
     "data": {
      "text/plain": [
       "4"
      ]
     },
     "execution_count": 10,
     "metadata": {},
     "output_type": "execute_result"
    }
   ],
   "source": [
    "# Series 객체의 값 중 50보다 큰 값의 개수 구하기\n",
    "\n",
    "test = pd.Series(list(range(10, 100, 10)))\n",
    "\n",
    "import numpy as np\n",
    "count = np.array([True if i>50\n",
    "                  else False \n",
    "                  for i in test])\n",
    "len(test[count])"
   ]
  },
  {
   "cell_type": "code",
   "execution_count": 11,
   "id": "65e8071c-1516-45e7-96c9-f7f2189cc6da",
   "metadata": {},
   "outputs": [
    {
     "data": {
      "text/plain": [
       "4"
      ]
     },
     "execution_count": 11,
     "metadata": {},
     "output_type": "execute_result"
    }
   ],
   "source": [
    "# 또다른 풀이\n",
    "\n",
    "test = pd.Series(list(range(10, 100, 10)))\n",
    "sum(test.values > 50)    \n",
    "# values 속성으로 가져온 값은 데이터 타입이 ndarray"
   ]
  },
  {
   "cell_type": "code",
   "execution_count": 12,
   "id": "ba744e82-0d78-4ffb-a423-800f7d0a410d",
   "metadata": {},
   "outputs": [
    {
     "data": {
      "text/plain": [
       "도시\n",
       "서울    9904312\n",
       "부산    3448737\n",
       "인천    2890451\n",
       "대구    2466052\n",
       "Name: 인구, dtype: int64"
      ]
     },
     "execution_count": 12,
     "metadata": {},
     "output_type": "execute_result"
    }
   ],
   "source": [
    "# name 속성을 이용하여 Series 데이터에 이름 붙이기\n",
    "# index.name 속성으로 Series의 index에도 이름을 붙일 수 있음\n",
    "\n",
    "s.name = \"인구\"          # Series 이름 생성\n",
    "s.index.name = \"도시\"    # 인덱스 상단에 이름 생성\n",
    "s"
   ]
  },
  {
   "cell_type": "code",
   "execution_count": 13,
   "id": "1f105e39-1fc8-45d9-a77e-53ece6cfa3e1",
   "metadata": {},
   "outputs": [
    {
     "data": {
      "text/plain": [
       "c    3\n",
       "a    1\n",
       "b    2\n",
       "dtype: int64"
      ]
     },
     "execution_count": 13,
     "metadata": {},
     "output_type": "execute_result"
    }
   ],
   "source": [
    "# data에 dict를 사용\n",
    "# 비시퀀스: 순서가 없으므로 키 값을 가지고 있음\n",
    "\n",
    "d = {'a' : 1, 'b' : 2, 'c' : 3}\n",
    "ser = pd.Series(data = d, index = ['c', 'a', 'b'])    # index를 통해서 순서 지정 가능\n",
    "ser"
   ]
  },
  {
   "cell_type": "code",
   "execution_count": 14,
   "id": "252a1399-6324-4eb3-8c72-a320cd6e5843",
   "metadata": {},
   "outputs": [
    {
     "data": {
      "text/plain": [
       "x   NaN\n",
       "y   NaN\n",
       "z   NaN\n",
       "dtype: float64"
      ]
     },
     "execution_count": 14,
     "metadata": {},
     "output_type": "execute_result"
    }
   ],
   "source": [
    "# dict의 key와 Series 객체의 index를 다르게 설정\n",
    "\n",
    "d = {'a' : 1, 'b' : 2, 'c' : 3} \n",
    "ser = pd.Series(data = d, index = ['x', 'y', 'z'])\n",
    "ser \n",
    "\n",
    "# 1. Series가 생성될 때 최초에 dictionary의 key를 index으로 사용\n",
    "# 2. 키워드 인수로 넘겨받은 index 값 재할당\n",
    "# 3. 해당 하는 값을 찾을 수 없음(NaN)\n",
    "# NaN 값이 float 자료형에서만 표현 가능하므로 결과가 float 자료형"
   ]
  },
  {
   "cell_type": "code",
   "execution_count": 15,
   "id": "8b53f82d-c817-4707-a009-542e21c15fd4",
   "metadata": {},
   "outputs": [
    {
     "data": {
      "text/plain": [
       "서울    9904312\n",
       "부산    3448737\n",
       "인천    2890451\n",
       "대구    2466052\n",
       "dtype: int64"
      ]
     },
     "execution_count": 15,
     "metadata": {},
     "output_type": "execute_result"
    }
   ],
   "source": [
    "# index 지정 없이 dict 객체만 가지고 Series 만들기\n",
    "# dic의 key가 index로 사용\n",
    "\n",
    "s2 = pd.Series({\"서울\": 9_904_312,\n",
    "                \"부산\": 3_448_737,\n",
    "                \"인천\": 2_890_451,\n",
    "                \"대구\": 2_466_052\n",
    "                })\n",
    "s2"
   ]
  },
  {
   "cell_type": "code",
   "execution_count": 16,
   "id": "4b13a7db-47e5-4088-a269-71d99cc11c43",
   "metadata": {},
   "outputs": [
    {
     "data": {
      "text/plain": [
       "이름\n",
       "철수     88\n",
       "영희     95\n",
       "길동    100\n",
       "몽룡     67\n",
       "Name: 사회 점수, dtype: int64"
      ]
     },
     "execution_count": 16,
     "metadata": {},
     "output_type": "execute_result"
    }
   ],
   "source": [
    "# 이름을 index로 하고 점수를 values로 하는 Series\n",
    "\n",
    "grade = pd.Series({\"철수\": 88,\n",
    "                  \"영희\": 95,\n",
    "                  \"길동\": 100,\n",
    "                  \"몽룡\": 67})\n",
    "grade.name = \"사회 점수\"\n",
    "grade.index.name = \"이름\"\n",
    "grade"
   ]
  },
  {
   "cell_type": "code",
   "execution_count": 17,
   "id": "2c856e50-763c-4e2a-a8c1-49a5f91f42a8",
   "metadata": {},
   "outputs": [
    {
     "data": {
      "text/plain": [
       "a    1\n",
       "b    2\n",
       "c    3\n",
       "dtype: int64"
      ]
     },
     "execution_count": 17,
     "metadata": {},
     "output_type": "execute_result"
    }
   ],
   "source": [
    "# Series index를 속성처럼 활용하기\n",
    "# label 값이 공백 없는 문자열인 경우\n",
    "# index label이 속성인것처럼 마침표(.)를 활용하여 해당 index 값에 접근\n",
    "\n",
    "d = {'a': 1, 'b':2, 'c':3}\n",
    "ser = pd.Series(data=d, index=['a', 'b', 'c'])\n",
    "ser"
   ]
  },
  {
   "cell_type": "code",
   "execution_count": 18,
   "id": "cad4008e-6419-4980-8a31-f0e9fec85ec9",
   "metadata": {},
   "outputs": [
    {
     "data": {
      "text/plain": [
       "(1, 2, 3)"
      ]
     },
     "execution_count": 18,
     "metadata": {},
     "output_type": "execute_result"
    }
   ],
   "source": [
    "ser.a, ser.b, ser.c"
   ]
  },
  {
   "cell_type": "code",
   "execution_count": 19,
   "id": "948f8566-f351-4a5a-a6a8-2ca2c6c4701f",
   "metadata": {},
   "outputs": [],
   "source": [
    "# Series 객체는 index label을 키(key)로 사용하므로 딕셔너리 자료형과 비슷한 특징을 가짐\n",
    "# in 연산 사용 가능\n",
    "# items() 메서드를 사용해서 for문 루프를 돌려 각 요소의 키(key)와 값(value)에 접근 가능"
   ]
  },
  {
   "cell_type": "code",
   "execution_count": 20,
   "id": "1df46f66-c43f-4744-b989-217bd25f43e0",
   "metadata": {},
   "outputs": [
    {
     "data": {
      "text/plain": [
       "True"
      ]
     },
     "execution_count": 20,
     "metadata": {},
     "output_type": "execute_result"
    }
   ],
   "source": [
    "\"서울\" in s # 인덱스 레이블 중에 서울이 있는가"
   ]
  },
  {
   "cell_type": "code",
   "execution_count": 21,
   "id": "48ec2f4e-f77f-40b9-8f67-620f82a458b1",
   "metadata": {},
   "outputs": [
    {
     "data": {
      "text/plain": [
       "False"
      ]
     },
     "execution_count": 21,
     "metadata": {},
     "output_type": "execute_result"
    }
   ],
   "source": [
    "\"대전\" in s # 인덱스 레이블 중에 대전이 있는가"
   ]
  },
  {
   "cell_type": "code",
   "execution_count": 22,
   "id": "4ff677bf-55be-4cc2-a3ca-f307037438aa",
   "metadata": {},
   "outputs": [
    {
     "data": {
      "text/plain": [
       "True"
      ]
     },
     "execution_count": 22,
     "metadata": {},
     "output_type": "execute_result"
    }
   ],
   "source": [
    "9904312 in s.values"
   ]
  },
  {
   "cell_type": "code",
   "execution_count": 23,
   "id": "63946893-3adc-476e-ae27-df86717c4140",
   "metadata": {},
   "outputs": [
    {
     "name": "stdout",
     "output_type": "stream",
     "text": [
      "서울, 9904312\n",
      "부산, 3448737\n",
      "인천, 2890451\n",
      "대구, 2466052\n"
     ]
    }
   ],
   "source": [
    "for k, v in s.items():\n",
    "    print(f\"{k}, {v}\")"
   ]
  },
  {
   "cell_type": "code",
   "execution_count": 26,
   "id": "056e5596-d380-4230-9b23-daeb380f8fce",
   "metadata": {},
   "outputs": [
    {
     "name": "stdout",
     "output_type": "stream",
     "text": [
      "서울의 인구는 300만이 넘습니다.\n",
      "부산의 인구는 300만이 넘습니다.\n"
     ]
    }
   ],
   "source": [
    "# 도시의 인구가 300만이 넘는 곳을 찾아 다음과 같이 출력\n",
    "\n",
    "for i, v in s.items():\n",
    "    if v > 3_000_000:\n",
    "        print(f\"{i}의 인구는 300만이 넘습니다.\")"
   ]
  }
 ],
 "metadata": {
  "kernelspec": {
   "display_name": "Python 3 (ipykernel)",
   "language": "python",
   "name": "python3"
  },
  "language_info": {
   "codemirror_mode": {
    "name": "ipython",
    "version": 3
   },
   "file_extension": ".py",
   "mimetype": "text/x-python",
   "name": "python",
   "nbconvert_exporter": "python",
   "pygments_lexer": "ipython3",
   "version": "3.9.13"
  }
 },
 "nbformat": 4,
 "nbformat_minor": 5
}
