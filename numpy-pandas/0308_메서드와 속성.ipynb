{
 "cells": [
  {
   "cell_type": "code",
   "execution_count": 23,
   "id": "cd28528a-7aef-4683-8250-01f764a076ab",
   "metadata": {},
   "outputs": [],
   "source": [
    "# 메서드: 코드를 실행, 소괄호() 뒤에 붙임\n",
    "# 속성: 객체 자체가 가지고 있는 값, 소괄호() 없이 사용"
   ]
  },
  {
   "cell_type": "code",
   "execution_count": 17,
   "id": "76679e8c-7cc4-4d71-b4c0-d97fce6f9fa5",
   "metadata": {},
   "outputs": [],
   "source": [
    "class NBATeam:\n",
    "    def __init__(self, name, team):\n",
    "        self.name = name\n",
    "        self.team = team\n",
    "        self.position = ''\n",
    "        self.birthday = ''\n",
    "        self.salary = 0\n",
    "        \n",
    "    def information(self):\n",
    "        print(f\"{self.name}의 팀은 {self.team}입니다.\")\n",
    "    "
   ]
  },
  {
   "cell_type": "code",
   "execution_count": 18,
   "id": "25194df4-3b91-46e0-b6d9-840f5a5d4525",
   "metadata": {},
   "outputs": [],
   "source": [
    "nba_team = NBATeam('Micheal', 'Chicago')"
   ]
  },
  {
   "cell_type": "code",
   "execution_count": 19,
   "id": "04d72a4a-a01c-4716-aa5c-e5f2137ac45f",
   "metadata": {},
   "outputs": [],
   "source": [
    "nba_team.name = 'A'"
   ]
  },
  {
   "cell_type": "code",
   "execution_count": 20,
   "id": "ad03d449-b018-4408-a7b2-be54c4fc588c",
   "metadata": {},
   "outputs": [],
   "source": [
    "nba_team.team = 'Super Team'"
   ]
  },
  {
   "cell_type": "code",
   "execution_count": 22,
   "id": "eb92f154-db46-4698-8d39-594a6a3d48fc",
   "metadata": {},
   "outputs": [
    {
     "name": "stdout",
     "output_type": "stream",
     "text": [
      "A의 팀은 Super Team입니다.\n"
     ]
    }
   ],
   "source": [
    "nba_team.information()"
   ]
  }
 ],
 "metadata": {
  "kernelspec": {
   "display_name": "Python 3 (ipykernel)",
   "language": "python",
   "name": "python3"
  },
  "language_info": {
   "codemirror_mode": {
    "name": "ipython",
    "version": 3
   },
   "file_extension": ".py",
   "mimetype": "text/x-python",
   "name": "python",
   "nbconvert_exporter": "python",
   "pygments_lexer": "ipython3",
   "version": "3.9.13"
  }
 },
 "nbformat": 4,
 "nbformat_minor": 5
}
