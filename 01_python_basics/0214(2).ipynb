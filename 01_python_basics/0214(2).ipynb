{
 "cells": [
  {
   "cell_type": "code",
   "execution_count": 2,
   "id": "f3e32205-da26-495c-a4bb-2210dc6fbba8",
   "metadata": {},
   "outputs": [
    {
     "name": "stdin",
     "output_type": "stream",
     "text": [
      "국어, 영어, 수학, 과학, 점수를 입력해주세요 98,100,96,100\n"
     ]
    },
    {
     "name": "stdout",
     "output_type": "stream",
     "text": [
      "평균 점수는 98.5 점입니다.\n"
     ]
    }
   ],
   "source": [
    "kor, eng, mat, sci = map(int, input(\"국어, 영어, 수학, 과학, 점수를 입력해주세요\").split(\",\"))\n",
    "avg = (kor+eng+mat+sci)/4\n",
    "print(\"평균 점수는\", avg, \"점입니다.\")"
   ]
  },
  {
   "cell_type": "code",
   "execution_count": 3,
   "id": "639ce34f-ce96-435a-be54-c06dda1c5fa8",
   "metadata": {},
   "outputs": [
    {
     "name": "stdin",
     "output_type": "stream",
     "text": [
      "국어, 영어, 수학, 과학 점수를 입력해주세요. 98,100,96,100\n"
     ]
    }
   ],
   "source": [
    "some_str = input(\"국어, 영어, 수학, 과학 점수를 입력해주세요.\")"
   ]
  },
  {
   "cell_type": "code",
   "execution_count": 4,
   "id": "2954d5a6-b106-4189-81cb-9511a26e8950",
   "metadata": {},
   "outputs": [
    {
     "data": {
      "text/plain": [
       "'98,100,96,100'"
      ]
     },
     "execution_count": 4,
     "metadata": {},
     "output_type": "execute_result"
    }
   ],
   "source": [
    "some_str"
   ]
  },
  {
   "cell_type": "code",
   "execution_count": 5,
   "id": "c25a685f-b00e-4f68-ba0a-c8414fe2e76a",
   "metadata": {},
   "outputs": [
    {
     "data": {
      "text/plain": [
       "str"
      ]
     },
     "execution_count": 5,
     "metadata": {},
     "output_type": "execute_result"
    }
   ],
   "source": [
    "type(some_str)"
   ]
  },
  {
   "cell_type": "code",
   "execution_count": 8,
   "id": "704ff54a-3a06-4385-b29b-c9b4af9ea9fd",
   "metadata": {},
   "outputs": [],
   "source": [
    "some_list = some_str.split(\",\")"
   ]
  },
  {
   "cell_type": "code",
   "execution_count": 9,
   "id": "d86a940c-20c1-42b2-b814-f7cfcf52df78",
   "metadata": {},
   "outputs": [
    {
     "data": {
      "text/plain": [
       "list"
      ]
     },
     "execution_count": 9,
     "metadata": {},
     "output_type": "execute_result"
    }
   ],
   "source": [
    "type(some_list)"
   ]
  },
  {
   "cell_type": "code",
   "execution_count": 10,
   "id": "f3512218-68c3-4e26-b013-fedc25a01b3a",
   "metadata": {},
   "outputs": [
    {
     "data": {
      "text/plain": [
       "['98', '100', '96', '100']"
      ]
     },
     "execution_count": 10,
     "metadata": {},
     "output_type": "execute_result"
    }
   ],
   "source": [
    "some_list"
   ]
  },
  {
   "cell_type": "code",
   "execution_count": 12,
   "id": "caf6fece-9f13-4d9b-b1e6-25d93327a728",
   "metadata": {},
   "outputs": [
    {
     "data": {
      "text/plain": [
       "str"
      ]
     },
     "execution_count": 12,
     "metadata": {},
     "output_type": "execute_result"
    }
   ],
   "source": [
    "type(some_list[0])"
   ]
  },
  {
   "cell_type": "code",
   "execution_count": 13,
   "id": "ab5dec60-f936-494f-be28-3d1c1cd36b66",
   "metadata": {},
   "outputs": [
    {
     "data": {
      "text/plain": [
       "'9810096100'"
      ]
     },
     "execution_count": 13,
     "metadata": {},
     "output_type": "execute_result"
    }
   ],
   "source": [
    "some_list[0]+some_list[1]+some_list[2]+some_list[3]\n",
    "# extend()"
   ]
  },
  {
   "cell_type": "code",
   "execution_count": 22,
   "id": "f095bc66-c804-440a-a0cb-3ce396395e1a",
   "metadata": {},
   "outputs": [],
   "source": [
    "some_map = map(int, some_list)"
   ]
  },
  {
   "cell_type": "code",
   "execution_count": 23,
   "id": "370c9256-0d67-41df-8adf-5493a37a7f2b",
   "metadata": {},
   "outputs": [
    {
     "data": {
      "text/plain": [
       "map"
      ]
     },
     "execution_count": 23,
     "metadata": {},
     "output_type": "execute_result"
    }
   ],
   "source": [
    "type(some_map)\n",
    "# iterable (반복 가능함)"
   ]
  },
  {
   "cell_type": "code",
   "execution_count": 24,
   "id": "b0d37244-4696-434d-944c-781d7bc62541",
   "metadata": {},
   "outputs": [],
   "source": [
    "result_list = list(some_map)"
   ]
  },
  {
   "cell_type": "code",
   "execution_count": 25,
   "id": "6e2327fa-ede7-4e23-b1d8-60a152ffa4d5",
   "metadata": {},
   "outputs": [],
   "source": [
    "kor, eng, mat, sci = result_list"
   ]
  },
  {
   "cell_type": "code",
   "execution_count": 28,
   "id": "9c8b1de4-e629-444f-a663-b3532edc6749",
   "metadata": {},
   "outputs": [],
   "source": [
    "avg = (kor+eng+mat+sci)/len(result_list)"
   ]
  },
  {
   "cell_type": "code",
   "execution_count": 29,
   "id": "7cb7c2f0-1da8-474a-a289-518e13f796d4",
   "metadata": {},
   "outputs": [
    {
     "name": "stdout",
     "output_type": "stream",
     "text": [
      "98.5\n"
     ]
    }
   ],
   "source": [
    "print(avg)"
   ]
  }
 ],
 "metadata": {
  "kernelspec": {
   "display_name": "Python 3 (ipykernel)",
   "language": "python",
   "name": "python3"
  },
  "language_info": {
   "codemirror_mode": {
    "name": "ipython",
    "version": 3
   },
   "file_extension": ".py",
   "mimetype": "text/x-python",
   "name": "python",
   "nbconvert_exporter": "python",
   "pygments_lexer": "ipython3",
   "version": "3.9.13"
  }
 },
 "nbformat": 4,
 "nbformat_minor": 5
}
