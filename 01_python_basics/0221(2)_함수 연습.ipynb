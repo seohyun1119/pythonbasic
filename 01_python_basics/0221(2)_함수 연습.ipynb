{
 "cells": [
  {
   "cell_type": "code",
   "execution_count": 9,
   "id": "46b7b5a8-49c1-4137-b2c8-f0fc0a979ce0",
   "metadata": {},
   "outputs": [],
   "source": [
    "# 입력받은 정수를 10씩 더해서 반환하는 함수\n",
    "\n",
    "def plus_ten(num):\n",
    "    \"\"\"입력받은 정수를 10씩 더해서 반환하는 함수입니다.\"\"\"\n",
    "    return num+10    # return과 print는 다름, print는 반환값이 없음"
   ]
  },
  {
   "cell_type": "code",
   "execution_count": 8,
   "id": "45ecff50-ae7d-47fd-9e60-cbc1cea299b4",
   "metadata": {},
   "outputs": [
    {
     "name": "stdout",
     "output_type": "stream",
     "text": [
      "80\n"
     ]
    }
   ],
   "source": [
    "print(plus_ten(70))"
   ]
  },
  {
   "cell_type": "code",
   "execution_count": 3,
   "id": "28b9f9cc-4d44-43fa-b470-c527c36e37fe",
   "metadata": {},
   "outputs": [
    {
     "name": "stdout",
     "output_type": "stream",
     "text": [
      "21.11111111111111\n"
     ]
    }
   ],
   "source": [
    "# 화씨 온도를 섭씨 온도로 변경하는 함수\n",
    "\n",
    "def to_celsius(fahrenheit):\n",
    "    \"\"\"화씨 온도를 섭씨 온도로 변경하는 함수입니다.\"\"\"\n",
    "    return (fahrenheit-32)*(5/9)\n",
    "\n",
    "print(to_celsius(70))"
   ]
  },
  {
   "cell_type": "code",
   "execution_count": 22,
   "id": "99763e6e-4956-4e0e-8cc0-88ccd8cc5923",
   "metadata": {},
   "outputs": [
    {
     "name": "stdout",
     "output_type": "stream",
     "text": [
      "number가 짝수면 \"짝수\", 홀수면 \"홀수\" 반환\n",
      "짝수\n",
      "홀수\n",
      "None\n"
     ]
    }
   ],
   "source": [
    "# number가 짝수면 \"짝수\", 홀수면 \"홀수\" 반환하는 함수\n",
    "\n",
    "def odd_even(num):\n",
    "    \"\"\"number가 짝수면 \"짝수\", 홀수면 \"홀수\" 반환\"\"\"\n",
    "    if type(num) != int:\n",
    "        return None      # return -> None\n",
    "    elif num<=0:\n",
    "        return None\n",
    "    elif num%2 == 0:  \n",
    "        return \"짝수\"    # return 값 -> 값 자체를 함수 호출한 곳으로 가져간다.\n",
    "    elif num%2 != 0:\n",
    "        return \"홀수\"\n",
    "    \n",
    "print(odd_even.__doc__)\n",
    "print(odd_even(10))\n",
    "print(odd_even(9))\n",
    "print(odd_even(\"가\"))"
   ]
  },
  {
   "cell_type": "code",
   "execution_count": 24,
   "id": "cd46386c-faaa-472c-b182-d0c380d55af8",
   "metadata": {},
   "outputs": [
    {
     "name": "stdout",
     "output_type": "stream",
     "text": [
      "number가 짝수면 \"짝수\", 홀수면 \"홀수\" 반환\n",
      "짝수\n",
      "홀수\n",
      "None\n"
     ]
    }
   ],
   "source": [
    "# 강사님 풀이\n",
    "\n",
    "def odd_even(num):\n",
    "    \"\"\"number가 짝수면 \"짝수\", 홀수면 \"홀수\" 반환\"\"\"\n",
    "    if type(num) is int and num>0:\n",
    "        return \"짝수\" * (num%2 == 0) or \"홀수\"    # num%2 == 0 => True == 1, False == 0\n",
    "    else:\n",
    "        return\n",
    "    \n",
    "print(odd_even.__doc__)\n",
    "print(odd_even(10))\n",
    "print(odd_even(9))\n",
    "print(odd_even(\"가\"))"
   ]
  },
  {
   "cell_type": "code",
   "execution_count": 36,
   "id": "d24fa937-4b22-4c33-992f-af7c80be3c6c",
   "metadata": {},
   "outputs": [
    {
     "name": "stdin",
     "output_type": "stream",
     "text": [
      "숫자를 입력하세요. 7.6\n"
     ]
    },
    {
     "name": "stdout",
     "output_type": "stream",
     "text": [
      "None\n"
     ]
    }
   ],
   "source": [
    "# .isdecimal()\n",
    "\n",
    "number = input(\"숫자를 입력하세요.\")\n",
    "\n",
    "def to_int(number):\n",
    "    if number.isdecimal():\n",
    "        return int(number)\n",
    "    return\n",
    "\n",
    "print(to_int(number))"
   ]
  },
  {
   "cell_type": "code",
   "execution_count": 51,
   "id": "6f8e8d3d-7a6b-4b86-a24f-d6a5fcc01c3c",
   "metadata": {},
   "outputs": [
    {
     "name": "stdout",
     "output_type": "stream",
     "text": [
      "윤년\n",
      "윤년\n",
      "평년\n"
     ]
    }
   ],
   "source": [
    "# 윤년과 평년을 구분하는 함수\n",
    "\n",
    "def check_leap_year(year):\n",
    "    \"\"\"윤년과 평년을 구분하는 함수입니다.\"\"\"\n",
    "    if year%4 == 0 and (year%100 != 0 or year%400 == 0):\n",
    "        return \"윤년\"\n",
    "    else:\n",
    "        return \"평년\"\n",
    "    \n",
    "print(check_leap_year(2004))\n",
    "print(check_leap_year(2000))\n",
    "print(check_leap_year(1900))"
   ]
  },
  {
   "cell_type": "code",
   "execution_count": 52,
   "id": "235b1736-c1ca-47f7-baba-e39a9c6d3518",
   "metadata": {},
   "outputs": [
    {
     "name": "stdout",
     "output_type": "stream",
     "text": [
      "윤년\n",
      "윤년\n",
      "평년\n"
     ]
    }
   ],
   "source": [
    "# 한 줄로 표현하기\n",
    "\n",
    "def leap_year(year):\n",
    "    return '평년'*(year%4!=0 or (year%100==0 and year%400!=0)) or '윤년'\n",
    "\n",
    "print(check_leap_year(2004))\n",
    "print(check_leap_year(2000))\n",
    "print(check_leap_year(1900))"
   ]
  },
  {
   "cell_type": "code",
   "execution_count": 55,
   "id": "0f0ed722-2497-462f-b14a-1ec1230a3a73",
   "metadata": {},
   "outputs": [
    {
     "name": "stdout",
     "output_type": "stream",
     "text": [
      "30\n",
      "28\n",
      "31\n"
     ]
    }
   ],
   "source": [
    "# 월을 나타내는 숫자를 인수로 전달하면 그 달의 날짜 개수를 반환하는 함수\n",
    "\n",
    "def days(days):\n",
    "    \"\"\"해당 달의 날짜 개수를 반환하는 함수입니다.\"\"\"\n",
    "    if days in (1, 3, 5, 7, 8, 10, 12):\n",
    "        return 31\n",
    "    elif days in (4, 6, 9, 11):\n",
    "        return 30\n",
    "    elif days == 2:\n",
    "        return 28\n",
    "\n",
    "print(days(11))\n",
    "print(days(2))\n",
    "print(days(1))"
   ]
  },
  {
   "cell_type": "code",
   "execution_count": 3,
   "id": "1a25825f-7572-4ab6-955d-091a014ef049",
   "metadata": {},
   "outputs": [
    {
     "name": "stdout",
     "output_type": "stream",
     "text": [
      "30\n",
      "28\n",
      "31\n"
     ]
    }
   ],
   "source": [
    "# 간단하게 코드 짜보기\n",
    "\n",
    "def days(m):\n",
    "    d30 = [4, 6, 9, 11]\n",
    "    if m==2:\n",
    "        return 28\n",
    "    elif m in d30:\n",
    "        return 30\n",
    "    return 31\n",
    "\n",
    "print(days(11))\n",
    "print(days(2))\n",
    "print(days(1))"
   ]
  },
  {
   "cell_type": "code",
   "execution_count": 9,
   "id": "1f34c726-b9a5-4ea4-88eb-eb93b3741565",
   "metadata": {},
   "outputs": [
    {
     "name": "stdout",
     "output_type": "stream",
     "text": [
      "30\n",
      "31\n",
      "28\n",
      "29\n"
     ]
    }
   ],
   "source": [
    "# 연도를 나타내는 숫자와 월을 나타내는 숫자를 인수 값으로 각각 전달\n",
    "# 그 달의 날짜 개수를 반환하는 함수\n",
    "\n",
    "def days(year,month):\n",
    "    \"\"\"해당 달의 날짜 개수를 반환하는 함수입니다.\"\"\"\n",
    "    if month in (1, 3, 5, 7, 8, 10, 12):\n",
    "        return 31\n",
    "    elif month  in (4, 6, 9, 11):\n",
    "        return 30\n",
    "    elif year%4 == 0 and (year%100 != 0 or year%400 == 0) and month == 2:\n",
    "        return 29\n",
    "    else:\n",
    "        return 28\n",
    "    \n",
    "print(days(1900, 11))\n",
    "print(days(2004, 10))\n",
    "print(days(1900, 2))\n",
    "print(days(2000, 2))"
   ]
  },
  {
   "cell_type": "code",
   "execution_count": 12,
   "id": "0ac69d6a-e71c-4741-9de3-a311a7d13862",
   "metadata": {},
   "outputs": [
    {
     "name": "stdout",
     "output_type": "stream",
     "text": [
      "30\n",
      "31\n",
      "28\n",
      "29\n"
     ]
    }
   ],
   "source": [
    "# 다른 풀이\n",
    "\n",
    "def days(y, m):\n",
    "    d30 = [4, 6, 9, 11]\n",
    "    if m==2:\n",
    "        return 28*(y%4!=0 or (y%100==0 and y%400!=0)) or 29\n",
    "    elif m in d30:\n",
    "        return 30\n",
    "    return 31\n",
    "\n",
    "print(days(1900, 11))\n",
    "print(days(2004, 10))\n",
    "print(days(1900, 2))\n",
    "print(days(2000, 2))"
   ]
  }
 ],
 "metadata": {
  "kernelspec": {
   "display_name": "Python 3 (ipykernel)",
   "language": "python",
   "name": "python3"
  },
  "language_info": {
   "codemirror_mode": {
    "name": "ipython",
    "version": 3
   },
   "file_extension": ".py",
   "mimetype": "text/x-python",
   "name": "python",
   "nbconvert_exporter": "python",
   "pygments_lexer": "ipython3",
   "version": "3.9.13"
  }
 },
 "nbformat": 4,
 "nbformat_minor": 5
}
