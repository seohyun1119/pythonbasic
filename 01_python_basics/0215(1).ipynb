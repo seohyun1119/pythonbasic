{
 "cells": [
  {
   "cell_type": "code",
   "execution_count": 4,
   "id": "bebb80b6-634e-4b12-820b-c2d97138010e",
   "metadata": {},
   "outputs": [
    {
     "name": "stdout",
     "output_type": "stream",
     "text": [
      "value 1 1.1 [1, 2, 'text']\n"
     ]
    }
   ],
   "source": [
    "# 여러 값을 동시에 출력하는 방법\n",
    "# print() 함수의 인수 값을 여러 개 넣기\n",
    "# 함수의 구분자는 콤마(,)\n",
    "# 값과 값 사이를 구분하는 단위는 기본적으로 공백()으로 되어있음\n",
    "\n",
    "print(\"value\", 1, 1.1, [1, 2, 'text'])"
   ]
  },
  {
   "cell_type": "code",
   "execution_count": 9,
   "id": "7ad0286c-a66b-45e4-bf67-3ce07d579cb5",
   "metadata": {},
   "outputs": [
    {
     "name": "stdout",
     "output_type": "stream",
     "text": [
      "value, 1, 1.1, [1, 2, 'text']\n"
     ]
    }
   ],
   "source": [
    "# 값과 값을 구분하는 단위 변경하기\n",
    "# 맨 마지막에 \"sep = 구분 기호\"\n",
    "\n",
    "print(\"value\", 1, 1.1, [1, 2, 'text'], sep = \", \")"
   ]
  },
  {
   "cell_type": "code",
   "execution_count": 14,
   "id": "a323a212-b840-43be-ad93-36924787523d",
   "metadata": {},
   "outputs": [
    {
     "name": "stdout",
     "output_type": "stream",
     "text": [
      "줄이 바뀌지 않습니다. 그 이유는 end = \"\\n\"과 같이 기본 설정된 값을 빈 스트링으로 변경했기 때문입니다.\n",
      "sep, end는 맨 뒤에 써야하며 둘 간 순서는 상관없습니다. 어떻게 사용하는지\n",
      "이해가 되시나요?"
     ]
    }
   ],
   "source": [
    "# print() 함수를 여러 차례 사용했을 때, 출력 결과가 각 print() 함수마다 줄바꿈이 되어 있음\n",
    "# 맨 마지막에 \"end = 문자열\"\n",
    "# sep와 end는 순서 상관없음\n",
    "\n",
    "print(\"줄이 바뀌지 않습니다.\", end = \" \")\n",
    "print(\"그 이유는 end = \\\"\\\\n\\\"과 같이 기본 설정된 값을 빈 스트링으로 변경했기 때문입니다.\")\n",
    "print(\"sep\", \"end는 맨 뒤에 써야하며 둘 간 순서는 상관없습니다.\", sep = \", \", end = \" \")\n",
    "print(\"어떻게 사용하는지\", \"이해가 되시나요\", sep = \"\\n\", end = \"?\")"
   ]
  },
  {
   "cell_type": "code",
   "execution_count": 15,
   "id": "e4c919c9-2e8c-4c76-9022-c334dc686512",
   "metadata": {},
   "outputs": [
    {
     "name": "stdout",
     "output_type": "stream",
     "text": [
      "2021/02/03 18:33:23\n"
     ]
    }
   ],
   "source": [
    "year = \"2021\"\n",
    "month = \"02\"\n",
    "day = \"03\"\n",
    "hour = \"18\"\n",
    "minute = \"33\"\n",
    "second = \"23\"\n",
    "\n",
    "print(year, month, day, sep = \"/\", end = \" \")\n",
    "print(hour, minute, second, sep = \":\")"
   ]
  },
  {
   "cell_type": "code",
   "execution_count": 20,
   "id": "d7195b18-4243-46b1-b309-8a623fd8f118",
   "metadata": {},
   "outputs": [
    {
     "name": "stdin",
     "output_type": "stream",
     "text": [
      "사과와 귤을 몇 개 드릴까요? 10,20\n"
     ]
    },
    {
     "name": "stdout",
     "output_type": "stream",
     "text": [
      "\n",
      "총 가격은 14000원입니다.\n"
     ]
    }
   ],
   "source": [
    "fruit = input(\"사과와 귤을 몇 개 드릴까요?\")\n",
    "fruit = fruit.split(\",\")\n",
    "fruit = list(map(int, fruit))\n",
    "cost = fruit[0]*1000+fruit[1]*200\n",
    "\n",
    "print(\"\\n총 가격은 \", cost, \"원입니다.\", sep = \"\")"
   ]
  },
  {
   "cell_type": "code",
   "execution_count": 23,
   "id": "10b897df-68c7-47aa-bed4-d4e08891a9e5",
   "metadata": {},
   "outputs": [
    {
     "name": "stdin",
     "output_type": "stream",
     "text": [
      "사과와 귤을 몇개 드릴까요? 10,20\n"
     ]
    },
    {
     "name": "stdout",
     "output_type": "stream",
     "text": [
      "총 가격은 14000원입니다.\n"
     ]
    }
   ],
   "source": [
    "apple_price = 1000\n",
    "tangerine_price = 200\n",
    "apple, tangerine = map(int, input(\"사과와 귤을 몇개 드릴까요?\").split(\",\"))\n",
    "                       \n",
    "total_price = apple_price*apple+tangerine_price*tangerine\n",
    "                       \n",
    "print(\"총 가격은 \", total_price, \"원입니다.\", sep = \"\")"
   ]
  },
  {
   "cell_type": "code",
   "execution_count": 28,
   "id": "ab44a886-1f86-4ebc-b3b1-29d7a1ab7d89",
   "metadata": {},
   "outputs": [
    {
     "name": "stdout",
     "output_type": "stream",
     "text": [
      "10\n",
      "10 20 30\n",
      "101 202 303 404 505\n"
     ]
    }
   ],
   "source": [
    "# 문자열의 format() 메서드\n",
    "# 문자열에 중괄호({})를 넣고 문자열 뒤에 마침표(.)를 찍고 format(값1, 값2, ...)을 적음\n",
    "\n",
    "print(\"{}\".format(10))\n",
    "print(\"{} {} {}\".format(10, 20, 30))\n",
    "print(\"{} {} {} {} {}\".format(101, 202, 303, 404, 505))"
   ]
  },
  {
   "cell_type": "code",
   "execution_count": 33,
   "id": "afec3615-bcaa-421a-bef1-42c27012a9ff",
   "metadata": {},
   "outputs": [
    {
     "name": "stdout",
     "output_type": "stream",
     "text": [
      "오늘의 날짜를 알려드립니다!\n",
      "2023년 2월 15일입니다.\n"
     ]
    }
   ],
   "source": [
    "import time\n",
    "\n",
    "today = \"\"\"오늘의 날짜를 알려드립니다!\n",
    "{}년 {}월 {}일입니다.\\\n",
    "\"\"\".format(time.localtime().tm_year,\n",
    "           time.localtime().tm_mon,\n",
    "           time.localtime().tm_mday)\n",
    "\n",
    "print(today)"
   ]
  },
  {
   "cell_type": "code",
   "execution_count": 36,
   "id": "a55eb8d4-5176-4917-8680-0bfbc9008280",
   "metadata": {},
   "outputs": [
    {
     "name": "stdout",
     "output_type": "stream",
     "text": [
      "중괄호는 2개이고, 여기 인수는\n"
     ]
    }
   ],
   "source": [
    "# 중괄호 개수보다 format 메서드의 인수가 많으면\n",
    "# 초과되는 format 메서드의 인수는 버려집니다.\n",
    "# 중괄호 개수보다 format 메서드의 인수가 적으면 Indexerror가 발생됨 \n",
    "\n",
    "some_str = \"중괄호는 2개이고, {} {}\".format(\"여기\", \"인수는\", \"3개입니다.\")\n",
    "print(some_str)"
   ]
  },
  {
   "cell_type": "code",
   "execution_count": 42,
   "id": "63805eb6-e343-4c30-bad2-8763d152ef98",
   "metadata": {},
   "outputs": [
    {
     "name": "stdout",
     "output_type": "stream",
     "text": [
      "10\n",
      "10 20 30\n",
      "101 202 303 404 505\n"
     ]
    }
   ],
   "source": [
    "# 문자열의 f-string\n",
    "# 문자열 앞에 f 알파벳을 붙이고 중괄호 안에 리터러 값 혹은 변수를 넣음\n",
    "\n",
    "print(f\"{10}\")\n",
    "print(f\"{10} {20} {30}\")\n",
    "print(f\"{101} {202} {303} {404} {505}\")"
   ]
  },
  {
   "cell_type": "code",
   "execution_count": 44,
   "id": "75ab3561-d9db-40eb-b9e7-ccab90af69b2",
   "metadata": {},
   "outputs": [
    {
     "name": "stdout",
     "output_type": "stream",
     "text": [
      "오늘의 날짜를 알려드립니다!\n",
      "2023년 2월 15일입니다.\n"
     ]
    }
   ],
   "source": [
    "import time\n",
    "\n",
    "today = f\"\"\"오늘의 날짜를 알려드립니다!\n",
    "{time.localtime().tm_year}년 {time.localtime().tm_mon}월 {time.localtime().tm_mday}일입니다.\\\n",
    "\"\"\"\n",
    "\n",
    "print(today)"
   ]
  }
 ],
 "metadata": {
  "kernelspec": {
   "display_name": "Python 3 (ipykernel)",
   "language": "python",
   "name": "python3"
  },
  "language_info": {
   "codemirror_mode": {
    "name": "ipython",
    "version": 3
   },
   "file_extension": ".py",
   "mimetype": "text/x-python",
   "name": "python",
   "nbconvert_exporter": "python",
   "pygments_lexer": "ipython3",
   "version": "3.9.13"
  }
 },
 "nbformat": 4,
 "nbformat_minor": 5
}
