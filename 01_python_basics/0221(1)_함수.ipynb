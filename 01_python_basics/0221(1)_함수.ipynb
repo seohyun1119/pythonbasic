{
 "cells": [
  {
   "cell_type": "code",
   "execution_count": 1,
   "id": "18e82c5d-162c-4439-a3b5-525ae1ab780b",
   "metadata": {},
   "outputs": [
    {
     "name": "stdout",
     "output_type": "stream",
     "text": [
      "{75, 45, 15, 90, 60, 30}\n"
     ]
    }
   ],
   "source": [
    "set_3 = {i for i in range(1, 100+1) if i%3==0}    # 1~100 사이의 3의 공배수\n",
    "set_5 = {i for i in range(1, 100+1) if i%5==0}    # 1~100 사이의 5의 공배수\n",
    "result_set = set_3 & set_5    # 교집합\n",
    "print(result_set)"
   ]
  },
  {
   "cell_type": "code",
   "execution_count": 19,
   "id": "8785b85f-9c69-494c-8301-ff54d72f261d",
   "metadata": {},
   "outputs": [
    {
     "name": "stdout",
     "output_type": "stream",
     "text": [
      "개인정보 조회, 구매 관리, 근태 관리, 시스템 관리, 인사 관리, 회계 관리\n"
     ]
    }
   ],
   "source": [
    "role_admin = (\"회계 관리\", \"인사 관리\", \"구매 관리\", \"시스템 관리\")\n",
    "role_hr = (\"인사 관리\", \"개인정보 조회\", \"회계 관리\", \"근태 관리\")\n",
    "role_user = (\"개인정보 조회\", \"근태 관리\")\n",
    "\n",
    "result = role_admin + role_hr + role_user    # tuple 3개를 concatenate(+)\n",
    "result = list(set(result))                   # 중복을 제거한 set을 다시 list로 만들기\n",
    "print(\", \".join(sorted(result)))             # 오름차순으로 정렬"
   ]
  },
  {
   "cell_type": "code",
   "execution_count": 20,
   "id": "edad77c3-867c-411e-8b30-a2fe7a72733f",
   "metadata": {},
   "outputs": [
    {
     "name": "stdout",
     "output_type": "stream",
     "text": [
      "개인정보 조회, 구매 관리, 근태 관리, 시스템 관리, 인사 관리, 회계 관리"
     ]
    }
   ],
   "source": [
    "# 강사님 풀이\n",
    "\n",
    "role_admin = (\"회계 관리\", \"인사 관리\", \"구매 관리\", \"시스템 관리\")\n",
    "role_hr = (\"인사 관리\", \"개인정보 조회\", \"회계 관리\", \"근태 관리\")\n",
    "role_user = (\"개인정보 조회\", \"근태 관리\")\n",
    "\n",
    "menus = list(set(role_admin + role_hr + role_user))\n",
    "menus.sort()    \n",
    "end_char = \", \"\n",
    "for menu in menus:\n",
    "    if menus[-1] == menu:\n",
    "        end_char = \"\"\n",
    "    print(menu, end = end_char)\n",
    "    \n",
    "# sort와 sorted의 차이: \n",
    "# sort는 list를 변경하지만 반환값은 없음\n",
    "# sorted는 객체를 변경하지 않지만, 반환값이 있음"
   ]
  },
  {
   "cell_type": "code",
   "execution_count": 25,
   "id": "8726fc9c-ce7d-45a9-9b43-592fd4f7c78a",
   "metadata": {},
   "outputs": [],
   "source": [
    "# 함수(function)\n",
    "# 독립적으로 설계된 프로그램 코드의 집합\n",
    "# 함수를 사용하면 반복적인 코드의 양을 줄여 유지보수성을 높여줌\n",
    "# 인수: argument / 인자: parameter\n",
    "# 함수가 호출되면 함수 정의부로 가서 함수 호출부의 인수 값을 함수 정의부 인자 값에 순서대로 대입\n",
    "# 함수 정의부 내부 코드를 순차적으로 실행\n",
    "# 해당 함수에 return 값이 있는 경우, 함수 호출부를 return 값으로 치환함"
   ]
  },
  {
   "cell_type": "code",
   "execution_count": 26,
   "id": "faf2c49b-176d-4487-bc49-80fc71c0fb8d",
   "metadata": {},
   "outputs": [],
   "source": [
    "# 함수(function)\n",
    "# 코드의 중복을 줄일 수 있어서 유지보수에 좋음"
   ]
  },
  {
   "cell_type": "code",
   "execution_count": 28,
   "id": "f2b677c6-35b7-47f5-8a06-6b9f2679b28d",
   "metadata": {},
   "outputs": [],
   "source": [
    "# 함수(Function) vs. 메서드(Method)\n",
    "\n",
    "# 함수는 클래스에 포함되지 않은 채로 사용됨 \n",
    "# 함수명((인수1), (인수2), ...)\n",
    "\n",
    "# 메서드는 클래스에 포함되어 객체를 통해 호출됨\n",
    "# 객체.메서드명((인수1), (인수2), ...)"
   ]
  },
  {
   "cell_type": "code",
   "execution_count": 28,
   "id": "683c8258-3e91-4f90-9b18-3653a4abe4d5",
   "metadata": {},
   "outputs": [],
   "source": [
    "# 함수의 정의(def)\n",
    "\n",
    "# def 함수_이름(위치_인자, 위치_인자2, *가변_위치, 키워드_인자, 키워드_인자2, **가변_키워드):\n",
    "#    \"\"\"\n",
    "#    Doc String을 적는 곳입니다.\n",
    "    \n",
    "#    작성자: 장서현\n",
    "#    작성일자: 2023.02.21\n",
    "    \n",
    "#    \"\"\"\n",
    "#    함수의 바디\n",
    "#    함수의 바디\n",
    "\n",
    "#    return 반환값 (안 써도 됨): keyword 만나면 함수를 빠져나감"
   ]
  },
  {
   "cell_type": "code",
   "execution_count": 46,
   "id": "22e58872-6847-4e13-943f-8068d1fbf377",
   "metadata": {},
   "outputs": [],
   "source": [
    "def print_ten(some_str):\n",
    "    \"\"\"print(\"Hello\")를 열 번 출력합니다.\"\"\"\n",
    "    for _ in range(10):\n",
    "        print(some_str)"
   ]
  },
  {
   "cell_type": "code",
   "execution_count": 48,
   "id": "de12347b-0a6a-469a-aa9d-6e6cb792fa5d",
   "metadata": {},
   "outputs": [
    {
     "name": "stdout",
     "output_type": "stream",
     "text": [
      "Hello\n",
      "Hello\n",
      "Hello\n",
      "Hello\n",
      "Hello\n",
      "Hello\n",
      "Hello\n",
      "Hello\n",
      "Hello\n",
      "Hello\n"
     ]
    }
   ],
   "source": [
    "print_ten(\"Hello\")"
   ]
  },
  {
   "cell_type": "code",
   "execution_count": 49,
   "id": "0296463c-7de8-45a7-8fba-3fe0710a6504",
   "metadata": {},
   "outputs": [
    {
     "name": "stdout",
     "output_type": "stream",
     "text": [
      "print(\"Hello\")를 열 번 출력합니다.\n"
     ]
    }
   ],
   "source": [
    "print(print_ten.__doc__)"
   ]
  },
  {
   "cell_type": "code",
   "execution_count": 50,
   "id": "53145b99-6a57-448d-8335-b10807b807a1",
   "metadata": {},
   "outputs": [
    {
     "name": "stdout",
     "output_type": "stream",
     "text": [
      "print(value, ..., sep=' ', end='\\n', file=sys.stdout, flush=False)\n",
      "\n",
      "Prints the values to a stream, or to sys.stdout by default.\n",
      "Optional keyword arguments:\n",
      "file:  a file-like object (stream); defaults to the current sys.stdout.\n",
      "sep:   string inserted between values, default a space.\n",
      "end:   string appended after the last value, default a newline.\n",
      "flush: whether to forcibly flush the stream.\n"
     ]
    }
   ],
   "source": [
    "print(print.__doc__)"
   ]
  },
  {
   "cell_type": "code",
   "execution_count": 51,
   "id": "d3485283-9b1c-47c9-beb1-ca43633d66b4",
   "metadata": {},
   "outputs": [],
   "source": [
    "# 함수의 정의 - 인자(Parameter)\n",
    "# 함수(또는 메서드) 정의에서 함수가 받을 수 있는 변수\n",
    "# 함수인자 혹은 매개변수라고 부름\n",
    "# 인자는 함수 정의절에서 소괄호 안에 정의됨\n",
    "\n",
    "# 위치-키워드 (positional or keyword): 위치로 혹은 키워드로 전달될 수 있는 인자, 매개변수의 기본형태\n",
    "# 위치 전용 (positional-only): /문자를 기준으로 좌측에 위치한 인자\n",
    "# 키워드 전용 (keyword-only): *문자를 기준으로 우측에 위치한 인자\n",
    "# 가변 위치 (var positional): 추가적인 위치 매개변수 받을 수 있음, 변수명 앞에 * 표기\n",
    "# 가변 키워드 (var keyword): 추가적인 키워드 매개변수 받을 수 있음, 변수명 앞에 ** 표기"
   ]
  },
  {
   "cell_type": "code",
   "execution_count": 61,
   "id": "6cbbac15-3ea7-4fb6-a0a0-a10cab5869b4",
   "metadata": {},
   "outputs": [],
   "source": [
    "# Parameters는 함수 정의절에서 사용하는 이름\n",
    "# Arguments는 함수 호출할 때 함수에 전달하는 실제 값\n",
    "# Parameters는 어떤 종류의 Arguments를 받을지 정의함"
   ]
  },
  {
   "cell_type": "code",
   "execution_count": 66,
   "id": "58bf5ecd-a304-4e5e-8970-f9e0bb8c8b8d",
   "metadata": {},
   "outputs": [
    {
     "name": "stdout",
     "output_type": "stream",
     "text": [
      "파이썬 씨 안녕하세요. 약 8035.5일 되었습니다.\n"
     ]
    }
   ],
   "source": [
    "# positional parameters\n",
    "# 기본값이 없는 positional or keyword parameters는 인수(arguments) 전달이 필수!\n",
    "\n",
    "def greeting(name, age):    # 함수 정의절에 위치한 Parameters\n",
    "    print(f\"{name} 씨 안녕하세요. 약 {age*365.25}일 되었습니다.\")\n",
    "\n",
    "greeting(\"파이썬\", 22)    # 함수 호출부에 위치한 Arguments: : 위치 인수를 전달받아 처리하고 있음"
   ]
  },
  {
   "cell_type": "code",
   "execution_count": 67,
   "id": "b5960e14-89b5-451f-983f-b5073e67035a",
   "metadata": {},
   "outputs": [
    {
     "name": "stdout",
     "output_type": "stream",
     "text": [
      "파이썬 씨 안녕하세요. 약 8035.5일 되었습니다.\n"
     ]
    }
   ],
   "source": [
    "# keyword parameters\n",
    "\n",
    "def greeting(name, age):\n",
    "    print(f\"{name} 씨 안녕하세요. 약 {age*365.25}일 되었습니다.\")\n",
    "\n",
    "greeting(age = 22, name = \"파이썬\")    # 키워드 간에 위치는 중요하지 않다."
   ]
  },
  {
   "cell_type": "code",
   "execution_count": 71,
   "id": "af4a205c-032c-459c-833e-7cc7ccded81a",
   "metadata": {},
   "outputs": [
    {
     "name": "stdout",
     "output_type": "stream",
     "text": [
      "파이썬 씨 안녕하세요. 약 8035.5일 되었습니다.\n"
     ]
    }
   ],
   "source": [
    "# positional or keyword parameters\n",
    "# 위치 인수를 먼저 작성하고 키워드 인수를 나중에 작성한다.\n",
    "\n",
    "greeting(\"파이썬\", age = 22)"
   ]
  },
  {
   "cell_type": "code",
   "execution_count": 5,
   "id": "019c216a-39b6-4384-8dc4-25377c24bb94",
   "metadata": {},
   "outputs": [
    {
     "name": "stdout",
     "output_type": "stream",
     "text": [
      "파이썬 씨 안녕하세요. 약 8035.5일 되었습니다.\n"
     ]
    }
   ],
   "source": [
    "# 기본 값을 갖는 default parameter는 기본 값을 갖지 않는 non-default parameter보다 뒤에 작성\n",
    "# 기본값이 있는 인자는 인수 전달 생략 가능\n",
    "# 기본값 변경 가능\n",
    "\n",
    "def greeting(name, age = 22):\n",
    "    print(f\"{name} 씨 안녕하세요. 약 {age*365.25}일 되었습니다.\")\n",
    "    \n",
    "greeting(\"파이썬\")"
   ]
  },
  {
   "cell_type": "code",
   "execution_count": 7,
   "id": "6d1afd84-66c0-495a-bd13-eb141023878b",
   "metadata": {},
   "outputs": [
    {
     "name": "stdout",
     "output_type": "stream",
     "text": [
      "값만 입력해야 합니다.\n"
     ]
    }
   ],
   "source": [
    "# positional-only parameters\n",
    "\n",
    "def posonly(posonly, /):\n",
    "    print(posonly)\n",
    "    \n",
    "posonly(\"값만 입력해야 합니다.\")"
   ]
  },
  {
   "cell_type": "code",
   "execution_count": 10,
   "id": "4072f50c-b3f9-4efe-9c8d-6c312bd28292",
   "metadata": {},
   "outputs": [
    {
     "name": "stdout",
     "output_type": "stream",
     "text": [
      "default\n"
     ]
    }
   ],
   "source": [
    "# keyword-only parameters\n",
    "\n",
    "def keyonly(*, keyonly = \"default\"):    #  keyword-only parameters도 기본 값 설정 가능\n",
    "    print(keyonly)\n",
    "    \n",
    "keyonly()    # default값이 있는 parameter에 대해서는 argument를 생략해도 정상 동작함"
   ]
  },
  {
   "cell_type": "code",
   "execution_count": 19,
   "id": "f68ff62b-bf8e-4a20-930b-051e927b2c36",
   "metadata": {},
   "outputs": [
    {
     "name": "stdout",
     "output_type": "stream",
     "text": [
      "키워드로만 입력해야 합니다.\n"
     ]
    }
   ],
   "source": [
    "# keyword-only parameters\n",
    "\n",
    "def keyonly(*, keyonly):    # *를 인자로 위치시키면 그 오른편의 parameter는 keyword-only parameters가 됨\n",
    "    print(keyonly)\n",
    "    \n",
    "keyonly(keyonly = \"키워드로만 입력해야 합니다.\")"
   ]
  },
  {
   "cell_type": "code",
   "execution_count": 29,
   "id": "c20adb87-8938-4045-a855-6cf9a462f6c2",
   "metadata": {},
   "outputs": [
    {
     "name": "stdout",
     "output_type": "stream",
     "text": [
      "15\n"
     ]
    }
   ],
   "source": [
    "# var-positional parameters\n",
    "\n",
    "def var_positional(*args):    # 가변 변수로 사용할 변수 앞에 *를 하나 붙임\n",
    "    return sum([_ for _ in args])\n",
    "    \n",
    "print(var_positional(1, 2, 3, 4, 5))\n",
    "\n",
    "# 가변-위치 인자에 전달할 위치 인수들을 tuple로 packing한 뒤 전달함"
   ]
  },
  {
   "cell_type": "code",
   "execution_count": 30,
   "id": "d796919e-6b3e-4beb-99f8-43de4311881b",
   "metadata": {},
   "outputs": [
    {
     "name": "stdout",
     "output_type": "stream",
     "text": [
      "<class 'dict'>\n",
      "{'key': 'value', 'key2': 'value2'}\n"
     ]
    }
   ],
   "source": [
    "# var-keyword parameters\n",
    "\n",
    "def var_keyword(**kwargs):    # 가변 변수로 사용할 변수 앞에 **를 하나 붙임\n",
    "    print(type(kwargs))\n",
    "    return kwargs\n",
    "    \n",
    "print(var_keyword(key=\"value\", key2=\"value2\"))\n",
    "\n",
    "# 가변-키워드 인자에 전달할 키워드 인수들을 dict로 packing한 뒤 전달함\n",
    "# dict() 함수의 반환 결과와 같음"
   ]
  }
 ],
 "metadata": {
  "kernelspec": {
   "display_name": "Python 3 (ipykernel)",
   "language": "python",
   "name": "python3"
  },
  "language_info": {
   "codemirror_mode": {
    "name": "ipython",
    "version": 3
   },
   "file_extension": ".py",
   "mimetype": "text/x-python",
   "name": "python",
   "nbconvert_exporter": "python",
   "pygments_lexer": "ipython3",
   "version": "3.9.13"
  }
 },
 "nbformat": 4,
 "nbformat_minor": 5
}
