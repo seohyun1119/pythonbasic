{
 "cells": [
  {
   "cell_type": "code",
   "execution_count": 1,
   "id": "691f2a10-650a-4604-a591-9e0f2d4420b8",
   "metadata": {},
   "outputs": [],
   "source": [
    "import pandas as pd\n",
    "import numpy as np\n",
    "import seaborn as sns\n",
    "import matplotlib as mpl"
   ]
  },
  {
   "cell_type": "code",
   "execution_count": 2,
   "id": "8f9c8d62-bd96-4a3b-95fe-b75e90c977ac",
   "metadata": {},
   "outputs": [],
   "source": [
    "font_dir = ['C:/python/fonts']\n",
    "for font in mpl.font_manager.findSystemFonts(fontpaths=font_dir):\n",
    "    mpl.font_manager.fontManager.addfont(font)\n",
    "    # print(mpl.font_manager.FontProperties(fname=font).get_name())"
   ]
  },
  {
   "cell_type": "code",
   "execution_count": 3,
   "id": "967b5235-021d-4a77-bbaf-1f160ecc9594",
   "metadata": {},
   "outputs": [
    {
     "name": "stdout",
     "output_type": "stream",
     "text": [
      "['NanumBarunGothicOTF']\n"
     ]
    }
   ],
   "source": [
    "mpl.rcParams['font.family'] = 'NanumBarunGothicOTF'\n",
    "print(mpl.rcParams['font.family'])"
   ]
  },
  {
   "cell_type": "code",
   "execution_count": 4,
   "id": "7b69092d-867c-49b9-abb0-75d6e7b023bd",
   "metadata": {},
   "outputs": [],
   "source": [
    "mpl.rc('axes', unicode_minus=False)"
   ]
  },
  {
   "cell_type": "code",
   "execution_count": 5,
   "id": "75cabdb5-ed1a-4af4-a38b-154a98591696",
   "metadata": {},
   "outputs": [],
   "source": [
    "%matplotlib inline"
   ]
  },
  {
   "cell_type": "code",
   "execution_count": 6,
   "id": "db380e34-b043-4eeb-9141-286e50a804e0",
   "metadata": {},
   "outputs": [
    {
     "data": {
      "text/html": [
       "<div>\n",
       "<style scoped>\n",
       "    .dataframe tbody tr th:only-of-type {\n",
       "        vertical-align: middle;\n",
       "    }\n",
       "\n",
       "    .dataframe tbody tr th {\n",
       "        vertical-align: top;\n",
       "    }\n",
       "\n",
       "    .dataframe thead th {\n",
       "        text-align: right;\n",
       "    }\n",
       "</style>\n",
       "<table border=\"1\" class=\"dataframe\">\n",
       "  <thead>\n",
       "    <tr style=\"text-align: right;\">\n",
       "      <th></th>\n",
       "      <th>자치구</th>\n",
       "      <th>대여소명</th>\n",
       "      <th>기준년월</th>\n",
       "      <th>대여건수</th>\n",
       "      <th>반납건수</th>\n",
       "    </tr>\n",
       "  </thead>\n",
       "  <tbody>\n",
       "    <tr>\n",
       "      <th>0</th>\n",
       "      <td>강남구</td>\n",
       "      <td>2301. 현대고등학교 건너편</td>\n",
       "      <td>202207</td>\n",
       "      <td>2,170</td>\n",
       "      <td>2,183</td>\n",
       "    </tr>\n",
       "    <tr>\n",
       "      <th>1</th>\n",
       "      <td>강남구</td>\n",
       "      <td>2302. 교보타워 버스정류장(신논현역 3번출구 후면)</td>\n",
       "      <td>202207</td>\n",
       "      <td>1,140</td>\n",
       "      <td>1,143</td>\n",
       "    </tr>\n",
       "    <tr>\n",
       "      <th>2</th>\n",
       "      <td>강남구</td>\n",
       "      <td>2303. 논현역 10번출구</td>\n",
       "      <td>202207</td>\n",
       "      <td>1,329</td>\n",
       "      <td>1,196</td>\n",
       "    </tr>\n",
       "    <tr>\n",
       "      <th>3</th>\n",
       "      <td>강남구</td>\n",
       "      <td>2304. 대현그린타워</td>\n",
       "      <td>202207</td>\n",
       "      <td>288</td>\n",
       "      <td>104</td>\n",
       "    </tr>\n",
       "    <tr>\n",
       "      <th>4</th>\n",
       "      <td>강남구</td>\n",
       "      <td>2305. MCM 본사 직영점 앞</td>\n",
       "      <td>202207</td>\n",
       "      <td>334</td>\n",
       "      <td>342</td>\n",
       "    </tr>\n",
       "    <tr>\n",
       "      <th>...</th>\n",
       "      <td>...</td>\n",
       "      <td>...</td>\n",
       "      <td>...</td>\n",
       "      <td>...</td>\n",
       "      <td>...</td>\n",
       "    </tr>\n",
       "    <tr>\n",
       "      <th>16014</th>\n",
       "      <td>중랑구</td>\n",
       "      <td>4836. 양원역 1번 출구</td>\n",
       "      <td>202212</td>\n",
       "      <td>341</td>\n",
       "      <td>336</td>\n",
       "    </tr>\n",
       "    <tr>\n",
       "      <th>16015</th>\n",
       "      <td>중랑구</td>\n",
       "      <td>4837. 양원지구 힐데스하임 앞</td>\n",
       "      <td>202212</td>\n",
       "      <td>292</td>\n",
       "      <td>291</td>\n",
       "    </tr>\n",
       "    <tr>\n",
       "      <th>16016</th>\n",
       "      <td>중랑구</td>\n",
       "      <td>4838.동원사거리 행복오피스텔 앞</td>\n",
       "      <td>202212</td>\n",
       "      <td>301</td>\n",
       "      <td>227</td>\n",
       "    </tr>\n",
       "    <tr>\n",
       "      <th>16017</th>\n",
       "      <td>중랑구</td>\n",
       "      <td>4840. 서울시 북부병원 앞</td>\n",
       "      <td>202212</td>\n",
       "      <td>177</td>\n",
       "      <td>196</td>\n",
       "    </tr>\n",
       "    <tr>\n",
       "      <th>16018</th>\n",
       "      <td>중랑구</td>\n",
       "      <td>4841. 중화수경공원</td>\n",
       "      <td>202212</td>\n",
       "      <td>225</td>\n",
       "      <td>233</td>\n",
       "    </tr>\n",
       "  </tbody>\n",
       "</table>\n",
       "<p>16019 rows × 5 columns</p>\n",
       "</div>"
      ],
      "text/plain": [
       "       자치구                            대여소명    기준년월      대여건수      반납건수\n",
       "0      강남구                2301. 현대고등학교 건너편  202207    2,170     2,183 \n",
       "1      강남구  2302. 교보타워 버스정류장(신논현역 3번출구 후면)  202207    1,140     1,143 \n",
       "2      강남구                 2303. 논현역 10번출구  202207    1,329     1,196 \n",
       "3      강남구                    2304. 대현그린타워  202207      288       104 \n",
       "4      강남구              2305. MCM 본사 직영점 앞  202207      334       342 \n",
       "...    ...                             ...     ...       ...       ...\n",
       "16014  중랑구                 4836. 양원역 1번 출구  202212      341       336 \n",
       "16015  중랑구              4837. 양원지구 힐데스하임 앞  202212      292       291 \n",
       "16016  중랑구             4838.동원사거리 행복오피스텔 앞  202212      301       227 \n",
       "16017  중랑구                4840. 서울시 북부병원 앞  202212      177       196 \n",
       "16018  중랑구                    4841. 중화수경공원  202212      225       233 \n",
       "\n",
       "[16019 rows x 5 columns]"
      ]
     },
     "execution_count": 6,
     "metadata": {},
     "output_type": "execute_result"
    }
   ],
   "source": [
    "df = pd.read_csv('C:/python/datas/public_bicycle.csv')\n",
    "df"
   ]
  },
  {
   "cell_type": "code",
   "execution_count": 14,
   "id": "3ed5383c-b40b-4a58-9be8-99aa9b183e4f",
   "metadata": {},
   "outputs": [
    {
     "name": "stdout",
     "output_type": "stream",
     "text": [
      "<class 'pandas.core.frame.DataFrame'>\n",
      "RangeIndex: 16019 entries, 0 to 16018\n",
      "Data columns (total 5 columns):\n",
      " #   Column  Non-Null Count  Dtype \n",
      "---  ------  --------------  ----- \n",
      " 0   자치구     16019 non-null  object\n",
      " 1   대여소명    16019 non-null  object\n",
      " 2   기준년월    16019 non-null  int64 \n",
      " 3   대여건수    16019 non-null  object\n",
      " 4   반납건수    16019 non-null  object\n",
      "dtypes: int64(1), object(4)\n",
      "memory usage: 625.9+ KB\n"
     ]
    }
   ],
   "source": [
    "df.info()"
   ]
  },
  {
   "cell_type": "code",
   "execution_count": 27,
   "id": "59ced89d-7d65-44cf-ad6b-d6fd879e803b",
   "metadata": {},
   "outputs": [
    {
     "data": {
      "text/plain": [
       "0        2301\n",
       "1        2302\n",
       "2        2303\n",
       "3        2304\n",
       "4        2305\n",
       "         ... \n",
       "16014    4836\n",
       "16015    4837\n",
       "16016    4838\n",
       "16017    4840\n",
       "16018    4841\n",
       "Name: 대여소명, Length: 16019, dtype: int32"
      ]
     },
     "execution_count": 27,
     "metadata": {},
     "output_type": "execute_result"
    }
   ],
   "source": [
    "df['대여소명'].astype(str).str[0:4].astype('f').astype('i')"
   ]
  },
  {
   "cell_type": "code",
   "execution_count": 32,
   "id": "3389e5a4-7e84-4e4f-9fec-f7cd18561dd8",
   "metadata": {},
   "outputs": [
    {
     "data": {
      "text/plain": [
       "0        999\n",
       "1        998\n",
       "2        997\n",
       "3        996\n",
       "4        995\n",
       "        ... \n",
       "3203    1002\n",
       "3204    1001\n",
       "3205    1000\n",
       "3206     100\n",
       "3207      10\n",
       "Name: 대여소_ID, Length: 3208, dtype: int32"
      ]
     },
     "execution_count": 32,
     "metadata": {},
     "output_type": "execute_result"
    }
   ],
   "source": [
    "df_2['대여소_ID'].astype(str).str[3:].astype('f').astype('i')"
   ]
  },
  {
   "cell_type": "code",
   "execution_count": 10,
   "id": "2a2526ef-cc1e-46ee-ab9f-cbbae85e9a9a",
   "metadata": {},
   "outputs": [
    {
     "data": {
      "text/html": [
       "<div>\n",
       "<style scoped>\n",
       "    .dataframe tbody tr th:only-of-type {\n",
       "        vertical-align: middle;\n",
       "    }\n",
       "\n",
       "    .dataframe tbody tr th {\n",
       "        vertical-align: top;\n",
       "    }\n",
       "\n",
       "    .dataframe thead th {\n",
       "        text-align: right;\n",
       "    }\n",
       "</style>\n",
       "<table border=\"1\" class=\"dataframe\">\n",
       "  <thead>\n",
       "    <tr style=\"text-align: right;\">\n",
       "      <th></th>\n",
       "      <th>대여소_ID</th>\n",
       "      <th>주소1</th>\n",
       "      <th>주소2</th>\n",
       "      <th>위도</th>\n",
       "      <th>경도</th>\n",
       "    </tr>\n",
       "  </thead>\n",
       "  <tbody>\n",
       "    <tr>\n",
       "      <th>0</th>\n",
       "      <td>ST-999</td>\n",
       "      <td>서울특별시 양천구 목동서로 280</td>\n",
       "      <td>목동아파트 8단지 상가동</td>\n",
       "      <td>0.000000</td>\n",
       "      <td>0.000000</td>\n",
       "    </tr>\n",
       "    <tr>\n",
       "      <th>1</th>\n",
       "      <td>ST-998</td>\n",
       "      <td>서울특별시 양천구 목동서로 130</td>\n",
       "      <td>목동아파트 4단지 상가동</td>\n",
       "      <td>0.000000</td>\n",
       "      <td>0.000000</td>\n",
       "    </tr>\n",
       "    <tr>\n",
       "      <th>2</th>\n",
       "      <td>ST-997</td>\n",
       "      <td>서울특별시 양천구 목동중앙로 49</td>\n",
       "      <td>목동3단지 시내버스정류장</td>\n",
       "      <td>37.534390</td>\n",
       "      <td>126.869598</td>\n",
       "    </tr>\n",
       "    <tr>\n",
       "      <th>3</th>\n",
       "      <td>ST-996</td>\n",
       "      <td>서울특별시 양천구 남부순환로88길5-16</td>\n",
       "      <td>양강중학교앞 교차로</td>\n",
       "      <td>37.524334</td>\n",
       "      <td>126.850548</td>\n",
       "    </tr>\n",
       "    <tr>\n",
       "      <th>4</th>\n",
       "      <td>ST-995</td>\n",
       "      <td>서울특별시 양천구 신정동 621-14</td>\n",
       "      <td>계남공원 입구 주출입구 좌측</td>\n",
       "      <td>37.510681</td>\n",
       "      <td>126.857399</td>\n",
       "    </tr>\n",
       "    <tr>\n",
       "      <th>...</th>\n",
       "      <td>...</td>\n",
       "      <td>...</td>\n",
       "      <td>...</td>\n",
       "      <td>...</td>\n",
       "      <td>...</td>\n",
       "    </tr>\n",
       "    <tr>\n",
       "      <th>3203</th>\n",
       "      <td>ST-1002</td>\n",
       "      <td>서울특별시 양천구 목동동로 316-6</td>\n",
       "      <td>서울시 도로환경관리센터</td>\n",
       "      <td>37.529900</td>\n",
       "      <td>126.876541</td>\n",
       "    </tr>\n",
       "    <tr>\n",
       "      <th>3204</th>\n",
       "      <td>ST-1001</td>\n",
       "      <td>서울특별시 양천구 남부순환로4길20</td>\n",
       "      <td>서서울호수공원</td>\n",
       "      <td>0.000000</td>\n",
       "      <td>0.000000</td>\n",
       "    </tr>\n",
       "    <tr>\n",
       "      <th>3205</th>\n",
       "      <td>ST-1000</td>\n",
       "      <td>서울특별시 양천구 신정동 236</td>\n",
       "      <td>서부식자재마트 건너편</td>\n",
       "      <td>37.510380</td>\n",
       "      <td>126.866798</td>\n",
       "    </tr>\n",
       "    <tr>\n",
       "      <th>3206</th>\n",
       "      <td>ST-100</td>\n",
       "      <td>서울특별시 광진구 아차산로 262</td>\n",
       "      <td>더샵스타시티 C동 앞</td>\n",
       "      <td>37.536667</td>\n",
       "      <td>127.073593</td>\n",
       "    </tr>\n",
       "    <tr>\n",
       "      <th>3207</th>\n",
       "      <td>ST-10</td>\n",
       "      <td>서울특별시 마포구 양화로 93</td>\n",
       "      <td>427</td>\n",
       "      <td>37.552746</td>\n",
       "      <td>126.918617</td>\n",
       "    </tr>\n",
       "  </tbody>\n",
       "</table>\n",
       "<p>3208 rows × 5 columns</p>\n",
       "</div>"
      ],
      "text/plain": [
       "       대여소_ID                     주소1              주소2         위도          경도\n",
       "0      ST-999      서울특별시 양천구 목동서로 280    목동아파트 8단지 상가동   0.000000    0.000000\n",
       "1      ST-998      서울특별시 양천구 목동서로 130    목동아파트 4단지 상가동   0.000000    0.000000\n",
       "2      ST-997      서울특별시 양천구 목동중앙로 49    목동3단지 시내버스정류장  37.534390  126.869598\n",
       "3      ST-996  서울특별시 양천구 남부순환로88길5-16       양강중학교앞 교차로  37.524334  126.850548\n",
       "4      ST-995    서울특별시 양천구 신정동 621-14  계남공원 입구 주출입구 좌측  37.510681  126.857399\n",
       "...       ...                     ...              ...        ...         ...\n",
       "3203  ST-1002    서울특별시 양천구 목동동로 316-6     서울시 도로환경관리센터  37.529900  126.876541\n",
       "3204  ST-1001     서울특별시 양천구 남부순환로4길20          서서울호수공원   0.000000    0.000000\n",
       "3205  ST-1000       서울특별시 양천구 신정동 236      서부식자재마트 건너편  37.510380  126.866798\n",
       "3206   ST-100      서울특별시 광진구 아차산로 262      더샵스타시티 C동 앞  37.536667  127.073593\n",
       "3207    ST-10        서울특별시 마포구 양화로 93              427  37.552746  126.918617\n",
       "\n",
       "[3208 rows x 5 columns]"
      ]
     },
     "execution_count": 10,
     "metadata": {},
     "output_type": "execute_result"
    }
   ],
   "source": [
    "df_2 = pd.read_csv('C:/python/datas/bicycle_place.csv')\n",
    "df_2"
   ]
  },
  {
   "cell_type": "code",
   "execution_count": null,
   "id": "b788d1e2-01c0-4fd0-8c2b-4bdbf57627f0",
   "metadata": {},
   "outputs": [],
   "source": []
  }
 ],
 "metadata": {
  "kernelspec": {
   "display_name": "Python 3 (ipykernel)",
   "language": "python",
   "name": "python3"
  },
  "language_info": {
   "codemirror_mode": {
    "name": "ipython",
    "version": 3
   },
   "file_extension": ".py",
   "mimetype": "text/x-python",
   "name": "python",
   "nbconvert_exporter": "python",
   "pygments_lexer": "ipython3",
   "version": "3.9.13"
  }
 },
 "nbformat": 4,
 "nbformat_minor": 5
}
