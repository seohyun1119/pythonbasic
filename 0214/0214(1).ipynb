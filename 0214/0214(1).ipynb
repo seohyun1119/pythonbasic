{
 "cells": [
  {
   "cell_type": "code",
   "execution_count": 1,
   "id": "2df98f75-a771-4671-8425-1d0591c5c9fd",
   "metadata": {},
   "outputs": [
    {
     "name": "stdout",
     "output_type": "stream",
     "text": [
      "\n",
      "안녕하세요.\n",
      "나는 파이썬을 공부하고 있습니다.\n",
      "반갑습니다.\n",
      "\n"
     ]
    }
   ],
   "source": [
    "s3 = \"\"\"\n",
    "안녕하세요.\n",
    "나는 파이썬을 공부하고 있습니다.\n",
    "반갑습니다.\n",
    "\"\"\"\n",
    "print(s3)"
   ]
  },
  {
   "cell_type": "code",
   "execution_count": 3,
   "id": "36024e60-e633-47fe-b4aa-e20f48812b1d",
   "metadata": {},
   "outputs": [
    {
     "name": "stdout",
     "output_type": "stream",
     "text": [
      "안녕하세요.\n",
      "나는 파이썬을 공부하고 있습니다.\n",
      "반갑습니다.\n",
      "\n"
     ]
    }
   ],
   "source": [
    "s3 = \"\"\"\\\n",
    "안녕하세요.\n",
    "나는 파이썬을 공부하고 있습니다.\n",
    "반갑습니다.\n",
    "\"\"\"\n",
    "print(s3)"
   ]
  },
  {
   "cell_type": "code",
   "execution_count": 6,
   "id": "15decea6-ac2a-480d-8526-6184962cdb53",
   "metadata": {},
   "outputs": [
    {
     "name": "stdout",
     "output_type": "stream",
     "text": [
      "안녕하세요.\n",
      "나는 파이썬을 공부하고 있습니다.\n",
      "반갑습니다.\n"
     ]
    }
   ],
   "source": [
    "s3 = \"\"\"\\\n",
    "안녕하세요.\n",
    "나는 파이썬을 공부하고 있습니다.\n",
    "반갑습니다.\\\n",
    "\"\"\"\n",
    "print(s3)"
   ]
  },
  {
   "cell_type": "code",
   "execution_count": 7,
   "id": "ec2e4c11-2a7f-4068-926a-f9e07676ca77",
   "metadata": {},
   "outputs": [
    {
     "name": "stdout",
     "output_type": "stream",
     "text": [
      "\"안녕하세요.\"\n",
      "나는 파이썬을 공부하고 있습니다.\n",
      "반갑습니다.\n"
     ]
    }
   ],
   "source": [
    "s3 = \"\"\"\\\n",
    "\\\"안녕하세요.\\\"\n",
    "나는 파이썬을 공부하고 있습니다.\n",
    "반갑습니다.\\\n",
    "\"\"\"\n",
    "print(s3)"
   ]
  },
  {
   "cell_type": "code",
   "execution_count": 8,
   "id": "af583157-9a16-40ee-bf24-4b8583b4b9eb",
   "metadata": {},
   "outputs": [
    {
     "name": "stdout",
     "output_type": "stream",
     "text": [
      "\"안녕하세요.\"\n",
      "나는 파이썬을 공부하고 있습니다.\n",
      "반갑습니다.\n"
     ]
    }
   ],
   "source": [
    "s3 = \"\"\"\\\n",
    "\"안녕하세요.\"\n",
    "나는 파이썬을 공부하고 있습니다.\n",
    "반갑습니다.\\\n",
    "\"\"\"\n",
    "print(s3)"
   ]
  },
  {
   "cell_type": "code",
   "execution_count": 9,
   "id": "9aadfa3d-559f-4df8-bafc-bbb7d833bd72",
   "metadata": {},
   "outputs": [
    {
     "name": "stdout",
     "output_type": "stream",
     "text": [
      "너무 너무 너무 너무 너무 너무 너무 파이썬 공부가 즐겁습니다.\n"
     ]
    }
   ],
   "source": [
    "s3 = \"너무 너무 너무 너무 너무 너무 너무 파이썬 공부가 즐겁습니다.\"\n",
    "print(s3)"
   ]
  },
  {
   "cell_type": "code",
   "execution_count": 11,
   "id": "6b969c5d-3b0b-4a63-becc-1f45cdaa5276",
   "metadata": {},
   "outputs": [
    {
     "name": "stdout",
     "output_type": "stream",
     "text": [
      "너무 너무 너무 너무 너무 너무 너무 너무 너무 너무 너무 너무 너무 너무 너무 너무 너무 너무 너무 너무 너무 너무 너무 너무 너무 너무 너무 너무 너무 너무 너무 너무 너무 너무 너무 너무 너무 너무 너무 너무 너무 너무 너무 너무 너무 너무 너무 너무 너무 너무 너무 너무 너무 너무 너무 너무 너무 너무 너무 너무 너무 너무 너무 너무 너무 너무 너무 너무 너무 너무 너무 너무 너무 너무 너무 너무 너무 너무 너무 너무 너무 너무 너무 너무 너무 너무 너무 너무 너무 너무 너무 너무 너무 너무 너무 너무 너무 너무 너무 너무 파이썬 공부가 즐겁습니다.\n"
     ]
    }
   ],
   "source": [
    "s6 = \"너무 \"*100+\"파이썬 공부가 즐겁습니다.\"\n",
    "print(s6)"
   ]
  },
  {
   "cell_type": "code",
   "execution_count": 12,
   "id": "28f695e2-0393-48ba-a8c0-33573e814e61",
   "metadata": {},
   "outputs": [
    {
     "name": "stdout",
     "output_type": "stream",
     "text": [
      "P\n",
      "n\n",
      "n\n",
      "P\n"
     ]
    }
   ],
   "source": [
    "word = 'Python'\n",
    "# 인덱스는 0부터 시작된다.\n",
    "print(word[0])\n",
    "print(word[5])\n",
    "# 음수는 뒤에서부터 셉니다.\n",
    "print(word[-1])\n",
    "print(word[-6])"
   ]
  },
  {
   "cell_type": "code",
   "execution_count": 17,
   "id": "3597d8c0-6e86-4ea1-a5ec-719d81c9de74",
   "metadata": {},
   "outputs": [
    {
     "name": "stdout",
     "output_type": "stream",
     "text": [
      "꺾\n"
     ]
    }
   ],
   "source": [
    "sentence = \"중요한 것은 꺾이지 않는 마음\"\n",
    "print(sentence[7])"
   ]
  },
  {
   "cell_type": "code",
   "execution_count": 19,
   "id": "9239f129-6fd2-4f00-bccf-a72acb39e7aa",
   "metadata": {},
   "outputs": [
    {
     "name": "stdout",
     "output_type": "stream",
     "text": [
      "Py\n",
      "Py\n",
      "Py\n",
      "on\n",
      "on\n",
      "on\n",
      "yt\n",
      "yt\n"
     ]
    }
   ],
   "source": [
    "word = 'Python'\n",
    "print(word[0:2])\n",
    "print(word[:2])\n",
    "print(word[:-4])\n",
    "print(word[4:6])\n",
    "print(word[4:])\n",
    "print(word[-2:])\n",
    "print(word[1:3])\n",
    "print(word[-5:-3])"
   ]
  },
  {
   "cell_type": "code",
   "execution_count": 36,
   "id": "5b3eae36-0226-47a8-9c26-27be144690ce",
   "metadata": {},
   "outputs": [
    {
     "name": "stdout",
     "output_type": "stream",
     "text": [
      "Pto\n"
     ]
    }
   ],
   "source": [
    "word = 'Python'\n",
    "print(word[::2]) # 처음부터 시작할 경우 생략 가능"
   ]
  },
  {
   "cell_type": "code",
   "execution_count": 23,
   "id": "7b06ecaf-093a-4cf1-bcc6-124a63cdf2dd",
   "metadata": {},
   "outputs": [
    {
     "name": "stdout",
     "output_type": "stream",
     "text": [
      "\n"
     ]
    }
   ],
   "source": [
    "sentence = \"중요한 것은 꺾이지 않는 마음\"\n",
    "print(sentence[42:]) # 슬라이싱은 인덱스 범위를 벗어나도 유연하게 처리됨"
   ]
  },
  {
   "cell_type": "code",
   "execution_count": 24,
   "id": "c4a19525-b108-4a01-a4c4-83917107f27c",
   "metadata": {},
   "outputs": [
    {
     "name": "stdout",
     "output_type": "stream",
     "text": [
      "꺾이지 않는 마음\n"
     ]
    }
   ],
   "source": [
    "sentence = \"중요한 것은 꺾이지 않는 마음\"\n",
    "print(sentence[7::])"
   ]
  },
  {
   "cell_type": "code",
   "execution_count": 35,
   "id": "d78d707b-667e-48de-87e2-4b615d13641b",
   "metadata": {},
   "outputs": [
    {
     "name": "stdout",
     "output_type": "stream",
     "text": [
      "'중요한 것은 꺾이지 않는 마음'\n",
      "꺾이지 않는 마음\n"
     ]
    }
   ],
   "source": [
    "sentence = \"'중요한 것은 꺾이지 않는 마음'\"\n",
    "print(sentence)\n",
    "print(sentence[8:17:])"
   ]
  },
  {
   "cell_type": "code",
   "execution_count": 60,
   "id": "7a68ac50-a58f-4168-be05-dceee1e3c51a",
   "metadata": {},
   "outputs": [
    {
     "name": "stdout",
     "output_type": "stream",
     "text": [
      "한요중\n"
     ]
    }
   ],
   "source": [
    "sentence = \"중요한 것은 꺾이지 않는 마음\"\n",
    "print(sentence[2::-1]) # 증감"
   ]
  },
  {
   "cell_type": "code",
   "execution_count": 68,
   "id": "81dca85f-34cb-4c32-b45f-ea8d8524460d",
   "metadata": {},
   "outputs": [
    {
     "name": "stdout",
     "output_type": "stream",
     "text": [
      "한요중\n"
     ]
    }
   ],
   "source": [
    "sentence = \"중요한 것은 꺾이지 않는 마음\"\n",
    "print(sentence[:3][::-1])"
   ]
  },
  {
   "cell_type": "code",
   "execution_count": 72,
   "id": "eef8ab7c-6b3b-4858-8db0-b2e5e26a7c45",
   "metadata": {},
   "outputs": [
    {
     "ename": "TypeError",
     "evalue": "'str' object does not support item assignment",
     "output_type": "error",
     "traceback": [
      "\u001b[1;31m---------------------------------------------------------------------------\u001b[0m",
      "\u001b[1;31mTypeError\u001b[0m                                 Traceback (most recent call last)",
      "\u001b[1;32m~\\AppData\\Local\\Temp\\ipykernel_11080\\1901947419.py\u001b[0m in \u001b[0;36m<module>\u001b[1;34m\u001b[0m\n\u001b[0;32m      2\u001b[0m \u001b[1;31m# 문자열을 인덱스로 접근해서 값은 변경할 수 없음\u001b[0m\u001b[1;33m\u001b[0m\u001b[1;33m\u001b[0m\u001b[0m\n\u001b[0;32m      3\u001b[0m \u001b[1;31m# 문자열은 슬라이싱으로 접근해서도 값을 변경할 수 없음\u001b[0m\u001b[1;33m\u001b[0m\u001b[1;33m\u001b[0m\u001b[0m\n\u001b[1;32m----> 4\u001b[1;33m \u001b[0msentence\u001b[0m\u001b[1;33m[\u001b[0m\u001b[1;36m0\u001b[0m\u001b[1;33m]\u001b[0m \u001b[1;33m=\u001b[0m \u001b[1;34m\"한\"\u001b[0m\u001b[1;33m\u001b[0m\u001b[1;33m\u001b[0m\u001b[0m\n\u001b[0m\u001b[0;32m      5\u001b[0m \u001b[0msentence\u001b[0m\u001b[1;33m[\u001b[0m\u001b[1;36m0\u001b[0m\u001b[1;33m:\u001b[0m\u001b[1;36m3\u001b[0m\u001b[1;33m]\u001b[0m \u001b[1;33m=\u001b[0m \u001b[1;34m\"대단한\"\u001b[0m \u001b[1;31m# 요소 개수 중요\u001b[0m\u001b[1;33m\u001b[0m\u001b[1;33m\u001b[0m\u001b[0m\n",
      "\u001b[1;31mTypeError\u001b[0m: 'str' object does not support item assignment"
     ]
    }
   ],
   "source": [
    "# 문자열은 불변의 특징을 가짐\n",
    "# 문자열을 인덱스로 접근해서 값은 변경할 수 없음\n",
    "# 문자열은 슬라이싱으로 접근해서도 값을 변경할 수 없음\n",
    "sentence[0] = \"한\"\n",
    "sentence[0:3] = \"대단한\" # 요소 개수 중요"
   ]
  },
  {
   "cell_type": "code",
   "execution_count": 81,
   "id": "4c283d74-0ff0-4e39-a188-2bd8eaa3d003",
   "metadata": {},
   "outputs": [
    {
     "name": "stdout",
     "output_type": "stream",
     "text": [
      "대단한 것은 꺾이지 않는 마음\n"
     ]
    }
   ],
   "source": [
    "# 문자열을 변경하고 싶을 때는 새로운 문자열 리터럴을 만들어서 변수의 값에 다시 할당해서 변경해주면 됨\n",
    "\n",
    "sentence = \"대단한\"+sentence[3:]\n",
    "print(sentence)"
   ]
  },
  {
   "cell_type": "code",
   "execution_count": 82,
   "id": "fd270b34-2b81-4716-8f9f-8f74ccb9e212",
   "metadata": {},
   "outputs": [
    {
     "name": "stdout",
     "output_type": "stream",
     "text": [
      "재밌어요재밌어요재밌어요재밌어요재밌어요재밌어요재밌어요재밌어요재밌어요재밌어요\n",
      "40\n"
     ]
    }
   ],
   "source": [
    "# 시퀀스의 크기를 알아내기 위해서는 len(시퀀스변수명) 함수를 사용함\n",
    "\n",
    "s7 = '재밌어요'*10\n",
    "print(s7)\n",
    "print(len(s7))"
   ]
  },
  {
   "cell_type": "code",
   "execution_count": 83,
   "id": "43fdee93-6608-4e67-8f0e-c6f840799750",
   "metadata": {},
   "outputs": [
    {
     "name": "stdout",
     "output_type": "stream",
     "text": [
      "[1, 4, 9, 16, 25]\n"
     ]
    },
    {
     "data": {
      "text/plain": [
       "list"
      ]
     },
     "execution_count": 83,
     "metadata": {},
     "output_type": "execute_result"
    }
   ],
   "source": [
    "# 리스트(list)는 다른 형의 항목들을 포함할 수 있음\n",
    "# 가변의 특성을 갖기에 수정도 용이함\n",
    "# 가장 융통성 있는 자료형 중 하나임\n",
    "# 파이썬의 리스트는 다른 언어의 배열(Array)과 차이가 있음\n",
    "\n",
    "squares = [1**2, 2**2, 3**2, 4**2, 5**2]\n",
    "print(squares)\n",
    "type(squares)"
   ]
  },
  {
   "cell_type": "code",
   "execution_count": 85,
   "id": "fb97a1ee-5c0d-4e50-93a1-874f331c9e78",
   "metadata": {},
   "outputs": [
    {
     "name": "stdout",
     "output_type": "stream",
     "text": [
      "1\n",
      "25\n"
     ]
    }
   ],
   "source": [
    "# 인덱싱을 통해 해당하는 항목(item)을 반환(return)받음\n",
    "\n",
    "print(squares[0])\n",
    "print(squares[-1])"
   ]
  },
  {
   "cell_type": "code",
   "execution_count": 92,
   "id": "3d5476e7-aa00-4e8d-b098-d52eb664580f",
   "metadata": {},
   "outputs": [
    {
     "name": "stdout",
     "output_type": "stream",
     "text": [
      "[9, 16, 25]\n"
     ]
    }
   ],
   "source": [
    "# 슬라이싱을 통해 해당하는 항목(item)을 반환(return)받음\n",
    "\n",
    "print(squares[-3:]) # 뒤에서부터 3번째부터 끝까지"
   ]
  },
  {
   "cell_type": "code",
   "execution_count": 97,
   "id": "7236b1d6-0b79-46c7-ab26-5fbe7098a0b0",
   "metadata": {},
   "outputs": [
    {
     "name": "stdout",
     "output_type": "stream",
     "text": [
      "[1, 4, 9, 16, 25, 36, 49, 64, 81, 100]\n"
     ]
    }
   ],
   "source": [
    "# 리스트는 +를 통해 이어붙일 수 있음\n",
    "\n",
    "print(squares+[36, 49, 64, 81, 100])"
   ]
  },
  {
   "cell_type": "code",
   "execution_count": 98,
   "id": "6cfbbcc5-6249-43e8-a7e6-5e5659274d47",
   "metadata": {},
   "outputs": [
    {
     "name": "stdout",
     "output_type": "stream",
     "text": [
      "['a', 'b', 'c', 'd', 'e', 'a', 'b', 'c', 'd', 'e', 'a', 'b', 'c', 'd', 'e']\n"
     ]
    }
   ],
   "source": [
    "# 리스트는 곱하기를 통해 요소를 반복할 수 있음\n",
    "\n",
    "letters = ['a', 'b', 'c', 'd', 'e']\n",
    "print(letters*3)"
   ]
  },
  {
   "cell_type": "code",
   "execution_count": 100,
   "id": "8a37cf05-1339-4f00-9704-a542c946008b",
   "metadata": {},
   "outputs": [
    {
     "name": "stdout",
     "output_type": "stream",
     "text": [
      "[1, 8, 27, 64, 125]\n"
     ]
    }
   ],
   "source": [
    "# 리스트는 가변(mutable)임. 내용을 변경할 수 있음.\n",
    "\n",
    "cubes = [1, 8, 27, 65, 125]  # 65가 아니라 64가 올바른 값\n",
    "cubes[3] = 4**3  # 인덱싱을 통해 해당 값 변경 가능\n",
    "print(cubes)"
   ]
  },
  {
   "cell_type": "code",
   "execution_count": 102,
   "id": "e6c5cd5b-9c58-4d27-9780-e77381c25d6c",
   "metadata": {},
   "outputs": [
    {
     "name": "stdout",
     "output_type": "stream",
     "text": [
      "['a', 'b', 'C', 'D', 'E']\n"
     ]
    }
   ],
   "source": [
    "letters[2:5] = [\"C\", \"D\", \"E\"]  # 요소의 개수가 동일해야 변경 가능\n",
    "print(letters)"
   ]
  },
  {
   "cell_type": "code",
   "execution_count": 103,
   "id": "593195ed-4367-44eb-b42a-f8932f537a81",
   "metadata": {},
   "outputs": [
    {
     "name": "stdout",
     "output_type": "stream",
     "text": [
      "5\n"
     ]
    }
   ],
   "source": [
    "letters = ['a', 'b', 'c', 'd', 'e']\n",
    "print(len(letters))"
   ]
  },
  {
   "cell_type": "code",
   "execution_count": 104,
   "id": "065e7063-a66f-4982-b812-21a87d1c4258",
   "metadata": {},
   "outputs": [
    {
     "name": "stdout",
     "output_type": "stream",
     "text": [
      "[['a', 'b', 'c'], [1, 2, 3]]\n"
     ]
    }
   ],
   "source": [
    "# 리스트를 구성하는 요소로 리스트를 넣을 수 있음\n",
    "# 리스트 안에 리스트에 인덱싱으로 접근 가능함\n",
    "\n",
    "a = ['a', 'b', 'c']\n",
    "n = [1, 2, 3]\n",
    "x = [a, n]\n",
    "print(x)"
   ]
  },
  {
   "cell_type": "code",
   "execution_count": 105,
   "id": "0c4095e2-e75b-46a0-bf0b-696e19064af1",
   "metadata": {},
   "outputs": [
    {
     "name": "stdout",
     "output_type": "stream",
     "text": [
      "['a', 'b', 'c']\n"
     ]
    }
   ],
   "source": [
    "print(x[0])"
   ]
  },
  {
   "cell_type": "code",
   "execution_count": 106,
   "id": "221d6598-196e-469f-b443-25c37d36319b",
   "metadata": {},
   "outputs": [
    {
     "name": "stdout",
     "output_type": "stream",
     "text": [
      "b\n"
     ]
    }
   ],
   "source": [
    "print(x[0][1])"
   ]
  },
  {
   "cell_type": "code",
   "execution_count": 109,
   "id": "1f4f3af7-f133-40a5-911b-76a3f798adfd",
   "metadata": {},
   "outputs": [
    {
     "name": "stdout",
     "output_type": "stream",
     "text": [
      "True\n",
      "False\n"
     ]
    }
   ],
   "source": [
    "# 시퀀스 자료형(Sequence types)은 in이라는 키워드를 통해 내부 요소(item)에 포함 여부를 확인할 수 있음\n",
    "# True와 False, 즉 bool literal이 결과로 나옴\n",
    "\n",
    "numbers = [1, 2, 3, 4, 5, 6, 7]\n",
    "print(5 in numbers)\n",
    "print(10 in numbers)"
   ]
  },
  {
   "cell_type": "code",
   "execution_count": 121,
   "id": "e056c036-f0c5-4dd0-a429-1eda1a819060",
   "metadata": {},
   "outputs": [
    {
     "name": "stdout",
     "output_type": "stream",
     "text": [
      "False\n"
     ]
    }
   ],
   "source": [
    "# 한 과목이라도 60점 미만이면 과락일 때, 과락이면 False를, 과락이 아니면 True를 출력\n",
    "\n",
    "# [국어, 영어, 한국사, 선택 교과1, 선택 교과2]\n",
    "scores = [88, 73, 89, 59, 77]\n",
    "print(scores[0]>=60 and scores[1]>=60 and scores[2]>=60 and scores[3]>=60 and scores[4]>=60)"
   ]
  },
  {
   "cell_type": "code",
   "execution_count": 147,
   "id": "2212d1bd-50de-4370-8292-ceb7b9ea8931",
   "metadata": {},
   "outputs": [
    {
     "name": "stdout",
     "output_type": "stream",
     "text": [
      "[1, 2, 3, 4, 5, 6, 7, 8]\n"
     ]
    }
   ],
   "source": [
    "# 리스트.append(요소) -> 리스트에 요소를 추가함, 요소의 순서는 맨 뒤로 추가됨.\n",
    "# 리스트: 객체(object)\n",
    "\n",
    "numbers = [1, 2, 3, 4, 5, 6, 7]\n",
    "numbers.append(8)  # 리스트 메서드의 형태, 함수가 동작하는 것과 같음.\n",
    "print(numbers)"
   ]
  },
  {
   "cell_type": "code",
   "execution_count": 148,
   "id": "45c09a7f-9606-415e-8d4c-db8be1ab288f",
   "metadata": {},
   "outputs": [
    {
     "name": "stdout",
     "output_type": "stream",
     "text": [
      "[0, 1, 2, 3, 0, 4, 0, 5, 6, 7, 8, 0]\n"
     ]
    }
   ],
   "source": [
    "# numbers.insert(인덱스 위치, 추가하고 싶은 요소)\n",
    "\n",
    "numbers = [1, 2, 3, 4, 5, 6, 7, 8]\n",
    "numbers.insert(0,0)\n",
    "numbers.insert(4,0)\n",
    "numbers.insert(6,0)\n",
    "numbers.insert(len(numbers), 0)  # 맨 마지막 숫자를 표현하기 위해서 len 사용\n",
    "print(numbers)"
   ]
  },
  {
   "cell_type": "code",
   "execution_count": 149,
   "id": "0289f98f-b426-49f1-8c5f-d0a1f33f553e",
   "metadata": {},
   "outputs": [
    {
     "name": "stdout",
     "output_type": "stream",
     "text": [
      "[0, 1, 2, 3, 0, 4, 0, 5, 6, 7, 8, 0, 9, 10, 11]\n"
     ]
    }
   ],
   "source": [
    "# append는 요소를 추가, extend는 리스트를 추가\n",
    "\n",
    "numbers.extend([9, 10, 11])  \n",
    "print(numbers)"
   ]
  },
  {
   "cell_type": "code",
   "execution_count": 150,
   "id": "7436bd2b-b606-4442-a54b-0cc600d20592",
   "metadata": {},
   "outputs": [
    {
     "name": "stdout",
     "output_type": "stream",
     "text": [
      "[1, 2, 3, 0, 4, 0, 5, 6, 7, 8, 0, 9, 10, 11]\n"
     ]
    }
   ],
   "source": [
    "# 리스트.remove(인자) -> 인자와 리스트에 동일한 요소를 제거함\n",
    "# 여럿인 경우 제일 먼저 발견된 요소를 삭제\n",
    "\n",
    "numbers.remove(0)\n",
    "print(numbers)"
   ]
  },
  {
   "cell_type": "code",
   "execution_count": 151,
   "id": "18430bdf-9aec-45f0-bab8-989cff0e9c68",
   "metadata": {},
   "outputs": [
    {
     "name": "stdout",
     "output_type": "stream",
     "text": [
      "11\n"
     ]
    }
   ],
   "source": [
    "# 리스트.pop() -> 리스트 제일 마지막 요소(리스트[-1])를 리스트에서 제거\n",
    "# 제거한 요소는 반환됨\n",
    "\n",
    "print(numbers.pop())"
   ]
  },
  {
   "cell_type": "code",
   "execution_count": 152,
   "id": "508f9e2e-1112-4cf1-8a9c-6149d622a197",
   "metadata": {},
   "outputs": [
    {
     "name": "stdout",
     "output_type": "stream",
     "text": [
      "[1, 2, 3, 0, 4, 0, 5, 6, 7, 8, 0, 9, 10]\n"
     ]
    }
   ],
   "source": [
    "print(numbers)"
   ]
  },
  {
   "cell_type": "code",
   "execution_count": 153,
   "id": "18988a00-027c-4ddc-ac87-7c511223f0ce",
   "metadata": {},
   "outputs": [
    {
     "name": "stdout",
     "output_type": "stream",
     "text": [
      "3\n"
     ]
    }
   ],
   "source": [
    "# 리스트.index(인자) -> 리스트에서 순서대로 인자와 요소가 같은 것을 찾음\n",
    "# 첫번쨰로 발견된 요소의 인덱스 값을 반환\n",
    "\n",
    "print(numbers.index(0))"
   ]
  },
  {
   "cell_type": "code",
   "execution_count": 154,
   "id": "83c85287-0c89-4326-9b57-ae18c7616da6",
   "metadata": {},
   "outputs": [
    {
     "name": "stdout",
     "output_type": "stream",
     "text": [
      "3\n"
     ]
    }
   ],
   "source": [
    "# 리스트.count(인자) -> 리스트에서 인자와 요소가 같은 것을 찾음\n",
    "# 총 개수를 구해서 반환\n",
    "\n",
    "print(numbers.count(0))"
   ]
  },
  {
   "cell_type": "code",
   "execution_count": 155,
   "id": "042f08fc-4c6b-4dfd-8134-f7bbaa7e15a0",
   "metadata": {},
   "outputs": [
    {
     "name": "stdout",
     "output_type": "stream",
     "text": [
      "[0, 0, 0, 1, 2, 3, 4, 5, 6, 7, 8, 9, 10]\n"
     ]
    }
   ],
   "source": [
    "# 리스트.sort() -> 리스트 요소를 오름차순으로 정렬함\n",
    "\n",
    "numbers.sort()\n",
    "print(numbers)"
   ]
  },
  {
   "cell_type": "code",
   "execution_count": 156,
   "id": "338f0ceb-c0ea-4987-9ca4-10714bd872bc",
   "metadata": {},
   "outputs": [
    {
     "name": "stdout",
     "output_type": "stream",
     "text": [
      "[8, 4, 2, 1, 2, 7]\n"
     ]
    }
   ],
   "source": [
    "# 리스트.reverse() -> 리스트 요소를 반대 방향으로 재정렬함\n",
    "\n",
    "reverse_test = [7, 2, 1, 2, 4, 8]\n",
    "reverse_test.reverse()\n",
    "print(reverse_test)"
   ]
  },
  {
   "cell_type": "code",
   "execution_count": 157,
   "id": "e02ec0f9-e4d4-481b-9235-d7f29d75f524",
   "metadata": {},
   "outputs": [
    {
     "name": "stdout",
     "output_type": "stream",
     "text": [
      "[3, 4, 5, 6, 7]\n",
      "7\n",
      "[3, 4, 5, 6]\n",
      "6\n",
      "5\n",
      "[3, 4]\n"
     ]
    }
   ],
   "source": [
    "# stack은 후입선출(Last In First Out)구조임\n",
    "# stack에서 자료를 꺼낼 때 pop()으로만 꺼내어 Stack 자료 구조처럼 활용하고 있음\n",
    "\n",
    "stack = [3, 4, 5]\n",
    "stack.append(6)\n",
    "stack.append(7)\n",
    "print(stack)\n",
    "\n",
    "print(stack.pop())\n",
    "\n",
    "print(stack)\n",
    "\n",
    "print(stack.pop())\n",
    "\n",
    "print(stack.pop())\n",
    "\n",
    "print(stack)"
   ]
  },
  {
   "cell_type": "code",
   "execution_count": 162,
   "id": "de513569-9a60-4823-85cb-da245b56f85d",
   "metadata": {},
   "outputs": [
    {
     "name": "stdout",
     "output_type": "stream",
     "text": [
      "None\n"
     ]
    }
   ],
   "source": [
    "# numbers.clear() -> 리스트의 모든 요소를 제거\n",
    "\n",
    "print(numbers.clear())"
   ]
  },
  {
   "cell_type": "code",
   "execution_count": 163,
   "id": "dfd18828-bf73-4583-ab06-322ea630f59a",
   "metadata": {},
   "outputs": [],
   "source": [
    "# 함수와 메서드의 차이\n",
    "# 메서드는 class 안에 포함됨, object를 변경함"
   ]
  },
  {
   "cell_type": "code",
   "execution_count": 165,
   "id": "d8f32b72-3f2b-425d-8ed5-5b55e2afc109",
   "metadata": {},
   "outputs": [
    {
     "ename": "TypeError",
     "evalue": "'tuple' object does not support item assignment",
     "output_type": "error",
     "traceback": [
      "\u001b[1;31m---------------------------------------------------------------------------\u001b[0m",
      "\u001b[1;31mTypeError\u001b[0m                                 Traceback (most recent call last)",
      "\u001b[1;32m~\\AppData\\Local\\Temp\\ipykernel_11080\\1651790829.py\u001b[0m in \u001b[0;36m<module>\u001b[1;34m\u001b[0m\n\u001b[0;32m      6\u001b[0m \u001b[1;33m\u001b[0m\u001b[0m\n\u001b[0;32m      7\u001b[0m \u001b[0mtuple_variable\u001b[0m \u001b[1;33m=\u001b[0m \u001b[1;33m(\u001b[0m\u001b[1;36m1\u001b[0m\u001b[1;33m,\u001b[0m \u001b[1;36m2\u001b[0m\u001b[1;33m,\u001b[0m \u001b[1;36m3\u001b[0m\u001b[1;33m,\u001b[0m \u001b[1;36m4\u001b[0m\u001b[1;33m,\u001b[0m \u001b[1;36m5\u001b[0m\u001b[1;33m,\u001b[0m \u001b[1;34m\"hello\"\u001b[0m\u001b[1;33m)\u001b[0m\u001b[1;33m\u001b[0m\u001b[1;33m\u001b[0m\u001b[0m\n\u001b[1;32m----> 8\u001b[1;33m \u001b[0mtuple_variable\u001b[0m\u001b[1;33m[\u001b[0m\u001b[1;36m0\u001b[0m\u001b[1;33m]\u001b[0m \u001b[1;33m=\u001b[0m \u001b[1;36m0\u001b[0m\u001b[1;33m\u001b[0m\u001b[1;33m\u001b[0m\u001b[0m\n\u001b[0m",
      "\u001b[1;31mTypeError\u001b[0m: 'tuple' object does not support item assignment"
     ]
    }
   ],
   "source": [
    "# 튜플(tuple): 불변(immutable)의 특징을 가짐\n",
    "# 리스트와 거의 비슷하지만, 수정이 불가함\n",
    "# 소괄호 사이에 요소들을 콤마로 구분지어 작성함\n",
    "# 소괄호는 생략 가능\n",
    "# 여러 자료형을 섞어서 만들 수 있음\n",
    "\n",
    "tuple_variable = (1, 2, 3, 4, 5, \"hello\")\n",
    "tuple_variable[0] = 0"
   ]
  },
  {
   "cell_type": "code",
   "execution_count": 167,
   "id": "e61bf17d-983d-4f0f-b327-901cad92dd96",
   "metadata": {},
   "outputs": [
    {
     "ename": "TypeError",
     "evalue": "'tuple' object doesn't support item deletion",
     "output_type": "error",
     "traceback": [
      "\u001b[1;31m---------------------------------------------------------------------------\u001b[0m",
      "\u001b[1;31mTypeError\u001b[0m                                 Traceback (most recent call last)",
      "\u001b[1;32m~\\AppData\\Local\\Temp\\ipykernel_11080\\4233760510.py\u001b[0m in \u001b[0;36m<module>\u001b[1;34m\u001b[0m\n\u001b[0;32m      3\u001b[0m \u001b[1;31m# 튜플은 처음 생성하고 그 각 요소에 대한 값은 읽을 수 있으나 수정 및 삭제는 불가능함\u001b[0m\u001b[1;33m\u001b[0m\u001b[1;33m\u001b[0m\u001b[0m\n\u001b[0;32m      4\u001b[0m \u001b[1;33m\u001b[0m\u001b[0m\n\u001b[1;32m----> 5\u001b[1;33m \u001b[1;32mdel\u001b[0m \u001b[0mtuple_variable\u001b[0m\u001b[1;33m[\u001b[0m\u001b[1;36m1\u001b[0m\u001b[1;33m]\u001b[0m\u001b[1;33m\u001b[0m\u001b[1;33m\u001b[0m\u001b[0m\n\u001b[0m",
      "\u001b[1;31mTypeError\u001b[0m: 'tuple' object doesn't support item deletion"
     ]
    }
   ],
   "source": [
    "# 튜플은 슬라이싱으로도 수정 불가능\n",
    "# 각 요소를 삭제하는 것도 불가능\n",
    "# 튜플은 처음 생성하고 그 각 요소에 대한 값은 읽을 수 있으나 수정 및 삭제는 불가능함\n",
    "\n",
    "del tuple_variable[1]"
   ]
  },
  {
   "cell_type": "code",
   "execution_count": 168,
   "id": "a7eeb5ac-1209-46d4-ab19-cfecd50e249c",
   "metadata": {},
   "outputs": [
    {
     "name": "stdout",
     "output_type": "stream",
     "text": [
      "<class 'tuple'>\n",
      "('음', '오', '아', '예')\n"
     ]
    }
   ],
   "source": [
    "# 튜플 자료형은 소괄호 생략이 가능함\n",
    "\n",
    "t_v2 = \"음\", \"오\", \"아\", \"예\"\n",
    "print(type(t_v2))\n",
    "print(t_v2)"
   ]
  },
  {
   "cell_type": "code",
   "execution_count": 170,
   "id": "9f68bf9b-3881-4863-9782-06041f3caac4",
   "metadata": {},
   "outputs": [],
   "source": [
    "# 리스트는 크기가 바뀔 수 있음\n",
    "# 따라서 그에 따른 초과 할당까지 고려해서 메모리에 데이터를 저장할 수 있을지 신경 써야 함\n",
    "# 튜플은 빠르게 생성할 수 있고 리스트보다 메모리 부담이 적은 대신 그 내용을 변경할 수 없음"
   ]
  },
  {
   "cell_type": "code",
   "execution_count": 180,
   "id": "cde4b19d-8ff9-4bc7-93e4-93c0cde3ab23",
   "metadata": {},
   "outputs": [
    {
     "name": "stdout",
     "output_type": "stream",
     "text": [
      "0.2176361083984375\n"
     ]
    }
   ],
   "source": [
    "import time\n",
    "\n",
    "start_time = time.time() # 시작하는 시간\n",
    "test = []\n",
    "\n",
    "# 1,000,000번을 반복해서 tuple만듭니다.\n",
    "for _ in range(1_000_000):\n",
    "    tp = (_, _) # tuple\n",
    "    test.append(tp)\n",
    "    \n",
    "# 끝나는 시간 - 시작하는 시간\n",
    "print(time.time() - start_time)\n",
    "# 동작한 시간"
   ]
  },
  {
   "cell_type": "code",
   "execution_count": 181,
   "id": "9d38cde6-1cbe-44a1-9fe5-4cb9aa692d8a",
   "metadata": {},
   "outputs": [
    {
     "name": "stdout",
     "output_type": "stream",
     "text": [
      "0.5643126964569092\n"
     ]
    }
   ],
   "source": [
    "start_time = time.time()\n",
    "test = []\n",
    "\n",
    "for _ in range(1_000_000):\n",
    "    tp = [_, _] # list\n",
    "    test.append(tp)\n",
    "    \n",
    "print(time.time() - start_time)"
   ]
  },
  {
   "cell_type": "code",
   "execution_count": 183,
   "id": "d2b8e2c3-0c03-4e36-b46b-a49608237ec5",
   "metadata": {},
   "outputs": [],
   "source": [
    "# 리스트와 튜플 중 어디에 저장하는 것이 좋을까?\n",
    "# 처음 20번째까지 소수 -> 튜플(정해져있는 값이므로)\n",
    "# 프로그래밍 언어의 종류 -> 리스트(변동됨)\n",
    "# 사람의 나이, 몸무게, 키 -> 리스트\n",
    "# 사람의 생일과 출생지 -> 튜플\n",
    "# 롤 게임의 결과 -> 튜플\n",
    "# 잇단 롤 게임의 결과 -> 리스트(게임이 끝날 때마다 값이 추가되므로)"
   ]
  },
  {
   "cell_type": "code",
   "execution_count": 185,
   "id": "f3260bf5-13d5-4f0d-95be-142375412da3",
   "metadata": {},
   "outputs": [
    {
     "name": "stdout",
     "output_type": "stream",
     "text": [
      "text1\n",
      "text2\n"
     ]
    }
   ],
   "source": [
    "# Unpacking(변수 여럿에 동시 할당하기)\n",
    "# 변수를 연속해서 선언하고 대입 연산자를 사용해서 우측 변에 값을 콤마로 구분지어 여러가지 작성함\n",
    "\n",
    "s1, s2 = \"text1\", \"text2\"\n",
    "print(s1)\n",
    "print(s2)"
   ]
  },
  {
   "cell_type": "code",
   "execution_count": 190,
   "id": "4af7f261-d5bc-469a-8f0d-d10f1ab727b3",
   "metadata": {},
   "outputs": [
    {
     "name": "stdout",
     "output_type": "stream",
     "text": [
      "이렇게 리스트도 가능합니다.\n"
     ]
    }
   ],
   "source": [
    "# 튜플 외에 다른 시퀀스 자료형(연속형)도 unpacking 가능함\n",
    "\n",
    "s3, s4, s5 = [\"이렇게\", \"리스트도\", \"가능합니다.\"]\n",
    "print(s3, s4, s5)"
   ]
  },
  {
   "cell_type": "code",
   "execution_count": 191,
   "id": "01a60379-43b2-407d-a0d9-37f0444ba9f9",
   "metadata": {},
   "outputs": [
    {
     "name": "stdout",
     "output_type": "stream",
     "text": [
      "문 자 열 도\n"
     ]
    }
   ],
   "source": [
    "s6, s7, s8, s9 = \"문자열도\"\n",
    "print(s6, s7, s8, s9)"
   ]
  },
  {
   "cell_type": "code",
   "execution_count": 194,
   "id": "345ded99-93b6-4982-97f9-f43589f31f82",
   "metadata": {},
   "outputs": [
    {
     "name": "stdin",
     "output_type": "stream",
     "text": [
      "Message 1111\n"
     ]
    }
   ],
   "source": [
    "# input() 내장 함수를 사용해서 사용자로부터 값을 받아올 수 있음\n",
    "# 이때 받아온 값은 문자열로 받음 -> string이 더 포괄적이므로\n",
    "# input(\"메시지\") -> return 사용자가 입력한 값(str)\n",
    "\n",
    "input_value = input(\"Message\")"
   ]
  },
  {
   "cell_type": "code",
   "execution_count": 195,
   "id": "80392952-81e6-4b1e-9cc7-df39e6f3ec39",
   "metadata": {},
   "outputs": [
    {
     "name": "stdout",
     "output_type": "stream",
     "text": [
      "input_value: 1111 \n",
      "type: <class 'str'>\n"
     ]
    }
   ],
   "source": [
    "print(\"input_value:\", input_value, \"\\ntype:\", type(input_value))"
   ]
  },
  {
   "cell_type": "code",
   "execution_count": 198,
   "id": "69ce86ed-6a16-40e5-a6ae-6b9649c07d23",
   "metadata": {},
   "outputs": [
    {
     "name": "stdout",
     "output_type": "stream",
     "text": [
      "input_value: 1111 \n",
      "type: <class 'int'>\n"
     ]
    }
   ],
   "source": [
    "# 사용자가 입력한 값을 정수로 변환하려면 int() 내장함수 활용\n",
    "\n",
    "input_value = int(input_value)\n",
    "print(\"input_value:\", input_value, \"\\ntype:\", type(input_value))"
   ]
  },
  {
   "cell_type": "code",
   "execution_count": 216,
   "id": "68f5f48f-f3b5-41c5-97e9-957e5b0d47ac",
   "metadata": {},
   "outputs": [
    {
     "name": "stdin",
     "output_type": "stream",
     "text": [
      "Message 1.1\n"
     ]
    }
   ],
   "source": [
    "input_value2 = input(\"Message\")"
   ]
  },
  {
   "cell_type": "code",
   "execution_count": 217,
   "id": "5afd9192-3d3a-44d2-99c1-910fb2099083",
   "metadata": {},
   "outputs": [
    {
     "name": "stdout",
     "output_type": "stream",
     "text": [
      "1.1\n"
     ]
    }
   ],
   "source": [
    "# 사용자가 입력한 값이 실수 형태일 때 정수로 만들고자 할 때\n",
    "# 우선 float() 내장 함수로 float type으로 만든 후 int() 내장 함수를 사용하면 됨\n",
    "\n",
    "input_value2 = float(input_value2)\n",
    "print(input_value2)"
   ]
  },
  {
   "cell_type": "code",
   "execution_count": 218,
   "id": "5c90796e-3efd-49da-afff-af6e950a9c58",
   "metadata": {},
   "outputs": [
    {
     "name": "stdout",
     "output_type": "stream",
     "text": [
      "1\n"
     ]
    }
   ],
   "source": [
    "input_value2 = int(input_value2)\n",
    "print(input_value2)"
   ]
  },
  {
   "cell_type": "code",
   "execution_count": 219,
   "id": "a292fb24-9983-4baa-be11-1b9bbcc5ad5f",
   "metadata": {},
   "outputs": [
    {
     "name": "stdin",
     "output_type": "stream",
     "text": [
      "정수를 입력해주세요: 8\n"
     ]
    },
    {
     "name": "stdout",
     "output_type": "stream",
     "text": [
      "8\n"
     ]
    }
   ],
   "source": [
    "# 제일 깊이 있는 소괄호 내부가 먼저 실행\n",
    "\n",
    "input_value4 = int(input(\"정수를 입력해주세요:\"))\n",
    "print(input_value4)"
   ]
  },
  {
   "cell_type": "code",
   "execution_count": 2,
   "id": "84d2c667-4185-4c19-8e12-b17b0466199e",
   "metadata": {},
   "outputs": [
    {
     "name": "stdin",
     "output_type": "stream",
     "text": [
      "이름을 입력하시오: 엔코아\n"
     ]
    },
    {
     "name": "stdout",
     "output_type": "stream",
     "text": [
      "엔코아 씨, 안녕하세요? \n",
      "파이썬에 오신 것을 환영합니다.\n"
     ]
    },
    {
     "name": "stdin",
     "output_type": "stream",
     "text": [
      "첫 번째 정수를 입력하세요: 300\n",
      "두 번째 정수를 입력하세요: 400\n"
     ]
    },
    {
     "name": "stdout",
     "output_type": "stream",
     "text": [
      "300 과 400 의 합은 700 입니다.\n"
     ]
    }
   ],
   "source": [
    "input_value = input(\"이름을 입력하시오:\")\n",
    "print(input_value, \"씨,\", \"안녕하세요? \\n파이썬에 오신 것을 환영합니다.\")\n",
    "input_value2 = int(input(\"첫 번째 정수를 입력하세요:\"))\n",
    "input_value3 = int(input(\"두 번째 정수를 입력하세요:\"))\n",
    "input_value4 = input_value2+input_value3\n",
    "print(input_value2, \"과\", input_value3, \"의 합은\",input_value4, \"입니다.\")"
   ]
  },
  {
   "cell_type": "code",
   "execution_count": 10,
   "id": "7b8a1faf-04a9-4339-a10d-73f7c57255f3",
   "metadata": {},
   "outputs": [
    {
     "name": "stdin",
     "output_type": "stream",
     "text": [
      "경기장은 어디입니까? 고척\n",
      "이긴 팀은 어디입니까? KT\n",
      "진 팀은 어디입니까? LG\n",
      "우수 선수는 누구입니까? 강백호\n",
      "스코어는 몇대몇입니까? 10:9\n"
     ]
    },
    {
     "name": "stdout",
     "output_type": "stream",
     "text": [
      "\n",
      "[속보] KT 가 10:9 로 승리...\n",
      "오늘 고척 경기장에서 야구 경기가 있었습니다.\n",
      "KT 와 LG 는 치열한 공방전을 펼쳤습니다.\n",
      "이 경기에서 강백호 가 맹활약을 했습니다.\n",
      "그 끝내 KT 가 LG 를 10:9 로 승리하였습니다..\n",
      "기사 끝.\n"
     ]
    }
   ],
   "source": [
    "place = input(\"경기장은 어디입니까?\")\n",
    "winner = input(\"이긴 팀은 어디입니까?\")\n",
    "loser = input(\"진 팀은 어디입니까?\")\n",
    "player = input(\"우수 선수는 누구입니까?\")\n",
    "score = input(\"스코어는 몇대몇입니까?\")\n",
    "              \n",
    "print(\"\\n[속보]\", winner, \"가\", score, \"로 승리...\")\n",
    "print(\"오늘\", place, \"경기장에서 야구 경기가 있었습니다.\")\n",
    "print(winner, \"와\", loser, \"는 치열한 공방전을 펼쳤습니다.\")\n",
    "print(\"이 경기에서\", player, \"가 맹활약을 했습니다.\")\n",
    "print(\"그 끝내\", winner, \"가\", loser, \"를\", score, \"로 승리하였습니다..\")\n",
    "print(\"기사 끝.\")  # sep='' 넣으면 공백 없앨 수 있음"
   ]
  },
  {
   "cell_type": "code",
   "execution_count": 15,
   "id": "c24c9116-2acb-4d10-b87e-01d4979c5d36",
   "metadata": {},
   "outputs": [
    {
     "name": "stdout",
     "output_type": "stream",
     "text": [
      "<class 'list'>\n",
      "['1', '2', '3']\n"
     ]
    }
   ],
   "source": [
    "# 입력 값을 여러 개의 변수에 저장하기\n",
    "# split() 함수는 인자로 전달된 구분자를 활용하여 문자열을 쪼갬\n",
    "# 그 결과를 list 자료형으로 반환함\n",
    "# 구분자를 인자로 전달하지 않는 경우엔 공백을 기준으로 문자열을 쪼갬\n",
    "\n",
    "result = '1,2,3'.split(',')\n",
    "print(type(result))\n",
    "print(result)"
   ]
  },
  {
   "cell_type": "code",
   "execution_count": 29,
   "id": "19dee258-b7be-472e-84b6-13489b8b0265",
   "metadata": {},
   "outputs": [
    {
     "name": "stdin",
     "output_type": "stream",
     "text": [
      "hh:mm:ss의 형태로 시간을 입력해주세요. 12:33:23\n"
     ]
    },
    {
     "name": "stdout",
     "output_type": "stream",
     "text": [
      "\n",
      "실행 결과:\n",
      "시: 12\n",
      "분: 33\n",
      "초: 23\n"
     ]
    }
   ],
   "source": [
    "result = input(\"hh:mm:ss의 형태로 시간을 입력해주세요.\")\n",
    "\n",
    "result = result.split(':')\n",
    "print(\"\\n실행 결과:\")\n",
    "print(\"시:\", result[0])\n",
    "print(\"분:\", result[1])\n",
    "print(\"초:\", result[2])"
   ]
  },
  {
   "cell_type": "code",
   "execution_count": 31,
   "id": "06ddca08-d1d0-4f31-9671-1027f5a84609",
   "metadata": {},
   "outputs": [
    {
     "name": "stdin",
     "output_type": "stream",
     "text": [
      "hh:mm:ss의 형태로 시간을 입력해주세요. 12:33:23\n"
     ]
    },
    {
     "name": "stdout",
     "output_type": "stream",
     "text": [
      "\n",
      "실행 결과:\n",
      "시: 12\n",
      "분: 33\n",
      "초: 23\n"
     ]
    }
   ],
   "source": [
    "h, m, s = input(\"hh:mm:ss의 형태로 시간을 입력해주세요.\").split(\":\")\n",
    "\n",
    "print(\"\\n실행 결과:\")\n",
    "print(\"시:\", h)\n",
    "print(\"분:\", m)\n",
    "print(\"초:\", s)"
   ]
  },
  {
   "cell_type": "code",
   "execution_count": 35,
   "id": "380b047d-a7f5-44cc-91a6-b7eb44824ce8",
   "metadata": {},
   "outputs": [
    {
     "name": "stdout",
     "output_type": "stream",
     "text": [
      "[1, 2, 3, 4]\n"
     ]
    }
   ],
   "source": [
    "# map() 내장 함수 이용하기\n",
    "# iterable 객체에서 요소를 하나하나 꺼내어 특정 함수를 각각 적용하고 싶을 때 사용함\n",
    "# 반환은 map 클래스를 반환하는데 이는 iterable한 객체임\n",
    "# list() 함수 또는 tuple() 함수를 활용하여 map 클래스를 list 혹으 tuple로 변경 가능함\n",
    "# a = list(map(함수, 시퀀스))\n",
    "\n",
    "a = [1.2, 2.5, 3.7, 4.6]\n",
    "a = list(map(int, a))\n",
    "print(a)"
   ]
  },
  {
   "cell_type": "code",
   "execution_count": 43,
   "id": "986d58e6-4306-409b-81a4-fde3a0d4bb3e",
   "metadata": {},
   "outputs": [
    {
     "name": "stdin",
     "output_type": "stream",
     "text": [
      "국어, 영어, 수학, 과학 점수를 입력해주세요. 98,100,96,100\n"
     ]
    },
    {
     "name": "stdout",
     "output_type": "stream",
     "text": [
      "\n",
      "실행 결과: \n",
      "평균 점수는 98.5 점입니다.\n"
     ]
    }
   ],
   "source": [
    "grade = input(\"국어, 영어, 수학, 과학 점수를 입력해주세요.\")\n",
    "\n",
    "grade = grade.split(\",\")\n",
    "grade = list(map(int, grade))\n",
    "grade = (grade[0]+grade[1]+grade[2]+grade[3])/4\n",
    "\n",
    "print(\"\\n실행 결과: \\n평균 점수는\", grade, \"점입니다.\")"
   ]
  }
 ],
 "metadata": {
  "kernelspec": {
   "display_name": "Python 3 (ipykernel)",
   "language": "python",
   "name": "python3"
  },
  "language_info": {
   "codemirror_mode": {
    "name": "ipython",
    "version": 3
   },
   "file_extension": ".py",
   "mimetype": "text/x-python",
   "name": "python",
   "nbconvert_exporter": "python",
   "pygments_lexer": "ipython3",
   "version": "3.9.13"
  }
 },
 "nbformat": 4,
 "nbformat_minor": 5
}
