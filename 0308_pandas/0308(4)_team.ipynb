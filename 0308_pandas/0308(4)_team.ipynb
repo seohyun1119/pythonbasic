{
 "cells": [
  {
   "cell_type": "code",
   "execution_count": 10,
   "id": "59225041-c2b1-4cb2-be33-8e08712c7a1e",
   "metadata": {},
   "outputs": [],
   "source": [
    "import numpy as np\n",
    "import pandas as pd\n",
    "import random"
   ]
  },
  {
   "cell_type": "code",
   "execution_count": 64,
   "id": "b1176667-85e3-4709-bb4d-edf7a5cd2efb",
   "metadata": {},
   "outputs": [],
   "source": [
    "# df = pd.read_csv('C:/python/datas/teams.csv')\n",
    "# team = df.sample(28)\n",
    "# team['team'] = [_ for _ in range(1, 8) for i in range(1, 5)]\n",
    "# team.to_csv('team_result.csv', index=False)"
   ]
  },
  {
   "cell_type": "code",
   "execution_count": 65,
   "id": "a00195c4-a276-4b60-951d-b684c9cedb55",
   "metadata": {},
   "outputs": [],
   "source": [
    "# pd.read_csv('team_result.csv')"
   ]
  }
 ],
 "metadata": {
  "kernelspec": {
   "display_name": "Python 3 (ipykernel)",
   "language": "python",
   "name": "python3"
  },
  "language_info": {
   "codemirror_mode": {
    "name": "ipython",
    "version": 3
   },
   "file_extension": ".py",
   "mimetype": "text/x-python",
   "name": "python",
   "nbconvert_exporter": "python",
   "pygments_lexer": "ipython3",
   "version": "3.9.13"
  }
 },
 "nbformat": 4,
 "nbformat_minor": 5
}
