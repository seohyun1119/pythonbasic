{
 "cells": [
  {
   "attachments": {},
   "cell_type": "markdown",
   "metadata": {},
   "source": [
    "VScode 확장프로그램 설치하기   \n",
    "- Auto rename tag  \n",
    "- Live server  "
   ]
  },
  {
   "attachments": {},
   "cell_type": "markdown",
   "metadata": {},
   "source": [
    "# HTML"
   ]
  },
  {
   "attachments": {},
   "cell_type": "markdown",
   "metadata": {},
   "source": [
    "HTML(HyperText Markup Language)은 웹 페이지를 만들기 위한 가장 기본적인 마크업 언어\n",
    "> - 각 요소는 태그(tag)로 표시  \n",
    "> - 여는 태그는 <tag> 형식으로 쓰이고, 닫는 태그는 </tag> 형식  "
   ]
  },
  {
   "attachments": {},
   "cell_type": "markdown",
   "metadata": {},
   "source": [
    "br -> 줄바꿈을 의미함"
   ]
  },
  {
   "attachments": {},
   "cell_type": "markdown",
   "metadata": {},
   "source": [
    "띄어쓰기는 문법처럼 사용되므로 잘 해야함!"
   ]
  },
  {
   "attachments": {},
   "cell_type": "markdown",
   "metadata": {},
   "source": [
    "href -> a 태그 안에 정의되어 있는 태그"
   ]
  },
  {
   "attachments": {},
   "cell_type": "markdown",
   "metadata": {},
   "source": [
    "이미지에서 alt는 이미지를 불러오지 못했을 때 보이는 텍스트"
   ]
  },
  {
   "attachments": {},
   "cell_type": "markdown",
   "metadata": {},
   "source": [
    "strong이 b와 다른 점 -> 텍스트를 읽어주는 프로그램이 강조해서 읽어줌  "
   ]
  },
  {
   "attachments": {},
   "cell_type": "markdown",
   "metadata": {},
   "source": [
    "HTML Colors 에서 (255, 99, 71, 0.5) 중 0.5는 투명도!  \n",
    "1에 가까울수록 불투명해짐 "
   ]
  },
  {
   "attachments": {},
   "cell_type": "markdown",
   "metadata": {},
   "source": []
  }
 ],
 "metadata": {
  "kernelspec": {
   "display_name": ".venv",
   "language": "python",
   "name": "python3"
  },
  "language_info": {
   "name": "python",
   "version": "3.11.3"
  },
  "orig_nbformat": 4
 },
 "nbformat": 4,
 "nbformat_minor": 2
}
