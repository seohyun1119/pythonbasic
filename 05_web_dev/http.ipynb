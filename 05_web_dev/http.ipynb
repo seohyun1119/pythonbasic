{
 "cells": [
  {
   "attachments": {},
   "cell_type": "markdown",
   "metadata": {},
   "source": [
    "# 인터넷의 주요 프로토콜"
   ]
  },
  {
   "attachments": {},
   "cell_type": "markdown",
   "metadata": {},
   "source": [
    "- TCP (Transmission Control Protocol): 데이터의 신뢰성\n",
    "- IP (Internet Protocol): ip4\n",
    "- HTTP (Hypertext Transfer Protocol"
   ]
  },
  {
   "attachments": {},
   "cell_type": "markdown",
   "metadata": {},
   "source": [
    "URL: 컴퓨터를 특정하기 위해 사용"
   ]
  },
  {
   "attachments": {},
   "cell_type": "markdown",
   "metadata": {},
   "source": [
    "[:port] -> http:80, https: 443  \n",
    "[?query] -> 서버를 요청할 때 보내는 파라미터를 담는 부분  \n",
    "프래그먼트 -> 요소"
   ]
  },
  {
   "attachments": {},
   "cell_type": "markdown",
   "metadata": {},
   "source": [
    "https: 프로토콜  \n",
    "www.example.com: 호스트  \n",
    "/index.html: path  \n",
    "?page=1: 쿼리스트링  \n",
    "#section2: 프래그먼트  "
   ]
  },
  {
   "attachments": {},
   "cell_type": "markdown",
   "metadata": {},
   "source": [
    "DNS: 계층구조에 따라서 리소스를 찾아갈 수 있음  "
   ]
  },
  {
   "attachments": {},
   "cell_type": "markdown",
   "metadata": {},
   "source": [
    "데이터 링크 계층: 통신 장비들 간에도 서로 식별할 수 있는 값들을 가지고 있음  \n",
    "MAC 이라고 물리적인 주소가 픽스되어 있음  \n",
    "IP: 논리적인 주소"
   ]
  },
  {
   "attachments": {},
   "cell_type": "markdown",
   "metadata": {},
   "source": [
    "IP 주소를 통해 찾아감 "
   ]
  },
  {
   "attachments": {},
   "cell_type": "markdown",
   "metadata": {},
   "source": [
    "IPv4: 2의 8승이 되는 숫자 4개(0부터 255까지의 숫자를 가짐)  \n",
    "127.0.0.1 : localhost라는 도메인을 가지고 있음  \n",
    "request하고 response를 받음  "
   ]
  },
  {
   "attachments": {},
   "cell_type": "markdown",
   "metadata": {},
   "source": [
    "TCP: 신뢰성!!  \n",
    "패킷이라는 단위로 보냄  "
   ]
  },
  {
   "attachments": {},
   "cell_type": "markdown",
   "metadata": {},
   "source": [
    "UDP: 반응속도가 빠름  "
   ]
  },
  {
   "attachments": {},
   "cell_type": "markdown",
   "metadata": {},
   "source": [
    "서비스를 나누기 위한 번호: 포트 번호  \n",
    "예) 건물: 서버, 101호: 포트  \n",
    "https: 암호화되어 있지만 조금 느림  \n",
    "80번: http  "
   ]
  },
  {
   "attachments": {},
   "cell_type": "markdown",
   "metadata": {},
   "source": [
    "  client -> request -> server  \n",
    "  client <- response <- server  "
   ]
  },
  {
   "attachments": {},
   "cell_type": "markdown",
   "metadata": {},
   "source": [
    "http의 헤더에 메타 정보를 담음  \n",
    "post: http Method  \n",
    "GET 통신은 body 값이 없음  "
   ]
  },
  {
   "attachments": {},
   "cell_type": "markdown",
   "metadata": {},
   "source": [
    "HTML, CSS, JavaScript (웹표준) -> Browser에서 동작할 수 있게 만들어짐 "
   ]
  },
  {
   "attachments": {},
   "cell_type": "markdown",
   "metadata": {},
   "source": [
    ", /users/1 : path 값을 변수처럼 사용  \n",
    "PUT은 body가 있음  "
   ]
  },
  {
   "attachments": {},
   "cell_type": "markdown",
   "metadata": {},
   "source": [
    "500에러가 뜨면 백엔드 쪽을 살펴봐야 함"
   ]
  },
  {
   "attachments": {},
   "cell_type": "markdown",
   "metadata": {},
   "source": [
    "트래픽을 줄인다 -> 네트워크 간 주고받는 데이터양?을 줄인다.  \n",
    "상태를 유지하기 위해서 쿠키 사용  \n",
    "쿠키를 통해서 로그인 상태를 유지  \n",
    "사용기록을 저장해 두는 임시 파일을 \"쿠키\"라고 부르는 것일까요? 사용자가 웹사이트를 사용하고 남는 기록이 마치 과자를 먹고 부스러기가 남는 것과 유사하다고 해서 쿠키라는 이름이 사용되었다고 합니다.  \n",
    "웹브라우저 기준으로 생성  \n"
   ]
  },
  {
   "attachments": {},
   "cell_type": "markdown",
   "metadata": {},
   "source": [
    "이러한 메서드를 사용하여\n",
    "자원을 생성, 읽기, 업데이트 및 삭제(CRUD)  \n",
    "예) DELETE를 사용할 시, 키 값에 있는 id를 지우겠다. "
   ]
  },
  {
   "attachments": {},
   "cell_type": "markdown",
   "metadata": {},
   "source": [
    "파싱 속도: 문자로 쐈을 떄 구조를 잡아가는 속도  "
   ]
  },
  {
   "attachments": {},
   "cell_type": "markdown",
   "metadata": {},
   "source": [
    "URL에는 명사를 쓰는 것이 좋음 !! "
   ]
  },
  {
   "attachments": {},
   "cell_type": "markdown",
   "metadata": {},
   "source": [
    "동사적인 의미는 Method로 하면 좋음 "
   ]
  },
  {
   "attachments": {},
   "cell_type": "markdown",
   "metadata": {},
   "source": [
    "running -> key / shoes -> value"
   ]
  },
  {
   "attachments": {},
   "cell_type": "markdown",
   "metadata": {},
   "source": []
  }
 ],
 "metadata": {
  "kernelspec": {
   "display_name": ".venv",
   "language": "python",
   "name": "python3"
  },
  "language_info": {
   "name": "python",
   "version": "3.11.3"
  },
  "orig_nbformat": 4
 },
 "nbformat": 4,
 "nbformat_minor": 2
}
