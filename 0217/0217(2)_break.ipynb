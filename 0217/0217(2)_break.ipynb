{
 "cells": [
  {
   "cell_type": "code",
   "execution_count": 1,
   "id": "43d56d40-d22a-46da-b701-b5f364fc00d9",
   "metadata": {},
   "outputs": [
    {
     "name": "stdout",
     "output_type": "stream",
     "text": [
      "0\n",
      "1\n",
      "2\n",
      "3\n",
      "4\n",
      "5\n",
      "6\n",
      "7\n",
      "8\n",
      "9\n",
      "10\n"
     ]
    }
   ],
   "source": [
    "# break문\n",
    "# 반복문 안에서 특정 조건에 부합할 때 해당 빈복문을 빠져나가기 위해 사용함.\n",
    "# 보통 if문과 함께 쓰임.\n",
    "\n",
    "# 10000회 반복\n",
    "for _ in range(10000):\n",
    "    print(_)\n",
    "    if _ == 10:\n",
    "        break"
   ]
  },
  {
   "cell_type": "code",
   "execution_count": 2,
   "id": "1a16d568-127e-4e7d-ab1c-9958a6378cb0",
   "metadata": {},
   "outputs": [
    {
     "name": "stdout",
     "output_type": "stream",
     "text": [
      "Hello world\n",
      "Hello world\n",
      "Hello world\n",
      "Hello world\n",
      "Hello world\n",
      "Hello world\n",
      "Hello world\n",
      "Hello world\n",
      "Hello world\n",
      "Hello world\n"
     ]
    }
   ],
   "source": [
    "i = 0\n",
    "while True:\n",
    "    print(\"Hello world\")\n",
    "    i+=1\n",
    "    if i == 10:\n",
    "        break"
   ]
  },
  {
   "cell_type": "code",
   "execution_count": 6,
   "id": "7508000f-2466-4939-98d2-161eb2be757a",
   "metadata": {},
   "outputs": [
    {
     "name": "stdout",
     "output_type": "stream",
     "text": [
      "5050\n"
     ]
    }
   ],
   "source": [
    "# 0부터 100까지 자연수의 총합을 구하는 프로그램\n",
    "\n",
    "i = 0\n",
    "total = 0\n",
    "\n",
    "while True:\n",
    "    total += i\n",
    "    i += 1\n",
    "    if i>100:\n",
    "        break\n",
    "        \n",
    "print(total)"
   ]
  },
  {
   "cell_type": "code",
   "execution_count": 5,
   "id": "e55943eb-eac3-4012-ae48-ea71e468deed",
   "metadata": {},
   "outputs": [
    {
     "name": "stdout",
     "output_type": "stream",
     "text": [
      "5050\n"
     ]
    }
   ],
   "source": [
    "# 조건문을 앞에 썼을 때\n",
    "\n",
    "i = 0\n",
    "total = 0\n",
    "\n",
    "while True:\n",
    "    if i<100:\n",
    "        i += 1\n",
    "        total += i\n",
    "    else: \n",
    "        break\n",
    "        \n",
    "print(total)"
   ]
  },
  {
   "cell_type": "code",
   "execution_count": 9,
   "id": "009e9c8c-27dc-4040-af7e-9db8ca766889",
   "metadata": {},
   "outputs": [
    {
     "name": "stdin",
     "output_type": "stream",
     "text": [
      "q를 입력하면 종료됩니다. 진짜??\n",
      "q를 입력하면 종료됩니다. 정말??\n",
      "q를 입력하면 종료됩니다. q\n"
     ]
    },
    {
     "name": "stdout",
     "output_type": "stream",
     "text": [
      "프로그램을 종료합니다.\n"
     ]
    }
   ],
   "source": [
    "# while문을 활용한 무한루프와 input()을 조합하면 콘솔 프로그램에서 원하는 값을 받을 때까지 입력을 받는 프로그램 구현 가능\n",
    "\n",
    "while True:\n",
    "    input_value = input(\"q를 입력하면 종료됩니다.\")\n",
    "    if input_value == \"q\": break\n",
    "print(\"프로그램을 종료합니다.\")"
   ]
  },
  {
   "cell_type": "code",
   "execution_count": 11,
   "id": "65cae7e9-3fba-4d2c-8870-2afcccb60768",
   "metadata": {},
   "outputs": [
    {
     "name": "stdout",
     "output_type": "stream",
     "text": [
      "1\t3\t5\t7\t9\t11\t13\t15\t17\t19\t21\t23\t25\t27\t29\t31\t33\t35\t37\t39\t41\t43\t45\t47\t49\t51\t53\t55\t57\t59\t61\t63\t65\t67\t69\t71\t73\t75\t77\t79\t81\t83\t85\t87\t89\t91\t93\t95\t97\t99\t"
     ]
    }
   ],
   "source": [
    "# continue는 제어흐름을 유지하고, continue가 실행된 반복 횟수의 코드 실행만 건너뜀\n",
    "\n",
    "for i in range(100):          # 0부터 99까지 증가하면서 100번 반복\n",
    "    if i%2 == 0:              # i를 2로 나누었을 때 나머지가 0이면 짝수\n",
    "        continue              # 아래 코드를 실행하지 않고 건너뜀\n",
    "    print(i, end = \"\\t\")"
   ]
  },
  {
   "cell_type": "code",
   "execution_count": 12,
   "id": "b450c3c2-d4cb-4ab8-a231-8ffaed121dd6",
   "metadata": {},
   "outputs": [
    {
     "name": "stdout",
     "output_type": "stream",
     "text": [
      "1\t3\t5\t7\t9\t11\t13\t15\t17\t19\t21\t23\t25\t27\t29\t31\t33\t35\t37\t39\t41\t43\t45\t47\t49\t51\t53\t55\t57\t59\t61\t63\t65\t67\t69\t71\t73\t75\t77\t79\t81\t83\t85\t87\t89\t91\t93\t95\t97\t99\t"
     ]
    }
   ],
   "source": [
    "i = 0\n",
    "while i < 100:\n",
    "    i += 1\n",
    "    if i%2 ==0:\n",
    "        continue\n",
    "    print(i, end = \"\\t\")"
   ]
  },
  {
   "cell_type": "code",
   "execution_count": 5,
   "id": "c36f5ed9-cc7b-40b9-a329-0607298bfa36",
   "metadata": {},
   "outputs": [
    {
     "name": "stdin",
     "output_type": "stream",
     "text": [
      "시작하는 숫자 입력 :  1\n",
      "끝나는 숫자 입력 :  10\n"
     ]
    },
    {
     "name": "stdout",
     "output_type": "stream",
     "text": [
      "1 부터 10 까지의 합은 55 입니다.\n"
     ]
    }
   ],
   "source": [
    "# 두 자연수 n부터 m을 입력받고, n부터 m까지의 합을 구하는 프로그램\n",
    "# for문 사용\n",
    "\n",
    "n = int(input(\"시작하는 숫자 입력 : \"))\n",
    "m = int(input(\"끝나는 숫자 입력 : \"))\n",
    "total = 0\n",
    "\n",
    "for i in range(n, m+1):\n",
    "    total+=i\n",
    "    \n",
    "print(n, \"부터\", m, \"까지의 합은\", total, \"입니다.\")"
   ]
  },
  {
   "cell_type": "code",
   "execution_count": 6,
   "id": "ff1a8d3d-a82e-447c-a42e-0a1d9e5fa147",
   "metadata": {},
   "outputs": [
    {
     "name": "stdin",
     "output_type": "stream",
     "text": [
      "시작하는 숫자 입력 :  1\n",
      "끝나는 숫자 입력 :  10\n"
     ]
    },
    {
     "name": "stdout",
     "output_type": "stream",
     "text": [
      "1 부터 10 까지의 합은 55 입니다.\n"
     ]
    }
   ],
   "source": [
    "# 두 자연수 n부터 m을 입력받고, n부터 m까지의 합을 구하는 프로그램\n",
    "# while문 사용\n",
    "\n",
    "n = int(input(\"시작하는 숫자 입력 : \"))\n",
    "m = int(input(\"끝나는 숫자 입력 : \"))\n",
    "\n",
    "i = n\n",
    "total = 0\n",
    "while i<=m:\n",
    "    total+=i\n",
    "    i+=1\n",
    "    \n",
    "print(n, \"부터\", m, \"까지의 합은\", total, \"입니다.\")"
   ]
  }
 ],
 "metadata": {
  "kernelspec": {
   "display_name": "Python 3 (ipykernel)",
   "language": "python",
   "name": "python3"
  },
  "language_info": {
   "codemirror_mode": {
    "name": "ipython",
    "version": 3
   },
   "file_extension": ".py",
   "mimetype": "text/x-python",
   "name": "python",
   "nbconvert_exporter": "python",
   "pygments_lexer": "ipython3",
   "version": "3.9.13"
  }
 },
 "nbformat": 4,
 "nbformat_minor": 5
}
