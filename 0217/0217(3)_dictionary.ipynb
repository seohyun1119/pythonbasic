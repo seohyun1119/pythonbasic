{
 "cells": [
  {
   "cell_type": "code",
   "execution_count": 135,
   "id": "d870cb7a-5086-4d98-a0a6-72290321cbad",
   "metadata": {},
   "outputs": [],
   "source": [
    "# 딕셔너리 자료형(Dictionary type)\n",
    "# 비 시퀀스 자료형이므로 인덱스를 갖지 않음, 순서가 없음\n",
    "# 고유한 키(key)값을 가짐\n",
    "# 이 키(key)는 1대1로 매칭되는 값(value)를 가짐\n",
    "# 이를 key-value pair라고 하며 딕셔너리 자료형의 특징"
   ]
  },
  {
   "cell_type": "code",
   "execution_count": 9,
   "id": "f2d2ca05-44f0-4b97-aea7-d305f07ddf74",
   "metadata": {},
   "outputs": [
    {
     "name": "stdout",
     "output_type": "stream",
     "text": [
      "<class 'dict'>\n",
      "{'key': 'value'}\n"
     ]
    }
   ],
   "source": [
    "# 중괄호({})를 활용하여 딕셔너리 자료형을 생성할 수 있음\n",
    "# 중괄호 안에는 key-value pair를 작성하며 형태는 key-value와 같음\n",
    "# key-value pair는 각각 콤마로 구분지어 요소로 등록할 수 있음\n",
    "# dictionary_variable = {key: value, key: value, ...}\n",
    "# () => tuple (시퀀스, 불변)\n",
    "# [] => list  (시퀀스, 가변)\n",
    "# {} => dictionary(key:value), set(key)   (비시퀀스이므로 인덱스X, 대신에 key값을 가짐)\n",
    "\n",
    "dic_var = {\"key\": \"value\"}\n",
    "print(type(dic_var))\n",
    "print(dic_var)"
   ]
  },
  {
   "cell_type": "code",
   "execution_count": 10,
   "id": "f658c000-5c20-4ab0-b424-c165de8c4415",
   "metadata": {},
   "outputs": [
    {
     "name": "stdout",
     "output_type": "stream",
     "text": [
      "{'key': 'last value'}\n"
     ]
    }
   ],
   "source": [
    "# 키(key)는 중복해서 존재하지 않음\n",
    "# 만약 중복해서 넣게 되면 가장 최근에 넣은 key-value pair로 덮어씀\n",
    "\n",
    "dic_var = {\"key\": \"value\", \"key\": \"last value\"}\n",
    "print(dic_var)"
   ]
  },
  {
   "cell_type": "code",
   "execution_count": 19,
   "id": "97dbc27e-0f1c-43bc-a479-8eca50577d69",
   "metadata": {},
   "outputs": [
    {
     "name": "stdout",
     "output_type": "stream",
     "text": [
      "[<class 'str'>, <class 'int'>, <class 'float'>, <class 'tuple'>]\n"
     ]
    }
   ],
   "source": [
    "# 키는 문자열(str), 정수(int), 실수(float), 불(bool), 튜플(tuple)을 사용할 수 있음\n",
    "# 키에 이 자료형을 섞어서 사용 가능\n",
    "# 키에는 리스트(list), 딕셔너리(dictionary), 집합(set)을 사용할 수 없음\n",
    "# 키(key)는 고유한 값을 가져야 함\n",
    "\n",
    "dic_var = {\"key\": \"value\",\n",
    "           1: \"value2\",\n",
    "           1.1: \"value3\",\n",
    "           True: \"value4\",\n",
    "           (\"key\", 1, 1.1, True): \"value2\"}\n",
    "\n",
    "print(list(map(type, dic_var.keys())))"
   ]
  },
  {
   "cell_type": "code",
   "execution_count": 20,
   "id": "17349395-9211-4329-b498-88c9f5881eec",
   "metadata": {},
   "outputs": [
    {
     "name": "stdout",
     "output_type": "stream",
     "text": [
      "[<class 'str'>, <class 'bool'>, <class 'float'>, <class 'tuple'>, <class 'list'>, <class 'dict'>, <class 'set'>]\n"
     ]
    }
   ],
   "source": [
    "# 값(value)은 모든 자료형을 사용할 수 있음\n",
    "\n",
    "dic_var = {\"key\": \"value\",\n",
    "           1: 1,\n",
    "           1.1: 1.1,\n",
    "           True: False,\n",
    "           (\"key\", 1, 1.1, True): (\"key\", 1, 1.1, True),\n",
    "          \"list\": [1, \"가\", 1.1, True, (1, '나')],\n",
    "          \"dict\": {\"key\": \"value\", \"key2\": \"value2\"},\n",
    "           \"set\": {\"key\", \"value\"}\n",
    "          }\n",
    "\n",
    "print(list(map(type, dic_var.values())))"
   ]
  },
  {
   "cell_type": "code",
   "execution_count": 28,
   "id": "81413110-790f-44e6-a42e-0fff16d9fcdd",
   "metadata": {},
   "outputs": [
    {
     "name": "stdout",
     "output_type": "stream",
     "text": [
      "{}\n",
      "<class 'dict'>\n",
      "{}\n",
      "<class 'dict'>\n"
     ]
    }
   ],
   "source": [
    "# 빈 딕셔너리 생성하기\n",
    "# 중괄호({})만 쓰거나 인자 없이 dict() 함수 사용\n",
    "\n",
    "empty_dict = {}\n",
    "print(empty_dict)\n",
    "print(type(empty_dict))\n",
    "\n",
    "empty_dict = dict()\n",
    "print(empty_dict)\n",
    "print(type(empty_dict))"
   ]
  },
  {
   "cell_type": "code",
   "execution_count": 30,
   "id": "2fe3e233-7435-4f96-b274-d99ac574fc8b",
   "metadata": {},
   "outputs": [
    {
     "name": "stdout",
     "output_type": "stream",
     "text": [
      "{'key1': 'value', 'key2': 'value2', 'key3': 'value3'}\n"
     ]
    }
   ],
   "source": [
    "# dict() 함수로 생성하기\n",
    "# dict() 함수에 키워드 인자값을 활용하면 딕셔너리를 만들 수 있음\n",
    "# 함수에 사용하는 키워드 인자의 키워드 부분은 변수명처럼 따옴표를 사용하지 않음\n",
    "\n",
    "dict_a = dict(key1 = \"value\", key2 = \"value2\", key3 = \"value3\")\n",
    "print(dict_a)"
   ]
  },
  {
   "cell_type": "code",
   "execution_count": 32,
   "id": "a03012b9-09ad-4b15-b7b6-cb429b337bc9",
   "metadata": {},
   "outputs": [
    {
     "data": {
      "text/plain": [
       "{'key': 'value', 'key2': 'value2'}"
      ]
     },
     "execution_count": 32,
     "metadata": {},
     "output_type": "execute_result"
    }
   ],
   "source": [
    "# dict()함수와 시퀀스 객체로 생성하기\n",
    "# 키와 값 한 쌍을 갖는 시퀀스 객체를 요소로 갖는 시퀀스 객체를 생성하여 딕셔너리 자료형으로 만들 수 있음\n",
    "\n",
    "dict([(\"key\", \"value\"), (\"key2\", \"value2\")])"
   ]
  },
  {
   "cell_type": "code",
   "execution_count": 39,
   "id": "7e3578a4-55c5-48ec-ab92-b39b96af4c54",
   "metadata": {},
   "outputs": [
    {
     "name": "stdout",
     "output_type": "stream",
     "text": [
      "{'key': 'value', 'key2': 'value2', 'key3': 'value3'}\n",
      "<zip object at 0x0000024013FFCC80>\n"
     ]
    }
   ],
   "source": [
    "# zip() 함수를 통하여 키와 값 한 쌍을 갖는 튜플을 요소로 갖는 객체로 딕셔너리 자료형 생성 가능\n",
    "\n",
    "dict_b = dict(zip([\"key\", \"key2\", \"key3\"], [\"value\", \"value2\", \"value3\"]))\n",
    "print(dict_b)\n",
    "\n",
    "print(zip([\"key\", \"key2\", \"key3\"], [\"value\", \"value2\", \"value3\"]))"
   ]
  },
  {
   "cell_type": "code",
   "execution_count": 40,
   "id": "da26cba5-0ae7-499e-b492-35ef01bd3985",
   "metadata": {},
   "outputs": [
    {
     "data": {
      "text/plain": [
       "[('key', 'value'), ('key2', 'value2'), ('key3', 'value3')]"
      ]
     },
     "execution_count": 40,
     "metadata": {},
     "output_type": "execute_result"
    }
   ],
   "source": [
    "[_ for _ in zip([\"key\", \"key2\", \"key3\"], [\"value\", \"value2\", \"value3\"])]"
   ]
  },
  {
   "cell_type": "code",
   "execution_count": 43,
   "id": "0b5bbc89-76ee-4bd2-88f4-835561c97b1a",
   "metadata": {},
   "outputs": [
    {
     "name": "stdout",
     "output_type": "stream",
     "text": [
      "[('key1', 'value1'), ('key2', 'value2'), ('key3', 'value3')]\n"
     ]
    }
   ],
   "source": [
    "keys = (\"key1\", \"key2\", \"key3\")\n",
    "values = (\"value1\", \"value2\", \"value3\")\n",
    "       \n",
    "sam_list = []\n",
    "for index in range(len(keys)):\n",
    "    sam_list.append((keys[index], values[index]))\n",
    "print(sam_list)"
   ]
  },
  {
   "cell_type": "code",
   "execution_count": 46,
   "id": "e0a35dbd-29af-4b02-b00c-d5d78050d512",
   "metadata": {},
   "outputs": [
    {
     "name": "stdout",
     "output_type": "stream",
     "text": [
      "{'key': 'value', 'key2': 'value2', 'key3': 'value3'}\n",
      "value\n"
     ]
    }
   ],
   "source": [
    "# 인덱싱은 0 이상의 정수를 활용하여 각 요소에 접근하지만 딕셔너리 자료형은 키를 활용하여 해당 값에 접근\n",
    "\n",
    "print(dict_b)\n",
    "print(dict_b[\"key\"])"
   ]
  },
  {
   "cell_type": "code",
   "execution_count": 49,
   "id": "99f1963e-7635-4e80-a77e-a426171df91f",
   "metadata": {},
   "outputs": [
    {
     "name": "stdout",
     "output_type": "stream",
     "text": [
      "{'key': 'super value', 'key2': 'value2', 'key3': 'value3', 'new_one': 'new value'}\n",
      "{'key': 'super value', 'key2': 'value2', 'key3': 'value3', 'new_one': 'new value'}\n"
     ]
    }
   ],
   "source": [
    "print(dict_b)\n",
    "dict_b[\"key\"] = \"super value\"\n",
    "print(dict_b)"
   ]
  },
  {
   "cell_type": "code",
   "execution_count": 50,
   "id": "087ffc6a-9c76-457d-a66d-71161e93c579",
   "metadata": {},
   "outputs": [
    {
     "name": "stdout",
     "output_type": "stream",
     "text": [
      "{'key': 'super value', 'key2': 'value2', 'key3': 'value3', 'new_one': 'new value'}\n",
      "{'key': 'super value', 'key2': 'value2', 'key3': 'value3', 'new_one': 'new value'}\n"
     ]
    }
   ],
   "source": [
    "# 딕셔너리 자료형에 없는 키를 활용하여 값을 할당하면 딕셔너리 자료형에 새로운 키와 값의 쌍이 추가됨\n",
    "\n",
    "print(dict_b)\n",
    "dict_b[\"new_one\"] = \"new value\"\n",
    "print(dict_b)"
   ]
  },
  {
   "cell_type": "code",
   "execution_count": 56,
   "id": "602d5794-140a-4a39-92b3-a0afbd2a34b1",
   "metadata": {},
   "outputs": [
    {
     "name": "stdout",
     "output_type": "stream",
     "text": [
      "{'key': 'super value', 'key2': 'value2', 'key3': 'value3', 'new_one': 'new value'}\n"
     ]
    },
    {
     "ename": "KeyError",
     "evalue": "'없는 키'",
     "output_type": "error",
     "traceback": [
      "\u001b[1;31m---------------------------------------------------------------------------\u001b[0m",
      "\u001b[1;31mKeyError\u001b[0m                                  Traceback (most recent call last)",
      "\u001b[1;32m~\\AppData\\Local\\Temp\\ipykernel_11388\\3748257708.py\u001b[0m in \u001b[0;36m<module>\u001b[1;34m\u001b[0m\n\u001b[0;32m      2\u001b[0m \u001b[1;33m\u001b[0m\u001b[0m\n\u001b[0;32m      3\u001b[0m \u001b[0mprint\u001b[0m\u001b[1;33m(\u001b[0m\u001b[0mdict_b\u001b[0m\u001b[1;33m)\u001b[0m\u001b[1;33m\u001b[0m\u001b[1;33m\u001b[0m\u001b[0m\n\u001b[1;32m----> 4\u001b[1;33m \u001b[0mprint\u001b[0m\u001b[1;33m(\u001b[0m\u001b[0mdict_b\u001b[0m\u001b[1;33m[\u001b[0m\u001b[1;34m\"없는 키\"\u001b[0m\u001b[1;33m]\u001b[0m\u001b[1;33m)\u001b[0m\u001b[1;33m\u001b[0m\u001b[1;33m\u001b[0m\u001b[0m\n\u001b[0m",
      "\u001b[1;31mKeyError\u001b[0m: '없는 키'"
     ]
    }
   ],
   "source": [
    "# 딕셔너리 자료형에서 존재하지 않는 키를 접근하려하면 KeyError가 발생\n",
    "\n",
    "print(dict_b)\n",
    "print(dict_b[\"없는 키\"])"
   ]
  },
  {
   "cell_type": "code",
   "execution_count": 63,
   "id": "1165f30e-d054-4590-a88a-11da453cba41",
   "metadata": {},
   "outputs": [
    {
     "name": "stdout",
     "output_type": "stream",
     "text": [
      "{'key': 'super value', 'key2': 'value2', 'key3': 'value3', 'new_one': 'new value'}\n",
      "True\n"
     ]
    }
   ],
   "source": [
    "# in 연산자 활용\n",
    "\n",
    "print(dict_b)\n",
    "print(\"key\" in dict_b)"
   ]
  },
  {
   "cell_type": "code",
   "execution_count": 68,
   "id": "93e30f64-c539-4b61-9044-74f163ef9381",
   "metadata": {},
   "outputs": [
    {
     "name": "stdout",
     "output_type": "stream",
     "text": [
      "{'key': 'super value', 'key2': 'value2', 'key3': 'value3', 'new_one': 'new value'}\n",
      "{'key': 'super value', 'key2': 'value2', 'key3': 'value3'}\n"
     ]
    }
   ],
   "source": [
    "# 특정 키와 값의 쌍을 삭제하기\n",
    "\n",
    "print(dict_b)\n",
    "del dict_b['new_one']\n",
    "print(dict_b)"
   ]
  },
  {
   "cell_type": "code",
   "execution_count": 69,
   "id": "01dac6ce-bc9f-424a-8bef-da59f9fd086a",
   "metadata": {},
   "outputs": [
    {
     "name": "stdout",
     "output_type": "stream",
     "text": [
      "{'key': 'super value', 'key2': 'value2', 'key3': 'value3'}\n"
     ]
    },
    {
     "data": {
      "text/plain": [
       "3"
      ]
     },
     "execution_count": 69,
     "metadata": {},
     "output_type": "execute_result"
    }
   ],
   "source": [
    "print(dict_b)\n",
    "len(dict_b)"
   ]
  },
  {
   "cell_type": "code",
   "execution_count": 88,
   "id": "b6d59f73-c7c3-40bc-83c6-68613449e8fc",
   "metadata": {},
   "outputs": [
    {
     "name": "stdin",
     "output_type": "stream",
     "text": [
      "과일 이름을 입력하세요. 사과\n"
     ]
    },
    {
     "name": "stdout",
     "output_type": "stream",
     "text": [
      "\n",
      "사과의 가격은 1000원입니다.\n"
     ]
    }
   ],
   "source": [
    "fruit = dict([(\"사과\", 1000), (\"바나나\", 700), (\"오렌지\", 1500), (\"파인애플\", 2000)])\n",
    "\n",
    "name= input(\"과일 이름을 입력하세요.\")\n",
    "print(f\"\\n{name}의 가격은 {fruit[name]}원입니다.\")"
   ]
  },
  {
   "cell_type": "code",
   "execution_count": 131,
   "id": "ecc7c899-eea9-4075-9662-11123137e015",
   "metadata": {},
   "outputs": [
    {
     "name": "stdin",
     "output_type": "stream",
     "text": [
      "이름을 기입해주세요. 뽀로로 루피 크롱 스누피\n",
      "몸무게를 입력해주세요. 20.4 16.2 22.3 5.2\n"
     ]
    }
   ],
   "source": [
    "name = input(\"이름을 기입해주세요.\")\n",
    "weight = input(\"몸무게를 입력해주세요.\")\n",
    "\n",
    "name = name.split(\" \")\n",
    "weight = weight.split(\" \")\n",
    "\n",
    "result = dict(zip(name, weight))"
   ]
  },
  {
   "cell_type": "code",
   "execution_count": 134,
   "id": "4daf127f-ac65-4264-b8b5-df4811fb7a97",
   "metadata": {},
   "outputs": [
    {
     "name": "stdin",
     "output_type": "stream",
     "text": [
      "이름을 기입해주세요. 뽀로로 루피 크롱 스누피\n",
      "몸무게를 입력해주세요. 20.4 16.2 22.3 5.2\n"
     ]
    },
    {
     "name": "stdout",
     "output_type": "stream",
     "text": [
      "{'뽀로로': 20.4, '루피': 16.2, '크롱': 22.3, '스누피': 5.2}\n"
     ]
    }
   ],
   "source": [
    "# weight를 float()함수 사용했을 때\n",
    "\n",
    "name = input(\"이름을 기입해주세요.\").split(\" \")\n",
    "weight = list(map(float, input(\"몸무게를 입력해주세요.\").split(\" \")))\n",
    "\n",
    "\n",
    "result = dict(zip(name, weight))\n",
    "print(result)"
   ]
  }
 ],
 "metadata": {
  "kernelspec": {
   "display_name": "Python 3 (ipykernel)",
   "language": "python",
   "name": "python3"
  },
  "language_info": {
   "codemirror_mode": {
    "name": "ipython",
    "version": 3
   },
   "file_extension": ".py",
   "mimetype": "text/x-python",
   "name": "python",
   "nbconvert_exporter": "python",
   "pygments_lexer": "ipython3",
   "version": "3.9.13"
  }
 },
 "nbformat": 4,
 "nbformat_minor": 5
}
