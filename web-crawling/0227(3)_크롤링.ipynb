{
 "cells": [
  {
   "cell_type": "code",
   "execution_count": 1,
   "id": "0184e37c-21da-4cdd-9c42-ddffb0446a00",
   "metadata": {},
   "outputs": [],
   "source": [
    "# status code 200 -> The request has succeeded."
   ]
  },
  {
   "cell_type": "code",
   "execution_count": 16,
   "id": "a7716571-95a2-4652-8187-8653c423e01e",
   "metadata": {},
   "outputs": [
    {
     "name": "stdout",
     "output_type": "stream",
     "text": [
      "200\n"
     ]
    }
   ],
   "source": [
    "import requests\n",
    "\n",
    "response = requests.get(\"https://api.github.com/repositories\",\n",
    "                       headers = {\"Accept\": \"application/vnd.github+json\"})\n",
    "print(response.status_code)"
   ]
  },
  {
   "cell_type": "code",
   "execution_count": 17,
   "id": "0f34fdb4-edbc-434f-8335-257f9287d27d",
   "metadata": {},
   "outputs": [
    {
     "name": "stdout",
     "output_type": "stream",
     "text": [
      "인코딩: utf-8\n",
      "콘텐츠 타입: application/json; charset=utf-8\n",
      "서버: GitHub.com\n"
     ]
    }
   ],
   "source": [
    "# response에 대한 요소 확인\n",
    "\n",
    "print(f\"인코딩: {response.encoding}\")\n",
    "print(f\"콘텐츠 타입: {response.headers ['Content-Type']}\")\n",
    "print(f\"서버: {response.headers ['server']}\")"
   ]
  },
  {
   "cell_type": "code",
   "execution_count": 18,
   "id": "f2143fa0-1af1-42d5-a357-171a8e213d32",
   "metadata": {},
   "outputs": [
    {
     "name": "stdout",
     "output_type": "stream",
     "text": [
      "{\n",
      "  \"id\": 1,\n",
      "  \"node_id\": \"MDEwOlJlcG9zaXRvcnkx\",\n",
      "  \"name\": \"grit\",\n",
      "  \"full_name\": \"mojombo/grit\",\n",
      "  \"private\": false,\n",
      "  \"owner\": {\n",
      "    \"login\": \"mojombo\",\n",
      "    \"id\": 1,\n",
      "    \"node_id\": \"MDQ6VXNlcjE=\",\n",
      "\n"
     ]
    }
   ],
   "source": [
    "# 콘텐츠 타입이 application/json이기 때문에 json으로 변환 가능한 객체\n",
    "# json 라이브러리를 활용하여 쉽게 구조화할 수 있음\n",
    "\n",
    "import json\n",
    "print(json.dumps(response.json()[0], indent=2)[:200])\n",
    "\n",
    "# json이 dictionary와 다른 점: 문자열로 해서 통신하기에 좋음\n",
    "# indent: 들여쓰기"
   ]
  },
  {
   "cell_type": "code",
   "execution_count": 19,
   "id": "5c3faf33-bb89-4dfd-8095-c987f5a3b859",
   "metadata": {},
   "outputs": [
    {
     "name": "stdout",
     "output_type": "stream",
     "text": [
      "422\n"
     ]
    }
   ],
   "source": [
    "# 요청 시 Parameter 활용하기\n",
    "# 422 -> 앞선 요청에 대해서 처리하지 못했다는 의미\n",
    "# 요청은 문법에 맞게 잘 왔으나 서버가 해당 요청에 대해 처리할 수 없음\n",
    "\n",
    "response = requests.get(\"https://api.github.com/search/repositories\")\n",
    "print(response.status_code)"
   ]
  },
  {
   "cell_type": "code",
   "execution_count": 20,
   "id": "18e8889b-1886-49f5-ac17-f538f2c84c64",
   "metadata": {},
   "outputs": [
    {
     "name": "stdout",
     "output_type": "stream",
     "text": [
      "200\n"
     ]
    }
   ],
   "source": [
    "# get 메서드에 Document의 규격대로 params를 추가해줌\n",
    "# 원하는 API가 존재한다면 그 API에 해당하는 문서를 읽고 그에 맞게 요청해야 함\n",
    "\n",
    "response = requests.get(\"https://api.github.com/search/repositories\",\n",
    "                        params = {\"q\": \"data_science+language:python\"},\n",
    "                       headers = {\"Accept\": \"application/vnd.github.v3.test-match+json\"})\n",
    "print(response.status_code)"
   ]
  },
  {
   "cell_type": "code",
   "execution_count": 21,
   "id": "e88f2ca0-5ebd-4ab8-84a3-2029ac4debd1",
   "metadata": {},
   "outputs": [
    {
     "data": {
      "text/plain": [
       "'application/json; charset=utf-8'"
      ]
     },
     "execution_count": 21,
     "metadata": {},
     "output_type": "execute_result"
    }
   ],
   "source": [
    "response.headers[\"Content-Type\"]"
   ]
  },
  {
   "cell_type": "code",
   "execution_count": null,
   "id": "98c3c09f-5f99-434a-ac48-a2c27cd5e575",
   "metadata": {
    "scrolled": true,
    "tags": []
   },
   "outputs": [],
   "source": [
    "# json 콘텐츠 딕셔너리로 변환하기\n",
    "\n",
    "import json\n",
    "response.json()"
   ]
  },
  {
   "cell_type": "code",
   "execution_count": 23,
   "id": "f4437214-51ea-4733-8552-b7c19aea6dc5",
   "metadata": {},
   "outputs": [
    {
     "data": {
      "text/plain": [
       "dict_keys(['total_count', 'incomplete_results', 'items'])"
      ]
     },
     "execution_count": 23,
     "metadata": {},
     "output_type": "execute_result"
    }
   ],
   "source": [
    "response.json().keys()"
   ]
  },
  {
   "cell_type": "code",
   "execution_count": 24,
   "id": "d6276418-9625-4572-bd4d-337b17c2cf83",
   "metadata": {},
   "outputs": [
    {
     "data": {
      "text/plain": [
       "30"
      ]
     },
     "execution_count": 24,
     "metadata": {},
     "output_type": "execute_result"
    }
   ],
   "source": [
    "len(response.json()[\"items\"])"
   ]
  },
  {
   "cell_type": "code",
   "execution_count": 25,
   "id": "a8b8a573-a1da-4a36-9c51-efbad5c8d98f",
   "metadata": {},
   "outputs": [
    {
     "ename": "KeyError",
     "evalue": "'text_matches'",
     "output_type": "error",
     "traceback": [
      "\u001b[1;31m---------------------------------------------------------------------------\u001b[0m",
      "\u001b[1;31mKeyError\u001b[0m                                  Traceback (most recent call last)",
      "\u001b[1;32m~\\AppData\\Local\\Temp\\ipykernel_14448\\1289925337.py\u001b[0m in \u001b[0;36m<module>\u001b[1;34m\u001b[0m\n\u001b[1;32m----> 1\u001b[1;33m \u001b[0mresponse\u001b[0m\u001b[1;33m.\u001b[0m\u001b[0mjson\u001b[0m\u001b[1;33m(\u001b[0m\u001b[1;33m)\u001b[0m\u001b[1;33m[\u001b[0m\u001b[1;34m'items'\u001b[0m\u001b[1;33m]\u001b[0m\u001b[1;33m[\u001b[0m\u001b[1;36m0\u001b[0m\u001b[1;33m]\u001b[0m\u001b[1;33m[\u001b[0m\u001b[1;34m'text_matches'\u001b[0m\u001b[1;33m]\u001b[0m\u001b[1;33m\u001b[0m\u001b[1;33m\u001b[0m\u001b[0m\n\u001b[0m",
      "\u001b[1;31mKeyError\u001b[0m: 'text_matches'"
     ]
    }
   ],
   "source": [
    "response.json()['items'][0]['text_matches']"
   ]
  },
  {
   "cell_type": "code",
   "execution_count": 33,
   "id": "f683d8de-7bc3-4d0f-9a7e-6b274f3caeb9",
   "metadata": {},
   "outputs": [],
   "source": [
    "import sys\n",
    "sys.setrecursionlimit(10**5)\n",
    "\n",
    "def get_all_pages(url, params=None, headers=None):\n",
    "    output_json=[]\n",
    "    response = requests.get(url, params=params, headers=headers)\n",
    "    if response.status_code == 200:\n",
    "        output_json = response.json()\n",
    "        if 'next' in response.links:\n",
    "            next_url = response.links['next']['url']\n",
    "            if next_url is not None:\n",
    "                output_json += get_all_pages(next_url, params, headers)\n",
    "    return output_json"
   ]
  },
  {
   "cell_type": "code",
   "execution_count": 35,
   "id": "4c6d37f9-4568-4f80-8e05-fd35e781e61f",
   "metadata": {},
   "outputs": [
    {
     "name": "stdout",
     "output_type": "stream",
     "text": [
      "270\n"
     ]
    },
    {
     "data": {
      "text/html": [
       "<div>\n",
       "<style scoped>\n",
       "    .dataframe tbody tr th:only-of-type {\n",
       "        vertical-align: middle;\n",
       "    }\n",
       "\n",
       "    .dataframe tbody tr th {\n",
       "        vertical-align: top;\n",
       "    }\n",
       "\n",
       "    .dataframe thead th {\n",
       "        text-align: right;\n",
       "    }\n",
       "</style>\n",
       "<table border=\"1\" class=\"dataframe\">\n",
       "  <thead>\n",
       "    <tr style=\"text-align: right;\">\n",
       "      <th></th>\n",
       "      <th>id</th>\n",
       "      <th>created_at</th>\n",
       "      <th>body</th>\n",
       "    </tr>\n",
       "  </thead>\n",
       "  <tbody>\n",
       "    <tr>\n",
       "      <th>55</th>\n",
       "      <td>1447241912</td>\n",
       "      <td>2023-02-27T22:59:16Z</td>\n",
       "      <td>Rebase failed due to Command `git -C /home/run...</td>\n",
       "    </tr>\n",
       "  </tbody>\n",
       "</table>\n",
       "</div>"
      ],
      "text/plain": [
       "            id            created_at  \\\n",
       "55  1447241912  2023-02-27T22:59:16Z   \n",
       "\n",
       "                                                 body  \n",
       "55  Rebase failed due to Command `git -C /home/run...  "
      ]
     },
     "execution_count": 35,
     "metadata": {},
     "output_type": "execute_result"
    }
   ],
   "source": [
    "import pandas as pd\n",
    "\n",
    "out = get_all_pages(\n",
    "    \"https://api.github.com/repos/pytorch/pytorch/issues/comments\",\n",
    "    params={\n",
    "        'since': '2022-01-01T10:00:01Z',\n",
    "        'sorted': 'created',\n",
    "        'direction': 'desc'\n",
    "    },\n",
    "    headers={'Accept' : 'application/vnd.github.v3+json'}\n",
    ")\n",
    "\n",
    "df = pd.DataFrame(out)\n",
    "print(df['body'].count())\n",
    "df[['id', 'created_at','body']].sample(1)"
   ]
  },
  {
   "cell_type": "code",
   "execution_count": 29,
   "id": "a8196805-0dd0-440c-85dd-bc94aecc5368",
   "metadata": {},
   "outputs": [
    {
     "name": "stdout",
     "output_type": "stream",
     "text": [
      "data-science-from-scratch\n",
      "PySyft\n",
      "data-science-blogs\n",
      "galaxy\n",
      "DataCamp\n"
     ]
    }
   ],
   "source": [
    "#네트워크 오류를 감안한 코드 작성\n",
    "# API 호출에는 여러가지 변수가 존재 : 연결중단, dns 조회실패, 연결시간 초과 등\n",
    "\n",
    "#호출 실패에 대한 재시도를 할 수 있도록 HTTPAdapter를 사용\n",
    "    #Retry 객체를 통해 초기화\n",
    "    #total은 재시도횟수 / #status_forcelist는 재시도할 상태 코드 목록 / backoff_factor는 각 시도마다 간격을 늘려주는 수치\n",
    "\n",
    "from requests.adapters import HTTPAdapter\n",
    "from requests.packages.urllib3.util.retry import Retry\n",
    "\n",
    "retry_strategy = Retry(\n",
    "    total=5,\n",
    "    status_forcelist=[500, 503, 504],\n",
    "    backoff_factor=1\n",
    ")\n",
    "\n",
    "retry_adapter = HTTPAdapter(max_retries=retry_strategy)\n",
    "\n",
    "http = requests.Session()\n",
    "http.mount(\"https://\", retry_adapter)\n",
    "http.mount(\"https://\", retry_adapter)\n",
    "\n",
    "response = http.get('https://api.github.com/search/repositories',\n",
    "                    params={'q': 'data_science+language:python'})\n",
    "\n",
    "for item in response.json()['items'][:5]:\n",
    "    print(item['name'])"
   ]
  },
  {
   "cell_type": "code",
   "execution_count": 30,
   "id": "5129bb49-8b0c-4bb7-ba4b-afadf1b3f939",
   "metadata": {},
   "outputs": [
    {
     "name": "stdout",
     "output_type": "stream",
     "text": [
      "Sleeping for 65\n",
      "Sleeping for 196\n",
      "60\n"
     ]
    },
    {
     "data": {
      "text/html": [
       "<div>\n",
       "<style scoped>\n",
       "    .dataframe tbody tr th:only-of-type {\n",
       "        vertical-align: middle;\n",
       "    }\n",
       "\n",
       "    .dataframe tbody tr th {\n",
       "        vertical-align: top;\n",
       "    }\n",
       "\n",
       "    .dataframe thead th {\n",
       "        text-align: right;\n",
       "    }\n",
       "</style>\n",
       "<table border=\"1\" class=\"dataframe\">\n",
       "  <thead>\n",
       "    <tr style=\"text-align: right;\">\n",
       "      <th></th>\n",
       "      <th>id</th>\n",
       "      <th>created_at</th>\n",
       "      <th>body</th>\n",
       "    </tr>\n",
       "  </thead>\n",
       "  <tbody>\n",
       "    <tr>\n",
       "      <th>32</th>\n",
       "      <td>1447265684</td>\n",
       "      <td>2023-02-27T23:15:49Z</td>\n",
       "      <td>### Merge started\\nYour change will be merged ...</td>\n",
       "    </tr>\n",
       "  </tbody>\n",
       "</table>\n",
       "</div>"
      ],
      "text/plain": [
       "            id            created_at  \\\n",
       "32  1447265684  2023-02-27T23:15:49Z   \n",
       "\n",
       "                                                 body  \n",
       "32  ### Merge started\\nYour change will be merged ...  "
      ]
     },
     "execution_count": 30,
     "metadata": {},
     "output_type": "execute_result"
    }
   ],
   "source": [
    "# 호출속도 조절과 네트워크 오류까지 포함한 올인원코드\n",
    "\n",
    "from datetime import datetime as dt\n",
    "import time\n",
    "import sys\n",
    "import pandas as pd\n",
    "import requests\n",
    "from requests.adapters import HTTPAdapter\n",
    "from requests.packages.urllib3.util.retry import Retry\n",
    "\n",
    "sys.setrecursionlimit(10**5)\n",
    "\n",
    "def handle_rate_limits(response):\n",
    "    now = dt.now()\n",
    "    reset_time = dt.fromtimestamp(int(response.headers['X-RateLimit-Reset']))\n",
    "    remaining_requests = response.headers['X-Ratelimit-Remaining']\n",
    "    remaining_time =(reset_time-now).total_seconds()\n",
    "    intervals = remaining_time / (1.0 +int(remaining_requests))\n",
    "    \n",
    "    print('Sleeping for', int(intervals))\n",
    "    time.sleep(intervals)\n",
    "    return True\n",
    "\n",
    "def get_all_pages(url, params=None, headers=None):\n",
    "    output_json=[]\n",
    "    retry_strategy = Retry(\n",
    "        total = 5,\n",
    "        status_forcelist=[500, 503, 504],\n",
    "        backoff_factor=1\n",
    "    )\n",
    "\n",
    "    retry_adapter = HTTPAdapter(max_retries=retry_strategy)\n",
    "\n",
    "    http = requests.Session()\n",
    "    http.mount(\"https://\", retry_adapter)\n",
    "    \n",
    "    response = http.get(url, params=params, headers=headers)\n",
    "    if response.status_code == 200:\n",
    "        output_json = response.json()\n",
    "        if 'next' in response.links:\n",
    "            next_url = response.links['next']['url']\n",
    "            if next_url is not None and handle_rate_limits(response):\n",
    "                output_json += get_all_pages(next_url, params, headers)\n",
    "    return output_json\n",
    "\n",
    "out = get_all_pages(\n",
    "    \"https://api.github.com/repos/pytorch/pytorch/issues/comments\",\n",
    "    params={\n",
    "        'since': '2022-01-01T10:00:01Z',\n",
    "        'sorted': 'created',\n",
    "        'direction': 'desc'\n",
    "    },\n",
    "    headers={'Accept' : 'application/vnd.github.v3+json'}\n",
    ")\n",
    "\n",
    "df = pd.DataFrame(out)\n",
    "print(df['body'].count())\n",
    "df[['id', 'created_at','body']].sample(1)"
   ]
  }
 ],
 "metadata": {
  "kernelspec": {
   "display_name": "Python 3 (ipykernel)",
   "language": "python",
   "name": "python3"
  },
  "language_info": {
   "codemirror_mode": {
    "name": "ipython",
    "version": 3
   },
   "file_extension": ".py",
   "mimetype": "text/x-python",
   "name": "python",
   "nbconvert_exporter": "python",
   "pygments_lexer": "ipython3",
   "version": "3.9.13"
  }
 },
 "nbformat": 4,
 "nbformat_minor": 5
}
