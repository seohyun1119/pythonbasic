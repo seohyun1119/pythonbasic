{
 "cells": [
  {
   "cell_type": "code",
   "execution_count": 1,
   "id": "951e642e-3d74-49ba-8311-064a27aae6b3",
   "metadata": {},
   "outputs": [],
   "source": [
    "# 예외 처리\n",
    "\n",
    "# 예외(Exception)란 코드를 실행하다가 에러가 발생되는 것\n",
    "# 예외 처리란 에러가 발생되는 예외가 발생했을 때도 프로그램의 중단 없이 계속 실행되도록 처리하는 것\n",
    "\n",
    "# try:\n",
    "#    실행할 코드\n",
    "# except:\n",
    "#    에러 발생 시 실행할 코드"
   ]
  },
  {
   "cell_type": "code",
   "execution_count": 2,
   "id": "260919af-781c-420f-9131-e0ea4acd8af3",
   "metadata": {},
   "outputs": [
    {
     "name": "stdout",
     "output_type": "stream",
     "text": [
      "0으로 나눌 수 없습니다.\n"
     ]
    }
   ],
   "source": [
    "try:\n",
    "    # 나눗셈 연산 시 0으로 나누면 에러 발생\n",
    "    result = 128/0\n",
    "    print(f\"연산의 결과는 {result}입니다.\")\n",
    "except:\n",
    "    print(\"0으로 나눌 수 없습니다.\")"
   ]
  },
  {
   "cell_type": "code",
   "execution_count": 3,
   "id": "80858640-cb6c-4ec0-a0b1-36fd90a0d6c5",
   "metadata": {},
   "outputs": [
    {
     "name": "stdin",
     "output_type": "stream",
     "text": [
      "숫자 두 개를 입력하세요. 5\n"
     ]
    },
    {
     "name": "stdout",
     "output_type": "stream",
     "text": [
      "값을 잘못 입력하셨습니다.\n"
     ]
    }
   ],
   "source": [
    "# 연습문제\n",
    "\n",
    "try:\n",
    "    x, y = input(\"숫자 두 개를 입력하세요.\").split()\n",
    "    print(x, y)\n",
    "except:\n",
    "    print(\"값을 잘못 입력하셨습니다.\")"
   ]
  },
  {
   "cell_type": "code",
   "execution_count": 1,
   "id": "6762bb4e-3cf5-4cf1-b85c-792b16a56a60",
   "metadata": {},
   "outputs": [
    {
     "name": "stderr",
     "output_type": "stream",
     "text": [
      "UsageError: Line magic function `%%time` not found.\n"
     ]
    }
   ],
   "source": [
    "# 실행시간 표시하기\n",
    "\n",
    "%%time\n",
    "\n",
    "a = []\n",
    "for _ in range(1000):\n",
    "    a.append((_, _, _))"
   ]
  },
  {
   "cell_type": "code",
   "execution_count": 8,
   "id": "0f5cdac7-b87c-4d59-b76d-4f203ed43747",
   "metadata": {},
   "outputs": [
    {
     "name": "stdout",
     "output_type": "stream",
     "text": [
      "Wall time: 0 ns\n"
     ]
    }
   ],
   "source": [
    "%%time    \n",
    "# 라인 가장 맨 처음에 와야함\n",
    "\n",
    "a = []\n",
    "for _ in range(1000):\n",
    "    a.append((_, _, _))"
   ]
  },
  {
   "cell_type": "code",
   "execution_count": 6,
   "id": "0cbe37a7-1683-42a6-a309-c9e7403b2dd8",
   "metadata": {},
   "outputs": [
    {
     "name": "stdout",
     "output_type": "stream",
     "text": [
      "0으로 나눌 수 없습니다.\n",
      "division by zero\n"
     ]
    }
   ],
   "source": [
    "# except 에러마다 분기하기\n",
    "\n",
    "x = range(4)    # 0, 1, 2, 3\n",
    "\n",
    "try:\n",
    "    for i in range(4):\n",
    "        y = 10 / x[i]\n",
    "        \n",
    "except ZeroDivisionError as e:\n",
    "    print(\"0으로 나눌 수 없습니다.\")\n",
    "    print(e)\n",
    "    \n",
    "except IndexError as e:\n",
    "    print(\"인덱스 에러 발생\")\n",
    "    print(e)"
   ]
  },
  {
   "cell_type": "code",
   "execution_count": 7,
   "id": "0ad7057a-8173-407b-bc9d-982b976cf052",
   "metadata": {},
   "outputs": [
    {
     "name": "stdout",
     "output_type": "stream",
     "text": [
      "인덱스 에러 발생\n",
      "range object index out of range\n"
     ]
    }
   ],
   "source": [
    "x = range(1, 4)    # 1, 2, 3\n",
    "\n",
    "try:\n",
    "    for i in range(4):\n",
    "        y = 10 / x[i]    # IndexError 발생\n",
    "        \n",
    "except ZeroDivisionError as e:\n",
    "    print(\"0으로 나눌 수 없습니다.\")\n",
    "    print(e)\n",
    "    \n",
    "except IndexError as e:\n",
    "    print(\"인덱스 에러 발생\")\n",
    "    print(e)"
   ]
  },
  {
   "cell_type": "code",
   "execution_count": 9,
   "id": "b951d75c-3e81-4221-abd4-6ae3827a6c57",
   "metadata": {},
   "outputs": [
    {
     "name": "stdout",
     "output_type": "stream",
     "text": [
      "에러 없이 실행되었습니다.\n"
     ]
    }
   ],
   "source": [
    "# else를 사용하면 에러가 발생되지 않았을 때 실행되는 부분 작성 가능\n",
    "\n",
    "x = range(1, 5)    # 1, 2, 3, 4\n",
    "\n",
    "try:\n",
    "    for i in range(4):\n",
    "        y = 10 / x[i]    # IndexError 발생\n",
    "        \n",
    "except ZeroDivisionError as e:\n",
    "    print(\"0으로 나눌 수 없습니다.\")\n",
    "    print(e)\n",
    "    \n",
    "except IndexError as e:\n",
    "    print(\"인덱스 에러 발생\")\n",
    "    print(e)\n",
    "    \n",
    "else:\n",
    "    print(\"에러 없이 실행되었습니다.\")"
   ]
  },
  {
   "cell_type": "code",
   "execution_count": 26,
   "id": "573ef255-6eb6-46f4-9973-b5a3c4bf22be",
   "metadata": {},
   "outputs": [
    {
     "name": "stdin",
     "output_type": "stream",
     "text": [
      "정수를 띄어쓰기로 구분하여 두 개 입력해 주세요. 5 0\n"
     ]
    },
    {
     "name": "stdout",
     "output_type": "stream",
     "text": [
      "0으로 나눌 수 없습니다.\n"
     ]
    }
   ],
   "source": [
    "# 연습문제\n",
    "\n",
    "try:\n",
    "    x, y = map(int, (input(\"정수를 띄어쓰기로 구분하여 두 개 입력해 주세요.\").split(\" \")))\n",
    "    result = x/y\n",
    "    \n",
    "except ValueError:           # ValueError가 발생될 때\n",
    "    print(\"값을 잘못 입력하셨습니다.\")\n",
    "    \n",
    "except ZeroDivisionError:    # ZeroDivisionError가 발생될 때\n",
    "    print(\"0으로 나눌 수 없습니다.\")\n",
    "    \n",
    "else:\n",
    "    print(result)"
   ]
  },
  {
   "cell_type": "code",
   "execution_count": 28,
   "id": "16d897d8-f9fc-4baa-8e18-51d004ecb253",
   "metadata": {},
   "outputs": [
    {
     "name": "stdout",
     "output_type": "stream",
     "text": [
      "무조건 실행됩니다.\n"
     ]
    },
    {
     "ename": "KeyError",
     "evalue": "",
     "output_type": "error",
     "traceback": [
      "\u001b[1;31m---------------------------------------------------------------------------\u001b[0m",
      "\u001b[1;31mKeyError\u001b[0m                                  Traceback (most recent call last)",
      "\u001b[1;32m~\\AppData\\Local\\Temp\\ipykernel_7912\\1541704339.py\u001b[0m in \u001b[0;36m<module>\u001b[1;34m\u001b[0m\n\u001b[0;32m      3\u001b[0m \u001b[1;33m\u001b[0m\u001b[0m\n\u001b[0;32m      4\u001b[0m \u001b[1;32mtry\u001b[0m\u001b[1;33m:\u001b[0m\u001b[1;33m\u001b[0m\u001b[1;33m\u001b[0m\u001b[0m\n\u001b[1;32m----> 5\u001b[1;33m     \u001b[1;32mraise\u001b[0m \u001b[0mKeyError\u001b[0m\u001b[1;33m\u001b[0m\u001b[1;33m\u001b[0m\u001b[0m\n\u001b[0m\u001b[0;32m      6\u001b[0m \u001b[1;32mfinally\u001b[0m\u001b[1;33m:\u001b[0m\u001b[1;33m\u001b[0m\u001b[1;33m\u001b[0m\u001b[0m\n\u001b[0;32m      7\u001b[0m     \u001b[0mprint\u001b[0m\u001b[1;33m(\u001b[0m\u001b[1;34m\"무조건 실행됩니다.\"\u001b[0m\u001b[1;33m)\u001b[0m\u001b[1;33m\u001b[0m\u001b[1;33m\u001b[0m\u001b[0m\n",
      "\u001b[1;31mKeyError\u001b[0m: "
     ]
    }
   ],
   "source": [
    "# finally\n",
    "# 프로그램에서 무조건 실행되는 부분\n",
    "\n",
    "try:\n",
    "    raise KeyError\n",
    "finally:\n",
    "    print(\"무조건 실행됩니다.\")"
   ]
  },
  {
   "cell_type": "code",
   "execution_count": 32,
   "id": "530ae7fc-62a1-4a73-a831-064b9924c50a",
   "metadata": {},
   "outputs": [
    {
     "name": "stdin",
     "output_type": "stream",
     "text": [
      "정수를 띄어쓰기로 구분하여 두 개 입력해 주세요. 5 0\n"
     ]
    },
    {
     "name": "stdout",
     "output_type": "stream",
     "text": [
      "0으로 나눌 수 없습니다.\n",
      "프로그램을 종료합니다.\n"
     ]
    }
   ],
   "source": [
    "# 연습문제\n",
    "\n",
    "try:\n",
    "    x, y = map(int, (input(\"정수를 띄어쓰기로 구분하여 두 개 입력해 주세요.\").split(\" \")))\n",
    "    result = x/y\n",
    "    \n",
    "except ValueError:           # ValueError가 발생될 때\n",
    "    print(\"값을 잘못 입력하셨습니다.\")\n",
    "    \n",
    "except ZeroDivisionError:    # ZeroDivisionError가 발생될 때\n",
    "    print(\"0으로 나눌 수 없습니다.\")\n",
    "    \n",
    "else:\n",
    "    print(result)\n",
    "    \n",
    "finally:\n",
    "    print(\"프로그램을 종료합니다.\")"
   ]
  }
 ],
 "metadata": {
  "kernelspec": {
   "display_name": "Python 3 (ipykernel)",
   "language": "python",
   "name": "python3"
  },
  "language_info": {
   "codemirror_mode": {
    "name": "ipython",
    "version": 3
   },
   "file_extension": ".py",
   "mimetype": "text/x-python",
   "name": "python",
   "nbconvert_exporter": "python",
   "pygments_lexer": "ipython3",
   "version": "3.9.13"
  }
 },
 "nbformat": 4,
 "nbformat_minor": 5
}
