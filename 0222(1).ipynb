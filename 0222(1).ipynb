{
 "cells": [
  {
   "cell_type": "code",
   "execution_count": 2,
   "id": "c43dcb5f-a7c3-4f93-9109-a47e1557c732",
   "metadata": {},
   "outputs": [],
   "source": [
    "# 클래스 속성(Attribute)\n",
    "\n",
    "# __init__ 메서드는 클래스에 소괄호(())를 붙여서 인스턴스를 만들 때 호출되는 특별한 메서드(special method, magic method)\n",
    "# initialize의 줄임말로 인스턴스(객체)를 초기화(메모리에 공간을 할당하고 값을 부여함)함\n",
    "# 밑줄 두 개(__ double under, 던더)가 양 옆으로 붙어있는 메서드는 파이썬이 자동으로 호출하는 메서드\n",
    "# 파이썬의 여러가지 기능을 사용할 때 이 던더 메서드를 구현하는 식으로 사용함\n",
    "\n",
    "class Person:\n",
    "    def __init__(self):\n",
    "        self.hello = \"안녕하세요.\""
   ]
  },
  {
   "cell_type": "code",
   "execution_count": 3,
   "id": "8cd38eb2-02cf-406a-aec0-b5340d65d400",
   "metadata": {},
   "outputs": [],
   "source": [
    "# 속성은 __init__ 메서드에서 만들며, self에 마침표(.)를 붙여 속성명을 붙이고 값을 할당함\n",
    "# 클래스 바디에서도 속성을 접근할 때 self.속성 과 같이 self에 마침표를 찍고 사용함"
   ]
  },
  {
   "cell_type": "code",
   "execution_count": 4,
   "id": "338d671f-719b-4f89-be11-9f3452b69018",
   "metadata": {},
   "outputs": [
    {
     "name": "stdout",
     "output_type": "stream",
     "text": [
      "안녕하세요.\n"
     ]
    }
   ],
   "source": [
    "# self\n",
    "\n",
    "class Person:\n",
    "    \n",
    "    def __init__(self):              # self는 인스턴스 자기 자신을 의미함\n",
    "        self.hello = \"안녕하세요.\"    # 자기 자신에 속성을 추가하여 사용\n",
    "    \n",
    "    def greeting(self):\n",
    "        print(self.hello)    # __init__의 매개변수 self에 들어가는 값은 Person() 인스턴스라고 할 수 있음\n",
    "        \n",
    "james = Person()    # self가 완성된 후에는 변수인 james에 할당됨\n",
    "james.greeting()\n",
    "\n",
    "# 이후 메서드를 호출하면 현재 인스턴스가 자동으로 매개변수 self에 들어옴\n",
    "# greeting 메서드에서 print(self.hello)처럼 속성을 출력할 수 있음음"
   ]
  },
  {
   "cell_type": "code",
   "execution_count": 19,
   "id": "c644f08b-3d66-4095-907f-55dd0293f59e",
   "metadata": {},
   "outputs": [],
   "source": [
    "# 인스턴스를 생성할 때 속성 값 할당하려면 다음 예제와 같이 __init__ 메서드에서 self 다음에 값을 받을 매개변수를 지정해야 함\n",
    "# 그리고 매개변수를 self.속성에 할당함\n",
    "\n",
    "class ClassName:\n",
    "    def __init__(self, param1, param2):\n",
    "        self.attr1 = param1\n",
    "        self.attr2 = param2"
   ]
  },
  {
   "cell_type": "code",
   "execution_count": 20,
   "id": "f9e66feb-190d-40d1-a91e-5ee16d70ff7b",
   "metadata": {},
   "outputs": [
    {
     "name": "stdout",
     "output_type": "stream",
     "text": [
      "홍길동\n",
      "22\n"
     ]
    }
   ],
   "source": [
    "class Person:\n",
    "    def __init__(self, name, age):\n",
    "        self.name = name\n",
    "        self.age = age\n",
    "        \n",
    "p1 = Person(\"홍길동\", 22)\n",
    "\n",
    "print(p1.name)\n",
    "print(p1.age)"
   ]
  },
  {
   "cell_type": "code",
   "execution_count": 21,
   "id": "fdad916c-772d-4722-969e-79f095439652",
   "metadata": {},
   "outputs": [
    {
     "name": "stdout",
     "output_type": "stream",
     "text": [
      "성춘향\n"
     ]
    }
   ],
   "source": [
    "p2 = Person(name = \"성춘향\", age = 18)\n",
    "print(p2.name)"
   ]
  },
  {
   "cell_type": "code",
   "execution_count": 29,
   "id": "11e861cc-055a-42dd-a436-bb032dfcb4f8",
   "metadata": {},
   "outputs": [
    {
     "name": "stdout",
     "output_type": "stream",
     "text": [
      "안녕하세요. 제 이름은 마리아입니다.\n",
      "이름: 마리아\n",
      "나이: 20\n",
      "주소: 서울시 서초구 반포동\n"
     ]
    }
   ],
   "source": [
    "class Person:\n",
    "    def __init__(self, name, age, address):\n",
    "        self.hello = \"안녕하세요.\"\n",
    "        self.name = name\n",
    "        self.age = age\n",
    "        self.address = address\n",
    "        \n",
    "    def greeting(self):\n",
    "        print(f\"{self.hello} 제 이름은 {self.name}입니다.\")\n",
    "            \n",
    "maria = Person(\"마리아\", 20, \"서울시 서초구 반포동\")\n",
    "maria.greeting()\n",
    "\n",
    "print(\"이름:\", maria.name)\n",
    "print(\"나이:\", maria.age)\n",
    "print(\"주소:\", maria.address)"
   ]
  },
  {
   "cell_type": "code",
   "execution_count": 28,
   "id": "74929ffd-a79f-495e-bd07-358a1a5559dc",
   "metadata": {},
   "outputs": [
    {
     "name": "stdin",
     "output_type": "stream",
     "text": [
      "\n",
      "메뉴를 보고 싶으시다면 Y, y, 예를 써주시고\n",
      "안 봐도 되시면 N, n, 아니오를 써주세요. y\n"
     ]
    },
    {
     "name": "stdout",
     "output_type": "stream",
     "text": [
      "\n",
      "한식은 ['덮밥', '비빔밥', '볶음밥', '김치찌개', '부대찌개', '생선찜', '생선구이', '냉면', '설렁탕'] 이 있습니다.\n",
      "\n",
      "중식은 ['짜장&짬뽕', '마라탕'] 이 있습니다.\n",
      "\n",
      "일식은 ['돈까스', '우동', '초밥', '회', '샤브샤브'] 이 있습니다.\n",
      "\n",
      "양식은 ['피자', '치킨', '햄버거'] 이 있습니다.\n",
      "\n",
      "기타는 ['고기', '곱창', '밥버거'] 이 있습니다.\n"
     ]
    },
    {
     "name": "stdin",
     "output_type": "stream",
     "text": [
      "\n",
      "한식, 중식, 일식, 양식, 기타 중에 입력하세요: 일식\n"
     ]
    },
    {
     "name": "stdout",
     "output_type": "stream",
     "text": [
      "\n",
      "일식 을/를 고르셨습니다.\n",
      "\n",
      "우동 이/가 선택되었습니다.\n",
      "점심식사 맛있게 하세요^^\n"
     ]
    }
   ],
   "source": [
    "import random\n",
    "menu_list = {\"한식\":[\"덮밥\", \"비빔밥\", \"볶음밥\", \"김치찌개\", \"부대찌개\",\n",
    "                    \"생선찜\", \"생선구이\", \"냉면\", \"설렁탕\"],\n",
    "              \"중식\":[\"짜장&짬뽕\", \"마라탕\"],\n",
    "             \"일식\":[\"돈까스\", \"우동\", \"초밥\", \"회\", \"샤브샤브\"],\n",
    "             \"양식\":[\"피자\", \"치킨\", \"햄버거\"],\n",
    "             \"기타\":[\"고기\", \"곱창\", \"밥버거\"]}\n",
    "def select_genre():\n",
    "    while True:\n",
    "        var = input(\"\\n한식, 중식, 일식, 양식, 기타 중에 입력하세요:\")\n",
    "        if var in (\"한식\", \"중식\", \"일식\", \"양식\", \"기타\"):\n",
    "            break\n",
    "        else:\n",
    "            print(\"다시 입력해주세요.\")\n",
    "    return var\n",
    "def view_menu_list():\n",
    "    while True:\n",
    "        var = input(\"\"\"\n",
    "메뉴를 보고 싶으시다면 Y, y, 예를 써주시고\n",
    "안 봐도 되시면 N, n, 아니오를 써주세요.\"\"\")\n",
    "        if var == \"Y\" or var == \"y\" or var == \"예\":\n",
    "            print(\"\\n한식은\", menu_list[\"한식\"],\"이 있습니다.\\n\")\n",
    "            print(\"중식은\", menu_list[\"중식\"],\"이 있습니다.\\n\")\n",
    "            print(\"일식은\", menu_list[\"일식\"],\"이 있습니다.\\n\")\n",
    "            print(\"양식은\", menu_list[\"양식\"],\"이 있습니다.\\n\")\n",
    "            print(\"기타는\", menu_list[\"기타\"],\"이 있습니다.\")\n",
    "            break\n",
    "        elif var == \"N\" or var == \"n\" or var == \"아니오\":\n",
    "            break\n",
    "        else:\n",
    "            print(\"다시 입력하세요\")\n",
    "view_menu = view_menu_list()\n",
    "menu_type = select_genre()\n",
    "print(f\"\\n{menu_type} 을/를 고르셨습니다.\")\n",
    "selected = random.choice(menu_list[menu_type])\n",
    "print(f\"\\n{selected} 이/가 선택되었습니다.\\n점심식사 맛있게 하세요^^\""
   ]
  },
  {
   "cell_type": "code",
   "execution_count": 51,
   "id": "e85abc65-e8ba-45b4-b49e-e9b00cf7bbfc",
   "metadata": {},
   "outputs": [
    {
     "name": "stdin",
     "output_type": "stream",
     "text": [
      "이름은 무엇인가요? 마리아\n",
      "나이는 무엇인가요? 20\n",
      "주소는 무엇인가요? 서울시 강남구\n",
      "이름은 무엇인가요? 제임스\n",
      "나이는 무엇인가요? 21\n",
      "주소는 무엇인가요? 서울시 구로구\n"
     ]
    },
    {
     "name": "stdout",
     "output_type": "stream",
     "text": [
      "첫번째 이름: 마리아\n",
      "첫번째 나이: 20\n",
      "첫번째 주소: 서울시 강남구\n",
      "두번째 이름: 제임스\n",
      "두번째 나이: 20\n",
      "두번째 주소: 서울시 강남구\n"
     ]
    }
   ],
   "source": [
    "# maria, james 두 사람의 나이, 이름, 주소를 받아와 객체에 저장하고 화면에 출력하기\n",
    "\n",
    "class Person:\n",
    "    def __init__(self, name, age, address):\n",
    "        self.name = name\n",
    "        self.age = age\n",
    "        self.address = address\n",
    "        \n",
    "maria = Person(input(\"이름은 무엇인가요?\"), \n",
    "               input(\"나이는 무엇인가요?\"), \n",
    "               input(\"주소는 무엇인가요?\"))\n",
    "james = Person(input(\"이름은 무엇인가요?\"), \n",
    "               input(\"나이는 무엇인가요?\"), \n",
    "               input(\"주소는 무엇인가요?\"))\n",
    "\n",
    "print(\"첫번째 이름:\", maria.name)\n",
    "print(\"첫번째 나이:\", maria.age)\n",
    "print(\"첫번째 주소:\", maria.address)\n",
    "\n",
    "print(\"두번째 이름:\", james.name)\n",
    "print(\"두번째 나이:\", maria.age)\n",
    "print(\"두번째 주소:\", maria.address)"
   ]
  },
  {
   "cell_type": "code",
   "execution_count": 53,
   "id": "eee73fe8-88cb-4630-865a-f588e9cd5e2d",
   "metadata": {},
   "outputs": [],
   "source": [
    "# 비공개 속성 사용하기\n",
    "# 인스턴스의 속성 값을 변경 못하도록 막고 싶을 때 사용\n",
    "# 해당 속성 앞에 던더(__)를 붙이면 됨\n",
    "\n",
    "class ClassName:\n",
    "    def __init__(self, param1, param2):\n",
    "        self.attr1 = param1\n",
    "        self.__attr2 = param2    # 비공개 속성"
   ]
  },
  {
   "cell_type": "code",
   "execution_count": 58,
   "id": "42456eff-61e0-4bad-b609-cfdc36d2915c",
   "metadata": {},
   "outputs": [
    {
     "name": "stdout",
     "output_type": "stream",
     "text": [
      "이제 7000원 남았네요.\n"
     ]
    }
   ],
   "source": [
    "class Person:\n",
    "    def __init__(self, name, age, address, wallet):\n",
    "        self.name = name\n",
    "        self.age = age\n",
    "        self.address = address\n",
    "        self.__wallet = wallet    # 변수 앞에 __를 붙여서 비공개 속성으로 만듦\n",
    "    def pay(self, amount):\n",
    "        if self.__wallet<amount:\n",
    "            print(\"돈이 모자랍니다.\")\n",
    "            return\n",
    "        self.__wallet -= amount    # 비공개 속성은 클래스 안의 메서드에서만 접근할 수 있음\n",
    "        print(\"이제 {0}원 남았네요.\".format(self.__wallet))\n",
    "        \n",
    "maria = Person(\"마리아\", 20, \"서울시 서초구 반포동\", 10000)\n",
    "maria.pay(3000)    # 클래스 바깥에서 비공개 속성에 접근하면 에러가 발생"
   ]
  },
  {
   "cell_type": "code",
   "execution_count": 9,
   "id": "fc9866e8-5a3d-473c-80c6-2e738c29fff2",
   "metadata": {},
   "outputs": [
    {
     "name": "stdin",
     "output_type": "stream",
     "text": [
      "체력, 마나, AP를 입력하세요. 1803.68 1184 645\n"
     ]
    },
    {
     "name": "stdout",
     "output_type": "stream",
     "text": [
      "티버: 피해량 819.25\n"
     ]
    }
   ],
   "source": [
    "# tibbers 스킬의 피해량을 출력하는 함수\n",
    "\n",
    "class Annie:\n",
    "    def __init__(self, hp, mp, ap):\n",
    "        self.hp = hp\n",
    "        self.mp = mp\n",
    "        self.ap = ap\n",
    "    hp, mp, ap = map(float, (input(\"체력, 마나, AP를 입력하세요.\").split(\" \")))\n",
    "                              \n",
    "    def tibbers(hp, mp, ap):\n",
    "        return ap*0.65 + 400\n",
    "        \n",
    "    print(f\"티버: 피해량 {tibbers(hp, mp, ap)}\")"
   ]
  },
  {
   "cell_type": "code",
   "execution_count": 10,
   "id": "ce0f48e8-4c6a-4e9f-93d3-450e2c174e55",
   "metadata": {},
   "outputs": [],
   "source": [
    "# tibbers 스킬의 피해량을 출력하는 함수\n",
    "# 강사님 풀이\n",
    "\n",
    "class Annie:\n",
    "    def __init__(self, hp=0, mp=0, ap=0):\n",
    "        self.hp = hp\n",
    "        self.mp = mp\n",
    "        self.ap = ap\n",
    "                              \n",
    "    def tibbers(self):\n",
    "        return self.ap*0.65 + 400"
   ]
  }
 ],
 "metadata": {
  "kernelspec": {
   "display_name": "Python 3 (ipykernel)",
   "language": "python",
   "name": "python3"
  },
  "language_info": {
   "codemirror_mode": {
    "name": "ipython",
    "version": 3
   },
   "file_extension": ".py",
   "mimetype": "text/x-python",
   "name": "python",
   "nbconvert_exporter": "python",
   "pygments_lexer": "ipython3",
   "version": "3.9.13"
  }
 },
 "nbformat": 4,
 "nbformat_minor": 5
}
