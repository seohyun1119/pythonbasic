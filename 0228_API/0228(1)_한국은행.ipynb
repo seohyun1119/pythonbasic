{
 "cells": [
  {
   "cell_type": "code",
   "execution_count": 1,
   "id": "7953ead6-02cd-454b-bfa3-940dc41130fd",
   "metadata": {},
   "outputs": [],
   "source": [
    "# API 실습\n",
    "# API 서버로부터 적절한 시간 간격을 두고 데이터를 가져오는 코드"
   ]
  },
  {
   "cell_type": "code",
   "execution_count": 10,
   "id": "31e395c4-3f67-4cb1-80d2-58319bbfa8cd",
   "metadata": {},
   "outputs": [],
   "source": [
    "# 한국은행"
   ]
  },
  {
   "cell_type": "code",
   "execution_count": 11,
   "id": "6a83f7dd-0253-4dd4-af75-f700498f40cd",
   "metadata": {},
   "outputs": [],
   "source": [
    "key = \"NQ9FGGAY9OX7EFOY4L00\""
   ]
  },
  {
   "cell_type": "code",
   "execution_count": 12,
   "id": "cdb16b08-d0b8-44b1-b6cb-74b217e2ad56",
   "metadata": {},
   "outputs": [
    {
     "name": "stdout",
     "output_type": "stream",
     "text": [
      "200\n",
      "{'STAT_CODE': '901Y055', 'STAT_NAME': '1.5.1.3. 투자자별 주식거래', 'ITEM_CODE1': 'S22B', 'ITEM_NAME1': '매수 1)', 'ITEM_CODE2': 'VO', 'ITEM_NAME2': '거래량', 'ITEM_CODE3': None, 'ITEM_NAME3': None, 'ITEM_CODE4': None, 'ITEM_NAME4': None, 'UNIT_NAME': '천주 ', 'TIME': '202001', 'DATA_VALUE': '13096066'}\n"
     ]
    }
   ],
   "source": [
    "#20년부터 21년까지 월별 투자자별 주식거래를 받아보았다.\n",
    "\n",
    "import requests as rq\n",
    "stock_key = '901Y055'\n",
    "stock_url = f'https://ecos.bok.or.kr/api/StatisticSearch/{key}/json/kr/1/10/{stock_key}/M/202001/202112/S22B/?/?/?'\n",
    "\n",
    "stock = rq.get(stock_url)\n",
    "print(stock.status_code)\n",
    "stock_dict = stock.json()\n",
    "print(stock_dict['StatisticSearch']['row'][0])"
   ]
  },
  {
   "cell_type": "code",
   "execution_count": 13,
   "id": "173f1c49-de6b-40b7-9295-868c69ea48eb",
   "metadata": {},
   "outputs": [
    {
     "name": "stdout",
     "output_type": "stream",
     "text": [
      "  STAT_CODE           STAT_NAME ITEM_CODE1 ITEM_NAME1 ITEM_CODE2 ITEM_NAME2  \\\n",
      "0   901Y055  1.5.1.3. 투자자별 주식거래       S22B      매수 1)         VO        거래량   \n",
      "1   901Y055  1.5.1.3. 투자자별 주식거래       S22B      매수 1)         VO        거래량   \n",
      "2   901Y055  1.5.1.3. 투자자별 주식거래       S22B      매수 1)         VO        거래량   \n",
      "3   901Y055  1.5.1.3. 투자자별 주식거래       S22B      매수 1)         VO        거래량   \n",
      "4   901Y055  1.5.1.3. 투자자별 주식거래       S22B      매수 1)         VO        거래량   \n",
      "5   901Y055  1.5.1.3. 투자자별 주식거래       S22B      매수 1)         VO        거래량   \n",
      "6   901Y055  1.5.1.3. 투자자별 주식거래       S22B      매수 1)         VO        거래량   \n",
      "7   901Y055  1.5.1.3. 투자자별 주식거래       S22B      매수 1)         VO        거래량   \n",
      "8   901Y055  1.5.1.3. 투자자별 주식거래       S22B      매수 1)         VO        거래량   \n",
      "9   901Y055  1.5.1.3. 투자자별 주식거래       S22B      매수 1)         VO        거래량   \n",
      "\n",
      "  ITEM_CODE3 ITEM_NAME3 ITEM_CODE4 ITEM_NAME4 UNIT_NAME    TIME DATA_VALUE  \n",
      "0       None       None       None       None       천주   202001   13096066  \n",
      "1       None       None       None       None       천주   202002   13959767  \n",
      "2       None       None       None       None       천주   202003   17091025  \n",
      "3       None       None       None       None       천주   202004   21045121  \n",
      "4       None       None       None       None       천주   202005   16206497  \n",
      "5       None       None       None       None       천주   202006   19863704  \n",
      "6       None       None       None       None       천주   202007   18866787  \n",
      "7       None       None       None       None       천주   202008   17643124  \n",
      "8       None       None       None       None       천주   202009   19606897  \n",
      "9       None       None       None       None       천주   202010   15705577  \n"
     ]
    }
   ],
   "source": [
    "stock_df = pd.DataFrame(stock_dict['StatisticSearch']['row'])\n",
    "print(stock_df)"
   ]
  }
 ],
 "metadata": {
  "kernelspec": {
   "display_name": "Python 3 (ipykernel)",
   "language": "python",
   "name": "python3"
  },
  "language_info": {
   "codemirror_mode": {
    "name": "ipython",
    "version": 3
   },
   "file_extension": ".py",
   "mimetype": "text/x-python",
   "name": "python",
   "nbconvert_exporter": "python",
   "pygments_lexer": "ipython3",
   "version": "3.9.13"
  }
 },
 "nbformat": 4,
 "nbformat_minor": 5
}
