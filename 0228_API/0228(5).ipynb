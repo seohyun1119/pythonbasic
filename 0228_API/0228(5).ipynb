{
 "cells": [
  {
   "cell_type": "code",
   "execution_count": 1,
   "id": "07233170-c44f-43d0-9f3c-59c2ae443720",
   "metadata": {},
   "outputs": [],
   "source": [
    "# 웹 크롤링(web crawling)\n",
    "# 웹을 통해 콘텐츠 및 기타 데이터를 검색하고 자동으로 인덱싱하는 프로그램\n",
    "# 특정 URL과 도메인을 찾을 수 있음"
   ]
  },
  {
   "cell_type": "code",
   "execution_count": 2,
   "id": "dabf8aab-1955-4d9a-bc22-cfe37214ba30",
   "metadata": {},
   "outputs": [],
   "source": [
    "# 웹 스크래핑(Web Scraping)\n",
    "# 데이터, 즉 특정 웹사이트에서 추출하려는 데이터 필드에 관한 것\n",
    "# 도메인은 알고 있어야 함"
   ]
  },
  {
   "cell_type": "code",
   "execution_count": 3,
   "id": "9235570b-1e83-4ea9-bf45-baa7d14e142c",
   "metadata": {},
   "outputs": [],
   "source": [
    "# 웹 크롤링 프로세스\n",
    "# 크롤러는 각 특정 페이지의 모든 콘텐츠를 인덱싱한 후 인덱싱된 데이터를 데이터베이스에 저장함"
   ]
  },
  {
   "cell_type": "code",
   "execution_count": 4,
   "id": "c5ebe9fb-52b9-42bf-8501-18591b2e83dd",
   "metadata": {},
   "outputs": [],
   "source": [
    "# robots.txt\n",
    "# 사이트의 최상위 경로"
   ]
  },
  {
   "cell_type": "code",
   "execution_count": 5,
   "id": "185a268f-2eb5-4943-90d0-6965f6f68eb5",
   "metadata": {},
   "outputs": [],
   "source": [
    "# 특정 User-agent가 특정 URL에 대해서 접근 가능한지 체크\n",
    "\n",
    "import urllib.robotparser\n",
    "rp = urllib.robotparser.RobotFileParser()\n",
    "rp.set_url(\"https://www.reuters.com/robots.txt\")\n",
    "rp.read()"
   ]
  },
  {
   "cell_type": "code",
   "execution_count": 6,
   "id": "aa78ad79-5db8-42eb-967b-81ddceb31946",
   "metadata": {},
   "outputs": [
    {
     "data": {
      "text/plain": [
       "True"
      ]
     },
     "execution_count": 6,
     "metadata": {},
     "output_type": "execute_result"
    }
   ],
   "source": [
    "rp.can_fetch(useragent = \"*\", url = \"https://reuters.com/sitemap.xml\")"
   ]
  },
  {
   "cell_type": "code",
   "execution_count": 7,
   "id": "125cbf59-603a-4b60-b3e6-abd4edaad9ee",
   "metadata": {},
   "outputs": [
    {
     "data": {
      "text/plain": [
       "['https://www.reuters.com/arc/outboundfeeds/sitemap-index/?outputType=xml',\n",
       " 'https://www.reuters.com/arc/outboundfeeds/news-sitemap-index/?outputType=xml',\n",
       " 'https://www.reuters.com/sitemap_video_index.xml',\n",
       " 'https://www.reuters.com/brandfeature/sitemap']"
      ]
     },
     "execution_count": 7,
     "metadata": {},
     "output_type": "execute_result"
    }
   ],
   "source": [
    "sitemaps = rp.site_maps()\n",
    "sitemaps"
   ]
  },
  {
   "cell_type": "code",
   "execution_count": 8,
   "id": "d0158bfd-7b27-4929-a85d-ad5ff1532d99",
   "metadata": {},
   "outputs": [
    {
     "name": "stdout",
     "output_type": "stream",
     "text": [
      "Requirement already satisfied: xmltodict in c:\\users\\playdata\\anaconda3\\lib\\site-packages (0.13.0)\n"
     ]
    }
   ],
   "source": [
    "!pip install xmltodict"
   ]
  },
  {
   "cell_type": "code",
   "execution_count": 9,
   "id": "fd22a874-0243-4e70-84e4-612977b351a2",
   "metadata": {},
   "outputs": [],
   "source": [
    "import xmltodict\n",
    "import requests\n",
    "\n",
    "url = sitemaps[0] # /sitemap/latest-articles\n",
    "sitemaps = xmltodict.parse(requests.get(url).text)"
   ]
  },
  {
   "cell_type": "code",
   "execution_count": 10,
   "id": "fa73ce48-17e4-45c0-8bb2-17a82cafe4cd",
   "metadata": {},
   "outputs": [],
   "source": [
    "# sitemap urls을 확보\n",
    "\n",
    "sitemap_urls = [sitemap['loc'] for sitemap in sitemaps['sitemapindex']['sitemap']]"
   ]
  },
  {
   "cell_type": "code",
   "execution_count": 11,
   "id": "7f4cc881-aaff-475c-87b4-e15eff080755",
   "metadata": {},
   "outputs": [
    {
     "name": "stdout",
     "output_type": "stream",
     "text": [
      "96개의 사이트맵 URL이 있습니다.\n"
     ]
    },
    {
     "data": {
      "text/plain": [
       "['https://www.reuters.com/arc/outboundfeeds/sitemap/?outputType=xml',\n",
       " 'https://www.reuters.com/arc/outboundfeeds/sitemap/?outputType=xml&from=100',\n",
       " 'https://www.reuters.com/arc/outboundfeeds/sitemap/?outputType=xml&from=200',\n",
       " 'https://www.reuters.com/arc/outboundfeeds/sitemap/?outputType=xml&from=300',\n",
       " 'https://www.reuters.com/arc/outboundfeeds/sitemap/?outputType=xml&from=400']"
      ]
     },
     "execution_count": 11,
     "metadata": {},
     "output_type": "execute_result"
    }
   ],
   "source": [
    "# 개수 파악\n",
    "print(f\"{len(sitemap_urls)}개의 사이트맵 URL이 있습니다.\")\n",
    "\n",
    "# 샘플로 앞의 sitemap url 5개만 확인\n",
    "sitemap_urls[:5]"
   ]
  },
  {
   "cell_type": "code",
   "execution_count": 12,
   "id": "33e3f9b3-be01-42a1-8b12-18ba3cc38649",
   "metadata": {},
   "outputs": [],
   "source": [
    "response = requests.get(sitemap_urls[0])"
   ]
  },
  {
   "cell_type": "code",
   "execution_count": 13,
   "id": "5dda17d1-1a33-48b9-b277-e7b5da7f1ed8",
   "metadata": {},
   "outputs": [],
   "source": [
    "urls = xmltodict.parse(response.text)"
   ]
  },
  {
   "cell_type": "code",
   "execution_count": 14,
   "id": "673aefa1-9fd4-4be8-bf8c-2476fbf5741a",
   "metadata": {
    "scrolled": true,
    "tags": []
   },
   "outputs": [
    {
     "data": {
      "text/plain": [
       "{'urlset': {'@xmlns': 'http://www.sitemaps.org/schemas/sitemap/0.9',\n",
       "  '@xmlns:image': 'http://www.google.com/schemas/sitemap-image/1.1',\n",
       "  'url': [{'loc': 'https://www.reuters.com/business/autos-transportation/audi-will-not-cut-ev-prices-follow-teslas-lead-audi-europe-chief-2023-02-28/',\n",
       "    'lastmod': '2023-02-28T07:13:27.750Z',\n",
       "    'image:image': {'image:loc': 'https://www.reuters.com/resizer/3ck-rB2BWzRLINVI1mYRPBE4F2I=/cloudfront-us-east-2.images.arcpublishing.com/reuters/XKPE7AQGMVLO3PSI37MGYMG2OM.jpg',\n",
       "     'image:caption': 'The Audi logo is seen during the first press day of the Paris auto show, in Paris, France, October 2, 2018. REUTERS/Benoit Tessier'}},\n",
       "   {'loc': 'https://www.reuters.com/markets/europe/abrdn-swings-pretax-loss-markets-turmoil-weighs-2023-02-28/',\n",
       "    'lastmod': '2023-02-28T07:13:48.463Z',\n",
       "    'image:image': {'image:loc': 'https://www.reuters.com/resizer/RuuwsOfwropXQyGRsY1xRJCYNl4=/cloudfront-us-east-2.images.arcpublishing.com/reuters/K63GJYXFKZPB5NRGQRU3PXHXPE.jpg',\n",
       "     'image:caption': 'Businessman toy figure is placed on U.K. Pound coins in front of displayed Abrdn logo in this illustration taken, November 8, 2021. REUTERS/Dado Ruvic/Illustration'}},\n",
       "   {'loc': 'https://www.reuters.com/markets/asia/china-income-spending-per-capita-grow-over-2022-national-bureau-statistics-2023-02-28/',\n",
       "    'lastmod': '2023-02-28T07:14:13.192Z',\n",
       "    'image:image': {'image:loc': 'https://www.reuters.com/resizer/HLOGxQP0TP3j-vzL5mHzXqcDqr0=/cloudfront-us-east-2.images.arcpublishing.com/reuters/JIGF575IKZNENL5HADWUWHFGGA.jpg',\n",
       "     'image:caption': \"A view of the city skyline, ahead of the annual National People's Congress (NPC), in Shanghai, China February 24, 2022. REUTERS/Aly Song\"}},\n",
       "   {'loc': 'https://www.reuters.com/business/finance/spains-santander-raises-three-year-profitability-target-15-17-2023-02-28/',\n",
       "    'lastmod': '2023-02-28T07:05:45.811Z',\n",
       "    'image:image': {'image:loc': 'https://www.reuters.com/resizer/5UTD6-2wCanilVd5-I0xW5PJrR4=/cloudfront-us-east-2.images.arcpublishing.com/reuters/IONPJI5MRJLEXN6CQIXFALHODU.jpg',\n",
       "     'image:caption': \"A Santander company logo is pictured at the company's headquarters in Boadilla del Monte, outside Madrid, Spain, February 2, 2023. REUTERS/Violeta Santos Moura\"}},\n",
       "   {'loc': 'https://www.reuters.com/world/europe/russian-offensive-eastern-ukraine-focused-bakhmut-2023-02-28/',\n",
       "    'lastmod': '2023-02-28T07:05:43.164Z',\n",
       "    'image:image': {'image:loc': 'https://www.reuters.com/resizer/-L3cAJe3_vEgHdcIkEODMwJdj2c=/cloudfront-us-east-2.images.arcpublishing.com/reuters/O4KWAXBWUJJRDPRIUTCX7VAU3Q.jpg',\n",
       "     'image:caption': \"Ukrainian service members are seen next an infantry fighting vehicle near the frontline town of Bakhmut, amid Russia's attack on Ukraine, in Donetsk region, Ukraine February 25, 2023. REUTERS/Yan Dobronosov\"}},\n",
       "   {'loc': 'https://www.reuters.com/lifestyle/sports/wta-roundup-alycia-parks-bounced-austin-opener-2023-02-28/',\n",
       "    'lastmod': '2023-02-28T07:03:42.181Z'},\n",
       "   {'loc': 'https://www.reuters.com/markets/deals/insurer-axa-sells-off-most-its-shares-monte-dei-paschi-233-eurosshare-2023-02-28/',\n",
       "    'lastmod': '2023-02-28T07:02:38.044Z',\n",
       "    'image:image': {'image:loc': 'https://www.reuters.com/resizer/Ye2ppXrmEiLoiRDrGJtFskgLN4w=/cloudfront-us-east-2.images.arcpublishing.com/reuters/RGMHCFK4SNNINLVQB3VLJIIXNU.jpg',\n",
       "     'image:caption': 'The entrance of the Monte dei Paschi bank headquarters is seen in Siena, central Italy, January 29, 2016. REUTERS/Max Rossi'}},\n",
       "   {'loc': 'https://www.reuters.com/world/us/florida-gov-desantis-signs-bill-asserting-state-oversight-land-around-walt-2023-02-27/',\n",
       "    'lastmod': '2023-02-28T06:59:48.398Z',\n",
       "    'image:image': {'image:loc': 'https://www.reuters.com/resizer/2ujET3AvPawfpC7uR0-sOjykt6Y=/cloudfront-us-east-2.images.arcpublishing.com/reuters/SWNTVMYIWVLADOEOOPXI5VPF7A.jpg',\n",
       "     'image:caption': 'A Walt Disney World photographer holds a Pride rainbow-coloured Mickey Mouse cutout before the \"Festival of Fantasy\" parade at the Walt Disney World Magic Kingdom theme park in Orlando, Florida, U.S. July 30, 2022.  REUTERS/Octavio Jones'}},\n",
       "   {'loc': 'https://www.reuters.com/world/india/india-bans-oil-tankers-bulk-carriers-older-than-25-years-2023-02-28/',\n",
       "    'lastmod': '2023-02-28T06:59:48.805Z'},\n",
       "   {'loc': 'https://www.reuters.com/business/us-labor-department-probes-hearthside-food-solutions-possible-child-labor-2023-02-27/',\n",
       "    'lastmod': '2023-02-28T06:49:28.014Z',\n",
       "    'image:image': {'image:loc': 'https://www.reuters.com/resizer/9iry-aJuc6R9GHdkrXKMuoPCKMQ=/cloudfront-us-east-2.images.arcpublishing.com/reuters/BLI4XGAC5BPLDIGXLDWKRCJWSU.jpg',\n",
       "     'image:caption': 'The United States Department of Labor is seen in Washington, D.C., U.S., August 30, 2020. REUTERS/Andrew Kelly'}},\n",
       "   {'loc': 'https://www.reuters.com/business/energy/bp-ends-70-years-publishing-statistical-review-world-energy-2023-02-28/',\n",
       "    'lastmod': '2023-02-28T06:53:41.200Z',\n",
       "    'image:image': {'image:loc': 'https://www.reuters.com/resizer/k8HU0BQsdv59KW2h-8gQPQlFmfA=/cloudfront-us-east-2.images.arcpublishing.com/reuters/F3KYTU72VZJGTCJTYFVVI2IK74.jpg',\n",
       "     'image:caption': 'The BP logo is seen at a BP gas station in Manhattan, New York City, U.S., November 24, 2021. REUTERS/Andrew Kelly/File Photo'}},\n",
       "   {'loc': 'https://www.reuters.com/markets/swiss-watchdog-concludes-greensill-proceedings-against-credit-suisse-2023-02-28/',\n",
       "    'lastmod': '2023-02-28T06:46:45.815Z',\n",
       "    'image:image': {'image:loc': 'https://www.reuters.com/resizer/m4XM_l5rmrwVRO0dqddOf09bgWA=/cloudfront-us-east-2.images.arcpublishing.com/reuters/AHXUERW7AZLHXBTP26EXWCQYF4.jpg',\n",
       "     'image:caption': \"Switzerland's national flag flies above a logo of Swiss bank Credit Suisse in front of a branch office in Bern, Switzerland November 29, 2022. REUTERS/Arnd Wiegmann/File Photo\"}},\n",
       "   {'loc': 'https://www.reuters.com/world/asia-pacific/rust-belt-province-got-old-before-it-got-rich-much-china-will-2023-02-28/',\n",
       "    'lastmod': '2023-02-28T06:45:36.935Z',\n",
       "    'image:image': {'image:loc': 'https://www.reuters.com/resizer/bplR8ZWjXO2exglqUUz4pExzJZk=/cloudfront-us-east-2.images.arcpublishing.com/reuters/5J6WQOW4YVP47LTIKYAYUH4UAQ.jpg',\n",
       "     'image:caption': 'Farmer Wang Zhanling sits next to his wife in their house in Quansheng village, Heilongjiang Province, China, February 8, 2023. REUTERS/Thomas Peter'}},\n",
       "   {'loc': 'https://www.reuters.com/business/saudis-sabic-posts-94-drop-q4-net-profit-lower-average-sales-prices-2023-02-28/',\n",
       "    'lastmod': '2023-02-28T07:00:29.298Z',\n",
       "    'image:image': {'image:loc': 'https://www.reuters.com/resizer/5El57-Dg-6xhjqbAQfQgcLZ5QKg=/cloudfront-us-east-2.images.arcpublishing.com/reuters/J5WMPRHQVRKATOUGC5NBEEZBUE.jpg',\n",
       "     'image:caption': 'A man walks past the headquarters of Saudi Basic Industries Corp (SABIC) in Riyadh, Saudi Arabia October 27, 2013. REUTERS/Faisal Al Nasser/File Photo'}},\n",
       "   {'loc': 'https://www.reuters.com/business/retail-consumer/french-retailer-casinos-sales-growth-slows-fourth-quarter-2023-02-28/',\n",
       "    'lastmod': '2023-02-28T06:41:07.244Z',\n",
       "    'image:image': {'image:loc': 'https://www.reuters.com/resizer/CiXxylwMYPCg7O3LnAc2RTU8BXw=/cloudfront-us-east-2.images.arcpublishing.com/reuters/SBNTLDLEJ5KQHNGIITEYPRWKWI.jpg',\n",
       "     'image:caption': 'The logo of Casino supermarket is pictured in Cannes, November 9, 2019.   REUTERS/Eric Gaillard/File Photo'}},\n",
       "   {'loc': 'https://www.reuters.com/business/bayer-sees-lower-2023-operating-profit-cost-inflation-2023-02-28/',\n",
       "    'lastmod': '2023-02-28T06:53:28.903Z',\n",
       "    'image:image': {'image:loc': 'https://www.reuters.com/resizer/M9BROHZfLitS7GYMNzfEU2aFumc=/cloudfront-us-east-2.images.arcpublishing.com/reuters/OGZY7ZAWCVJXJMCTOTEGMB66PA.jpg',\n",
       "     'image:caption': 'Logo of Bayer AG is pictured at the annual results news conference of the German drugmaker in Leverkusen, Germany February 27, 2019. REUTERS/Wolfgang Rattay/File Photo'}},\n",
       "   {'loc': 'https://www.reuters.com/business/finance/oaktree-capital-seeks-raise-10-billion-new-fund-ft-2023-02-28/',\n",
       "    'lastmod': '2023-02-28T06:53:51.869Z',\n",
       "    'image:image': {'image:loc': 'https://www.reuters.com/resizer/5zRamS0u6csGtW5TJ0sqY6WgyZ0=/cloudfront-us-east-2.images.arcpublishing.com/reuters/2OSJ6HHYURLMHMKSUSZGJRYYBE.jpg',\n",
       "     'image:caption': 'A picture illustration shows U.S. 100-dollar bank notes taken in Tokyo August 2, 2011. REUTERS/Yuriko Nakao/File Photo'}},\n",
       "   {'loc': 'https://www.reuters.com/markets/europe/global-markets-view-europe-2023-02-28/',\n",
       "    'lastmod': '2023-02-28T06:30:51.395Z',\n",
       "    'image:image': {'image:loc': 'https://www.reuters.com/resizer/VAhiE2wIqGF42htLlOrAm5QKpbA=/cloudfront-us-east-2.images.arcpublishing.com/reuters/HJX63HRYZNJLJGAQPOSEHQV45M.jpg',\n",
       "     'image:caption': 'The German share price index DAX graph is pictured at the stock exchange in Frankfurt, Germany, February 27, 2023.    REUTERS/Staff'}},\n",
       "   {'loc': 'https://www.reuters.com/business/retail-consumer/home-zara-fast-slow-fashion-collide-2023-02-28/',\n",
       "    'lastmod': '2023-02-28T06:29:10.080Z',\n",
       "    'image:image': {'image:loc': 'https://www.reuters.com/resizer/bJSj22xxE8PlHfv9BLCLGhzVVyw=/cloudfront-us-east-2.images.arcpublishing.com/reuters/E4WVOANN2FJD3GHH354WDLWAJY.jpg',\n",
       "     'image:caption': 'Marian Fernandez, 56, a former employee of Inditex, rearranges clothes at her fashion store Maazi from where she also posts weekly videos on social media on how to build a \"responsible\" wardrobe, in downtown A Coruna, in northern Spain, November 18, 2022. REUTERS/Miguel Vidal'}},\n",
       "   {'loc': 'https://www.reuters.com/lifestyle/sports/england-captain-stokes-has-no-regrets-over-follow-on-2023-02-28/',\n",
       "    'lastmod': '2023-02-28T06:26:54.194Z',\n",
       "    'image:image': {'image:loc': 'https://www.reuters.com/resizer/m7GctcOQu6P4s9HnNdxIuFeioa0=/cloudfront-us-east-2.images.arcpublishing.com/reuters/G6JUG4WIQZLDBNDIT22G33N3X4.jpg',\n",
       "     'image:caption': \"Cricket - Third Test - Pakistan v England - National Stadium Karachi, Pakistan - December 18, 2022. England's captain Ben Stokes plays a shot. REUTERS/Akhtar Soomro\"}},\n",
       "   {'loc': 'https://www.reuters.com/markets/asia/indias-adani-plans-repay-up-790-mln-share-backed-loans-by-march-sources-2023-02-28/',\n",
       "    'lastmod': '2023-02-28T06:21:06.075Z',\n",
       "    'image:image': {'image:loc': 'https://www.reuters.com/resizer/a2doJR0omcTx6uwq9C_jTtZmVJ8=/cloudfront-us-east-2.images.arcpublishing.com/reuters/JH4MQEC6AFO6ZJLJGIKSPW5BVE.jpg',\n",
       "     'image:caption': 'The logo of the Adani Group is seen on one of its buildings in Ahmedabad, India, January  27, 2023. REUTERS/Amit Dave/File Photo'}},\n",
       "   {'loc': 'https://www.reuters.com/lifestyle/sports/smith-says-australia-batsmen-will-ditch-risky-tempo-third-test-2023-02-28/',\n",
       "    'lastmod': '2023-02-28T06:20:34.667Z',\n",
       "    'image:image': {'image:loc': 'https://www.reuters.com/resizer/2cWcgEBQk76fY6y7ykj-u_u8zjk=/cloudfront-us-east-2.images.arcpublishing.com/reuters/OFBMDNLZAVN3DJZMY4NS5SU7OI.jpg',\n",
       "     'image:caption': \"Cricket - Second Test - India v Australia - Arun Jaitley Stadium, New Delhi, India - February 19, 2023 India's Ravichandran Ashwin celebrates with teammates after taking the wicket of Australia's Steve Smith REUTERS/Anushree Fadnavis\"}},\n",
       "   {'loc': 'https://www.reuters.com/technology/cryptoverse-bitcoin-moves-towards-satoshis-payment-dream-2023-02-28/',\n",
       "    'lastmod': '2023-02-28T06:18:49.097Z',\n",
       "    'image:image': {'image:loc': 'https://www.reuters.com/resizer/tCz1y725PqDry9P0Mz8CqLGCD04=/cloudfront-us-east-2.images.arcpublishing.com/reuters/ITNSLRU3KFLP7ABJFCV4MG6BBY.jpg',\n",
       "     'image:caption': 'A representation of the virtual cryptocurrency Bitcoin is seen in this picture illustration taken October 19, 2021. REUTERS/Edgar Su'}},\n",
       "   {'loc': 'https://www.reuters.com/markets/europe/ecb-has-started-win-inflation-fight-lane-says-2023-02-28/',\n",
       "    'lastmod': '2023-02-28T06:14:49.005Z',\n",
       "    'image:image': {'image:loc': 'https://www.reuters.com/resizer/fLeOxFQBPtitJj6Cz5Tr1rM068M=/cloudfront-us-east-2.images.arcpublishing.com/reuters/JP4IDHJM2VIUJM3PEYDOWATVO4.jpg',\n",
       "     'image:caption': 'European Central Bank Chief Economist Philip Lane speaks during a Reuters Newsmaker event in New York, U.S., September 27, 2019. REUTERS/Gary He'}},\n",
       "   {'loc': 'https://www.reuters.com/markets/rates-bonds/banks-pile-into-euro-zone-bond-sales-rates-shoot-up-2023-02-28/',\n",
       "    'lastmod': '2023-02-28T06:11:11.460Z',\n",
       "    'image:image': {'image:loc': 'https://www.reuters.com/resizer/yNnxDeA1oGB9EJ-3P80ArE19kI4=/cloudfront-us-east-2.images.arcpublishing.com/reuters/F2WJJGVKQFNFLCDHTPW3RDC76A.jpg',\n",
       "     'image:caption': 'One Euro coins are seen in this illustration taken November 9, 2021. REUTERS/Dado Ruvic/Illustration'}},\n",
       "   {'loc': 'https://www.reuters.com/business/adecco-sees-signs-hiring-slowdown-start-2023-2023-02-28/',\n",
       "    'lastmod': '2023-02-28T06:11:01.202Z',\n",
       "    'image:image': {'image:loc': 'https://www.reuters.com/resizer/-zq6VgCGaz5afNgMnGDv4zjN7mY=/cloudfront-us-east-2.images.arcpublishing.com/reuters/57UJRAN7QJJTDFWRWN4EWVBYVY.jpg',\n",
       "     'image:caption': 'Adecco logo is seen displayed in this illustration taken, May 3, 2022. REUTERS/Dado Ruvic/Illustration'}},\n",
       "   {'loc': 'https://www.reuters.com/world/us/tennessee-meat-plant-workers-reach-12-mln-settlement-over-2018-raid-2023-02-28/',\n",
       "    'lastmod': '2023-02-28T06:09:05.129Z'},\n",
       "   {'loc': 'https://www.reuters.com/world/asia-pacific/la-nina-wet-weather-system-near-its-end-australian-weather-bureau-2023-02-28/',\n",
       "    'lastmod': '2023-02-28T05:59:14.307Z'},\n",
       "   {'loc': 'https://www.reuters.com/lifestyle/sports/nhl-roundup-connor-mcdavids-49th-50th-goals-cant-stop-bruins-2023-02-28/',\n",
       "    'lastmod': '2023-02-28T06:11:33.361Z',\n",
       "    'image:image': {'image:loc': 'https://www.reuters.com/resizer/fHCPK0_ajqynlni45yWtIjhcwmw=/cloudfront-us-east-2.images.arcpublishing.com/reuters/SMNSY7TZPVOO3HLUA6H7AE6XV4.jpg',\n",
       "     'image:caption': 'Feb 27, 2023; Edmonton, Alberta, CAN; Edmonton Oilers forward Connor McDavid (97) carries the puck around Boston Bruins forward Patrice Bergeron (37) during the third period at Rogers Place. Mandatory Credit: Perry Nelson-USA TODAY Sports'}},\n",
       "   {'loc': 'https://www.reuters.com/lifestyle/sports/new-zealand-skipper-southee-hails-test-win-ages-2023-02-28/',\n",
       "    'lastmod': '2023-02-28T05:45:29.634Z',\n",
       "    'image:image': {'image:loc': 'https://www.reuters.com/resizer/1Xu-k6r9JOoIcaqq8VqVz2C79xw=/cloudfront-us-east-2.images.arcpublishing.com/reuters/DRETUTZGUZN5DE5GYJEOH24YG4.jpg',\n",
       "     'image:caption': \"Cricket - Third Test - England v New Zealand - Yorkshire Cricket Ground, Leeds, Britain - June 24, 2022 New Zealand's Tim Southee celebrates after taking the wicket of England's Joe Root Action Images via Reuters/Lee Smith\"}},\n",
       "   {'loc': 'https://www.reuters.com/world/china/chinas-birth-rate-slumps-political-advisor-urges-egg-freezing-single-women-2023-02-28/',\n",
       "    'lastmod': '2023-02-28T05:51:22.421Z',\n",
       "    'image:image': {'image:loc': 'https://www.reuters.com/resizer/FqT5sRSAXwnb2fo-yUxBqSMyTKU=/cloudfront-us-east-2.images.arcpublishing.com/reuters/ML4HRCXNGZOG5OEHTI5M7XHTE4.jpg',\n",
       "     'image:caption': \"Newborn babies sleep in a ward at a hospital in Hefei, in China's Anhui province. Picture taken April 21, 2011. REUTERS/Stringer/File Photo\"}},\n",
       "   {'loc': 'https://www.reuters.com/lifestyle/sports/tough-see-alcaraz-playing-acapulco-says-coach-2023-02-28/',\n",
       "    'lastmod': '2023-02-28T05:41:09.028Z',\n",
       "    'image:image': {'image:loc': 'https://www.reuters.com/resizer/_G622_nj8nt6znlr4kpB6-egRVM=/cloudfront-us-east-2.images.arcpublishing.com/reuters/QW4XTRBCNBNIRLRUKWGOGE4ELQ.jpg',\n",
       "     'image:caption': \"Tennis - ATP 500 - Rio Open - Jockey Club Brasileiro, Rio De Janeiro, Brazil - February 26, 2023 Spain's Carlos Alcaraz in action during his final match against Britain's Cameron Norrie REUTERS/Sergio Moraes\"}},\n",
       "   {'loc': 'https://www.reuters.com/world/moscow-accuses-us-preparing-toxic-chemicals-provocation-ukraine-2023-02-28/',\n",
       "    'lastmod': '2023-02-28T05:38:59.538Z',\n",
       "    'image:image': {'image:loc': 'https://www.reuters.com/resizer/xeihuhRR_PJZT3Xb64ot2VCHQEc=/cloudfront-us-east-2.images.arcpublishing.com/reuters/5QGRD754TFJOBIB34PHANRPZGI.jpg',\n",
       "     'image:caption': \"Ukrainian servicemen use a searchlight as they search for drones in the sky over the city during a Russian drone strike, amid Russia's attack on Ukraine, in Kyiv, Ukraine February 27, 2023. REUTERS/Gleb Garanich\"}},\n",
       "   {'loc': 'https://www.reuters.com/business/finance/goldman-sachs-seen-unveiling-medium-term-goals-investor-day-2023-02-28/',\n",
       "    'lastmod': '2023-02-28T06:09:25.067Z',\n",
       "    'image:image': {'image:loc': 'https://www.reuters.com/resizer/bylApbDAKzJXU7QIHl1e_Q_6pmU=/cloudfront-us-east-2.images.arcpublishing.com/reuters/SFSAO55F3BNIJFBGBQX2QB34CI.jpg',\n",
       "     'image:caption': 'The logo for Goldman Sachs is seen on the trading floor at the New York Stock Exchange (NYSE) in New York City, New York, U.S., November 17, 2021. REUTERS/Andrew Kelly/File Photo'}},\n",
       "   {'loc': 'https://www.reuters.com/breakingviews/chinas-li-auto-drives-fine-profit-line-2023-02-28/',\n",
       "    'lastmod': '2023-02-28T05:17:36.004Z',\n",
       "    'image:image': {'image:loc': 'https://www.reuters.com/resizer/Giz5TDkgjo476rw1wHyCEYF1lmA=/cloudfront-us-east-2.images.arcpublishing.com/reuters/ASBVTHVFBRCTFI27II32E2JRFI.jpg',\n",
       "     'image:caption': 'Li Xiang, founder and chief executive officer of Chinese electric vehicle (EV) maker Li Auto, speaks at a product launch event in Beijing, China May 25, 2021. Picture taken May 25, 2021. REUTERS/Yilei Sun'}},\n",
       "   {'loc': 'https://www.reuters.com/breakingviews/japan-posts-deal-will-test-interest-rate-optimism-2023-02-28/',\n",
       "    'lastmod': '2023-02-28T05:17:13.462Z',\n",
       "    'image:image': {'image:loc': 'https://www.reuters.com/resizer/JYecAIlXzFaquBiOnvAtx4KC_2w=/cloudfront-us-east-2.images.arcpublishing.com/reuters/7BUCXTMRK5FYHKWCYTA6SAYJQY.jpg',\n",
       "     'image:caption': 'A man walks past a logo of Japan Post Group at its headquarters in Tokyo, Japan, November 2, 2015.   REUTERS/Toru Hanai'}},\n",
       "   {'loc': 'https://www.reuters.com/markets/europe/germany-home-prices-sink-nearly-6-this-year-2023-02-28/',\n",
       "    'lastmod': '2023-02-28T05:16:37.913Z',\n",
       "    'image:image': {'image:loc': 'https://www.reuters.com/resizer/e1LVpNYv4ZPc58T0x23-hDjuLwE=/cloudfront-us-east-2.images.arcpublishing.com/reuters/UAZNEJUCI5J3HBFN44MVXAPXPM.jpg',\n",
       "     'image:caption': 'Facades of apartment buildings are pictured at Mitte district in Berlin, Germany, August 29, 2019.   REUTERS/Axel Schmidt'}},\n",
       "   {'loc': 'https://www.reuters.com/breakingviews/airtel-would-be-complex-saviour-paytm-2023-02-28/',\n",
       "    'lastmod': '2023-02-28T05:08:17.373Z',\n",
       "    'image:image': {'image:loc': 'https://www.reuters.com/resizer/vn4cdh1Q2Km-1GurcGzOTC-E-8M=/cloudfront-us-east-2.images.arcpublishing.com/reuters/ZQ6A6IVBDJI2JBNAVFM3ZZQN3U.jpg',\n",
       "     'image:caption': \"Gopal Vittal, Bharti Airtel's chief executive for India and South Asia listens to a question during a news conference in New Delhi, India July 10, 2017. REUTERS/Adnan Abidi\"}},\n",
       "   {'loc': 'https://www.reuters.com/business/autos-transportation/volkswagen-china-chief-visits-xinjiang-plant-sees-no-sign-forced-labour-2023-02-28/',\n",
       "    'lastmod': '2023-02-28T05:04:04.355Z',\n",
       "    'image:image': {'image:loc': 'https://www.reuters.com/resizer/VfFT5lIG7WPYwm5SE7-pttPYGGo=/cloudfront-us-east-2.images.arcpublishing.com/reuters/YMJPFT5G2NJP5IXLEZYGQN72Y4.jpg',\n",
       "     'image:caption': \"Ralf Brandstaetter, CEO of the Volkswagen Passenger Cars brand gestures in front of the revised logo of German carmaker Volkswagen AG during a preview of the world's biggest automaker at the international Frankfurt Motor Show IAA in Frankfurt, Germany September 9, 2019. REUTERS/Wolfgang Rattay\"}},\n",
       "   {'loc': 'https://www.reuters.com/world/europe/ex-kremlins-adviser-soviet-era-dissident-pavlovsky-dies-2023-02-28/',\n",
       "    'lastmod': '2023-02-28T04:54:45.973Z'},\n",
       "   {'loc': 'https://www.reuters.com/lifestyle/sports/brentfords-frank-says-abuse-directed-managers-is-disgrace-2023-02-28/',\n",
       "    'lastmod': '2023-02-28T04:53:20.987Z',\n",
       "    'image:image': {'image:loc': 'https://www.reuters.com/resizer/3wYxJsVzW7h_tQ7TjWybG0PIGR4=/cloudfront-us-east-2.images.arcpublishing.com/reuters/7POZ5JUOX5LFXJZSAFHKCKO7AQ.jpg',\n",
       "     'image:caption': 'Soccer Football - Premier League - Arsenal v Brentford - Emirates Stadium, London, Britain - February 11, 2023 Brentford manager Thomas Frank applauds fans after the match REUTERS/David Klein'}},\n",
       "   {'loc': 'https://www.reuters.com/lifestyle/sports/nba-roundup-hornets-win-again-lose-lamelo-ball-2023-02-28/',\n",
       "    'lastmod': '2023-02-28T04:43:20.848Z',\n",
       "    'image:image': {'image:loc': 'https://www.reuters.com/resizer/1gmKtZ6MJRH5Sii7duaboNQ-qpE=/cloudfront-us-east-2.images.arcpublishing.com/reuters/MYVSQ5IVMJNQJEA4TU4AQKP5TI.jpg',\n",
       "     'image:caption': 'Feb 27, 2023; Charlotte, North Carolina, USA; Detroit Pistons guard Killian Hayes (7) drives in past Charlotte Hornets forward JT Thor (21) during the second half at the Spectrum Center. Mandatory Credit: Sam Sharpe-USA TODAY Sports'}},\n",
       "   {'loc': 'https://www.reuters.com/lifestyle/giorgio-armani-offers-soft-fluid-winter-designs-milan-fashion-week-2023-02-26/',\n",
       "    'lastmod': '2023-02-28T06:24:56.364Z',\n",
       "    'image:image': {'image:loc': 'https://www.reuters.com/resizer/-GguIHUt4VgCNH5QwulsOcMDPFw=/cloudfront-us-east-2.images.arcpublishing.com/reuters/RVRC5XCOOFPRVMQV2RMDTVTSVI.jpg',\n",
       "     'image:caption': 'A model presents a creation from the Giorgio Armani Fall/Winter 2023/2024 collection during Fashion Week in Milan, Italy, February 26, 2023. Giorgio Armani/Handout via REUTERS'}},\n",
       "   {'loc': 'https://www.reuters.com/business/energy/thailands-indorama-ventures-scouts-acquisitions-europe-africa-ceo-2023-02-28/',\n",
       "    'lastmod': '2023-02-28T04:28:48.601Z',\n",
       "    'image:image': {'image:loc': 'https://www.reuters.com/resizer/tgD4XCoMvEFCFaDm8f2dovDc58A=/cloudfront-us-east-2.images.arcpublishing.com/reuters/RSD5KX72ZJPNBF5MPC6F6MAD64.jpg',\n",
       "     'image:caption': \"Thai chemicals company Indorama Ventures logo is seen at the company's headquarters in Bangkok, Thailand August 21, 2019. REUTERS/Chayut Setboonsarng\"}},\n",
       "   {'loc': 'https://www.reuters.com/lifestyle/sports/list-narrowest-victories-by-runs-tests-2023-02-28/',\n",
       "    'lastmod': '2023-02-28T04:18:30.993Z'},\n",
       "   {'loc': 'https://www.reuters.com/business/media-telecom/reuters-reporters-online-accounts-faked-approach-china-activists-2023-02-28/',\n",
       "    'lastmod': '2023-02-28T04:18:48.700Z',\n",
       "    'image:image': {'image:loc': 'https://www.reuters.com/resizer/rQ_SNNkHcThg-rihikiWxO_sepM=/cloudfront-us-east-2.images.arcpublishing.com/reuters/ESNE3UWDZJORJFH4ICHSXPY5PI.jpg',\n",
       "     'image:caption': 'The Chinese flag is seen across the Victoria Harbour during sunset, in Hong Kong, China October 12, 2022. REUTERS/Tyrone Siu/File Photo'}},\n",
       "   {'loc': 'https://www.reuters.com/world/us/us-needs-learn-all-black-history-biden-says-some-republicans-push-curbs-2023-02-27/',\n",
       "    'lastmod': '2023-02-28T04:10:43.881Z',\n",
       "    'image:image': {'image:loc': 'https://www.reuters.com/resizer/8w97fKeAhgDpawWl4Vs6t_0KhCA=/cloudfront-us-east-2.images.arcpublishing.com/reuters/6I4EBHWVSBJKLFQC7XHCFGUOYI.jpg',\n",
       "     'image:caption': 'FILE PHOTO:U.S. President Joe Biden speaks to the media before departing the White House in Washington, U.S., February 24, 2023. REUTERS/Evelyn Hockstein'}},\n",
       "   {'loc': 'https://www.reuters.com/lifestyle/sports/list-teams-that-won-test-after-follow-on-2023-02-28/',\n",
       "    'lastmod': '2023-02-28T04:04:50.289Z'},\n",
       "   {'loc': 'https://www.reuters.com/world/blinken-hold-talks-with-central-asian-nations-wake-ukraine-anniversary-2023-02-28/',\n",
       "    'lastmod': '2023-02-28T06:51:36.798Z',\n",
       "    'image:image': {'image:loc': 'https://www.reuters.com/resizer/fRQPVQ7c6aHjuc-SmdYzGQ9modo=/cloudfront-us-east-2.images.arcpublishing.com/reuters/YGNP5KFKNFKAFH5T52TJNQMHKM.jpg',\n",
       "     'image:caption': 'Delegations, led by Kazakh President Kassym-Jomart Tokayev and U.S. Secretary of State Antony Blinken, hold talks in Astana, Kazakhstan, February 28, 2023. Olivier Douliery/Pool via REUTERS'}},\n",
       "   {'loc': 'https://www.reuters.com/lifestyle/sports/wimbledon-offers-best-chance-deep-run-grand-slam-murray-2023-02-28/',\n",
       "    'lastmod': '2023-02-28T03:32:05.429Z',\n",
       "    'image:image': {'image:loc': 'https://www.reuters.com/resizer/Mxpe79Tu42rVuVpNyHuTuoSeOcA=/cloudfront-us-east-2.images.arcpublishing.com/reuters/EM53YI4UFBP6FPCP4KG2SK4XNU.jpg',\n",
       "     'image:caption': \"Tennis - Australian Open - Melbourne Park, Melbourne, Australia - January 20, 2023 Britain's Andy Murray reacts during his second round match against Australia's Thanasi Kokkinakis REUTERS/Hannah Mckay\"}},\n",
       "   {'loc': 'https://www.reuters.com/lifestyle/sports/new-zealand-beat-england-by-one-run-second-test-level-series-1-1-2023-02-28/',\n",
       "    'lastmod': '2023-02-28T05:19:55.036Z',\n",
       "    'image:image': {'image:loc': 'https://www.reuters.com/resizer/otM2grxDkTIAA-Uy6weEWT7etkQ=/cloudfront-us-east-2.images.arcpublishing.com/reuters/5FAW4GGXYJL6RFQLAA3EMXT5NM.jpg',\n",
       "     'image:caption': \"Cricket - ICC World Test Championship Final - India v New Zealand - Rose Bowl, Southampton, Britain - June 23, 2021 New Zealand's Neil Wagner Action Images via Reuters/John Sibley\"}},\n",
       "   {'loc': 'https://www.reuters.com/business/finance/australias-regulator-sues-mercer-pension-fund-first-greenwashing-case-2023-02-28/',\n",
       "    'lastmod': '2023-02-28T03:23:11.990Z'},\n",
       "   {'loc': 'https://www.reuters.com/technology/rapidus-picks-northern-japans-chitose-semiconductor-plant-location-2023-02-28/',\n",
       "    'lastmod': '2023-02-28T06:37:46.630Z',\n",
       "    'image:image': {'image:loc': 'https://www.reuters.com/resizer/euHkWKJYja1E7iTj1beX9q3Y5RQ=/cloudfront-us-east-2.images.arcpublishing.com/reuters/3772FTGBHVNKDEK3WPTMF6CIRI.jpg',\n",
       "     'image:caption': 'The logo of Rapidus Corp. is displayed at the company headquarters in Tokyo, Japan February 2, 2023.  REUTERS/Issei Kato'}},\n",
       "   {'loc': 'https://www.reuters.com/lifestyle/sports/spring-training-roundup-emmanuel-rivera-d-backs-walk-off-cubs-2023-02-28/',\n",
       "    'lastmod': '2023-02-28T02:56:17.558Z',\n",
       "    'image:image': {'image:loc': 'https://www.reuters.com/resizer/LdRDnxn7I06I9J3buHlikDIgTJk=/cloudfront-us-east-2.images.arcpublishing.com/reuters/6LXPZ2QGOBJOBN4GBSII6H6GH4.jpg',\n",
       "     'image:caption': 'Feb 27, 2023; Salt River Pima-Maricopa, Arizona, USA;   Arizona Diamondbacks right fielder Dominic Canzone (80) makes a play off a ball hit by Arizona Diamondbacks second baseman Ketel Marte (4) in the fifth inning of a spring training game at Salt River Fields at Talking Stick. Mandatory Credit: Jayne Kamin-Oncea-USA TODAY Sports'}},\n",
       "   {'loc': 'https://www.reuters.com/markets/australia-limit-tax-breaks-multi-million-dollar-retirement-savings-2023-02-28/',\n",
       "    'lastmod': '2023-02-28T02:46:38.412Z',\n",
       "    'image:image': {'image:loc': 'https://www.reuters.com/resizer/AdBKaqluM2GTfcisxfJYOqRVVuI=/cloudfront-us-east-2.images.arcpublishing.com/reuters/EWBP6T5FERM4PIFVMMC465J6RE.jpg',\n",
       "     'image:caption': 'A view of the city skyline of Brisbane, the city expected to be announced as host for the 2032 Olympic Games, in Brisbane, Australia, July 4, 2021.   REUTERS/Jaimi Joy'}},\n",
       "   {'loc': 'https://www.reuters.com/world/us/us-marshals-service-suffers-major-security-breach-nbc-news-2023-02-28/',\n",
       "    'lastmod': '2023-02-28T03:14:37.593Z',\n",
       "    'image:image': {'image:loc': 'https://www.reuters.com/resizer/7aTwIeD6PHvlzjcoXts6fpP5Hi4=/cloudfront-us-east-2.images.arcpublishing.com/reuters/ZEYY7T3MDJM2DAVSKDORGP4ZFQ.jpg',\n",
       "     'image:caption': '3D printed models of people working on computers and padlock are seen in front of a displayed CYBER SECURITY words and binary code in this picture illustration taken, February 1, 2022. REUTERS/Dado Ruvic/Illustration'}},\n",
       "   {'loc': 'https://www.reuters.com/world/india/indian-shares-set-muted-start-us-rate-fears-ahead-domestic-gdp-data-2023-02-28/',\n",
       "    'lastmod': '2023-02-28T05:39:37.404Z',\n",
       "    'image:image': {'image:loc': 'https://www.reuters.com/resizer/bq3alU57K0DoBd4kxpvlXgnFdA4=/cloudfront-us-east-2.images.arcpublishing.com/reuters/YJCTHIAP5FJLTNY7AMAT4YWIX4.jpg',\n",
       "     'image:caption': 'A bird flies past the Bombay Stock Exchange (BSE) building in Mumbai, India, January 31, 2020. REUTERS/Francis Mascarenhas/File Photo'}},\n",
       "   {'loc': 'https://www.reuters.com/markets/global-markets-wrapup-1-2023-02-28/',\n",
       "    'lastmod': '2023-02-28T06:35:48.188Z',\n",
       "    'image:image': {'image:loc': 'https://www.reuters.com/resizer/OJa4mLXO3shQkPtfQehgD0pFHt4=/cloudfront-us-east-2.images.arcpublishing.com/reuters/2264NPC2YRKKVDQI4NXRZLUJPE.jpg',\n",
       "     'image:caption': \"Silhouettes of passerby are seen as they stand in front of an electric monitor displaying Japan's Nikkei share average and world stock indexes outside a brokerage in Tokyo, Japan, October 21, 2022  REUTERS/Issei Kato/File Photo\"}},\n",
       "   {'loc': 'https://www.reuters.com/business/sustainable-business/women-make-up-40-boards-top-uk-companies-first-time-2023-02-28/',\n",
       "    'lastmod': '2023-02-28T02:16:50.503Z',\n",
       "    'image:image': {'image:loc': 'https://www.reuters.com/resizer/y7vXQJWaQnOSoY4RkYof8khxog8=/cloudfront-us-east-2.images.arcpublishing.com/reuters/AERFVQZFCVKNTFUX73UNXFH4NE.jpg',\n",
       "     'image:caption': 'British Secretary of State for Trade and Industry Kemi Badenoch, walks outside Number 10 Downing Street, in London, Britain February 7, 2023. REUTERS/Toby Melville/File Photo'}},\n",
       "   {'loc': 'https://www.reuters.com/markets/asia/vietnams-factory-output-rises-february-exports-up-11-2023-02-28/',\n",
       "    'lastmod': '2023-02-28T03:47:16.816Z',\n",
       "    'image:image': {'image:loc': 'https://www.reuters.com/resizer/h1I3ZzDAFhYnyvB35HHY1-5BfjI=/cloudfront-us-east-2.images.arcpublishing.com/reuters/3GLJ26OXXFIILA66Z5Z7DACBRE.jpg',\n",
       "     'image:caption': 'Shipping containers are seen at a port in Hai Phong city, Vietnam July 12, 2018. REUTERS/Kham/File Photo'}},\n",
       "   {'loc': 'https://www.reuters.com/legal/litigation/ny-lawyer-sued-quiet-quitting-strikes-back-with-race-bias-lawsuit-2023-02-27/',\n",
       "    'lastmod': '2023-02-28T02:09:16.105Z',\n",
       "    'image:image': {'image:loc': 'https://www.reuters.com/resizer/-_hLDMg5GQ-fKOg7S4DyEzNktms=/cloudfront-us-east-2.images.arcpublishing.com/reuters/XKYBJDQ2YFLYZMFZYWBLG3NV5Q.jpg',\n",
       "     'image:caption': 'A woman is seen in silhouette as she walks at Fiumicino Airport, as Italy eases movement between regions, while the country unwinds its rigid lockdown due to the coronavirus disease (COVID-19) outbreak, in Rome, Italy June 3, 2020. REUTERS/Yara Nardi'}},\n",
       "   {'loc': 'https://www.reuters.com/business/energy/oil-steadies-after-fall-fear-rate-hikes-rising-inventories-2023-02-28/',\n",
       "    'lastmod': '2023-02-28T04:45:51.839Z',\n",
       "    'image:image': {'image:loc': 'https://www.reuters.com/resizer/Q6Cs4Hv6DaBWnWS6NBUcDga6xds=/cloudfront-us-east-2.images.arcpublishing.com/reuters/MYDUMURCC5IS7ETURJCXYNEG2A.jpg',\n",
       "     'image:caption': 'A view shows tankers in Nakhodka Bay near the crude oil terminal Kozmino outside the port city of Nakhodka, Russia June 13, 2022. REUTERS/Tatiana Meel'}},\n",
       "   {'loc': 'https://www.reuters.com/business/aerospace-defense/bae-systems-australia-unveils-first-homegrown-military-drone-2023-02-28/',\n",
       "    'lastmod': '2023-02-28T02:46:17.944Z',\n",
       "    'image:image': {'image:loc': 'https://www.reuters.com/resizer/W1kKc75poYB531eV0K65g78uNkA=/cloudfront-us-east-2.images.arcpublishing.com/reuters/ACCL5GPQFRMWXMOI47VUAG4JTU.jpg',\n",
       "     'image:caption': 'People take a look at a model of STRIX drone by BAE Systems Australia, at the Australian International Airshow, in Avalon, Australia February 28, 2023. REUTERS/Jamie Freed'}},\n",
       "   {'loc': 'https://www.reuters.com/world/us/us-awards-nearly-1-billion-airports-infrastructure-grants-2023-02-27/',\n",
       "    'lastmod': '2023-02-28T02:03:02.064Z',\n",
       "    'image:image': {'image:loc': 'https://www.reuters.com/resizer/4eVyx8zfntN-91rIQLObhKk5Azw=/cloudfront-us-east-2.images.arcpublishing.com/reuters/ZJ4OQHCDVFLLVL3R2GD4QVSXKI.jpg',\n",
       "     'image:caption': 'A woman walks on a travelator as travel has cutback amid concerns of the coronavirus disease (COVID-19), at Salt Lake City International Airport in Salt Lake City, Utah, U.S. April 14, 2020. REUTERS/Jim Urquhart'}},\n",
       "   {'loc': 'https://www.reuters.com/world/china/hong-kong-scrap-covid-mask-mandate-march-1-2023-02-28/',\n",
       "    'lastmod': '2023-02-28T03:23:59.879Z',\n",
       "    'image:image': {'image:loc': 'https://www.reuters.com/resizer/S-qRoSmzWEYcZf3fCFfCbuSbusA=/cloudfront-us-east-2.images.arcpublishing.com/reuters/HEVBTCV7AFKTLAZUJBGGK54BA4.jpg',\n",
       "     'image:caption': 'People wearing face masks walk through Wan Chai during the coronavirus disease (COVID-19) pandemic in Hong Kong, China, April 14, 2022. REUTERS/Tyrone Siu'}},\n",
       "   {'loc': 'https://www.reuters.com/markets/currencies/sterling-holds-gains-after-rising-uk-trade-deal-with-eu-2023-02-28/',\n",
       "    'lastmod': '2023-02-28T06:29:18.866Z',\n",
       "    'image:image': {'image:loc': 'https://www.reuters.com/resizer/RrK7yjSZPc5l_H6GYTySW02KFeI=/cloudfront-us-east-2.images.arcpublishing.com/reuters/2QLCF325EJIHTEFYZGAPU3LGJY.jpg',\n",
       "     'image:caption': 'Woman holds U.S. dollar banknotes in this illustration taken May 30, 2022. REUTERS/Dado Ruvic/Illustration/File Photo'}},\n",
       "   {'loc': 'https://www.reuters.com/business/us-crack-down-child-labor-amid-massive-uptick-2023-02-27/',\n",
       "    'lastmod': '2023-02-28T01:31:57.844Z',\n",
       "    'image:image': {'image:loc': 'https://www.reuters.com/resizer/9iry-aJuc6R9GHdkrXKMuoPCKMQ=/cloudfront-us-east-2.images.arcpublishing.com/reuters/BLI4XGAC5BPLDIGXLDWKRCJWSU.jpg',\n",
       "     'image:caption': 'The United States Department of Labor is seen in Washington, D.C., U.S., August 30, 2020. REUTERS/Andrew Kelly'}},\n",
       "   {'loc': 'https://www.reuters.com/lifestyle/orchestra-turns-trash-music-environmental-activism-bolivia-2023-02-28/',\n",
       "    'lastmod': '2023-02-28T01:25:30.098Z',\n",
       "    'image:image': {'image:loc': 'https://www.reuters.com/resizer/50dgfkOERD6c0-Aey5Fw3La2iXc=/cloudfront-us-east-2.images.arcpublishing.com/reuters/ZXURJCZGGVPX5GUIQAOY6XBSHY.jpg',\n",
       "     'image:caption': \"Women waste pickers from the city of La Paz pose near the musicians of the Paraguayan Cateura Recycled Instruments Orchestra, at the Sak'a Churu landfill in Alpacoma, in La Paz, Bolivia February 27, 2023. REUTERS/Claudia Morales\"}},\n",
       "   {'loc': 'https://www.reuters.com/markets/asia/boj-shouldnt-modify-easy-policy-address-costs-incoming-deputy-governor-uchida-2023-02-28/',\n",
       "    'lastmod': '2023-02-28T05:07:27.701Z',\n",
       "    'image:image': {'image:loc': 'https://www.reuters.com/resizer/zdUiC9fNbVXaWtpp-CxeflCJ0YA=/cloudfront-us-east-2.images.arcpublishing.com/reuters/YUNBVI3S6ZL3HIKUNIUOGUSAWE.jpg',\n",
       "     'image:caption': \"The Japanese government's nominee for the Bank of Japan (BOJ) Deputy Governor Shinichi Uchida speaks during a hearing session at the lower house of the parliament in Tokyo, Japan, February 24, 2023.  REUTERS/Issei Kato\"}},\n",
       "   {'loc': 'https://www.reuters.com/breakingviews/warren-buffetts-greatest-hits-lose-their-verve-2023-02-27/',\n",
       "    'lastmod': '2023-02-28T01:20:41.743Z',\n",
       "    'image:image': {'image:loc': 'https://www.reuters.com/resizer/RVxdrLUugOZ9g0DEDZZaTZ6KYS8=/cloudfront-us-east-2.images.arcpublishing.com/reuters/GNLBJR2KCNJUDOYJ6HNU5LXD7A.jpg',\n",
       "     'image:caption': \"Berkshire Hathaway Chairman Warren Buffett walks through the exhibit hall as shareholders gather to hear from the billionaire investor at Berkshire Hathaway Inc's annual shareholder meeting in Omaha, Nebraska, U.S., May 4, 2019. REUTERS/Scott Morgan/File Photo\"}},\n",
       "   {'loc': 'https://www.reuters.com/business/aerospace-defense/lockheed-martin-hopes-deliver-more-f-35s-australia-2023-02-28/',\n",
       "    'lastmod': '2023-02-28T05:11:02.741Z',\n",
       "    'image:image': {'image:loc': 'https://www.reuters.com/resizer/Ku9FWE8T4s1iMiG7syIHy6he0ag=/cloudfront-us-east-2.images.arcpublishing.com/reuters/O73CZ5HW6BPWBB5DU644RQ6EIM.jpg',\n",
       "     'image:caption': 'The logo of Lockheed Martin is seen at Euronaval, the world naval defence exhibition in Le Bourget near Paris, France, October 23, 2018. REUTERS/Benoit Tessier'}},\n",
       "   {'loc': 'https://www.reuters.com/lifestyle/sports/japan-anti-trust-authorities-seek-criminal-charges-against-dentsu-others-over-2023-02-28/',\n",
       "    'lastmod': '2023-02-28T03:45:23.360Z',\n",
       "    'image:image': {'image:loc': 'https://www.reuters.com/resizer/z37LhCQe5IlpgFCDnYxCcatqp9U=/cloudfront-us-east-2.images.arcpublishing.com/reuters/NSFIXAZR5BLMPIIKVTTAYQTCKM.jpg',\n",
       "     'image:caption': 'A woman, wearing a protective mask against COVID-19, walks past a wall bearing logo of Tokyo 2020 Olympic Games in Tokyo, Japan, July 29, 2021.   REUTERS/Kim Kyung-Hoon'}},\n",
       "   {'loc': 'https://www.reuters.com/business/energy/japan-promote-gas-lng-hydrogen-investments-during-g7-presidency-meti-2023-02-28/',\n",
       "    'lastmod': '2023-02-28T01:11:59.362Z',\n",
       "    'image:image': {'image:loc': 'https://www.reuters.com/resizer/oLLK722u-k7rNkmfECprRLWcHNc=/cloudfront-us-east-2.images.arcpublishing.com/reuters/U3TCOHLZBVKH7CBD3THI3KKHYY.jpg',\n",
       "     'image:caption': 'A liquefied natural gas (LNG) tanker is tugged towards a thermal power station in Futtsu, east of Tokyo, Japan November 13, 2017. REUTERS/Issei Kato//File Photo'}},\n",
       "   {'loc': 'https://www.reuters.com/world/india/weak-global-demand-rate-hikes-may-curtail-india-growth-economists-2023-02-28/',\n",
       "    'lastmod': '2023-02-28T01:22:47.779Z',\n",
       "    'image:image': {'image:loc': 'https://www.reuters.com/resizer/afwmkMhskfHTYCYef7nhhVMDTaI=/cloudfront-us-east-2.images.arcpublishing.com/reuters/P3QMDN7YNFMHLPDA4MZW3VM6CM.jpg',\n",
       "     'image:caption': 'Labourers work at the construction site of a commercial building in New Delhi, India, December 13, 2022. REUTERS/Anushree Fadnavis'}},\n",
       "   {'loc': 'https://www.reuters.com/technology/elon-musk-recruits-team-develop-openai-rival-information-2023-02-28/',\n",
       "    'lastmod': '2023-02-28T01:41:22.618Z',\n",
       "    'image:image': {'image:loc': 'https://www.reuters.com/resizer/I4HvZm9f_dRl7gUuQ2S5scOBJ_8=/cloudfront-us-east-2.images.arcpublishing.com/reuters/DYHAI4MBSFLHVCZ27CLLBRCKVQ.jpg',\n",
       "     'image:caption': 'Tesla CEO Elon Musk arrives on the red carpet for the automobile awards \"Das Goldene Lenkrad\" (The golden steering wheel) given by a German newspaper in Berlin, Germany, November 12, 2019. REUTERS/Hannibal Hanschke/File Photo'}},\n",
       "   {'loc': 'https://www.reuters.com/world/new-zealand-businesses-less-pessimistic-february-anz-survey-2023-02-28/',\n",
       "    'lastmod': '2023-02-28T00:47:09.154Z'},\n",
       "   {'loc': 'https://www.reuters.com/markets/australias-current-account-surplus-widens-sharply-q4-2023-02-28/',\n",
       "    'lastmod': '2023-02-28T00:45:13.076Z'},\n",
       "   {'loc': 'https://www.reuters.com/world/us/house-committee-probe-epa-response-ohio-derailment-2023-02-28/',\n",
       "    'lastmod': '2023-02-28T00:41:52.293Z',\n",
       "    'image:image': {'image:loc': 'https://www.reuters.com/resizer/luFhjogHqIHiRd2c0hCbL0qIE24=/cloudfront-us-east-2.images.arcpublishing.com/reuters/WQ4LMYZ2IZOITJC72I35DEOH3I.jpg',\n",
       "     'image:caption': 'A general view as members of the U.S. Environmental Protection Agency (EPA) (not pictured) inspect the site of a train derailment of hazardous material in East Palestine, Ohio, U.S., February 16, 2023. REUTERS/Alan Freed'}},\n",
       "   {'loc': 'https://www.reuters.com/business/retail-consumer/australia-retail-sales-rebound-by-19-january-2023-02-28/',\n",
       "    'lastmod': '2023-02-28T01:28:26.099Z',\n",
       "    'image:image': {'image:loc': 'https://www.reuters.com/resizer/Hmol14STn_oDZxX0cJQND9FsZpI=/cloudfront-us-east-2.images.arcpublishing.com/reuters/VTUKXV2SGFOTBFWZB2E3PAPMBU.jpg',\n",
       "     'image:caption': 'FILE PHOTO - A shopper holds items and looks at others on sale at a clothing retail store in central Sydney, Australia, March 19, 2017. REUTERS/Steven Saphore/File Photo'}},\n",
       "   {'loc': 'https://www.reuters.com/business/aerospace-defense/boeing-says-great-news-if-mq-28-drone-can-partner-with-f-35-2023-02-28/',\n",
       "    'lastmod': '2023-02-28T04:09:35.642Z',\n",
       "    'image:image': {'image:loc': 'https://www.reuters.com/resizer/SnSR_8RTasEyrjF2TwmuCNy8nzY=/cloudfront-us-east-2.images.arcpublishing.com/reuters/5UWRBSCDRVIQHD6YSLPNCI3E7U.jpg',\n",
       "     'image:caption': 'A Boeing MQ-28 Ghost Bat fighter-like drone is kept on display at the Australian International Airshow, in Avalon, Australia February 28, 2023. REUTERS/Jamie Freed'}},\n",
       "   {'loc': 'https://www.reuters.com/technology/aclu-urges-us-lawmakers-not-ban-tiktok-2023-02-28/',\n",
       "    'lastmod': '2023-02-28T02:11:47.858Z',\n",
       "    'image:image': {'image:loc': 'https://www.reuters.com/resizer/BdbV_EcGROtWu7X4JftSavCq_8o=/cloudfront-us-east-2.images.arcpublishing.com/reuters/QTG5P3HXRZOWVO6LPYLY2JXKD4.jpg',\n",
       "     'image:caption': \"The TikTok logo is pictured outside the company's U.S. head office in Culver City, California, U.S.,  September 15, 2020.   REUTERS/Mike Blake/File Photo\"}},\n",
       "   {'loc': 'https://www.reuters.com/world/us/us-commerce-ask-companies-seeking-chips-funding-provide-childcare-employees-2023-02-28/',\n",
       "    'lastmod': '2023-02-28T03:52:39.781Z',\n",
       "    'image:image': {'image:loc': 'https://www.reuters.com/resizer/-1spoXcvU13-fQ1CxQwN3D7m9v4=/cloudfront-us-east-2.images.arcpublishing.com/reuters/DVZTRJ3DYJPCTEX6EFT3WHKYMM.jpg',\n",
       "     'image:caption': 'The Department of Commerce building is seen before an expected report of new home sales numbers in Washington, U.S., January 26, 2022.      REUTERS/Joshua Roberts'}},\n",
       "   {'loc': 'https://www.reuters.com/lifestyle/sports/cactus-league-roundup-emmanuel-rivera-d-backs-walk-off-cubs-2023-02-28/',\n",
       "    'lastmod': '2023-02-28T00:31:37.450Z',\n",
       "    'image:image': {'image:loc': 'https://www.reuters.com/resizer/s0Izqbu4UV_fb8rsi8jscjTwNLM=/cloudfront-us-east-2.images.arcpublishing.com/reuters/PTZ4BTVXHRO6PKZ6ZNLWKWGQ2U.jpg',\n",
       "     'image:caption': 'Feb 27, 2023; Mesa, Arizona, USA;  Cleveland Guardians center fielder Roman Quinn (4) celebrates after hitting a two-run home run in the second inning against the Chicago Cubs during a spring training game at Sloan Park. Mandatory Credit: Matt Kartozian-USA TODAY Sports'}},\n",
       "   {'loc': 'https://www.reuters.com/markets/deals/canadas-baytex-energy-nears-25-bln-deal-us-peer-ranger-oil-sources-2023-02-28/',\n",
       "    'lastmod': '2023-02-28T00:26:53.173Z'},\n",
       "   {'loc': 'https://www.reuters.com/markets/global-markets-view-asia-graphic-pix-2023-02-27/',\n",
       "    'lastmod': '2023-02-28T00:21:12.653Z',\n",
       "    'image:image': {'image:loc': 'https://www.reuters.com/resizer/tYm_EdKlZS8EmjXbwnoJNN5M8dg=/cloudfront-us-east-2.images.arcpublishing.com/reuters/OO5LT6YCHRKQHKS5JJIBQQV3FU.jpg',\n",
       "     'image:caption': 'A man on a bicycle stands in front of an electronic board showing Shanghai stock index, Nikkei share price index and  Dow Jones Industrial Average outside a brokerage in Tokyo, Japan September 22, 2022. REUTERS/Kim Kyung-Hoon'}},\n",
       "   {'loc': 'https://www.reuters.com/markets/asia/japans-factory-output-suffer-biggest-fall-8-months-2023-02-28/',\n",
       "    'lastmod': '2023-02-28T02:15:43.273Z',\n",
       "    'image:image': {'image:loc': 'https://www.reuters.com/resizer/NT4istljvyK9i_UCOA9LJvlJIz0=/cloudfront-us-east-2.images.arcpublishing.com/reuters/HYIY6HRDWRO4BBK6XZU6VGLF2Y.jpg',\n",
       "     'image:caption': 'A worker checks machinery at a factory in Higashiosaka, Japan June 23, 2022.  REUTERS/Sakura Murakami'}},\n",
       "   {'loc': 'https://www.reuters.com/lifestyle/sports/england-90-runs-victory-after-roots-steadying-half-century-2023-02-28/',\n",
       "    'lastmod': '2023-02-28T00:17:48.627Z',\n",
       "    'image:image': {'image:loc': 'https://www.reuters.com/resizer/k61VGYL77NPc6XXSwjOR4WEG3K4=/cloudfront-us-east-2.images.arcpublishing.com/reuters/PQGLUQQ6TBNSPPPYPBBIJTFQXY.jpg',\n",
       "     'image:caption': \"Cricket - Third Test - England v South Africa - The Oval, London, Britain - September 11, 2022 England's Joe Root Action Images via Reuters/Andrew Boyers\"}},\n",
       "   {'loc': 'https://www.reuters.com/business/healthcare-pharmaceuticals/eisai-biogen-say-alzheimers-drug-lecanemab-getting-priority-review-china-2023-02-28/',\n",
       "    'lastmod': '2023-02-28T00:17:03.831Z',\n",
       "    'image:image': {'image:loc': 'https://www.reuters.com/resizer/ssgib9MMRguFTlTYNGnOUsZQyvY=/cloudfront-us-east-2.images.arcpublishing.com/reuters/YE3A3VZH7NJOJNACU5TR4EMS2I.jpg',\n",
       "     'image:caption': 'The logo of Eisai Co Ltd is displayed at the company headquarters in Tokyo, Japan, March 8, 2018. REUTERS/Issei Kato'}},\n",
       "   {'loc': 'https://www.reuters.com/world/uk/uks-hunt-has-extra-30-bln-pounds-play-with-march-budget-ifs-2023-02-28/',\n",
       "    'lastmod': '2023-02-28T00:16:14.819Z',\n",
       "    'image:image': {'image:loc': 'https://www.reuters.com/resizer/3lg_22eYmsQ8FAimsD3O-HUCrnw=/cloudfront-us-east-2.images.arcpublishing.com/reuters/AULJRV26VJLFRLL6PBUBHH76EU.jpg',\n",
       "     'image:caption': 'British Chancellor of the Exchequer Jeremy Hunt talks to a television crew outside the BBC headquarters in London, Britain November 18, 2022. REUTERS/Henry Nicholls'}},\n",
       "   {'loc': 'https://www.reuters.com/business/energy/petroecuador-finish-contingency-work-sote-pipeline-tuesday-2023-02-28/',\n",
       "    'lastmod': '2023-02-28T00:08:12.093Z',\n",
       "    'image:image': {'image:loc': 'https://www.reuters.com/resizer/Oknx2xr63Q8xHi8umZlOIBBhdSs=/cloudfront-us-east-2.images.arcpublishing.com/reuters/B52FQQHNOVL7DBJHGS63Z3IWYY.jpg',\n",
       "     'image:caption': \"A view shows the Ecuador's state-run Esmeraldas refinery complex in Esmeraldas, Ecuador, August 15, 2017, REUTERS/Daniel Tapia/File Photo\"}},\n",
       "   {'loc': 'https://www.reuters.com/business/mental-health-startup-cerebral-lay-off-about-15-workforce-2023-02-28/',\n",
       "    'lastmod': '2023-02-28T00:05:22.704Z'},\n",
       "   {'loc': 'https://www.reuters.com/business/aerospace-defense/lockheeds-himars-plant-gearing-up-meet-demand-after-ukraine-success-2023-02-28/',\n",
       "    'lastmod': '2023-02-28T00:01:39.676Z',\n",
       "    'image:image': {'image:loc': 'https://www.reuters.com/resizer/cABbNCkbZxHkYorkws9Dadd-R5w=/cloudfront-us-east-2.images.arcpublishing.com/reuters/DHZLKNL55JLTHFOQQWNU52UL34.jpg',\n",
       "     'image:caption': 'A HIMARS (High Mobility Artillery Rocket System) missile launcher climbs a 60-degree ramp on a test track at Lockheed Martin Camden Operations in Camden, Arkansas, U.S., February 27, 2023. REUTERS/Kevin Lamarque'}},\n",
       "   {'loc': 'https://www.reuters.com/world/americas/massive-forest-fires-rage-eastern-cuba-2023-02-27/',\n",
       "    'lastmod': '2023-02-27T23:44:19.279Z',\n",
       "    'image:image': {'image:loc': 'https://www.reuters.com/resizer/VMOfCnNKwQG1Ffp2U2V8TOiD3NI=/cloudfront-us-east-2.images.arcpublishing.com/reuters/OPR3X6JRANKO5ETC557KZCZHQE.jpg',\n",
       "     'image:caption': 'Smoke from burning vegetation rises in Pinares de Mayari, Cuba, February 23, 2023. REUTERS/Juan Pablo Carreras'}},\n",
       "   {'loc': 'https://www.reuters.com/business/retail-consumer/australias-harvey-norman-slumps-lower-half-year-profit-2023-02-27/',\n",
       "    'lastmod': '2023-02-28T00:38:19.612Z',\n",
       "    'image:image': {'image:loc': 'https://www.reuters.com/resizer/V7KiDHJMuaPVEGvk0z3DIJ-uCGY=/cloudfront-us-east-2.images.arcpublishing.com/reuters/K7IXI5PT55IWVMTVIJLJRFQAPE.jpg',\n",
       "     'image:caption': 'Shoppers walk the furniture showroom at a Harvey Norman outlet in Sydney, Australia, February 27, 2017.  REUTERS/Jason Reed'}},\n",
       "   {'loc': 'https://www.reuters.com/legal/robinhood-says-sec-issued-subpoena-related-crypto-operations-2023-02-27/',\n",
       "    'lastmod': '2023-02-27T23:46:07.165Z',\n",
       "    'image:image': {'image:loc': 'https://www.reuters.com/resizer/H9gUcSX07Gsqe234tEmSXW7T5kY=/cloudfront-us-east-2.images.arcpublishing.com/reuters/W5SIPG3235MPVK6YVEJ6QE63TE.jpg',\n",
       "     'image:caption': 'A representation of virtual currency Bitcoin is seen in front of a stock graph in this illustration taken January 8, 2021. REUTERS/Dado Ruvic//File Photo'}},\n",
       "   {'loc': 'https://www.reuters.com/world/americas/mexico-receives-us-request-extradite-son-druglord-chapo-guzman-sources-2023-02-27/',\n",
       "    'lastmod': '2023-02-28T00:17:44.764Z',\n",
       "    'image:image': {'image:loc': 'https://www.reuters.com/resizer/QN0m5ns5EzfsnZcTiXCW5yFt5WU=/cloudfront-us-east-2.images.arcpublishing.com/reuters/CNRBNPB2CNOGDD4BTY7D76IZYM.jpg',\n",
       "     'image:caption': 'Members of the National Guard stand outside the Altiplano high security prison where Mexican drug gang leader Ovidio Guzman, the 32-year-old son of jailed kingpin Joaquin \"El Chapo\" Guzman, is imprisoned in Almoloya de Juarez, State of Mexico, Mexico January 7, 2023. REUTERS/Luis Cortes'}},\n",
       "   {'loc': 'https://www.reuters.com/world/europe/russia-will-not-resume-start-nuclear-talks-until-washington-listens-moscow-2023-02-27/',\n",
       "    'lastmod': '2023-02-27T23:28:05.112Z',\n",
       "    'image:image': {'image:loc': 'https://www.reuters.com/resizer/R-FqdgMlybCktOAETC-3CaEE9jo=/cloudfront-us-east-2.images.arcpublishing.com/reuters/WEDNY75PUNI4DE4VYNOKM6OOIA.jpg',\n",
       "     'image:caption': 'Kremlin spokesman Dmitry Peskov attends a news conference of Russian President Vladimir Putin following the Shanghai Cooperation Organization (SCO) summit in Samarkand, Uzbekistan September 16, 2022. Sputnik/Sergey Bobylev/Pool via REUTERS'}},\n",
       "   {'loc': 'https://www.reuters.com/legal/legalindustry/california-panel-wants-state-keep-bar-exam-design-its-own-test-2023-02-27/',\n",
       "    'lastmod': '2023-02-27T23:25:55.449Z',\n",
       "    'image:image': {'image:loc': 'https://www.reuters.com/resizer/N-FvnHS-mX7R0hKI5YIamRgTFuo=/cloudfront-us-east-2.images.arcpublishing.com/reuters/ECOQH2EXEBMFNODZFG3T3KVY6A.jpg',\n",
       "     'image:caption': 'REUTERS/Brian Snyder'}},\n",
       "   {'loc': 'https://www.reuters.com/world/us/yes-joe-biden-plans-run-president-again-wife-jill-says-2023-02-27/',\n",
       "    'lastmod': '2023-02-27T23:25:02.413Z',\n",
       "    'image:image': {'image:loc': 'https://www.reuters.com/resizer/idDLwvKA5pVmEJ6D_8ZT3GqRJ0w=/cloudfront-us-east-2.images.arcpublishing.com/reuters/OT3KYOGEAZO55INXR62FA4XADQ.jpg',\n",
       "     'image:caption': 'Former U.S. Vice President Joe Biden addresses the International Association of Fire Fighters in Washington, U.S., March 12, 2019. REUTERS/Kevin Lamarque'}},\n",
       "   {'loc': 'https://www.reuters.com/world/americas/mexican-restaurant-operator-alsea-sees-profit-dip-due-higher-taxes-2023-02-27/',\n",
       "    'lastmod': '2023-02-28T02:44:35.930Z'}]}}"
      ]
     },
     "execution_count": 14,
     "metadata": {},
     "output_type": "execute_result"
    }
   ],
   "source": [
    "urls"
   ]
  },
  {
   "cell_type": "code",
   "execution_count": 15,
   "id": "f79357a4-71ea-4f23-80ed-e7418d7a3f2b",
   "metadata": {},
   "outputs": [],
   "source": [
    "# 뉴스의 URL값만 갖는 리스트를 생성하고 그 리스트를 news_urls 변수에 할당\n",
    "\n",
    "news_urls = [url['loc'] for url in urls['urlset']['url']]"
   ]
  },
  {
   "cell_type": "code",
   "execution_count": 16,
   "id": "0e5d6a2d-6165-4ee2-adfe-df9316ee095f",
   "metadata": {
    "scrolled": true,
    "tags": []
   },
   "outputs": [
    {
     "data": {
      "text/plain": [
       "['https://www.reuters.com/business/autos-transportation/audi-will-not-cut-ev-prices-follow-teslas-lead-audi-europe-chief-2023-02-28/',\n",
       " 'https://www.reuters.com/markets/europe/abrdn-swings-pretax-loss-markets-turmoil-weighs-2023-02-28/',\n",
       " 'https://www.reuters.com/markets/asia/china-income-spending-per-capita-grow-over-2022-national-bureau-statistics-2023-02-28/',\n",
       " 'https://www.reuters.com/business/finance/spains-santander-raises-three-year-profitability-target-15-17-2023-02-28/',\n",
       " 'https://www.reuters.com/world/europe/russian-offensive-eastern-ukraine-focused-bakhmut-2023-02-28/',\n",
       " 'https://www.reuters.com/lifestyle/sports/wta-roundup-alycia-parks-bounced-austin-opener-2023-02-28/',\n",
       " 'https://www.reuters.com/markets/deals/insurer-axa-sells-off-most-its-shares-monte-dei-paschi-233-eurosshare-2023-02-28/',\n",
       " 'https://www.reuters.com/world/us/florida-gov-desantis-signs-bill-asserting-state-oversight-land-around-walt-2023-02-27/',\n",
       " 'https://www.reuters.com/world/india/india-bans-oil-tankers-bulk-carriers-older-than-25-years-2023-02-28/',\n",
       " 'https://www.reuters.com/business/us-labor-department-probes-hearthside-food-solutions-possible-child-labor-2023-02-27/',\n",
       " 'https://www.reuters.com/business/energy/bp-ends-70-years-publishing-statistical-review-world-energy-2023-02-28/',\n",
       " 'https://www.reuters.com/markets/swiss-watchdog-concludes-greensill-proceedings-against-credit-suisse-2023-02-28/',\n",
       " 'https://www.reuters.com/world/asia-pacific/rust-belt-province-got-old-before-it-got-rich-much-china-will-2023-02-28/',\n",
       " 'https://www.reuters.com/business/saudis-sabic-posts-94-drop-q4-net-profit-lower-average-sales-prices-2023-02-28/',\n",
       " 'https://www.reuters.com/business/retail-consumer/french-retailer-casinos-sales-growth-slows-fourth-quarter-2023-02-28/',\n",
       " 'https://www.reuters.com/business/bayer-sees-lower-2023-operating-profit-cost-inflation-2023-02-28/',\n",
       " 'https://www.reuters.com/business/finance/oaktree-capital-seeks-raise-10-billion-new-fund-ft-2023-02-28/',\n",
       " 'https://www.reuters.com/markets/europe/global-markets-view-europe-2023-02-28/',\n",
       " 'https://www.reuters.com/business/retail-consumer/home-zara-fast-slow-fashion-collide-2023-02-28/',\n",
       " 'https://www.reuters.com/lifestyle/sports/england-captain-stokes-has-no-regrets-over-follow-on-2023-02-28/',\n",
       " 'https://www.reuters.com/markets/asia/indias-adani-plans-repay-up-790-mln-share-backed-loans-by-march-sources-2023-02-28/',\n",
       " 'https://www.reuters.com/lifestyle/sports/smith-says-australia-batsmen-will-ditch-risky-tempo-third-test-2023-02-28/',\n",
       " 'https://www.reuters.com/technology/cryptoverse-bitcoin-moves-towards-satoshis-payment-dream-2023-02-28/',\n",
       " 'https://www.reuters.com/markets/europe/ecb-has-started-win-inflation-fight-lane-says-2023-02-28/',\n",
       " 'https://www.reuters.com/markets/rates-bonds/banks-pile-into-euro-zone-bond-sales-rates-shoot-up-2023-02-28/',\n",
       " 'https://www.reuters.com/business/adecco-sees-signs-hiring-slowdown-start-2023-2023-02-28/',\n",
       " 'https://www.reuters.com/world/us/tennessee-meat-plant-workers-reach-12-mln-settlement-over-2018-raid-2023-02-28/',\n",
       " 'https://www.reuters.com/world/asia-pacific/la-nina-wet-weather-system-near-its-end-australian-weather-bureau-2023-02-28/',\n",
       " 'https://www.reuters.com/lifestyle/sports/nhl-roundup-connor-mcdavids-49th-50th-goals-cant-stop-bruins-2023-02-28/',\n",
       " 'https://www.reuters.com/lifestyle/sports/new-zealand-skipper-southee-hails-test-win-ages-2023-02-28/',\n",
       " 'https://www.reuters.com/world/china/chinas-birth-rate-slumps-political-advisor-urges-egg-freezing-single-women-2023-02-28/',\n",
       " 'https://www.reuters.com/lifestyle/sports/tough-see-alcaraz-playing-acapulco-says-coach-2023-02-28/',\n",
       " 'https://www.reuters.com/world/moscow-accuses-us-preparing-toxic-chemicals-provocation-ukraine-2023-02-28/',\n",
       " 'https://www.reuters.com/business/finance/goldman-sachs-seen-unveiling-medium-term-goals-investor-day-2023-02-28/',\n",
       " 'https://www.reuters.com/breakingviews/chinas-li-auto-drives-fine-profit-line-2023-02-28/',\n",
       " 'https://www.reuters.com/breakingviews/japan-posts-deal-will-test-interest-rate-optimism-2023-02-28/',\n",
       " 'https://www.reuters.com/markets/europe/germany-home-prices-sink-nearly-6-this-year-2023-02-28/',\n",
       " 'https://www.reuters.com/breakingviews/airtel-would-be-complex-saviour-paytm-2023-02-28/',\n",
       " 'https://www.reuters.com/business/autos-transportation/volkswagen-china-chief-visits-xinjiang-plant-sees-no-sign-forced-labour-2023-02-28/',\n",
       " 'https://www.reuters.com/world/europe/ex-kremlins-adviser-soviet-era-dissident-pavlovsky-dies-2023-02-28/',\n",
       " 'https://www.reuters.com/lifestyle/sports/brentfords-frank-says-abuse-directed-managers-is-disgrace-2023-02-28/',\n",
       " 'https://www.reuters.com/lifestyle/sports/nba-roundup-hornets-win-again-lose-lamelo-ball-2023-02-28/',\n",
       " 'https://www.reuters.com/lifestyle/giorgio-armani-offers-soft-fluid-winter-designs-milan-fashion-week-2023-02-26/',\n",
       " 'https://www.reuters.com/business/energy/thailands-indorama-ventures-scouts-acquisitions-europe-africa-ceo-2023-02-28/',\n",
       " 'https://www.reuters.com/lifestyle/sports/list-narrowest-victories-by-runs-tests-2023-02-28/',\n",
       " 'https://www.reuters.com/business/media-telecom/reuters-reporters-online-accounts-faked-approach-china-activists-2023-02-28/',\n",
       " 'https://www.reuters.com/world/us/us-needs-learn-all-black-history-biden-says-some-republicans-push-curbs-2023-02-27/',\n",
       " 'https://www.reuters.com/lifestyle/sports/list-teams-that-won-test-after-follow-on-2023-02-28/',\n",
       " 'https://www.reuters.com/world/blinken-hold-talks-with-central-asian-nations-wake-ukraine-anniversary-2023-02-28/',\n",
       " 'https://www.reuters.com/lifestyle/sports/wimbledon-offers-best-chance-deep-run-grand-slam-murray-2023-02-28/',\n",
       " 'https://www.reuters.com/lifestyle/sports/new-zealand-beat-england-by-one-run-second-test-level-series-1-1-2023-02-28/',\n",
       " 'https://www.reuters.com/business/finance/australias-regulator-sues-mercer-pension-fund-first-greenwashing-case-2023-02-28/',\n",
       " 'https://www.reuters.com/technology/rapidus-picks-northern-japans-chitose-semiconductor-plant-location-2023-02-28/',\n",
       " 'https://www.reuters.com/lifestyle/sports/spring-training-roundup-emmanuel-rivera-d-backs-walk-off-cubs-2023-02-28/',\n",
       " 'https://www.reuters.com/markets/australia-limit-tax-breaks-multi-million-dollar-retirement-savings-2023-02-28/',\n",
       " 'https://www.reuters.com/world/us/us-marshals-service-suffers-major-security-breach-nbc-news-2023-02-28/',\n",
       " 'https://www.reuters.com/world/india/indian-shares-set-muted-start-us-rate-fears-ahead-domestic-gdp-data-2023-02-28/',\n",
       " 'https://www.reuters.com/markets/global-markets-wrapup-1-2023-02-28/',\n",
       " 'https://www.reuters.com/business/sustainable-business/women-make-up-40-boards-top-uk-companies-first-time-2023-02-28/',\n",
       " 'https://www.reuters.com/markets/asia/vietnams-factory-output-rises-february-exports-up-11-2023-02-28/',\n",
       " 'https://www.reuters.com/legal/litigation/ny-lawyer-sued-quiet-quitting-strikes-back-with-race-bias-lawsuit-2023-02-27/',\n",
       " 'https://www.reuters.com/business/energy/oil-steadies-after-fall-fear-rate-hikes-rising-inventories-2023-02-28/',\n",
       " 'https://www.reuters.com/business/aerospace-defense/bae-systems-australia-unveils-first-homegrown-military-drone-2023-02-28/',\n",
       " 'https://www.reuters.com/world/us/us-awards-nearly-1-billion-airports-infrastructure-grants-2023-02-27/',\n",
       " 'https://www.reuters.com/world/china/hong-kong-scrap-covid-mask-mandate-march-1-2023-02-28/',\n",
       " 'https://www.reuters.com/markets/currencies/sterling-holds-gains-after-rising-uk-trade-deal-with-eu-2023-02-28/',\n",
       " 'https://www.reuters.com/business/us-crack-down-child-labor-amid-massive-uptick-2023-02-27/',\n",
       " 'https://www.reuters.com/lifestyle/orchestra-turns-trash-music-environmental-activism-bolivia-2023-02-28/',\n",
       " 'https://www.reuters.com/markets/asia/boj-shouldnt-modify-easy-policy-address-costs-incoming-deputy-governor-uchida-2023-02-28/',\n",
       " 'https://www.reuters.com/breakingviews/warren-buffetts-greatest-hits-lose-their-verve-2023-02-27/',\n",
       " 'https://www.reuters.com/business/aerospace-defense/lockheed-martin-hopes-deliver-more-f-35s-australia-2023-02-28/',\n",
       " 'https://www.reuters.com/lifestyle/sports/japan-anti-trust-authorities-seek-criminal-charges-against-dentsu-others-over-2023-02-28/',\n",
       " 'https://www.reuters.com/business/energy/japan-promote-gas-lng-hydrogen-investments-during-g7-presidency-meti-2023-02-28/',\n",
       " 'https://www.reuters.com/world/india/weak-global-demand-rate-hikes-may-curtail-india-growth-economists-2023-02-28/',\n",
       " 'https://www.reuters.com/technology/elon-musk-recruits-team-develop-openai-rival-information-2023-02-28/',\n",
       " 'https://www.reuters.com/world/new-zealand-businesses-less-pessimistic-february-anz-survey-2023-02-28/',\n",
       " 'https://www.reuters.com/markets/australias-current-account-surplus-widens-sharply-q4-2023-02-28/',\n",
       " 'https://www.reuters.com/world/us/house-committee-probe-epa-response-ohio-derailment-2023-02-28/',\n",
       " 'https://www.reuters.com/business/retail-consumer/australia-retail-sales-rebound-by-19-january-2023-02-28/',\n",
       " 'https://www.reuters.com/business/aerospace-defense/boeing-says-great-news-if-mq-28-drone-can-partner-with-f-35-2023-02-28/',\n",
       " 'https://www.reuters.com/technology/aclu-urges-us-lawmakers-not-ban-tiktok-2023-02-28/',\n",
       " 'https://www.reuters.com/world/us/us-commerce-ask-companies-seeking-chips-funding-provide-childcare-employees-2023-02-28/',\n",
       " 'https://www.reuters.com/lifestyle/sports/cactus-league-roundup-emmanuel-rivera-d-backs-walk-off-cubs-2023-02-28/',\n",
       " 'https://www.reuters.com/markets/deals/canadas-baytex-energy-nears-25-bln-deal-us-peer-ranger-oil-sources-2023-02-28/',\n",
       " 'https://www.reuters.com/markets/global-markets-view-asia-graphic-pix-2023-02-27/',\n",
       " 'https://www.reuters.com/markets/asia/japans-factory-output-suffer-biggest-fall-8-months-2023-02-28/',\n",
       " 'https://www.reuters.com/lifestyle/sports/england-90-runs-victory-after-roots-steadying-half-century-2023-02-28/',\n",
       " 'https://www.reuters.com/business/healthcare-pharmaceuticals/eisai-biogen-say-alzheimers-drug-lecanemab-getting-priority-review-china-2023-02-28/',\n",
       " 'https://www.reuters.com/world/uk/uks-hunt-has-extra-30-bln-pounds-play-with-march-budget-ifs-2023-02-28/',\n",
       " 'https://www.reuters.com/business/energy/petroecuador-finish-contingency-work-sote-pipeline-tuesday-2023-02-28/',\n",
       " 'https://www.reuters.com/business/mental-health-startup-cerebral-lay-off-about-15-workforce-2023-02-28/',\n",
       " 'https://www.reuters.com/business/aerospace-defense/lockheeds-himars-plant-gearing-up-meet-demand-after-ukraine-success-2023-02-28/',\n",
       " 'https://www.reuters.com/world/americas/massive-forest-fires-rage-eastern-cuba-2023-02-27/',\n",
       " 'https://www.reuters.com/business/retail-consumer/australias-harvey-norman-slumps-lower-half-year-profit-2023-02-27/',\n",
       " 'https://www.reuters.com/legal/robinhood-says-sec-issued-subpoena-related-crypto-operations-2023-02-27/',\n",
       " 'https://www.reuters.com/world/americas/mexico-receives-us-request-extradite-son-druglord-chapo-guzman-sources-2023-02-27/',\n",
       " 'https://www.reuters.com/world/europe/russia-will-not-resume-start-nuclear-talks-until-washington-listens-moscow-2023-02-27/',\n",
       " 'https://www.reuters.com/legal/legalindustry/california-panel-wants-state-keep-bar-exam-design-its-own-test-2023-02-27/',\n",
       " 'https://www.reuters.com/world/us/yes-joe-biden-plans-run-president-again-wife-jill-says-2023-02-27/',\n",
       " 'https://www.reuters.com/world/americas/mexican-restaurant-operator-alsea-sees-profit-dip-due-higher-taxes-2023-02-27/']"
      ]
     },
     "metadata": {},
     "output_type": "display_data"
    }
   ],
   "source": [
    "display(news_urls)"
   ]
  },
  {
   "cell_type": "code",
   "execution_count": 22,
   "id": "891798c5-5321-4aac-bbcb-0ab8e972cf4b",
   "metadata": {},
   "outputs": [
    {
     "name": "stdout",
     "output_type": "stream",
     "text": [
      "Wall time: 1.61 s\n"
     ]
    }
   ],
   "source": [
    "%%time\n",
    "# session 추상화\n",
    "session = requests.Session()\n",
    "# 앞의 5개 링크만 불러온다.\n",
    "for url in news_urls[:5]:\n",
    "    file = url.split(\"/\")[-2] + \".html\"\n",
    "    response = session.get(url)\n",
    "    if response.ok:\n",
    "        with open(\"datas/\"+file, \"w+b\") as f:\n",
    "            f.write(response.text.encode(\"utf-8\"))\n",
    "    else:\n",
    "        print(f\"error with URL : {url}\")"
   ]
  },
  {
   "cell_type": "code",
   "execution_count": 24,
   "id": "8c21e06e-c8e0-4c66-8015-f0473524058d",
   "metadata": {},
   "outputs": [],
   "source": [
    "# filename.txt 파일을 쓰기 모드(w)로 열기\n",
    "# open() 함수는 파일 객체 반환\n",
    "file = open('filename.txt', 'w')\n",
    "\n",
    "# 파일 객체의 write() 메서드를 통해 문자열을 파일에 작성 가능\n",
    "file.write(\"파일에 작성할 문자열\")\n",
    "\n",
    "# 파일에 대한 처리가 끝났다면 반드시 파일 객체를 닫아줘야 한다.\n",
    "file.close()"
   ]
  },
  {
   "cell_type": "code",
   "execution_count": 28,
   "id": "32ce59c0-3312-43b1-9270-bd429bd94815",
   "metadata": {},
   "outputs": [],
   "source": [
    "# close에 대한 처리 없이 간편히 쓰려면 with 활용\n",
    "# 아래 코드는 이전에 작성했던 것과 동일한 동작 수행\n",
    "\n",
    "with open('filename.txt', 'w') as file:\n",
    "    file.write(\"파일에 작성할 문자열\")"
   ]
  },
  {
   "cell_type": "code",
   "execution_count": 29,
   "id": "75374c14-dcca-4401-acf0-cfa8ccd45c4e",
   "metadata": {},
   "outputs": [
    {
     "name": "stdout",
     "output_type": "stream",
     "text": [
      "파일에 작성할 문자열\n"
     ]
    }
   ],
   "source": [
    "# 파일 읽기\n",
    "\n",
    "with open('filename.txt', 'r') as file:\n",
    "    print(file.read())"
   ]
  },
  {
   "cell_type": "code",
   "execution_count": 30,
   "id": "7017856e-09c2-4d20-8e8f-2e04a4b7000d",
   "metadata": {},
   "outputs": [
    {
     "data": {
      "text/plain": [
       "['./datas/abrdn-swings-pretax-loss-markets-turmoil-weighs-2023-02-28.html',\n",
       " './datas/audi-will-not-cut-ev-prices-follow-teslas-lead-audi-europe-chief-2023-02-28.html',\n",
       " './datas/china-income-spending-per-capita-grow-over-2022-national-bureau-statistics-2023-02-28.html',\n",
       " './datas/russian-offensive-eastern-ukraine-focused-bakhmut-2023-02-28.html',\n",
       " './datas/spains-santander-raises-three-year-profitability-target-15-17-2023-02-28.html']"
      ]
     },
     "execution_count": 30,
     "metadata": {},
     "output_type": "execute_result"
    }
   ],
   "source": [
    "# 파일 이름 가져오기\n",
    "\n",
    "import os\n",
    "path = \"./datas/\"\n",
    "files = [path + file for file in os.listdir(path)]\n",
    "files"
   ]
  },
  {
   "cell_type": "code",
   "execution_count": 31,
   "id": "8991ce38-5840-4d37-9af7-49778dde8cdd",
   "metadata": {},
   "outputs": [],
   "source": [
    "# HTML 파서를 사용한 데이터 추출\n",
    "# 앞서 불러온 html 목록에서 3번째를 불러오기\n",
    "\n",
    "with open(files[2], \"r\", encoding=\"utf8\") as f:\n",
    "    html = f.read()"
   ]
  },
  {
   "cell_type": "code",
   "execution_count": 34,
   "id": "e41d2288-90bd-4ec0-a850-7e5d79aaef32",
   "metadata": {},
   "outputs": [
    {
     "name": "stdout",
     "output_type": "stream",
     "text": [
      "China urban employment, per capita spending logged rare declines in 2022\n"
     ]
    }
   ],
   "source": [
    "# BeautifulSoup\n",
    "# HTML 파싱을 하는데 도움을 주는 모듈\n",
    "# 파서의 종류: “html.parser”, “lxml”, “lxml-xml”, “xml”, “html5lib”\n",
    "\n",
    "from bs4 import BeautifulSoup as bs\n",
    "soup = bs(html, 'html.parser')\n",
    "title = soup.select_one(\"#main-content > article > div.article__main__33WV2 > div.article__content__6hMn9 > header > div > div > h1\")\n",
    "print(title.text)"
   ]
  },
  {
   "cell_type": "code",
   "execution_count": 36,
   "id": "70cb4bdb-9317-471d-937b-bfd89b4da47a",
   "metadata": {},
   "outputs": [
    {
     "data": {
      "text/plain": [
       "<h1 class=\"text__text__1FZLe text__dark-grey__3Ml43 text__medium__1kbOh text__heading_3__1kDhc heading__base__2T28j heading__heading_3__3aL54 article-header__title__3Y2hh\" data-testid=\"Heading\">China urban employment, per capita spending logged rare declines in 2022</h1>"
      ]
     },
     "execution_count": 36,
     "metadata": {},
     "output_type": "execute_result"
    }
   ],
   "source": [
    "# <h1> 태그에 해당하는 객체 가져오기\n",
    "\n",
    "soup.h1"
   ]
  },
  {
   "cell_type": "code",
   "execution_count": 37,
   "id": "23d77214-d00c-4176-8031-0042cf4dee07",
   "metadata": {},
   "outputs": [
    {
     "data": {
      "text/plain": [
       "'China urban employment, per capita spending logged rare declines in 2022'"
      ]
     },
     "execution_count": 37,
     "metadata": {},
     "output_type": "execute_result"
    }
   ],
   "source": [
    "# <h1> 태그 사이에 있는 텍스트 값 가져오기\n",
    "\n",
    "soup.h1.text"
   ]
  },
  {
   "cell_type": "code",
   "execution_count": 43,
   "id": "689104d4-2533-48bd-a5d0-e150e41efaf5",
   "metadata": {},
   "outputs": [
    {
     "data": {
      "text/plain": [
       "\"BEIJING, Feb 28 (Reuters) - China's urban employment fell for the first time in six decades last year and per capita spending also marked a rare decline, as harsh COVID-19 curbs ravaged the world's second-biggest economy.\""
      ]
     },
     "execution_count": 43,
     "metadata": {},
     "output_type": "execute_result"
    }
   ],
   "source": [
    "soup.select_one(\"div.article-body__content__17Yit.paywall-article > p\").text"
   ]
  },
  {
   "cell_type": "code",
   "execution_count": 44,
   "id": "ef86228a-4c29-435f-b363-e2401cd9dec4",
   "metadata": {
    "scrolled": true,
    "tags": []
   },
   "outputs": [
    {
     "data": {
      "text/plain": [
       "[<p class=\"text__text__1FZLe text__dark-grey__3Ml43 text__regular__2N1Xr text__large__nEccO body__full_width__ekUdw body__large_body__FV5_X article-body__element__2p5pI\" data-testid=\"paragraph-0\" style=\"font-size:20px\">BEIJING, Feb 28 (Reuters) - China's urban employment fell for the first time in six decades last year and per capita spending also marked a rare decline, as harsh COVID-19 curbs ravaged the world's second-biggest economy.</p>,\n",
       " <p class=\"text__text__1FZLe text__dark-grey__3Ml43 text__regular__2N1Xr text__large__nEccO body__full_width__ekUdw body__large_body__FV5_X article-body__element__2p5pI\" data-testid=\"paragraph-1\" style=\"font-size:20px\">The new data from the National Bureau of Statistics also showed the smallest income growth in more than three decades.</p>,\n",
       " <p class=\"text__text__1FZLe text__dark-grey__3Ml43 text__regular__2N1Xr text__large__nEccO body__full_width__ekUdw body__large_body__FV5_X article-body__element__2p5pI\" data-testid=\"paragraph-2\" style=\"font-size:20px\">The number of China's urban jobs dropped by 8.4 million to 459.31 million, the first drop since 1962.</p>,\n",
       " <p class=\"text__text__1FZLe text__dark-grey__3Ml43 text__regular__2N1Xr text__large__nEccO body__full_width__ekUdw body__large_body__FV5_X article-body__element__2p5pI\" data-testid=\"paragraph-3\" style=\"font-size:20px\">\"The decline of the urban labour force reflects the severe economic challenge China faced last year,\" Zhiwei Zhang, president at Pinpoint Asset Management, wrote in a note to clients.</p>,\n",
       " <p class=\"text__text__1FZLe text__dark-grey__3Ml43 text__regular__2N1Xr text__large__nEccO body__full_width__ekUdw body__large_body__FV5_X article-body__element__2p5pI\" data-testid=\"paragraph-4\" style=\"font-size:20px\">He cited the shrinking size of China's labour force, job losses due to the pandemic and the deceleration of rural workers migrating to the cities as the main reasons for the decline.</p>,\n",
       " <p class=\"text__text__1FZLe text__dark-grey__3Ml43 text__regular__2N1Xr text__large__nEccO body__full_width__ekUdw body__large_body__FV5_X article-body__element__2p5pI\" data-testid=\"paragraph-5\" style=\"font-size:20px\">Zhang added, however, that he expects this to be a temporary drop now that China has abandoned draconian zero-COVID policies aimed at stamping out every outbreak.</p>,\n",
       " <p class=\"text__text__1FZLe text__dark-grey__3Ml43 text__medium__1kbOh text__body__yKS5U body__base__22dCE body__body_alt__2kEQu tablet-down-latest-updates__show-more__20y2n\" data-testid=\"Body\">View 2 more stories<!-- --> <svg aria-hidden=\"true\" class=\"tablet-down-latest-updates__arrow-down__3J5Sc\" viewbox=\"0 0 11 7\" xmlns=\"http://www.w3.org/2000/svg\"><path d=\"M10.413.587a.71.71 0 0 0-1.027 0L5.5 4.474 1.613.587a.71.71 0 0 0-1.027 0 .709.709 0 0 0 0 1.027l4.4 4.4c.147.147.367.22.513.22a.79.79 0 0 0 .513-.22l4.4-4.4a.71.71 0 0 0 0-1.027h.001Z\"></path></svg></p>,\n",
       " <p class=\"text__text__1FZLe text__dark-grey__3Ml43 text__regular__2N1Xr text__large__nEccO body__full_width__ekUdw body__large_body__FV5_X article-body__element__2p5pI\" data-testid=\"paragraph-6\" style=\"font-size:20px\">China had economic growth of <a class=\"text__text__1FZLe text__dark-grey__3Ml43 text__medium__1kbOh text__large__nEccO link__underline_default__2prE_\" data-testid=\"Link\" href=\"/world/china/chinas-economy-slows-sharply-q4-2022-growth-one-worst-record-2023-01-17/\">just 3% in 2022</a>- one of the weakest levels in nearly half a century.</p>,\n",
       " <p class=\"text__text__1FZLe text__dark-grey__3Ml43 text__regular__2N1Xr text__large__nEccO body__full_width__ekUdw body__large_body__FV5_X article-body__element__2p5pI\" data-testid=\"paragraph-7\" style=\"font-size:20px\">Per capita spending fell 0.2% in real terms, the statistics bureau data showed. That followed a jump of 12.6% in 2021 and marking only the third such decline since records for that data point began in 1980. Retail sales also fell 0.2%, the second worst performance since 1968.</p>,\n",
       " <p class=\"text__text__1FZLe text__dark-grey__3Ml43 text__regular__2N1Xr text__large__nEccO body__full_width__ekUdw body__large_body__FV5_X article-body__element__2p5pI\" data-testid=\"paragraph-8\" style=\"font-size:20px\">Xu Tianchen, an economist at the Economist Intelligence Unit, said a steep drop in income growth for China's lowest income earners was a key factor behind the weak spending data.</p>,\n",
       " <p class=\"text__text__1FZLe text__dark-grey__3Ml43 text__regular__2N1Xr text__large__nEccO body__full_width__ekUdw body__large_body__FV5_X article-body__element__2p5pI\" data-testid=\"paragraph-9\" style=\"font-size:20px\">\"Before the pandemic, the lowest income group was one of the fastest growing, but now, quite remarkably, it has become the slowest income group, dropping from 10.1% (income growth) to 5.2%.\"</p>,\n",
       " <p class=\"text__text__1FZLe text__dark-grey__3Ml43 text__regular__2N1Xr text__large__nEccO body__full_width__ekUdw body__large_body__FV5_X article-body__element__2p5pI\" data-testid=\"paragraph-10\" style=\"font-size:20px\">Income per capita in China grew by just 2.9% in real terms, the second smallest rise since 1989.</p>,\n",
       " <p class=\"text__text__1FZLe text__dark-grey__3Ml43 text__regular__2N1Xr text__large__nEccO body__full_width__ekUdw body__large_body__FV5_X article-body__element__2p5pI\" data-testid=\"paragraph-11\" style=\"font-size:20px\">Unadjusted, income per capita grew to 36,883 yuan ($5,310) last year, while spending per capita increased to 24,538 yuan.</p>,\n",
       " <p class=\"text__text__1FZLe text__dark-grey__3Ml43 text__regular__2N1Xr text__large__nEccO body__full_width__ekUdw body__large_body__FV5_X article-body__element__2p5pI\" data-testid=\"paragraph-12\" style=\"font-size:20px\">Rural areas performed better than urbanised zones, with the incomes of rural households growing 4.2% in real terms, compared with 1.9% growth for urban residents.</p>,\n",
       " <p class=\"text__text__1FZLe text__dark-grey__3Ml43 text__regular__2N1Xr text__large__nEccO body__base__22dCE body__large_body__FV5_X article-body__element__2p5pI\" data-testid=\"Body\">Our Standards: <a class=\"text__text__1FZLe text__dark-grey__3Ml43 text__medium__1kbOh text__large__nEccO link__underline_default__2prE_\" data-testid=\"Link\" href=\"https://www.thomsonreuters.com/en/about-us/trust-principles.html\" target=\"_blank\">The Thomson Reuters Trust Principles.</a></p>,\n",
       " <p class=\"text__text__1FZLe text__dark-grey__3Ml43 text__regular__2N1Xr text__large_story_card_hero__3EUNk body__base__22dCE large_body_story_card_hero media-story-card__description__2icjO\" data-testid=\"Body\">Swedish payments firm Klarna Bank AB reported on Tuesday a fourth-quarter operating loss that was smaller than a year earlier and said it was on a solid path towards profitability.</p>,\n",
       " <p class=\"text__text__1FZLe text__dark-grey__3Ml43 text__regular__2N1Xr text__extra_small__1Mw6v body__base__22dCE body__extra_small_body__3QTYe\" data-testid=\"Body\">Reuters, the news and media division of Thomson Reuters, is the world’s largest multimedia news provider, reaching billions of people worldwide every day. Reuters provides business, financial, national and international news to professionals via desktop terminals, the world's media organizations, industry events and directly to consumers.</p>,\n",
       " <p class=\"text__text__1FZLe text__dark-grey__3Ml43 text__regular__2N1Xr text__extra_small__1Mw6v body__base__22dCE body__extra_small_body__3QTYe\" data-testid=\"Body\">Build the strongest argument relying on authoritative content, attorney-editor expertise, and industry defining technology.</p>,\n",
       " <p class=\"text__text__1FZLe text__dark-grey__3Ml43 text__regular__2N1Xr text__extra_small__1Mw6v body__base__22dCE body__extra_small_body__3QTYe\" data-testid=\"Body\">The most comprehensive solution to manage all your complex and ever-expanding tax and compliance needs.</p>,\n",
       " <p class=\"text__text__1FZLe text__dark-grey__3Ml43 text__regular__2N1Xr text__extra_small__1Mw6v body__base__22dCE body__extra_small_body__3QTYe\" data-testid=\"Body\">The industry leader for online information for tax, accounting and finance professionals.</p>,\n",
       " <p class=\"text__text__1FZLe text__dark-grey__3Ml43 text__regular__2N1Xr text__extra_small__1Mw6v body__base__22dCE body__extra_small_body__3QTYe\" data-testid=\"Body\"> Access unmatched financial data, news and content in a highly-customised workflow experience on desktop, web and mobile.</p>,\n",
       " <p class=\"text__text__1FZLe text__dark-grey__3Ml43 text__regular__2N1Xr text__extra_small__1Mw6v body__base__22dCE body__extra_small_body__3QTYe\" data-testid=\"Body\"> Browse an unrivalled portfolio of real-time and historical market data and insights from worldwide sources and experts.</p>,\n",
       " <p class=\"text__text__1FZLe text__dark-grey__3Ml43 text__regular__2N1Xr text__extra_small__1Mw6v body__base__22dCE body__extra_small_body__3QTYe\" data-testid=\"Body\">Screen for heightened risk individual and entities globally to help uncover hidden risks in business relationships and human networks.</p>,\n",
       " <p class=\"text__text__1FZLe text__dark-grey__3Ml43 text__regular__2N1Xr text__extra_small__1Mw6v body__base__22dCE body__extra_small_body__3QTYe site-footer__disclaimer__2swdF\" data-testid=\"Body\">All quotes delayed a minimum of 15 minutes. <a class=\"text__text__1FZLe text__inherit-color__3208F text__inherit-font__1Y8w3 text__inherit-size__1DZJi link__underline_on_hover__2zGL4\" data-testid=\"Link\" href=\"https://www.reuters.com/info-pages/disclaimer/\">See here for a complete list of exchanges and delays</a>.</p>,\n",
       " <p class=\"text__text__1FZLe text__dark-grey__3Ml43 text__regular__2N1Xr text__extra_small__1Mw6v body__base__22dCE body__extra_small_body__3QTYe site-footer__copyright__2L5Az\" data-testid=\"Body\">© 2023 Reuters. <a class=\"text__text__1FZLe text__inherit-color__3208F text__inherit-font__1Y8w3 text__inherit-size__1DZJi link__underline_on_hover__2zGL4\" data-testid=\"Link\" href=\"https://www.thomsonreuters.com/en/policies/copyright.html\">All rights reserved</a></p>]"
      ]
     },
     "execution_count": 44,
     "metadata": {},
     "output_type": "execute_result"
    }
   ],
   "source": [
    "soup.select(\"p\")"
   ]
  },
  {
   "cell_type": "code",
   "execution_count": 45,
   "id": "8ad2fe01-c888-40df-adb3-733753cc60b5",
   "metadata": {},
   "outputs": [
    {
     "data": {
      "text/plain": [
       "'https://www.reuters.com/markets/asia/china-income-spending-per-capita-grow-over-2022-national-bureau-statistics-2023-02-28/'"
      ]
     },
     "execution_count": 45,
     "metadata": {},
     "output_type": "execute_result"
    }
   ],
   "source": [
    "# 표준(Standard) URL(=canonical URL)\n",
    "\n",
    "soup.find(\"link\", {\"rel\": \"canonical\"})[\"href\"]"
   ]
  }
 ],
 "metadata": {
  "kernelspec": {
   "display_name": "Python 3 (ipykernel)",
   "language": "python",
   "name": "python3"
  },
  "language_info": {
   "codemirror_mode": {
    "name": "ipython",
    "version": 3
   },
   "file_extension": ".py",
   "mimetype": "text/x-python",
   "name": "python",
   "nbconvert_exporter": "python",
   "pygments_lexer": "ipython3",
   "version": "3.9.13"
  }
 },
 "nbformat": 4,
 "nbformat_minor": 5
}
