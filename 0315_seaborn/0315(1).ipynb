{
 "cells": [
  {
   "cell_type": "code",
   "execution_count": 1,
   "id": "2aa94151-fe80-494f-bd7e-3e85e6d47719",
   "metadata": {},
   "outputs": [],
   "source": [
    "import pandas as pd\n",
    "import numpy as np\n",
    "import seaborn as sns\n",
    "import matplotlib as mpl\n",
    "import matplotlib.pyplot as plt"
   ]
  },
  {
   "cell_type": "code",
   "execution_count": 2,
   "id": "fc516317-59f6-45a2-af3b-0658280d25f2",
   "metadata": {},
   "outputs": [],
   "source": [
    "font_dir = ['C:/python/fonts']\n",
    "for font in mpl.font_manager.findSystemFonts(fontpaths=font_dir):\n",
    "    mpl.font_manager.fontManager.addfont(font)\n",
    "    # print(mpl.font_manager.FontProperties(fname=font).get_name())"
   ]
  },
  {
   "cell_type": "code",
   "execution_count": 3,
   "id": "95ead86a-f415-4e33-9ab3-3cd6c33fa124",
   "metadata": {},
   "outputs": [
    {
     "name": "stdout",
     "output_type": "stream",
     "text": [
      "['NanumBarunGothicOTF']\n"
     ]
    }
   ],
   "source": [
    "mpl.rcParams['font.family'] = 'NanumBarunGothicOTF'\n",
    "print(mpl.rcParams['font.family'])"
   ]
  },
  {
   "cell_type": "code",
   "execution_count": 4,
   "id": "a30233ca-4e16-4539-84d8-e0fa34257dd1",
   "metadata": {},
   "outputs": [],
   "source": [
    "mpl.rc('axes', unicode_minus=False)"
   ]
  },
  {
   "cell_type": "code",
   "execution_count": 5,
   "id": "c60e2529-05d5-4189-a932-c7597a0b8ffc",
   "metadata": {},
   "outputs": [],
   "source": [
    "%matplotlib inline"
   ]
  },
  {
   "cell_type": "code",
   "execution_count": 6,
   "id": "ff71547e-18e6-41cc-ae05-b7384d93626e",
   "metadata": {},
   "outputs": [
    {
     "data": {
      "text/html": [
       "<div>\n",
       "<style scoped>\n",
       "    .dataframe tbody tr th:only-of-type {\n",
       "        vertical-align: middle;\n",
       "    }\n",
       "\n",
       "    .dataframe tbody tr th {\n",
       "        vertical-align: top;\n",
       "    }\n",
       "\n",
       "    .dataframe thead th {\n",
       "        text-align: right;\n",
       "    }\n",
       "</style>\n",
       "<table border=\"1\" class=\"dataframe\">\n",
       "  <thead>\n",
       "    <tr style=\"text-align: right;\">\n",
       "      <th></th>\n",
       "      <th>MainBranch</th>\n",
       "      <th>Employment</th>\n",
       "      <th>RemoteWork</th>\n",
       "      <th>CodingActivities</th>\n",
       "      <th>EdLevel</th>\n",
       "      <th>LearnCode</th>\n",
       "      <th>LearnCodeOnline</th>\n",
       "      <th>LearnCodeCoursesCert</th>\n",
       "      <th>YearsCode</th>\n",
       "      <th>YearsCodePro</th>\n",
       "      <th>...</th>\n",
       "      <th>TimeSearching</th>\n",
       "      <th>TimeAnswering</th>\n",
       "      <th>Onboarding</th>\n",
       "      <th>ProfessionalTech</th>\n",
       "      <th>TrueFalse_1</th>\n",
       "      <th>TrueFalse_2</th>\n",
       "      <th>TrueFalse_3</th>\n",
       "      <th>SurveyLength</th>\n",
       "      <th>SurveyEase</th>\n",
       "      <th>ConvertedCompYearly</th>\n",
       "    </tr>\n",
       "    <tr>\n",
       "      <th>ResponseId</th>\n",
       "      <th></th>\n",
       "      <th></th>\n",
       "      <th></th>\n",
       "      <th></th>\n",
       "      <th></th>\n",
       "      <th></th>\n",
       "      <th></th>\n",
       "      <th></th>\n",
       "      <th></th>\n",
       "      <th></th>\n",
       "      <th></th>\n",
       "      <th></th>\n",
       "      <th></th>\n",
       "      <th></th>\n",
       "      <th></th>\n",
       "      <th></th>\n",
       "      <th></th>\n",
       "      <th></th>\n",
       "      <th></th>\n",
       "      <th></th>\n",
       "      <th></th>\n",
       "    </tr>\n",
       "  </thead>\n",
       "  <tbody>\n",
       "    <tr>\n",
       "      <th>1</th>\n",
       "      <td>None of these</td>\n",
       "      <td>NaN</td>\n",
       "      <td>NaN</td>\n",
       "      <td>NaN</td>\n",
       "      <td>NaN</td>\n",
       "      <td>NaN</td>\n",
       "      <td>NaN</td>\n",
       "      <td>NaN</td>\n",
       "      <td>NaN</td>\n",
       "      <td>NaN</td>\n",
       "      <td>...</td>\n",
       "      <td>NaN</td>\n",
       "      <td>NaN</td>\n",
       "      <td>NaN</td>\n",
       "      <td>NaN</td>\n",
       "      <td>NaN</td>\n",
       "      <td>NaN</td>\n",
       "      <td>NaN</td>\n",
       "      <td>NaN</td>\n",
       "      <td>NaN</td>\n",
       "      <td>NaN</td>\n",
       "    </tr>\n",
       "    <tr>\n",
       "      <th>2</th>\n",
       "      <td>I am a developer by profession</td>\n",
       "      <td>Employed, full-time</td>\n",
       "      <td>Fully remote</td>\n",
       "      <td>Hobby;Contribute to open-source projects</td>\n",
       "      <td>NaN</td>\n",
       "      <td>NaN</td>\n",
       "      <td>NaN</td>\n",
       "      <td>NaN</td>\n",
       "      <td>NaN</td>\n",
       "      <td>NaN</td>\n",
       "      <td>...</td>\n",
       "      <td>NaN</td>\n",
       "      <td>NaN</td>\n",
       "      <td>NaN</td>\n",
       "      <td>NaN</td>\n",
       "      <td>NaN</td>\n",
       "      <td>NaN</td>\n",
       "      <td>NaN</td>\n",
       "      <td>Too long</td>\n",
       "      <td>Difficult</td>\n",
       "      <td>NaN</td>\n",
       "    </tr>\n",
       "    <tr>\n",
       "      <th>3</th>\n",
       "      <td>I am not primarily a developer, but I write co...</td>\n",
       "      <td>Employed, full-time</td>\n",
       "      <td>Hybrid (some remote, some in-person)</td>\n",
       "      <td>Hobby</td>\n",
       "      <td>Master’s degree (M.A., M.S., M.Eng., MBA, etc.)</td>\n",
       "      <td>Books / Physical media;Friend or family member...</td>\n",
       "      <td>Technical documentation;Blogs;Programming Game...</td>\n",
       "      <td>NaN</td>\n",
       "      <td>14</td>\n",
       "      <td>5</td>\n",
       "      <td>...</td>\n",
       "      <td>NaN</td>\n",
       "      <td>NaN</td>\n",
       "      <td>NaN</td>\n",
       "      <td>NaN</td>\n",
       "      <td>NaN</td>\n",
       "      <td>NaN</td>\n",
       "      <td>NaN</td>\n",
       "      <td>Appropriate in length</td>\n",
       "      <td>Neither easy nor difficult</td>\n",
       "      <td>40205.0</td>\n",
       "    </tr>\n",
       "    <tr>\n",
       "      <th>4</th>\n",
       "      <td>I am a developer by profession</td>\n",
       "      <td>Employed, full-time</td>\n",
       "      <td>Fully remote</td>\n",
       "      <td>I don’t code outside of work</td>\n",
       "      <td>Bachelor’s degree (B.A., B.S., B.Eng., etc.)</td>\n",
       "      <td>Books / Physical media;School (i.e., Universit...</td>\n",
       "      <td>NaN</td>\n",
       "      <td>NaN</td>\n",
       "      <td>20</td>\n",
       "      <td>17</td>\n",
       "      <td>...</td>\n",
       "      <td>NaN</td>\n",
       "      <td>NaN</td>\n",
       "      <td>NaN</td>\n",
       "      <td>NaN</td>\n",
       "      <td>NaN</td>\n",
       "      <td>NaN</td>\n",
       "      <td>NaN</td>\n",
       "      <td>Appropriate in length</td>\n",
       "      <td>Easy</td>\n",
       "      <td>215232.0</td>\n",
       "    </tr>\n",
       "    <tr>\n",
       "      <th>5</th>\n",
       "      <td>I am a developer by profession</td>\n",
       "      <td>Employed, full-time</td>\n",
       "      <td>Hybrid (some remote, some in-person)</td>\n",
       "      <td>Hobby</td>\n",
       "      <td>Bachelor’s degree (B.A., B.S., B.Eng., etc.)</td>\n",
       "      <td>Other online resources (e.g., videos, blogs, f...</td>\n",
       "      <td>Technical documentation;Blogs;Stack Overflow;O...</td>\n",
       "      <td>NaN</td>\n",
       "      <td>8</td>\n",
       "      <td>3</td>\n",
       "      <td>...</td>\n",
       "      <td>NaN</td>\n",
       "      <td>NaN</td>\n",
       "      <td>NaN</td>\n",
       "      <td>NaN</td>\n",
       "      <td>NaN</td>\n",
       "      <td>NaN</td>\n",
       "      <td>NaN</td>\n",
       "      <td>Too long</td>\n",
       "      <td>Easy</td>\n",
       "      <td>NaN</td>\n",
       "    </tr>\n",
       "    <tr>\n",
       "      <th>...</th>\n",
       "      <td>...</td>\n",
       "      <td>...</td>\n",
       "      <td>...</td>\n",
       "      <td>...</td>\n",
       "      <td>...</td>\n",
       "      <td>...</td>\n",
       "      <td>...</td>\n",
       "      <td>...</td>\n",
       "      <td>...</td>\n",
       "      <td>...</td>\n",
       "      <td>...</td>\n",
       "      <td>...</td>\n",
       "      <td>...</td>\n",
       "      <td>...</td>\n",
       "      <td>...</td>\n",
       "      <td>...</td>\n",
       "      <td>...</td>\n",
       "      <td>...</td>\n",
       "      <td>...</td>\n",
       "      <td>...</td>\n",
       "      <td>...</td>\n",
       "    </tr>\n",
       "    <tr>\n",
       "      <th>73264</th>\n",
       "      <td>I am a developer by profession</td>\n",
       "      <td>Employed, full-time</td>\n",
       "      <td>Fully remote</td>\n",
       "      <td>Freelance/contract work</td>\n",
       "      <td>Bachelor’s degree (B.A., B.S., B.Eng., etc.)</td>\n",
       "      <td>Books / Physical media;Other online resources ...</td>\n",
       "      <td>Technical documentation;Blogs;Written Tutorial...</td>\n",
       "      <td>Udemy</td>\n",
       "      <td>8</td>\n",
       "      <td>5</td>\n",
       "      <td>...</td>\n",
       "      <td>30-60 minutes a day</td>\n",
       "      <td>Less than 15 minutes a day</td>\n",
       "      <td>Just right</td>\n",
       "      <td>DevOps function;Microservices;Developer portal...</td>\n",
       "      <td>Yes</td>\n",
       "      <td>Yes</td>\n",
       "      <td>Yes</td>\n",
       "      <td>Too long</td>\n",
       "      <td>Easy</td>\n",
       "      <td>NaN</td>\n",
       "    </tr>\n",
       "    <tr>\n",
       "      <th>73265</th>\n",
       "      <td>I am a developer by profession</td>\n",
       "      <td>Employed, full-time</td>\n",
       "      <td>Full in-person</td>\n",
       "      <td>Hobby</td>\n",
       "      <td>Master’s degree (M.A., M.S., M.Eng., MBA, etc.)</td>\n",
       "      <td>Other online resources (e.g., videos, blogs, f...</td>\n",
       "      <td>Technical documentation;Blogs;Written Tutorial...</td>\n",
       "      <td>Coursera;Udemy;Udacity</td>\n",
       "      <td>6</td>\n",
       "      <td>5</td>\n",
       "      <td>...</td>\n",
       "      <td>15-30 minutes a day</td>\n",
       "      <td>60-120 minutes a day</td>\n",
       "      <td>Very long</td>\n",
       "      <td>None of these</td>\n",
       "      <td>No</td>\n",
       "      <td>Yes</td>\n",
       "      <td>Yes</td>\n",
       "      <td>Too long</td>\n",
       "      <td>Easy</td>\n",
       "      <td>NaN</td>\n",
       "    </tr>\n",
       "    <tr>\n",
       "      <th>73266</th>\n",
       "      <td>I am not primarily a developer, but I write co...</td>\n",
       "      <td>Employed, full-time</td>\n",
       "      <td>Hybrid (some remote, some in-person)</td>\n",
       "      <td>Hobby;School or academic work</td>\n",
       "      <td>Bachelor’s degree (B.A., B.S., B.Eng., etc.)</td>\n",
       "      <td>Books / Physical media;Other online resources ...</td>\n",
       "      <td>Technical documentation;Programming Games;Stac...</td>\n",
       "      <td>Udemy;Codecademy;Pluralsight;edX</td>\n",
       "      <td>42</td>\n",
       "      <td>33</td>\n",
       "      <td>...</td>\n",
       "      <td>30-60 minutes a day</td>\n",
       "      <td>60-120 minutes a day</td>\n",
       "      <td>Just right</td>\n",
       "      <td>None of these</td>\n",
       "      <td>No</td>\n",
       "      <td>No</td>\n",
       "      <td>No</td>\n",
       "      <td>Appropriate in length</td>\n",
       "      <td>Easy</td>\n",
       "      <td>NaN</td>\n",
       "    </tr>\n",
       "    <tr>\n",
       "      <th>73267</th>\n",
       "      <td>I am a developer by profession</td>\n",
       "      <td>Employed, full-time</td>\n",
       "      <td>Hybrid (some remote, some in-person)</td>\n",
       "      <td>Hobby</td>\n",
       "      <td>Bachelor’s degree (B.A., B.S., B.Eng., etc.)</td>\n",
       "      <td>Books / Physical media;On the job training</td>\n",
       "      <td>NaN</td>\n",
       "      <td>NaN</td>\n",
       "      <td>50</td>\n",
       "      <td>31</td>\n",
       "      <td>...</td>\n",
       "      <td>NaN</td>\n",
       "      <td>NaN</td>\n",
       "      <td>NaN</td>\n",
       "      <td>NaN</td>\n",
       "      <td>NaN</td>\n",
       "      <td>NaN</td>\n",
       "      <td>NaN</td>\n",
       "      <td>Appropriate in length</td>\n",
       "      <td>Easy</td>\n",
       "      <td>NaN</td>\n",
       "    </tr>\n",
       "    <tr>\n",
       "      <th>73268</th>\n",
       "      <td>I used to be a developer by profession, but no...</td>\n",
       "      <td>Independent contractor, freelancer, or self-em...</td>\n",
       "      <td>Fully remote</td>\n",
       "      <td>Hobby;Contribute to open-source projects;Boots...</td>\n",
       "      <td>Bachelor’s degree (B.A., B.S., B.Eng., etc.)</td>\n",
       "      <td>Books / Physical media;Friend or family member...</td>\n",
       "      <td>Technical documentation;Blogs;Programming Game...</td>\n",
       "      <td>Udemy;Pluralsight</td>\n",
       "      <td>16</td>\n",
       "      <td>5</td>\n",
       "      <td>...</td>\n",
       "      <td>NaN</td>\n",
       "      <td>NaN</td>\n",
       "      <td>NaN</td>\n",
       "      <td>NaN</td>\n",
       "      <td>NaN</td>\n",
       "      <td>NaN</td>\n",
       "      <td>NaN</td>\n",
       "      <td>Appropriate in length</td>\n",
       "      <td>Easy</td>\n",
       "      <td>NaN</td>\n",
       "    </tr>\n",
       "  </tbody>\n",
       "</table>\n",
       "<p>73268 rows × 78 columns</p>\n",
       "</div>"
      ],
      "text/plain": [
       "                                                   MainBranch  \\\n",
       "ResponseId                                                      \n",
       "1                                               None of these   \n",
       "2                              I am a developer by profession   \n",
       "3           I am not primarily a developer, but I write co...   \n",
       "4                              I am a developer by profession   \n",
       "5                              I am a developer by profession   \n",
       "...                                                       ...   \n",
       "73264                          I am a developer by profession   \n",
       "73265                          I am a developer by profession   \n",
       "73266       I am not primarily a developer, but I write co...   \n",
       "73267                          I am a developer by profession   \n",
       "73268       I used to be a developer by profession, but no...   \n",
       "\n",
       "                                                   Employment  \\\n",
       "ResponseId                                                      \n",
       "1                                                         NaN   \n",
       "2                                         Employed, full-time   \n",
       "3                                         Employed, full-time   \n",
       "4                                         Employed, full-time   \n",
       "5                                         Employed, full-time   \n",
       "...                                                       ...   \n",
       "73264                                     Employed, full-time   \n",
       "73265                                     Employed, full-time   \n",
       "73266                                     Employed, full-time   \n",
       "73267                                     Employed, full-time   \n",
       "73268       Independent contractor, freelancer, or self-em...   \n",
       "\n",
       "                                      RemoteWork  \\\n",
       "ResponseId                                         \n",
       "1                                            NaN   \n",
       "2                                   Fully remote   \n",
       "3           Hybrid (some remote, some in-person)   \n",
       "4                                   Fully remote   \n",
       "5           Hybrid (some remote, some in-person)   \n",
       "...                                          ...   \n",
       "73264                               Fully remote   \n",
       "73265                             Full in-person   \n",
       "73266       Hybrid (some remote, some in-person)   \n",
       "73267       Hybrid (some remote, some in-person)   \n",
       "73268                               Fully remote   \n",
       "\n",
       "                                             CodingActivities  \\\n",
       "ResponseId                                                      \n",
       "1                                                         NaN   \n",
       "2                    Hobby;Contribute to open-source projects   \n",
       "3                                                       Hobby   \n",
       "4                                I don’t code outside of work   \n",
       "5                                                       Hobby   \n",
       "...                                                       ...   \n",
       "73264                                 Freelance/contract work   \n",
       "73265                                                   Hobby   \n",
       "73266                           Hobby;School or academic work   \n",
       "73267                                                   Hobby   \n",
       "73268       Hobby;Contribute to open-source projects;Boots...   \n",
       "\n",
       "                                                    EdLevel  \\\n",
       "ResponseId                                                    \n",
       "1                                                       NaN   \n",
       "2                                                       NaN   \n",
       "3           Master’s degree (M.A., M.S., M.Eng., MBA, etc.)   \n",
       "4              Bachelor’s degree (B.A., B.S., B.Eng., etc.)   \n",
       "5              Bachelor’s degree (B.A., B.S., B.Eng., etc.)   \n",
       "...                                                     ...   \n",
       "73264          Bachelor’s degree (B.A., B.S., B.Eng., etc.)   \n",
       "73265       Master’s degree (M.A., M.S., M.Eng., MBA, etc.)   \n",
       "73266          Bachelor’s degree (B.A., B.S., B.Eng., etc.)   \n",
       "73267          Bachelor’s degree (B.A., B.S., B.Eng., etc.)   \n",
       "73268          Bachelor’s degree (B.A., B.S., B.Eng., etc.)   \n",
       "\n",
       "                                                    LearnCode  \\\n",
       "ResponseId                                                      \n",
       "1                                                         NaN   \n",
       "2                                                         NaN   \n",
       "3           Books / Physical media;Friend or family member...   \n",
       "4           Books / Physical media;School (i.e., Universit...   \n",
       "5           Other online resources (e.g., videos, blogs, f...   \n",
       "...                                                       ...   \n",
       "73264       Books / Physical media;Other online resources ...   \n",
       "73265       Other online resources (e.g., videos, blogs, f...   \n",
       "73266       Books / Physical media;Other online resources ...   \n",
       "73267              Books / Physical media;On the job training   \n",
       "73268       Books / Physical media;Friend or family member...   \n",
       "\n",
       "                                              LearnCodeOnline  \\\n",
       "ResponseId                                                      \n",
       "1                                                         NaN   \n",
       "2                                                         NaN   \n",
       "3           Technical documentation;Blogs;Programming Game...   \n",
       "4                                                         NaN   \n",
       "5           Technical documentation;Blogs;Stack Overflow;O...   \n",
       "...                                                       ...   \n",
       "73264       Technical documentation;Blogs;Written Tutorial...   \n",
       "73265       Technical documentation;Blogs;Written Tutorial...   \n",
       "73266       Technical documentation;Programming Games;Stac...   \n",
       "73267                                                     NaN   \n",
       "73268       Technical documentation;Blogs;Programming Game...   \n",
       "\n",
       "                        LearnCodeCoursesCert YearsCode YearsCodePro  ...  \\\n",
       "ResponseId                                                           ...   \n",
       "1                                        NaN       NaN          NaN  ...   \n",
       "2                                        NaN       NaN          NaN  ...   \n",
       "3                                        NaN        14            5  ...   \n",
       "4                                        NaN        20           17  ...   \n",
       "5                                        NaN         8            3  ...   \n",
       "...                                      ...       ...          ...  ...   \n",
       "73264                                  Udemy         8            5  ...   \n",
       "73265                 Coursera;Udemy;Udacity         6            5  ...   \n",
       "73266       Udemy;Codecademy;Pluralsight;edX        42           33  ...   \n",
       "73267                                    NaN        50           31  ...   \n",
       "73268                      Udemy;Pluralsight        16            5  ...   \n",
       "\n",
       "                  TimeSearching               TimeAnswering  Onboarding  \\\n",
       "ResponseId                                                                \n",
       "1                           NaN                         NaN         NaN   \n",
       "2                           NaN                         NaN         NaN   \n",
       "3                           NaN                         NaN         NaN   \n",
       "4                           NaN                         NaN         NaN   \n",
       "5                           NaN                         NaN         NaN   \n",
       "...                         ...                         ...         ...   \n",
       "73264       30-60 minutes a day  Less than 15 minutes a day  Just right   \n",
       "73265       15-30 minutes a day        60-120 minutes a day   Very long   \n",
       "73266       30-60 minutes a day        60-120 minutes a day  Just right   \n",
       "73267                       NaN                         NaN         NaN   \n",
       "73268                       NaN                         NaN         NaN   \n",
       "\n",
       "                                             ProfessionalTech TrueFalse_1  \\\n",
       "ResponseId                                                                  \n",
       "1                                                         NaN         NaN   \n",
       "2                                                         NaN         NaN   \n",
       "3                                                         NaN         NaN   \n",
       "4                                                         NaN         NaN   \n",
       "5                                                         NaN         NaN   \n",
       "...                                                       ...         ...   \n",
       "73264       DevOps function;Microservices;Developer portal...         Yes   \n",
       "73265                                           None of these          No   \n",
       "73266                                           None of these          No   \n",
       "73267                                                     NaN         NaN   \n",
       "73268                                                     NaN         NaN   \n",
       "\n",
       "           TrueFalse_2  TrueFalse_3           SurveyLength  \\\n",
       "ResponseId                                                   \n",
       "1                  NaN          NaN                    NaN   \n",
       "2                  NaN          NaN               Too long   \n",
       "3                  NaN          NaN  Appropriate in length   \n",
       "4                  NaN          NaN  Appropriate in length   \n",
       "5                  NaN          NaN               Too long   \n",
       "...                ...          ...                    ...   \n",
       "73264              Yes          Yes               Too long   \n",
       "73265              Yes          Yes               Too long   \n",
       "73266               No           No  Appropriate in length   \n",
       "73267              NaN          NaN  Appropriate in length   \n",
       "73268              NaN          NaN  Appropriate in length   \n",
       "\n",
       "                            SurveyEase ConvertedCompYearly  \n",
       "ResponseId                                                  \n",
       "1                                  NaN                 NaN  \n",
       "2                            Difficult                 NaN  \n",
       "3           Neither easy nor difficult             40205.0  \n",
       "4                                 Easy            215232.0  \n",
       "5                                 Easy                 NaN  \n",
       "...                                ...                 ...  \n",
       "73264                             Easy                 NaN  \n",
       "73265                             Easy                 NaN  \n",
       "73266                             Easy                 NaN  \n",
       "73267                             Easy                 NaN  \n",
       "73268                             Easy                 NaN  \n",
       "\n",
       "[73268 rows x 78 columns]"
      ]
     },
     "execution_count": 6,
     "metadata": {},
     "output_type": "execute_result"
    }
   ],
   "source": [
    "survey_raw_df = pd.read_csv('C:/python/datas/survey_results_public.csv', \n",
    "                            index_col='ResponseId')\n",
    "survey_raw_df"
   ]
  },
  {
   "cell_type": "code",
   "execution_count": 7,
   "id": "5a4ab4c5-25dc-4c96-bfb0-18f0ee3f4960",
   "metadata": {},
   "outputs": [
    {
     "data": {
      "text/plain": [
       "qname\n",
       "S0             <div><span style=\"font-size:19px;\"><strong>Hel...\n",
       "MetaInfo                                       Browser Meta Info\n",
       "S1             <span style=\"font-size:22px; font-family: aria...\n",
       "MainBranch     Which of the following options best describes ...\n",
       "Employment     Which of the following best describes your cur...\n",
       "                                     ...                        \n",
       "Frequency_2    Interacting with people outside of your immedi...\n",
       "Frequency_3    Encountering knowledge silos (where one indivi...\n",
       "TrueFalse_1    Are you involved in supporting new hires durin...\n",
       "TrueFalse_2    Do you use learning resources provided by your...\n",
       "TrueFalse_3    Does your employer give you time to learn new ...\n",
       "Name: question, Length: 79, dtype: object"
      ]
     },
     "execution_count": 7,
     "metadata": {},
     "output_type": "execute_result"
    }
   ],
   "source": [
    "schema_raw = pd.read_csv('C:/python/datas/survey_results_schema.csv', \n",
    "                            index_col='qname')['question']\n",
    "schema_raw"
   ]
  },
  {
   "cell_type": "code",
   "execution_count": 8,
   "id": "ba22bf92-daa8-4379-899e-c10891e72454",
   "metadata": {},
   "outputs": [
    {
     "data": {
      "text/plain": [
       "Index(['MainBranch', 'Employment', 'RemoteWork', 'CodingActivities', 'EdLevel',\n",
       "       'LearnCode', 'LearnCodeOnline', 'LearnCodeCoursesCert', 'YearsCode',\n",
       "       'YearsCodePro', 'DevType', 'OrgSize', 'PurchaseInfluence', 'BuyNewTool',\n",
       "       'Country', 'Currency', 'CompTotal', 'CompFreq',\n",
       "       'LanguageHaveWorkedWith', 'LanguageWantToWorkWith',\n",
       "       'DatabaseHaveWorkedWith', 'DatabaseWantToWorkWith',\n",
       "       'PlatformHaveWorkedWith', 'PlatformWantToWorkWith',\n",
       "       'WebframeHaveWorkedWith', 'WebframeWantToWorkWith',\n",
       "       'MiscTechHaveWorkedWith', 'MiscTechWantToWorkWith',\n",
       "       'ToolsTechHaveWorkedWith', 'ToolsTechWantToWorkWith',\n",
       "       'NEWCollabToolsHaveWorkedWith', 'NEWCollabToolsWantToWorkWith',\n",
       "       'OpSysProfessional use', 'OpSysPersonal use', 'VersionControlSystem',\n",
       "       'VCInteraction', 'VCHostingPersonal use', 'VCHostingProfessional use',\n",
       "       'OfficeStackAsyncHaveWorkedWith', 'OfficeStackAsyncWantToWorkWith',\n",
       "       'OfficeStackSyncHaveWorkedWith', 'OfficeStackSyncWantToWorkWith',\n",
       "       'Blockchain', 'NEWSOSites', 'SOVisitFreq', 'SOAccount', 'SOPartFreq',\n",
       "       'SOComm', 'Age', 'Gender', 'Trans', 'Sexuality', 'Ethnicity',\n",
       "       'Accessibility', 'MentalHealth', 'TBranch', 'ICorPM', 'WorkExp',\n",
       "       'Knowledge_1', 'Knowledge_2', 'Knowledge_3', 'Knowledge_4',\n",
       "       'Knowledge_5', 'Knowledge_6', 'Knowledge_7', 'Frequency_1',\n",
       "       'Frequency_2', 'Frequency_3', 'TimeSearching', 'TimeAnswering',\n",
       "       'Onboarding', 'ProfessionalTech', 'TrueFalse_1', 'TrueFalse_2',\n",
       "       'TrueFalse_3', 'SurveyLength', 'SurveyEase', 'ConvertedCompYearly'],\n",
       "      dtype='object')"
      ]
     },
     "execution_count": 8,
     "metadata": {},
     "output_type": "execute_result"
    }
   ],
   "source": [
    "survey_raw_df.columns"
   ]
  },
  {
   "cell_type": "code",
   "execution_count": 9,
   "id": "ecd2731b-20b1-4399-9b29-5e437093f052",
   "metadata": {},
   "outputs": [
    {
     "data": {
      "text/plain": [
       "Index(['S0', 'MetaInfo', 'S1', 'MainBranch', 'Employment', 'RemoteWork',\n",
       "       'CodingActivities', 'S2', 'EdLevel', 'LearnCode', 'LearnCodeOnline',\n",
       "       'LearnCodeCoursesCert', 'YearsCode', 'YearsCodePro', 'DevType',\n",
       "       'OrgSize', 'PurchaseInfluence', 'BuyNewTool', 'Country', 'Currency',\n",
       "       'CompTotal', 'CompFreq', 'S3', 'Language', 'Database', 'Platform',\n",
       "       'Webframe', 'MiscTech', 'ToolsTech', 'NEWCollabTools', 'OpSys',\n",
       "       'VersionControlSystem', 'VCInteraction', 'VCHosting',\n",
       "       'OfficeStackAsync', 'OfficeStackSync', 'Blockchain', 'S4', 'NEWSOSites',\n",
       "       'SOVisitFreq', 'SOAccount', 'SOPartFreq', 'SOComm', 'S5', 'Age',\n",
       "       'Gender', 'Trans', 'Sexuality', 'Ethnicity', 'Accessibility',\n",
       "       'MentalHealth', 'S6', 'TBranch', 'ICorPM', 'WorkExp', 'Knowledge',\n",
       "       'Frequency', 'TimeSearching', 'TimeAnswering', 'Onboarding',\n",
       "       'ProfessionalTech', 'SOTeamsUsage', 'TrueFalse', 'S7', 'SurveyLength',\n",
       "       'SurveyEase', 'Knowledge_1', 'Knowledge_2', 'Knowledge_3',\n",
       "       'Knowledge_4', 'Knowledge_5', 'Knowledge_6', 'Knowledge_7',\n",
       "       'Frequency_1', 'Frequency_2', 'Frequency_3', 'TrueFalse_1',\n",
       "       'TrueFalse_2', 'TrueFalse_3'],\n",
       "      dtype='object', name='qname')"
      ]
     },
     "execution_count": 9,
     "metadata": {},
     "output_type": "execute_result"
    }
   ],
   "source": [
    "schema_raw.index"
   ]
  },
  {
   "cell_type": "code",
   "execution_count": 10,
   "id": "c174af97-e883-47ea-89f2-734cf202ac1f",
   "metadata": {},
   "outputs": [
    {
     "data": {
      "text/plain": [
       "'What is your current total compensation (salary, bonuses, and perks, before taxes and deductions)? Please enter a whole number in the box below, without any punctuation.  If you are paid hourly, please estimate an equivalent weekly, monthly, or yearly salary. If you prefer not to answer, please leave the box empty.'"
      ]
     },
     "execution_count": 10,
     "metadata": {},
     "output_type": "execute_result"
    }
   ],
   "source": [
    "# schema_raw index: qname, values: question\n",
    "# CompTotal이라 하는 column의 질문 내용을 확인\n",
    "\n",
    "schema_raw['CompTotal']"
   ]
  },
  {
   "cell_type": "code",
   "execution_count": 11,
   "id": "34c7640a-c2bf-49c7-a923-564d65d32c0c",
   "metadata": {},
   "outputs": [
    {
     "data": {
      "text/plain": [
       "'Is that compensation weekly, monthly, or yearly?'"
      ]
     },
     "execution_count": 11,
     "metadata": {},
     "output_type": "execute_result"
    }
   ],
   "source": [
    "schema_raw['CompFreq']"
   ]
  },
  {
   "cell_type": "code",
   "execution_count": 12,
   "id": "0807cfca-5393-499d-ba68-89155886d2ee",
   "metadata": {},
   "outputs": [
    {
     "name": "stdout",
     "output_type": "stream",
     "text": [
      "<class 'pandas.core.frame.DataFrame'>\n",
      "Int64Index: 73268 entries, 1 to 73268\n",
      "Data columns (total 78 columns):\n",
      " #   Column                          Non-Null Count  Dtype  \n",
      "---  ------                          --------------  -----  \n",
      " 0   MainBranch                      73268 non-null  object \n",
      " 1   Employment                      71709 non-null  object \n",
      " 2   RemoteWork                      58958 non-null  object \n",
      " 3   CodingActivities                58899 non-null  object \n",
      " 4   EdLevel                         71571 non-null  object \n",
      " 5   LearnCode                       71580 non-null  object \n",
      " 6   LearnCodeOnline                 50685 non-null  object \n",
      " 7   LearnCodeCoursesCert            29389 non-null  object \n",
      " 8   YearsCode                       71331 non-null  object \n",
      " 9   YearsCodePro                    51833 non-null  object \n",
      " 10  DevType                         61302 non-null  object \n",
      " 11  OrgSize                         51039 non-null  object \n",
      " 12  PurchaseInfluence               50969 non-null  object \n",
      " 13  BuyNewTool                      67963 non-null  object \n",
      " 14  Country                         71771 non-null  object \n",
      " 15  Currency                        51264 non-null  object \n",
      " 16  CompTotal                       38422 non-null  float64\n",
      " 17  CompFreq                        44425 non-null  object \n",
      " 18  LanguageHaveWorkedWith          70975 non-null  object \n",
      " 19  LanguageWantToWorkWith          67027 non-null  object \n",
      " 20  DatabaseHaveWorkedWith          60121 non-null  object \n",
      " 21  DatabaseWantToWorkWith          51014 non-null  object \n",
      " 22  PlatformHaveWorkedWith          49924 non-null  object \n",
      " 23  PlatformWantToWorkWith          40415 non-null  object \n",
      " 24  WebframeHaveWorkedWith          53544 non-null  object \n",
      " 25  WebframeWantToWorkWith          46122 non-null  object \n",
      " 26  MiscTechHaveWorkedWith          44992 non-null  object \n",
      " 27  MiscTechWantToWorkWith          36810 non-null  object \n",
      " 28  ToolsTechHaveWorkedWith         54171 non-null  object \n",
      " 29  ToolsTechWantToWorkWith         46566 non-null  object \n",
      " 30  NEWCollabToolsHaveWorkedWith    70347 non-null  object \n",
      " 31  NEWCollabToolsWantToWorkWith    64108 non-null  object \n",
      " 32  OpSysProfessional use           65503 non-null  object \n",
      " 33  OpSysPersonal use               70963 non-null  object \n",
      " 34  VersionControlSystem            71379 non-null  object \n",
      " 35  VCInteraction                   68156 non-null  object \n",
      " 36  VCHostingPersonal use           0 non-null      float64\n",
      " 37  VCHostingProfessional use       0 non-null      float64\n",
      " 38  OfficeStackAsyncHaveWorkedWith  46223 non-null  object \n",
      " 39  OfficeStackAsyncWantToWorkWith  32072 non-null  object \n",
      " 40  OfficeStackSyncHaveWorkedWith   62128 non-null  object \n",
      " 41  OfficeStackSyncWantToWorkWith   47688 non-null  object \n",
      " 42  Blockchain                      71071 non-null  object \n",
      " 43  NEWSOSites                      71365 non-null  object \n",
      " 44  SOVisitFreq                     70961 non-null  object \n",
      " 45  SOAccount                       71572 non-null  object \n",
      " 46  SOPartFreq                      58229 non-null  object \n",
      " 47  SOComm                          71408 non-null  object \n",
      " 48  Age                             70946 non-null  object \n",
      " 49  Gender                          70853 non-null  object \n",
      " 50  Trans                           70315 non-null  object \n",
      " 51  Sexuality                       66565 non-null  object \n",
      " 52  Ethnicity                       69474 non-null  object \n",
      " 53  Accessibility                   67244 non-null  object \n",
      " 54  MentalHealth                    66447 non-null  object \n",
      " 55  TBranch                         52670 non-null  object \n",
      " 56  ICorPM                          36283 non-null  object \n",
      " 57  WorkExp                         36769 non-null  float64\n",
      " 58  Knowledge_1                     35804 non-null  object \n",
      " 59  Knowledge_2                     34973 non-null  object \n",
      " 60  Knowledge_3                     35133 non-null  object \n",
      " 61  Knowledge_4                     35097 non-null  object \n",
      " 62  Knowledge_5                     35014 non-null  object \n",
      " 63  Knowledge_6                     34991 non-null  object \n",
      " 64  Knowledge_7                     34977 non-null  object \n",
      " 65  Frequency_1                     35371 non-null  object \n",
      " 66  Frequency_2                     35344 non-null  object \n",
      " 67  Frequency_3                     34515 non-null  object \n",
      " 68  TimeSearching                   36198 non-null  object \n",
      " 69  TimeAnswering                   36022 non-null  object \n",
      " 70  Onboarding                      35679 non-null  object \n",
      " 71  ProfessionalTech                34906 non-null  object \n",
      " 72  TrueFalse_1                     35819 non-null  object \n",
      " 73  TrueFalse_2                     35715 non-null  object \n",
      " 74  TrueFalse_3                     35749 non-null  object \n",
      " 75  SurveyLength                    70444 non-null  object \n",
      " 76  SurveyEase                      70508 non-null  object \n",
      " 77  ConvertedCompYearly             38071 non-null  float64\n",
      "dtypes: float64(5), object(73)\n",
      "memory usage: 44.2+ MB\n"
     ]
    }
   ],
   "source": [
    "# 수많은 column이 존재하면 pandas에서 가시성을 위해 출력시 column 일부를 생략\n",
    "survey_raw_df.info()"
   ]
  },
  {
   "cell_type": "code",
   "execution_count": 13,
   "id": "93acb9aa-98f1-49b0-8be9-da7766726e8a",
   "metadata": {},
   "outputs": [],
   "source": [
    "# 표현되는 column과 row의 범위를 변경\n",
    "# display.max_columns: 표현되는 column의 최대 개수\n",
    "# display.max_rows: 표현되는 row의 최대 개수\n",
    "\n",
    "# columns의 개수가 많을 때 한 번에 볼 수 있는 컬럼의 크기를 변화시켜줌\n",
    "pd.set_option('display.max_columns', 78)\n",
    "# rows에 대해 대해 한번에 출력할 수 있는 크기를 조절함\n",
    "pd.set_option('display.max_rows', 78)"
   ]
  },
  {
   "cell_type": "code",
   "execution_count": 14,
   "id": "43e4ca9f-811a-4a49-8006-b4ade8116243",
   "metadata": {},
   "outputs": [],
   "source": [
    "# column 중 일부를 발췌하여 사용\n",
    "\n",
    "selected_columns = [\n",
    "    # 인구 통계\n",
    "    'Country',\n",
    "    'Age',\n",
    "    'Gender',\n",
    "    'EdLevel',\n",
    "    # 프로그래밍 경험\n",
    "    'YearsCode',\n",
    "    'YearsCodePro',\n",
    "    'LanguageHaveWorkedWith',\n",
    "    'LanguageWantToWorkWith',\n",
    "    'LearnCodeCoursesCert',\n",
    "    'ProfessionalTech', \n",
    "    'SOAccount',\n",
    "    # 고용 관련 정보\n",
    "    'Employment',\n",
    "    'DevType', \n",
    "    'WorkExp',\n",
    "]"
   ]
  },
  {
   "cell_type": "code",
   "execution_count": 15,
   "id": "cd45ce23-c279-4b6f-aba9-4536564167e1",
   "metadata": {},
   "outputs": [
    {
     "data": {
      "text/html": [
       "<div>\n",
       "<style scoped>\n",
       "    .dataframe tbody tr th:only-of-type {\n",
       "        vertical-align: middle;\n",
       "    }\n",
       "\n",
       "    .dataframe tbody tr th {\n",
       "        vertical-align: top;\n",
       "    }\n",
       "\n",
       "    .dataframe thead th {\n",
       "        text-align: right;\n",
       "    }\n",
       "</style>\n",
       "<table border=\"1\" class=\"dataframe\">\n",
       "  <thead>\n",
       "    <tr style=\"text-align: right;\">\n",
       "      <th></th>\n",
       "      <th>Country</th>\n",
       "      <th>Age</th>\n",
       "      <th>Gender</th>\n",
       "      <th>EdLevel</th>\n",
       "      <th>YearsCode</th>\n",
       "      <th>YearsCodePro</th>\n",
       "      <th>LanguageHaveWorkedWith</th>\n",
       "      <th>LanguageWantToWorkWith</th>\n",
       "      <th>LearnCodeCoursesCert</th>\n",
       "      <th>ProfessionalTech</th>\n",
       "      <th>SOAccount</th>\n",
       "      <th>Employment</th>\n",
       "      <th>DevType</th>\n",
       "      <th>WorkExp</th>\n",
       "    </tr>\n",
       "    <tr>\n",
       "      <th>ResponseId</th>\n",
       "      <th></th>\n",
       "      <th></th>\n",
       "      <th></th>\n",
       "      <th></th>\n",
       "      <th></th>\n",
       "      <th></th>\n",
       "      <th></th>\n",
       "      <th></th>\n",
       "      <th></th>\n",
       "      <th></th>\n",
       "      <th></th>\n",
       "      <th></th>\n",
       "      <th></th>\n",
       "      <th></th>\n",
       "    </tr>\n",
       "  </thead>\n",
       "  <tbody>\n",
       "    <tr>\n",
       "      <th>1</th>\n",
       "      <td>NaN</td>\n",
       "      <td>NaN</td>\n",
       "      <td>NaN</td>\n",
       "      <td>NaN</td>\n",
       "      <td>NaN</td>\n",
       "      <td>NaN</td>\n",
       "      <td>NaN</td>\n",
       "      <td>NaN</td>\n",
       "      <td>NaN</td>\n",
       "      <td>NaN</td>\n",
       "      <td>NaN</td>\n",
       "      <td>NaN</td>\n",
       "      <td>NaN</td>\n",
       "      <td>NaN</td>\n",
       "    </tr>\n",
       "    <tr>\n",
       "      <th>2</th>\n",
       "      <td>Canada</td>\n",
       "      <td>NaN</td>\n",
       "      <td>NaN</td>\n",
       "      <td>NaN</td>\n",
       "      <td>NaN</td>\n",
       "      <td>NaN</td>\n",
       "      <td>JavaScript;TypeScript</td>\n",
       "      <td>Rust;TypeScript</td>\n",
       "      <td>NaN</td>\n",
       "      <td>NaN</td>\n",
       "      <td>Yes</td>\n",
       "      <td>Employed, full-time</td>\n",
       "      <td>NaN</td>\n",
       "      <td>NaN</td>\n",
       "    </tr>\n",
       "    <tr>\n",
       "      <th>3</th>\n",
       "      <td>United Kingdom of Great Britain and Northern I...</td>\n",
       "      <td>25-34 years old</td>\n",
       "      <td>Man</td>\n",
       "      <td>Master’s degree (M.A., M.S., M.Eng., MBA, etc.)</td>\n",
       "      <td>14</td>\n",
       "      <td>5</td>\n",
       "      <td>C#;C++;HTML/CSS;JavaScript;Python</td>\n",
       "      <td>C#;C++;HTML/CSS;JavaScript;TypeScript</td>\n",
       "      <td>NaN</td>\n",
       "      <td>NaN</td>\n",
       "      <td>Yes</td>\n",
       "      <td>Employed, full-time</td>\n",
       "      <td>Data scientist or machine learning specialist;...</td>\n",
       "      <td>NaN</td>\n",
       "    </tr>\n",
       "    <tr>\n",
       "      <th>4</th>\n",
       "      <td>Israel</td>\n",
       "      <td>35-44 years old</td>\n",
       "      <td>Man</td>\n",
       "      <td>Bachelor’s degree (B.A., B.S., B.Eng., etc.)</td>\n",
       "      <td>20</td>\n",
       "      <td>17</td>\n",
       "      <td>C#;JavaScript;SQL;TypeScript</td>\n",
       "      <td>C#;SQL;TypeScript</td>\n",
       "      <td>NaN</td>\n",
       "      <td>NaN</td>\n",
       "      <td>Yes</td>\n",
       "      <td>Employed, full-time</td>\n",
       "      <td>Developer, full-stack</td>\n",
       "      <td>NaN</td>\n",
       "    </tr>\n",
       "    <tr>\n",
       "      <th>5</th>\n",
       "      <td>United States of America</td>\n",
       "      <td>25-34 years old</td>\n",
       "      <td>NaN</td>\n",
       "      <td>Bachelor’s degree (B.A., B.S., B.Eng., etc.)</td>\n",
       "      <td>8</td>\n",
       "      <td>3</td>\n",
       "      <td>C#;HTML/CSS;JavaScript;SQL;Swift;TypeScript</td>\n",
       "      <td>C#;Elixir;F#;Go;JavaScript;Rust;TypeScript</td>\n",
       "      <td>NaN</td>\n",
       "      <td>NaN</td>\n",
       "      <td>Yes</td>\n",
       "      <td>Employed, full-time</td>\n",
       "      <td>Developer, front-end;Developer, full-stack;Dev...</td>\n",
       "      <td>NaN</td>\n",
       "    </tr>\n",
       "    <tr>\n",
       "      <th>...</th>\n",
       "      <td>...</td>\n",
       "      <td>...</td>\n",
       "      <td>...</td>\n",
       "      <td>...</td>\n",
       "      <td>...</td>\n",
       "      <td>...</td>\n",
       "      <td>...</td>\n",
       "      <td>...</td>\n",
       "      <td>...</td>\n",
       "      <td>...</td>\n",
       "      <td>...</td>\n",
       "      <td>...</td>\n",
       "      <td>...</td>\n",
       "      <td>...</td>\n",
       "    </tr>\n",
       "    <tr>\n",
       "      <th>73264</th>\n",
       "      <td>Nigeria</td>\n",
       "      <td>25-34 years old</td>\n",
       "      <td>Man</td>\n",
       "      <td>Bachelor’s degree (B.A., B.S., B.Eng., etc.)</td>\n",
       "      <td>8</td>\n",
       "      <td>5</td>\n",
       "      <td>Bash/Shell;Dart;JavaScript;PHP;Python;SQL;Type...</td>\n",
       "      <td>Bash/Shell;Go;JavaScript;Python;SQL;TypeScript</td>\n",
       "      <td>Udemy</td>\n",
       "      <td>DevOps function;Microservices;Developer portal...</td>\n",
       "      <td>Yes</td>\n",
       "      <td>Employed, full-time</td>\n",
       "      <td>Developer, back-end</td>\n",
       "      <td>5.0</td>\n",
       "    </tr>\n",
       "    <tr>\n",
       "      <th>73265</th>\n",
       "      <td>United States of America</td>\n",
       "      <td>25-34 years old</td>\n",
       "      <td>Man</td>\n",
       "      <td>Master’s degree (M.A., M.S., M.Eng., MBA, etc.)</td>\n",
       "      <td>6</td>\n",
       "      <td>5</td>\n",
       "      <td>Bash/Shell;HTML/CSS;JavaScript;Python;SQL</td>\n",
       "      <td>HTML/CSS;JavaScript;Python</td>\n",
       "      <td>Coursera;Udemy;Udacity</td>\n",
       "      <td>None of these</td>\n",
       "      <td>Not sure/can't remember</td>\n",
       "      <td>Employed, full-time</td>\n",
       "      <td>Data scientist or machine learning specialist</td>\n",
       "      <td>6.0</td>\n",
       "    </tr>\n",
       "    <tr>\n",
       "      <th>73266</th>\n",
       "      <td>United States of America</td>\n",
       "      <td>55-64 years old</td>\n",
       "      <td>Man</td>\n",
       "      <td>Bachelor’s degree (B.A., B.S., B.Eng., etc.)</td>\n",
       "      <td>42</td>\n",
       "      <td>33</td>\n",
       "      <td>HTML/CSS;JavaScript;PHP;Python;SQL</td>\n",
       "      <td>C#;HTML/CSS;JavaScript;PHP;Python;SQL</td>\n",
       "      <td>Udemy;Codecademy;Pluralsight;edX</td>\n",
       "      <td>None of these</td>\n",
       "      <td>Yes</td>\n",
       "      <td>Employed, full-time</td>\n",
       "      <td>Developer, full-stack;Developer, desktop or en...</td>\n",
       "      <td>42.0</td>\n",
       "    </tr>\n",
       "    <tr>\n",
       "      <th>73267</th>\n",
       "      <td>United Kingdom of Great Britain and Northern I...</td>\n",
       "      <td>55-64 years old</td>\n",
       "      <td>Man</td>\n",
       "      <td>Bachelor’s degree (B.A., B.S., B.Eng., etc.)</td>\n",
       "      <td>50</td>\n",
       "      <td>31</td>\n",
       "      <td>C#;Delphi;VBA</td>\n",
       "      <td>Delphi</td>\n",
       "      <td>NaN</td>\n",
       "      <td>NaN</td>\n",
       "      <td>Yes</td>\n",
       "      <td>Employed, full-time</td>\n",
       "      <td>Developer, front-end;Developer, desktop or ent...</td>\n",
       "      <td>NaN</td>\n",
       "    </tr>\n",
       "    <tr>\n",
       "      <th>73268</th>\n",
       "      <td>Canada</td>\n",
       "      <td>25-34 years old</td>\n",
       "      <td>Man</td>\n",
       "      <td>Bachelor’s degree (B.A., B.S., B.Eng., etc.)</td>\n",
       "      <td>16</td>\n",
       "      <td>5</td>\n",
       "      <td>C#;JavaScript;Lua;PowerShell;SQL;TypeScript</td>\n",
       "      <td>PowerShell;Rust;TypeScript</td>\n",
       "      <td>Udemy;Pluralsight</td>\n",
       "      <td>NaN</td>\n",
       "      <td>Yes</td>\n",
       "      <td>Independent contractor, freelancer, or self-em...</td>\n",
       "      <td>Developer, front-end;Engineer, data;Engineer, ...</td>\n",
       "      <td>NaN</td>\n",
       "    </tr>\n",
       "  </tbody>\n",
       "</table>\n",
       "<p>73268 rows × 14 columns</p>\n",
       "</div>"
      ],
      "text/plain": [
       "                                                      Country  \\\n",
       "ResponseId                                                      \n",
       "1                                                         NaN   \n",
       "2                                                      Canada   \n",
       "3           United Kingdom of Great Britain and Northern I...   \n",
       "4                                                      Israel   \n",
       "5                                    United States of America   \n",
       "...                                                       ...   \n",
       "73264                                                 Nigeria   \n",
       "73265                                United States of America   \n",
       "73266                                United States of America   \n",
       "73267       United Kingdom of Great Britain and Northern I...   \n",
       "73268                                                  Canada   \n",
       "\n",
       "                        Age Gender  \\\n",
       "ResponseId                           \n",
       "1                       NaN    NaN   \n",
       "2                       NaN    NaN   \n",
       "3           25-34 years old    Man   \n",
       "4           35-44 years old    Man   \n",
       "5           25-34 years old    NaN   \n",
       "...                     ...    ...   \n",
       "73264       25-34 years old    Man   \n",
       "73265       25-34 years old    Man   \n",
       "73266       55-64 years old    Man   \n",
       "73267       55-64 years old    Man   \n",
       "73268       25-34 years old    Man   \n",
       "\n",
       "                                                    EdLevel YearsCode  \\\n",
       "ResponseId                                                              \n",
       "1                                                       NaN       NaN   \n",
       "2                                                       NaN       NaN   \n",
       "3           Master’s degree (M.A., M.S., M.Eng., MBA, etc.)        14   \n",
       "4              Bachelor’s degree (B.A., B.S., B.Eng., etc.)        20   \n",
       "5              Bachelor’s degree (B.A., B.S., B.Eng., etc.)         8   \n",
       "...                                                     ...       ...   \n",
       "73264          Bachelor’s degree (B.A., B.S., B.Eng., etc.)         8   \n",
       "73265       Master’s degree (M.A., M.S., M.Eng., MBA, etc.)         6   \n",
       "73266          Bachelor’s degree (B.A., B.S., B.Eng., etc.)        42   \n",
       "73267          Bachelor’s degree (B.A., B.S., B.Eng., etc.)        50   \n",
       "73268          Bachelor’s degree (B.A., B.S., B.Eng., etc.)        16   \n",
       "\n",
       "           YearsCodePro                             LanguageHaveWorkedWith  \\\n",
       "ResponseId                                                                   \n",
       "1                   NaN                                                NaN   \n",
       "2                   NaN                              JavaScript;TypeScript   \n",
       "3                     5                  C#;C++;HTML/CSS;JavaScript;Python   \n",
       "4                    17                       C#;JavaScript;SQL;TypeScript   \n",
       "5                     3        C#;HTML/CSS;JavaScript;SQL;Swift;TypeScript   \n",
       "...                 ...                                                ...   \n",
       "73264                 5  Bash/Shell;Dart;JavaScript;PHP;Python;SQL;Type...   \n",
       "73265                 5          Bash/Shell;HTML/CSS;JavaScript;Python;SQL   \n",
       "73266                33                 HTML/CSS;JavaScript;PHP;Python;SQL   \n",
       "73267                31                                      C#;Delphi;VBA   \n",
       "73268                 5        C#;JavaScript;Lua;PowerShell;SQL;TypeScript   \n",
       "\n",
       "                                    LanguageWantToWorkWith  \\\n",
       "ResponseId                                                   \n",
       "1                                                      NaN   \n",
       "2                                          Rust;TypeScript   \n",
       "3                    C#;C++;HTML/CSS;JavaScript;TypeScript   \n",
       "4                                        C#;SQL;TypeScript   \n",
       "5               C#;Elixir;F#;Go;JavaScript;Rust;TypeScript   \n",
       "...                                                    ...   \n",
       "73264       Bash/Shell;Go;JavaScript;Python;SQL;TypeScript   \n",
       "73265                           HTML/CSS;JavaScript;Python   \n",
       "73266                C#;HTML/CSS;JavaScript;PHP;Python;SQL   \n",
       "73267                                               Delphi   \n",
       "73268                           PowerShell;Rust;TypeScript   \n",
       "\n",
       "                        LearnCodeCoursesCert  \\\n",
       "ResponseId                                     \n",
       "1                                        NaN   \n",
       "2                                        NaN   \n",
       "3                                        NaN   \n",
       "4                                        NaN   \n",
       "5                                        NaN   \n",
       "...                                      ...   \n",
       "73264                                  Udemy   \n",
       "73265                 Coursera;Udemy;Udacity   \n",
       "73266       Udemy;Codecademy;Pluralsight;edX   \n",
       "73267                                    NaN   \n",
       "73268                      Udemy;Pluralsight   \n",
       "\n",
       "                                             ProfessionalTech  \\\n",
       "ResponseId                                                      \n",
       "1                                                         NaN   \n",
       "2                                                         NaN   \n",
       "3                                                         NaN   \n",
       "4                                                         NaN   \n",
       "5                                                         NaN   \n",
       "...                                                       ...   \n",
       "73264       DevOps function;Microservices;Developer portal...   \n",
       "73265                                           None of these   \n",
       "73266                                           None of these   \n",
       "73267                                                     NaN   \n",
       "73268                                                     NaN   \n",
       "\n",
       "                          SOAccount  \\\n",
       "ResponseId                            \n",
       "1                               NaN   \n",
       "2                               Yes   \n",
       "3                               Yes   \n",
       "4                               Yes   \n",
       "5                               Yes   \n",
       "...                             ...   \n",
       "73264                           Yes   \n",
       "73265       Not sure/can't remember   \n",
       "73266                           Yes   \n",
       "73267                           Yes   \n",
       "73268                           Yes   \n",
       "\n",
       "                                                   Employment  \\\n",
       "ResponseId                                                      \n",
       "1                                                         NaN   \n",
       "2                                         Employed, full-time   \n",
       "3                                         Employed, full-time   \n",
       "4                                         Employed, full-time   \n",
       "5                                         Employed, full-time   \n",
       "...                                                       ...   \n",
       "73264                                     Employed, full-time   \n",
       "73265                                     Employed, full-time   \n",
       "73266                                     Employed, full-time   \n",
       "73267                                     Employed, full-time   \n",
       "73268       Independent contractor, freelancer, or self-em...   \n",
       "\n",
       "                                                      DevType  WorkExp  \n",
       "ResponseId                                                              \n",
       "1                                                         NaN      NaN  \n",
       "2                                                         NaN      NaN  \n",
       "3           Data scientist or machine learning specialist;...      NaN  \n",
       "4                                       Developer, full-stack      NaN  \n",
       "5           Developer, front-end;Developer, full-stack;Dev...      NaN  \n",
       "...                                                       ...      ...  \n",
       "73264                                     Developer, back-end      5.0  \n",
       "73265           Data scientist or machine learning specialist      6.0  \n",
       "73266       Developer, full-stack;Developer, desktop or en...     42.0  \n",
       "73267       Developer, front-end;Developer, desktop or ent...      NaN  \n",
       "73268       Developer, front-end;Engineer, data;Engineer, ...      NaN  \n",
       "\n",
       "[73268 rows x 14 columns]"
      ]
     },
     "execution_count": 15,
     "metadata": {},
     "output_type": "execute_result"
    }
   ],
   "source": [
    "# 위에서 만든 리스트를 활용하여 column에 대해 배열 인덱싱\n",
    "# 얻어진 결과를 survey_raw_df로부터 분리하여 작업하고자 copy() 메서드를 통해 새롭게 복사\n",
    "\n",
    "survey_df = survey_raw_df[selected_columns].copy()\n",
    "survey_df"
   ]
  },
  {
   "cell_type": "code",
   "execution_count": 16,
   "id": "2e7f99be-feb2-4982-b58b-601fcdfabf43",
   "metadata": {},
   "outputs": [
    {
     "name": "stdout",
     "output_type": "stream",
     "text": [
      "<class 'pandas.core.frame.DataFrame'>\n",
      "Int64Index: 73268 entries, 1 to 73268\n",
      "Data columns (total 14 columns):\n",
      " #   Column                  Non-Null Count  Dtype  \n",
      "---  ------                  --------------  -----  \n",
      " 0   Country                 71771 non-null  object \n",
      " 1   Age                     70946 non-null  object \n",
      " 2   Gender                  70853 non-null  object \n",
      " 3   EdLevel                 71571 non-null  object \n",
      " 4   YearsCode               71331 non-null  object \n",
      " 5   YearsCodePro            51833 non-null  object \n",
      " 6   LanguageHaveWorkedWith  70975 non-null  object \n",
      " 7   LanguageWantToWorkWith  67027 non-null  object \n",
      " 8   LearnCodeCoursesCert    29389 non-null  object \n",
      " 9   ProfessionalTech        34906 non-null  object \n",
      " 10  SOAccount               71572 non-null  object \n",
      " 11  Employment              71709 non-null  object \n",
      " 12  DevType                 61302 non-null  object \n",
      " 13  WorkExp                 36769 non-null  float64\n",
      "dtypes: float64(1), object(13)\n",
      "memory usage: 8.4+ MB\n"
     ]
    }
   ],
   "source": [
    "survey_df.info()"
   ]
  },
  {
   "cell_type": "code",
   "execution_count": 17,
   "id": "bd878bb7-b10e-4a72-8f03-5885dfddfbe0",
   "metadata": {},
   "outputs": [
    {
     "name": "stdout",
     "output_type": "stream",
     "text": [
      "Including any education, how many years have you been coding in total?\n"
     ]
    }
   ],
   "source": [
    "print(schema_raw['YearsCode'])"
   ]
  },
  {
   "cell_type": "code",
   "execution_count": 18,
   "id": "93323c20-2182-4948-a74f-bed35734fcf6",
   "metadata": {},
   "outputs": [
    {
     "data": {
      "text/plain": [
       "10                    5217\n",
       "5                     5193\n",
       "6                     4651\n",
       "4                     4480\n",
       "7                     4237\n",
       "8                     4227\n",
       "3                     4122\n",
       "2                     3351\n",
       "12                    2995\n",
       "15                    2962\n",
       "20                    2659\n",
       "9                     2581\n",
       "11                    1819\n",
       "14                    1811\n",
       "13                    1624\n",
       "25                    1582\n",
       "1                     1566\n",
       "Less than 1 year      1413\n",
       "16                    1406\n",
       "30                    1330\n",
       "22                    1176\n",
       "18                    1150\n",
       "17                    1080\n",
       "40                     777\n",
       "24                     752\n",
       "35                     742\n",
       "23                     644\n",
       "19                     563\n",
       "26                     489\n",
       "27                     485\n",
       "21                     483\n",
       "28                     425\n",
       "32                     371\n",
       "38                     288\n",
       "37                     277\n",
       "34                     241\n",
       "36                     236\n",
       "33                     229\n",
       "42                     216\n",
       "29                     208\n",
       "More than 50 years     172\n",
       "31                     170\n",
       "45                     167\n",
       "39                     159\n",
       "41                     143\n",
       "43                     115\n",
       "44                     104\n",
       "50                      68\n",
       "46                      57\n",
       "47                      42\n",
       "48                      41\n",
       "49                      35\n",
       "Name: YearsCode, dtype: int64"
      ]
     },
     "execution_count": 18,
     "metadata": {},
     "output_type": "execute_result"
    }
   ],
   "source": [
    "survey_df['YearsCode'].value_counts()"
   ]
  },
  {
   "cell_type": "code",
   "execution_count": 19,
   "id": "5cfa3cec-9a30-4d91-b032-c012eb41cd4c",
   "metadata": {},
   "outputs": [
    {
     "data": {
      "text/plain": [
       "1937"
      ]
     },
     "execution_count": 19,
     "metadata": {},
     "output_type": "execute_result"
    }
   ],
   "source": [
    "# 연습문제\n",
    "# 해당 column(Series)이 NaN 값을 얼마나 갖는지 확인하기 위한 함수\n",
    "\n",
    "def count_nan(Series):\n",
    "    return len(Series)-Series.count()\n",
    "\n",
    "count_nan(survey_df['YearsCode'])"
   ]
  },
  {
   "cell_type": "code",
   "execution_count": 20,
   "id": "facf5a7d-9eff-416b-a0b9-11c7740a816d",
   "metadata": {},
   "outputs": [],
   "source": [
    "# replace() 메서드"
   ]
  },
  {
   "cell_type": "code",
   "execution_count": 21,
   "id": "6c3342f8-0536-4d7d-b6e4-914a15ce361e",
   "metadata": {},
   "outputs": [],
   "source": [
    "# YearsCode의 'Less than 1 year'의 값은 0으로 변경\n",
    "# 'More than 50 years'의 값은 51로 변경\n",
    "\n",
    "survey_df['YearsCode'].replace('Less than 1 year', 0, inplace=True)\n",
    "survey_df['YearsCode'].replace('More than 50 years', 51, inplace=True)\n",
    "survey_df['YearsCode'] = survey_df['YearsCode'].astype('float')"
   ]
  },
  {
   "cell_type": "code",
   "execution_count": 22,
   "id": "9cd2b4ca-403a-4844-9b85-8b20914c979b",
   "metadata": {},
   "outputs": [
    {
     "name": "stdout",
     "output_type": "stream",
     "text": [
      "NOT including education, how many years have you coded professionally (as a part of your work)?\n"
     ]
    }
   ],
   "source": [
    "print(schema_raw['YearsCodePro'])"
   ]
  },
  {
   "cell_type": "code",
   "execution_count": 23,
   "id": "52d1248a-dff0-45d5-9132-d2f3568e76e4",
   "metadata": {},
   "outputs": [
    {
     "data": {
      "text/plain": [
       "21435"
      ]
     },
     "execution_count": 23,
     "metadata": {},
     "output_type": "execute_result"
    }
   ],
   "source": [
    "count_nan(survey_df['YearsCodePro'])"
   ]
  },
  {
   "cell_type": "code",
   "execution_count": 24,
   "id": "ddec99da-80dc-43e8-a000-2b0c459f275b",
   "metadata": {},
   "outputs": [
    {
     "data": {
      "text/plain": [
       "3                     4261\n",
       "5                     4057\n",
       "2                     3945\n",
       "4                     3884\n",
       "10                    3333\n",
       "6                     3184\n",
       "7                     2760\n",
       "8                     2646\n",
       "1                     2644\n",
       "Less than 1 year      1972\n",
       "15                    1822\n",
       "12                    1711\n",
       "9                     1583\n",
       "20                    1472\n",
       "11                    1369\n",
       "14                    1048\n",
       "22                     933\n",
       "16                     921\n",
       "13                     914\n",
       "25                     877\n",
       "18                     787\n",
       "17                     723\n",
       "30                     568\n",
       "23                     463\n",
       "24                     454\n",
       "21                     429\n",
       "19                     380\n",
       "26                     320\n",
       "27                     286\n",
       "35                     266\n",
       "28                     254\n",
       "32                     223\n",
       "40                     175\n",
       "29                     126\n",
       "33                     122\n",
       "31                     121\n",
       "34                     113\n",
       "36                     111\n",
       "37                     100\n",
       "38                      96\n",
       "42                      67\n",
       "45                      52\n",
       "39                      51\n",
       "41                      42\n",
       "More than 50 years      41\n",
       "43                      31\n",
       "44                      26\n",
       "46                      19\n",
       "48                      18\n",
       "50                      14\n",
       "47                      10\n",
       "49                       9\n",
       "Name: YearsCodePro, dtype: int64"
      ]
     },
     "execution_count": 24,
     "metadata": {},
     "output_type": "execute_result"
    }
   ],
   "source": [
    "survey_df['YearsCodePro'].value_counts()"
   ]
  },
  {
   "cell_type": "code",
   "execution_count": 25,
   "id": "b36974d1-d5ea-4595-b879-aa11f0472ee3",
   "metadata": {},
   "outputs": [],
   "source": [
    "survey_df['YearsCodePro'].replace('Less than 1 year', 0, inplace=True)\n",
    "survey_df['YearsCodePro'].replace('More than 50 years', 51, inplace=True)\n",
    "survey_df['YearsCodePro'] = survey_df['YearsCodePro'].astype('float')"
   ]
  },
  {
   "cell_type": "code",
   "execution_count": 26,
   "id": "693d6ef5-9c0e-454b-95b6-22e42a5d77f0",
   "metadata": {},
   "outputs": [
    {
     "data": {
      "text/html": [
       "<div>\n",
       "<style scoped>\n",
       "    .dataframe tbody tr th:only-of-type {\n",
       "        vertical-align: middle;\n",
       "    }\n",
       "\n",
       "    .dataframe tbody tr th {\n",
       "        vertical-align: top;\n",
       "    }\n",
       "\n",
       "    .dataframe thead th {\n",
       "        text-align: right;\n",
       "    }\n",
       "</style>\n",
       "<table border=\"1\" class=\"dataframe\">\n",
       "  <thead>\n",
       "    <tr style=\"text-align: right;\">\n",
       "      <th></th>\n",
       "      <th>YearsCode</th>\n",
       "      <th>YearsCodePro</th>\n",
       "      <th>WorkExp</th>\n",
       "    </tr>\n",
       "  </thead>\n",
       "  <tbody>\n",
       "    <tr>\n",
       "      <th>count</th>\n",
       "      <td>71331.000000</td>\n",
       "      <td>51833.000000</td>\n",
       "      <td>36769.000000</td>\n",
       "    </tr>\n",
       "    <tr>\n",
       "      <th>mean</th>\n",
       "      <td>12.251307</td>\n",
       "      <td>9.910270</td>\n",
       "      <td>10.242378</td>\n",
       "    </tr>\n",
       "    <tr>\n",
       "      <th>std</th>\n",
       "      <td>9.952419</td>\n",
       "      <td>8.712048</td>\n",
       "      <td>8.706850</td>\n",
       "    </tr>\n",
       "    <tr>\n",
       "      <th>min</th>\n",
       "      <td>0.000000</td>\n",
       "      <td>0.000000</td>\n",
       "      <td>0.000000</td>\n",
       "    </tr>\n",
       "    <tr>\n",
       "      <th>25%</th>\n",
       "      <td>5.000000</td>\n",
       "      <td>4.000000</td>\n",
       "      <td>4.000000</td>\n",
       "    </tr>\n",
       "    <tr>\n",
       "      <th>50%</th>\n",
       "      <td>9.000000</td>\n",
       "      <td>7.000000</td>\n",
       "      <td>8.000000</td>\n",
       "    </tr>\n",
       "    <tr>\n",
       "      <th>75%</th>\n",
       "      <td>16.000000</td>\n",
       "      <td>14.000000</td>\n",
       "      <td>15.000000</td>\n",
       "    </tr>\n",
       "    <tr>\n",
       "      <th>max</th>\n",
       "      <td>51.000000</td>\n",
       "      <td>51.000000</td>\n",
       "      <td>50.000000</td>\n",
       "    </tr>\n",
       "  </tbody>\n",
       "</table>\n",
       "</div>"
      ],
      "text/plain": [
       "          YearsCode  YearsCodePro       WorkExp\n",
       "count  71331.000000  51833.000000  36769.000000\n",
       "mean      12.251307      9.910270     10.242378\n",
       "std        9.952419      8.712048      8.706850\n",
       "min        0.000000      0.000000      0.000000\n",
       "25%        5.000000      4.000000      4.000000\n",
       "50%        9.000000      7.000000      8.000000\n",
       "75%       16.000000     14.000000     15.000000\n",
       "max       51.000000     51.000000     50.000000"
      ]
     },
     "execution_count": 26,
     "metadata": {},
     "output_type": "execute_result"
    }
   ],
   "source": [
    "# 수치형 데이터들의 값의 분포 확인\n",
    "# 범위마다 표현되는 값이 정수 -> 데이터 값이 정수 값\n",
    "\n",
    "survey_df.describe()"
   ]
  },
  {
   "cell_type": "code",
   "execution_count": 27,
   "id": "9ebd8d2d-fd9d-40a1-bdcf-5774236ffa0e",
   "metadata": {},
   "outputs": [],
   "source": [
    "# to_numeric() 메서드"
   ]
  },
  {
   "cell_type": "code",
   "execution_count": 28,
   "id": "9e7afc7d-0b36-4b81-8846-315cb66d8853",
   "metadata": {},
   "outputs": [],
   "source": [
    "# \"Less than 1 year\", \"More than 50 years\"의 값을 NaN으로 처리\n",
    "# errors='coerce': 숫자로 바꿀 수 없는 값을 NaN으로 처리\n",
    "\n",
    "survey_df['YearsCode'] = pd.to_numeric(survey_df.YearsCode, errors='coerce')\n",
    "survey_df['YearsCodePro'] = pd.to_numeric(survey_df.YearsCodePro, errors='coerce')"
   ]
  },
  {
   "cell_type": "code",
   "execution_count": 29,
   "id": "630cdbc4-6a7d-4a0c-98d4-37b3d995d0f9",
   "metadata": {},
   "outputs": [
    {
     "data": {
      "text/plain": [
       "'Which of the following describe you, if any? Please check all that apply.'"
      ]
     },
     "execution_count": 29,
     "metadata": {},
     "output_type": "execute_result"
    }
   ],
   "source": [
    "schema_raw['Gender']"
   ]
  },
  {
   "cell_type": "code",
   "execution_count": 30,
   "id": "376f3273-5e48-46d0-ab30-259a824d0535",
   "metadata": {},
   "outputs": [
    {
     "data": {
      "text/plain": [
       "Man                                                                                   64607\n",
       "Woman                                                                                  3399\n",
       "Prefer not to say                                                                      1172\n",
       "Non-binary, genderqueer, or gender non-conforming                                       704\n",
       "Or, in your own words:                                                                  279\n",
       "Man;Non-binary, genderqueer, or gender non-conforming                                   235\n",
       "Man;Or, in your own words:                                                              171\n",
       "Woman;Non-binary, genderqueer, or gender non-conforming                                 160\n",
       "Man;Woman;Non-binary, genderqueer, or gender non-conforming                              31\n",
       "Man;Woman                                                                                24\n",
       "Man;Or, in your own words:;Woman;Non-binary, genderqueer, or gender non-conforming       18\n",
       "Or, in your own words:;Woman;Non-binary, genderqueer, or gender non-conforming           15\n",
       "Or, in your own words:;Non-binary, genderqueer, or gender non-conforming                 14\n",
       "Or, in your own words:;Woman                                                             13\n",
       "Man;Or, in your own words:;Non-binary, genderqueer, or gender non-conforming              9\n",
       "Man;Or, in your own words:;Woman                                                          2\n",
       "Name: Gender, dtype: int64"
      ]
     },
     "execution_count": 30,
     "metadata": {},
     "output_type": "execute_result"
    }
   ],
   "source": [
    "# 둘 이상의 조건을 고를 경우에 대해 구분자로 ‘;’를 사용하여 값을 입력 받아 저장하고 있음\n",
    "\n",
    "survey_df['Gender'].value_counts()"
   ]
  },
  {
   "cell_type": "code",
   "execution_count": 31,
   "id": "335eb68a-3b7c-4a66-9361-3ab75d95c576",
   "metadata": {},
   "outputs": [],
   "source": [
    "# contains() 메서드\n",
    "\n",
    "# 첫 인자: 포함된 것을 찾을 문자열 \n",
    "# np.nan 값이 섞인 Series 자료형에 대해 특정 문자 값이 포함되었는지 확인\n",
    "# na 키워드 인수를 활용하면 NaN 값을 대신할 값을 넣을 수 있음"
   ]
  },
  {
   "cell_type": "code",
   "execution_count": 32,
   "id": "0b488048-247a-4a90-b820-bbfe9d53fd87",
   "metadata": {},
   "outputs": [],
   "source": [
    "# where() 메서드\n",
    "\n",
    "# 첫 인자: bool Series\n",
    "# Series의 각 row의 값이 False인 경우에, 두번째 인수로 넘겨준 값으로 변경"
   ]
  },
  {
   "cell_type": "code",
   "execution_count": 33,
   "id": "e34a21ee-25b3-4192-b50b-9deafee66799",
   "metadata": {},
   "outputs": [],
   "source": [
    "# ‘;’를 포함하는 row를 NaN 값으로 변경\n",
    "# ‘~’(비트 연산자): Series 자료형의 벡터화 연산을 위해 True를 False로 False는 True로 반전\n",
    "\n",
    "survey_df.where(~(survey_df['Gender'].str.contains(';', na=False)), np.nan, inplace=True)"
   ]
  },
  {
   "cell_type": "code",
   "execution_count": 34,
   "id": "ae09f304-b4e7-4194-b1ab-bc3e58128128",
   "metadata": {},
   "outputs": [
    {
     "data": {
      "text/plain": [
       "Man                                                  64607\n",
       "Woman                                                 3399\n",
       "Prefer not to say                                     1172\n",
       "Non-binary, genderqueer, or gender non-conforming      704\n",
       "Or, in your own words:                                 279\n",
       "Name: Gender, dtype: int64"
      ]
     },
     "execution_count": 34,
     "metadata": {},
     "output_type": "execute_result"
    }
   ],
   "source": [
    "survey_df['Gender'].value_counts()"
   ]
  },
  {
   "cell_type": "markdown",
   "id": "26612423-759e-463a-b8f9-fbe9a02a3085",
   "metadata": {
    "tags": []
   },
   "source": [
    "# 데이터 시각화"
   ]
  },
  {
   "cell_type": "code",
   "execution_count": 35,
   "id": "30a43904-ada7-41a4-8431-08ce8169bf13",
   "metadata": {},
   "outputs": [],
   "source": [
    "# set_style() 메서드\n",
    "\n",
    "sns.set_style('darkgrid')                        # 그림의 스타일을 일괄 적용\n",
    "mpl.rcParams['font.size'] = 14                   # font.size: 기본 폰트의 크기를 적용\n",
    "mpl.rcParams['figure.figsize'] = (9, 5)          # figure.figsize: 기본 figure의 사이즈를 적용\n",
    "mpl.rcParams['figure.facecolor'] = '#ffffff'     # figure.facecolor: 기본 figure 내 배경 색상을 흰색(#ffffff)으로 적용\n",
    "mpl.rcParams['axes.facecolor'] = 'white'         # axes.facecolor: Axes의 배경 색상을 지정"
   ]
  },
  {
   "cell_type": "code",
   "execution_count": 36,
   "id": "91c0f2b0-64a8-405d-9193-33f8c0ce1733",
   "metadata": {},
   "outputs": [
    {
     "name": "stdout",
     "output_type": "stream",
     "text": [
      "['Solarize_Light2', '_classic_test_patch', '_mpl-gallery', '_mpl-gallery-nogrid', 'bmh', 'classic', 'dark_background', 'fast', 'fivethirtyeight', 'ggplot', 'grayscale', 'seaborn', 'seaborn-bright', 'seaborn-colorblind', 'seaborn-dark', 'seaborn-dark-palette', 'seaborn-darkgrid', 'seaborn-deep', 'seaborn-muted', 'seaborn-notebook', 'seaborn-paper', 'seaborn-pastel', 'seaborn-poster', 'seaborn-talk', 'seaborn-ticks', 'seaborn-white', 'seaborn-whitegrid', 'tableau-colorblind10']\n"
     ]
    }
   ],
   "source": [
    "# plt.style.available: matplotlib.pyplot에 style을 적용할 수 있는 것들에 대한 리스트 조회\n",
    "\n",
    "print(plt.style.available)    "
   ]
  },
  {
   "cell_type": "code",
   "execution_count": 37,
   "id": "4a0109d3-234d-48e0-bd14-7dd2c82589e8",
   "metadata": {},
   "outputs": [],
   "source": [
    "# plt.style.use(\"원하는스타일\"): 스타일을 적용\n",
    "# \"default\" 값을 인수로 쓰면 스타일을 적용하기 전 원래의 스타일로 적용\n",
    "\n",
    "plt.style.use('default')"
   ]
  },
  {
   "cell_type": "code",
   "execution_count": 38,
   "id": "ac5d2301-353b-4f77-8ae2-8d57d8d119fd",
   "metadata": {},
   "outputs": [],
   "source": [
    "# use() 메서드에 plt.style.available 속성으로 얻은 리스트의 요소를 넣어주면 그에 해당하는 스타일이 적용됨\n",
    "\n",
    "plt.style.use('seaborn-whitegrid')"
   ]
  },
  {
   "cell_type": "code",
   "execution_count": 39,
   "id": "6455ff4a-15ac-4607-b9ee-b0cdb9101594",
   "metadata": {},
   "outputs": [
    {
     "data": {
      "image/png": "[encoded data removed]",
      "text/plain": [
       "<Figure size 640x480 with 1 Axes>"
      ]
     },
     "metadata": {},
     "output_type": "display_data"
    }
   ],
   "source": [
    "plt.plot(range(10))\n",
    "plt.show()"
   ]
  },
  {
   "cell_type": "code",
   "execution_count": 40,
   "id": "a950599d-2de5-427f-978e-b5c34b0f1dc9",
   "metadata": {},
   "outputs": [
    {
     "data": {
      "text/plain": [
       "'Where do you live? <span style=\"font-weight: bolder;\">*</span>'"
      ]
     },
     "execution_count": 40,
     "metadata": {},
     "output_type": "execute_result"
    }
   ],
   "source": [
    "schema_raw['Country']"
   ]
  },
  {
   "cell_type": "code",
   "execution_count": 41,
   "id": "8f5ab33e-d7ae-4c71-97c0-31111c96c81d",
   "metadata": {},
   "outputs": [
    {
     "data": {
      "text/plain": [
       "array([nan, 'Canada',\n",
       "       'United Kingdom of Great Britain and Northern Ireland', 'Israel',\n",
       "       'United States of America', 'Germany', 'India', 'Netherlands',\n",
       "       'Croatia', 'Australia', 'Russian Federation', 'Czech Republic',\n",
       "       'Austria', 'Serbia', 'Italy', 'Ireland', 'Poland', 'Slovenia',\n",
       "       'Iraq', 'Sweden', 'Madagascar', 'Norway', 'Taiwan',\n",
       "       'Hong Kong (S.A.R.)', 'Mexico', 'France', 'Brazil', 'Lithuania',\n",
       "       'Uruguay', 'Denmark', 'Spain', 'Egypt', 'Turkey', 'South Africa',\n",
       "       'Ukraine', 'Finland', 'Romania', 'Portugal', 'Singapore', 'Oman',\n",
       "       'Belgium', 'Chile', 'Bulgaria', 'Latvia', 'Philippines', 'Greece',\n",
       "       'Belarus', 'Saudi Arabia', 'Kenya', 'Switzerland', 'Iceland',\n",
       "       'Viet Nam', 'Thailand', 'China', 'Montenegro', 'Slovakia', 'Japan',\n",
       "       'Luxembourg', 'Turkmenistan', 'Argentina', 'Hungary', 'Tunisia',\n",
       "       'Bangladesh', 'Maldives', 'Dominican Republic', 'Jordan',\n",
       "       'Pakistan', 'Nepal', 'Iran, Islamic Republic of...', 'Indonesia',\n",
       "       'Ecuador', 'Bosnia and Herzegovina', 'Armenia', 'Colombia',\n",
       "       'Kazakhstan', 'South Korea', 'Costa Rica', 'Honduras', 'Mauritius',\n",
       "       'Estonia', 'Algeria', 'Trinidad and Tobago', 'Mali', 'Morocco',\n",
       "       'Swaziland', 'New Zealand',\n",
       "       'The former Yugoslav Republic of Macedonia', 'Afghanistan',\n",
       "       'Cyprus', 'United Arab Emirates', 'Peru', 'Uzbekistan', 'Ethiopia',\n",
       "       'Bahrain', 'Malta', 'Nicaragua', 'Andorra', 'Republic of Korea',\n",
       "       'Lebanon', 'Belize', 'Zambia', 'Bolivia', 'Malaysia', 'Sri Lanka',\n",
       "       \"Lao People's Democratic Republic\", 'Guatemala', 'Azerbaijan',\n",
       "       'Suriname', 'El Salvador', 'Syrian Arab Republic', 'Qatar',\n",
       "       'Nigeria', 'Kyrgyzstan', 'Zimbabwe', 'Rwanda', 'Georgia',\n",
       "       'Cambodia', 'Malawi', 'Yemen', 'Fiji', 'Nomadic', 'Uganda',\n",
       "       'Albania', 'Timor-Leste', 'Mongolia', 'Republic of Moldova',\n",
       "       'Tajikistan', 'Ghana', 'United Republic of Tanzania', 'Myanmar',\n",
       "       'Kuwait', 'Cameroon', 'Kosovo', 'Jamaica', 'Benin', 'Botswana',\n",
       "       'Niger', 'Palestine', 'Cape Verde', 'Libyan Arab Jamahiriya',\n",
       "       'Venezuela, Bolivarian Republic of...', 'Senegal', 'Cuba', 'Togo',\n",
       "       'Angola', 'Isle of Man', 'Panama', 'Bahamas', 'Paraguay', 'Sudan',\n",
       "       'Liberia', 'Bhutan', 'Democratic Republic of the Congo',\n",
       "       \"Côte d'Ivoire\", 'Barbados', 'Congo, Republic of the...',\n",
       "       'Namibia', 'Sierra Leone', 'Mozambique', 'Lesotho', 'Chad',\n",
       "       'North Korea', 'Antigua and Barbuda', 'Papua New Guinea', 'Palau',\n",
       "       'Somalia', 'Guinea', 'Haiti', 'Gabon', 'Mauritania', 'San Marino',\n",
       "       'Guyana', 'Saint Lucia', 'Burkina Faso', 'Brunei Darussalam',\n",
       "       'Gambia', 'Monaco', 'Djibouti', 'Seychelles', 'Solomon Islands',\n",
       "       'Saint Kitts and Nevis'], dtype=object)"
      ]
     },
     "execution_count": 41,
     "metadata": {},
     "output_type": "execute_result"
    }
   ],
   "source": [
    "survey_df['Country'].unique()"
   ]
  },
  {
   "cell_type": "code",
   "execution_count": 42,
   "id": "58eb63be-0a59-4cf7-8ad6-d96a10b0aea0",
   "metadata": {},
   "outputs": [
    {
     "data": {
      "text/plain": [
       "180"
      ]
     },
     "execution_count": 42,
     "metadata": {},
     "output_type": "execute_result"
    }
   ],
   "source": [
    "survey_df[\"Country\"].nunique()"
   ]
  },
  {
   "cell_type": "code",
   "execution_count": 43,
   "id": "2ed62366-5859-41ce-88fc-1b9c88e6b73c",
   "metadata": {},
   "outputs": [
    {
     "data": {
      "text/plain": [
       "United States of America                                13321\n",
       "India                                                    6618\n",
       "Germany                                                  5342\n",
       "United Kingdom of Great Britain and Northern Ireland     4132\n",
       "Canada                                                   2459\n",
       "France                                                   2306\n",
       "Brazil                                                   2088\n",
       "Poland                                                   1719\n",
       "Netherlands                                              1539\n",
       "Spain                                                    1511\n",
       "Italy                                                    1504\n",
       "Australia                                                1449\n",
       "Russian Federation                                       1215\n",
       "Turkey                                                   1014\n",
       "Sweden                                                   1008\n",
       "Name: Country, dtype: int64"
      ]
     },
     "execution_count": 43,
     "metadata": {},
     "output_type": "execute_result"
    }
   ],
   "source": [
    "# 설문 응답자가 속한 국가 중 응답자 수 상위 15개 국가\n",
    "\n",
    "top_countries = survey_df[\"Country\"].value_counts().head(15)\n",
    "top_countries"
   ]
  },
  {
   "cell_type": "code",
   "execution_count": 44,
   "id": "8151cc6e-e414-4a4c-9ad9-4fbe453c4631",
   "metadata": {},
   "outputs": [],
   "source": [
    "sns.set_style('darkgrid')                        \n",
    "mpl.rcParams['font.size'] = 14                   \n",
    "mpl.rcParams['figure.figsize'] = (9, 5)          "
   ]
  },
  {
   "cell_type": "code",
   "execution_count": 45,
   "id": "39f6c666-e0fe-4a37-a3bd-f085e883caf4",
   "metadata": {},
   "outputs": [
    {
     "name": "stdout",
     "output_type": "stream",
     "text": [
      "['NanumBarunGothicOTF']\n"
     ]
    }
   ],
   "source": [
    "mpl.rcParams['font.family'] = 'NanumBarunGothicOTF'\n",
    "print(mpl.rcParams['font.family'])"
   ]
  },
  {
   "cell_type": "code",
   "execution_count": 46,
   "id": "f73240c5-a982-4391-8220-1c83103dbd85",
   "metadata": {},
   "outputs": [
    {
     "data": {
      "text/plain": [
       "Text(0.5, 1.0, '응답자의 지역')"
      ]
     },
     "execution_count": 46,
     "metadata": {},
     "output_type": "execute_result"
    },
    {
     "data": {
      "image/png": "[encoded data removed]",
      "text/plain": [
       "<Figure size 900x500 with 1 Axes>"
      ]
     },
     "metadata": {},
     "output_type": "display_data"
    }
   ],
   "source": [
    "sns.barplot(data=survey_df, x=top_countries.index, y=top_countries)\n",
    "plt.xticks(rotation=90)\n",
    "plt.ylabel(\"응답자의 수\")\n",
    "plt.title(\"응답자의 지역\")"
   ]
  },
  {
   "cell_type": "code",
   "execution_count": 47,
   "id": "b30df2a8-2cb5-4d2c-a9cf-6f6c2efbf798",
   "metadata": {},
   "outputs": [],
   "source": [
    "# 그래프 해석\n",
    "\n",
    "# Stack Overflow Annual Developer Survey가 영어로 진행\n",
    "# 응답자의 비율이 미국과 인도에서 불균형적으로 높음\n",
    "# 이 설문 조사는 특히 비영어권 국가의 글로벌 프로그래밍 커뮤니티를 대표하지 않을 수 있음"
   ]
  },
  {
   "cell_type": "code",
   "execution_count": 48,
   "id": "3dbaed8d-d900-4648-80c2-9160f99bf8bc",
   "metadata": {},
   "outputs": [
    {
     "data": {
      "text/plain": [
       "'What is your age?'"
      ]
     },
     "execution_count": 48,
     "metadata": {},
     "output_type": "execute_result"
    }
   ],
   "source": [
    "schema_raw['Age']"
   ]
  },
  {
   "cell_type": "code",
   "execution_count": 49,
   "id": "3ca014f2-9048-4e6f-bb63-2f3a88e5082d",
   "metadata": {},
   "outputs": [
    {
     "name": "stdout",
     "output_type": "stream",
     "text": [
      "<class 'pandas.core.frame.DataFrame'>\n",
      "Int64Index: 73268 entries, 1 to 73268\n",
      "Data columns (total 14 columns):\n",
      " #   Column                  Non-Null Count  Dtype  \n",
      "---  ------                  --------------  -----  \n",
      " 0   Country                 71079 non-null  object \n",
      " 1   Age                     70257 non-null  object \n",
      " 2   Gender                  70161 non-null  object \n",
      " 3   EdLevel                 70879 non-null  object \n",
      " 4   YearsCode               70645 non-null  float64\n",
      " 5   YearsCodePro            51431 non-null  float64\n",
      " 6   LanguageHaveWorkedWith  70292 non-null  object \n",
      " 7   LanguageWantToWorkWith  66370 non-null  object \n",
      " 8   LearnCodeCoursesCert    29169 non-null  object \n",
      " 9   ProfessionalTech        34626 non-null  object \n",
      " 10  SOAccount               70880 non-null  object \n",
      " 11  Employment              71020 non-null  object \n",
      " 12  DevType                 60761 non-null  object \n",
      " 13  WorkExp                 36478 non-null  float64\n",
      "dtypes: float64(3), object(11)\n",
      "memory usage: 8.4+ MB\n"
     ]
    }
   ],
   "source": [
    "survey_df.info()"
   ]
  },
  {
   "cell_type": "code",
   "execution_count": 50,
   "id": "0c863796-5a6a-46bc-8b1c-9cc46a2cbb04",
   "metadata": {},
   "outputs": [
    {
     "data": {
      "text/plain": [
       "3011"
      ]
     },
     "execution_count": 50,
     "metadata": {},
     "output_type": "execute_result"
    }
   ],
   "source": [
    "# Age data 내부에 NaN값이 3,011개가 있다.\n",
    "\n",
    "count_nan(survey_df['Age'])"
   ]
  },
  {
   "cell_type": "code",
   "execution_count": 51,
   "id": "ca0c636a-705e-465d-b9a0-205d8b03c2c4",
   "metadata": {},
   "outputs": [
    {
     "data": {
      "text/plain": [
       "25-34 years old       27878\n",
       "18-24 years old       16455\n",
       "35-44 years old       13866\n",
       "45-54 years old        5250\n",
       "Under 18 years old     3775\n",
       "55-64 years old        1974\n",
       "65 years or older       547\n",
       "Prefer not to say       512\n",
       "Name: Age, dtype: int64"
      ]
     },
     "execution_count": 51,
     "metadata": {},
     "output_type": "execute_result"
    }
   ],
   "source": [
    "# Age의 데이터의 분포를 보면 숫자가 아닌 범주형의 데이터이다.\n",
    "\n",
    "age_counts = survey_df['Age'].value_counts()\n",
    "age_counts"
   ]
  },
  {
   "cell_type": "code",
   "execution_count": 52,
   "id": "6b5dc976-0ea6-4ea3-8671-53d85d989b33",
   "metadata": {},
   "outputs": [
    {
     "data": {
      "text/plain": [
       "array([nan, '25-34 years old', '35-44 years old', 'Under 18 years old',\n",
       "       '18-24 years old', '45-54 years old', '55-64 years old',\n",
       "       '65 years or older', 'Prefer not to say'], dtype=object)"
      ]
     },
     "execution_count": 52,
     "metadata": {},
     "output_type": "execute_result"
    }
   ],
   "source": [
    "survey_df['Age'].unique()"
   ]
  },
  {
   "cell_type": "code",
   "execution_count": 53,
   "id": "7dd4c6d8-b4f9-49fa-bef4-521a06d95b89",
   "metadata": {},
   "outputs": [
    {
     "data": {
      "text/plain": [
       "8"
      ]
     },
     "execution_count": 53,
     "metadata": {},
     "output_type": "execute_result"
    }
   ],
   "source": [
    "# 범주의 개수는 8개\n",
    "\n",
    "survey_df['Age'].nunique()"
   ]
  },
  {
   "cell_type": "code",
   "execution_count": 55,
   "id": "bf8eba87-4ff6-48bd-90dc-e346921e4df8",
   "metadata": {},
   "outputs": [
    {
     "data": {
      "image/png": "[encoded data removed]",
      "text/plain": [
       "<Figure size 900x500 with 1 Axes>"
      ]
     },
     "metadata": {},
     "output_type": "display_data"
    }
   ],
   "source": [
    "sns.barplot(x=age_counts.index, y=age_counts.values, \n",
    "            order=['Under 18 years old',\n",
    "                   '18-24 years old',\n",
    "                   '25-34 years old', \n",
    "                   '35-44 years old',\n",
    "                   '45-54 years old', \n",
    "                   '55-64 years old',\n",
    "                   '65 years or older',\n",
    "                   'Prefer not to say'\n",
    "                  ])\n",
    "plt.xticks(rotation=90)\n",
    "plt.ylabel(\"응답자의 수\")\n",
    "plt.title(schema_raw['Age'])\n",
    "plt.show()"
   ]
  },
  {
   "cell_type": "code",
   "execution_count": 58,
   "id": "8102c3e3-bc99-4da3-9745-3596358354b3",
   "metadata": {},
   "outputs": [],
   "source": [
    "# 성별에 대한 응답 분포"
   ]
  },
  {
   "cell_type": "code",
   "execution_count": 56,
   "id": "b65f1396-791f-46c9-a030-5752a7e08ac0",
   "metadata": {},
   "outputs": [
    {
     "data": {
      "text/plain": [
       "'Which of the following describe you, if any? Please check all that apply.'"
      ]
     },
     "execution_count": 56,
     "metadata": {},
     "output_type": "execute_result"
    }
   ],
   "source": [
    "schema_raw.Gender"
   ]
  },
  {
   "cell_type": "code",
   "execution_count": 57,
   "id": "de90bdae-987f-4c28-a24d-a0f9ae52d5db",
   "metadata": {},
   "outputs": [
    {
     "data": {
      "text/plain": [
       "Man                                                  0.920839\n",
       "Woman                                                0.048446\n",
       "Prefer not to say                                    0.016704\n",
       "Non-binary, genderqueer, or gender non-conforming    0.010034\n",
       "Or, in your own words:                               0.003977\n",
       "Name: Gender, dtype: float64"
      ]
     },
     "execution_count": 57,
     "metadata": {},
     "output_type": "execute_result"
    }
   ],
   "source": [
    "gender_counts = survey_df['Gender'].value_counts(True)\n",
    "gender_counts"
   ]
  },
  {
   "cell_type": "code",
   "execution_count": 88,
   "id": "50d10f2b-0060-4b1c-85b2-c92bfe12e55e",
   "metadata": {},
   "outputs": [
    {
     "data": {
      "image/png": "[encoded data removed]",
      "text/plain": [
       "<Figure size 900x500 with 1 Axes>"
      ]
     },
     "metadata": {},
     "output_type": "display_data"
    }
   ],
   "source": [
    "explode = [0.05, 0.05, 0.05, 0.05, 0.05]\n",
    "colors = ['#ff9999', '#ffc000', '#8fd9b6', '#d395d0']\n",
    "\n",
    "plt.pie(gender_counts, \n",
    "        labels=gender_counts.index, \n",
    "        autopct='%.1f%%', \n",
    "        startangle=180,\n",
    "        explode=explode,\n",
    "        shadow=False,\n",
    "        colors=colors,\n",
    "        rotatelabels=True,        # True일 때, label을 회전시켜서 출력함\n",
    "        labeldistance=1.3,        # label의 pie 차트 중심으로부터의 거리\n",
    "        pctdistance=1.2)          # 값의 pie 차트 중심으로부터의 거리\n",
    "mpl.rcParams['font.size'] = 9\n",
    "plt.title(schema_raw.Gender)\n",
    "plt.show()"
   ]
  },
  {
   "cell_type": "code",
   "execution_count": 89,
   "id": "94edca27-b757-48ed-bbe4-f4353f13ec57",
   "metadata": {},
   "outputs": [],
   "source": [
    "# 교육 수준"
   ]
  },
  {
   "cell_type": "code",
   "execution_count": 90,
   "id": "fbd0a6a1-55b5-42b1-86bc-2744d52a39ab",
   "metadata": {},
   "outputs": [
    {
     "data": {
      "text/plain": [
       "'Which of the following best describes the highest level of formal education that you’ve completed? *'"
      ]
     },
     "execution_count": 90,
     "metadata": {},
     "output_type": "execute_result"
    }
   ],
   "source": [
    "schema_raw[\"EdLevel\"]"
   ]
  },
  {
   "cell_type": "code",
   "execution_count": 91,
   "id": "f2b76bd0-5715-495a-871c-fc00ce016102",
   "metadata": {},
   "outputs": [
    {
     "data": {
      "text/plain": [
       "Bachelor’s degree (B.A., B.S., B.Eng., etc.)                                          30050\n",
       "Master’s degree (M.A., M.S., M.Eng., MBA, etc.)                                       15394\n",
       "Some college/university study without earning a degree                                 9194\n",
       "Secondary school (e.g. American high school, German Realschule or Gymnasium, etc.)     7769\n",
       "Associate degree (A.A., A.S., etc.)                                                    2221\n",
       "Other doctoral degree (Ph.D., Ed.D., etc.)                                             2152\n",
       "Primary/elementary school                                                              1767\n",
       "Something else                                                                         1222\n",
       "Professional degree (JD, MD, etc.)                                                     1110\n",
       "Name: EdLevel, dtype: int64"
      ]
     },
     "execution_count": 91,
     "metadata": {},
     "output_type": "execute_result"
    }
   ],
   "source": [
    "survey_df[\"EdLevel\"].value_counts()"
   ]
  },
  {
   "cell_type": "code",
   "execution_count": 102,
   "id": "b4410b43-00d7-4361-9346-34f996b089e3",
   "metadata": {},
   "outputs": [
    {
     "data": {
      "image/png": "[encoded data removed]",
      "text/plain": [
       "<Figure size 900x500 with 1 Axes>"
      ]
     },
     "metadata": {},
     "output_type": "display_data"
    }
   ],
   "source": [
    "sns.countplot(y=survey_df[\"EdLevel\"], palette='viridis')\n",
    "plt.title(schema_raw.EdLevel)\n",
    "plt.xticks(rotation=45)\n",
    "plt.ylabel(None)\n",
    "\n",
    "plt.show()"
   ]
  },
  {
   "cell_type": "code",
   "execution_count": 103,
   "id": "babae1f0-a57a-4c0f-8161-7f04b3a49424",
   "metadata": {},
   "outputs": [],
   "source": [
    "# 그래프 해석\n",
    "# 응답자의 상당수가 학사 학위 혹은 석사 학위 소지자임\n",
    "# stack overflow를 사용하는 사람은 어느 정도 대학 교육을 받은 것으로 보임"
   ]
  },
  {
   "cell_type": "code",
   "execution_count": 128,
   "id": "dc59110c-2afa-41f0-9b6b-c7aef5d506dc",
   "metadata": {},
   "outputs": [
    {
     "data": {
      "text/plain": [
       "Bachelor’s degree (B.A., B.S., B.Eng., etc.)                                          42.396196\n",
       "Master’s degree (M.A., M.S., M.Eng., MBA, etc.)                                       21.718704\n",
       "Some college/university study without earning a degree                                12.971402\n",
       "Secondary school (e.g. American high school, German Realschule or Gymnasium, etc.)    10.960933\n",
       "Associate degree (A.A., A.S., etc.)                                                    3.133509\n",
       "Other doctoral degree (Ph.D., Ed.D., etc.)                                             3.036160\n",
       "Primary/elementary school                                                              2.492981\n",
       "Something else                                                                         1.724065\n",
       "Professional degree (JD, MD, etc.)                                                     1.566049\n",
       "Name: EdLevel, dtype: float64"
      ]
     },
     "execution_count": 128,
     "metadata": {},
     "output_type": "execute_result"
    }
   ],
   "source": [
    "EdLevel_pct = survey_df[\"EdLevel\"].value_counts(True) * 100\n",
    "EdLevel_pct"
   ]
  },
  {
   "cell_type": "code",
   "execution_count": 129,
   "id": "c169bfdd-9eb8-47ec-8299-6985dec425a3",
   "metadata": {},
   "outputs": [
    {
     "data": {
      "image/png": "[encoded data removed]",
      "text/plain": [
       "<Figure size 900x500 with 1 Axes>"
      ]
     },
     "metadata": {},
     "output_type": "display_data"
    }
   ],
   "source": [
    "# 위 그래프를 x축이 비율을 나타내도록 변경\n",
    "\n",
    "sns.barplot(x=EdLevel_pct, \n",
    "            y=EdLevel_pct.index,\n",
    "            palette='viridis', \n",
    ")\n",
    "plt.title(schema_raw.EdLevel)\n",
    "plt.ylabel(None)\n",
    "plt.xlabel('Percentage')\n",
    "plt.show()"
   ]
  },
  {
   "cell_type": "code",
   "execution_count": 130,
   "id": "2d7b04f1-2e63-4daa-b376-944595362a1c",
   "metadata": {},
   "outputs": [],
   "source": [
    "# 고용 형태"
   ]
  },
  {
   "cell_type": "code",
   "execution_count": 131,
   "id": "195bfbc5-9fc9-4468-ba4b-0a25c0e72302",
   "metadata": {},
   "outputs": [
    {
     "data": {
      "text/plain": [
       "'Which of the following best describes your current employment status?'"
      ]
     },
     "execution_count": 131,
     "metadata": {},
     "output_type": "execute_result"
    }
   ],
   "source": [
    "schema_raw[\"Employment\"]"
   ]
  },
  {
   "cell_type": "code",
   "execution_count": 132,
   "id": "f3f934cb-0ce9-4c7c-a818-b382cbba9aac",
   "metadata": {},
   "outputs": [
    {
     "data": {
      "text/plain": [
       "Employed, full-time                                                                                               42644\n",
       "Student, full-time                                                                                                 6663\n",
       "Independent contractor, freelancer, or self-employed                                                               4941\n",
       "Employed, full-time;Independent contractor, freelancer, or self-employed                                           3456\n",
       "Not employed, but looking for work                                                                                 1810\n",
       "                                                                                                                  ...  \n",
       "Student, part-time;Independent contractor, freelancer, or self-employed;Retired                                       1\n",
       "Employed, full-time;Student, full-time;Student, part-time;Independent contractor, freelancer, or self-employed        1\n",
       "Employed, part-time;Not employed, and not looking for work                                                            1\n",
       "Employed, full-time;Student, full-time;Retired                                                                        1\n",
       "Student, part-time;Independent contractor, freelancer, or self-employed;Employed, part-time;Retired                   1\n",
       "Name: Employment, Length: 100, dtype: int64"
      ]
     },
     "execution_count": 132,
     "metadata": {},
     "output_type": "execute_result"
    }
   ],
   "source": [
    "survey_df[\"Employment\"].value_counts()"
   ]
  },
  {
   "cell_type": "code",
   "execution_count": 134,
   "id": "3ee2a27c-072c-4a64-ac93-bdd16455cbea",
   "metadata": {},
   "outputs": [
    {
     "data": {
      "text/plain": [
       "Text(0.5, 0, 'Percentage')"
      ]
     },
     "execution_count": 134,
     "metadata": {},
     "output_type": "execute_result"
    },
    {
     "data": {
      "image/png": "[encoded data removed]",
      "text/plain": [
       "<Figure size 900x500 with 1 Axes>"
      ]
     },
     "metadata": {},
     "output_type": "display_data"
    }
   ],
   "source": [
    "employment = (survey_df.Employment.value_counts(True, ascending=False)*100).head(15)\n",
    "sns.barplot(x=employment, y=employment.index)\n",
    "plt.title(schema_raw.Employment)\n",
    "plt.xlabel('Percentage')"
   ]
  },
  {
   "cell_type": "code",
   "execution_count": 135,
   "id": "2f654f0a-b375-4015-8a0b-939c663b8058",
   "metadata": {},
   "outputs": [],
   "source": [
    "# 그래프 해석\n",
    "# 풀타임 고용 형태가 제일 많음\n",
    "# 약 70%인 풀타임 근무를 제외하면 약 30%가 다양한 고용 형태로 일하고 있음"
   ]
  },
  {
   "cell_type": "code",
   "execution_count": 133,
   "id": "7db2cf1f-9395-4261-944e-886c3aa80956",
   "metadata": {},
   "outputs": [
    {
     "data": {
      "text/plain": [
       "'Which of the following describes your current job? Please select all that apply.'"
      ]
     },
     "execution_count": 133,
     "metadata": {},
     "output_type": "execute_result"
    }
   ],
   "source": [
    "schema_raw.DevType"
   ]
  },
  {
   "cell_type": "code",
   "execution_count": 139,
   "id": "3221b4c6-1625-499c-927e-5cf24dce0065",
   "metadata": {},
   "outputs": [
    {
     "data": {
      "text/plain": [
       "Developer, full-stack                                                                                                                                                                                                                                                                                                                                                                                                                  7091\n",
       "Developer, back-end                                                                                                                                                                                                                                                                                                                                                                                                                    5274\n",
       "Developer, front-end                                                                                                                                                                                                                                                                                                                                                                                                                   2364\n",
       "Developer, front-end;Developer, full-stack;Developer, back-end                                                                                                                                                                                                                                                                                                                                                                         1793\n",
       "Developer, full-stack;Developer, back-end                                                                                                                                                                                                                                                                                                                                                                                              1522\n",
       "                                                                                                                                                                                                                                                                                                                                                                                                                                       ... \n",
       "Educator;Engineering manager;Developer, game or graphics                                                                                                                                                                                                                                                                                                                                                                                  1\n",
       "Data scientist or machine learning specialist;Developer, full-stack;Student;Project manager                                                                                                                                                                                                                                                                                                                                               1\n",
       "Data scientist or machine learning specialist;Engineer, data;Engineer, site reliability;Developer, full-stack;Developer, back-end;Database administrator                                                                                                                                                                                                                                                                                  1\n",
       "Developer, full-stack;Developer, back-end;Developer, desktop or enterprise applications;Engineering manager;Database administrator;DevOps specialist;Project manager;Data or business analyst;Senior Executive (C-Suite, VP, etc.)                                                                                                                                                                                                        1\n",
       "Developer, front-end;Engineer, data;Engineer, site reliability;Developer, full-stack;Developer, back-end;Developer, desktop or enterprise applications;Developer, QA or test;Student;Developer, mobile;Academic researcher;DevOps specialist;Developer, embedded applications or devices;Developer, game or graphics;Cloud infrastructure engineer;Data or business analyst;Designer;Scientist;Product manager;System administrator       1\n",
       "Name: DevType, Length: 9886, dtype: int64"
      ]
     },
     "execution_count": 139,
     "metadata": {},
     "output_type": "execute_result"
    }
   ],
   "source": [
    "# 약 10,000개의 가지수가 있는 것으로 조회됨\n",
    "survey_df.DevType.value_counts()"
   ]
  },
  {
   "cell_type": "code",
   "execution_count": 146,
   "id": "dfac3d3e-18cb-4536-b001-ca832f690667",
   "metadata": {},
   "outputs": [],
   "source": [
    "# DevType column을 제일 작은 단위의 응답 항목으로 나누어 DataFrame 형태로 만들기\n",
    "\n",
    "def split_multicolumn(col_series):\n",
    "    \n",
    "    # 반환할 DataFrame\n",
    "    result_df = col_series.to_frame()\n",
    "    \n",
    "    # 기술 스텍 목록을 담았다가 마지막 반환할 때 인덱싱으로 활용\n",
    "    options = []\n",
    "    \n",
    "    # NaN 값을 갖는 row를 제외하고 반복\n",
    "    for idx, value in col_series[col_series.notnull()].items():\n",
    "        \n",
    "        # value를 가져와 ';'를 기준으로 분리하여 각 기술 스텍 문자열 리스트를 만든다.\n",
    "        for option in value.split(';'):\n",
    "            \n",
    "            # 현재 option이 result_df.columns에 없으면 추가한다.\n",
    "            if option not in result_df.columns:\n",
    "                options.append(option)\n",
    "                result_df[option] = False\n",
    "                \n",
    "            # 파싱한 기술 스텍에 해당하는 column의 값에 True를 넣는다.\n",
    "            result_df.at[idx, option] = True\n",
    "            # result_df.loc[idx, option] = True\n",
    "            \n",
    "    return result_df[options]"
   ]
  },
  {
   "cell_type": "code",
   "execution_count": 147,
   "id": "81bad02a-11e9-4b03-8be9-45d0d28294ff",
   "metadata": {},
   "outputs": [
    {
     "data": {
      "text/plain": [
       "'Developer, front-end;Engineer, data;Engineer, site reliability;Developer, full-stack;Developer, back-end;Developer, desktop or enterprise applications;Developer, QA or test;Student;Developer, mobile;Academic researcher;DevOps specialist;Developer, embedded applications or devices;Developer, game or graphics;Cloud infrastructure engineer;Data or business analyst;Designer;Scientist;Product manager;System administrator'"
      ]
     },
     "execution_count": 147,
     "metadata": {},
     "output_type": "execute_result"
    }
   ],
   "source": [
    "survey_df[\"DevType\"].loc[73268]"
   ]
  }
 ],
 "metadata": {
  "kernelspec": {
   "display_name": "Python 3 (ipykernel)",
   "language": "python",
   "name": "python3"
  },
  "language_info": {
   "codemirror_mode": {
    "name": "ipython",
    "version": 3
   },
   "file_extension": ".py",
   "mimetype": "text/x-python",
   "name": "python",
   "nbconvert_exporter": "python",
   "pygments_lexer": "ipython3",
   "version": "3.9.13"
  }
 },
 "nbformat": 4,
 "nbformat_minor": 5
}
