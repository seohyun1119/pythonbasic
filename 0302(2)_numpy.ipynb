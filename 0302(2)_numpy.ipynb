{
 "cells": [
  {
   "cell_type": "code",
   "execution_count": 2,
   "id": "6b128a00-9b2f-4573-8cac-b256e183ab11",
   "metadata": {},
   "outputs": [],
   "source": [
    "# 난수(random number)를 발생시키는 방법\n",
    "# 기준이 되는 시작 숫자를 시드(seed)라고 함\n",
    "\n",
    "import numpy as np\n",
    "np.random.seed(0)"
   ]
  },
  {
   "cell_type": "code",
   "execution_count": 3,
   "id": "35a4028a-8790-40d6-aab3-a9482af16037",
   "metadata": {},
   "outputs": [
    {
     "data": {
      "text/plain": [
       "array([0.5488135 , 0.71518937, 0.60276338, 0.54488318, 0.4236548 ])"
      ]
     },
     "execution_count": 3,
     "metadata": {},
     "output_type": "execute_result"
    }
   ],
   "source": [
    "np.random.rand(5)"
   ]
  },
  {
   "cell_type": "code",
   "execution_count": 4,
   "id": "e242f9ca-272f-40aa-bb8c-5ca14800d58c",
   "metadata": {},
   "outputs": [
    {
     "data": {
      "text/plain": [
       "array([0.64589411, 0.43758721, 0.891773  , 0.96366276, 0.38344152,\n",
       "       0.79172504, 0.52889492, 0.56804456, 0.92559664, 0.07103606])"
      ]
     },
     "execution_count": 4,
     "metadata": {},
     "output_type": "execute_result"
    }
   ],
   "source": [
    "np.random.rand(10)"
   ]
  },
  {
   "cell_type": "code",
   "execution_count": 5,
   "id": "034a77cc-b176-42be-a5c2-01b3daea1891",
   "metadata": {},
   "outputs": [
    {
     "data": {
      "text/plain": [
       "array([0, 1, 2, 3, 4, 5, 6, 7, 8, 9])"
      ]
     },
     "execution_count": 5,
     "metadata": {},
     "output_type": "execute_result"
    }
   ],
   "source": [
    "# 순서 바꾸기\n",
    "# shuffle 함수\n",
    "# 자체 변환(in-place) 함수로 한 번 사용하면 변수의 값이 바뀜\n",
    "\n",
    "x = np.arange(10)\n",
    "x"
   ]
  },
  {
   "cell_type": "code",
   "execution_count": 6,
   "id": "e81c1920-6c5b-41cb-903d-4effb7d33094",
   "metadata": {},
   "outputs": [
    {
     "data": {
      "text/plain": [
       "array([5, 1, 8, 2, 6, 7, 0, 3, 4, 9])"
      ]
     },
     "execution_count": 6,
     "metadata": {},
     "output_type": "execute_result"
    }
   ],
   "source": [
    "np.random.shuffle(x)\n",
    "x"
   ]
  },
  {
   "cell_type": "code",
   "execution_count": 9,
   "id": "30485ca8-db8b-4cb6-9308-122eb5d628e2",
   "metadata": {},
   "outputs": [
    {
     "data": {
      "text/plain": [
       "array([1, 4, 2, 3, 0])"
      ]
     },
     "execution_count": 9,
     "metadata": {},
     "output_type": "execute_result"
    }
   ],
   "source": [
    "# 데이터 샘플링\n",
    "\n",
    "np.random.choice(5, 5, replace=False)   # shuffle 명령과 같다."
   ]
  },
  {
   "cell_type": "code",
   "execution_count": 10,
   "id": "4adf9dc4-11eb-4c4e-9e77-77ff0f627bd4",
   "metadata": {},
   "outputs": [
    {
     "data": {
      "text/plain": [
       "array([0, 1, 4])"
      ]
     },
     "execution_count": 10,
     "metadata": {},
     "output_type": "execute_result"
    }
   ],
   "source": [
    "np.random.choice(5, 3, replace=False)   # 3개만 선택"
   ]
  },
  {
   "cell_type": "code",
   "execution_count": 11,
   "id": "3716def0-14d8-4963-acbd-f261332607cb",
   "metadata": {},
   "outputs": [
    {
     "data": {
      "text/plain": [
       "array([4, 2, 0, 0, 4, 0, 4, 1, 4, 1])"
      ]
     },
     "execution_count": 11,
     "metadata": {},
     "output_type": "execute_result"
    }
   ],
   "source": [
    "np.random.choice(5,10)   # 반복해서 10개 선택"
   ]
  },
  {
   "cell_type": "code",
   "execution_count": 13,
   "id": "83725d84-a174-4bbe-bcfb-7c073290678a",
   "metadata": {},
   "outputs": [
    {
     "data": {
      "text/plain": [
       "array([3, 3, 3, 0, 3, 3, 2, 2, 3, 3])"
      ]
     },
     "execution_count": 13,
     "metadata": {},
     "output_type": "execute_result"
    }
   ],
   "source": [
    "np.random.choice(5, 10, p=[0.1, 0, 0.3, 0.6, 0])   # 선택 확률을 다르게 해서 10개 선택"
   ]
  },
  {
   "cell_type": "code",
   "execution_count": 15,
   "id": "cfb96054-a6f8-40ca-b124-d570de13ac74",
   "metadata": {},
   "outputs": [
    {
     "data": {
      "text/plain": [
       "array([[0.6235101 , 0.33800761, 0.67475232, 0.31720174, 0.77834548],\n",
       "       [0.94957105, 0.66252687, 0.01357164, 0.6228461 , 0.67365963],\n",
       "       [0.971945  , 0.87819347, 0.50962438, 0.05571469, 0.45115921]])"
      ]
     },
     "execution_count": 15,
     "metadata": {},
     "output_type": "execute_result"
    }
   ],
   "source": [
    "# rand: 0부터 1사이의 균일 분포\n",
    "np.random.rand(3, 5)"
   ]
  },
  {
   "cell_type": "code",
   "execution_count": 16,
   "id": "21f292f7-e8a2-4cf1-809d-7981bc1518cc",
   "metadata": {},
   "outputs": [
    {
     "data": {
      "text/plain": [
       "array([[-0.04411241, -0.36326702, -0.01234481,  0.04212149,  1.95929589],\n",
       "       [-0.1984257 ,  0.33053441, -1.43582841,  0.02752832,  1.12060466],\n",
       "       [-0.22403878, -0.42018339,  0.99982969,  0.43103415, -0.65091287]])"
      ]
     },
     "execution_count": 16,
     "metadata": {},
     "output_type": "execute_result"
    }
   ],
   "source": [
    "# randn: 표준 정규 분포\n",
    "# 기댓값(mean)이 0이고 표준편차가 1인 표준 정규 분포(standard normal distribution)를 따르는 난수를 생성\n",
    "np.random.randn(3, 5)"
   ]
  },
  {
   "cell_type": "code",
   "execution_count": 17,
   "id": "882c6537-bf35-4f66-8808-37c425f3e09c",
   "metadata": {},
   "outputs": [
    {
     "data": {
      "text/plain": [
       "array([[13, 18, 18, 18, 12],\n",
       "       [13, 12, 10, 18, 18],\n",
       "       [13, 18, 12, 18, 14]])"
      ]
     },
     "execution_count": 17,
     "metadata": {},
     "output_type": "execute_result"
    }
   ],
   "source": [
    "# randint: 균일 분포의 정수 난수\n",
    "# numpy.random.randint(low, high=None, size=None)\n",
    "np.random.randint(10, 20, size=(3, 5))"
   ]
  },
  {
   "cell_type": "code",
   "execution_count": 35,
   "id": "24028ba1-18b9-4e52-b2d7-115033341bf4",
   "metadata": {},
   "outputs": [
    {
     "data": {
      "text/plain": [
       "0.56"
      ]
     },
     "execution_count": 35,
     "metadata": {},
     "output_type": "execute_result"
    }
   ],
   "source": [
    "# 연습 문제\n",
    "# 동전을 100번 던진 결과\n",
    "# 앞면을 숫자 1, 뒷면을 숫자 0으로 가정\n",
    "# 앞면이 나올 확률\n",
    "\n",
    "np.random.seed(0)\n",
    "res = np.random.randint(0, 2, 100)\n",
    "res.sum() / len(res)    # np.mean(res)"
   ]
  },
  {
   "cell_type": "code",
   "execution_count": 36,
   "id": "debea4e1-86bb-41fa-b617-0ced3cf56044",
   "metadata": {},
   "outputs": [
    {
     "data": {
      "text/plain": [
       "array([ 2, 11, 34])"
      ]
     },
     "execution_count": 36,
     "metadata": {},
     "output_type": "execute_result"
    }
   ],
   "source": [
    "# 정수 데이터 카운팅\n",
    "# unique() 함수는 데이터에서 중복된 값을 제거하고 중복되지 않는 값의 리스트를 출력\n",
    "# return_counts 인수를 True로 설정하면 각 값의 데이터 개수도 출력\n",
    "\n",
    "np.unique([11, 11, 2, 2, 34, 34])"
   ]
  },
  {
   "cell_type": "code",
   "execution_count": 37,
   "id": "279d6da2-d9b7-4eec-b50d-531e787173fd",
   "metadata": {},
   "outputs": [],
   "source": [
    "a = np.array(['a', 'b', 'b', 'c', 'a'])\n",
    "index, count = np.unique(a, return_counts=True)"
   ]
  },
  {
   "cell_type": "code",
   "execution_count": 38,
   "id": "e9910255-7694-4ed5-985a-34b9368b2ed3",
   "metadata": {},
   "outputs": [
    {
     "data": {
      "text/plain": [
       "array(['a', 'b', 'c'], dtype='<U1')"
      ]
     },
     "execution_count": 38,
     "metadata": {},
     "output_type": "execute_result"
    }
   ],
   "source": [
    "index"
   ]
  },
  {
   "cell_type": "code",
   "execution_count": 39,
   "id": "6db0cfa0-8a07-43ab-88d7-27dbb736e07e",
   "metadata": {},
   "outputs": [
    {
     "data": {
      "text/plain": [
       "array([2, 2, 1], dtype=int64)"
      ]
     },
     "execution_count": 39,
     "metadata": {},
     "output_type": "execute_result"
    }
   ],
   "source": [
    "count"
   ]
  },
  {
   "cell_type": "code",
   "execution_count": 47,
   "id": "cc76b878-3e03-4762-9301-8d8ccfabdc92",
   "metadata": {},
   "outputs": [
    {
     "data": {
      "text/plain": [
       "array([0, 2, 3, 1, 0, 0], dtype=int64)"
      ]
     },
     "execution_count": 47,
     "metadata": {},
     "output_type": "execute_result"
    }
   ],
   "source": [
    "# 특정 범위안의 수인 경우에는 bincount 함수에 minlength 인수를 설정\n",
    "# bincount 함수는 0부터 minlength - 1까지의 숫자에 대해 각각 카운트\n",
    "np.bincount([1, 1, 2, 2, 2, 3], minlength=6)"
   ]
  }
 ],
 "metadata": {
  "kernelspec": {
   "display_name": "Python 3 (ipykernel)",
   "language": "python",
   "name": "python3"
  },
  "language_info": {
   "codemirror_mode": {
    "name": "ipython",
    "version": 3
   },
   "file_extension": ".py",
   "mimetype": "text/x-python",
   "name": "python",
   "nbconvert_exporter": "python",
   "pygments_lexer": "ipython3",
   "version": "3.9.13"
  }
 },
 "nbformat": 4,
 "nbformat_minor": 5
}
